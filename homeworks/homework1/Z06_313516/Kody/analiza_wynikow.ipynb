{
 "cells": [
  {
   "cell_type": "code",
   "execution_count": 136,
   "metadata": {},
   "outputs": [],
   "source": [
    "import pandas as pd\n",
    "import os\n"
   ]
  },
  {
   "cell_type": "markdown",
   "metadata": {},
   "source": [
    "Wczytanie wyników "
   ]
  },
  {
   "cell_type": "code",
   "execution_count": 2,
   "metadata": {},
   "outputs": [],
   "source": [
    "bs_abalone_rfr = pd.read_csv(os.path.join(os.pardir,'Wyniki', 'bs_abalone_rfr.csv'), index_col=0)\n",
    "bs_abalone_gbr = pd.read_csv(os.path.join(os.pardir,'Wyniki', 'bs_abalone_gbr.csv'), index_col=0)\n",
    "bs_abalone_en = pd.read_csv(os.path.join(os.pardir,'Wyniki', 'bs_abalone_en.csv'), index_col=0)\n",
    "bs_autompg_rfr = pd.read_csv(os.path.join(os.pardir,'Wyniki', 'bs_autompg_rfr.csv'), index_col=0)\n",
    "bs_autompg_gbr = pd.read_csv(os.path.join(os.pardir,'Wyniki', 'bs_autompg_gbr.csv'), index_col=0)\n",
    "bs_autompg_en = pd.read_csv(os.path.join(os.pardir,'Wyniki', 'bs_autompg_en.csv'), index_col=0)\n",
    "bs_insurance_rfr = pd.read_csv(os.path.join(os.pardir,'Wyniki', 'bs_insurance_rfr.csv'), index_col=0)\n",
    "bs_insurance_gbr = pd.read_csv(os.path.join(os.pardir,'Wyniki', 'bs_insurance_gbr.csv'), index_col=0)\n",
    "bs_insurance_en = pd.read_csv(os.path.join(os.pardir,'Wyniki', 'bs_insurance_en.csv'), index_col=0)\n",
    "bs_concrete_rfr = pd.read_csv(os.path.join(os.pardir,'Wyniki', 'bs_concrete_rfr.csv'), index_col=0)\n",
    "bs_concrete_gbr = pd.read_csv(os.path.join(os.pardir,'Wyniki', 'bs_concrete_gbr.csv'), index_col=0)\n",
    "bs_concrete_en = pd.read_csv(os.path.join(os.pardir,'Wyniki', 'bs_concrete_en.csv'), index_col=0)"
   ]
  },
  {
   "cell_type": "code",
   "execution_count": 3,
   "metadata": {},
   "outputs": [],
   "source": [
    "rs_abalone_rfr = pd.read_csv(os.path.join(os.pardir,'Wyniki', 'rs_abalone_rfr.csv'), index_col=0)\n",
    "rs_abalone_gbr = pd.read_csv(os.path.join(os.pardir,'Wyniki', 'rs_abalone_gbr.csv'), index_col=0)\n",
    "rs_abalone_en = pd.read_csv(os.path.join(os.pardir,'Wyniki', 'rs_abalone_en.csv'), index_col=0)\n",
    "rs_autompg_rfr = pd.read_csv(os.path.join(os.pardir,'Wyniki', 'rs_autompg_rfr.csv'), index_col=0)\n",
    "rs_autompg_gbr = pd.read_csv(os.path.join(os.pardir,'Wyniki', 'rs_autompg_gbr.csv'), index_col=0)\n",
    "rs_autompg_en = pd.read_csv(os.path.join(os.pardir,'Wyniki', 'rs_autompg_en.csv'), index_col=0)\n",
    "rs_insurance_rfr = pd.read_csv(os.path.join(os.pardir,'Wyniki', 'rs_insurance_rfr.csv'), index_col=0)\n",
    "rs_insurance_gbr = pd.read_csv(os.path.join(os.pardir,'Wyniki', 'rs_insurance_gbr.csv'), index_col=0)\n",
    "rs_insurance_en = pd.read_csv(os.path.join(os.pardir,'Wyniki', 'rs_insurance_en.csv'), index_col=0)\n",
    "rs_concrete_rfr = pd.read_csv(os.path.join(os.pardir,'Wyniki', 'rs_concrete_rfr.csv'), index_col=0)\n",
    "rs_concrete_gbr = pd.read_csv(os.path.join(os.pardir,'Wyniki', 'rs_concrete_gbr.csv'), index_col=0)\n",
    "rs_concrete_en = pd.read_csv(os.path.join(os.pardir,'Wyniki', 'rs_concrete_en.csv'), index_col=0)"
   ]
  },
  {
   "cell_type": "markdown",
   "metadata": {},
   "source": [
    "Wyznaczenie najlepszych hiperparametrów dla modeli dla poszczególnych zbiorów"
   ]
  },
  {
   "cell_type": "code",
   "execution_count": 4,
   "metadata": {},
   "outputs": [],
   "source": [
    "def best_hparams_on_dataset(df, name):\n",
    "    best_hparams = df[df['rank_test_score']==1][['params']]\n",
    "    best_hparams = best_hparams.iloc[0,0]\n",
    "    best_hparams = eval(best_hparams)\n",
    "    print(name + ':')\n",
    "    for key, value in best_hparams.items():\n",
    "        print('    '+key + ': ' + str(value))\n",
    "    "
   ]
  },
  {
   "cell_type": "code",
   "execution_count": 5,
   "metadata": {},
   "outputs": [
    {
     "name": "stdout",
     "output_type": "stream",
     "text": [
      "RANDOM SEARCH:\n",
      "Random Forest Regressor:\n",
      "rs_abalone_rfr:\n",
      "    max_depth: 8\n",
      "    min_samples_leaf: 3\n",
      "    min_samples_split: 2\n",
      "    n_estimators: 967\n",
      "rs_autompg_rfr:\n",
      "    max_depth: 69\n",
      "    min_samples_leaf: 1\n",
      "    min_samples_split: 3\n",
      "    n_estimators: 138\n",
      "rs_insurance_rfr:\n",
      "    max_depth: 4\n",
      "    min_samples_leaf: 4\n",
      "    min_samples_split: 5\n",
      "    n_estimators: 824\n",
      "rs_concrete_rfr:\n",
      "    max_depth: 15\n",
      "    min_samples_leaf: 1\n",
      "    min_samples_split: 2\n",
      "    n_estimators: 90\n",
      "Gradient Boosting Regressor:\n",
      "rs_abalone_gbr:\n",
      "    learning_rate: 0.17035012265072574\n",
      "    max_depth: 3\n",
      "    min_samples_leaf: 3\n",
      "    min_samples_split: 9\n",
      "    n_estimators: 22\n",
      "    subsample: 0.4805725038245835\n",
      "rs_autompg_gbr:\n",
      "    learning_rate: 0.15564273724360825\n",
      "    max_depth: 48\n",
      "    min_samples_leaf: 3\n",
      "    min_samples_split: 7\n",
      "    n_estimators: 527\n",
      "    subsample: 0.31751707352085806\n",
      "rs_insurance_gbr:\n",
      "    learning_rate: 0.17035012265072574\n",
      "    max_depth: 3\n",
      "    min_samples_leaf: 3\n",
      "    min_samples_split: 9\n",
      "    n_estimators: 22\n",
      "    subsample: 0.4805725038245835\n",
      "rs_concrete_gbr:\n",
      "    learning_rate: 0.12286380550744326\n",
      "    max_depth: 1\n",
      "    min_samples_leaf: 4\n",
      "    min_samples_split: 5\n",
      "    n_estimators: 412\n",
      "    subsample: 0.49024185347812355\n",
      "Elastic Net:\n",
      "rs_abalone_en:\n",
      "    alpha: 0.002688064574320692\n",
      "    l1_ratio: 0.98834541928282\n",
      "rs_autompg_en:\n",
      "    alpha: 0.19100695537042112\n",
      "    l1_ratio: 0.9674943068064185\n",
      "rs_insurance_en:\n",
      "    alpha: 0.7049588304513622\n",
      "    l1_ratio: 0.9953584820340174\n",
      "rs_concrete_en:\n",
      "    alpha: 0.007737514125903955\n",
      "    l1_ratio: 0.08482227744523363\n"
     ]
    }
   ],
   "source": [
    "print('RANDOM SEARCH:')\n",
    "print('Random Forest Regressor:')\n",
    "best_hparams_on_dataset(rs_abalone_rfr, 'rs_abalone_rfr')\n",
    "best_hparams_on_dataset(rs_autompg_rfr, 'rs_autompg_rfr')\n",
    "best_hparams_on_dataset(rs_insurance_rfr, 'rs_insurance_rfr')\n",
    "best_hparams_on_dataset(rs_concrete_rfr, 'rs_concrete_rfr')\n",
    "print('Gradient Boosting Regressor:')\n",
    "best_hparams_on_dataset(rs_abalone_gbr, 'rs_abalone_gbr')\n",
    "best_hparams_on_dataset(rs_autompg_gbr, 'rs_autompg_gbr')\n",
    "best_hparams_on_dataset(rs_insurance_gbr, 'rs_insurance_gbr')\n",
    "best_hparams_on_dataset(rs_concrete_gbr, 'rs_concrete_gbr')\n",
    "print('Elastic Net:')\n",
    "best_hparams_on_dataset(rs_abalone_en, 'rs_abalone_en')\n",
    "best_hparams_on_dataset(rs_autompg_en, 'rs_autompg_en')\n",
    "best_hparams_on_dataset(rs_insurance_en, 'rs_insurance_en')\n",
    "best_hparams_on_dataset(rs_concrete_en, 'rs_concrete_en')\n"
   ]
  },
  {
   "cell_type": "code",
   "execution_count": 90,
   "metadata": {},
   "outputs": [
    {
     "name": "stdout",
     "output_type": "stream",
     "text": [
      "BAYESIAN SEARCH:\n",
      "Random Forest Regressor:\n",
      "bs_abalone_rfr:\n",
      "    max_depth: 27\n",
      "    min_samples_leaf: 5\n",
      "    min_samples_split: 9\n",
      "    n_estimators: 441\n",
      "bs_autompg_rfr:\n",
      "    max_depth: 96\n",
      "    min_samples_leaf: 2\n",
      "    min_samples_split: 2\n",
      "    n_estimators: 941\n",
      "bs_insurance_rfr:\n",
      "    max_depth: 5\n",
      "    min_samples_leaf: 4\n",
      "    min_samples_split: 6\n",
      "    n_estimators: 817\n",
      "bs_concrete_rfr:\n",
      "    max_depth: 63\n",
      "    min_samples_leaf: 1\n",
      "    min_samples_split: 2\n",
      "    n_estimators: 150\n",
      "Gradient Boosting Regressor:\n",
      "bs_abalone_gbr:\n",
      "    learning_rate: 0.01\n",
      "    max_depth: 62\n",
      "    min_samples_leaf: 5\n",
      "    min_samples_split: 5\n",
      "    n_estimators: 393\n",
      "    subsample: 0.1\n",
      "bs_autompg_gbr:\n",
      "    learning_rate: 0.01\n",
      "    max_depth: 22\n",
      "    min_samples_leaf: 1\n",
      "    min_samples_split: 10\n",
      "    n_estimators: 832\n",
      "    subsample: 0.3806851236402039\n",
      "bs_insurance_gbr:\n",
      "    learning_rate: 0.01\n",
      "    max_depth: 51\n",
      "    min_samples_leaf: 5\n",
      "    min_samples_split: 10\n",
      "    n_estimators: 317\n",
      "    subsample: 0.1970354133950466\n",
      "bs_concrete_gbr:\n",
      "    learning_rate: 0.24757580913333638\n",
      "    max_depth: 1\n",
      "    min_samples_leaf: 5\n",
      "    min_samples_split: 10\n",
      "    n_estimators: 507\n",
      "    subsample: 0.7068926689302095\n",
      "Elastic Net:\n",
      "bs_abalone_en:\n",
      "    alpha: 0.000504231005763134\n",
      "    l1_ratio: 0.016861847763449792\n",
      "bs_autompg_en:\n",
      "    alpha: 0.0\n",
      "    l1_ratio: 0.0\n",
      "bs_insurance_en:\n",
      "    alpha: 0.08271170159170595\n",
      "    l1_ratio: 0.9581612362895772\n",
      "bs_concrete_en:\n",
      "    alpha: 0.13089350867867064\n",
      "    l1_ratio: 1.0\n"
     ]
    }
   ],
   "source": [
    "print('BAYESIAN SEARCH:')\n",
    "print('Random Forest Regressor:')\n",
    "best_hparams_on_dataset(bs_abalone_rfr, 'bs_abalone_rfr')\n",
    "best_hparams_on_dataset(bs_autompg_rfr, 'bs_autompg_rfr')\n",
    "best_hparams_on_dataset(bs_insurance_rfr, 'bs_insurance_rfr')\n",
    "best_hparams_on_dataset(bs_concrete_rfr, 'bs_concrete_rfr')\n",
    "print('Gradient Boosting Regressor:')\n",
    "best_hparams_on_dataset(bs_abalone_gbr, 'bs_abalone_gbr')\n",
    "best_hparams_on_dataset(bs_autompg_gbr, 'bs_autompg_gbr')\n",
    "best_hparams_on_dataset(bs_insurance_gbr, 'bs_insurance_gbr')\n",
    "best_hparams_on_dataset(bs_concrete_gbr, 'bs_concrete_gbr')\n",
    "print('Elastic Net:')\n",
    "best_hparams_on_dataset(bs_abalone_en, 'bs_abalone_en')\n",
    "best_hparams_on_dataset(bs_autompg_en, 'bs_autompg_en')\n",
    "best_hparams_on_dataset(bs_insurance_en, 'bs_insurance_en')\n",
    "best_hparams_on_dataset(bs_concrete_en, 'bs_concrete_en')"
   ]
  },
  {
   "cell_type": "markdown",
   "metadata": {},
   "source": [
    "Wyznaczenie najlepszych hiperparametrów (deafult) dla modeli"
   ]
  },
  {
   "cell_type": "code",
   "execution_count": 36,
   "metadata": {},
   "outputs": [],
   "source": [
    "# Łączenie wyników\n",
    "rs_rfr = pd.concat([rs_abalone_rfr, rs_autompg_rfr, rs_insurance_rfr, rs_concrete_rfr],axis=1)\n",
    "rs_rfr = rs_rfr.iloc[:,[8,12,14,27,29,42,44,57,59]]\n",
    "rs_rfr.columns = ['params','abalone_score','abalone_rank','autompg_score','autompg_rank','insurance_score','insurance_rank','concrete_score','concrete_rank']\n",
    "\n",
    "rs_gbr = pd.concat([rs_abalone_gbr, rs_autompg_gbr, rs_insurance_gbr, rs_concrete_gbr],axis=1)\n",
    "rs_gbr = rs_gbr.iloc[:,[10,14,16,31,33,48,50,65,67]]\n",
    "rs_gbr.columns = ['params','abalone_score','abalone_rank','autompg_score','autompg_rank','insurance_score','insurance_rank','concrete_score','concrete_rank']\n",
    "\n",
    "rs_en = pd.concat([rs_abalone_en, rs_autompg_en, rs_insurance_en, rs_concrete_en],axis=1)\n",
    "rs_en = rs_en.iloc[:,[6,10,12,23,25,36,38,49,51]]\n",
    "rs_en.columns = ['params','abalone_score','abalone_rank','autompg_score','autompg_rank','insurance_score','insurance_rank','concrete_score','concrete_rank']\n"
   ]
  },
  {
   "cell_type": "code",
   "execution_count": 37,
   "metadata": {},
   "outputs": [],
   "source": [
    "# Średni wynik\n",
    "rs_rfr['mean_score'] = rs_rfr.iloc[:,[1,3,5,7]].mean(axis=1)\n",
    "rs_gbr['mean_score'] = rs_gbr.iloc[:,[1,3,5,7]].mean(axis=1)\n",
    "rs_en['mean_score'] = rs_en.iloc[:,[1,3,5,7]].mean(axis=1)"
   ]
  },
  {
   "cell_type": "code",
   "execution_count": 45,
   "metadata": {},
   "outputs": [],
   "source": [
    "# Rangi\n",
    "rs_rfr['rank'] = rs_rfr['mean_score'].rank(ascending=False)\n",
    "rs_gbr['rank'] = rs_gbr['mean_score'].rank(ascending=False)\n",
    "rs_en['rank'] = rs_en['mean_score'].rank(ascending=False)"
   ]
  },
  {
   "cell_type": "code",
   "execution_count": 46,
   "metadata": {},
   "outputs": [],
   "source": [
    "rs_rfr = rs_rfr.sort_values(by='rank')\n",
    "rs_gbr = rs_gbr.sort_values(by='rank')\n",
    "rs_en = rs_en.sort_values(by='rank')"
   ]
  },
  {
   "cell_type": "code",
   "execution_count": 52,
   "metadata": {},
   "outputs": [],
   "source": [
    "rfr_best_hparams = eval(rs_rfr.iloc[0,0])\n",
    "gbr_best_hparams = eval(rs_gbr.iloc[0,0])\n",
    "en_best_hparams = eval(rs_en.iloc[0,0])"
   ]
  },
  {
   "cell_type": "code",
   "execution_count": 53,
   "metadata": {},
   "outputs": [
    {
     "name": "stdout",
     "output_type": "stream",
     "text": [
      "Random forest regressor:\n",
      "    max_depth: 15\n",
      "    min_samples_leaf: 1\n",
      "    min_samples_split: 2\n",
      "    n_estimators: 90\n",
      "Gradient boosting regressor:\n",
      "    learning_rate: 0.011024341180212019\n",
      "    max_depth: 65\n",
      "    min_samples_leaf: 2\n",
      "    min_samples_split: 9\n",
      "    n_estimators: 839\n",
      "    subsample: 0.27852912012404724\n",
      "Elastic net:\n",
      "    alpha: 0.002688064574320692\n",
      "    l1_ratio: 0.98834541928282\n"
     ]
    }
   ],
   "source": [
    "print('Random forest regressor:')\n",
    "for key, value in rfr_best_hparams.items():\n",
    "    print('    '+key + ': ' + str(value))\n",
    "print('Gradient boosting regressor:')\n",
    "for key, value in gbr_best_hparams.items():\n",
    "    print('    '+key + ': ' + str(value))\n",
    "print('Elastic net:')\n",
    "for key, value in en_best_hparams.items():\n",
    "    print('    '+key + ': ' + str(value))\n"
   ]
  },
  {
   "cell_type": "markdown",
   "metadata": {},
   "source": [
    "Wyznaczanie tunowalności algorytmów"
   ]
  },
  {
   "cell_type": "code",
   "execution_count": 122,
   "metadata": {},
   "outputs": [],
   "source": [
    "def tunabilty_per_dataset(default, scores):\n",
    "    return scores.loc[scores['params']==default,'mean_test_score'].iloc[0] - scores.loc[scores['rank_test_score']==1,'mean_test_score'].iloc[0]"
   ]
  },
  {
   "cell_type": "code",
   "execution_count": 123,
   "metadata": {},
   "outputs": [],
   "source": [
    "rfr_default = rs_rfr.iloc[0,0]\n",
    "gbr_default = rs_gbr.iloc[0,0]\n",
    "en_default = rs_en.iloc[0,0]"
   ]
  },
  {
   "cell_type": "code",
   "execution_count": 127,
   "metadata": {},
   "outputs": [],
   "source": [
    "# Random search\n",
    "tun_rs_rfr_abalone = tunabilty_per_dataset(rfr_default, rs_abalone_rfr)\n",
    "tun_rs_rfr_autompg = tunabilty_per_dataset(rfr_default, rs_autompg_rfr)\n",
    "tun_rs_rfr_insurance = tunabilty_per_dataset(rfr_default, rs_insurance_rfr)\n",
    "tun_rs_rfr_concrete = tunabilty_per_dataset(rfr_default, rs_concrete_rfr)\n",
    "tun_rs_gbr_abalone = tunabilty_per_dataset(gbr_default, rs_abalone_gbr)\n",
    "tun_rs_gbr_autompg = tunabilty_per_dataset(gbr_default, rs_autompg_gbr)\n",
    "tun_rs_gbr_insurance = tunabilty_per_dataset(gbr_default, rs_insurance_gbr)\n",
    "tun_rs_gbr_concrete = tunabilty_per_dataset(gbr_default, rs_concrete_gbr)\n",
    "tun_rs_en_abalone = tunabilty_per_dataset(en_default, rs_abalone_en)\n",
    "tun_rs_en_autompg = tunabilty_per_dataset(en_default, rs_autompg_en)\n",
    "tun_rs_en_insurance = tunabilty_per_dataset(en_default, rs_insurance_en)\n",
    "tun_rs_en_concrete = tunabilty_per_dataset(en_default, rs_concrete_en)"
   ]
  },
  {
   "cell_type": "code",
   "execution_count": 129,
   "metadata": {},
   "outputs": [],
   "source": [
    "rs_tunabilities = pd.DataFrame({'rfr':[tun_rs_rfr_abalone, tun_rs_rfr_autompg, tun_rs_rfr_insurance, tun_rs_rfr_concrete],'gbr':[tun_rs_gbr_abalone, tun_rs_gbr_autompg, tun_rs_gbr_insurance, tun_rs_gbr_concrete],'en':[tun_rs_en_abalone, tun_rs_en_autompg, tun_rs_en_insurance, tun_rs_en_concrete]}, index=['abalone','autompg','insurance','concrete'])"
   ]
  },
  {
   "cell_type": "code",
   "execution_count": 131,
   "metadata": {},
   "outputs": [],
   "source": [
    "rs_tunabilities.to_csv(os.path.join(os.pardir,'Wyniki', 'rs_tunabilities.csv'))"
   ]
  },
  {
   "cell_type": "code",
   "execution_count": 132,
   "metadata": {},
   "outputs": [],
   "source": [
    "def bs_tunabilty_per_dataset(default, rs_scores, bs_scores):\n",
    "    return rs_scores.loc[rs_scores['params']==default,'mean_test_score'].iloc[0] - bs_scores.loc[bs_scores['rank_test_score']==1,'mean_test_score'].iloc[0]"
   ]
  },
  {
   "cell_type": "code",
   "execution_count": 133,
   "metadata": {},
   "outputs": [],
   "source": [
    "# Bayesian search\n",
    "tun_bs_rfr_abalone = bs_tunabilty_per_dataset(rfr_default, rs_abalone_rfr, bs_abalone_rfr)\n",
    "tun_bs_rfr_autompg = bs_tunabilty_per_dataset(rfr_default, rs_autompg_rfr, bs_autompg_rfr)\n",
    "tun_bs_rfr_insurance = bs_tunabilty_per_dataset(rfr_default, rs_insurance_rfr, bs_insurance_rfr)\n",
    "tun_bs_rfr_concrete = bs_tunabilty_per_dataset(rfr_default, rs_concrete_rfr, bs_concrete_rfr)\n",
    "tun_bs_gbr_abalone = bs_tunabilty_per_dataset(gbr_default, rs_abalone_gbr, bs_abalone_gbr)\n",
    "tun_bs_gbr_autompg = bs_tunabilty_per_dataset(gbr_default, rs_autompg_gbr, bs_autompg_gbr)\n",
    "tun_bs_gbr_insurance = bs_tunabilty_per_dataset(gbr_default, rs_insurance_gbr, bs_insurance_gbr)\n",
    "tun_bs_gbr_concrete = bs_tunabilty_per_dataset(gbr_default, rs_concrete_gbr, bs_concrete_gbr)\n",
    "tun_bs_en_abalone = bs_tunabilty_per_dataset(en_default, rs_abalone_en, bs_abalone_en)\n",
    "tun_bs_en_autompg = bs_tunabilty_per_dataset(en_default, rs_autompg_en, bs_autompg_en)\n",
    "tun_bs_en_insurance = bs_tunabilty_per_dataset(en_default, rs_insurance_en, bs_insurance_en)\n",
    "tun_bs_en_concrete = bs_tunabilty_per_dataset(en_default, rs_concrete_en, bs_concrete_en)"
   ]
  },
  {
   "cell_type": "code",
   "execution_count": 134,
   "metadata": {},
   "outputs": [],
   "source": [
    "bs_tunabilities = pd.DataFrame({'rfr':[tun_bs_rfr_abalone, tun_bs_rfr_autompg, tun_bs_rfr_insurance, tun_bs_rfr_concrete],'gbr':[tun_bs_gbr_abalone, tun_bs_gbr_autompg, tun_bs_gbr_insurance, tun_bs_gbr_concrete],'en':[tun_bs_en_abalone, tun_bs_en_autompg, tun_bs_en_insurance, tun_bs_en_concrete]}, index=['abalone','autompg','insurance','concrete'])"
   ]
  },
  {
   "cell_type": "code",
   "execution_count": 135,
   "metadata": {},
   "outputs": [],
   "source": [
    "bs_tunabilities.to_csv(os.path.join(os.pardir,'Wyniki', 'bs_tunabilities.csv'))"
   ]
  },
  {
   "cell_type": "code",
   "execution_count": 141,
   "metadata": {},
   "outputs": [
    {
     "name": "stdout",
     "output_type": "stream",
     "text": [
      "Random search:\n",
      "rfr   -0.010147\n",
      "gbr   -0.034682\n",
      "en    -0.002575\n",
      "dtype: float64\n",
      "Bayesian search:\n",
      "rfr   -0.010904\n",
      "gbr   -0.054752\n",
      "en    -0.003712\n",
      "dtype: float64\n"
     ]
    }
   ],
   "source": [
    "# Średnia tunowalność\n",
    "print('Random search:')\n",
    "print(rs_tunabilities.apply(lambda x: x.mean(), axis=0))\n",
    "print('Bayesian search:')\n",
    "print(bs_tunabilities.apply(lambda x: x.mean(), axis=0))"
   ]
  }
 ],
 "metadata": {
  "kernelspec": {
   "display_name": "AutoML",
   "language": "python",
   "name": "python3"
  },
  "language_info": {
   "codemirror_mode": {
    "name": "ipython",
    "version": 3
   },
   "file_extension": ".py",
   "mimetype": "text/x-python",
   "name": "python",
   "nbconvert_exporter": "python",
   "pygments_lexer": "ipython3",
   "version": "3.9.18"
  }
 },
 "nbformat": 4,
 "nbformat_minor": 2
}
