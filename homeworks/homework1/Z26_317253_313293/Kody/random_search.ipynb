{
 "cells": [
  {
   "cell_type": "code",
   "execution_count": 126,
   "id": "e8593e60-673b-4eed-94af-08124d205a85",
   "metadata": {
    "tags": []
   },
   "outputs": [
    {
     "name": "stdout",
     "output_type": "stream",
     "text": [
      "Collecting jinja2\n",
      "  Using cached Jinja2-3.1.2-py3-none-any.whl (133 kB)\n",
      "Requirement already satisfied: MarkupSafe>=2.0 in e:\\python\\repo\\wztum\\imageclassification\\lib\\site-packages (from jinja2) (2.1.2)\n",
      "Installing collected packages: jinja2\n",
      "Successfully installed jinja2-3.1.2\n"
     ]
    },
    {
     "name": "stderr",
     "output_type": "stream",
     "text": [
      "\n",
      "[notice] A new release of pip is available: 23.1.2 -> 23.3.1\n",
      "[notice] To update, run: python.exe -m pip install --upgrade pip\n"
     ]
    }
   ],
   "source": [
    "!pip install jinja2"
   ]
  },
  {
   "cell_type": "code",
   "execution_count": 141,
   "id": "2032500b-ff47-423c-8159-82fa4ea69cdb",
   "metadata": {
    "tags": []
   },
   "outputs": [],
   "source": [
    "import openml\n",
    "from sklearn.model_selection import train_test_split\n",
    "from sklearn.compose import make_column_transformer, make_column_selector, ColumnTransformer\n",
    "from sklearn.pipeline import Pipeline\n",
    "from sklearn.impute import SimpleImputer\n",
    "from sklearn.preprocessing import OneHotEncoder, MinMaxScaler\n",
    "import numpy as np\n",
    "import pandas as pd\n",
    "from sklearn.model_selection import RandomizedSearchCV\n",
    "from scipy.stats import randint as sp_randint\n",
    "from scipy.stats import uniform as sp_randfloat\n",
    "import matplotlib.pyplot as plt"
   ]
  },
  {
   "cell_type": "code",
   "execution_count": 2,
   "id": "3c1250e9-f413-4ebf-9534-27042d65ec09",
   "metadata": {
    "tags": []
   },
   "outputs": [],
   "source": [
    "def prepare_dataset(id, class_col) :\n",
    "    dataset = openml.datasets.get_dataset(id)\n",
    "    X, y, _, _ = dataset.get_data(dataset_format=\"dataframe\")\n",
    "    y = X[class_col]\n",
    "    X = X.drop(class_col, axis=1)\n",
    "    return train_test_split(X, y,test_size=0.2, random_state=42)\n",
    "\n",
    "num_pipeline = Pipeline(steps=[\n",
    "    ('impute', SimpleImputer(strategy='mean')),\n",
    "    ('scale',MinMaxScaler())])\n",
    "\n",
    "cat_pipeline = Pipeline(steps=[\n",
    "        ('impute', SimpleImputer(strategy='most_frequent')),\n",
    "        ('one-hot',OneHotEncoder(handle_unknown='ignore', sparse=False))\n",
    "    ])\n",
    "\n",
    "col_trans = ColumnTransformer(transformers=[\n",
    "    ('num_pipeline',num_pipeline, make_column_selector( dtype_include= np.number)),\n",
    "    ('cat_pipeline',cat_pipeline,make_column_selector( dtype_include= [np.object_, 'category']))\n",
    "    ],\n",
    "    remainder='drop',\n",
    "    n_jobs=-1)"
   ]
  },
  {
   "cell_type": "code",
   "execution_count": 3,
   "id": "a507fdcf-5ddd-4117-95a7-3243ed69aaef",
   "metadata": {
    "tags": []
   },
   "outputs": [],
   "source": [
    "# tune one dataset with array of iterations\n",
    "\n",
    "def tune(pipeline, grid, iters, X_train, y_train):\n",
    "    model_random = []\n",
    "    idx = 0\n",
    "    for i in iters:\n",
    "        model_random.append(RandomizedSearchCV(estimator = pipeline, param_distributions = grid, n_iter = i, cv = 5, verbose=0, random_state=42, n_jobs = -1))\n",
    "        model_random[idx].fit(X_train, y_train)\n",
    "        idx += 1\n",
    "    return model_random"
   ]
  },
  {
   "cell_type": "code",
   "execution_count": 4,
   "id": "e7ccd2f8-8c93-4ef3-a018-93b816361465",
   "metadata": {
    "tags": []
   },
   "outputs": [],
   "source": [
    "# tune all datasets with the same value of iterations\n",
    "\n",
    "dataset_ids = [1471, 4534, 1053, 1046]\n",
    "dataset_targets = ['Class', 'Result', 'defects', 'state']\n",
    "\n",
    "def all_tune(pipeline, grid, iters):\n",
    "    model_random = []\n",
    "    idx = 0\n",
    "    for i in range(4):\n",
    "        X_train, X_test, y_train, y_test = prepare_dataset(dataset_ids[i], dataset_targets[i])\n",
    "        model_random.append(RandomizedSearchCV(estimator = pipeline, param_distributions = grid, n_iter = iters, cv = 5, verbose=0, random_state=42, n_jobs = -1))\n",
    "        model_random[idx].fit(X_train, y_train)\n",
    "        idx += 1\n",
    "    return model_random"
   ]
  },
  {
   "cell_type": "code",
   "execution_count": 5,
   "id": "d603b7a5-dcc6-4d3f-adc5-1fdfdce659d0",
   "metadata": {
    "tags": []
   },
   "outputs": [],
   "source": [
    "# returns array of best accuracy for each value of iterations\n",
    "\n",
    "def best_accuracy_array(models_tuned):\n",
    "    accuracy_array = []\n",
    "    for model in models_tuned:\n",
    "        accuracy_array.append(model.best_score_)\n",
    "    return accuracy_array\n",
    "    "
   ]
  },
  {
   "cell_type": "code",
   "execution_count": 6,
   "id": "a68eaf9b-fe58-44f1-b2b8-ff3055fe4c33",
   "metadata": {
    "tags": []
   },
   "outputs": [],
   "source": [
    "# returns array of best hyperparameters for each value of iterations\n",
    "\n",
    "def best_params_array(models_tuned):\n",
    "    hyper_array = []\n",
    "    for model in models_tuned:\n",
    "        hyper_array.append(model.best_params_)\n",
    "    return hyper_array"
   ]
  },
  {
   "cell_type": "code",
   "execution_count": 7,
   "id": "6510e577-c5f4-4f1c-af06-39ba30015893",
   "metadata": {
    "tags": []
   },
   "outputs": [],
   "source": [
    "# create accuracy dataframe from tuned models with the same configurations\n",
    "\n",
    "def tuned_dataframe(models_tuned):\n",
    "    for i in range(len(models_tuned)):\n",
    "        if i == 0:\n",
    "            df = pd.DataFrame.from_dict(models_tuned[i].cv_results_)\n",
    "            df = df[['params', 'mean_test_score']]\n",
    "        else:\n",
    "            df2 = pd.DataFrame.from_dict(models_tuned[i].cv_results_)\n",
    "            df = df.join(df2['mean_test_score'])\n",
    "        df = df.rename(columns={'mean_test_score': 'dataset_' + str(i + 1) + '_accuracy'})\n",
    "    return df"
   ]
  },
  {
   "cell_type": "markdown",
   "id": "22397815-d396-41b3-ada0-880bd2419df5",
   "metadata": {},
   "source": [
    "# Random forest"
   ]
  },
  {
   "cell_type": "markdown",
   "id": "4adb3468-d569-4812-9073-e9ddcb4e5162",
   "metadata": {},
   "source": [
    "## Prepare pipeline"
   ]
  },
  {
   "cell_type": "code",
   "execution_count": 8,
   "id": "bea90f85-d04c-4e50-9cbe-15e301c946dc",
   "metadata": {
    "tags": []
   },
   "outputs": [],
   "source": [
    "from sklearn.ensemble import RandomForestClassifier\n",
    "rf_pipeline = Pipeline([('preprocessing', col_trans), \n",
    "                               ('model', RandomForestClassifier())])"
   ]
  },
  {
   "cell_type": "markdown",
   "id": "9cbd6f0f-aaec-4cdf-871b-994f637d4341",
   "metadata": {
    "tags": []
   },
   "source": [
    "## Prepare grid"
   ]
  },
  {
   "cell_type": "code",
   "execution_count": 98,
   "id": "5c9ddfb8-1515-41c8-8179-adab65846c4e",
   "metadata": {
    "tags": []
   },
   "outputs": [],
   "source": [
    "# Number of trees in random forest\n",
    "n_estimators = [int(x) for x in np.linspace(start = 50, stop = 200, num = 7)]\n",
    "# Number of features to consider at every split\n",
    "max_features = ['log2', 'sqrt', None]\n",
    "# Maximum number of levels in tree\n",
    "max_depth = [int(x) for x in np.linspace(5, 25, num = 5)]\n",
    "max_depth.append(None)\n",
    "# Minimum number of samples required to split a node\n",
    "min_samples_split = [2, 5, 10]\n",
    "# Minimum number of samples required at each leaf node\n",
    "min_samples_leaf = [1, 2, 4]\n",
    "# Method of selecting samples for training each tree\n",
    "bootstrap = [True, False]\n",
    "\n",
    "# Create the random grid\n",
    "random_grid = {'model__n_estimators': n_estimators,\n",
    "               'model__max_features': max_features,\n",
    "               'model__max_depth': max_depth,\n",
    "               'model__min_samples_split': min_samples_split,\n",
    "               'model__min_samples_leaf': min_samples_leaf,\n",
    "               'model__bootstrap': bootstrap}"
   ]
  },
  {
   "cell_type": "code",
   "execution_count": 99,
   "id": "47218280-1e50-47c2-bcb4-2301004b2ee5",
   "metadata": {
    "tags": []
   },
   "outputs": [
    {
     "name": "stdout",
     "output_type": "stream",
     "text": [
      "{'model__n_estimators': [50, 75, 100, 125, 150, 175, 200], 'model__max_features': ['log2', 'sqrt', None], 'model__max_depth': [5, 10, 15, 20, 25, None], 'model__min_samples_split': [2, 5, 10], 'model__min_samples_leaf': [1, 2, 4], 'model__bootstrap': [True, False]}\n"
     ]
    }
   ],
   "source": [
    "print(random_grid)"
   ]
  },
  {
   "cell_type": "markdown",
   "id": "fd24447b-91f5-47a7-90bc-44bec5b0c5b7",
   "metadata": {
    "tags": []
   },
   "source": [
    "## Tuning dataset 1"
   ]
  },
  {
   "cell_type": "code",
   "execution_count": 10,
   "id": "6eb5dd93-59eb-41c1-b77a-d30e9daa6cb8",
   "metadata": {
    "tags": []
   },
   "outputs": [
    {
     "name": "stderr",
     "output_type": "stream",
     "text": [
      "E:\\Python\\repo\\WzTUM\\imageclassification\\lib\\site-packages\\openml\\datasets\\functions.py:438: FutureWarning: Starting from Version 0.15 `download_data`, `download_qualities`, and `download_features_meta_data` will all be ``False`` instead of ``True`` by default to enable lazy loading. To disable this message until version 0.15 explicitly set `download_data`, `download_qualities`, and `download_features_meta_data` to a bool while calling `get_dataset`.\n",
      "  warnings.warn(\n"
     ]
    }
   ],
   "source": [
    "X_train, X_test, y_train, y_test = prepare_dataset(1471, 'Class')"
   ]
  },
  {
   "cell_type": "code",
   "execution_count": 206,
   "id": "bd918f81-906f-4d99-81e8-a4c715dea1bb",
   "metadata": {
    "tags": []
   },
   "outputs": [],
   "source": [
    "rf_random = tune(rf_pipeline, random_grid, [1, 10, 20, 30, 40, 45, 50], X_train, y_train)"
   ]
  },
  {
   "cell_type": "markdown",
   "id": "eb7dcc4d-66cd-4d06-a40b-73b9102aa999",
   "metadata": {
    "tags": []
   },
   "source": [
    "## Evaluate"
   ]
  },
  {
   "cell_type": "code",
   "execution_count": 207,
   "id": "ae8d5eb6-ac3d-4f73-a339-62ce7bab5c89",
   "metadata": {
    "tags": []
   },
   "outputs": [
    {
     "data": {
      "text/plain": [
       "[0.911298451110633, 0.9290721986233488, 0.928154489160421, 0.9212282604229131, 0.9308245281560215, 0.9288221294982669, 0.9294060187922717]"
      ]
     },
     "execution_count": 207,
     "metadata": {},
     "output_type": "execute_result"
    }
   ],
   "source": [
    "best_accuracy_array(rf_random)"
   ]
  },
  {
   "cell_type": "code",
   "execution_count": 208,
   "id": "b5baed2c-ef9a-4bed-93bf-82bd9a177b1d",
   "metadata": {
    "tags": []
   },
   "outputs": [
    {
     "data": {
      "text/plain": [
       "[{'model__n_estimators': 200, 'model__min_samples_split': 10, 'model__min_samples_leaf': 2, 'model__max_features': 'sqrt', 'model__max_depth': 25, 'model__bootstrap': True}, {'model__n_estimators': 200, 'model__min_samples_split': 2, 'model__min_samples_leaf': 2, 'model__max_features': 'sqrt', 'model__max_depth': None, 'model__bootstrap': False}, {'model__n_estimators': 200, 'model__min_samples_split': 2, 'model__min_samples_leaf': 2, 'model__max_features': 'sqrt', 'model__max_depth': None, 'model__bootstrap': False}, {'model__n_estimators': 175, 'model__min_samples_split': 5, 'model__min_samples_leaf': 4, 'model__max_features': 'sqrt', 'model__max_depth': None, 'model__bootstrap': False}, {'model__n_estimators': 50, 'model__min_samples_split': 2, 'model__min_samples_leaf': 1, 'model__max_features': 'sqrt', 'model__max_depth': 25, 'model__bootstrap': False}, {'model__n_estimators': 75, 'model__min_samples_split': 5, 'model__min_samples_leaf': 1, 'model__max_features': 'log2', 'model__max_depth': None, 'model__bootstrap': False}, {'model__n_estimators': 75, 'model__min_samples_split': 5, 'model__min_samples_leaf': 1, 'model__max_features': 'log2', 'model__max_depth': None, 'model__bootstrap': False}]"
      ]
     },
     "execution_count": 208,
     "metadata": {},
     "output_type": "execute_result"
    }
   ],
   "source": [
    "best_params_array(rf_random)"
   ]
  },
  {
   "cell_type": "markdown",
   "id": "6060e13a-19b8-41d0-b871-a54f4b159e92",
   "metadata": {
    "tags": []
   },
   "source": [
    "## Tuning dataset 2"
   ]
  },
  {
   "cell_type": "code",
   "execution_count": 209,
   "id": "10582952-a75b-42b8-bd4b-bbb4d075386b",
   "metadata": {
    "tags": []
   },
   "outputs": [
    {
     "name": "stderr",
     "output_type": "stream",
     "text": [
      "E:\\Python\\repo\\WzTUM\\imageclassification\\lib\\site-packages\\openml\\datasets\\functions.py:438: FutureWarning: Starting from Version 0.15 `download_data`, `download_qualities`, and `download_features_meta_data` will all be ``False`` instead of ``True`` by default to enable lazy loading. To disable this message until version 0.15 explicitly set `download_data`, `download_qualities`, and `download_features_meta_data` to a bool while calling `get_dataset`.\n",
      "  warnings.warn(\n"
     ]
    }
   ],
   "source": [
    "X_train, X_test, y_train, y_test = prepare_dataset(4534, 'Result')"
   ]
  },
  {
   "cell_type": "code",
   "execution_count": 210,
   "id": "71c5997d-4f9f-4576-bc5c-5988b40dedd8",
   "metadata": {
    "tags": []
   },
   "outputs": [],
   "source": [
    "rf_random = tune(rf_pipeline, random_grid, [1, 10, 20, 30, 40, 45, 50], X_train, y_train)"
   ]
  },
  {
   "cell_type": "markdown",
   "id": "1937ffff-2474-4491-b1a6-3a7afef37c7d",
   "metadata": {
    "tags": []
   },
   "source": [
    "## Evaluate"
   ]
  },
  {
   "cell_type": "code",
   "execution_count": 211,
   "id": "f7f41563-9109-44fa-875b-a5910a12fcf3",
   "metadata": {
    "tags": []
   },
   "outputs": [
    {
     "data": {
      "text/plain": [
       "[0.9626866292022745, 0.9687920291393505, 0.9701489196800605, 0.9667569171426452, 0.9707144665928291, 0.9711666355458128, 0.9704880943550181]"
      ]
     },
     "execution_count": 211,
     "metadata": {},
     "output_type": "execute_result"
    }
   ],
   "source": [
    "best_accuracy_array(rf_random)"
   ]
  },
  {
   "cell_type": "code",
   "execution_count": 212,
   "id": "8a8e0f8e-3274-4efb-b4af-204aceaa8e7f",
   "metadata": {
    "tags": []
   },
   "outputs": [
    {
     "data": {
      "text/plain": [
       "[{'model__n_estimators': 200, 'model__min_samples_split': 10, 'model__min_samples_leaf': 2, 'model__max_features': 'sqrt', 'model__max_depth': 25, 'model__bootstrap': True}, {'model__n_estimators': 200, 'model__min_samples_split': 2, 'model__min_samples_leaf': 2, 'model__max_features': 'sqrt', 'model__max_depth': None, 'model__bootstrap': False}, {'model__n_estimators': 125, 'model__min_samples_split': 2, 'model__min_samples_leaf': 1, 'model__max_features': 'log2', 'model__max_depth': 15, 'model__bootstrap': False}, {'model__n_estimators': 75, 'model__min_samples_split': 2, 'model__min_samples_leaf': 1, 'model__max_features': None, 'model__max_depth': 20, 'model__bootstrap': True}, {'model__n_estimators': 50, 'model__min_samples_split': 2, 'model__min_samples_leaf': 1, 'model__max_features': 'sqrt', 'model__max_depth': 25, 'model__bootstrap': False}, {'model__n_estimators': 75, 'model__min_samples_split': 5, 'model__min_samples_leaf': 1, 'model__max_features': 'log2', 'model__max_depth': None, 'model__bootstrap': False}, {'model__n_estimators': 75, 'model__min_samples_split': 5, 'model__min_samples_leaf': 1, 'model__max_features': 'log2', 'model__max_depth': None, 'model__bootstrap': False}]"
      ]
     },
     "execution_count": 212,
     "metadata": {},
     "output_type": "execute_result"
    }
   ],
   "source": [
    "best_params_array(rf_random)"
   ]
  },
  {
   "cell_type": "markdown",
   "id": "17937ef0-88e1-4e5d-9458-3b605acdfd49",
   "metadata": {
    "tags": []
   },
   "source": [
    "## Tuning dataset 3"
   ]
  },
  {
   "cell_type": "code",
   "execution_count": 213,
   "id": "b9a9a32f-d07b-44eb-8b19-1fc1e5c79b76",
   "metadata": {
    "tags": []
   },
   "outputs": [
    {
     "name": "stderr",
     "output_type": "stream",
     "text": [
      "E:\\Python\\repo\\WzTUM\\imageclassification\\lib\\site-packages\\openml\\datasets\\functions.py:438: FutureWarning: Starting from Version 0.15 `download_data`, `download_qualities`, and `download_features_meta_data` will all be ``False`` instead of ``True`` by default to enable lazy loading. To disable this message until version 0.15 explicitly set `download_data`, `download_qualities`, and `download_features_meta_data` to a bool while calling `get_dataset`.\n",
      "  warnings.warn(\n"
     ]
    }
   ],
   "source": [
    "X_train, X_test, y_train, y_test = prepare_dataset(1053, 'defects')"
   ]
  },
  {
   "cell_type": "code",
   "execution_count": 214,
   "id": "778b679c-1dbd-4856-8a56-0584a1928f92",
   "metadata": {
    "tags": []
   },
   "outputs": [],
   "source": [
    "rf_random = tune(rf_pipeline, random_grid, [1, 10, 20, 30, 40, 45, 50], X_train, y_train)"
   ]
  },
  {
   "cell_type": "markdown",
   "id": "9a6a0170-3f04-474a-b10a-cfedacf3bd33",
   "metadata": {
    "tags": []
   },
   "source": [
    "## Evaluate"
   ]
  },
  {
   "cell_type": "code",
   "execution_count": 215,
   "id": "ef3490f8-50a0-44aa-b31e-6ee2fda3a8d2",
   "metadata": {
    "tags": []
   },
   "outputs": [
    {
     "data": {
      "text/plain": [
       "[0.8214280297360016, 0.8224615226346946, 0.8230352457216414, 0.8208540428683253, 0.8238391174951911, 0.8217722635881698, 0.8221170250017968]"
      ]
     },
     "execution_count": 215,
     "metadata": {},
     "output_type": "execute_result"
    }
   ],
   "source": [
    "best_accuracy_array(rf_random)"
   ]
  },
  {
   "cell_type": "code",
   "execution_count": 216,
   "id": "3d079e3b-ffd6-4572-9538-df1152268cb8",
   "metadata": {
    "tags": []
   },
   "outputs": [
    {
     "data": {
      "text/plain": [
       "[{'model__n_estimators': 200, 'model__min_samples_split': 10, 'model__min_samples_leaf': 2, 'model__max_features': 'sqrt', 'model__max_depth': 25, 'model__bootstrap': True}, {'model__n_estimators': 200, 'model__min_samples_split': 2, 'model__min_samples_leaf': 2, 'model__max_features': 'sqrt', 'model__max_depth': None, 'model__bootstrap': False}, {'model__n_estimators': 200, 'model__min_samples_split': 5, 'model__min_samples_leaf': 1, 'model__max_features': 'log2', 'model__max_depth': 25, 'model__bootstrap': True}, {'model__n_estimators': 175, 'model__min_samples_split': 5, 'model__min_samples_leaf': 4, 'model__max_features': 'sqrt', 'model__max_depth': None, 'model__bootstrap': False}, {'model__n_estimators': 175, 'model__min_samples_split': 5, 'model__min_samples_leaf': 4, 'model__max_features': 'sqrt', 'model__max_depth': None, 'model__bootstrap': False}, {'model__n_estimators': 175, 'model__min_samples_split': 5, 'model__min_samples_leaf': 4, 'model__max_features': 'sqrt', 'model__max_depth': None, 'model__bootstrap': False}, {'model__n_estimators': 50, 'model__min_samples_split': 5, 'model__min_samples_leaf': 2, 'model__max_features': 'sqrt', 'model__max_depth': 20, 'model__bootstrap': False}]"
      ]
     },
     "execution_count": 216,
     "metadata": {},
     "output_type": "execute_result"
    }
   ],
   "source": [
    "best_params_array(rf_random)"
   ]
  },
  {
   "cell_type": "markdown",
   "id": "54171be5-d10a-4a1d-ad34-a561a695f68f",
   "metadata": {
    "tags": []
   },
   "source": [
    "## Tuning dataset 4"
   ]
  },
  {
   "cell_type": "code",
   "execution_count": 217,
   "id": "d666319b-ee07-4434-86e3-82c76a92378b",
   "metadata": {},
   "outputs": [
    {
     "name": "stderr",
     "output_type": "stream",
     "text": [
      "E:\\Python\\repo\\WzTUM\\imageclassification\\lib\\site-packages\\openml\\datasets\\functions.py:438: FutureWarning: Starting from Version 0.15 `download_data`, `download_qualities`, and `download_features_meta_data` will all be ``False`` instead of ``True`` by default to enable lazy loading. To disable this message until version 0.15 explicitly set `download_data`, `download_qualities`, and `download_features_meta_data` to a bool while calling `get_dataset`.\n",
      "  warnings.warn(\n"
     ]
    }
   ],
   "source": [
    "X_train, X_test, y_train, y_test = prepare_dataset(1046, 'state')"
   ]
  },
  {
   "cell_type": "code",
   "execution_count": 218,
   "id": "95cec6a6-ffed-46f9-82c3-1463e221eade",
   "metadata": {},
   "outputs": [],
   "source": [
    "rf_random = tune(rf_pipeline, random_grid, [1, 10, 20, 30, 40, 45, 50], X_train, y_train)"
   ]
  },
  {
   "cell_type": "markdown",
   "id": "9a131512-31fb-4d0f-b14b-cf2e0a910f26",
   "metadata": {
    "tags": []
   },
   "source": [
    "## Evaluate"
   ]
  },
  {
   "cell_type": "code",
   "execution_count": 219,
   "id": "bb9beba8-1f55-4141-b885-323e8f645c98",
   "metadata": {},
   "outputs": [
    {
     "data": {
      "text/plain": [
       "[0.9468481441114374, 0.9506273781218606, 0.9499036791961286, 0.9500645155451434, 0.9501450306869031, 0.9511098871689054, 0.9503861882431732]"
      ]
     },
     "execution_count": 219,
     "metadata": {},
     "output_type": "execute_result"
    }
   ],
   "source": [
    "best_accuracy_array(rf_random)"
   ]
  },
  {
   "cell_type": "code",
   "execution_count": 220,
   "id": "7567019d-1b21-4f94-a622-b1990e0c2018",
   "metadata": {
    "tags": []
   },
   "outputs": [
    {
     "data": {
      "text/plain": [
       "[{'model__n_estimators': 200, 'model__min_samples_split': 10, 'model__min_samples_leaf': 2, 'model__max_features': 'sqrt', 'model__max_depth': 25, 'model__bootstrap': True}, {'model__n_estimators': 200, 'model__min_samples_split': 2, 'model__min_samples_leaf': 2, 'model__max_features': 'sqrt', 'model__max_depth': None, 'model__bootstrap': False}, {'model__n_estimators': 200, 'model__min_samples_split': 2, 'model__min_samples_leaf': 2, 'model__max_features': 'sqrt', 'model__max_depth': None, 'model__bootstrap': False}, {'model__n_estimators': 75, 'model__min_samples_split': 2, 'model__min_samples_leaf': 1, 'model__max_features': None, 'model__max_depth': 20, 'model__bootstrap': True}, {'model__n_estimators': 75, 'model__min_samples_split': 2, 'model__min_samples_leaf': 1, 'model__max_features': None, 'model__max_depth': 20, 'model__bootstrap': True}, {'model__n_estimators': 75, 'model__min_samples_split': 2, 'model__min_samples_leaf': 1, 'model__max_features': None, 'model__max_depth': 20, 'model__bootstrap': True}, {'model__n_estimators': 75, 'model__min_samples_split': 10, 'model__min_samples_leaf': 1, 'model__max_features': 'sqrt', 'model__max_depth': 20, 'model__bootstrap': False}]"
      ]
     },
     "execution_count": 220,
     "metadata": {},
     "output_type": "execute_result"
    }
   ],
   "source": [
    "best_params_array(rf_random)"
   ]
  },
  {
   "cell_type": "markdown",
   "id": "25b56c80-7c22-44d4-8a7d-da480581ae9c",
   "metadata": {
    "tags": []
   },
   "source": [
    "## Tuning all datasets"
   ]
  },
  {
   "cell_type": "code",
   "execution_count": 100,
   "id": "ee6323f4-f52c-41ef-b035-ccdaffeef840",
   "metadata": {
    "tags": []
   },
   "outputs": [
    {
     "name": "stderr",
     "output_type": "stream",
     "text": [
      "E:\\Python\\repo\\WzTUM\\imageclassification\\lib\\site-packages\\openml\\datasets\\functions.py:438: FutureWarning: Starting from Version 0.15 `download_data`, `download_qualities`, and `download_features_meta_data` will all be ``False`` instead of ``True`` by default to enable lazy loading. To disable this message until version 0.15 explicitly set `download_data`, `download_qualities`, and `download_features_meta_data` to a bool while calling `get_dataset`.\n",
      "  warnings.warn(\n",
      "E:\\Python\\repo\\WzTUM\\imageclassification\\lib\\site-packages\\openml\\datasets\\functions.py:438: FutureWarning: Starting from Version 0.15 `download_data`, `download_qualities`, and `download_features_meta_data` will all be ``False`` instead of ``True`` by default to enable lazy loading. To disable this message until version 0.15 explicitly set `download_data`, `download_qualities`, and `download_features_meta_data` to a bool while calling `get_dataset`.\n",
      "  warnings.warn(\n",
      "E:\\Python\\repo\\WzTUM\\imageclassification\\lib\\site-packages\\openml\\datasets\\functions.py:438: FutureWarning: Starting from Version 0.15 `download_data`, `download_qualities`, and `download_features_meta_data` will all be ``False`` instead of ``True`` by default to enable lazy loading. To disable this message until version 0.15 explicitly set `download_data`, `download_qualities`, and `download_features_meta_data` to a bool while calling `get_dataset`.\n",
      "  warnings.warn(\n",
      "E:\\Python\\repo\\WzTUM\\imageclassification\\lib\\site-packages\\openml\\datasets\\functions.py:438: FutureWarning: Starting from Version 0.15 `download_data`, `download_qualities`, and `download_features_meta_data` will all be ``False`` instead of ``True`` by default to enable lazy loading. To disable this message until version 0.15 explicitly set `download_data`, `download_qualities`, and `download_features_meta_data` to a bool while calling `get_dataset`.\n",
      "  warnings.warn(\n"
     ]
    }
   ],
   "source": [
    "models = all_tune(rf_pipeline, random_grid, 50)"
   ]
  },
  {
   "cell_type": "code",
   "execution_count": 196,
   "id": "3cb3a919-f8b2-49ac-82eb-94f40f66686b",
   "metadata": {
    "tags": []
   },
   "outputs": [
    {
     "data": {
      "text/html": [
       "<div>\n",
       "<style scoped>\n",
       "    .dataframe tbody tr th:only-of-type {\n",
       "        vertical-align: middle;\n",
       "    }\n",
       "\n",
       "    .dataframe tbody tr th {\n",
       "        vertical-align: top;\n",
       "    }\n",
       "\n",
       "    .dataframe thead th {\n",
       "        text-align: right;\n",
       "    }\n",
       "</style>\n",
       "<table border=\"1\" class=\"dataframe\">\n",
       "  <thead>\n",
       "    <tr style=\"text-align: right;\">\n",
       "      <th></th>\n",
       "      <th>params</th>\n",
       "      <th>dataset_1_accuracy</th>\n",
       "      <th>dataset_2_accuracy</th>\n",
       "      <th>dataset_3_accuracy</th>\n",
       "      <th>dataset_4_accuracy</th>\n",
       "      <th>mean</th>\n",
       "    </tr>\n",
       "  </thead>\n",
       "  <tbody>\n",
       "    <tr>\n",
       "      <th>0</th>\n",
       "      <td>{'model__n_estimators': 200, 'model__min_sampl...</td>\n",
       "      <td>0.770695</td>\n",
       "      <td>0.929670</td>\n",
       "      <td>0.813735</td>\n",
       "      <td>0.934143</td>\n",
       "      <td>0.862061</td>\n",
       "    </tr>\n",
       "    <tr>\n",
       "      <th>1</th>\n",
       "      <td>{'model__n_estimators': 150, 'model__min_sampl...</td>\n",
       "      <td>0.712951</td>\n",
       "      <td>0.925599</td>\n",
       "      <td>0.809830</td>\n",
       "      <td>0.935349</td>\n",
       "      <td>0.845932</td>\n",
       "    </tr>\n",
       "    <tr>\n",
       "      <th>2</th>\n",
       "      <td>{'model__n_estimators': 100, 'model__min_sampl...</td>\n",
       "      <td>0.824767</td>\n",
       "      <td>0.951832</td>\n",
       "      <td>0.762286</td>\n",
       "      <td>0.921035</td>\n",
       "      <td>0.864980</td>\n",
       "    </tr>\n",
       "    <tr>\n",
       "      <th>3</th>\n",
       "      <td>{'model__n_estimators': 100, 'model__min_sampl...</td>\n",
       "      <td>0.912133</td>\n",
       "      <td>0.961669</td>\n",
       "      <td>0.818327</td>\n",
       "      <td>0.948296</td>\n",
       "      <td>0.910106</td>\n",
       "    </tr>\n",
       "    <tr>\n",
       "      <th>4</th>\n",
       "      <td>{'model__n_estimators': 100, 'model__min_sampl...</td>\n",
       "      <td>0.909046</td>\n",
       "      <td>0.958955</td>\n",
       "      <td>0.820050</td>\n",
       "      <td>0.946848</td>\n",
       "      <td>0.908725</td>\n",
       "    </tr>\n",
       "    <tr>\n",
       "      <th>5</th>\n",
       "      <td>{'model__n_estimators': 125, 'model__min_sampl...</td>\n",
       "      <td>0.908461</td>\n",
       "      <td>0.962799</td>\n",
       "      <td>0.819361</td>\n",
       "      <td>0.947974</td>\n",
       "      <td>0.909649</td>\n",
       "    </tr>\n",
       "    <tr>\n",
       "      <th>6</th>\n",
       "      <td>{'model__n_estimators': 125, 'model__min_sampl...</td>\n",
       "      <td>0.913719</td>\n",
       "      <td>0.964156</td>\n",
       "      <td>0.817868</td>\n",
       "      <td>0.949341</td>\n",
       "      <td>0.911271</td>\n",
       "    </tr>\n",
       "    <tr>\n",
       "      <th>7</th>\n",
       "      <td>{'model__n_estimators': 200, 'model__min_sampl...</td>\n",
       "      <td>0.860147</td>\n",
       "      <td>0.953867</td>\n",
       "      <td>0.816605</td>\n",
       "      <td>0.945883</td>\n",
       "      <td>0.894126</td>\n",
       "    </tr>\n",
       "    <tr>\n",
       "      <th>8</th>\n",
       "      <td>{'model__n_estimators': 75, 'model__min_sample...</td>\n",
       "      <td>0.906459</td>\n",
       "      <td>0.957033</td>\n",
       "      <td>0.817408</td>\n",
       "      <td>0.947893</td>\n",
       "      <td>0.907198</td>\n",
       "    </tr>\n",
       "    <tr>\n",
       "      <th>9</th>\n",
       "      <td>{'model__n_estimators': 200, 'model__min_sampl...</td>\n",
       "      <td>0.824433</td>\n",
       "      <td>0.950022</td>\n",
       "      <td>0.772277</td>\n",
       "      <td>0.924734</td>\n",
       "      <td>0.867867</td>\n",
       "    </tr>\n",
       "    <tr>\n",
       "      <th>10</th>\n",
       "      <td>{'model__n_estimators': 50, 'model__min_sample...</td>\n",
       "      <td>0.858562</td>\n",
       "      <td>0.953528</td>\n",
       "      <td>0.815802</td>\n",
       "      <td>0.945240</td>\n",
       "      <td>0.893283</td>\n",
       "    </tr>\n",
       "    <tr>\n",
       "      <th>11</th>\n",
       "      <td>{'model__n_estimators': 75, 'model__min_sample...</td>\n",
       "      <td>0.907543</td>\n",
       "      <td>0.962687</td>\n",
       "      <td>0.817869</td>\n",
       "      <td>0.947331</td>\n",
       "      <td>0.908857</td>\n",
       "    </tr>\n",
       "    <tr>\n",
       "      <th>12</th>\n",
       "      <td>{'model__n_estimators': 100, 'model__min_sampl...</td>\n",
       "      <td>0.905708</td>\n",
       "      <td>0.961104</td>\n",
       "      <td>0.820739</td>\n",
       "      <td>0.949180</td>\n",
       "      <td>0.909182</td>\n",
       "    </tr>\n",
       "    <tr>\n",
       "      <th>13</th>\n",
       "      <td>{'model__n_estimators': 125, 'model__min_sampl...</td>\n",
       "      <td>0.854473</td>\n",
       "      <td>0.952963</td>\n",
       "      <td>0.816261</td>\n",
       "      <td>0.944355</td>\n",
       "      <td>0.892013</td>\n",
       "    </tr>\n",
       "    <tr>\n",
       "      <th>14</th>\n",
       "      <td>{'model__n_estimators': 150, 'model__min_sampl...</td>\n",
       "      <td>0.854807</td>\n",
       "      <td>0.950588</td>\n",
       "      <td>0.816605</td>\n",
       "      <td>0.944516</td>\n",
       "      <td>0.891629</td>\n",
       "    </tr>\n",
       "    <tr>\n",
       "      <th>15</th>\n",
       "      <td>{'model__n_estimators': 175, 'model__min_sampl...</td>\n",
       "      <td>0.828856</td>\n",
       "      <td>0.958729</td>\n",
       "      <td>0.756890</td>\n",
       "      <td>0.921277</td>\n",
       "      <td>0.866438</td>\n",
       "    </tr>\n",
       "    <tr>\n",
       "      <th>16</th>\n",
       "      <td>{'model__n_estimators': 75, 'model__min_sample...</td>\n",
       "      <td>0.918308</td>\n",
       "      <td>0.965739</td>\n",
       "      <td>0.816259</td>\n",
       "      <td>0.948778</td>\n",
       "      <td>0.912271</td>\n",
       "    </tr>\n",
       "    <tr>\n",
       "      <th>17</th>\n",
       "      <td>{'model__n_estimators': 75, 'model__min_sample...</td>\n",
       "      <td>0.909797</td>\n",
       "      <td>0.960877</td>\n",
       "      <td>0.821657</td>\n",
       "      <td>0.946607</td>\n",
       "      <td>0.909734</td>\n",
       "    </tr>\n",
       "    <tr>\n",
       "      <th>18</th>\n",
       "      <td>{'model__n_estimators': 50, 'model__min_sample...</td>\n",
       "      <td>0.856809</td>\n",
       "      <td>0.955450</td>\n",
       "      <td>0.817754</td>\n",
       "      <td>0.944677</td>\n",
       "      <td>0.893673</td>\n",
       "    </tr>\n",
       "    <tr>\n",
       "      <th>19</th>\n",
       "      <td>{'model__n_estimators': 200, 'model__min_sampl...</td>\n",
       "      <td>0.712951</td>\n",
       "      <td>0.925599</td>\n",
       "      <td>0.809830</td>\n",
       "      <td>0.935349</td>\n",
       "      <td>0.845932</td>\n",
       "    </tr>\n",
       "    <tr>\n",
       "      <th>20</th>\n",
       "      <td>{'model__n_estimators': 200, 'model__min_sampl...</td>\n",
       "      <td>0.896946</td>\n",
       "      <td>0.958729</td>\n",
       "      <td>0.818098</td>\n",
       "      <td>0.947089</td>\n",
       "      <td>0.905216</td>\n",
       "    </tr>\n",
       "    <tr>\n",
       "      <th>21</th>\n",
       "      <td>{'model__n_estimators': 175, 'model__min_sampl...</td>\n",
       "      <td>0.915971</td>\n",
       "      <td>0.962574</td>\n",
       "      <td>0.819016</td>\n",
       "      <td>0.948697</td>\n",
       "      <td>0.911565</td>\n",
       "    </tr>\n",
       "    <tr>\n",
       "      <th>22</th>\n",
       "      <td>{'model__n_estimators': 175, 'model__min_sampl...</td>\n",
       "      <td>0.920310</td>\n",
       "      <td>0.963817</td>\n",
       "      <td>0.823150</td>\n",
       "      <td>0.947893</td>\n",
       "      <td>0.913793</td>\n",
       "    </tr>\n",
       "    <tr>\n",
       "      <th>23</th>\n",
       "      <td>{'model__n_estimators': 75, 'model__min_sample...</td>\n",
       "      <td>0.906459</td>\n",
       "      <td>0.957033</td>\n",
       "      <td>0.818442</td>\n",
       "      <td>0.946687</td>\n",
       "      <td>0.907155</td>\n",
       "    </tr>\n",
       "    <tr>\n",
       "      <th>24</th>\n",
       "      <td>{'model__n_estimators': 75, 'model__min_sample...</td>\n",
       "      <td>0.763435</td>\n",
       "      <td>0.930009</td>\n",
       "      <td>0.815801</td>\n",
       "      <td>0.933741</td>\n",
       "      <td>0.860747</td>\n",
       "    </tr>\n",
       "    <tr>\n",
       "      <th>25</th>\n",
       "      <td>{'model__n_estimators': 200, 'model__min_sampl...</td>\n",
       "      <td>0.906375</td>\n",
       "      <td>0.961782</td>\n",
       "      <td>0.821084</td>\n",
       "      <td>0.948456</td>\n",
       "      <td>0.909424</td>\n",
       "    </tr>\n",
       "    <tr>\n",
       "      <th>26</th>\n",
       "      <td>{'model__n_estimators': 200, 'model__min_sampl...</td>\n",
       "      <td>0.860397</td>\n",
       "      <td>0.956355</td>\n",
       "      <td>0.816261</td>\n",
       "      <td>0.945642</td>\n",
       "      <td>0.894664</td>\n",
       "    </tr>\n",
       "    <tr>\n",
       "      <th>27</th>\n",
       "      <td>{'model__n_estimators': 50, 'model__min_sample...</td>\n",
       "      <td>0.829440</td>\n",
       "      <td>0.955223</td>\n",
       "      <td>0.765731</td>\n",
       "      <td>0.918462</td>\n",
       "      <td>0.867214</td>\n",
       "    </tr>\n",
       "    <tr>\n",
       "      <th>28</th>\n",
       "      <td>{'model__n_estimators': 175, 'model__min_sampl...</td>\n",
       "      <td>0.824100</td>\n",
       "      <td>0.949118</td>\n",
       "      <td>0.771129</td>\n",
       "      <td>0.924011</td>\n",
       "      <td>0.867089</td>\n",
       "    </tr>\n",
       "    <tr>\n",
       "      <th>29</th>\n",
       "      <td>{'model__n_estimators': 50, 'model__min_sample...</td>\n",
       "      <td>0.827270</td>\n",
       "      <td>0.959068</td>\n",
       "      <td>0.759876</td>\n",
       "      <td>0.920633</td>\n",
       "      <td>0.866712</td>\n",
       "    </tr>\n",
       "    <tr>\n",
       "      <th>30</th>\n",
       "      <td>{'model__n_estimators': 100, 'model__min_sampl...</td>\n",
       "      <td>0.767358</td>\n",
       "      <td>0.926051</td>\n",
       "      <td>0.814997</td>\n",
       "      <td>0.933821</td>\n",
       "      <td>0.860557</td>\n",
       "    </tr>\n",
       "    <tr>\n",
       "      <th>31</th>\n",
       "      <td>{'model__n_estimators': 125, 'model__min_sampl...</td>\n",
       "      <td>0.873164</td>\n",
       "      <td>0.953302</td>\n",
       "      <td>0.815687</td>\n",
       "      <td>0.945160</td>\n",
       "      <td>0.896828</td>\n",
       "    </tr>\n",
       "    <tr>\n",
       "      <th>32</th>\n",
       "      <td>{'model__n_estimators': 100, 'model__min_sampl...</td>\n",
       "      <td>0.916555</td>\n",
       "      <td>0.967549</td>\n",
       "      <td>0.816259</td>\n",
       "      <td>0.950306</td>\n",
       "      <td>0.912667</td>\n",
       "    </tr>\n",
       "    <tr>\n",
       "      <th>33</th>\n",
       "      <td>{'model__n_estimators': 100, 'model__min_sampl...</td>\n",
       "      <td>0.861482</td>\n",
       "      <td>0.956016</td>\n",
       "      <td>0.817524</td>\n",
       "      <td>0.946044</td>\n",
       "      <td>0.895267</td>\n",
       "    </tr>\n",
       "    <tr>\n",
       "      <th>34</th>\n",
       "      <td>{'model__n_estimators': 75, 'model__min_sample...</td>\n",
       "      <td>0.923481</td>\n",
       "      <td>0.967548</td>\n",
       "      <td>0.820739</td>\n",
       "      <td>0.949180</td>\n",
       "      <td>0.915237</td>\n",
       "    </tr>\n",
       "    <tr>\n",
       "      <th>35</th>\n",
       "      <td>{'model__n_estimators': 150, 'model__min_sampl...</td>\n",
       "      <td>0.822764</td>\n",
       "      <td>0.949231</td>\n",
       "      <td>0.776985</td>\n",
       "      <td>0.925538</td>\n",
       "      <td>0.868630</td>\n",
       "    </tr>\n",
       "    <tr>\n",
       "      <th>36</th>\n",
       "      <td>{'model__n_estimators': 75, 'model__min_sample...</td>\n",
       "      <td>0.921980</td>\n",
       "      <td>0.966305</td>\n",
       "      <td>0.819476</td>\n",
       "      <td>0.949100</td>\n",
       "      <td>0.914215</td>\n",
       "    </tr>\n",
       "    <tr>\n",
       "      <th>37</th>\n",
       "      <td>{'model__n_estimators': 150, 'model__min_sampl...</td>\n",
       "      <td>0.908461</td>\n",
       "      <td>0.965061</td>\n",
       "      <td>0.820050</td>\n",
       "      <td>0.948376</td>\n",
       "      <td>0.910487</td>\n",
       "    </tr>\n",
       "    <tr>\n",
       "      <th>38</th>\n",
       "      <td>{'model__n_estimators': 100, 'model__min_sampl...</td>\n",
       "      <td>0.920310</td>\n",
       "      <td>0.963478</td>\n",
       "      <td>0.821313</td>\n",
       "      <td>0.948295</td>\n",
       "      <td>0.913349</td>\n",
       "    </tr>\n",
       "    <tr>\n",
       "      <th>39</th>\n",
       "      <td>{'model__n_estimators': 50, 'model__min_sample...</td>\n",
       "      <td>0.926235</td>\n",
       "      <td>0.970262</td>\n",
       "      <td>0.815570</td>\n",
       "      <td>0.949502</td>\n",
       "      <td>0.915392</td>\n",
       "    </tr>\n",
       "    <tr>\n",
       "      <th>40</th>\n",
       "      <td>{'model__n_estimators': 150, 'model__min_sampl...</td>\n",
       "      <td>0.825017</td>\n",
       "      <td>0.949909</td>\n",
       "      <td>0.768603</td>\n",
       "      <td>0.924171</td>\n",
       "      <td>0.866925</td>\n",
       "    </tr>\n",
       "    <tr>\n",
       "      <th>41</th>\n",
       "      <td>{'model__n_estimators': 75, 'model__min_sample...</td>\n",
       "      <td>0.927320</td>\n",
       "      <td>0.970488</td>\n",
       "      <td>0.818902</td>\n",
       "      <td>0.949341</td>\n",
       "      <td>0.916513</td>\n",
       "    </tr>\n",
       "    <tr>\n",
       "      <th>42</th>\n",
       "      <td>{'model__n_estimators': 200, 'model__min_sampl...</td>\n",
       "      <td>0.907627</td>\n",
       "      <td>0.965739</td>\n",
       "      <td>0.820509</td>\n",
       "      <td>0.948537</td>\n",
       "      <td>0.910603</td>\n",
       "    </tr>\n",
       "    <tr>\n",
       "      <th>43</th>\n",
       "      <td>{'model__n_estimators': 150, 'model__min_sampl...</td>\n",
       "      <td>0.771279</td>\n",
       "      <td>0.929670</td>\n",
       "      <td>0.814653</td>\n",
       "      <td>0.934706</td>\n",
       "      <td>0.862577</td>\n",
       "    </tr>\n",
       "    <tr>\n",
       "      <th>44</th>\n",
       "      <td>{'model__n_estimators': 75, 'model__min_sample...</td>\n",
       "      <td>0.908044</td>\n",
       "      <td>0.965513</td>\n",
       "      <td>0.817868</td>\n",
       "      <td>0.947009</td>\n",
       "      <td>0.909609</td>\n",
       "    </tr>\n",
       "    <tr>\n",
       "      <th>45</th>\n",
       "      <td>{'model__n_estimators': 100, 'model__min_sampl...</td>\n",
       "      <td>0.903871</td>\n",
       "      <td>0.955111</td>\n",
       "      <td>0.817408</td>\n",
       "      <td>0.946687</td>\n",
       "      <td>0.905769</td>\n",
       "    </tr>\n",
       "    <tr>\n",
       "      <th>46</th>\n",
       "      <td>{'model__n_estimators': 50, 'model__min_sample...</td>\n",
       "      <td>0.762434</td>\n",
       "      <td>0.929218</td>\n",
       "      <td>0.815686</td>\n",
       "      <td>0.933500</td>\n",
       "      <td>0.860209</td>\n",
       "    </tr>\n",
       "    <tr>\n",
       "      <th>47</th>\n",
       "      <td>{'model__n_estimators': 100, 'model__min_sampl...</td>\n",
       "      <td>0.857227</td>\n",
       "      <td>0.955225</td>\n",
       "      <td>0.816376</td>\n",
       "      <td>0.945240</td>\n",
       "      <td>0.893517</td>\n",
       "    </tr>\n",
       "    <tr>\n",
       "      <th>48</th>\n",
       "      <td>{'model__n_estimators': 100, 'model__min_sampl...</td>\n",
       "      <td>0.900200</td>\n",
       "      <td>0.962686</td>\n",
       "      <td>0.818557</td>\n",
       "      <td>0.947170</td>\n",
       "      <td>0.907153</td>\n",
       "    </tr>\n",
       "    <tr>\n",
       "      <th>49</th>\n",
       "      <td>{'model__n_estimators': 50, 'model__min_sample...</td>\n",
       "      <td>0.923732</td>\n",
       "      <td>0.966983</td>\n",
       "      <td>0.817868</td>\n",
       "      <td>0.949341</td>\n",
       "      <td>0.914481</td>\n",
       "    </tr>\n",
       "  </tbody>\n",
       "</table>\n",
       "</div>"
      ],
      "text/plain": [
       "                                               params  dataset_1_accuracy   \n",
       "0   {'model__n_estimators': 200, 'model__min_sampl...            0.770695  \\\n",
       "1   {'model__n_estimators': 150, 'model__min_sampl...            0.712951   \n",
       "2   {'model__n_estimators': 100, 'model__min_sampl...            0.824767   \n",
       "3   {'model__n_estimators': 100, 'model__min_sampl...            0.912133   \n",
       "4   {'model__n_estimators': 100, 'model__min_sampl...            0.909046   \n",
       "5   {'model__n_estimators': 125, 'model__min_sampl...            0.908461   \n",
       "6   {'model__n_estimators': 125, 'model__min_sampl...            0.913719   \n",
       "7   {'model__n_estimators': 200, 'model__min_sampl...            0.860147   \n",
       "8   {'model__n_estimators': 75, 'model__min_sample...            0.906459   \n",
       "9   {'model__n_estimators': 200, 'model__min_sampl...            0.824433   \n",
       "10  {'model__n_estimators': 50, 'model__min_sample...            0.858562   \n",
       "11  {'model__n_estimators': 75, 'model__min_sample...            0.907543   \n",
       "12  {'model__n_estimators': 100, 'model__min_sampl...            0.905708   \n",
       "13  {'model__n_estimators': 125, 'model__min_sampl...            0.854473   \n",
       "14  {'model__n_estimators': 150, 'model__min_sampl...            0.854807   \n",
       "15  {'model__n_estimators': 175, 'model__min_sampl...            0.828856   \n",
       "16  {'model__n_estimators': 75, 'model__min_sample...            0.918308   \n",
       "17  {'model__n_estimators': 75, 'model__min_sample...            0.909797   \n",
       "18  {'model__n_estimators': 50, 'model__min_sample...            0.856809   \n",
       "19  {'model__n_estimators': 200, 'model__min_sampl...            0.712951   \n",
       "20  {'model__n_estimators': 200, 'model__min_sampl...            0.896946   \n",
       "21  {'model__n_estimators': 175, 'model__min_sampl...            0.915971   \n",
       "22  {'model__n_estimators': 175, 'model__min_sampl...            0.920310   \n",
       "23  {'model__n_estimators': 75, 'model__min_sample...            0.906459   \n",
       "24  {'model__n_estimators': 75, 'model__min_sample...            0.763435   \n",
       "25  {'model__n_estimators': 200, 'model__min_sampl...            0.906375   \n",
       "26  {'model__n_estimators': 200, 'model__min_sampl...            0.860397   \n",
       "27  {'model__n_estimators': 50, 'model__min_sample...            0.829440   \n",
       "28  {'model__n_estimators': 175, 'model__min_sampl...            0.824100   \n",
       "29  {'model__n_estimators': 50, 'model__min_sample...            0.827270   \n",
       "30  {'model__n_estimators': 100, 'model__min_sampl...            0.767358   \n",
       "31  {'model__n_estimators': 125, 'model__min_sampl...            0.873164   \n",
       "32  {'model__n_estimators': 100, 'model__min_sampl...            0.916555   \n",
       "33  {'model__n_estimators': 100, 'model__min_sampl...            0.861482   \n",
       "34  {'model__n_estimators': 75, 'model__min_sample...            0.923481   \n",
       "35  {'model__n_estimators': 150, 'model__min_sampl...            0.822764   \n",
       "36  {'model__n_estimators': 75, 'model__min_sample...            0.921980   \n",
       "37  {'model__n_estimators': 150, 'model__min_sampl...            0.908461   \n",
       "38  {'model__n_estimators': 100, 'model__min_sampl...            0.920310   \n",
       "39  {'model__n_estimators': 50, 'model__min_sample...            0.926235   \n",
       "40  {'model__n_estimators': 150, 'model__min_sampl...            0.825017   \n",
       "41  {'model__n_estimators': 75, 'model__min_sample...            0.927320   \n",
       "42  {'model__n_estimators': 200, 'model__min_sampl...            0.907627   \n",
       "43  {'model__n_estimators': 150, 'model__min_sampl...            0.771279   \n",
       "44  {'model__n_estimators': 75, 'model__min_sample...            0.908044   \n",
       "45  {'model__n_estimators': 100, 'model__min_sampl...            0.903871   \n",
       "46  {'model__n_estimators': 50, 'model__min_sample...            0.762434   \n",
       "47  {'model__n_estimators': 100, 'model__min_sampl...            0.857227   \n",
       "48  {'model__n_estimators': 100, 'model__min_sampl...            0.900200   \n",
       "49  {'model__n_estimators': 50, 'model__min_sample...            0.923732   \n",
       "\n",
       "    dataset_2_accuracy  dataset_3_accuracy  dataset_4_accuracy      mean  \n",
       "0             0.929670            0.813735            0.934143  0.862061  \n",
       "1             0.925599            0.809830            0.935349  0.845932  \n",
       "2             0.951832            0.762286            0.921035  0.864980  \n",
       "3             0.961669            0.818327            0.948296  0.910106  \n",
       "4             0.958955            0.820050            0.946848  0.908725  \n",
       "5             0.962799            0.819361            0.947974  0.909649  \n",
       "6             0.964156            0.817868            0.949341  0.911271  \n",
       "7             0.953867            0.816605            0.945883  0.894126  \n",
       "8             0.957033            0.817408            0.947893  0.907198  \n",
       "9             0.950022            0.772277            0.924734  0.867867  \n",
       "10            0.953528            0.815802            0.945240  0.893283  \n",
       "11            0.962687            0.817869            0.947331  0.908857  \n",
       "12            0.961104            0.820739            0.949180  0.909182  \n",
       "13            0.952963            0.816261            0.944355  0.892013  \n",
       "14            0.950588            0.816605            0.944516  0.891629  \n",
       "15            0.958729            0.756890            0.921277  0.866438  \n",
       "16            0.965739            0.816259            0.948778  0.912271  \n",
       "17            0.960877            0.821657            0.946607  0.909734  \n",
       "18            0.955450            0.817754            0.944677  0.893673  \n",
       "19            0.925599            0.809830            0.935349  0.845932  \n",
       "20            0.958729            0.818098            0.947089  0.905216  \n",
       "21            0.962574            0.819016            0.948697  0.911565  \n",
       "22            0.963817            0.823150            0.947893  0.913793  \n",
       "23            0.957033            0.818442            0.946687  0.907155  \n",
       "24            0.930009            0.815801            0.933741  0.860747  \n",
       "25            0.961782            0.821084            0.948456  0.909424  \n",
       "26            0.956355            0.816261            0.945642  0.894664  \n",
       "27            0.955223            0.765731            0.918462  0.867214  \n",
       "28            0.949118            0.771129            0.924011  0.867089  \n",
       "29            0.959068            0.759876            0.920633  0.866712  \n",
       "30            0.926051            0.814997            0.933821  0.860557  \n",
       "31            0.953302            0.815687            0.945160  0.896828  \n",
       "32            0.967549            0.816259            0.950306  0.912667  \n",
       "33            0.956016            0.817524            0.946044  0.895267  \n",
       "34            0.967548            0.820739            0.949180  0.915237  \n",
       "35            0.949231            0.776985            0.925538  0.868630  \n",
       "36            0.966305            0.819476            0.949100  0.914215  \n",
       "37            0.965061            0.820050            0.948376  0.910487  \n",
       "38            0.963478            0.821313            0.948295  0.913349  \n",
       "39            0.970262            0.815570            0.949502  0.915392  \n",
       "40            0.949909            0.768603            0.924171  0.866925  \n",
       "41            0.970488            0.818902            0.949341  0.916513  \n",
       "42            0.965739            0.820509            0.948537  0.910603  \n",
       "43            0.929670            0.814653            0.934706  0.862577  \n",
       "44            0.965513            0.817868            0.947009  0.909609  \n",
       "45            0.955111            0.817408            0.946687  0.905769  \n",
       "46            0.929218            0.815686            0.933500  0.860209  \n",
       "47            0.955225            0.816376            0.945240  0.893517  \n",
       "48            0.962686            0.818557            0.947170  0.907153  \n",
       "49            0.966983            0.817868            0.949341  0.914481  "
      ]
     },
     "execution_count": 196,
     "metadata": {},
     "output_type": "execute_result"
    }
   ],
   "source": [
    "df1 = tuned_dataframe(models)\n",
    "df1['mean'] = df1.mean(numeric_only=True, axis=1)\n",
    "df1"
   ]
  },
  {
   "cell_type": "code",
   "execution_count": 198,
   "id": "c9de61a3-47fe-4c34-877a-2cd754a92e12",
   "metadata": {
    "tags": []
   },
   "outputs": [],
   "source": [
    "# calculate tunability vector\n",
    "mean_max1 = [df1['mean'].idxmax(), df1['mean'].max()]\n",
    "tunability1 = mean_max1[1] - df1['mean']"
   ]
  },
  {
   "cell_type": "code",
   "execution_count": 201,
   "id": "b1dd4a09-8076-4946-95d8-4510b51251e1",
   "metadata": {
    "tags": []
   },
   "outputs": [
    {
     "data": {
      "text/plain": [
       "{'model__n_estimators': 75, 'model__min_samples_split': 5, 'model__min_samples_leaf': 1, 'model__max_features': 'log2', 'model__max_depth': None, 'model__bootstrap': False}"
      ]
     },
     "execution_count": 201,
     "metadata": {},
     "output_type": "execute_result"
    }
   ],
   "source": [
    "df1['params'][mean_max1[0]]"
   ]
  },
  {
   "cell_type": "markdown",
   "id": "b6d3ff0f-411c-4d5b-aef3-cca54785fa31",
   "metadata": {},
   "source": [
    "# SVM"
   ]
  },
  {
   "cell_type": "markdown",
   "id": "404c3f9b-00f7-4082-9b90-30d48538047a",
   "metadata": {},
   "source": [
    "## Prepare pipeline"
   ]
  },
  {
   "cell_type": "code",
   "execution_count": 107,
   "id": "b4f614f5-7c2f-47b7-8ede-9fd05a573d95",
   "metadata": {
    "tags": []
   },
   "outputs": [],
   "source": [
    "from sklearn.svm import SVC\n",
    "svc_pipeline = Pipeline([('preprocessing', col_trans), \n",
    "                               ('model', SVC())])"
   ]
  },
  {
   "cell_type": "markdown",
   "id": "6df1c426-e43b-4482-bb43-8bfc6f1ff005",
   "metadata": {},
   "source": [
    "## Prepare grid"
   ]
  },
  {
   "cell_type": "code",
   "execution_count": 135,
   "id": "bc32f79f-b6e8-4883-a81d-3d7fc19a006f",
   "metadata": {
    "tags": []
   },
   "outputs": [],
   "source": [
    "svc_grid = {'model__C': [0.1, 1, 10, 100, 1000],  \n",
    "              'model__gamma': [1, 0.1, 0.01, 0.001, 0.0001], \n",
    "              'model__kernel': ['rbf', 'linear', 'sigmoid']}  "
   ]
  },
  {
   "cell_type": "markdown",
   "id": "33706858-5f88-4b0f-a2c3-ac7c79bee3c8",
   "metadata": {
    "tags": []
   },
   "source": [
    "## Tuning dataset 1"
   ]
  },
  {
   "cell_type": "code",
   "execution_count": 221,
   "id": "9defd367-1128-4ddc-b24d-1e403bb45c81",
   "metadata": {
    "tags": []
   },
   "outputs": [
    {
     "name": "stderr",
     "output_type": "stream",
     "text": [
      "E:\\Python\\repo\\WzTUM\\imageclassification\\lib\\site-packages\\openml\\datasets\\functions.py:438: FutureWarning: Starting from Version 0.15 `download_data`, `download_qualities`, and `download_features_meta_data` will all be ``False`` instead of ``True`` by default to enable lazy loading. To disable this message until version 0.15 explicitly set `download_data`, `download_qualities`, and `download_features_meta_data` to a bool while calling `get_dataset`.\n",
      "  warnings.warn(\n"
     ]
    }
   ],
   "source": [
    "X_train, X_test, y_train, y_test = prepare_dataset(1471, 'Class')"
   ]
  },
  {
   "cell_type": "code",
   "execution_count": 222,
   "id": "15304f81-5734-49f6-8097-f019842a4885",
   "metadata": {
    "tags": []
   },
   "outputs": [],
   "source": [
    "svc_random = tune(svc_pipeline, svc_grid, [1, 10, 20, 30, 40, 45, 50], X_train, y_train)"
   ]
  },
  {
   "cell_type": "markdown",
   "id": "15d163b3-26a6-43c1-8068-1ac256139208",
   "metadata": {
    "tags": []
   },
   "source": [
    "## Evaluation"
   ]
  },
  {
   "cell_type": "code",
   "execution_count": 223,
   "id": "10416d13-d8bf-4324-b863-35bdb1d687af",
   "metadata": {
    "tags": []
   },
   "outputs": [
    {
     "data": {
      "text/plain": [
       "[0.5567423246782462, 0.6086440827885162, 0.6086440827885162, 0.6086440827885162, 0.6086440827885162, 0.6086440827885162, 0.6086440827885162]"
      ]
     },
     "execution_count": 223,
     "metadata": {},
     "output_type": "execute_result"
    }
   ],
   "source": [
    "best_accuracy_array(svc_random)"
   ]
  },
  {
   "cell_type": "code",
   "execution_count": 224,
   "id": "7d01602e-35c9-46ce-8faf-4d5bc9203bc4",
   "metadata": {},
   "outputs": [
    {
     "data": {
      "text/plain": [
       "[{'model__kernel': 'linear', 'model__gamma': 0.1, 'model__C': 0.1}, {'model__kernel': 'linear', 'model__gamma': 1, 'model__C': 1000}, {'model__kernel': 'linear', 'model__gamma': 1, 'model__C': 1000}, {'model__kernel': 'linear', 'model__gamma': 1, 'model__C': 1000}, {'model__kernel': 'linear', 'model__gamma': 1, 'model__C': 1000}, {'model__kernel': 'linear', 'model__gamma': 1, 'model__C': 1000}, {'model__kernel': 'linear', 'model__gamma': 1, 'model__C': 1000}]"
      ]
     },
     "execution_count": 224,
     "metadata": {},
     "output_type": "execute_result"
    }
   ],
   "source": [
    "best_params_array(svc_random)"
   ]
  },
  {
   "cell_type": "markdown",
   "id": "ff11a1f5-c4fd-47e0-b537-326e73e41fa8",
   "metadata": {
    "tags": []
   },
   "source": [
    "## Tuning dataset 2"
   ]
  },
  {
   "cell_type": "code",
   "execution_count": 225,
   "id": "359e693c-5c98-4361-9f72-d487b3ec69f8",
   "metadata": {
    "tags": []
   },
   "outputs": [
    {
     "name": "stderr",
     "output_type": "stream",
     "text": [
      "E:\\Python\\repo\\WzTUM\\imageclassification\\lib\\site-packages\\openml\\datasets\\functions.py:438: FutureWarning: Starting from Version 0.15 `download_data`, `download_qualities`, and `download_features_meta_data` will all be ``False`` instead of ``True`` by default to enable lazy loading. To disable this message until version 0.15 explicitly set `download_data`, `download_qualities`, and `download_features_meta_data` to a bool while calling `get_dataset`.\n",
      "  warnings.warn(\n"
     ]
    }
   ],
   "source": [
    "X_train, X_test, y_train, y_test = prepare_dataset(4534, 'Result')"
   ]
  },
  {
   "cell_type": "code",
   "execution_count": 226,
   "id": "6f71ea22-c5a5-43c9-9fa9-7bfdcc8a6531",
   "metadata": {
    "tags": []
   },
   "outputs": [],
   "source": [
    "svc_random = tune(svc_pipeline, svc_grid, [1, 10, 20, 30, 40, 45, 50], X_train, y_train)"
   ]
  },
  {
   "cell_type": "markdown",
   "id": "db9bd97a-59ea-4a9c-8bac-14f96b4db427",
   "metadata": {
    "tags": []
   },
   "source": [
    "## Evaluate"
   ]
  },
  {
   "cell_type": "code",
   "execution_count": 227,
   "id": "31b7cb36-4a88-4a58-924a-c153dcdaade4",
   "metadata": {
    "tags": []
   },
   "outputs": [
    {
     "data": {
      "text/plain": [
       "[0.9381500528201888, 0.9681139355772748, 0.9683398601863671, 0.9683398601863671, 0.9683398601863671, 0.9683398601863671, 0.9683398601863671]"
      ]
     },
     "execution_count": 227,
     "metadata": {},
     "output_type": "execute_result"
    }
   ],
   "source": [
    "best_accuracy_array(svc_random)"
   ]
  },
  {
   "cell_type": "code",
   "execution_count": 228,
   "id": "21c2e7f5-c894-4c59-ba2d-7b4081973cbf",
   "metadata": {
    "tags": []
   },
   "outputs": [
    {
     "data": {
      "text/plain": [
       "[{'model__kernel': 'linear', 'model__gamma': 0.1, 'model__C': 0.1}, {'model__kernel': 'rbf', 'model__gamma': 0.1, 'model__C': 1000}, {'model__kernel': 'rbf', 'model__gamma': 0.1, 'model__C': 10}, {'model__kernel': 'rbf', 'model__gamma': 0.1, 'model__C': 10}, {'model__kernel': 'rbf', 'model__gamma': 0.1, 'model__C': 10}, {'model__kernel': 'rbf', 'model__gamma': 0.1, 'model__C': 10}, {'model__kernel': 'rbf', 'model__gamma': 0.1, 'model__C': 10}]"
      ]
     },
     "execution_count": 228,
     "metadata": {},
     "output_type": "execute_result"
    }
   ],
   "source": [
    "best_params_array(svc_random)"
   ]
  },
  {
   "cell_type": "markdown",
   "id": "571431de-2040-4010-8d7d-4572b80d9549",
   "metadata": {
    "tags": []
   },
   "source": [
    "## Tuning dataset 3"
   ]
  },
  {
   "cell_type": "code",
   "execution_count": 229,
   "id": "b067011b-066e-4425-85f6-79cf659bdc50",
   "metadata": {
    "tags": []
   },
   "outputs": [
    {
     "name": "stderr",
     "output_type": "stream",
     "text": [
      "E:\\Python\\repo\\WzTUM\\imageclassification\\lib\\site-packages\\openml\\datasets\\functions.py:438: FutureWarning: Starting from Version 0.15 `download_data`, `download_qualities`, and `download_features_meta_data` will all be ``False`` instead of ``True`` by default to enable lazy loading. To disable this message until version 0.15 explicitly set `download_data`, `download_qualities`, and `download_features_meta_data` to a bool while calling `get_dataset`.\n",
      "  warnings.warn(\n"
     ]
    }
   ],
   "source": [
    "X_train, X_test, y_train, y_test = prepare_dataset(1053, 'defects')"
   ]
  },
  {
   "cell_type": "code",
   "execution_count": 230,
   "id": "6d25b03b-acac-41cf-a7d2-98163cfc34b9",
   "metadata": {
    "tags": []
   },
   "outputs": [],
   "source": [
    "svc_random = tune(svc_pipeline, svc_grid, [1, 10, 20, 30, 40, 45, 50], X_train, y_train)"
   ]
  },
  {
   "cell_type": "markdown",
   "id": "efc5071b-7fa4-456f-b5c9-91cb8c994930",
   "metadata": {
    "tags": []
   },
   "source": [
    "## Evaluate"
   ]
  },
  {
   "cell_type": "code",
   "execution_count": 231,
   "id": "f085983a-9ff3-417c-b79b-8d70dfb18d51",
   "metadata": {
    "tags": []
   },
   "outputs": [
    {
     "data": {
      "text/plain": [
       "[0.806385010396258, 0.8096003656000912, 0.8096003656000912, 0.8114375324367866, 0.8114375324367866, 0.8114375324367866, 0.8114375324367866]"
      ]
     },
     "execution_count": 231,
     "metadata": {},
     "output_type": "execute_result"
    }
   ],
   "source": [
    "best_accuracy_array(svc_random)"
   ]
  },
  {
   "cell_type": "code",
   "execution_count": 232,
   "id": "999925fd-660d-4b3c-89d0-fdec0ff7ba36",
   "metadata": {
    "tags": []
   },
   "outputs": [
    {
     "data": {
      "text/plain": [
       "[{'model__kernel': 'linear', 'model__gamma': 0.1, 'model__C': 0.1}, {'model__kernel': 'rbf', 'model__gamma': 0.1, 'model__C': 1000}, {'model__kernel': 'rbf', 'model__gamma': 0.1, 'model__C': 1000}, {'model__kernel': 'rbf', 'model__gamma': 1, 'model__C': 100}, {'model__kernel': 'rbf', 'model__gamma': 1, 'model__C': 100}, {'model__kernel': 'rbf', 'model__gamma': 1, 'model__C': 100}, {'model__kernel': 'rbf', 'model__gamma': 1, 'model__C': 100}]"
      ]
     },
     "execution_count": 232,
     "metadata": {},
     "output_type": "execute_result"
    }
   ],
   "source": [
    "best_params_array(svc_random)"
   ]
  },
  {
   "cell_type": "markdown",
   "id": "2ba7ad75-9534-4c12-8c5e-9ad5827211a0",
   "metadata": {
    "tags": []
   },
   "source": [
    "## Tuning dataset 4"
   ]
  },
  {
   "cell_type": "code",
   "execution_count": 233,
   "id": "86b7c2a0-31e2-4e25-9e81-41a5a8b05900",
   "metadata": {
    "tags": []
   },
   "outputs": [
    {
     "name": "stderr",
     "output_type": "stream",
     "text": [
      "E:\\Python\\repo\\WzTUM\\imageclassification\\lib\\site-packages\\openml\\datasets\\functions.py:438: FutureWarning: Starting from Version 0.15 `download_data`, `download_qualities`, and `download_features_meta_data` will all be ``False`` instead of ``True`` by default to enable lazy loading. To disable this message until version 0.15 explicitly set `download_data`, `download_qualities`, and `download_features_meta_data` to a bool while calling `get_dataset`.\n",
      "  warnings.warn(\n"
     ]
    }
   ],
   "source": [
    "X_train, X_test, y_train, y_test = prepare_dataset(1046, 'state')"
   ]
  },
  {
   "cell_type": "code",
   "execution_count": 234,
   "id": "7d925ea8-d24d-47e4-b9e9-848ba6bf39f0",
   "metadata": {
    "tags": []
   },
   "outputs": [],
   "source": [
    "svc_random = tune(svc_pipeline, svc_grid, [1, 10, 20, 30, 40, 45, 50], X_train, y_train)"
   ]
  },
  {
   "cell_type": "markdown",
   "id": "7388af86-0255-4d5f-bc42-f1236b612f27",
   "metadata": {
    "tags": []
   },
   "source": [
    "## Evaluate"
   ]
  },
  {
   "cell_type": "code",
   "execution_count": 235,
   "id": "b6664c8d-1567-4857-b0b8-f989cce9ec89",
   "metadata": {
    "tags": []
   },
   "outputs": [
    {
     "data": {
      "text/plain": [
       "[0.8288030233096346, 0.8704564377851645, 0.8704564377851645, 0.8830811538327275, 0.8830811538327275, 0.8830811538327275, 0.8830811538327275]"
      ]
     },
     "execution_count": 235,
     "metadata": {},
     "output_type": "execute_result"
    }
   ],
   "source": [
    "best_accuracy_array(svc_random)"
   ]
  },
  {
   "cell_type": "code",
   "execution_count": 236,
   "id": "f65ec8cb-e3bd-4791-8f94-f636ded1f27b",
   "metadata": {
    "tags": []
   },
   "outputs": [
    {
     "data": {
      "text/plain": [
       "[{'model__kernel': 'linear', 'model__gamma': 0.1, 'model__C': 0.1}, {'model__kernel': 'rbf', 'model__gamma': 0.1, 'model__C': 1000}, {'model__kernel': 'rbf', 'model__gamma': 0.1, 'model__C': 1000}, {'model__kernel': 'rbf', 'model__gamma': 1, 'model__C': 100}, {'model__kernel': 'rbf', 'model__gamma': 1, 'model__C': 100}, {'model__kernel': 'rbf', 'model__gamma': 1, 'model__C': 100}, {'model__kernel': 'rbf', 'model__gamma': 1, 'model__C': 100}]"
      ]
     },
     "execution_count": 236,
     "metadata": {},
     "output_type": "execute_result"
    }
   ],
   "source": [
    "best_params_array(svc_random)"
   ]
  },
  {
   "cell_type": "markdown",
   "id": "26ed4a6c-8be0-441e-9707-cd31ec51971a",
   "metadata": {
    "tags": []
   },
   "source": [
    "## Tuning all datasets"
   ]
  },
  {
   "cell_type": "code",
   "execution_count": 136,
   "id": "6d6b564c-4d38-4ef3-bb49-d02844dde881",
   "metadata": {
    "tags": []
   },
   "outputs": [
    {
     "name": "stderr",
     "output_type": "stream",
     "text": [
      "E:\\Python\\repo\\WzTUM\\imageclassification\\lib\\site-packages\\openml\\datasets\\functions.py:438: FutureWarning: Starting from Version 0.15 `download_data`, `download_qualities`, and `download_features_meta_data` will all be ``False`` instead of ``True`` by default to enable lazy loading. To disable this message until version 0.15 explicitly set `download_data`, `download_qualities`, and `download_features_meta_data` to a bool while calling `get_dataset`.\n",
      "  warnings.warn(\n",
      "E:\\Python\\repo\\WzTUM\\imageclassification\\lib\\site-packages\\openml\\datasets\\functions.py:438: FutureWarning: Starting from Version 0.15 `download_data`, `download_qualities`, and `download_features_meta_data` will all be ``False`` instead of ``True`` by default to enable lazy loading. To disable this message until version 0.15 explicitly set `download_data`, `download_qualities`, and `download_features_meta_data` to a bool while calling `get_dataset`.\n",
      "  warnings.warn(\n",
      "E:\\Python\\repo\\WzTUM\\imageclassification\\lib\\site-packages\\openml\\datasets\\functions.py:438: FutureWarning: Starting from Version 0.15 `download_data`, `download_qualities`, and `download_features_meta_data` will all be ``False`` instead of ``True`` by default to enable lazy loading. To disable this message until version 0.15 explicitly set `download_data`, `download_qualities`, and `download_features_meta_data` to a bool while calling `get_dataset`.\n",
      "  warnings.warn(\n",
      "E:\\Python\\repo\\WzTUM\\imageclassification\\lib\\site-packages\\openml\\datasets\\functions.py:438: FutureWarning: Starting from Version 0.15 `download_data`, `download_qualities`, and `download_features_meta_data` will all be ``False`` instead of ``True`` by default to enable lazy loading. To disable this message until version 0.15 explicitly set `download_data`, `download_qualities`, and `download_features_meta_data` to a bool while calling `get_dataset`.\n",
      "  warnings.warn(\n"
     ]
    }
   ],
   "source": [
    "models2 = all_tune(svc_pipeline, svc_grid, 50)"
   ]
  },
  {
   "cell_type": "code",
   "execution_count": 143,
   "id": "4a189376-a8be-41a5-8439-5b6ec8271498",
   "metadata": {
    "tags": []
   },
   "outputs": [
    {
     "data": {
      "text/html": [
       "<div>\n",
       "<style scoped>\n",
       "    .dataframe tbody tr th:only-of-type {\n",
       "        vertical-align: middle;\n",
       "    }\n",
       "\n",
       "    .dataframe tbody tr th {\n",
       "        vertical-align: top;\n",
       "    }\n",
       "\n",
       "    .dataframe thead th {\n",
       "        text-align: right;\n",
       "    }\n",
       "</style>\n",
       "<table border=\"1\" class=\"dataframe\">\n",
       "  <thead>\n",
       "    <tr style=\"text-align: right;\">\n",
       "      <th></th>\n",
       "      <th>params</th>\n",
       "      <th>dataset_1_accuracy</th>\n",
       "      <th>dataset_2_accuracy</th>\n",
       "      <th>dataset_3_accuracy</th>\n",
       "      <th>dataset_4_accuracy</th>\n",
       "      <th>mean</th>\n",
       "    </tr>\n",
       "  </thead>\n",
       "  <tbody>\n",
       "    <tr>\n",
       "      <th>0</th>\n",
       "      <td>{'model__kernel': 'linear', 'model__gamma': 0....</td>\n",
       "      <td>0.556742</td>\n",
       "      <td>0.938150</td>\n",
       "      <td>0.806385</td>\n",
       "      <td>0.828803</td>\n",
       "      <td>0.782520</td>\n",
       "    </tr>\n",
       "    <tr>\n",
       "      <th>1</th>\n",
       "      <td>{'model__kernel': 'rbf', 'model__gamma': 0.1, ...</td>\n",
       "      <td>0.602553</td>\n",
       "      <td>0.968114</td>\n",
       "      <td>0.809600</td>\n",
       "      <td>0.870456</td>\n",
       "      <td>0.812681</td>\n",
       "    </tr>\n",
       "    <tr>\n",
       "      <th>2</th>\n",
       "      <td>{'model__kernel': 'linear', 'model__gamma': 0....</td>\n",
       "      <td>0.556742</td>\n",
       "      <td>0.938150</td>\n",
       "      <td>0.806385</td>\n",
       "      <td>0.828803</td>\n",
       "      <td>0.782520</td>\n",
       "    </tr>\n",
       "    <tr>\n",
       "      <th>3</th>\n",
       "      <td>{'model__kernel': 'rbf', 'model__gamma': 1, 'm...</td>\n",
       "      <td>0.556659</td>\n",
       "      <td>0.571008</td>\n",
       "      <td>0.806615</td>\n",
       "      <td>0.825024</td>\n",
       "      <td>0.689826</td>\n",
       "    </tr>\n",
       "    <tr>\n",
       "      <th>4</th>\n",
       "      <td>{'model__kernel': 'sigmoid', 'model__gamma': 0...</td>\n",
       "      <td>0.556826</td>\n",
       "      <td>0.786069</td>\n",
       "      <td>0.807304</td>\n",
       "      <td>0.754906</td>\n",
       "      <td>0.726276</td>\n",
       "    </tr>\n",
       "    <tr>\n",
       "      <th>5</th>\n",
       "      <td>{'model__kernel': 'linear', 'model__gamma': 1,...</td>\n",
       "      <td>0.608644</td>\n",
       "      <td>0.938376</td>\n",
       "      <td>0.809256</td>\n",
       "      <td>0.832744</td>\n",
       "      <td>0.797255</td>\n",
       "    </tr>\n",
       "    <tr>\n",
       "      <th>6</th>\n",
       "      <td>{'model__kernel': 'linear', 'model__gamma': 0....</td>\n",
       "      <td>0.557076</td>\n",
       "      <td>0.939507</td>\n",
       "      <td>0.807074</td>\n",
       "      <td>0.835559</td>\n",
       "      <td>0.784804</td>\n",
       "    </tr>\n",
       "    <tr>\n",
       "      <th>7</th>\n",
       "      <td>{'model__kernel': 'rbf', 'model__gamma': 0.000...</td>\n",
       "      <td>0.556659</td>\n",
       "      <td>0.554274</td>\n",
       "      <td>0.806270</td>\n",
       "      <td>0.668623</td>\n",
       "      <td>0.646457</td>\n",
       "    </tr>\n",
       "    <tr>\n",
       "      <th>8</th>\n",
       "      <td>{'model__kernel': 'rbf', 'model__gamma': 0.001...</td>\n",
       "      <td>0.557994</td>\n",
       "      <td>0.950475</td>\n",
       "      <td>0.807074</td>\n",
       "      <td>0.838212</td>\n",
       "      <td>0.788439</td>\n",
       "    </tr>\n",
       "    <tr>\n",
       "      <th>9</th>\n",
       "      <td>{'model__kernel': 'linear', 'model__gamma': 0....</td>\n",
       "      <td>0.608644</td>\n",
       "      <td>0.938376</td>\n",
       "      <td>0.809256</td>\n",
       "      <td>0.832744</td>\n",
       "      <td>0.797255</td>\n",
       "    </tr>\n",
       "    <tr>\n",
       "      <th>10</th>\n",
       "      <td>{'model__kernel': 'linear', 'model__gamma': 0....</td>\n",
       "      <td>0.567756</td>\n",
       "      <td>0.938829</td>\n",
       "      <td>0.807533</td>\n",
       "      <td>0.832905</td>\n",
       "      <td>0.786756</td>\n",
       "    </tr>\n",
       "    <tr>\n",
       "      <th>11</th>\n",
       "      <td>{'model__kernel': 'rbf', 'model__gamma': 0.000...</td>\n",
       "      <td>0.556659</td>\n",
       "      <td>0.917571</td>\n",
       "      <td>0.806270</td>\n",
       "      <td>0.668623</td>\n",
       "      <td>0.737281</td>\n",
       "    </tr>\n",
       "    <tr>\n",
       "      <th>12</th>\n",
       "      <td>{'model__kernel': 'linear', 'model__gamma': 0....</td>\n",
       "      <td>0.594124</td>\n",
       "      <td>0.938602</td>\n",
       "      <td>0.808682</td>\n",
       "      <td>0.832744</td>\n",
       "      <td>0.793538</td>\n",
       "    </tr>\n",
       "    <tr>\n",
       "      <th>13</th>\n",
       "      <td>{'model__kernel': 'rbf', 'model__gamma': 0.1, ...</td>\n",
       "      <td>0.556659</td>\n",
       "      <td>0.960877</td>\n",
       "      <td>0.807189</td>\n",
       "      <td>0.807977</td>\n",
       "      <td>0.783175</td>\n",
       "    </tr>\n",
       "    <tr>\n",
       "      <th>14</th>\n",
       "      <td>{'model__kernel': 'rbf', 'model__gamma': 0.001...</td>\n",
       "      <td>0.556659</td>\n",
       "      <td>0.913501</td>\n",
       "      <td>0.806270</td>\n",
       "      <td>0.668623</td>\n",
       "      <td>0.736263</td>\n",
       "    </tr>\n",
       "    <tr>\n",
       "      <th>15</th>\n",
       "      <td>{'model__kernel': 'linear', 'model__gamma': 0....</td>\n",
       "      <td>0.557076</td>\n",
       "      <td>0.939507</td>\n",
       "      <td>0.807074</td>\n",
       "      <td>0.835559</td>\n",
       "      <td>0.784804</td>\n",
       "    </tr>\n",
       "    <tr>\n",
       "      <th>16</th>\n",
       "      <td>{'model__kernel': 'sigmoid', 'model__gamma': 0...</td>\n",
       "      <td>0.556659</td>\n",
       "      <td>0.916214</td>\n",
       "      <td>0.806270</td>\n",
       "      <td>0.778707</td>\n",
       "      <td>0.764463</td>\n",
       "    </tr>\n",
       "    <tr>\n",
       "      <th>17</th>\n",
       "      <td>{'model__kernel': 'rbf', 'model__gamma': 0.1, ...</td>\n",
       "      <td>0.558077</td>\n",
       "      <td>0.968340</td>\n",
       "      <td>0.807763</td>\n",
       "      <td>0.848585</td>\n",
       "      <td>0.795691</td>\n",
       "    </tr>\n",
       "    <tr>\n",
       "      <th>18</th>\n",
       "      <td>{'model__kernel': 'sigmoid', 'model__gamma': 0...</td>\n",
       "      <td>0.556742</td>\n",
       "      <td>0.938150</td>\n",
       "      <td>0.806385</td>\n",
       "      <td>0.828401</td>\n",
       "      <td>0.782420</td>\n",
       "    </tr>\n",
       "    <tr>\n",
       "      <th>19</th>\n",
       "      <td>{'model__kernel': 'rbf', 'model__gamma': 0.01,...</td>\n",
       "      <td>0.573346</td>\n",
       "      <td>0.964270</td>\n",
       "      <td>0.808337</td>\n",
       "      <td>0.849872</td>\n",
       "      <td>0.798956</td>\n",
       "    </tr>\n",
       "    <tr>\n",
       "      <th>20</th>\n",
       "      <td>{'model__kernel': 'rbf', 'model__gamma': 0.001...</td>\n",
       "      <td>0.556659</td>\n",
       "      <td>0.938264</td>\n",
       "      <td>0.806270</td>\n",
       "      <td>0.737778</td>\n",
       "      <td>0.759743</td>\n",
       "    </tr>\n",
       "    <tr>\n",
       "      <th>21</th>\n",
       "      <td>{'model__kernel': 'linear', 'model__gamma': 0....</td>\n",
       "      <td>0.567756</td>\n",
       "      <td>0.938829</td>\n",
       "      <td>0.807533</td>\n",
       "      <td>0.832905</td>\n",
       "      <td>0.786756</td>\n",
       "    </tr>\n",
       "    <tr>\n",
       "      <th>22</th>\n",
       "      <td>{'model__kernel': 'linear', 'model__gamma': 1,...</td>\n",
       "      <td>0.557076</td>\n",
       "      <td>0.939507</td>\n",
       "      <td>0.807074</td>\n",
       "      <td>0.835559</td>\n",
       "      <td>0.784804</td>\n",
       "    </tr>\n",
       "    <tr>\n",
       "      <th>23</th>\n",
       "      <td>{'model__kernel': 'sigmoid', 'model__gamma': 0...</td>\n",
       "      <td>0.556742</td>\n",
       "      <td>0.913952</td>\n",
       "      <td>0.806270</td>\n",
       "      <td>0.668623</td>\n",
       "      <td>0.736397</td>\n",
       "    </tr>\n",
       "    <tr>\n",
       "      <th>24</th>\n",
       "      <td>{'model__kernel': 'rbf', 'model__gamma': 1, 'm...</td>\n",
       "      <td>0.607225</td>\n",
       "      <td>0.951606</td>\n",
       "      <td>0.811438</td>\n",
       "      <td>0.883081</td>\n",
       "      <td>0.813337</td>\n",
       "    </tr>\n",
       "    <tr>\n",
       "      <th>25</th>\n",
       "      <td>{'model__kernel': 'rbf', 'model__gamma': 1, 'm...</td>\n",
       "      <td>0.577268</td>\n",
       "      <td>0.951606</td>\n",
       "      <td>0.810404</td>\n",
       "      <td>0.874075</td>\n",
       "      <td>0.803338</td>\n",
       "    </tr>\n",
       "    <tr>\n",
       "      <th>26</th>\n",
       "      <td>{'model__kernel': 'linear', 'model__gamma': 0....</td>\n",
       "      <td>0.556742</td>\n",
       "      <td>0.938150</td>\n",
       "      <td>0.806385</td>\n",
       "      <td>0.828803</td>\n",
       "      <td>0.782520</td>\n",
       "    </tr>\n",
       "    <tr>\n",
       "      <th>27</th>\n",
       "      <td>{'model__kernel': 'linear', 'model__gamma': 0....</td>\n",
       "      <td>0.594124</td>\n",
       "      <td>0.938602</td>\n",
       "      <td>0.808682</td>\n",
       "      <td>0.832744</td>\n",
       "      <td>0.793538</td>\n",
       "    </tr>\n",
       "    <tr>\n",
       "      <th>28</th>\n",
       "      <td>{'model__kernel': 'sigmoid', 'model__gamma': 1...</td>\n",
       "      <td>0.481390</td>\n",
       "      <td>0.558345</td>\n",
       "      <td>0.764011</td>\n",
       "      <td>0.684544</td>\n",
       "      <td>0.622072</td>\n",
       "    </tr>\n",
       "    <tr>\n",
       "      <th>29</th>\n",
       "      <td>{'model__kernel': 'linear', 'model__gamma': 1,...</td>\n",
       "      <td>0.567756</td>\n",
       "      <td>0.938829</td>\n",
       "      <td>0.807533</td>\n",
       "      <td>0.832905</td>\n",
       "      <td>0.786756</td>\n",
       "    </tr>\n",
       "    <tr>\n",
       "      <th>30</th>\n",
       "      <td>{'model__kernel': 'sigmoid', 'model__gamma': 0...</td>\n",
       "      <td>0.557076</td>\n",
       "      <td>0.906716</td>\n",
       "      <td>0.807074</td>\n",
       "      <td>0.835237</td>\n",
       "      <td>0.776526</td>\n",
       "    </tr>\n",
       "    <tr>\n",
       "      <th>31</th>\n",
       "      <td>{'model__kernel': 'sigmoid', 'model__gamma': 0...</td>\n",
       "      <td>0.565754</td>\n",
       "      <td>0.774311</td>\n",
       "      <td>0.809370</td>\n",
       "      <td>0.730299</td>\n",
       "      <td>0.719933</td>\n",
       "    </tr>\n",
       "    <tr>\n",
       "      <th>32</th>\n",
       "      <td>{'model__kernel': 'linear', 'model__gamma': 0....</td>\n",
       "      <td>0.557076</td>\n",
       "      <td>0.939507</td>\n",
       "      <td>0.807074</td>\n",
       "      <td>0.835559</td>\n",
       "      <td>0.784804</td>\n",
       "    </tr>\n",
       "    <tr>\n",
       "      <th>33</th>\n",
       "      <td>{'model__kernel': 'sigmoid', 'model__gamma': 1...</td>\n",
       "      <td>0.478720</td>\n",
       "      <td>0.608659</td>\n",
       "      <td>0.744026</td>\n",
       "      <td>0.684383</td>\n",
       "      <td>0.628947</td>\n",
       "    </tr>\n",
       "    <tr>\n",
       "      <th>34</th>\n",
       "      <td>{'model__kernel': 'linear', 'model__gamma': 0....</td>\n",
       "      <td>0.557076</td>\n",
       "      <td>0.939507</td>\n",
       "      <td>0.807074</td>\n",
       "      <td>0.835559</td>\n",
       "      <td>0.784804</td>\n",
       "    </tr>\n",
       "    <tr>\n",
       "      <th>35</th>\n",
       "      <td>{'model__kernel': 'sigmoid', 'model__gamma': 0...</td>\n",
       "      <td>0.556742</td>\n",
       "      <td>0.938150</td>\n",
       "      <td>0.806385</td>\n",
       "      <td>0.828883</td>\n",
       "      <td>0.782540</td>\n",
       "    </tr>\n",
       "    <tr>\n",
       "      <th>36</th>\n",
       "      <td>{'model__kernel': 'linear', 'model__gamma': 0....</td>\n",
       "      <td>0.556742</td>\n",
       "      <td>0.938150</td>\n",
       "      <td>0.806385</td>\n",
       "      <td>0.828803</td>\n",
       "      <td>0.782520</td>\n",
       "    </tr>\n",
       "    <tr>\n",
       "      <th>37</th>\n",
       "      <td>{'model__kernel': 'rbf', 'model__gamma': 0.001...</td>\n",
       "      <td>0.556659</td>\n",
       "      <td>0.941316</td>\n",
       "      <td>0.806615</td>\n",
       "      <td>0.846414</td>\n",
       "      <td>0.787751</td>\n",
       "    </tr>\n",
       "    <tr>\n",
       "      <th>38</th>\n",
       "      <td>{'model__kernel': 'rbf', 'model__gamma': 0.1, ...</td>\n",
       "      <td>0.556659</td>\n",
       "      <td>0.940864</td>\n",
       "      <td>0.806270</td>\n",
       "      <td>0.736089</td>\n",
       "      <td>0.759970</td>\n",
       "    </tr>\n",
       "    <tr>\n",
       "      <th>39</th>\n",
       "      <td>{'model__kernel': 'sigmoid', 'model__gamma': 1...</td>\n",
       "      <td>0.556659</td>\n",
       "      <td>0.554387</td>\n",
       "      <td>0.806959</td>\n",
       "      <td>0.686393</td>\n",
       "      <td>0.651100</td>\n",
       "    </tr>\n",
       "    <tr>\n",
       "      <th>40</th>\n",
       "      <td>{'model__kernel': 'sigmoid', 'model__gamma': 0...</td>\n",
       "      <td>0.556742</td>\n",
       "      <td>0.934080</td>\n",
       "      <td>0.806385</td>\n",
       "      <td>0.829044</td>\n",
       "      <td>0.781563</td>\n",
       "    </tr>\n",
       "    <tr>\n",
       "      <th>41</th>\n",
       "      <td>{'model__kernel': 'sigmoid', 'model__gamma': 0...</td>\n",
       "      <td>0.556659</td>\n",
       "      <td>0.913726</td>\n",
       "      <td>0.806270</td>\n",
       "      <td>0.668623</td>\n",
       "      <td>0.736320</td>\n",
       "    </tr>\n",
       "    <tr>\n",
       "      <th>42</th>\n",
       "      <td>{'model__kernel': 'rbf', 'model__gamma': 0.000...</td>\n",
       "      <td>0.556742</td>\n",
       "      <td>0.938602</td>\n",
       "      <td>0.806615</td>\n",
       "      <td>0.845931</td>\n",
       "      <td>0.786973</td>\n",
       "    </tr>\n",
       "    <tr>\n",
       "      <th>43</th>\n",
       "      <td>{'model__kernel': 'rbf', 'model__gamma': 0.01,...</td>\n",
       "      <td>0.556659</td>\n",
       "      <td>0.916779</td>\n",
       "      <td>0.806270</td>\n",
       "      <td>0.668623</td>\n",
       "      <td>0.737083</td>\n",
       "    </tr>\n",
       "    <tr>\n",
       "      <th>44</th>\n",
       "      <td>{'model__kernel': 'rbf', 'model__gamma': 0.01,...</td>\n",
       "      <td>0.556659</td>\n",
       "      <td>0.951153</td>\n",
       "      <td>0.806730</td>\n",
       "      <td>0.849228</td>\n",
       "      <td>0.790943</td>\n",
       "    </tr>\n",
       "    <tr>\n",
       "      <th>45</th>\n",
       "      <td>{'model__kernel': 'sigmoid', 'model__gamma': 0...</td>\n",
       "      <td>0.567673</td>\n",
       "      <td>0.901629</td>\n",
       "      <td>0.807533</td>\n",
       "      <td>0.831457</td>\n",
       "      <td>0.777073</td>\n",
       "    </tr>\n",
       "    <tr>\n",
       "      <th>46</th>\n",
       "      <td>{'model__kernel': 'linear', 'model__gamma': 0....</td>\n",
       "      <td>0.594124</td>\n",
       "      <td>0.938602</td>\n",
       "      <td>0.808682</td>\n",
       "      <td>0.832744</td>\n",
       "      <td>0.793538</td>\n",
       "    </tr>\n",
       "    <tr>\n",
       "      <th>47</th>\n",
       "      <td>{'model__kernel': 'linear', 'model__gamma': 1,...</td>\n",
       "      <td>0.594124</td>\n",
       "      <td>0.938602</td>\n",
       "      <td>0.808682</td>\n",
       "      <td>0.832744</td>\n",
       "      <td>0.793538</td>\n",
       "    </tr>\n",
       "    <tr>\n",
       "      <th>48</th>\n",
       "      <td>{'model__kernel': 'linear', 'model__gamma': 0....</td>\n",
       "      <td>0.608644</td>\n",
       "      <td>0.938376</td>\n",
       "      <td>0.809256</td>\n",
       "      <td>0.832744</td>\n",
       "      <td>0.797255</td>\n",
       "    </tr>\n",
       "    <tr>\n",
       "      <th>49</th>\n",
       "      <td>{'model__kernel': 'rbf', 'model__gamma': 1, 'm...</td>\n",
       "      <td>0.558244</td>\n",
       "      <td>0.950023</td>\n",
       "      <td>0.809600</td>\n",
       "      <td>0.858717</td>\n",
       "      <td>0.794146</td>\n",
       "    </tr>\n",
       "  </tbody>\n",
       "</table>\n",
       "</div>"
      ],
      "text/plain": [
       "                                               params  dataset_1_accuracy   \n",
       "0   {'model__kernel': 'linear', 'model__gamma': 0....            0.556742  \\\n",
       "1   {'model__kernel': 'rbf', 'model__gamma': 0.1, ...            0.602553   \n",
       "2   {'model__kernel': 'linear', 'model__gamma': 0....            0.556742   \n",
       "3   {'model__kernel': 'rbf', 'model__gamma': 1, 'm...            0.556659   \n",
       "4   {'model__kernel': 'sigmoid', 'model__gamma': 0...            0.556826   \n",
       "5   {'model__kernel': 'linear', 'model__gamma': 1,...            0.608644   \n",
       "6   {'model__kernel': 'linear', 'model__gamma': 0....            0.557076   \n",
       "7   {'model__kernel': 'rbf', 'model__gamma': 0.000...            0.556659   \n",
       "8   {'model__kernel': 'rbf', 'model__gamma': 0.001...            0.557994   \n",
       "9   {'model__kernel': 'linear', 'model__gamma': 0....            0.608644   \n",
       "10  {'model__kernel': 'linear', 'model__gamma': 0....            0.567756   \n",
       "11  {'model__kernel': 'rbf', 'model__gamma': 0.000...            0.556659   \n",
       "12  {'model__kernel': 'linear', 'model__gamma': 0....            0.594124   \n",
       "13  {'model__kernel': 'rbf', 'model__gamma': 0.1, ...            0.556659   \n",
       "14  {'model__kernel': 'rbf', 'model__gamma': 0.001...            0.556659   \n",
       "15  {'model__kernel': 'linear', 'model__gamma': 0....            0.557076   \n",
       "16  {'model__kernel': 'sigmoid', 'model__gamma': 0...            0.556659   \n",
       "17  {'model__kernel': 'rbf', 'model__gamma': 0.1, ...            0.558077   \n",
       "18  {'model__kernel': 'sigmoid', 'model__gamma': 0...            0.556742   \n",
       "19  {'model__kernel': 'rbf', 'model__gamma': 0.01,...            0.573346   \n",
       "20  {'model__kernel': 'rbf', 'model__gamma': 0.001...            0.556659   \n",
       "21  {'model__kernel': 'linear', 'model__gamma': 0....            0.567756   \n",
       "22  {'model__kernel': 'linear', 'model__gamma': 1,...            0.557076   \n",
       "23  {'model__kernel': 'sigmoid', 'model__gamma': 0...            0.556742   \n",
       "24  {'model__kernel': 'rbf', 'model__gamma': 1, 'm...            0.607225   \n",
       "25  {'model__kernel': 'rbf', 'model__gamma': 1, 'm...            0.577268   \n",
       "26  {'model__kernel': 'linear', 'model__gamma': 0....            0.556742   \n",
       "27  {'model__kernel': 'linear', 'model__gamma': 0....            0.594124   \n",
       "28  {'model__kernel': 'sigmoid', 'model__gamma': 1...            0.481390   \n",
       "29  {'model__kernel': 'linear', 'model__gamma': 1,...            0.567756   \n",
       "30  {'model__kernel': 'sigmoid', 'model__gamma': 0...            0.557076   \n",
       "31  {'model__kernel': 'sigmoid', 'model__gamma': 0...            0.565754   \n",
       "32  {'model__kernel': 'linear', 'model__gamma': 0....            0.557076   \n",
       "33  {'model__kernel': 'sigmoid', 'model__gamma': 1...            0.478720   \n",
       "34  {'model__kernel': 'linear', 'model__gamma': 0....            0.557076   \n",
       "35  {'model__kernel': 'sigmoid', 'model__gamma': 0...            0.556742   \n",
       "36  {'model__kernel': 'linear', 'model__gamma': 0....            0.556742   \n",
       "37  {'model__kernel': 'rbf', 'model__gamma': 0.001...            0.556659   \n",
       "38  {'model__kernel': 'rbf', 'model__gamma': 0.1, ...            0.556659   \n",
       "39  {'model__kernel': 'sigmoid', 'model__gamma': 1...            0.556659   \n",
       "40  {'model__kernel': 'sigmoid', 'model__gamma': 0...            0.556742   \n",
       "41  {'model__kernel': 'sigmoid', 'model__gamma': 0...            0.556659   \n",
       "42  {'model__kernel': 'rbf', 'model__gamma': 0.000...            0.556742   \n",
       "43  {'model__kernel': 'rbf', 'model__gamma': 0.01,...            0.556659   \n",
       "44  {'model__kernel': 'rbf', 'model__gamma': 0.01,...            0.556659   \n",
       "45  {'model__kernel': 'sigmoid', 'model__gamma': 0...            0.567673   \n",
       "46  {'model__kernel': 'linear', 'model__gamma': 0....            0.594124   \n",
       "47  {'model__kernel': 'linear', 'model__gamma': 1,...            0.594124   \n",
       "48  {'model__kernel': 'linear', 'model__gamma': 0....            0.608644   \n",
       "49  {'model__kernel': 'rbf', 'model__gamma': 1, 'm...            0.558244   \n",
       "\n",
       "    dataset_2_accuracy  dataset_3_accuracy  dataset_4_accuracy      mean  \n",
       "0             0.938150            0.806385            0.828803  0.782520  \n",
       "1             0.968114            0.809600            0.870456  0.812681  \n",
       "2             0.938150            0.806385            0.828803  0.782520  \n",
       "3             0.571008            0.806615            0.825024  0.689826  \n",
       "4             0.786069            0.807304            0.754906  0.726276  \n",
       "5             0.938376            0.809256            0.832744  0.797255  \n",
       "6             0.939507            0.807074            0.835559  0.784804  \n",
       "7             0.554274            0.806270            0.668623  0.646457  \n",
       "8             0.950475            0.807074            0.838212  0.788439  \n",
       "9             0.938376            0.809256            0.832744  0.797255  \n",
       "10            0.938829            0.807533            0.832905  0.786756  \n",
       "11            0.917571            0.806270            0.668623  0.737281  \n",
       "12            0.938602            0.808682            0.832744  0.793538  \n",
       "13            0.960877            0.807189            0.807977  0.783175  \n",
       "14            0.913501            0.806270            0.668623  0.736263  \n",
       "15            0.939507            0.807074            0.835559  0.784804  \n",
       "16            0.916214            0.806270            0.778707  0.764463  \n",
       "17            0.968340            0.807763            0.848585  0.795691  \n",
       "18            0.938150            0.806385            0.828401  0.782420  \n",
       "19            0.964270            0.808337            0.849872  0.798956  \n",
       "20            0.938264            0.806270            0.737778  0.759743  \n",
       "21            0.938829            0.807533            0.832905  0.786756  \n",
       "22            0.939507            0.807074            0.835559  0.784804  \n",
       "23            0.913952            0.806270            0.668623  0.736397  \n",
       "24            0.951606            0.811438            0.883081  0.813337  \n",
       "25            0.951606            0.810404            0.874075  0.803338  \n",
       "26            0.938150            0.806385            0.828803  0.782520  \n",
       "27            0.938602            0.808682            0.832744  0.793538  \n",
       "28            0.558345            0.764011            0.684544  0.622072  \n",
       "29            0.938829            0.807533            0.832905  0.786756  \n",
       "30            0.906716            0.807074            0.835237  0.776526  \n",
       "31            0.774311            0.809370            0.730299  0.719933  \n",
       "32            0.939507            0.807074            0.835559  0.784804  \n",
       "33            0.608659            0.744026            0.684383  0.628947  \n",
       "34            0.939507            0.807074            0.835559  0.784804  \n",
       "35            0.938150            0.806385            0.828883  0.782540  \n",
       "36            0.938150            0.806385            0.828803  0.782520  \n",
       "37            0.941316            0.806615            0.846414  0.787751  \n",
       "38            0.940864            0.806270            0.736089  0.759970  \n",
       "39            0.554387            0.806959            0.686393  0.651100  \n",
       "40            0.934080            0.806385            0.829044  0.781563  \n",
       "41            0.913726            0.806270            0.668623  0.736320  \n",
       "42            0.938602            0.806615            0.845931  0.786973  \n",
       "43            0.916779            0.806270            0.668623  0.737083  \n",
       "44            0.951153            0.806730            0.849228  0.790943  \n",
       "45            0.901629            0.807533            0.831457  0.777073  \n",
       "46            0.938602            0.808682            0.832744  0.793538  \n",
       "47            0.938602            0.808682            0.832744  0.793538  \n",
       "48            0.938376            0.809256            0.832744  0.797255  \n",
       "49            0.950023            0.809600            0.858717  0.794146  "
      ]
     },
     "execution_count": 143,
     "metadata": {},
     "output_type": "execute_result"
    }
   ],
   "source": [
    "df2 = tuned_dataframe(models2)\n",
    "df2['mean'] = df2.mean(numeric_only=True, axis=1)\n",
    "df2"
   ]
  },
  {
   "cell_type": "code",
   "execution_count": 147,
   "id": "4a5d29ad-776e-4c42-bd9f-152c05db6f39",
   "metadata": {
    "tags": []
   },
   "outputs": [],
   "source": [
    "# calculate tunability vector\n",
    "mean_max2 = [df2['mean'].idxmax(), df2['mean'].max()]\n",
    "tunability2 = mean_max2[1] - df2['mean']"
   ]
  },
  {
   "cell_type": "code",
   "execution_count": 202,
   "id": "520b3729-6c47-4783-8cc7-157d5206de64",
   "metadata": {
    "tags": []
   },
   "outputs": [
    {
     "data": {
      "text/plain": [
       "{'model__kernel': 'rbf', 'model__gamma': 1, 'model__C': 100}"
      ]
     },
     "execution_count": 202,
     "metadata": {},
     "output_type": "execute_result"
    }
   ],
   "source": [
    "# best configuration \n",
    "df2['params'][mean_max2[0]]"
   ]
  },
  {
   "cell_type": "code",
   "execution_count": 203,
   "id": "24509a8d-488d-4a77-9b77-a064b3c9ddee",
   "metadata": {
    "tags": []
   },
   "outputs": [
    {
     "data": {
      "text/plain": [
       "0.8133374006292702"
      ]
     },
     "execution_count": 203,
     "metadata": {},
     "output_type": "execute_result"
    }
   ],
   "source": [
    "# best mean accuracy\n",
    "mean_max2[1]"
   ]
  },
  {
   "cell_type": "markdown",
   "id": "123e7730-df4b-455f-a048-397cda3697f2",
   "metadata": {},
   "source": [
    "# XGBoost"
   ]
  },
  {
   "cell_type": "markdown",
   "id": "3e83f1db-8369-4e91-aa50-1a8c9d0fc01a",
   "metadata": {},
   "source": [
    "## Prepare grid"
   ]
  },
  {
   "cell_type": "code",
   "execution_count": 111,
   "id": "f961a49c-0cbb-41f4-8bc4-1462366eda36",
   "metadata": {},
   "outputs": [],
   "source": [
    "xgb_grid = {\n",
    "    'model__gamma': [0,0.1,0.2,0.4,0.8,1.6,3.2,5],\n",
    "    'model__learning_rate': [0.01, 0.03, 0.06, 0.1, 0.15, 0.2, 0.25, 0.3],\n",
    "    'model__max_depth': [3,5,6,7,8,9,10],\n",
    "    'model__n_estimators': [50,75,100,125,150,175,200],\n",
    "    'model__reg_alpha': [0,0.1,0.2,0.4,0.8,1.6,3.2,6.4,12.8,25.6,51.2,102.4,200],\n",
    "    'model__reg_lambda': [0,0.1,0.2,0.4,0.8,1.6,3.2,6.4,12.8,25.6,51.2,102.4,200]\n",
    "}"
   ]
  },
  {
   "cell_type": "markdown",
   "id": "22c8149e-f02c-4897-b85c-6eb5b0c0b7c6",
   "metadata": {},
   "source": [
    "## Prepare pipeline"
   ]
  },
  {
   "cell_type": "code",
   "execution_count": 112,
   "id": "f4f8341c-a354-4b7f-99fa-f6a777e6e986",
   "metadata": {},
   "outputs": [],
   "source": [
    "import xgboost as xgb\n",
    "xgb_pipeline = Pipeline([('preprocessing', col_trans), \n",
    "                               ('model', xgb.XGBClassifier())])"
   ]
  },
  {
   "cell_type": "markdown",
   "id": "f1d7507e-c8e1-4e89-85f6-0fccaf1a85f8",
   "metadata": {
    "tags": []
   },
   "source": [
    "## Tuning dataset 1"
   ]
  },
  {
   "cell_type": "code",
   "execution_count": 237,
   "id": "2028549f-a40c-4409-b622-53bf683f5291",
   "metadata": {},
   "outputs": [
    {
     "name": "stderr",
     "output_type": "stream",
     "text": [
      "E:\\Python\\repo\\WzTUM\\imageclassification\\lib\\site-packages\\openml\\datasets\\functions.py:438: FutureWarning: Starting from Version 0.15 `download_data`, `download_qualities`, and `download_features_meta_data` will all be ``False`` instead of ``True`` by default to enable lazy loading. To disable this message until version 0.15 explicitly set `download_data`, `download_qualities`, and `download_features_meta_data` to a bool while calling `get_dataset`.\n",
      "  warnings.warn(\n"
     ]
    }
   ],
   "source": [
    "X_train, X_test, y_train, y_test = prepare_dataset(1471, 'Class')"
   ]
  },
  {
   "cell_type": "code",
   "execution_count": 238,
   "id": "00799215-6899-45fa-aa82-f12fdeabfd4f",
   "metadata": {},
   "outputs": [],
   "source": [
    "xgb_random = tune(xgb_pipeline, xgb_grid, [1, 10, 20, 30, 40, 45, 50], X_train, y_train)"
   ]
  },
  {
   "cell_type": "markdown",
   "id": "0bff2088-6113-463f-bb7b-ee849fed52f2",
   "metadata": {
    "tags": []
   },
   "source": [
    "## Evaluate"
   ]
  },
  {
   "cell_type": "code",
   "execution_count": 239,
   "id": "5c1ad7a6-dcba-40d4-81a4-75cc80c36896",
   "metadata": {},
   "outputs": [
    {
     "data": {
      "text/plain": [
       "[0.9031209713310252, 0.9058751792550928, 0.927236849344931, 0.9305741107937511, 0.9395027730127323, 0.9395027730127323, 0.9395027730127323]"
      ]
     },
     "execution_count": 239,
     "metadata": {},
     "output_type": "execute_result"
    }
   ],
   "source": [
    "best_accuracy_array(xgb_random)"
   ]
  },
  {
   "cell_type": "code",
   "execution_count": 240,
   "id": "d5c2cef8-7b6b-43e1-8311-96510c5be986",
   "metadata": {
    "tags": []
   },
   "outputs": [
    {
     "data": {
      "text/plain": [
       "[{'model__reg_lambda': 1.6, 'model__reg_alpha': 12.8, 'model__n_estimators': 50, 'model__max_depth': 9, 'model__learning_rate': 0.25, 'model__gamma': 0.1}, {'model__reg_lambda': 0.2, 'model__reg_alpha': 3.2, 'model__n_estimators': 75, 'model__max_depth': 6, 'model__learning_rate': 0.2, 'model__gamma': 0.1}, {'model__reg_lambda': 51.2, 'model__reg_alpha': 0.1, 'model__n_estimators': 175, 'model__max_depth': 10, 'model__learning_rate': 0.15, 'model__gamma': 0}, {'model__reg_lambda': 0.8, 'model__reg_alpha': 0.8, 'model__n_estimators': 175, 'model__max_depth': 5, 'model__learning_rate': 0.3, 'model__gamma': 0.4}, {'model__reg_lambda': 6.4, 'model__reg_alpha': 0.1, 'model__n_estimators': 200, 'model__max_depth': 8, 'model__learning_rate': 0.3, 'model__gamma': 0.1}, {'model__reg_lambda': 6.4, 'model__reg_alpha': 0.1, 'model__n_estimators': 200, 'model__max_depth': 8, 'model__learning_rate': 0.3, 'model__gamma': 0.1}, {'model__reg_lambda': 6.4, 'model__reg_alpha': 0.1, 'model__n_estimators': 200, 'model__max_depth': 8, 'model__learning_rate': 0.3, 'model__gamma': 0.1}]"
      ]
     },
     "execution_count": 240,
     "metadata": {},
     "output_type": "execute_result"
    }
   ],
   "source": [
    "best_params_array(xgb_random)"
   ]
  },
  {
   "cell_type": "markdown",
   "id": "09d1721a-2c76-40bd-84a8-88f2813ee474",
   "metadata": {
    "tags": []
   },
   "source": [
    "## Tuning dataset 2"
   ]
  },
  {
   "cell_type": "code",
   "execution_count": 241,
   "id": "0fe4b19d-8de7-4497-8f6e-74a00f30fcb6",
   "metadata": {},
   "outputs": [
    {
     "name": "stderr",
     "output_type": "stream",
     "text": [
      "E:\\Python\\repo\\WzTUM\\imageclassification\\lib\\site-packages\\openml\\datasets\\functions.py:438: FutureWarning: Starting from Version 0.15 `download_data`, `download_qualities`, and `download_features_meta_data` will all be ``False`` instead of ``True`` by default to enable lazy loading. To disable this message until version 0.15 explicitly set `download_data`, `download_qualities`, and `download_features_meta_data` to a bool while calling `get_dataset`.\n",
      "  warnings.warn(\n"
     ]
    }
   ],
   "source": [
    "X_train, X_test, y_train, y_test = prepare_dataset(4534, 'Result')"
   ]
  },
  {
   "cell_type": "code",
   "execution_count": 242,
   "id": "0bfb1c72-7cee-4b18-9d94-0bb2da35ab40",
   "metadata": {
    "tags": []
   },
   "outputs": [],
   "source": [
    "xgb_random = tune(xgb_pipeline, xgb_grid, [1, 10, 20, 30, 40, 45, 50], X_train, y_train)"
   ]
  },
  {
   "cell_type": "markdown",
   "id": "287ff11c-df8d-4111-a27d-a756e2798fff",
   "metadata": {
    "tags": []
   },
   "source": [
    "## Evaluate"
   ]
  },
  {
   "cell_type": "code",
   "execution_count": 243,
   "id": "bab4c315-6c84-495f-bfb4-dd5c0637aad1",
   "metadata": {},
   "outputs": [
    {
     "data": {
      "text/plain": [
       "[0.9535276979861823, 0.9614427329395905, 0.9673222082675746, 0.9673222082675746, 0.9716187405518367, 0.9716187405518367, 0.9716187405518367]"
      ]
     },
     "execution_count": 243,
     "metadata": {},
     "output_type": "execute_result"
    }
   ],
   "source": [
    "best_accuracy_array(xgb_random)"
   ]
  },
  {
   "cell_type": "code",
   "execution_count": 244,
   "id": "1c2b7f37-4e0b-4ddb-bdf9-73782769cb50",
   "metadata": {
    "tags": []
   },
   "outputs": [
    {
     "data": {
      "text/plain": [
       "[{'model__reg_lambda': 1.6, 'model__reg_alpha': 12.8, 'model__n_estimators': 50, 'model__max_depth': 9, 'model__learning_rate': 0.25, 'model__gamma': 0.1}, {'model__reg_lambda': 0.2, 'model__reg_alpha': 3.2, 'model__n_estimators': 75, 'model__max_depth': 6, 'model__learning_rate': 0.2, 'model__gamma': 0.1}, {'model__reg_lambda': 0.2, 'model__reg_alpha': 0.4, 'model__n_estimators': 100, 'model__max_depth': 7, 'model__learning_rate': 0.15, 'model__gamma': 0.4}, {'model__reg_lambda': 0.2, 'model__reg_alpha': 0.4, 'model__n_estimators': 100, 'model__max_depth': 7, 'model__learning_rate': 0.15, 'model__gamma': 0.4}, {'model__reg_lambda': 6.4, 'model__reg_alpha': 0.1, 'model__n_estimators': 200, 'model__max_depth': 8, 'model__learning_rate': 0.3, 'model__gamma': 0.1}, {'model__reg_lambda': 6.4, 'model__reg_alpha': 0.1, 'model__n_estimators': 200, 'model__max_depth': 8, 'model__learning_rate': 0.3, 'model__gamma': 0.1}, {'model__reg_lambda': 6.4, 'model__reg_alpha': 0.1, 'model__n_estimators': 200, 'model__max_depth': 8, 'model__learning_rate': 0.3, 'model__gamma': 0.1}]"
      ]
     },
     "execution_count": 244,
     "metadata": {},
     "output_type": "execute_result"
    }
   ],
   "source": [
    "best_params_array(xgb_random)"
   ]
  },
  {
   "cell_type": "markdown",
   "id": "0316ee5f-5a72-4973-abe5-ab2f3cfe548e",
   "metadata": {
    "tags": []
   },
   "source": [
    "## Tuning dataset 3"
   ]
  },
  {
   "cell_type": "code",
   "execution_count": 245,
   "id": "563ac4a1-90ca-4ad2-8a46-633dbc18d93c",
   "metadata": {},
   "outputs": [
    {
     "name": "stderr",
     "output_type": "stream",
     "text": [
      "E:\\Python\\repo\\WzTUM\\imageclassification\\lib\\site-packages\\openml\\datasets\\functions.py:438: FutureWarning: Starting from Version 0.15 `download_data`, `download_qualities`, and `download_features_meta_data` will all be ``False`` instead of ``True`` by default to enable lazy loading. To disable this message until version 0.15 explicitly set `download_data`, `download_qualities`, and `download_features_meta_data` to a bool while calling `get_dataset`.\n",
      "  warnings.warn(\n"
     ]
    }
   ],
   "source": [
    "X_train, X_test, y_train, y_test = prepare_dataset(1053, 'defects')"
   ]
  },
  {
   "cell_type": "code",
   "execution_count": 246,
   "id": "cb3fb339-f55e-4c34-bda1-5ca37b3b10a2",
   "metadata": {
    "tags": []
   },
   "outputs": [],
   "source": [
    "xgb_random = tune(xgb_pipeline, xgb_grid, [1, 10, 20, 30, 40, 45, 50], X_train, y_train)"
   ]
  },
  {
   "cell_type": "markdown",
   "id": "15a5f0eb-5191-4349-870a-a78c53c0b3b6",
   "metadata": {
    "tags": []
   },
   "source": [
    "## Evaluate"
   ]
  },
  {
   "cell_type": "code",
   "execution_count": 247,
   "id": "b8e8af09-e11e-427e-91d3-eec3e15287c0",
   "metadata": {},
   "outputs": [
    {
     "data": {
      "text/plain": [
       "[0.816146941693248, 0.8167200053283707, 0.8191312249779248, 0.8191312249779248, 0.8191312249779248, 0.8191312249779248, 0.8191312249779248]"
      ]
     },
     "execution_count": 247,
     "metadata": {},
     "output_type": "execute_result"
    }
   ],
   "source": [
    "best_accuracy_array(xgb_random)"
   ]
  },
  {
   "cell_type": "code",
   "execution_count": 248,
   "id": "473cf511-33e8-4705-92cb-5e7573181eb9",
   "metadata": {
    "tags": []
   },
   "outputs": [
    {
     "data": {
      "text/plain": [
       "[{'model__reg_lambda': 1.6, 'model__reg_alpha': 12.8, 'model__n_estimators': 50, 'model__max_depth': 9, 'model__learning_rate': 0.25, 'model__gamma': 0.1}, {'model__reg_lambda': 0.2, 'model__reg_alpha': 3.2, 'model__n_estimators': 75, 'model__max_depth': 6, 'model__learning_rate': 0.2, 'model__gamma': 0.1}, {'model__reg_lambda': 0.2, 'model__reg_alpha': 0.4, 'model__n_estimators': 100, 'model__max_depth': 7, 'model__learning_rate': 0.15, 'model__gamma': 0.4}, {'model__reg_lambda': 0.2, 'model__reg_alpha': 0.4, 'model__n_estimators': 100, 'model__max_depth': 7, 'model__learning_rate': 0.15, 'model__gamma': 0.4}, {'model__reg_lambda': 0.2, 'model__reg_alpha': 0.4, 'model__n_estimators': 100, 'model__max_depth': 7, 'model__learning_rate': 0.15, 'model__gamma': 0.4}, {'model__reg_lambda': 0.2, 'model__reg_alpha': 0.4, 'model__n_estimators': 100, 'model__max_depth': 7, 'model__learning_rate': 0.15, 'model__gamma': 0.4}, {'model__reg_lambda': 0.2, 'model__reg_alpha': 0.4, 'model__n_estimators': 100, 'model__max_depth': 7, 'model__learning_rate': 0.15, 'model__gamma': 0.4}]"
      ]
     },
     "execution_count": 248,
     "metadata": {},
     "output_type": "execute_result"
    }
   ],
   "source": [
    "best_params_array(xgb_random)"
   ]
  },
  {
   "cell_type": "markdown",
   "id": "76621cac-0e21-4ca1-9f25-57a857ad5425",
   "metadata": {
    "tags": []
   },
   "source": [
    "## Tuning dataset 4"
   ]
  },
  {
   "cell_type": "code",
   "execution_count": 249,
   "id": "f8a5cfcf-cf22-49e5-97a8-299affcb24e0",
   "metadata": {
    "tags": []
   },
   "outputs": [
    {
     "name": "stderr",
     "output_type": "stream",
     "text": [
      "E:\\Python\\repo\\WzTUM\\imageclassification\\lib\\site-packages\\openml\\datasets\\functions.py:438: FutureWarning: Starting from Version 0.15 `download_data`, `download_qualities`, and `download_features_meta_data` will all be ``False`` instead of ``True`` by default to enable lazy loading. To disable this message until version 0.15 explicitly set `download_data`, `download_qualities`, and `download_features_meta_data` to a bool while calling `get_dataset`.\n",
      "  warnings.warn(\n"
     ]
    }
   ],
   "source": [
    "X_train, X_test, y_train, y_test = prepare_dataset(1046, 'state')"
   ]
  },
  {
   "cell_type": "code",
   "execution_count": 250,
   "id": "f62db70f-6f02-4c35-a1fc-08bab25188cc",
   "metadata": {
    "tags": []
   },
   "outputs": [],
   "source": [
    "xgb_random = tune(xgb_pipeline, xgb_grid, [1, 10, 20, 30, 40, 45, 50], X_train, y_train)"
   ]
  },
  {
   "cell_type": "markdown",
   "id": "6c3e4c4d-f840-4d2d-9bc4-1971a1005840",
   "metadata": {
    "tags": []
   },
   "source": [
    "## Evaluate"
   ]
  },
  {
   "cell_type": "code",
   "execution_count": 251,
   "id": "064abd45-6cb5-46c3-9132-e2f571831fc2",
   "metadata": {
    "tags": []
   },
   "outputs": [
    {
     "data": {
      "text/plain": [
       "[0.9441943443526919, 0.9476521965668422, 0.9503054468444916, 0.9506271841873563, 0.9506271841873563, 0.9506271841873563, 0.9506271841873563]"
      ]
     },
     "execution_count": 251,
     "metadata": {},
     "output_type": "execute_result"
    }
   ],
   "source": [
    "best_accuracy_array(xgb_random)"
   ]
  },
  {
   "cell_type": "code",
   "execution_count": 252,
   "id": "0515d3c5-c07a-48c7-8abe-88692859d642",
   "metadata": {
    "tags": []
   },
   "outputs": [
    {
     "data": {
      "text/plain": [
       "[{'model__reg_lambda': 1.6, 'model__reg_alpha': 12.8, 'model__n_estimators': 50, 'model__max_depth': 9, 'model__learning_rate': 0.25, 'model__gamma': 0.1}, {'model__reg_lambda': 0, 'model__reg_alpha': 1.6, 'model__n_estimators': 175, 'model__max_depth': 10, 'model__learning_rate': 0.25, 'model__gamma': 5}, {'model__reg_lambda': 0.2, 'model__reg_alpha': 0.8, 'model__n_estimators': 125, 'model__max_depth': 7, 'model__learning_rate': 0.3, 'model__gamma': 0.8}, {'model__reg_lambda': 0.8, 'model__reg_alpha': 0.8, 'model__n_estimators': 175, 'model__max_depth': 5, 'model__learning_rate': 0.3, 'model__gamma': 0.4}, {'model__reg_lambda': 0.8, 'model__reg_alpha': 0.8, 'model__n_estimators': 175, 'model__max_depth': 5, 'model__learning_rate': 0.3, 'model__gamma': 0.4}, {'model__reg_lambda': 0.8, 'model__reg_alpha': 0.8, 'model__n_estimators': 175, 'model__max_depth': 5, 'model__learning_rate': 0.3, 'model__gamma': 0.4}, {'model__reg_lambda': 0.8, 'model__reg_alpha': 0.8, 'model__n_estimators': 175, 'model__max_depth': 5, 'model__learning_rate': 0.3, 'model__gamma': 0.4}]"
      ]
     },
     "execution_count": 252,
     "metadata": {},
     "output_type": "execute_result"
    }
   ],
   "source": [
    "best_params_array(xgb_random)"
   ]
  },
  {
   "cell_type": "markdown",
   "id": "9b24200e-3d45-4a67-a3b1-9853171e2b41",
   "metadata": {
    "tags": []
   },
   "source": [
    "## Tuning all datasets"
   ]
  },
  {
   "cell_type": "code",
   "execution_count": 113,
   "id": "e907f50f-ab32-419d-b28b-d6d875b251c8",
   "metadata": {
    "tags": []
   },
   "outputs": [
    {
     "name": "stderr",
     "output_type": "stream",
     "text": [
      "E:\\Python\\repo\\WzTUM\\imageclassification\\lib\\site-packages\\openml\\datasets\\functions.py:438: FutureWarning: Starting from Version 0.15 `download_data`, `download_qualities`, and `download_features_meta_data` will all be ``False`` instead of ``True`` by default to enable lazy loading. To disable this message until version 0.15 explicitly set `download_data`, `download_qualities`, and `download_features_meta_data` to a bool while calling `get_dataset`.\n",
      "  warnings.warn(\n",
      "E:\\Python\\repo\\WzTUM\\imageclassification\\lib\\site-packages\\openml\\datasets\\functions.py:438: FutureWarning: Starting from Version 0.15 `download_data`, `download_qualities`, and `download_features_meta_data` will all be ``False`` instead of ``True`` by default to enable lazy loading. To disable this message until version 0.15 explicitly set `download_data`, `download_qualities`, and `download_features_meta_data` to a bool while calling `get_dataset`.\n",
      "  warnings.warn(\n",
      "E:\\Python\\repo\\WzTUM\\imageclassification\\lib\\site-packages\\openml\\datasets\\functions.py:438: FutureWarning: Starting from Version 0.15 `download_data`, `download_qualities`, and `download_features_meta_data` will all be ``False`` instead of ``True`` by default to enable lazy loading. To disable this message until version 0.15 explicitly set `download_data`, `download_qualities`, and `download_features_meta_data` to a bool while calling `get_dataset`.\n",
      "  warnings.warn(\n",
      "E:\\Python\\repo\\WzTUM\\imageclassification\\lib\\site-packages\\openml\\datasets\\functions.py:438: FutureWarning: Starting from Version 0.15 `download_data`, `download_qualities`, and `download_features_meta_data` will all be ``False`` instead of ``True`` by default to enable lazy loading. To disable this message until version 0.15 explicitly set `download_data`, `download_qualities`, and `download_features_meta_data` to a bool while calling `get_dataset`.\n",
      "  warnings.warn(\n"
     ]
    }
   ],
   "source": [
    "models3 = all_tune(xgb_pipeline, xgb_grid, 50)"
   ]
  },
  {
   "cell_type": "code",
   "execution_count": 144,
   "id": "eace8f95-eee9-44d7-b60c-8a7696ee8e31",
   "metadata": {
    "tags": []
   },
   "outputs": [
    {
     "data": {
      "text/html": [
       "<div>\n",
       "<style scoped>\n",
       "    .dataframe tbody tr th:only-of-type {\n",
       "        vertical-align: middle;\n",
       "    }\n",
       "\n",
       "    .dataframe tbody tr th {\n",
       "        vertical-align: top;\n",
       "    }\n",
       "\n",
       "    .dataframe thead th {\n",
       "        text-align: right;\n",
       "    }\n",
       "</style>\n",
       "<table border=\"1\" class=\"dataframe\">\n",
       "  <thead>\n",
       "    <tr style=\"text-align: right;\">\n",
       "      <th></th>\n",
       "      <th>params</th>\n",
       "      <th>dataset_1_accuracy</th>\n",
       "      <th>dataset_2_accuracy</th>\n",
       "      <th>dataset_3_accuracy</th>\n",
       "      <th>dataset_4_accuracy</th>\n",
       "      <th>mean</th>\n",
       "    </tr>\n",
       "  </thead>\n",
       "  <tbody>\n",
       "    <tr>\n",
       "      <th>0</th>\n",
       "      <td>{'model__reg_lambda': 1.6, 'model__reg_alpha':...</td>\n",
       "      <td>0.903121</td>\n",
       "      <td>0.953528</td>\n",
       "      <td>0.816147</td>\n",
       "      <td>0.944194</td>\n",
       "      <td>0.904247</td>\n",
       "    </tr>\n",
       "    <tr>\n",
       "      <th>1</th>\n",
       "      <td>{'model__reg_lambda': 12.8, 'model__reg_alpha'...</td>\n",
       "      <td>0.905625</td>\n",
       "      <td>0.953302</td>\n",
       "      <td>0.816491</td>\n",
       "      <td>0.943390</td>\n",
       "      <td>0.904702</td>\n",
       "    </tr>\n",
       "    <tr>\n",
       "      <th>2</th>\n",
       "      <td>{'model__reg_lambda': 1.6, 'model__reg_alpha':...</td>\n",
       "      <td>0.843625</td>\n",
       "      <td>0.942786</td>\n",
       "      <td>0.807074</td>\n",
       "      <td>0.936957</td>\n",
       "      <td>0.882611</td>\n",
       "    </tr>\n",
       "    <tr>\n",
       "      <th>3</th>\n",
       "      <td>{'model__reg_lambda': 51.2, 'model__reg_alpha'...</td>\n",
       "      <td>0.873165</td>\n",
       "      <td>0.951606</td>\n",
       "      <td>0.815343</td>\n",
       "      <td>0.943069</td>\n",
       "      <td>0.895795</td>\n",
       "    </tr>\n",
       "    <tr>\n",
       "      <th>4</th>\n",
       "      <td>{'model__reg_lambda': 0.2, 'model__reg_alpha':...</td>\n",
       "      <td>0.905875</td>\n",
       "      <td>0.961443</td>\n",
       "      <td>0.816720</td>\n",
       "      <td>0.947491</td>\n",
       "      <td>0.907882</td>\n",
       "    </tr>\n",
       "    <tr>\n",
       "      <th>5</th>\n",
       "      <td>{'model__reg_lambda': 0, 'model__reg_alpha': 5...</td>\n",
       "      <td>0.827354</td>\n",
       "      <td>0.939620</td>\n",
       "      <td>0.806500</td>\n",
       "      <td>0.933339</td>\n",
       "      <td>0.876703</td>\n",
       "    </tr>\n",
       "    <tr>\n",
       "      <th>6</th>\n",
       "      <td>{'model__reg_lambda': 1.6, 'model__reg_alpha':...</td>\n",
       "      <td>0.813417</td>\n",
       "      <td>0.933401</td>\n",
       "      <td>0.811553</td>\n",
       "      <td>0.932856</td>\n",
       "      <td>0.872807</td>\n",
       "    </tr>\n",
       "    <tr>\n",
       "      <th>7</th>\n",
       "      <td>{'model__reg_lambda': 0, 'model__reg_alpha': 1...</td>\n",
       "      <td>0.897029</td>\n",
       "      <td>0.955563</td>\n",
       "      <td>0.815457</td>\n",
       "      <td>0.947652</td>\n",
       "      <td>0.903925</td>\n",
       "    </tr>\n",
       "    <tr>\n",
       "      <th>8</th>\n",
       "      <td>{'model__reg_lambda': 12.8, 'model__reg_alpha'...</td>\n",
       "      <td>0.868658</td>\n",
       "      <td>0.948327</td>\n",
       "      <td>0.813275</td>\n",
       "      <td>0.940013</td>\n",
       "      <td>0.892568</td>\n",
       "    </tr>\n",
       "    <tr>\n",
       "      <th>9</th>\n",
       "      <td>{'model__reg_lambda': 0.2, 'model__reg_alpha':...</td>\n",
       "      <td>0.837867</td>\n",
       "      <td>0.945952</td>\n",
       "      <td>0.811323</td>\n",
       "      <td>0.939048</td>\n",
       "      <td>0.883548</td>\n",
       "    </tr>\n",
       "    <tr>\n",
       "      <th>10</th>\n",
       "      <td>{'model__reg_lambda': 0.1, 'model__reg_alpha':...</td>\n",
       "      <td>0.883678</td>\n",
       "      <td>0.962121</td>\n",
       "      <td>0.813276</td>\n",
       "      <td>0.949340</td>\n",
       "      <td>0.902104</td>\n",
       "    </tr>\n",
       "    <tr>\n",
       "      <th>11</th>\n",
       "      <td>{'model__reg_lambda': 3.2, 'model__reg_alpha':...</td>\n",
       "      <td>0.741322</td>\n",
       "      <td>0.913613</td>\n",
       "      <td>0.806270</td>\n",
       "      <td>0.933017</td>\n",
       "      <td>0.848556</td>\n",
       "    </tr>\n",
       "    <tr>\n",
       "      <th>12</th>\n",
       "      <td>{'model__reg_lambda': 51.2, 'model__reg_alpha'...</td>\n",
       "      <td>0.927237</td>\n",
       "      <td>0.963930</td>\n",
       "      <td>0.817638</td>\n",
       "      <td>0.947089</td>\n",
       "      <td>0.913974</td>\n",
       "    </tr>\n",
       "    <tr>\n",
       "      <th>13</th>\n",
       "      <td>{'model__reg_lambda': 51.2, 'model__reg_alpha'...</td>\n",
       "      <td>0.771028</td>\n",
       "      <td>0.923790</td>\n",
       "      <td>0.806270</td>\n",
       "      <td>0.932615</td>\n",
       "      <td>0.858426</td>\n",
       "    </tr>\n",
       "    <tr>\n",
       "      <th>14</th>\n",
       "      <td>{'model__reg_lambda': 0.2, 'model__reg_alpha':...</td>\n",
       "      <td>0.924733</td>\n",
       "      <td>0.960086</td>\n",
       "      <td>0.815687</td>\n",
       "      <td>0.946285</td>\n",
       "      <td>0.911698</td>\n",
       "    </tr>\n",
       "    <tr>\n",
       "      <th>15</th>\n",
       "      <td>{'model__reg_lambda': 200, 'model__reg_alpha':...</td>\n",
       "      <td>0.852303</td>\n",
       "      <td>0.942447</td>\n",
       "      <td>0.814768</td>\n",
       "      <td>0.940093</td>\n",
       "      <td>0.887403</td>\n",
       "    </tr>\n",
       "    <tr>\n",
       "      <th>16</th>\n",
       "      <td>{'model__reg_lambda': 0.2, 'model__reg_alpha':...</td>\n",
       "      <td>0.926653</td>\n",
       "      <td>0.965965</td>\n",
       "      <td>0.808567</td>\n",
       "      <td>0.950305</td>\n",
       "      <td>0.912873</td>\n",
       "    </tr>\n",
       "    <tr>\n",
       "      <th>17</th>\n",
       "      <td>{'model__reg_lambda': 102.4, 'model__reg_alpha...</td>\n",
       "      <td>0.714872</td>\n",
       "      <td>0.915310</td>\n",
       "      <td>0.805926</td>\n",
       "      <td>0.933178</td>\n",
       "      <td>0.842321</td>\n",
       "    </tr>\n",
       "    <tr>\n",
       "      <th>18</th>\n",
       "      <td>{'model__reg_lambda': 1.6, 'model__reg_alpha':...</td>\n",
       "      <td>0.911966</td>\n",
       "      <td>0.957938</td>\n",
       "      <td>0.816376</td>\n",
       "      <td>0.944838</td>\n",
       "      <td>0.907779</td>\n",
       "    </tr>\n",
       "    <tr>\n",
       "      <th>19</th>\n",
       "      <td>{'model__reg_lambda': 0.2, 'model__reg_alpha':...</td>\n",
       "      <td>0.923398</td>\n",
       "      <td>0.967322</td>\n",
       "      <td>0.819131</td>\n",
       "      <td>0.949743</td>\n",
       "      <td>0.914899</td>\n",
       "    </tr>\n",
       "    <tr>\n",
       "      <th>20</th>\n",
       "      <td>{'model__reg_lambda': 0.1, 'model__reg_alpha':...</td>\n",
       "      <td>0.876502</td>\n",
       "      <td>0.956920</td>\n",
       "      <td>0.810633</td>\n",
       "      <td>0.944597</td>\n",
       "      <td>0.897163</td>\n",
       "    </tr>\n",
       "    <tr>\n",
       "      <th>21</th>\n",
       "      <td>{'model__reg_lambda': 51.2, 'model__reg_alpha'...</td>\n",
       "      <td>0.885681</td>\n",
       "      <td>0.954998</td>\n",
       "      <td>0.817409</td>\n",
       "      <td>0.944033</td>\n",
       "      <td>0.900530</td>\n",
       "    </tr>\n",
       "    <tr>\n",
       "      <th>22</th>\n",
       "      <td>{'model__reg_lambda': 102.4, 'model__reg_alpha...</td>\n",
       "      <td>0.766439</td>\n",
       "      <td>0.919606</td>\n",
       "      <td>0.806270</td>\n",
       "      <td>0.932454</td>\n",
       "      <td>0.856192</td>\n",
       "    </tr>\n",
       "    <tr>\n",
       "      <th>23</th>\n",
       "      <td>{'model__reg_lambda': 6.4, 'model__reg_alpha':...</td>\n",
       "      <td>0.897947</td>\n",
       "      <td>0.951832</td>\n",
       "      <td>0.815572</td>\n",
       "      <td>0.944275</td>\n",
       "      <td>0.902407</td>\n",
       "    </tr>\n",
       "    <tr>\n",
       "      <th>24</th>\n",
       "      <td>{'model__reg_lambda': 0.8, 'model__reg_alpha':...</td>\n",
       "      <td>0.930574</td>\n",
       "      <td>0.966079</td>\n",
       "      <td>0.815802</td>\n",
       "      <td>0.950627</td>\n",
       "      <td>0.915770</td>\n",
       "    </tr>\n",
       "    <tr>\n",
       "      <th>25</th>\n",
       "      <td>{'model__reg_lambda': 3.2, 'model__reg_alpha':...</td>\n",
       "      <td>0.872330</td>\n",
       "      <td>0.952736</td>\n",
       "      <td>0.813390</td>\n",
       "      <td>0.944757</td>\n",
       "      <td>0.895803</td>\n",
       "    </tr>\n",
       "    <tr>\n",
       "      <th>26</th>\n",
       "      <td>{'model__reg_lambda': 102.4, 'model__reg_alpha...</td>\n",
       "      <td>0.830023</td>\n",
       "      <td>0.937359</td>\n",
       "      <td>0.808567</td>\n",
       "      <td>0.932374</td>\n",
       "      <td>0.877081</td>\n",
       "    </tr>\n",
       "    <tr>\n",
       "      <th>27</th>\n",
       "      <td>{'model__reg_lambda': 0.2, 'model__reg_alpha':...</td>\n",
       "      <td>0.920561</td>\n",
       "      <td>0.964948</td>\n",
       "      <td>0.815686</td>\n",
       "      <td>0.948697</td>\n",
       "      <td>0.912473</td>\n",
       "    </tr>\n",
       "    <tr>\n",
       "      <th>28</th>\n",
       "      <td>{'model__reg_lambda': 102.4, 'model__reg_alpha...</td>\n",
       "      <td>0.884012</td>\n",
       "      <td>0.949909</td>\n",
       "      <td>0.814539</td>\n",
       "      <td>0.942988</td>\n",
       "      <td>0.897862</td>\n",
       "    </tr>\n",
       "    <tr>\n",
       "      <th>29</th>\n",
       "      <td>{'model__reg_lambda': 0.4, 'model__reg_alpha':...</td>\n",
       "      <td>0.782710</td>\n",
       "      <td>0.934984</td>\n",
       "      <td>0.812931</td>\n",
       "      <td>0.937279</td>\n",
       "      <td>0.866976</td>\n",
       "    </tr>\n",
       "    <tr>\n",
       "      <th>30</th>\n",
       "      <td>{'model__reg_lambda': 0.2, 'model__reg_alpha':...</td>\n",
       "      <td>0.887433</td>\n",
       "      <td>0.949457</td>\n",
       "      <td>0.813160</td>\n",
       "      <td>0.942506</td>\n",
       "      <td>0.898139</td>\n",
       "    </tr>\n",
       "    <tr>\n",
       "      <th>31</th>\n",
       "      <td>{'model__reg_lambda': 1.6, 'model__reg_alpha':...</td>\n",
       "      <td>0.858812</td>\n",
       "      <td>0.943578</td>\n",
       "      <td>0.806385</td>\n",
       "      <td>0.936153</td>\n",
       "      <td>0.886232</td>\n",
       "    </tr>\n",
       "    <tr>\n",
       "      <th>32</th>\n",
       "      <td>{'model__reg_lambda': 51.2, 'model__reg_alpha'...</td>\n",
       "      <td>0.774533</td>\n",
       "      <td>0.925034</td>\n",
       "      <td>0.806270</td>\n",
       "      <td>0.932696</td>\n",
       "      <td>0.859633</td>\n",
       "    </tr>\n",
       "    <tr>\n",
       "      <th>33</th>\n",
       "      <td>{'model__reg_lambda': 6.4, 'model__reg_alpha':...</td>\n",
       "      <td>0.939503</td>\n",
       "      <td>0.971619</td>\n",
       "      <td>0.811093</td>\n",
       "      <td>0.948858</td>\n",
       "      <td>0.917768</td>\n",
       "    </tr>\n",
       "    <tr>\n",
       "      <th>34</th>\n",
       "      <td>{'model__reg_lambda': 102.4, 'model__reg_alpha...</td>\n",
       "      <td>0.764353</td>\n",
       "      <td>0.922546</td>\n",
       "      <td>0.806270</td>\n",
       "      <td>0.932856</td>\n",
       "      <td>0.856506</td>\n",
       "    </tr>\n",
       "    <tr>\n",
       "      <th>35</th>\n",
       "      <td>{'model__reg_lambda': 51.2, 'model__reg_alpha'...</td>\n",
       "      <td>0.869492</td>\n",
       "      <td>0.945613</td>\n",
       "      <td>0.810289</td>\n",
       "      <td>0.936957</td>\n",
       "      <td>0.890588</td>\n",
       "    </tr>\n",
       "    <tr>\n",
       "      <th>36</th>\n",
       "      <td>{'model__reg_lambda': 12.8, 'model__reg_alpha'...</td>\n",
       "      <td>0.914970</td>\n",
       "      <td>0.960425</td>\n",
       "      <td>0.815112</td>\n",
       "      <td>0.946044</td>\n",
       "      <td>0.909138</td>\n",
       "    </tr>\n",
       "    <tr>\n",
       "      <th>37</th>\n",
       "      <td>{'model__reg_lambda': 1.6, 'model__reg_alpha':...</td>\n",
       "      <td>0.754423</td>\n",
       "      <td>0.917571</td>\n",
       "      <td>0.812357</td>\n",
       "      <td>0.932535</td>\n",
       "      <td>0.854221</td>\n",
       "    </tr>\n",
       "    <tr>\n",
       "      <th>38</th>\n",
       "      <td>{'model__reg_lambda': 25.6, 'model__reg_alpha'...</td>\n",
       "      <td>0.744994</td>\n",
       "      <td>0.918589</td>\n",
       "      <td>0.806270</td>\n",
       "      <td>0.932454</td>\n",
       "      <td>0.850577</td>\n",
       "    </tr>\n",
       "    <tr>\n",
       "      <th>39</th>\n",
       "      <td>{'model__reg_lambda': 0.1, 'model__reg_alpha':...</td>\n",
       "      <td>0.898531</td>\n",
       "      <td>0.959408</td>\n",
       "      <td>0.816261</td>\n",
       "      <td>0.947089</td>\n",
       "      <td>0.905322</td>\n",
       "    </tr>\n",
       "    <tr>\n",
       "      <th>40</th>\n",
       "      <td>{'model__reg_lambda': 0.4, 'model__reg_alpha':...</td>\n",
       "      <td>0.832443</td>\n",
       "      <td>0.946518</td>\n",
       "      <td>0.814538</td>\n",
       "      <td>0.940415</td>\n",
       "      <td>0.883478</td>\n",
       "    </tr>\n",
       "    <tr>\n",
       "      <th>41</th>\n",
       "      <td>{'model__reg_lambda': 200, 'model__reg_alpha':...</td>\n",
       "      <td>0.780791</td>\n",
       "      <td>0.934079</td>\n",
       "      <td>0.813275</td>\n",
       "      <td>0.933098</td>\n",
       "      <td>0.865311</td>\n",
       "    </tr>\n",
       "    <tr>\n",
       "      <th>42</th>\n",
       "      <td>{'model__reg_lambda': 0.2, 'model__reg_alpha':...</td>\n",
       "      <td>0.795478</td>\n",
       "      <td>0.936002</td>\n",
       "      <td>0.813735</td>\n",
       "      <td>0.937922</td>\n",
       "      <td>0.870784</td>\n",
       "    </tr>\n",
       "    <tr>\n",
       "      <th>43</th>\n",
       "      <td>{'model__reg_lambda': 0.8, 'model__reg_alpha':...</td>\n",
       "      <td>0.795895</td>\n",
       "      <td>0.935436</td>\n",
       "      <td>0.806270</td>\n",
       "      <td>0.932535</td>\n",
       "      <td>0.867534</td>\n",
       "    </tr>\n",
       "    <tr>\n",
       "      <th>44</th>\n",
       "      <td>{'model__reg_lambda': 0.4, 'model__reg_alpha':...</td>\n",
       "      <td>0.840371</td>\n",
       "      <td>0.946743</td>\n",
       "      <td>0.808796</td>\n",
       "      <td>0.942988</td>\n",
       "      <td>0.884725</td>\n",
       "    </tr>\n",
       "    <tr>\n",
       "      <th>45</th>\n",
       "      <td>{'model__reg_lambda': 0.4, 'model__reg_alpha':...</td>\n",
       "      <td>0.879423</td>\n",
       "      <td>0.949005</td>\n",
       "      <td>0.812471</td>\n",
       "      <td>0.940174</td>\n",
       "      <td>0.895268</td>\n",
       "    </tr>\n",
       "    <tr>\n",
       "      <th>46</th>\n",
       "      <td>{'model__reg_lambda': 0, 'model__reg_alpha': 2...</td>\n",
       "      <td>0.745495</td>\n",
       "      <td>0.918589</td>\n",
       "      <td>0.806270</td>\n",
       "      <td>0.932696</td>\n",
       "      <td>0.850762</td>\n",
       "    </tr>\n",
       "    <tr>\n",
       "      <th>47</th>\n",
       "      <td>{'model__reg_lambda': 1.6, 'model__reg_alpha':...</td>\n",
       "      <td>0.851636</td>\n",
       "      <td>0.950588</td>\n",
       "      <td>0.812127</td>\n",
       "      <td>0.942747</td>\n",
       "      <td>0.889274</td>\n",
       "    </tr>\n",
       "    <tr>\n",
       "      <th>48</th>\n",
       "      <td>{'model__reg_lambda': 12.8, 'model__reg_alpha'...</td>\n",
       "      <td>0.866823</td>\n",
       "      <td>0.952171</td>\n",
       "      <td>0.813620</td>\n",
       "      <td>0.943632</td>\n",
       "      <td>0.894061</td>\n",
       "    </tr>\n",
       "    <tr>\n",
       "      <th>49</th>\n",
       "      <td>{'model__reg_lambda': 0.2, 'model__reg_alpha':...</td>\n",
       "      <td>0.797731</td>\n",
       "      <td>0.937245</td>\n",
       "      <td>0.813276</td>\n",
       "      <td>0.937520</td>\n",
       "      <td>0.871443</td>\n",
       "    </tr>\n",
       "  </tbody>\n",
       "</table>\n",
       "</div>"
      ],
      "text/plain": [
       "                                               params  dataset_1_accuracy   \n",
       "0   {'model__reg_lambda': 1.6, 'model__reg_alpha':...            0.903121  \\\n",
       "1   {'model__reg_lambda': 12.8, 'model__reg_alpha'...            0.905625   \n",
       "2   {'model__reg_lambda': 1.6, 'model__reg_alpha':...            0.843625   \n",
       "3   {'model__reg_lambda': 51.2, 'model__reg_alpha'...            0.873165   \n",
       "4   {'model__reg_lambda': 0.2, 'model__reg_alpha':...            0.905875   \n",
       "5   {'model__reg_lambda': 0, 'model__reg_alpha': 5...            0.827354   \n",
       "6   {'model__reg_lambda': 1.6, 'model__reg_alpha':...            0.813417   \n",
       "7   {'model__reg_lambda': 0, 'model__reg_alpha': 1...            0.897029   \n",
       "8   {'model__reg_lambda': 12.8, 'model__reg_alpha'...            0.868658   \n",
       "9   {'model__reg_lambda': 0.2, 'model__reg_alpha':...            0.837867   \n",
       "10  {'model__reg_lambda': 0.1, 'model__reg_alpha':...            0.883678   \n",
       "11  {'model__reg_lambda': 3.2, 'model__reg_alpha':...            0.741322   \n",
       "12  {'model__reg_lambda': 51.2, 'model__reg_alpha'...            0.927237   \n",
       "13  {'model__reg_lambda': 51.2, 'model__reg_alpha'...            0.771028   \n",
       "14  {'model__reg_lambda': 0.2, 'model__reg_alpha':...            0.924733   \n",
       "15  {'model__reg_lambda': 200, 'model__reg_alpha':...            0.852303   \n",
       "16  {'model__reg_lambda': 0.2, 'model__reg_alpha':...            0.926653   \n",
       "17  {'model__reg_lambda': 102.4, 'model__reg_alpha...            0.714872   \n",
       "18  {'model__reg_lambda': 1.6, 'model__reg_alpha':...            0.911966   \n",
       "19  {'model__reg_lambda': 0.2, 'model__reg_alpha':...            0.923398   \n",
       "20  {'model__reg_lambda': 0.1, 'model__reg_alpha':...            0.876502   \n",
       "21  {'model__reg_lambda': 51.2, 'model__reg_alpha'...            0.885681   \n",
       "22  {'model__reg_lambda': 102.4, 'model__reg_alpha...            0.766439   \n",
       "23  {'model__reg_lambda': 6.4, 'model__reg_alpha':...            0.897947   \n",
       "24  {'model__reg_lambda': 0.8, 'model__reg_alpha':...            0.930574   \n",
       "25  {'model__reg_lambda': 3.2, 'model__reg_alpha':...            0.872330   \n",
       "26  {'model__reg_lambda': 102.4, 'model__reg_alpha...            0.830023   \n",
       "27  {'model__reg_lambda': 0.2, 'model__reg_alpha':...            0.920561   \n",
       "28  {'model__reg_lambda': 102.4, 'model__reg_alpha...            0.884012   \n",
       "29  {'model__reg_lambda': 0.4, 'model__reg_alpha':...            0.782710   \n",
       "30  {'model__reg_lambda': 0.2, 'model__reg_alpha':...            0.887433   \n",
       "31  {'model__reg_lambda': 1.6, 'model__reg_alpha':...            0.858812   \n",
       "32  {'model__reg_lambda': 51.2, 'model__reg_alpha'...            0.774533   \n",
       "33  {'model__reg_lambda': 6.4, 'model__reg_alpha':...            0.939503   \n",
       "34  {'model__reg_lambda': 102.4, 'model__reg_alpha...            0.764353   \n",
       "35  {'model__reg_lambda': 51.2, 'model__reg_alpha'...            0.869492   \n",
       "36  {'model__reg_lambda': 12.8, 'model__reg_alpha'...            0.914970   \n",
       "37  {'model__reg_lambda': 1.6, 'model__reg_alpha':...            0.754423   \n",
       "38  {'model__reg_lambda': 25.6, 'model__reg_alpha'...            0.744994   \n",
       "39  {'model__reg_lambda': 0.1, 'model__reg_alpha':...            0.898531   \n",
       "40  {'model__reg_lambda': 0.4, 'model__reg_alpha':...            0.832443   \n",
       "41  {'model__reg_lambda': 200, 'model__reg_alpha':...            0.780791   \n",
       "42  {'model__reg_lambda': 0.2, 'model__reg_alpha':...            0.795478   \n",
       "43  {'model__reg_lambda': 0.8, 'model__reg_alpha':...            0.795895   \n",
       "44  {'model__reg_lambda': 0.4, 'model__reg_alpha':...            0.840371   \n",
       "45  {'model__reg_lambda': 0.4, 'model__reg_alpha':...            0.879423   \n",
       "46  {'model__reg_lambda': 0, 'model__reg_alpha': 2...            0.745495   \n",
       "47  {'model__reg_lambda': 1.6, 'model__reg_alpha':...            0.851636   \n",
       "48  {'model__reg_lambda': 12.8, 'model__reg_alpha'...            0.866823   \n",
       "49  {'model__reg_lambda': 0.2, 'model__reg_alpha':...            0.797731   \n",
       "\n",
       "    dataset_2_accuracy  dataset_3_accuracy  dataset_4_accuracy      mean  \n",
       "0             0.953528            0.816147            0.944194  0.904247  \n",
       "1             0.953302            0.816491            0.943390  0.904702  \n",
       "2             0.942786            0.807074            0.936957  0.882611  \n",
       "3             0.951606            0.815343            0.943069  0.895795  \n",
       "4             0.961443            0.816720            0.947491  0.907882  \n",
       "5             0.939620            0.806500            0.933339  0.876703  \n",
       "6             0.933401            0.811553            0.932856  0.872807  \n",
       "7             0.955563            0.815457            0.947652  0.903925  \n",
       "8             0.948327            0.813275            0.940013  0.892568  \n",
       "9             0.945952            0.811323            0.939048  0.883548  \n",
       "10            0.962121            0.813276            0.949340  0.902104  \n",
       "11            0.913613            0.806270            0.933017  0.848556  \n",
       "12            0.963930            0.817638            0.947089  0.913974  \n",
       "13            0.923790            0.806270            0.932615  0.858426  \n",
       "14            0.960086            0.815687            0.946285  0.911698  \n",
       "15            0.942447            0.814768            0.940093  0.887403  \n",
       "16            0.965965            0.808567            0.950305  0.912873  \n",
       "17            0.915310            0.805926            0.933178  0.842321  \n",
       "18            0.957938            0.816376            0.944838  0.907779  \n",
       "19            0.967322            0.819131            0.949743  0.914899  \n",
       "20            0.956920            0.810633            0.944597  0.897163  \n",
       "21            0.954998            0.817409            0.944033  0.900530  \n",
       "22            0.919606            0.806270            0.932454  0.856192  \n",
       "23            0.951832            0.815572            0.944275  0.902407  \n",
       "24            0.966079            0.815802            0.950627  0.915770  \n",
       "25            0.952736            0.813390            0.944757  0.895803  \n",
       "26            0.937359            0.808567            0.932374  0.877081  \n",
       "27            0.964948            0.815686            0.948697  0.912473  \n",
       "28            0.949909            0.814539            0.942988  0.897862  \n",
       "29            0.934984            0.812931            0.937279  0.866976  \n",
       "30            0.949457            0.813160            0.942506  0.898139  \n",
       "31            0.943578            0.806385            0.936153  0.886232  \n",
       "32            0.925034            0.806270            0.932696  0.859633  \n",
       "33            0.971619            0.811093            0.948858  0.917768  \n",
       "34            0.922546            0.806270            0.932856  0.856506  \n",
       "35            0.945613            0.810289            0.936957  0.890588  \n",
       "36            0.960425            0.815112            0.946044  0.909138  \n",
       "37            0.917571            0.812357            0.932535  0.854221  \n",
       "38            0.918589            0.806270            0.932454  0.850577  \n",
       "39            0.959408            0.816261            0.947089  0.905322  \n",
       "40            0.946518            0.814538            0.940415  0.883478  \n",
       "41            0.934079            0.813275            0.933098  0.865311  \n",
       "42            0.936002            0.813735            0.937922  0.870784  \n",
       "43            0.935436            0.806270            0.932535  0.867534  \n",
       "44            0.946743            0.808796            0.942988  0.884725  \n",
       "45            0.949005            0.812471            0.940174  0.895268  \n",
       "46            0.918589            0.806270            0.932696  0.850762  \n",
       "47            0.950588            0.812127            0.942747  0.889274  \n",
       "48            0.952171            0.813620            0.943632  0.894061  \n",
       "49            0.937245            0.813276            0.937520  0.871443  "
      ]
     },
     "execution_count": 144,
     "metadata": {},
     "output_type": "execute_result"
    }
   ],
   "source": [
    "df3 = tuned_dataframe(models3)\n",
    "df3['mean'] = df3.mean(numeric_only=True, axis=1)\n",
    "df3"
   ]
  },
  {
   "cell_type": "code",
   "execution_count": 145,
   "id": "6ae67bfd-c572-4749-a89d-496387ead9ad",
   "metadata": {
    "tags": []
   },
   "outputs": [],
   "source": [
    "# calculate tunability vector\n",
    "mean_max3 = [df3['mean'].idxmax(), df3['mean'].max()]\n",
    "tunability3 = mean_max3[1] - df3['mean']"
   ]
  },
  {
   "cell_type": "code",
   "execution_count": 204,
   "id": "82d0ee7e-a271-4408-996c-1df105d35012",
   "metadata": {
    "tags": []
   },
   "outputs": [
    {
     "data": {
      "text/plain": [
       "{'model__reg_lambda': 6.4, 'model__reg_alpha': 0.1, 'model__n_estimators': 200, 'model__max_depth': 8, 'model__learning_rate': 0.3, 'model__gamma': 0.1}"
      ]
     },
     "execution_count": 204,
     "metadata": {},
     "output_type": "execute_result"
    }
   ],
   "source": [
    "# best configuration \n",
    "df3['params'][mean_max3[0]]"
   ]
  },
  {
   "cell_type": "code",
   "execution_count": 205,
   "id": "22de52bb-bb7f-4569-924e-077219daf867",
   "metadata": {
    "tags": []
   },
   "outputs": [
    {
     "data": {
      "text/plain": [
       "0.9177681913688276"
      ]
     },
     "execution_count": 205,
     "metadata": {},
     "output_type": "execute_result"
    }
   ],
   "source": [
    "mean_max3[1]"
   ]
  },
  {
   "cell_type": "markdown",
   "id": "3e1d9ef4-6da6-435a-b6b0-c3990b663cce",
   "metadata": {
    "tags": []
   },
   "source": [
    "# Results"
   ]
  },
  {
   "cell_type": "code",
   "execution_count": 154,
   "id": "48c3a1b6-3905-4544-8395-a8eee3c2df03",
   "metadata": {
    "tags": []
   },
   "outputs": [],
   "source": [
    "tunability_df = pd.DataFrame()\n",
    "tunability_df['RF tunability'] = tunability1\n",
    "tunability_df['SVC tunability'] = tunability2\n",
    "tunability_df['XGB tunability'] = tunability3"
   ]
  },
  {
   "cell_type": "code",
   "execution_count": 200,
   "id": "2b686056-e10b-487d-85c9-3bb018b8e03d",
   "metadata": {
    "tags": []
   },
   "outputs": [
    {
     "data": {
      "image/png": "[encoded data removed]",
      "text/plain": [
       "<Figure size 2000x1600 with 1 Axes>"
      ]
     },
     "metadata": {},
     "output_type": "display_data"
    }
   ],
   "source": [
    "plot = tunability_df.boxplot(figsize=(20, 16), fontsize=26).get_figure()"
   ]
  },
  {
   "cell_type": "code",
   "execution_count": 169,
   "id": "646dca97-5461-4ef3-9988-5fc3c82a6fc1",
   "metadata": {
    "tags": []
   },
   "outputs": [],
   "source": [
    "plot.savefig('random_tun.png')"
   ]
  },
  {
   "cell_type": "code",
   "execution_count": null,
   "id": "a687aa8a-0188-406a-97cc-36dbb305d259",
   "metadata": {},
   "outputs": [],
   "source": []
  }
 ],
 "metadata": {
  "kernelspec": {
   "display_name": "imageclassification",
   "language": "python",
   "name": "imageclassification"
  },
  "language_info": {
   "codemirror_mode": {
    "name": "ipython",
    "version": 3
   },
   "file_extension": ".py",
   "mimetype": "text/x-python",
   "name": "python",
   "nbconvert_exporter": "python",
   "pygments_lexer": "ipython3",
   "version": "3.10.0"
  }
 },
 "nbformat": 4,
 "nbformat_minor": 5
}
