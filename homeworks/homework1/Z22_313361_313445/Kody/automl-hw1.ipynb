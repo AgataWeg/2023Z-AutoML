{
 "cells": [
  {
   "attachments": {},
   "cell_type": "markdown",
   "metadata": {
    "datalore": {
     "hide_input_from_viewers": true,
     "hide_output_from_viewers": true,
     "node_id": "mZujg3tTWNPiWxXZJvlRXm",
     "type": "MD"
    }
   },
   "source": [
    "# AutoML - Praca Domowa nr 1"
   ]
  },
  {
   "attachments": {},
   "cell_type": "markdown",
   "metadata": {
    "datalore": {
     "hide_input_from_viewers": true,
     "hide_output_from_viewers": true,
     "node_id": "bLvurHbBsFxGB5yZQjQ4zU",
     "type": "MD"
    }
   },
   "source": [
    "Załadowanie niezbędnych bibliotek"
   ]
  },
  {
   "cell_type": "code",
   "execution_count": 1,
   "metadata": {
    "datalore": {
     "hide_input_from_viewers": true,
     "hide_output_from_viewers": true,
     "node_id": "MI6XDO8OoXwnryjc80P3TK",
     "type": "CODE"
    }
   },
   "outputs": [],
   "source": [
    "from typing import Tuple, Dict, Any, List, Optional, Literal\n",
    "\n",
    "import pandas as pd\n",
    "import numpy as np\n",
    "import numpy.typing as npt\n",
    "\n",
    "from sklearn.datasets import load_iris, load_diabetes, load_wine, load_breast_cancer\n",
    "from sklearn.model_selection import train_test_split, RandomizedSearchCV\n",
    "from sklearn.metrics import accuracy_score\n",
    "from sklearn.ensemble import RandomForestClassifier\n",
    "from sklearn.neighbors import KNeighborsClassifier\n",
    "\n",
    "from skopt import BayesSearchCV\n",
    "from skopt.space import Real, Integer\n",
    "from scipy.stats import uniform\n",
    "from xgboost import XGBClassifier\n",
    "\n",
    "import plotly.express as px\n",
    "import plotly.graph_objects as go\n",
    "from plotly.subplots import make_subplots"
   ]
  },
  {
   "cell_type": "code",
   "execution_count": 2,
   "metadata": {
    "datalore": {
     "hide_input_from_viewers": true,
     "hide_output_from_viewers": true,
     "node_id": "no3TaUAYnUj9y9rTvrQoPD",
     "type": "CODE"
    }
   },
   "outputs": [],
   "source": [
    "# for BayesSearchCV to work:\n",
    "np.int = np.int64"
   ]
  },
  {
   "cell_type": "code",
   "execution_count": 3,
   "metadata": {
    "datalore": {
     "hide_input_from_viewers": true,
     "hide_output_from_viewers": true,
     "node_id": "l7p2ShNLg1Fs63FdJQOdH9",
     "type": "CODE"
    }
   },
   "outputs": [],
   "source": [
    "# path to a directory with results files\n",
    "base_path = '.'"
   ]
  },
  {
   "attachments": {},
   "cell_type": "markdown",
   "metadata": {
    "datalore": {
     "hide_input_from_viewers": true,
     "hide_output_from_viewers": true,
     "node_id": "npUVOKkzulGNUCYLzd6fBY",
     "type": "MD"
    }
   },
   "source": [
    "Testowane będą 3 algorytmy uczenia maszynowego tj:\n",
    "- Random Forest\n",
    "- XGBoostClassifier\n",
    "- K-Nearest Neighbours\n",
    "  \n",
    "Testowanie odbędzie się na 4 różnych zbiorach danych tj:\n",
    "- iris (klasyfikacja)\n",
    "- diabetes  z zakodowaną zmienną celu (klasyfikacja)\n",
    "- wine (klasyfikacja)\n",
    "- breast cancer (klasyfikacja)"
   ]
  },
  {
   "attachments": {},
   "cell_type": "markdown",
   "metadata": {
    "datalore": {
     "hide_input_from_viewers": true,
     "hide_output_from_viewers": true,
     "node_id": "OapowDjTwwyMQ1gyUVhw8t",
     "type": "MD"
    }
   },
   "source": [
    "# Datasets"
   ]
  },
  {
   "attachments": {},
   "cell_type": "markdown",
   "metadata": {
    "datalore": {
     "hide_input_from_viewers": true,
     "hide_output_from_viewers": true,
     "node_id": "dHke8KcwcqsHGTiYsMIMPT",
     "type": "MD"
    }
   },
   "source": [
    "## Iris"
   ]
  },
  {
   "cell_type": "code",
   "execution_count": 4,
   "metadata": {
    "datalore": {
     "hide_input_from_viewers": true,
     "hide_output_from_viewers": true,
     "node_id": "4WlK3tBo0s0K3pwQDhK51Q",
     "type": "CODE"
    }
   },
   "outputs": [],
   "source": [
    "X_iris, y_iris = load_iris(return_X_y=True, as_frame=True)\n",
    "X_train_iris, X_test_iris, y_train_iris, y_test_iris = train_test_split(\n",
    "    X_iris, y_iris, test_size=0.33, random_state=123\n",
    ")"
   ]
  },
  {
   "cell_type": "code",
   "execution_count": 5,
   "metadata": {
    "datalore": {
     "hide_input_from_viewers": true,
     "hide_output_from_viewers": true,
     "node_id": "pAi1oFzP5iRpzsMA1Hwj79",
     "type": "CODE"
    }
   },
   "outputs": [
    {
     "name": "stdout",
     "output_type": "stream",
     "text": [
      "<class 'pandas.core.frame.DataFrame'>\n",
      "Index: 100 entries, 110 to 109\n",
      "Data columns (total 4 columns):\n",
      " #   Column             Non-Null Count  Dtype  \n",
      "---  ------             --------------  -----  \n",
      " 0   sepal length (cm)  100 non-null    float64\n",
      " 1   sepal width (cm)   100 non-null    float64\n",
      " 2   petal length (cm)  100 non-null    float64\n",
      " 3   petal width (cm)   100 non-null    float64\n",
      "dtypes: float64(4)\n",
      "memory usage: 3.9 KB\n"
     ]
    }
   ],
   "source": [
    "X_train_iris.info()"
   ]
  },
  {
   "cell_type": "code",
   "execution_count": 6,
   "metadata": {
    "datalore": {
     "hide_input_from_viewers": true,
     "hide_output_from_viewers": true,
     "node_id": "nQanePElHI2u5mzvJSAwOO",
     "type": "CODE"
    }
   },
   "outputs": [
    {
     "data": {
      "text/html": [
       "<div>\n",
       "<style scoped>\n",
       "    .dataframe tbody tr th:only-of-type {\n",
       "        vertical-align: middle;\n",
       "    }\n",
       "\n",
       "    .dataframe tbody tr th {\n",
       "        vertical-align: top;\n",
       "    }\n",
       "\n",
       "    .dataframe thead th {\n",
       "        text-align: right;\n",
       "    }\n",
       "</style>\n",
       "<table border=\"1\" class=\"dataframe\">\n",
       "  <thead>\n",
       "    <tr style=\"text-align: right;\">\n",
       "      <th></th>\n",
       "      <th>sepal length (cm)</th>\n",
       "      <th>sepal width (cm)</th>\n",
       "      <th>petal length (cm)</th>\n",
       "      <th>petal width (cm)</th>\n",
       "    </tr>\n",
       "  </thead>\n",
       "  <tbody>\n",
       "    <tr>\n",
       "      <th>110</th>\n",
       "      <td>6.5</td>\n",
       "      <td>3.2</td>\n",
       "      <td>5.1</td>\n",
       "      <td>2.0</td>\n",
       "    </tr>\n",
       "    <tr>\n",
       "      <th>23</th>\n",
       "      <td>5.1</td>\n",
       "      <td>3.3</td>\n",
       "      <td>1.7</td>\n",
       "      <td>0.5</td>\n",
       "    </tr>\n",
       "    <tr>\n",
       "      <th>9</th>\n",
       "      <td>4.9</td>\n",
       "      <td>3.1</td>\n",
       "      <td>1.5</td>\n",
       "      <td>0.1</td>\n",
       "    </tr>\n",
       "    <tr>\n",
       "      <th>86</th>\n",
       "      <td>6.7</td>\n",
       "      <td>3.1</td>\n",
       "      <td>4.7</td>\n",
       "      <td>1.5</td>\n",
       "    </tr>\n",
       "    <tr>\n",
       "      <th>91</th>\n",
       "      <td>6.1</td>\n",
       "      <td>3.0</td>\n",
       "      <td>4.6</td>\n",
       "      <td>1.4</td>\n",
       "    </tr>\n",
       "    <tr>\n",
       "      <th>89</th>\n",
       "      <td>5.5</td>\n",
       "      <td>2.5</td>\n",
       "      <td>4.0</td>\n",
       "      <td>1.3</td>\n",
       "    </tr>\n",
       "    <tr>\n",
       "      <th>79</th>\n",
       "      <td>5.7</td>\n",
       "      <td>2.6</td>\n",
       "      <td>3.5</td>\n",
       "      <td>1.0</td>\n",
       "    </tr>\n",
       "    <tr>\n",
       "      <th>101</th>\n",
       "      <td>5.8</td>\n",
       "      <td>2.7</td>\n",
       "      <td>5.1</td>\n",
       "      <td>1.9</td>\n",
       "    </tr>\n",
       "    <tr>\n",
       "      <th>65</th>\n",
       "      <td>6.7</td>\n",
       "      <td>3.1</td>\n",
       "      <td>4.4</td>\n",
       "      <td>1.4</td>\n",
       "    </tr>\n",
       "    <tr>\n",
       "      <th>115</th>\n",
       "      <td>6.4</td>\n",
       "      <td>3.2</td>\n",
       "      <td>5.3</td>\n",
       "      <td>2.3</td>\n",
       "    </tr>\n",
       "  </tbody>\n",
       "</table>\n",
       "</div>"
      ],
      "text/plain": [
       "     sepal length (cm)  sepal width (cm)  petal length (cm)  petal width (cm)\n",
       "110                6.5               3.2                5.1               2.0\n",
       "23                 5.1               3.3                1.7               0.5\n",
       "9                  4.9               3.1                1.5               0.1\n",
       "86                 6.7               3.1                4.7               1.5\n",
       "91                 6.1               3.0                4.6               1.4\n",
       "89                 5.5               2.5                4.0               1.3\n",
       "79                 5.7               2.6                3.5               1.0\n",
       "101                5.8               2.7                5.1               1.9\n",
       "65                 6.7               3.1                4.4               1.4\n",
       "115                6.4               3.2                5.3               2.3"
      ]
     },
     "execution_count": 6,
     "metadata": {},
     "output_type": "execute_result"
    }
   ],
   "source": [
    "X_train_iris.head(n=10)"
   ]
  },
  {
   "cell_type": "code",
   "execution_count": 7,
   "metadata": {
    "datalore": {
     "hide_input_from_viewers": true,
     "hide_output_from_viewers": true,
     "node_id": "uXlXiJrjwjcSo0735XBSXP",
     "type": "CODE"
    }
   },
   "outputs": [
    {
     "data": {
      "text/html": [
       "<div>\n",
       "<style scoped>\n",
       "    .dataframe tbody tr th:only-of-type {\n",
       "        vertical-align: middle;\n",
       "    }\n",
       "\n",
       "    .dataframe tbody tr th {\n",
       "        vertical-align: top;\n",
       "    }\n",
       "\n",
       "    .dataframe thead th {\n",
       "        text-align: right;\n",
       "    }\n",
       "</style>\n",
       "<table border=\"1\" class=\"dataframe\">\n",
       "  <thead>\n",
       "    <tr style=\"text-align: right;\">\n",
       "      <th></th>\n",
       "      <th>sepal length (cm)</th>\n",
       "      <th>sepal width (cm)</th>\n",
       "      <th>petal length (cm)</th>\n",
       "      <th>petal width (cm)</th>\n",
       "    </tr>\n",
       "  </thead>\n",
       "  <tbody>\n",
       "    <tr>\n",
       "      <th>count</th>\n",
       "      <td>100.000000</td>\n",
       "      <td>100.000000</td>\n",
       "      <td>100.000000</td>\n",
       "      <td>100.000000</td>\n",
       "    </tr>\n",
       "    <tr>\n",
       "      <th>mean</th>\n",
       "      <td>5.892000</td>\n",
       "      <td>3.050000</td>\n",
       "      <td>3.854000</td>\n",
       "      <td>1.228000</td>\n",
       "    </tr>\n",
       "    <tr>\n",
       "      <th>std</th>\n",
       "      <td>0.796289</td>\n",
       "      <td>0.403144</td>\n",
       "      <td>1.708471</td>\n",
       "      <td>0.725868</td>\n",
       "    </tr>\n",
       "    <tr>\n",
       "      <th>min</th>\n",
       "      <td>4.500000</td>\n",
       "      <td>2.200000</td>\n",
       "      <td>1.000000</td>\n",
       "      <td>0.100000</td>\n",
       "    </tr>\n",
       "    <tr>\n",
       "      <th>25%</th>\n",
       "      <td>5.100000</td>\n",
       "      <td>2.800000</td>\n",
       "      <td>1.600000</td>\n",
       "      <td>0.400000</td>\n",
       "    </tr>\n",
       "    <tr>\n",
       "      <th>50%</th>\n",
       "      <td>5.850000</td>\n",
       "      <td>3.000000</td>\n",
       "      <td>4.450000</td>\n",
       "      <td>1.350000</td>\n",
       "    </tr>\n",
       "    <tr>\n",
       "      <th>75%</th>\n",
       "      <td>6.425000</td>\n",
       "      <td>3.300000</td>\n",
       "      <td>5.100000</td>\n",
       "      <td>1.800000</td>\n",
       "    </tr>\n",
       "    <tr>\n",
       "      <th>max</th>\n",
       "      <td>7.700000</td>\n",
       "      <td>4.400000</td>\n",
       "      <td>6.900000</td>\n",
       "      <td>2.500000</td>\n",
       "    </tr>\n",
       "  </tbody>\n",
       "</table>\n",
       "</div>"
      ],
      "text/plain": [
       "       sepal length (cm)  sepal width (cm)  petal length (cm)  \\\n",
       "count         100.000000        100.000000         100.000000   \n",
       "mean            5.892000          3.050000           3.854000   \n",
       "std             0.796289          0.403144           1.708471   \n",
       "min             4.500000          2.200000           1.000000   \n",
       "25%             5.100000          2.800000           1.600000   \n",
       "50%             5.850000          3.000000           4.450000   \n",
       "75%             6.425000          3.300000           5.100000   \n",
       "max             7.700000          4.400000           6.900000   \n",
       "\n",
       "       petal width (cm)  \n",
       "count        100.000000  \n",
       "mean           1.228000  \n",
       "std            0.725868  \n",
       "min            0.100000  \n",
       "25%            0.400000  \n",
       "50%            1.350000  \n",
       "75%            1.800000  \n",
       "max            2.500000  "
      ]
     },
     "execution_count": 7,
     "metadata": {},
     "output_type": "execute_result"
    }
   ],
   "source": [
    "X_train_iris.describe()"
   ]
  },
  {
   "attachments": {},
   "cell_type": "markdown",
   "metadata": {
    "datalore": {
     "hide_input_from_viewers": true,
     "hide_output_from_viewers": true,
     "node_id": "fm9TRM4zJmuld9cdpoIZxB",
     "type": "MD"
    }
   },
   "source": [
    "## Diabetes"
   ]
  },
  {
   "cell_type": "code",
   "execution_count": 8,
   "metadata": {
    "datalore": {
     "hide_input_from_viewers": true,
     "hide_output_from_viewers": true,
     "node_id": "2hot2rsUY7qJUyDYtoa7nP",
     "type": "CODE"
    }
   },
   "outputs": [],
   "source": [
    "X_diabetes, y_diabetes = load_diabetes(return_X_y=True, as_frame=True)\n",
    "y_median = np.median(y_diabetes)\n",
    "y_diabetes[y_diabetes < y_median] = 0 \n",
    "y_diabetes[y_diabetes >= y_median] = 1\n",
    "X_train_diabetes, X_test_diabetes, y_train_diabetes, y_test_diabetes = train_test_split(\n",
    "    X_diabetes, y_diabetes, test_size=0.33, random_state=123\n",
    ")"
   ]
  },
  {
   "cell_type": "code",
   "execution_count": 9,
   "metadata": {
    "datalore": {
     "hide_input_from_viewers": true,
     "hide_output_from_viewers": true,
     "node_id": "TeI3NH07wPsPbEHoKosOWN",
     "type": "CODE"
    }
   },
   "outputs": [
    {
     "name": "stdout",
     "output_type": "stream",
     "text": [
      "<class 'pandas.core.frame.DataFrame'>\n",
      "Index: 296 entries, 150 to 365\n",
      "Data columns (total 10 columns):\n",
      " #   Column  Non-Null Count  Dtype  \n",
      "---  ------  --------------  -----  \n",
      " 0   age     296 non-null    float64\n",
      " 1   sex     296 non-null    float64\n",
      " 2   bmi     296 non-null    float64\n",
      " 3   bp      296 non-null    float64\n",
      " 4   s1      296 non-null    float64\n",
      " 5   s2      296 non-null    float64\n",
      " 6   s3      296 non-null    float64\n",
      " 7   s4      296 non-null    float64\n",
      " 8   s5      296 non-null    float64\n",
      " 9   s6      296 non-null    float64\n",
      "dtypes: float64(10)\n",
      "memory usage: 25.4 KB\n"
     ]
    }
   ],
   "source": [
    "X_train_diabetes.info()"
   ]
  },
  {
   "cell_type": "code",
   "execution_count": 10,
   "metadata": {
    "datalore": {
     "hide_input_from_viewers": true,
     "hide_output_from_viewers": true,
     "node_id": "sBuVEz1Io7Cc0iZEumBwZF",
     "type": "CODE"
    }
   },
   "outputs": [
    {
     "data": {
      "text/html": [
       "<div>\n",
       "<style scoped>\n",
       "    .dataframe tbody tr th:only-of-type {\n",
       "        vertical-align: middle;\n",
       "    }\n",
       "\n",
       "    .dataframe tbody tr th {\n",
       "        vertical-align: top;\n",
       "    }\n",
       "\n",
       "    .dataframe thead th {\n",
       "        text-align: right;\n",
       "    }\n",
       "</style>\n",
       "<table border=\"1\" class=\"dataframe\">\n",
       "  <thead>\n",
       "    <tr style=\"text-align: right;\">\n",
       "      <th></th>\n",
       "      <th>age</th>\n",
       "      <th>sex</th>\n",
       "      <th>bmi</th>\n",
       "      <th>bp</th>\n",
       "      <th>s1</th>\n",
       "      <th>s2</th>\n",
       "      <th>s3</th>\n",
       "      <th>s4</th>\n",
       "      <th>s5</th>\n",
       "      <th>s6</th>\n",
       "    </tr>\n",
       "  </thead>\n",
       "  <tbody>\n",
       "    <tr>\n",
       "      <th>150</th>\n",
       "      <td>0.023546</td>\n",
       "      <td>-0.044642</td>\n",
       "      <td>0.070319</td>\n",
       "      <td>0.025315</td>\n",
       "      <td>-0.034592</td>\n",
       "      <td>-0.014466</td>\n",
       "      <td>-0.032356</td>\n",
       "      <td>-0.002592</td>\n",
       "      <td>-0.019198</td>\n",
       "      <td>-0.009362</td>\n",
       "    </tr>\n",
       "    <tr>\n",
       "      <th>185</th>\n",
       "      <td>-0.074533</td>\n",
       "      <td>0.050680</td>\n",
       "      <td>-0.018062</td>\n",
       "      <td>0.008101</td>\n",
       "      <td>-0.019456</td>\n",
       "      <td>-0.024800</td>\n",
       "      <td>-0.065491</td>\n",
       "      <td>0.034309</td>\n",
       "      <td>0.067318</td>\n",
       "      <td>-0.017646</td>\n",
       "    </tr>\n",
       "    <tr>\n",
       "      <th>12</th>\n",
       "      <td>0.016281</td>\n",
       "      <td>-0.044642</td>\n",
       "      <td>-0.028840</td>\n",
       "      <td>-0.009113</td>\n",
       "      <td>-0.004321</td>\n",
       "      <td>-0.009769</td>\n",
       "      <td>0.044958</td>\n",
       "      <td>-0.039493</td>\n",
       "      <td>-0.030748</td>\n",
       "      <td>-0.042499</td>\n",
       "    </tr>\n",
       "    <tr>\n",
       "      <th>30</th>\n",
       "      <td>-0.060003</td>\n",
       "      <td>-0.044642</td>\n",
       "      <td>0.044451</td>\n",
       "      <td>-0.019442</td>\n",
       "      <td>-0.009825</td>\n",
       "      <td>-0.007577</td>\n",
       "      <td>0.022869</td>\n",
       "      <td>-0.039493</td>\n",
       "      <td>-0.027129</td>\n",
       "      <td>-0.009362</td>\n",
       "    </tr>\n",
       "    <tr>\n",
       "      <th>144</th>\n",
       "      <td>0.030811</td>\n",
       "      <td>0.050680</td>\n",
       "      <td>0.046607</td>\n",
       "      <td>-0.015999</td>\n",
       "      <td>0.020446</td>\n",
       "      <td>0.050669</td>\n",
       "      <td>-0.058127</td>\n",
       "      <td>0.071210</td>\n",
       "      <td>0.006207</td>\n",
       "      <td>0.007207</td>\n",
       "    </tr>\n",
       "    <tr>\n",
       "      <th>192</th>\n",
       "      <td>0.056239</td>\n",
       "      <td>0.050680</td>\n",
       "      <td>-0.030996</td>\n",
       "      <td>0.008101</td>\n",
       "      <td>0.019070</td>\n",
       "      <td>0.021233</td>\n",
       "      <td>0.033914</td>\n",
       "      <td>-0.039493</td>\n",
       "      <td>-0.029526</td>\n",
       "      <td>-0.059067</td>\n",
       "    </tr>\n",
       "    <tr>\n",
       "      <th>157</th>\n",
       "      <td>-0.001882</td>\n",
       "      <td>0.050680</td>\n",
       "      <td>-0.033151</td>\n",
       "      <td>-0.018306</td>\n",
       "      <td>0.031454</td>\n",
       "      <td>0.042840</td>\n",
       "      <td>-0.013948</td>\n",
       "      <td>0.019917</td>\n",
       "      <td>0.010227</td>\n",
       "      <td>0.027917</td>\n",
       "    </tr>\n",
       "    <tr>\n",
       "      <th>241</th>\n",
       "      <td>0.030811</td>\n",
       "      <td>0.050680</td>\n",
       "      <td>-0.008362</td>\n",
       "      <td>0.004658</td>\n",
       "      <td>0.014942</td>\n",
       "      <td>0.027496</td>\n",
       "      <td>0.008142</td>\n",
       "      <td>-0.008127</td>\n",
       "      <td>-0.029526</td>\n",
       "      <td>0.056912</td>\n",
       "    </tr>\n",
       "    <tr>\n",
       "      <th>287</th>\n",
       "      <td>0.045341</td>\n",
       "      <td>-0.044642</td>\n",
       "      <td>-0.006206</td>\n",
       "      <td>-0.015999</td>\n",
       "      <td>0.125019</td>\n",
       "      <td>0.125198</td>\n",
       "      <td>0.019187</td>\n",
       "      <td>0.034309</td>\n",
       "      <td>0.032432</td>\n",
       "      <td>-0.005220</td>\n",
       "    </tr>\n",
       "    <tr>\n",
       "      <th>236</th>\n",
       "      <td>0.027178</td>\n",
       "      <td>-0.044642</td>\n",
       "      <td>0.006728</td>\n",
       "      <td>0.035644</td>\n",
       "      <td>0.079612</td>\n",
       "      <td>0.070710</td>\n",
       "      <td>0.015505</td>\n",
       "      <td>0.034309</td>\n",
       "      <td>0.040673</td>\n",
       "      <td>0.011349</td>\n",
       "    </tr>\n",
       "  </tbody>\n",
       "</table>\n",
       "</div>"
      ],
      "text/plain": [
       "          age       sex       bmi        bp        s1        s2        s3  \\\n",
       "150  0.023546 -0.044642  0.070319  0.025315 -0.034592 -0.014466 -0.032356   \n",
       "185 -0.074533  0.050680 -0.018062  0.008101 -0.019456 -0.024800 -0.065491   \n",
       "12   0.016281 -0.044642 -0.028840 -0.009113 -0.004321 -0.009769  0.044958   \n",
       "30  -0.060003 -0.044642  0.044451 -0.019442 -0.009825 -0.007577  0.022869   \n",
       "144  0.030811  0.050680  0.046607 -0.015999  0.020446  0.050669 -0.058127   \n",
       "192  0.056239  0.050680 -0.030996  0.008101  0.019070  0.021233  0.033914   \n",
       "157 -0.001882  0.050680 -0.033151 -0.018306  0.031454  0.042840 -0.013948   \n",
       "241  0.030811  0.050680 -0.008362  0.004658  0.014942  0.027496  0.008142   \n",
       "287  0.045341 -0.044642 -0.006206 -0.015999  0.125019  0.125198  0.019187   \n",
       "236  0.027178 -0.044642  0.006728  0.035644  0.079612  0.070710  0.015505   \n",
       "\n",
       "           s4        s5        s6  \n",
       "150 -0.002592 -0.019198 -0.009362  \n",
       "185  0.034309  0.067318 -0.017646  \n",
       "12  -0.039493 -0.030748 -0.042499  \n",
       "30  -0.039493 -0.027129 -0.009362  \n",
       "144  0.071210  0.006207  0.007207  \n",
       "192 -0.039493 -0.029526 -0.059067  \n",
       "157  0.019917  0.010227  0.027917  \n",
       "241 -0.008127 -0.029526  0.056912  \n",
       "287  0.034309  0.032432 -0.005220  \n",
       "236  0.034309  0.040673  0.011349  "
      ]
     },
     "execution_count": 10,
     "metadata": {},
     "output_type": "execute_result"
    }
   ],
   "source": [
    "X_train_diabetes.head(n=10)"
   ]
  },
  {
   "cell_type": "code",
   "execution_count": 11,
   "metadata": {
    "datalore": {
     "hide_input_from_viewers": true,
     "hide_output_from_viewers": true,
     "node_id": "0y69i96eBxUG2MLXLD9Pbq",
     "type": "CODE"
    }
   },
   "outputs": [
    {
     "data": {
      "text/html": [
       "<div>\n",
       "<style scoped>\n",
       "    .dataframe tbody tr th:only-of-type {\n",
       "        vertical-align: middle;\n",
       "    }\n",
       "\n",
       "    .dataframe tbody tr th {\n",
       "        vertical-align: top;\n",
       "    }\n",
       "\n",
       "    .dataframe thead th {\n",
       "        text-align: right;\n",
       "    }\n",
       "</style>\n",
       "<table border=\"1\" class=\"dataframe\">\n",
       "  <thead>\n",
       "    <tr style=\"text-align: right;\">\n",
       "      <th></th>\n",
       "      <th>age</th>\n",
       "      <th>sex</th>\n",
       "      <th>bmi</th>\n",
       "      <th>bp</th>\n",
       "      <th>s1</th>\n",
       "      <th>s2</th>\n",
       "      <th>s3</th>\n",
       "      <th>s4</th>\n",
       "      <th>s5</th>\n",
       "      <th>s6</th>\n",
       "    </tr>\n",
       "  </thead>\n",
       "  <tbody>\n",
       "    <tr>\n",
       "      <th>count</th>\n",
       "      <td>296.000000</td>\n",
       "      <td>296.000000</td>\n",
       "      <td>296.000000</td>\n",
       "      <td>296.000000</td>\n",
       "      <td>296.000000</td>\n",
       "      <td>296.000000</td>\n",
       "      <td>296.000000</td>\n",
       "      <td>296.000000</td>\n",
       "      <td>296.000000</td>\n",
       "      <td>296.000000</td>\n",
       "    </tr>\n",
       "    <tr>\n",
       "      <th>mean</th>\n",
       "      <td>-0.000839</td>\n",
       "      <td>0.001409</td>\n",
       "      <td>0.000840</td>\n",
       "      <td>-0.000033</td>\n",
       "      <td>-0.002452</td>\n",
       "      <td>-0.001886</td>\n",
       "      <td>-0.001678</td>\n",
       "      <td>-0.000111</td>\n",
       "      <td>-0.000730</td>\n",
       "      <td>0.000602</td>\n",
       "    </tr>\n",
       "    <tr>\n",
       "      <th>std</th>\n",
       "      <td>0.046059</td>\n",
       "      <td>0.047714</td>\n",
       "      <td>0.048117</td>\n",
       "      <td>0.048085</td>\n",
       "      <td>0.049400</td>\n",
       "      <td>0.049198</td>\n",
       "      <td>0.048399</td>\n",
       "      <td>0.049292</td>\n",
       "      <td>0.047973</td>\n",
       "      <td>0.050952</td>\n",
       "    </tr>\n",
       "    <tr>\n",
       "      <th>min</th>\n",
       "      <td>-0.103593</td>\n",
       "      <td>-0.044642</td>\n",
       "      <td>-0.084886</td>\n",
       "      <td>-0.112399</td>\n",
       "      <td>-0.126781</td>\n",
       "      <td>-0.115613</td>\n",
       "      <td>-0.102307</td>\n",
       "      <td>-0.076395</td>\n",
       "      <td>-0.126097</td>\n",
       "      <td>-0.137767</td>\n",
       "    </tr>\n",
       "    <tr>\n",
       "      <th>25%</th>\n",
       "      <td>-0.035483</td>\n",
       "      <td>-0.044642</td>\n",
       "      <td>-0.033421</td>\n",
       "      <td>-0.040099</td>\n",
       "      <td>-0.035968</td>\n",
       "      <td>-0.034508</td>\n",
       "      <td>-0.036038</td>\n",
       "      <td>-0.039493</td>\n",
       "      <td>-0.034522</td>\n",
       "      <td>-0.034215</td>\n",
       "    </tr>\n",
       "    <tr>\n",
       "      <th>50%</th>\n",
       "      <td>0.005383</td>\n",
       "      <td>-0.044642</td>\n",
       "      <td>-0.006206</td>\n",
       "      <td>-0.005670</td>\n",
       "      <td>-0.005697</td>\n",
       "      <td>-0.008360</td>\n",
       "      <td>-0.010266</td>\n",
       "      <td>-0.002592</td>\n",
       "      <td>-0.004682</td>\n",
       "      <td>-0.001078</td>\n",
       "    </tr>\n",
       "    <tr>\n",
       "      <th>75%</th>\n",
       "      <td>0.034443</td>\n",
       "      <td>0.050680</td>\n",
       "      <td>0.035290</td>\n",
       "      <td>0.033062</td>\n",
       "      <td>0.024574</td>\n",
       "      <td>0.026556</td>\n",
       "      <td>0.023789</td>\n",
       "      <td>0.034309</td>\n",
       "      <td>0.031967</td>\n",
       "      <td>0.032059</td>\n",
       "    </tr>\n",
       "    <tr>\n",
       "      <th>max</th>\n",
       "      <td>0.096197</td>\n",
       "      <td>0.050680</td>\n",
       "      <td>0.170555</td>\n",
       "      <td>0.132044</td>\n",
       "      <td>0.153914</td>\n",
       "      <td>0.198788</td>\n",
       "      <td>0.181179</td>\n",
       "      <td>0.185234</td>\n",
       "      <td>0.133597</td>\n",
       "      <td>0.135612</td>\n",
       "    </tr>\n",
       "  </tbody>\n",
       "</table>\n",
       "</div>"
      ],
      "text/plain": [
       "              age         sex         bmi          bp          s1          s2  \\\n",
       "count  296.000000  296.000000  296.000000  296.000000  296.000000  296.000000   \n",
       "mean    -0.000839    0.001409    0.000840   -0.000033   -0.002452   -0.001886   \n",
       "std      0.046059    0.047714    0.048117    0.048085    0.049400    0.049198   \n",
       "min     -0.103593   -0.044642   -0.084886   -0.112399   -0.126781   -0.115613   \n",
       "25%     -0.035483   -0.044642   -0.033421   -0.040099   -0.035968   -0.034508   \n",
       "50%      0.005383   -0.044642   -0.006206   -0.005670   -0.005697   -0.008360   \n",
       "75%      0.034443    0.050680    0.035290    0.033062    0.024574    0.026556   \n",
       "max      0.096197    0.050680    0.170555    0.132044    0.153914    0.198788   \n",
       "\n",
       "               s3          s4          s5          s6  \n",
       "count  296.000000  296.000000  296.000000  296.000000  \n",
       "mean    -0.001678   -0.000111   -0.000730    0.000602  \n",
       "std      0.048399    0.049292    0.047973    0.050952  \n",
       "min     -0.102307   -0.076395   -0.126097   -0.137767  \n",
       "25%     -0.036038   -0.039493   -0.034522   -0.034215  \n",
       "50%     -0.010266   -0.002592   -0.004682   -0.001078  \n",
       "75%      0.023789    0.034309    0.031967    0.032059  \n",
       "max      0.181179    0.185234    0.133597    0.135612  "
      ]
     },
     "execution_count": 11,
     "metadata": {},
     "output_type": "execute_result"
    }
   ],
   "source": [
    "X_train_diabetes.describe()"
   ]
  },
  {
   "attachments": {},
   "cell_type": "markdown",
   "metadata": {
    "datalore": {
     "hide_input_from_viewers": true,
     "hide_output_from_viewers": true,
     "node_id": "i1Yg6FFyg5kBl3bsA3mT12",
     "type": "MD"
    }
   },
   "source": [
    "## Wine"
   ]
  },
  {
   "cell_type": "code",
   "execution_count": 12,
   "metadata": {
    "datalore": {
     "hide_input_from_viewers": true,
     "hide_output_from_viewers": true,
     "node_id": "IBlPd1g6mzN98m65ipm2n9",
     "type": "CODE"
    }
   },
   "outputs": [],
   "source": [
    "X_wine, y_wine = load_wine(return_X_y=True, as_frame=True)\n",
    "X_train_wine, X_test_wine, y_train_wine, y_test_wine = train_test_split(\n",
    "    X_wine, y_wine, test_size=0.33, random_state=123\n",
    ")"
   ]
  },
  {
   "cell_type": "code",
   "execution_count": 13,
   "metadata": {
    "datalore": {
     "hide_input_from_viewers": true,
     "hide_output_from_viewers": true,
     "node_id": "QQhj0iF0DPEguDq94ahx8v",
     "type": "CODE"
    }
   },
   "outputs": [
    {
     "name": "stdout",
     "output_type": "stream",
     "text": [
      "<class 'pandas.core.frame.DataFrame'>\n",
      "Index: 119 entries, 30 to 109\n",
      "Data columns (total 13 columns):\n",
      " #   Column                        Non-Null Count  Dtype  \n",
      "---  ------                        --------------  -----  \n",
      " 0   alcohol                       119 non-null    float64\n",
      " 1   malic_acid                    119 non-null    float64\n",
      " 2   ash                           119 non-null    float64\n",
      " 3   alcalinity_of_ash             119 non-null    float64\n",
      " 4   magnesium                     119 non-null    float64\n",
      " 5   total_phenols                 119 non-null    float64\n",
      " 6   flavanoids                    119 non-null    float64\n",
      " 7   nonflavanoid_phenols          119 non-null    float64\n",
      " 8   proanthocyanins               119 non-null    float64\n",
      " 9   color_intensity               119 non-null    float64\n",
      " 10  hue                           119 non-null    float64\n",
      " 11  od280/od315_of_diluted_wines  119 non-null    float64\n",
      " 12  proline                       119 non-null    float64\n",
      "dtypes: float64(13)\n",
      "memory usage: 13.0 KB\n"
     ]
    }
   ],
   "source": [
    "X_train_wine.info()"
   ]
  },
  {
   "cell_type": "code",
   "execution_count": 14,
   "metadata": {
    "datalore": {
     "hide_input_from_viewers": true,
     "hide_output_from_viewers": true,
     "node_id": "N6aCe3oY4jae37oIhy3ZDs",
     "type": "CODE"
    }
   },
   "outputs": [
    {
     "data": {
      "text/html": [
       "<div>\n",
       "<style scoped>\n",
       "    .dataframe tbody tr th:only-of-type {\n",
       "        vertical-align: middle;\n",
       "    }\n",
       "\n",
       "    .dataframe tbody tr th {\n",
       "        vertical-align: top;\n",
       "    }\n",
       "\n",
       "    .dataframe thead th {\n",
       "        text-align: right;\n",
       "    }\n",
       "</style>\n",
       "<table border=\"1\" class=\"dataframe\">\n",
       "  <thead>\n",
       "    <tr style=\"text-align: right;\">\n",
       "      <th></th>\n",
       "      <th>alcohol</th>\n",
       "      <th>malic_acid</th>\n",
       "      <th>ash</th>\n",
       "      <th>alcalinity_of_ash</th>\n",
       "      <th>magnesium</th>\n",
       "      <th>total_phenols</th>\n",
       "      <th>flavanoids</th>\n",
       "      <th>nonflavanoid_phenols</th>\n",
       "      <th>proanthocyanins</th>\n",
       "      <th>color_intensity</th>\n",
       "      <th>hue</th>\n",
       "      <th>od280/od315_of_diluted_wines</th>\n",
       "      <th>proline</th>\n",
       "    </tr>\n",
       "  </thead>\n",
       "  <tbody>\n",
       "    <tr>\n",
       "      <th>30</th>\n",
       "      <td>13.73</td>\n",
       "      <td>1.50</td>\n",
       "      <td>2.70</td>\n",
       "      <td>22.5</td>\n",
       "      <td>101.0</td>\n",
       "      <td>3.00</td>\n",
       "      <td>3.25</td>\n",
       "      <td>0.29</td>\n",
       "      <td>2.38</td>\n",
       "      <td>5.70</td>\n",
       "      <td>1.19</td>\n",
       "      <td>2.71</td>\n",
       "      <td>1285.0</td>\n",
       "    </tr>\n",
       "    <tr>\n",
       "      <th>4</th>\n",
       "      <td>13.24</td>\n",
       "      <td>2.59</td>\n",
       "      <td>2.87</td>\n",
       "      <td>21.0</td>\n",
       "      <td>118.0</td>\n",
       "      <td>2.80</td>\n",
       "      <td>2.69</td>\n",
       "      <td>0.39</td>\n",
       "      <td>1.82</td>\n",
       "      <td>4.32</td>\n",
       "      <td>1.04</td>\n",
       "      <td>2.93</td>\n",
       "      <td>735.0</td>\n",
       "    </tr>\n",
       "    <tr>\n",
       "      <th>19</th>\n",
       "      <td>13.64</td>\n",
       "      <td>3.10</td>\n",
       "      <td>2.56</td>\n",
       "      <td>15.2</td>\n",
       "      <td>116.0</td>\n",
       "      <td>2.70</td>\n",
       "      <td>3.03</td>\n",
       "      <td>0.17</td>\n",
       "      <td>1.66</td>\n",
       "      <td>5.10</td>\n",
       "      <td>0.96</td>\n",
       "      <td>3.36</td>\n",
       "      <td>845.0</td>\n",
       "    </tr>\n",
       "    <tr>\n",
       "      <th>104</th>\n",
       "      <td>12.51</td>\n",
       "      <td>1.73</td>\n",
       "      <td>1.98</td>\n",
       "      <td>20.5</td>\n",
       "      <td>85.0</td>\n",
       "      <td>2.20</td>\n",
       "      <td>1.92</td>\n",
       "      <td>0.32</td>\n",
       "      <td>1.48</td>\n",
       "      <td>2.94</td>\n",
       "      <td>1.04</td>\n",
       "      <td>3.57</td>\n",
       "      <td>672.0</td>\n",
       "    </tr>\n",
       "    <tr>\n",
       "      <th>29</th>\n",
       "      <td>14.02</td>\n",
       "      <td>1.68</td>\n",
       "      <td>2.21</td>\n",
       "      <td>16.0</td>\n",
       "      <td>96.0</td>\n",
       "      <td>2.65</td>\n",
       "      <td>2.33</td>\n",
       "      <td>0.26</td>\n",
       "      <td>1.98</td>\n",
       "      <td>4.70</td>\n",
       "      <td>1.04</td>\n",
       "      <td>3.59</td>\n",
       "      <td>1035.0</td>\n",
       "    </tr>\n",
       "    <tr>\n",
       "      <th>35</th>\n",
       "      <td>13.48</td>\n",
       "      <td>1.81</td>\n",
       "      <td>2.41</td>\n",
       "      <td>20.5</td>\n",
       "      <td>100.0</td>\n",
       "      <td>2.70</td>\n",
       "      <td>2.98</td>\n",
       "      <td>0.26</td>\n",
       "      <td>1.86</td>\n",
       "      <td>5.10</td>\n",
       "      <td>1.04</td>\n",
       "      <td>3.47</td>\n",
       "      <td>920.0</td>\n",
       "    </tr>\n",
       "    <tr>\n",
       "      <th>0</th>\n",
       "      <td>14.23</td>\n",
       "      <td>1.71</td>\n",
       "      <td>2.43</td>\n",
       "      <td>15.6</td>\n",
       "      <td>127.0</td>\n",
       "      <td>2.80</td>\n",
       "      <td>3.06</td>\n",
       "      <td>0.28</td>\n",
       "      <td>2.29</td>\n",
       "      <td>5.64</td>\n",
       "      <td>1.04</td>\n",
       "      <td>3.92</td>\n",
       "      <td>1065.0</td>\n",
       "    </tr>\n",
       "    <tr>\n",
       "      <th>174</th>\n",
       "      <td>13.40</td>\n",
       "      <td>3.91</td>\n",
       "      <td>2.48</td>\n",
       "      <td>23.0</td>\n",
       "      <td>102.0</td>\n",
       "      <td>1.80</td>\n",
       "      <td>0.75</td>\n",
       "      <td>0.43</td>\n",
       "      <td>1.41</td>\n",
       "      <td>7.30</td>\n",
       "      <td>0.70</td>\n",
       "      <td>1.56</td>\n",
       "      <td>750.0</td>\n",
       "    </tr>\n",
       "    <tr>\n",
       "      <th>45</th>\n",
       "      <td>14.21</td>\n",
       "      <td>4.04</td>\n",
       "      <td>2.44</td>\n",
       "      <td>18.9</td>\n",
       "      <td>111.0</td>\n",
       "      <td>2.85</td>\n",
       "      <td>2.65</td>\n",
       "      <td>0.30</td>\n",
       "      <td>1.25</td>\n",
       "      <td>5.24</td>\n",
       "      <td>0.87</td>\n",
       "      <td>3.33</td>\n",
       "      <td>1080.0</td>\n",
       "    </tr>\n",
       "    <tr>\n",
       "      <th>112</th>\n",
       "      <td>11.76</td>\n",
       "      <td>2.68</td>\n",
       "      <td>2.92</td>\n",
       "      <td>20.0</td>\n",
       "      <td>103.0</td>\n",
       "      <td>1.75</td>\n",
       "      <td>2.03</td>\n",
       "      <td>0.60</td>\n",
       "      <td>1.05</td>\n",
       "      <td>3.80</td>\n",
       "      <td>1.23</td>\n",
       "      <td>2.50</td>\n",
       "      <td>607.0</td>\n",
       "    </tr>\n",
       "  </tbody>\n",
       "</table>\n",
       "</div>"
      ],
      "text/plain": [
       "     alcohol  malic_acid   ash  alcalinity_of_ash  magnesium  total_phenols  \\\n",
       "30     13.73        1.50  2.70               22.5      101.0           3.00   \n",
       "4      13.24        2.59  2.87               21.0      118.0           2.80   \n",
       "19     13.64        3.10  2.56               15.2      116.0           2.70   \n",
       "104    12.51        1.73  1.98               20.5       85.0           2.20   \n",
       "29     14.02        1.68  2.21               16.0       96.0           2.65   \n",
       "35     13.48        1.81  2.41               20.5      100.0           2.70   \n",
       "0      14.23        1.71  2.43               15.6      127.0           2.80   \n",
       "174    13.40        3.91  2.48               23.0      102.0           1.80   \n",
       "45     14.21        4.04  2.44               18.9      111.0           2.85   \n",
       "112    11.76        2.68  2.92               20.0      103.0           1.75   \n",
       "\n",
       "     flavanoids  nonflavanoid_phenols  proanthocyanins  color_intensity   hue  \\\n",
       "30         3.25                  0.29             2.38             5.70  1.19   \n",
       "4          2.69                  0.39             1.82             4.32  1.04   \n",
       "19         3.03                  0.17             1.66             5.10  0.96   \n",
       "104        1.92                  0.32             1.48             2.94  1.04   \n",
       "29         2.33                  0.26             1.98             4.70  1.04   \n",
       "35         2.98                  0.26             1.86             5.10  1.04   \n",
       "0          3.06                  0.28             2.29             5.64  1.04   \n",
       "174        0.75                  0.43             1.41             7.30  0.70   \n",
       "45         2.65                  0.30             1.25             5.24  0.87   \n",
       "112        2.03                  0.60             1.05             3.80  1.23   \n",
       "\n",
       "     od280/od315_of_diluted_wines  proline  \n",
       "30                           2.71   1285.0  \n",
       "4                            2.93    735.0  \n",
       "19                           3.36    845.0  \n",
       "104                          3.57    672.0  \n",
       "29                           3.59   1035.0  \n",
       "35                           3.47    920.0  \n",
       "0                            3.92   1065.0  \n",
       "174                          1.56    750.0  \n",
       "45                           3.33   1080.0  \n",
       "112                          2.50    607.0  "
      ]
     },
     "execution_count": 14,
     "metadata": {},
     "output_type": "execute_result"
    }
   ],
   "source": [
    "X_train_wine.head(n=10)"
   ]
  },
  {
   "cell_type": "code",
   "execution_count": 15,
   "metadata": {
    "datalore": {
     "hide_input_from_viewers": true,
     "hide_output_from_viewers": true,
     "node_id": "cJsxJ2HI9WxSoY6yHxvch2",
     "type": "CODE"
    }
   },
   "outputs": [
    {
     "data": {
      "text/html": [
       "<div>\n",
       "<style scoped>\n",
       "    .dataframe tbody tr th:only-of-type {\n",
       "        vertical-align: middle;\n",
       "    }\n",
       "\n",
       "    .dataframe tbody tr th {\n",
       "        vertical-align: top;\n",
       "    }\n",
       "\n",
       "    .dataframe thead th {\n",
       "        text-align: right;\n",
       "    }\n",
       "</style>\n",
       "<table border=\"1\" class=\"dataframe\">\n",
       "  <thead>\n",
       "    <tr style=\"text-align: right;\">\n",
       "      <th></th>\n",
       "      <th>alcohol</th>\n",
       "      <th>malic_acid</th>\n",
       "      <th>ash</th>\n",
       "      <th>alcalinity_of_ash</th>\n",
       "      <th>magnesium</th>\n",
       "      <th>total_phenols</th>\n",
       "      <th>flavanoids</th>\n",
       "      <th>nonflavanoid_phenols</th>\n",
       "      <th>proanthocyanins</th>\n",
       "      <th>color_intensity</th>\n",
       "      <th>hue</th>\n",
       "      <th>od280/od315_of_diluted_wines</th>\n",
       "      <th>proline</th>\n",
       "    </tr>\n",
       "  </thead>\n",
       "  <tbody>\n",
       "    <tr>\n",
       "      <th>count</th>\n",
       "      <td>119.000000</td>\n",
       "      <td>119.000000</td>\n",
       "      <td>119.000000</td>\n",
       "      <td>119.000000</td>\n",
       "      <td>119.000000</td>\n",
       "      <td>119.000000</td>\n",
       "      <td>119.000000</td>\n",
       "      <td>119.000000</td>\n",
       "      <td>119.000000</td>\n",
       "      <td>119.000000</td>\n",
       "      <td>119.000000</td>\n",
       "      <td>119.000000</td>\n",
       "      <td>119.000000</td>\n",
       "    </tr>\n",
       "    <tr>\n",
       "      <th>mean</th>\n",
       "      <td>13.034622</td>\n",
       "      <td>2.260084</td>\n",
       "      <td>2.334790</td>\n",
       "      <td>19.099160</td>\n",
       "      <td>99.596639</td>\n",
       "      <td>2.308571</td>\n",
       "      <td>2.110588</td>\n",
       "      <td>0.347563</td>\n",
       "      <td>1.652017</td>\n",
       "      <td>4.999244</td>\n",
       "      <td>0.962571</td>\n",
       "      <td>2.643613</td>\n",
       "      <td>755.142857</td>\n",
       "    </tr>\n",
       "    <tr>\n",
       "      <th>std</th>\n",
       "      <td>0.810040</td>\n",
       "      <td>1.110269</td>\n",
       "      <td>0.273619</td>\n",
       "      <td>3.146117</td>\n",
       "      <td>14.321561</td>\n",
       "      <td>0.634066</td>\n",
       "      <td>0.948818</td>\n",
       "      <td>0.122467</td>\n",
       "      <td>0.550935</td>\n",
       "      <td>2.288184</td>\n",
       "      <td>0.227941</td>\n",
       "      <td>0.707503</td>\n",
       "      <td>326.409000</td>\n",
       "    </tr>\n",
       "    <tr>\n",
       "      <th>min</th>\n",
       "      <td>11.030000</td>\n",
       "      <td>0.740000</td>\n",
       "      <td>1.360000</td>\n",
       "      <td>10.600000</td>\n",
       "      <td>70.000000</td>\n",
       "      <td>0.980000</td>\n",
       "      <td>0.340000</td>\n",
       "      <td>0.130000</td>\n",
       "      <td>0.420000</td>\n",
       "      <td>1.280000</td>\n",
       "      <td>0.560000</td>\n",
       "      <td>1.290000</td>\n",
       "      <td>278.000000</td>\n",
       "    </tr>\n",
       "    <tr>\n",
       "      <th>25%</th>\n",
       "      <td>12.370000</td>\n",
       "      <td>1.520000</td>\n",
       "      <td>2.200000</td>\n",
       "      <td>16.800000</td>\n",
       "      <td>88.000000</td>\n",
       "      <td>1.745000</td>\n",
       "      <td>1.305000</td>\n",
       "      <td>0.260000</td>\n",
       "      <td>1.350000</td>\n",
       "      <td>3.190000</td>\n",
       "      <td>0.790000</td>\n",
       "      <td>2.035000</td>\n",
       "      <td>497.500000</td>\n",
       "    </tr>\n",
       "    <tr>\n",
       "      <th>50%</th>\n",
       "      <td>13.050000</td>\n",
       "      <td>1.780000</td>\n",
       "      <td>2.320000</td>\n",
       "      <td>19.000000</td>\n",
       "      <td>98.000000</td>\n",
       "      <td>2.410000</td>\n",
       "      <td>2.190000</td>\n",
       "      <td>0.320000</td>\n",
       "      <td>1.620000</td>\n",
       "      <td>4.680000</td>\n",
       "      <td>0.980000</td>\n",
       "      <td>2.830000</td>\n",
       "      <td>680.000000</td>\n",
       "    </tr>\n",
       "    <tr>\n",
       "      <th>75%</th>\n",
       "      <td>13.715000</td>\n",
       "      <td>2.900000</td>\n",
       "      <td>2.500000</td>\n",
       "      <td>21.000000</td>\n",
       "      <td>107.500000</td>\n",
       "      <td>2.800000</td>\n",
       "      <td>2.920000</td>\n",
       "      <td>0.430000</td>\n",
       "      <td>1.980000</td>\n",
       "      <td>6.200000</td>\n",
       "      <td>1.115000</td>\n",
       "      <td>3.190000</td>\n",
       "      <td>1027.500000</td>\n",
       "    </tr>\n",
       "    <tr>\n",
       "      <th>max</th>\n",
       "      <td>14.390000</td>\n",
       "      <td>5.800000</td>\n",
       "      <td>3.220000</td>\n",
       "      <td>30.000000</td>\n",
       "      <td>151.000000</td>\n",
       "      <td>3.850000</td>\n",
       "      <td>3.930000</td>\n",
       "      <td>0.660000</td>\n",
       "      <td>2.960000</td>\n",
       "      <td>13.000000</td>\n",
       "      <td>1.710000</td>\n",
       "      <td>4.000000</td>\n",
       "      <td>1680.000000</td>\n",
       "    </tr>\n",
       "  </tbody>\n",
       "</table>\n",
       "</div>"
      ],
      "text/plain": [
       "          alcohol  malic_acid         ash  alcalinity_of_ash   magnesium  \\\n",
       "count  119.000000  119.000000  119.000000         119.000000  119.000000   \n",
       "mean    13.034622    2.260084    2.334790          19.099160   99.596639   \n",
       "std      0.810040    1.110269    0.273619           3.146117   14.321561   \n",
       "min     11.030000    0.740000    1.360000          10.600000   70.000000   \n",
       "25%     12.370000    1.520000    2.200000          16.800000   88.000000   \n",
       "50%     13.050000    1.780000    2.320000          19.000000   98.000000   \n",
       "75%     13.715000    2.900000    2.500000          21.000000  107.500000   \n",
       "max     14.390000    5.800000    3.220000          30.000000  151.000000   \n",
       "\n",
       "       total_phenols  flavanoids  nonflavanoid_phenols  proanthocyanins  \\\n",
       "count     119.000000  119.000000            119.000000       119.000000   \n",
       "mean        2.308571    2.110588              0.347563         1.652017   \n",
       "std         0.634066    0.948818              0.122467         0.550935   \n",
       "min         0.980000    0.340000              0.130000         0.420000   \n",
       "25%         1.745000    1.305000              0.260000         1.350000   \n",
       "50%         2.410000    2.190000              0.320000         1.620000   \n",
       "75%         2.800000    2.920000              0.430000         1.980000   \n",
       "max         3.850000    3.930000              0.660000         2.960000   \n",
       "\n",
       "       color_intensity         hue  od280/od315_of_diluted_wines      proline  \n",
       "count       119.000000  119.000000                    119.000000   119.000000  \n",
       "mean          4.999244    0.962571                      2.643613   755.142857  \n",
       "std           2.288184    0.227941                      0.707503   326.409000  \n",
       "min           1.280000    0.560000                      1.290000   278.000000  \n",
       "25%           3.190000    0.790000                      2.035000   497.500000  \n",
       "50%           4.680000    0.980000                      2.830000   680.000000  \n",
       "75%           6.200000    1.115000                      3.190000  1027.500000  \n",
       "max          13.000000    1.710000                      4.000000  1680.000000  "
      ]
     },
     "execution_count": 15,
     "metadata": {},
     "output_type": "execute_result"
    }
   ],
   "source": [
    "X_train_wine.describe()"
   ]
  },
  {
   "attachments": {},
   "cell_type": "markdown",
   "metadata": {
    "datalore": {
     "hide_input_from_viewers": true,
     "hide_output_from_viewers": true,
     "node_id": "m7iJnvNK24agYKhYeui8RD",
     "type": "MD"
    }
   },
   "source": [
    "## Breast Cancer"
   ]
  },
  {
   "cell_type": "code",
   "execution_count": 16,
   "metadata": {
    "datalore": {
     "hide_input_from_viewers": true,
     "hide_output_from_viewers": true,
     "node_id": "n9gz0xSldO9phZnCfpLmzo",
     "type": "CODE"
    }
   },
   "outputs": [],
   "source": [
    "X_breast, y_breast = load_breast_cancer(return_X_y=True, as_frame=True)\n",
    "X_train_breast, X_test_breast, y_train_breast, y_test_breast = train_test_split(X_breast, y_breast, test_size=0.33, random_state=123)"
   ]
  },
  {
   "cell_type": "code",
   "execution_count": 17,
   "metadata": {
    "datalore": {
     "hide_input_from_viewers": true,
     "hide_output_from_viewers": true,
     "node_id": "ZK2VqBv2CaZKuWoTVMuNCj",
     "type": "CODE"
    }
   },
   "outputs": [
    {
     "name": "stdout",
     "output_type": "stream",
     "text": [
      "<class 'pandas.core.frame.DataFrame'>\n",
      "Index: 381 entries, 184 to 510\n",
      "Data columns (total 30 columns):\n",
      " #   Column                   Non-Null Count  Dtype  \n",
      "---  ------                   --------------  -----  \n",
      " 0   mean radius              381 non-null    float64\n",
      " 1   mean texture             381 non-null    float64\n",
      " 2   mean perimeter           381 non-null    float64\n",
      " 3   mean area                381 non-null    float64\n",
      " 4   mean smoothness          381 non-null    float64\n",
      " 5   mean compactness         381 non-null    float64\n",
      " 6   mean concavity           381 non-null    float64\n",
      " 7   mean concave points      381 non-null    float64\n",
      " 8   mean symmetry            381 non-null    float64\n",
      " 9   mean fractal dimension   381 non-null    float64\n",
      " 10  radius error             381 non-null    float64\n",
      " 11  texture error            381 non-null    float64\n",
      " 12  perimeter error          381 non-null    float64\n",
      " 13  area error               381 non-null    float64\n",
      " 14  smoothness error         381 non-null    float64\n",
      " 15  compactness error        381 non-null    float64\n",
      " 16  concavity error          381 non-null    float64\n",
      " 17  concave points error     381 non-null    float64\n",
      " 18  symmetry error           381 non-null    float64\n",
      " 19  fractal dimension error  381 non-null    float64\n",
      " 20  worst radius             381 non-null    float64\n",
      " 21  worst texture            381 non-null    float64\n",
      " 22  worst perimeter          381 non-null    float64\n",
      " 23  worst area               381 non-null    float64\n",
      " 24  worst smoothness         381 non-null    float64\n",
      " 25  worst compactness        381 non-null    float64\n",
      " 26  worst concavity          381 non-null    float64\n",
      " 27  worst concave points     381 non-null    float64\n",
      " 28  worst symmetry           381 non-null    float64\n",
      " 29  worst fractal dimension  381 non-null    float64\n",
      "dtypes: float64(30)\n",
      "memory usage: 92.3 KB\n"
     ]
    }
   ],
   "source": [
    "X_train_breast.info()"
   ]
  },
  {
   "cell_type": "code",
   "execution_count": 18,
   "metadata": {
    "datalore": {
     "hide_input_from_viewers": true,
     "hide_output_from_viewers": true,
     "node_id": "Gp5clG5cEuchaxJdx1tlyV",
     "type": "CODE"
    }
   },
   "outputs": [
    {
     "data": {
      "text/html": [
       "<div>\n",
       "<style scoped>\n",
       "    .dataframe tbody tr th:only-of-type {\n",
       "        vertical-align: middle;\n",
       "    }\n",
       "\n",
       "    .dataframe tbody tr th {\n",
       "        vertical-align: top;\n",
       "    }\n",
       "\n",
       "    .dataframe thead th {\n",
       "        text-align: right;\n",
       "    }\n",
       "</style>\n",
       "<table border=\"1\" class=\"dataframe\">\n",
       "  <thead>\n",
       "    <tr style=\"text-align: right;\">\n",
       "      <th></th>\n",
       "      <th>mean radius</th>\n",
       "      <th>mean texture</th>\n",
       "      <th>mean perimeter</th>\n",
       "      <th>mean area</th>\n",
       "      <th>mean smoothness</th>\n",
       "      <th>mean compactness</th>\n",
       "      <th>mean concavity</th>\n",
       "      <th>mean concave points</th>\n",
       "      <th>mean symmetry</th>\n",
       "      <th>mean fractal dimension</th>\n",
       "      <th>...</th>\n",
       "      <th>worst radius</th>\n",
       "      <th>worst texture</th>\n",
       "      <th>worst perimeter</th>\n",
       "      <th>worst area</th>\n",
       "      <th>worst smoothness</th>\n",
       "      <th>worst compactness</th>\n",
       "      <th>worst concavity</th>\n",
       "      <th>worst concave points</th>\n",
       "      <th>worst symmetry</th>\n",
       "      <th>worst fractal dimension</th>\n",
       "    </tr>\n",
       "  </thead>\n",
       "  <tbody>\n",
       "    <tr>\n",
       "      <th>184</th>\n",
       "      <td>15.28</td>\n",
       "      <td>22.41</td>\n",
       "      <td>98.92</td>\n",
       "      <td>710.6</td>\n",
       "      <td>0.09057</td>\n",
       "      <td>0.10520</td>\n",
       "      <td>0.05375</td>\n",
       "      <td>0.03263</td>\n",
       "      <td>0.1727</td>\n",
       "      <td>0.06317</td>\n",
       "      <td>...</td>\n",
       "      <td>17.80</td>\n",
       "      <td>28.03</td>\n",
       "      <td>113.80</td>\n",
       "      <td>973.1</td>\n",
       "      <td>0.13010</td>\n",
       "      <td>0.32990</td>\n",
       "      <td>0.36300</td>\n",
       "      <td>0.12260</td>\n",
       "      <td>0.3175</td>\n",
       "      <td>0.09772</td>\n",
       "    </tr>\n",
       "    <tr>\n",
       "      <th>142</th>\n",
       "      <td>11.43</td>\n",
       "      <td>17.31</td>\n",
       "      <td>73.66</td>\n",
       "      <td>398.0</td>\n",
       "      <td>0.10920</td>\n",
       "      <td>0.09486</td>\n",
       "      <td>0.02031</td>\n",
       "      <td>0.01861</td>\n",
       "      <td>0.1645</td>\n",
       "      <td>0.06562</td>\n",
       "      <td>...</td>\n",
       "      <td>12.78</td>\n",
       "      <td>26.76</td>\n",
       "      <td>82.66</td>\n",
       "      <td>503.0</td>\n",
       "      <td>0.14130</td>\n",
       "      <td>0.17920</td>\n",
       "      <td>0.07708</td>\n",
       "      <td>0.06402</td>\n",
       "      <td>0.2584</td>\n",
       "      <td>0.08096</td>\n",
       "    </tr>\n",
       "    <tr>\n",
       "      <th>237</th>\n",
       "      <td>20.48</td>\n",
       "      <td>21.46</td>\n",
       "      <td>132.50</td>\n",
       "      <td>1306.0</td>\n",
       "      <td>0.08355</td>\n",
       "      <td>0.08348</td>\n",
       "      <td>0.09042</td>\n",
       "      <td>0.06022</td>\n",
       "      <td>0.1467</td>\n",
       "      <td>0.05177</td>\n",
       "      <td>...</td>\n",
       "      <td>24.22</td>\n",
       "      <td>26.17</td>\n",
       "      <td>161.70</td>\n",
       "      <td>1750.0</td>\n",
       "      <td>0.12280</td>\n",
       "      <td>0.23110</td>\n",
       "      <td>0.31580</td>\n",
       "      <td>0.14450</td>\n",
       "      <td>0.2238</td>\n",
       "      <td>0.07127</td>\n",
       "    </tr>\n",
       "    <tr>\n",
       "      <th>361</th>\n",
       "      <td>13.30</td>\n",
       "      <td>21.57</td>\n",
       "      <td>85.24</td>\n",
       "      <td>546.1</td>\n",
       "      <td>0.08582</td>\n",
       "      <td>0.06373</td>\n",
       "      <td>0.03344</td>\n",
       "      <td>0.02424</td>\n",
       "      <td>0.1815</td>\n",
       "      <td>0.05696</td>\n",
       "      <td>...</td>\n",
       "      <td>14.20</td>\n",
       "      <td>29.20</td>\n",
       "      <td>92.94</td>\n",
       "      <td>621.2</td>\n",
       "      <td>0.11400</td>\n",
       "      <td>0.16670</td>\n",
       "      <td>0.12120</td>\n",
       "      <td>0.05614</td>\n",
       "      <td>0.2637</td>\n",
       "      <td>0.06658</td>\n",
       "    </tr>\n",
       "    <tr>\n",
       "      <th>30</th>\n",
       "      <td>18.63</td>\n",
       "      <td>25.11</td>\n",
       "      <td>124.80</td>\n",
       "      <td>1088.0</td>\n",
       "      <td>0.10640</td>\n",
       "      <td>0.18870</td>\n",
       "      <td>0.23190</td>\n",
       "      <td>0.12440</td>\n",
       "      <td>0.2183</td>\n",
       "      <td>0.06197</td>\n",
       "      <td>...</td>\n",
       "      <td>23.15</td>\n",
       "      <td>34.01</td>\n",
       "      <td>160.50</td>\n",
       "      <td>1670.0</td>\n",
       "      <td>0.14910</td>\n",
       "      <td>0.42570</td>\n",
       "      <td>0.61330</td>\n",
       "      <td>0.18480</td>\n",
       "      <td>0.3444</td>\n",
       "      <td>0.09782</td>\n",
       "    </tr>\n",
       "    <tr>\n",
       "      <th>474</th>\n",
       "      <td>10.88</td>\n",
       "      <td>15.62</td>\n",
       "      <td>70.41</td>\n",
       "      <td>358.9</td>\n",
       "      <td>0.10070</td>\n",
       "      <td>0.10690</td>\n",
       "      <td>0.05115</td>\n",
       "      <td>0.01571</td>\n",
       "      <td>0.1861</td>\n",
       "      <td>0.06837</td>\n",
       "      <td>...</td>\n",
       "      <td>11.94</td>\n",
       "      <td>19.35</td>\n",
       "      <td>80.78</td>\n",
       "      <td>433.1</td>\n",
       "      <td>0.13320</td>\n",
       "      <td>0.38980</td>\n",
       "      <td>0.33650</td>\n",
       "      <td>0.07966</td>\n",
       "      <td>0.2581</td>\n",
       "      <td>0.10800</td>\n",
       "    </tr>\n",
       "    <tr>\n",
       "      <th>148</th>\n",
       "      <td>14.44</td>\n",
       "      <td>15.18</td>\n",
       "      <td>93.97</td>\n",
       "      <td>640.1</td>\n",
       "      <td>0.09970</td>\n",
       "      <td>0.10210</td>\n",
       "      <td>0.08487</td>\n",
       "      <td>0.05532</td>\n",
       "      <td>0.1724</td>\n",
       "      <td>0.06081</td>\n",
       "      <td>...</td>\n",
       "      <td>15.85</td>\n",
       "      <td>19.85</td>\n",
       "      <td>108.60</td>\n",
       "      <td>766.9</td>\n",
       "      <td>0.13160</td>\n",
       "      <td>0.27350</td>\n",
       "      <td>0.31030</td>\n",
       "      <td>0.15990</td>\n",
       "      <td>0.2691</td>\n",
       "      <td>0.07683</td>\n",
       "    </tr>\n",
       "    <tr>\n",
       "      <th>120</th>\n",
       "      <td>11.41</td>\n",
       "      <td>10.82</td>\n",
       "      <td>73.34</td>\n",
       "      <td>403.3</td>\n",
       "      <td>0.09373</td>\n",
       "      <td>0.06685</td>\n",
       "      <td>0.03512</td>\n",
       "      <td>0.02623</td>\n",
       "      <td>0.1667</td>\n",
       "      <td>0.06113</td>\n",
       "      <td>...</td>\n",
       "      <td>12.82</td>\n",
       "      <td>15.97</td>\n",
       "      <td>83.74</td>\n",
       "      <td>510.5</td>\n",
       "      <td>0.15480</td>\n",
       "      <td>0.23900</td>\n",
       "      <td>0.21020</td>\n",
       "      <td>0.08958</td>\n",
       "      <td>0.3016</td>\n",
       "      <td>0.08523</td>\n",
       "    </tr>\n",
       "    <tr>\n",
       "      <th>191</th>\n",
       "      <td>12.77</td>\n",
       "      <td>21.41</td>\n",
       "      <td>82.02</td>\n",
       "      <td>507.4</td>\n",
       "      <td>0.08749</td>\n",
       "      <td>0.06601</td>\n",
       "      <td>0.03112</td>\n",
       "      <td>0.02864</td>\n",
       "      <td>0.1694</td>\n",
       "      <td>0.06287</td>\n",
       "      <td>...</td>\n",
       "      <td>13.75</td>\n",
       "      <td>23.50</td>\n",
       "      <td>89.04</td>\n",
       "      <td>579.5</td>\n",
       "      <td>0.09388</td>\n",
       "      <td>0.08978</td>\n",
       "      <td>0.05186</td>\n",
       "      <td>0.04773</td>\n",
       "      <td>0.2179</td>\n",
       "      <td>0.06871</td>\n",
       "    </tr>\n",
       "    <tr>\n",
       "      <th>217</th>\n",
       "      <td>10.20</td>\n",
       "      <td>17.48</td>\n",
       "      <td>65.05</td>\n",
       "      <td>321.2</td>\n",
       "      <td>0.08054</td>\n",
       "      <td>0.05907</td>\n",
       "      <td>0.05774</td>\n",
       "      <td>0.01071</td>\n",
       "      <td>0.1964</td>\n",
       "      <td>0.06315</td>\n",
       "      <td>...</td>\n",
       "      <td>11.48</td>\n",
       "      <td>24.47</td>\n",
       "      <td>75.40</td>\n",
       "      <td>403.7</td>\n",
       "      <td>0.09527</td>\n",
       "      <td>0.13970</td>\n",
       "      <td>0.19250</td>\n",
       "      <td>0.03571</td>\n",
       "      <td>0.2868</td>\n",
       "      <td>0.07809</td>\n",
       "    </tr>\n",
       "  </tbody>\n",
       "</table>\n",
       "<p>10 rows × 30 columns</p>\n",
       "</div>"
      ],
      "text/plain": [
       "     mean radius  mean texture  mean perimeter  mean area  mean smoothness  \\\n",
       "184        15.28         22.41           98.92      710.6          0.09057   \n",
       "142        11.43         17.31           73.66      398.0          0.10920   \n",
       "237        20.48         21.46          132.50     1306.0          0.08355   \n",
       "361        13.30         21.57           85.24      546.1          0.08582   \n",
       "30         18.63         25.11          124.80     1088.0          0.10640   \n",
       "474        10.88         15.62           70.41      358.9          0.10070   \n",
       "148        14.44         15.18           93.97      640.1          0.09970   \n",
       "120        11.41         10.82           73.34      403.3          0.09373   \n",
       "191        12.77         21.41           82.02      507.4          0.08749   \n",
       "217        10.20         17.48           65.05      321.2          0.08054   \n",
       "\n",
       "     mean compactness  mean concavity  mean concave points  mean symmetry  \\\n",
       "184           0.10520         0.05375              0.03263         0.1727   \n",
       "142           0.09486         0.02031              0.01861         0.1645   \n",
       "237           0.08348         0.09042              0.06022         0.1467   \n",
       "361           0.06373         0.03344              0.02424         0.1815   \n",
       "30            0.18870         0.23190              0.12440         0.2183   \n",
       "474           0.10690         0.05115              0.01571         0.1861   \n",
       "148           0.10210         0.08487              0.05532         0.1724   \n",
       "120           0.06685         0.03512              0.02623         0.1667   \n",
       "191           0.06601         0.03112              0.02864         0.1694   \n",
       "217           0.05907         0.05774              0.01071         0.1964   \n",
       "\n",
       "     mean fractal dimension  ...  worst radius  worst texture  \\\n",
       "184                 0.06317  ...         17.80          28.03   \n",
       "142                 0.06562  ...         12.78          26.76   \n",
       "237                 0.05177  ...         24.22          26.17   \n",
       "361                 0.05696  ...         14.20          29.20   \n",
       "30                  0.06197  ...         23.15          34.01   \n",
       "474                 0.06837  ...         11.94          19.35   \n",
       "148                 0.06081  ...         15.85          19.85   \n",
       "120                 0.06113  ...         12.82          15.97   \n",
       "191                 0.06287  ...         13.75          23.50   \n",
       "217                 0.06315  ...         11.48          24.47   \n",
       "\n",
       "     worst perimeter  worst area  worst smoothness  worst compactness  \\\n",
       "184           113.80       973.1           0.13010            0.32990   \n",
       "142            82.66       503.0           0.14130            0.17920   \n",
       "237           161.70      1750.0           0.12280            0.23110   \n",
       "361            92.94       621.2           0.11400            0.16670   \n",
       "30            160.50      1670.0           0.14910            0.42570   \n",
       "474            80.78       433.1           0.13320            0.38980   \n",
       "148           108.60       766.9           0.13160            0.27350   \n",
       "120            83.74       510.5           0.15480            0.23900   \n",
       "191            89.04       579.5           0.09388            0.08978   \n",
       "217            75.40       403.7           0.09527            0.13970   \n",
       "\n",
       "     worst concavity  worst concave points  worst symmetry  \\\n",
       "184          0.36300               0.12260          0.3175   \n",
       "142          0.07708               0.06402          0.2584   \n",
       "237          0.31580               0.14450          0.2238   \n",
       "361          0.12120               0.05614          0.2637   \n",
       "30           0.61330               0.18480          0.3444   \n",
       "474          0.33650               0.07966          0.2581   \n",
       "148          0.31030               0.15990          0.2691   \n",
       "120          0.21020               0.08958          0.3016   \n",
       "191          0.05186               0.04773          0.2179   \n",
       "217          0.19250               0.03571          0.2868   \n",
       "\n",
       "     worst fractal dimension  \n",
       "184                  0.09772  \n",
       "142                  0.08096  \n",
       "237                  0.07127  \n",
       "361                  0.06658  \n",
       "30                   0.09782  \n",
       "474                  0.10800  \n",
       "148                  0.07683  \n",
       "120                  0.08523  \n",
       "191                  0.06871  \n",
       "217                  0.07809  \n",
       "\n",
       "[10 rows x 30 columns]"
      ]
     },
     "execution_count": 18,
     "metadata": {},
     "output_type": "execute_result"
    }
   ],
   "source": [
    "X_train_breast.head(n=10)"
   ]
  },
  {
   "cell_type": "code",
   "execution_count": 19,
   "metadata": {
    "datalore": {
     "hide_input_from_viewers": true,
     "hide_output_from_viewers": true,
     "node_id": "rvtLPFkjpFCgUp9njvVbe6",
     "type": "CODE"
    }
   },
   "outputs": [
    {
     "data": {
      "text/plain": [
       "184    0\n",
       "142    1\n",
       "237    0\n",
       "361    1\n",
       "30     0\n",
       "      ..\n",
       "98     1\n",
       "322    1\n",
       "382    1\n",
       "365    0\n",
       "510    1\n",
       "Name: target, Length: 381, dtype: int32"
      ]
     },
     "execution_count": 19,
     "metadata": {},
     "output_type": "execute_result"
    }
   ],
   "source": [
    "y_train_breast"
   ]
  },
  {
   "cell_type": "code",
   "execution_count": 20,
   "metadata": {
    "datalore": {
     "hide_input_from_viewers": true,
     "hide_output_from_viewers": true,
     "node_id": "pzK3MhLGdh5Lsu3B4vM0nU",
     "type": "CODE"
    }
   },
   "outputs": [
    {
     "data": {
      "text/html": [
       "<div>\n",
       "<style scoped>\n",
       "    .dataframe tbody tr th:only-of-type {\n",
       "        vertical-align: middle;\n",
       "    }\n",
       "\n",
       "    .dataframe tbody tr th {\n",
       "        vertical-align: top;\n",
       "    }\n",
       "\n",
       "    .dataframe thead th {\n",
       "        text-align: right;\n",
       "    }\n",
       "</style>\n",
       "<table border=\"1\" class=\"dataframe\">\n",
       "  <thead>\n",
       "    <tr style=\"text-align: right;\">\n",
       "      <th></th>\n",
       "      <th>mean radius</th>\n",
       "      <th>mean texture</th>\n",
       "      <th>mean perimeter</th>\n",
       "      <th>mean area</th>\n",
       "      <th>mean smoothness</th>\n",
       "      <th>mean compactness</th>\n",
       "      <th>mean concavity</th>\n",
       "      <th>mean concave points</th>\n",
       "      <th>mean symmetry</th>\n",
       "      <th>mean fractal dimension</th>\n",
       "      <th>...</th>\n",
       "      <th>worst radius</th>\n",
       "      <th>worst texture</th>\n",
       "      <th>worst perimeter</th>\n",
       "      <th>worst area</th>\n",
       "      <th>worst smoothness</th>\n",
       "      <th>worst compactness</th>\n",
       "      <th>worst concavity</th>\n",
       "      <th>worst concave points</th>\n",
       "      <th>worst symmetry</th>\n",
       "      <th>worst fractal dimension</th>\n",
       "    </tr>\n",
       "  </thead>\n",
       "  <tbody>\n",
       "    <tr>\n",
       "      <th>count</th>\n",
       "      <td>381.000000</td>\n",
       "      <td>381.000000</td>\n",
       "      <td>381.000000</td>\n",
       "      <td>381.000000</td>\n",
       "      <td>381.000000</td>\n",
       "      <td>381.000000</td>\n",
       "      <td>381.000000</td>\n",
       "      <td>381.000000</td>\n",
       "      <td>381.000000</td>\n",
       "      <td>381.000000</td>\n",
       "      <td>...</td>\n",
       "      <td>381.000000</td>\n",
       "      <td>381.00000</td>\n",
       "      <td>381.000000</td>\n",
       "      <td>381.000000</td>\n",
       "      <td>381.000000</td>\n",
       "      <td>381.000000</td>\n",
       "      <td>381.000000</td>\n",
       "      <td>381.000000</td>\n",
       "      <td>381.000000</td>\n",
       "      <td>381.000000</td>\n",
       "    </tr>\n",
       "    <tr>\n",
       "      <th>mean</th>\n",
       "      <td>14.105399</td>\n",
       "      <td>19.421680</td>\n",
       "      <td>91.805643</td>\n",
       "      <td>651.738845</td>\n",
       "      <td>0.095946</td>\n",
       "      <td>0.103926</td>\n",
       "      <td>0.088372</td>\n",
       "      <td>0.048608</td>\n",
       "      <td>0.180774</td>\n",
       "      <td>0.062802</td>\n",
       "      <td>...</td>\n",
       "      <td>16.178268</td>\n",
       "      <td>25.65916</td>\n",
       "      <td>106.658819</td>\n",
       "      <td>868.461155</td>\n",
       "      <td>0.130507</td>\n",
       "      <td>0.247398</td>\n",
       "      <td>0.265850</td>\n",
       "      <td>0.113193</td>\n",
       "      <td>0.286329</td>\n",
       "      <td>0.083099</td>\n",
       "    </tr>\n",
       "    <tr>\n",
       "      <th>std</th>\n",
       "      <td>3.466119</td>\n",
       "      <td>4.470236</td>\n",
       "      <td>23.839378</td>\n",
       "      <td>341.324729</td>\n",
       "      <td>0.013811</td>\n",
       "      <td>0.052170</td>\n",
       "      <td>0.079589</td>\n",
       "      <td>0.037960</td>\n",
       "      <td>0.028648</td>\n",
       "      <td>0.007435</td>\n",
       "      <td>...</td>\n",
       "      <td>4.733025</td>\n",
       "      <td>6.22966</td>\n",
       "      <td>32.815385</td>\n",
       "      <td>555.419856</td>\n",
       "      <td>0.021851</td>\n",
       "      <td>0.146370</td>\n",
       "      <td>0.204311</td>\n",
       "      <td>0.063814</td>\n",
       "      <td>0.061804</td>\n",
       "      <td>0.017046</td>\n",
       "    </tr>\n",
       "    <tr>\n",
       "      <th>min</th>\n",
       "      <td>7.691000</td>\n",
       "      <td>10.720000</td>\n",
       "      <td>47.920000</td>\n",
       "      <td>170.400000</td>\n",
       "      <td>0.052630</td>\n",
       "      <td>0.026500</td>\n",
       "      <td>0.000000</td>\n",
       "      <td>0.000000</td>\n",
       "      <td>0.106000</td>\n",
       "      <td>0.049960</td>\n",
       "      <td>...</td>\n",
       "      <td>8.678000</td>\n",
       "      <td>12.49000</td>\n",
       "      <td>54.490000</td>\n",
       "      <td>223.600000</td>\n",
       "      <td>0.084090</td>\n",
       "      <td>0.043270</td>\n",
       "      <td>0.000000</td>\n",
       "      <td>0.000000</td>\n",
       "      <td>0.156500</td>\n",
       "      <td>0.055040</td>\n",
       "    </tr>\n",
       "    <tr>\n",
       "      <th>25%</th>\n",
       "      <td>11.610000</td>\n",
       "      <td>16.210000</td>\n",
       "      <td>74.340000</td>\n",
       "      <td>412.600000</td>\n",
       "      <td>0.085880</td>\n",
       "      <td>0.066300</td>\n",
       "      <td>0.029950</td>\n",
       "      <td>0.020700</td>\n",
       "      <td>0.160100</td>\n",
       "      <td>0.057540</td>\n",
       "      <td>...</td>\n",
       "      <td>12.970000</td>\n",
       "      <td>21.10000</td>\n",
       "      <td>83.740000</td>\n",
       "      <td>510.500000</td>\n",
       "      <td>0.114400</td>\n",
       "      <td>0.146000</td>\n",
       "      <td>0.114400</td>\n",
       "      <td>0.064020</td>\n",
       "      <td>0.247100</td>\n",
       "      <td>0.070610</td>\n",
       "    </tr>\n",
       "    <tr>\n",
       "      <th>50%</th>\n",
       "      <td>13.480000</td>\n",
       "      <td>18.900000</td>\n",
       "      <td>87.190000</td>\n",
       "      <td>561.000000</td>\n",
       "      <td>0.095780</td>\n",
       "      <td>0.092180</td>\n",
       "      <td>0.061810</td>\n",
       "      <td>0.033260</td>\n",
       "      <td>0.178100</td>\n",
       "      <td>0.061400</td>\n",
       "      <td>...</td>\n",
       "      <td>15.010000</td>\n",
       "      <td>25.41000</td>\n",
       "      <td>97.960000</td>\n",
       "      <td>694.400000</td>\n",
       "      <td>0.129800</td>\n",
       "      <td>0.207000</td>\n",
       "      <td>0.224700</td>\n",
       "      <td>0.097440</td>\n",
       "      <td>0.278000</td>\n",
       "      <td>0.079440</td>\n",
       "    </tr>\n",
       "    <tr>\n",
       "      <th>75%</th>\n",
       "      <td>15.750000</td>\n",
       "      <td>21.840000</td>\n",
       "      <td>104.300000</td>\n",
       "      <td>788.500000</td>\n",
       "      <td>0.104600</td>\n",
       "      <td>0.129400</td>\n",
       "      <td>0.120400</td>\n",
       "      <td>0.070640</td>\n",
       "      <td>0.195300</td>\n",
       "      <td>0.066230</td>\n",
       "      <td>...</td>\n",
       "      <td>18.510000</td>\n",
       "      <td>29.43000</td>\n",
       "      <td>123.800000</td>\n",
       "      <td>1035.000000</td>\n",
       "      <td>0.143100</td>\n",
       "      <td>0.321400</td>\n",
       "      <td>0.377900</td>\n",
       "      <td>0.159900</td>\n",
       "      <td>0.310500</td>\n",
       "      <td>0.091580</td>\n",
       "    </tr>\n",
       "    <tr>\n",
       "      <th>max</th>\n",
       "      <td>27.420000</td>\n",
       "      <td>39.280000</td>\n",
       "      <td>186.900000</td>\n",
       "      <td>2501.000000</td>\n",
       "      <td>0.163400</td>\n",
       "      <td>0.345400</td>\n",
       "      <td>0.426800</td>\n",
       "      <td>0.201200</td>\n",
       "      <td>0.304000</td>\n",
       "      <td>0.097440</td>\n",
       "      <td>...</td>\n",
       "      <td>36.040000</td>\n",
       "      <td>49.54000</td>\n",
       "      <td>251.200000</td>\n",
       "      <td>4254.000000</td>\n",
       "      <td>0.218400</td>\n",
       "      <td>0.937900</td>\n",
       "      <td>1.252000</td>\n",
       "      <td>0.291000</td>\n",
       "      <td>0.663800</td>\n",
       "      <td>0.173000</td>\n",
       "    </tr>\n",
       "  </tbody>\n",
       "</table>\n",
       "<p>8 rows × 30 columns</p>\n",
       "</div>"
      ],
      "text/plain": [
       "       mean radius  mean texture  mean perimeter    mean area  \\\n",
       "count   381.000000    381.000000      381.000000   381.000000   \n",
       "mean     14.105399     19.421680       91.805643   651.738845   \n",
       "std       3.466119      4.470236       23.839378   341.324729   \n",
       "min       7.691000     10.720000       47.920000   170.400000   \n",
       "25%      11.610000     16.210000       74.340000   412.600000   \n",
       "50%      13.480000     18.900000       87.190000   561.000000   \n",
       "75%      15.750000     21.840000      104.300000   788.500000   \n",
       "max      27.420000     39.280000      186.900000  2501.000000   \n",
       "\n",
       "       mean smoothness  mean compactness  mean concavity  mean concave points  \\\n",
       "count       381.000000        381.000000      381.000000           381.000000   \n",
       "mean          0.095946          0.103926        0.088372             0.048608   \n",
       "std           0.013811          0.052170        0.079589             0.037960   \n",
       "min           0.052630          0.026500        0.000000             0.000000   \n",
       "25%           0.085880          0.066300        0.029950             0.020700   \n",
       "50%           0.095780          0.092180        0.061810             0.033260   \n",
       "75%           0.104600          0.129400        0.120400             0.070640   \n",
       "max           0.163400          0.345400        0.426800             0.201200   \n",
       "\n",
       "       mean symmetry  mean fractal dimension  ...  worst radius  \\\n",
       "count     381.000000              381.000000  ...    381.000000   \n",
       "mean        0.180774                0.062802  ...     16.178268   \n",
       "std         0.028648                0.007435  ...      4.733025   \n",
       "min         0.106000                0.049960  ...      8.678000   \n",
       "25%         0.160100                0.057540  ...     12.970000   \n",
       "50%         0.178100                0.061400  ...     15.010000   \n",
       "75%         0.195300                0.066230  ...     18.510000   \n",
       "max         0.304000                0.097440  ...     36.040000   \n",
       "\n",
       "       worst texture  worst perimeter   worst area  worst smoothness  \\\n",
       "count      381.00000       381.000000   381.000000        381.000000   \n",
       "mean        25.65916       106.658819   868.461155          0.130507   \n",
       "std          6.22966        32.815385   555.419856          0.021851   \n",
       "min         12.49000        54.490000   223.600000          0.084090   \n",
       "25%         21.10000        83.740000   510.500000          0.114400   \n",
       "50%         25.41000        97.960000   694.400000          0.129800   \n",
       "75%         29.43000       123.800000  1035.000000          0.143100   \n",
       "max         49.54000       251.200000  4254.000000          0.218400   \n",
       "\n",
       "       worst compactness  worst concavity  worst concave points  \\\n",
       "count         381.000000       381.000000            381.000000   \n",
       "mean            0.247398         0.265850              0.113193   \n",
       "std             0.146370         0.204311              0.063814   \n",
       "min             0.043270         0.000000              0.000000   \n",
       "25%             0.146000         0.114400              0.064020   \n",
       "50%             0.207000         0.224700              0.097440   \n",
       "75%             0.321400         0.377900              0.159900   \n",
       "max             0.937900         1.252000              0.291000   \n",
       "\n",
       "       worst symmetry  worst fractal dimension  \n",
       "count      381.000000               381.000000  \n",
       "mean         0.286329                 0.083099  \n",
       "std          0.061804                 0.017046  \n",
       "min          0.156500                 0.055040  \n",
       "25%          0.247100                 0.070610  \n",
       "50%          0.278000                 0.079440  \n",
       "75%          0.310500                 0.091580  \n",
       "max          0.663800                 0.173000  \n",
       "\n",
       "[8 rows x 30 columns]"
      ]
     },
     "execution_count": 20,
     "metadata": {},
     "output_type": "execute_result"
    }
   ],
   "source": [
    "X_train_breast.describe()"
   ]
  },
  {
   "attachments": {},
   "cell_type": "markdown",
   "metadata": {
    "datalore": {
     "hide_input_from_viewers": true,
     "hide_output_from_viewers": true,
     "node_id": "39FCMyCnlZS0BanHxonvZN",
     "type": "MD"
    }
   },
   "source": [
    "## Combining datasets"
   ]
  },
  {
   "cell_type": "code",
   "execution_count": 21,
   "metadata": {
    "datalore": {
     "hide_input_from_viewers": true,
     "hide_output_from_viewers": true,
     "node_id": "XUAOtiJRUiWstinkXvbUdp",
     "type": "CODE"
    }
   },
   "outputs": [],
   "source": [
    "datasets = {\n",
    "    'iris': {\n",
    "        'X_train': X_train_iris,\n",
    "        'y_train': y_train_iris,\n",
    "        'X_test': X_test_iris,\n",
    "        'y_test': y_test_iris,\n",
    "    },\n",
    "    'diabetes': {\n",
    "        'X_train': X_train_diabetes,\n",
    "        'y_train': y_train_diabetes,\n",
    "        'X_test': X_test_diabetes,\n",
    "        'y_test': y_test_diabetes,\n",
    "    },\n",
    "    'wine': {\n",
    "        'X_train': X_train_wine,\n",
    "        'y_train': y_train_wine,\n",
    "        'X_test': X_test_wine,\n",
    "        'y_test': y_test_wine,\n",
    "    },\n",
    "    'breast': {\n",
    "        'X_train': X_train_breast,\n",
    "        'y_train': y_train_breast,\n",
    "        'X_test': X_test_breast,\n",
    "        'y_test': y_test_breast,\n",
    "    },\n",
    "}"
   ]
  },
  {
   "attachments": {},
   "cell_type": "markdown",
   "metadata": {
    "datalore": {
     "hide_input_from_viewers": true,
     "hide_output_from_viewers": true,
     "node_id": "dA2C748TsYVIRFCOlcryL7",
     "type": "MD"
    }
   },
   "source": [
    "# Parameter search spaces"
   ]
  },
  {
   "attachments": {},
   "cell_type": "markdown",
   "metadata": {
    "datalore": {
     "hide_input_from_viewers": true,
     "hide_output_from_viewers": true,
     "node_id": "DZSdSoHn75OUNnG2soeKzu",
     "type": "MD"
    }
   },
   "source": [
    "| Algorytm         | Hiperparametr     | Typ        | Dolna Granica | Górna Granica |\n",
    "|------------------|-------------------|------------|---------------|---------------|\n",
    "| kknn             | k                 | integer    | 1             | 30            |\n",
    "| XGBoost          | n_estimators      | integer    | 1             | 5000          |\n",
    "| XGBoost          | eta               | float      | $2^{-10}$     | 1             |\n",
    "| XGBoost          | subsample         | float      | 0.1           | 1             |\n",
    "| XGBoost          | booster           | string     | -             | -             |\n",
    "| XGBoost          | max_depth         | integer    | 1             | 16            |\n",
    "| XGBoost          | min_child_weight  | float      | 1             | $2^7          |\n",
    "| XGBoost          | colsample_bytree  | float      | 0             | 1             |\n",
    "| XGBoost          | alpha             | float      | $2^{-10}$     | $2^{10}$      |\n",
    "| RandomForest     | n_estimators      | integer    | 1             | 2000          |\n",
    "| RandomForest     | max_depth         | integer    | 3             | p             |\n",
    "| RandomForest     | max_samples       | float      | 0.1           | 1             |\n",
    "| RandomForest     | max_features      | float      | 0             | 1             |\n",
    "| RandomForest     | min_samples_leaf  | float      | 0.1           | 0.5           |"
   ]
  },
  {
   "cell_type": "code",
   "execution_count": 22,
   "metadata": {
    "datalore": {
     "hide_input_from_viewers": true,
     "hide_output_from_viewers": true,
     "node_id": "RbRvlNA8IXEN21qS0MpWuR",
     "type": "CODE"
    }
   },
   "outputs": [],
   "source": [
    "hyperparameters_random = {\n",
    "    \"XGboost\": {\n",
    "        \"n_estimators\": np.arange(1, 5001),\n",
    "        \"eta\": uniform(loc=2e-10, scale=1.0),\n",
    "        \"subsample\": uniform(loc=0.1, scale=0.8999),\n",
    "        \"booster\": [\"gbtree\"],\n",
    "        \"max_depth\": np.arange(1, 16),\n",
    "        \"min_child_weight\": uniform(loc=1, scale=2^7),\n",
    "        \"colsample_bytree\": uniform(loc=0, scale=1),\n",
    "        \"alpha\": uniform(loc=2e-10, scale=2e10),\n",
    "    },\n",
    "    \"Random Forest\": {\n",
    "        \"n_estimators\": [int(x) for x in np.linspace(start=1, stop=2000, num=1000)],\n",
    "        \"max_depth\": np.arange(3, len(X_train_iris.columns), 1),\n",
    "        \"max_features\": np.linspace(start=0.1, stop=1., num=20),\n",
    "        \"max_samples\": np.linspace(start=0.1, stop=1., num=20),\n",
    "        \"min_samples_leaf\": np.linspace(start=0.1, stop=0.5, num=20),\n",
    "    },\n",
    "    \"KNN\": {\n",
    "        \"n_neighbors\": np.arange(1, 31)\n",
    "    },\n",
    "}"
   ]
  },
  {
   "cell_type": "code",
   "execution_count": 23,
   "metadata": {
    "datalore": {
     "hide_input_from_viewers": true,
     "hide_output_from_viewers": true,
     "node_id": "OheIXBcm2DWwrv1V80xWiy",
     "type": "CODE"
    }
   },
   "outputs": [],
   "source": [
    "hyperparameters_bayes = {\n",
    "    \"XGboost\": {\n",
    "        \"n_estimators\": Integer(1, 5000),\n",
    "        \"eta\": Real(2e-10, 1.0),\n",
    "        \"subsample\": Real(0.1, 1.0),\n",
    "        \"booster\": [\"gbtree\"],\n",
    "        \"max_depth\": Integer(1, 15),\n",
    "        \"min_child_weight\": Real(1, 2^7),\n",
    "        \"colsample_bytree\": Real(0., 1.),\n",
    "        \"alpha\": Real(2e-10, 2e10),\n",
    "    },\n",
    "    \"Random Forest\": {\n",
    "        \"n_estimators\": Integer(1, 2000),\n",
    "        \"max_depth\": Integer(3, len(X_train_iris.columns)),\n",
    "        \"max_features\": Real(1e-6, 1),\n",
    "        \"max_samples\": Real(1e-6, 1),\n",
    "        \"min_samples_leaf\": Real(0.1, 0.5),\n",
    "    },\n",
    "    \"KNN\": {\n",
    "        \"n_neighbors\": Integer(1, 30),\n",
    "    },\n",
    "}"
   ]
  },
  {
   "attachments": {},
   "cell_type": "markdown",
   "metadata": {
    "datalore": {
     "hide_input_from_viewers": true,
     "hide_output_from_viewers": true,
     "node_id": "SxMUfWlPzEWjnOrMLPgbQE",
     "type": "MD"
    }
   },
   "source": [
    "# Utility functions"
   ]
  },
  {
   "attachments": {},
   "cell_type": "markdown",
   "metadata": {
    "datalore": {
     "hide_input_from_viewers": true,
     "hide_output_from_viewers": true,
     "node_id": "erJXHaYytMMS6ucJKlEGDS",
     "type": "MD"
    }
   },
   "source": [
    "## Hyperparameter optimisation"
   ]
  },
  {
   "cell_type": "code",
   "execution_count": 24,
   "metadata": {
    "datalore": {
     "hide_input_from_viewers": true,
     "hide_output_from_viewers": true,
     "node_id": "BFzoKuK0v3am0JEP1JThJ6",
     "type": "CODE"
    }
   },
   "outputs": [],
   "source": [
    "def random_search_tuning(model, params: dict,\n",
    "                         X_train: pd.DataFrame, y_train: pd.Series,\n",
    "                         scoring: str = None, n_iter: int = 100, \n",
    "                         random_state: int = None) -> Tuple[list, list, list,dict, Any]:\n",
    "    \"\"\"\n",
    "    Args:\n",
    "        model (BaseEstimator): The model whose hyperparameters are to be optimized.\n",
    "        params: A dictionary containing the hyperparameters to be tuned with \n",
    "            corresponding value ranges or lists.\n",
    "        X_train: The input features for training the model.\n",
    "        y_train: The target values for training the model.\n",
    "        scoring: The scoring metric used for evaluation during grid search.\n",
    "        n_iter: The number of random combinations of hyperparameters to try.\n",
    "        random_state: Seed for random number generation, ensuring reproducibility.\n",
    "    \n",
    "    Returns:\n",
    "        A tuple containing the following:\n",
    "        - A list of different checked hyperparameter combinations.\n",
    "        - Test scores corresponding to each hyperparameter combination.\n",
    "        - Train scores corresponding to each hyperparameter combination.\n",
    "        - A dictionary of the best hyperparameters found during the search.\n",
    "        - The best estimator with the tuned hyperparameters.\n",
    "    \"\"\"\n",
    "    random_search = RandomizedSearchCV(\n",
    "        estimator=model,\n",
    "        param_distributions= params,\n",
    "        n_iter=n_iter, \n",
    "        scoring=scoring,\n",
    "        random_state=random_state,\n",
    "        cv=5, \n",
    "        n_jobs=-1, \n",
    "        return_train_score=True\n",
    "    )\n",
    "    random_search.fit(X_train, y_train)\n",
    "    return (random_search.cv_results_['params'], random_search.cv_results_['mean_test_score'],\n",
    "            random_search.cv_results_['mean_train_score'], random_search.best_params_, \n",
    "            random_search.best_estimator_)"
   ]
  },
  {
   "cell_type": "code",
   "execution_count": 25,
   "metadata": {
    "datalore": {
     "hide_input_from_viewers": true,
     "hide_output_from_viewers": true,
     "node_id": "u4RdPN0yZqudkm6qIeJhzu",
     "type": "CODE"
    }
   },
   "outputs": [],
   "source": [
    "def bayes_search_tuning(model, params: dict,\n",
    "                        X_train: pd.DataFrame, y_train: pd.Series,\n",
    "                        scoring: str = None, n_iter: int = 100, \n",
    "                        random_state: int = None) -> Tuple[list, list, list, dict, Any]:\n",
    "    \"\"\"\n",
    "    Args:\n",
    "        model (BaseEstimator): The model whose hyperparameters are to be optimized.\n",
    "        params: A dictionary containing the hyperparameters to be tuned with \n",
    "            corresponding value ranges or lists.\n",
    "        X_train: The input features for training the model.\n",
    "        y_train: The target values for training the model.\n",
    "        scoring: The scoring metric used for evaluation during grid search.\n",
    "        n_iter: The number of random combinations of hyperparameters to try.\n",
    "        random_state: Seed for random number generation, ensuring reproducibility.\n",
    "\n",
    "    Returns:\n",
    "        A tuple containing the following:\n",
    "        - A list of different checked hyperparameter combinations.\n",
    "        - Test scores corresponding to each hyperparameter combination.\n",
    "        - Train scores corresponding to each hyperparameter combination.\n",
    "        - A dictionary of the best hyperparameters found during the search.\n",
    "        - The best estimator with the tuned hyperparameters.\n",
    "    \"\"\"\n",
    "    bayes_search = BayesSearchCV(\n",
    "        estimator=model,\n",
    "        search_spaces=params,\n",
    "        n_iter=n_iter, \n",
    "        scoring=scoring,\n",
    "        random_state=random_state,\n",
    "        cv=5, \n",
    "        n_jobs=-1, \n",
    "        return_train_score=True,\n",
    "    )\n",
    "    bayes_search.fit(X_train, y_train)\n",
    "    return (bayes_search.cv_results_['params'], bayes_search.cv_results_['mean_test_score'],\n",
    "            bayes_search.cv_results_['mean_train_score'], bayes_search.best_params_, \n",
    "            bayes_search.best_estimator_)"
   ]
  },
  {
   "attachments": {},
   "cell_type": "markdown",
   "metadata": {
    "datalore": {
     "hide_input_from_viewers": true,
     "hide_output_from_viewers": true,
     "node_id": "VP0CIl5C2b7SayzNaC5MBT",
     "type": "MD"
    }
   },
   "source": [
    "## Tunability (general)"
   ]
  },
  {
   "cell_type": "code",
   "execution_count": 26,
   "metadata": {
    "datalore": {
     "hide_input_from_viewers": true,
     "hide_output_from_viewers": true,
     "node_id": "zNtNCjXEb96JVlcsDyGEnY",
     "type": "CODE"
    }
   },
   "outputs": [],
   "source": [
    "def _train_model_with_params(theta: dict, X_train, y_train, X_test, y_test, model_class):\n",
    "    \"\"\"R_(j)(theta)\"\"\"\n",
    "    model = model_class(**theta)\n",
    "    model.fit(X_train, y_train)\n",
    "    y_pred = model.predict(X_test)\n",
    "    score = accuracy_score(y_test, y_pred)\n",
    "    return score"
   ]
  },
  {
   "cell_type": "code",
   "execution_count": 27,
   "metadata": {
    "datalore": {
     "hide_input_from_viewers": true,
     "hide_output_from_viewers": true,
     "node_id": "yfAqw3kz0wqDvLCANlZ629",
     "type": "CODE"
    }
   },
   "outputs": [],
   "source": [
    "def find_optimal_default_conf(params_hist: List[dict], datasets_: Dict[str, dict], model_class):\n",
    "    \"\"\"\n",
    "    mean(R_(1)(theta*), ..., R_(m)(theta*))\n",
    "    theta*\n",
    "    \"\"\"\n",
    "    all_scores = np.array([])\n",
    "    for params in params_hist:\n",
    "        scores_param = np.array([])\n",
    "        for dataset in datasets_.values():\n",
    "            X_train = dataset['X_train']\n",
    "            X_test = dataset['X_test']\n",
    "            y_train = dataset['y_train']\n",
    "            y_test = dataset['y_test']\n",
    "            score = _train_model_with_params(params, X_train, y_train, X_test, y_test, model_class)\n",
    "            scores_param = np.append(scores_param, score)\n",
    "        mean_scores_param = np.mean(scores_param)\n",
    "        all_scores = np.append(all_scores, mean_scores_param)\n",
    "    \n",
    "    best_risk_idx = np.argmax(all_scores)\n",
    "    theta_star = params_hist[best_risk_idx]\n",
    "    best_risk = all_scores[best_risk_idx] \n",
    "    return best_risk, theta_star"
   ]
  },
  {
   "cell_type": "code",
   "execution_count": 28,
   "metadata": {
    "datalore": {
     "hide_input_from_viewers": true,
     "hide_output_from_viewers": true,
     "node_id": "PqgmSTXZxu5RfNYDd4Kvmt",
     "type": "CODE"
    }
   },
   "outputs": [],
   "source": [
    "def measure_tunability_algorithm(theta_star: dict, thetas_star_per_df: dict,\n",
    "                                 datasets_: Dict[str, dict], model_class):\n",
    "    \"\"\"\n",
    "    d_(1), ..., d_(m)\n",
    "    \"\"\"\n",
    "    d = np.array([])    \n",
    "    for name, dataset_ in datasets_.items():\n",
    "        X_train = dataset_['X_train']\n",
    "        X_test = dataset_['X_test']\n",
    "        y_train = dataset_['y_train']\n",
    "        y_test = dataset_['y_test']\n",
    "        score_global = _train_model_with_params(\n",
    "            theta_star, \n",
    "            X_train, y_train, \n",
    "            X_test, y_test, \n",
    "            model_class,\n",
    "        )\n",
    "        score_local = _train_model_with_params(\n",
    "            thetas_star_per_df[name], \n",
    "            X_train, y_train, \n",
    "            X_test, y_test, \n",
    "            model_class,\n",
    "        )\n",
    "        d_j = score_local - score_global\n",
    "        d = np.append(d, d_j)\n",
    "    return d"
   ]
  },
  {
   "attachments": {},
   "cell_type": "markdown",
   "metadata": {
    "datalore": {
     "hide_input_from_viewers": true,
     "hide_output_from_viewers": true,
     "node_id": "LVcOqFE9D9GFfzDskn3wEO",
     "type": "MD"
    }
   },
   "source": [
    "## Tunability (per hyperparameter)"
   ]
  },
  {
   "cell_type": "code",
   "execution_count": 29,
   "metadata": {
    "datalore": {
     "hide_input_from_viewers": true,
     "hide_output_from_viewers": true,
     "node_id": "pciXGxdHSjdbyDuMBe9EzJ",
     "type": "CODE"
    }
   },
   "outputs": [],
   "source": [
    "def find_optimal_default_conf_param(params_hist: List[dict], param_i_name: str, theta_star: dict,\n",
    "                                    datasets_: Dict[str, dict], model_class) -> List[dict]:\n",
    "    \"\"\"\n",
    "    param_i_name = name of the param to optimise (of theta_i)\n",
    "\n",
    "    Returns:\n",
    "        theta_i_(1)_star, ..., theta_i_(m)_star\n",
    "    \"\"\"\n",
    "    # auc scores per dataset\n",
    "    scores_all_per_df = {key: np.array([]) for key in datasets_.keys()}\n",
    "    # all unique values of param_i\n",
    "    # this is to remove duplicates to reduce the training times\n",
    "    param_i_all_vals = list(set(p[param_i_name] for p in params_hist))\n",
    "    for param_i_val in param_i_all_vals:\n",
    "        # copy theta star\n",
    "        params = dict(theta_star)\n",
    "        # substitute param_i with original value from params\n",
    "        params[param_i_name] = param_i_val\n",
    "\n",
    "        for name, dataset in datasets_.items():\n",
    "            X_train = dataset['X_train']\n",
    "            X_test = dataset['X_test']\n",
    "            y_train = dataset['y_train']\n",
    "            y_test = dataset['y_test']\n",
    "            score = _train_model_with_params(\n",
    "                params, \n",
    "                X_train, y_train, \n",
    "                X_test, y_test, \n",
    "                model_class\n",
    "            )\n",
    "            scores_all_per_df[name] = np.append(scores_all_per_df[name], score)\n",
    "\n",
    "    thetas_i_star_per_df = [dict(theta_star) for _ in datasets_]\n",
    "    param_i_star_per_df = [param_i_all_vals[np.argmax(scores_all_per_df[df_name])]\n",
    "                           for df_name in datasets_.keys()]\n",
    "    for idx, theta_i_j in enumerate(thetas_i_star_per_df):\n",
    "        theta_i_j[param_i_name] = param_i_star_per_df[idx]\n",
    "    return thetas_i_star_per_df"
   ]
  },
  {
   "cell_type": "code",
   "execution_count": 30,
   "metadata": {
    "datalore": {
     "hide_input_from_viewers": true,
     "hide_output_from_viewers": true,
     "node_id": "XdwFdMS9jKVWqTT7yOGsSE",
     "type": "CODE"
    }
   },
   "outputs": [],
   "source": [
    "def measure_param_tunability(thetas_i_star_per_df: List[dict], theta_star: dict,\n",
    "                             datasets_: Dict[str, dict], model_class) -> npt.NDArray[float]:\n",
    "    \"\"\"\n",
    "    d_i_(1), ..., d_i_(m)\n",
    "    \"\"\"\n",
    "    d_i = np.array([])\n",
    "    for idx, dataset in enumerate(datasets_.values()):\n",
    "        X_train = dataset['X_train']\n",
    "        X_test = dataset['X_test']\n",
    "        y_train = dataset['y_train']\n",
    "        y_test = dataset['y_test']\n",
    "        score_global = _train_model_with_params(\n",
    "            theta_star, \n",
    "            X_train, y_train, \n",
    "            X_test, y_test, \n",
    "            model_class\n",
    "        )\n",
    "        score_local = _train_model_with_params(\n",
    "            thetas_i_star_per_df[idx], \n",
    "            dataset['X_train'], \n",
    "            dataset['y_train'], \n",
    "            dataset['X_test'], \n",
    "            dataset['y_test'], \n",
    "            model_class\n",
    "        )\n",
    "        d_i_j = score_local - score_global\n",
    "        d_i = np.append(d_i, d_i_j)\n",
    "    return d_i"
   ]
  },
  {
   "attachments": {},
   "cell_type": "markdown",
   "metadata": {
    "datalore": {
     "hide_input_from_viewers": true,
     "hide_output_from_viewers": true,
     "node_id": "NY1GCT5FkanYByDdKKFHfF",
     "type": "MD"
    }
   },
   "source": [
    "## Plots"
   ]
  },
  {
   "cell_type": "code",
   "execution_count": 31,
   "metadata": {
    "datalore": {
     "hide_input_from_viewers": true,
     "hide_output_from_viewers": true,
     "node_id": "HUjaElpR3aBLevgDZjiKoF",
     "type": "CODE"
    }
   },
   "outputs": [],
   "source": [
    "def plot_boxplot_algo_tunability(algo_tunability: Dict[str, npt.NDArray[float]], \n",
    "                                 optimization_type: Literal[\"Bayes\", \"Random\"]) -> None:\n",
    "    \"\"\"\n",
    "    Args:\n",
    "        algo_tunability: Models tunability values\n",
    "        optimization_type: Type of optimization which was done\n",
    "    \"\"\"\n",
    "    df = pd.DataFrame(algo_tunability).melt()\\\n",
    "        .rename(columns={'variable': 'Algorithm', 'value': 'Tunability'})\n",
    "    fig = px.box(df, x='Algorithm', y='Tunability',\n",
    "                 title=f'Tunability of algorithms ({optimization_type})')\n",
    "    fig.show()"
   ]
  },
  {
   "cell_type": "code",
   "execution_count": 32,
   "metadata": {
    "datalore": {
     "hide_input_from_viewers": true,
     "hide_output_from_viewers": true,
     "node_id": "peGGdYH3C7Vrv7TxPnM0Rl",
     "type": "CODE"
    }
   },
   "outputs": [],
   "source": [
    "def plot_boxplots_param_tunability(model_name: str, \n",
    "                                   params_tunability: Dict[str, npt.NDArray[float]],\n",
    "                                   optimization_type: Literal[\"Bayes\", \"Random\"]) -> None:\n",
    "    \"\"\"\n",
    "    Args:\n",
    "        model_name: Model name to be used in a plot title\n",
    "        params_tunability: Model hyperparamters tunability values\n",
    "        optimization_type: Which optimisation was used (Bayes or Random) - this is used for a plot title\n",
    "    \"\"\"\n",
    "    df = pd.DataFrame(params_tunability)\\\n",
    "        .melt()\\\n",
    "        .rename(columns={'variable': 'Hyperparameter', 'value': 'Tunability'})\n",
    "    fig = px.box(df, x='Hyperparameter', y='Tunability',\n",
    "                 title=f'{model_name} hyperparameters tunability ({optimization_type})')\n",
    "    fig.show()"
   ]
  },
  {
   "cell_type": "code",
   "execution_count": 33,
   "metadata": {
    "datalore": {
     "hide_input_from_viewers": true,
     "hide_output_from_viewers": true,
     "node_id": "WKL5HBKGgSAsJBfrxHOnDB",
     "type": "CODE"
    }
   },
   "outputs": [],
   "source": [
    "def plot_history(scores_train: Dict[str, npt.NDArray[float]],\n",
    "                 scores_test: Dict[str, npt.NDArray[float]],\n",
    "                 optimization_name: Literal['Bayesian', 'Random']) -> None:\n",
    "                 \n",
    "    datasets_names = list(scores_train.keys())\n",
    "\n",
    "    fig = make_subplots(rows=2, cols=2, subplot_titles=[f'Dataset: {dataset}' for dataset in datasets_names])\n",
    "\n",
    "    train_color, test_color = 'blue', 'red'  # Set colors for Train Scores and Test Scores\n",
    "    show_legend = True  \n",
    "    for i, dataset in enumerate(datasets_names):\n",
    "        row = i // 2 + 1\n",
    "        col = i % 2 + 1\n",
    "\n",
    "        # Add Train Scores trace\n",
    "        fig.add_trace(go.Scatter(x=list(range(1, len(scores_train[dataset]) + 1)), y=scores_train[dataset], mode='lines', name='Train Scores', showlegend=show_legend, line=dict(color=train_color)), row=row, col=col)\n",
    "\n",
    "        # Add Test Scores trace\n",
    "        fig.add_trace(go.Scatter(x=list(range(1, len(scores_test[dataset]) + 1)), y=scores_test[dataset], mode='lines', name='Test Scores', showlegend=show_legend, line=dict(color=test_color)), row=row, col=col)\n",
    "\n",
    "        show_legend = False\n",
    "\n",
    "    fig.update_layout(title_text=f'Scores for {optimization_name} Optimization')\n",
    "    fig.update_xaxes(title_text='Epoch', row=2, col=1)\n",
    "    fig.update_xaxes(title_text='Epoch', row=2, col=2)\n",
    "    fig.update_yaxes(title_text='Scores', row=1, col=1)\n",
    "    fig.update_yaxes(title_text='Scores', row=2, col=1)\n",
    "    fig.update_yaxes(range = [0, 1])\n",
    "\n",
    "    fig.show()"
   ]
  },
  {
   "cell_type": "code",
   "execution_count": 34,
   "metadata": {
    "datalore": {
     "hide_input_from_viewers": true,
     "hide_output_from_viewers": true,
     "node_id": "wpkqpECIdCqRMDiProDdZN",
     "type": "CODE"
    }
   },
   "outputs": [],
   "source": [
    "def plot_stability(scores_test: Dict[str, npt.NDArray[float]],\n",
    "                   optimization_name: Literal['Bayesian', 'Random'],\n",
    "                   interval: int = 10) -> None:\n",
    "    datasets_names = list(scores_test.keys())\n",
    "    color = 'red'\n",
    "    fig = make_subplots(rows=2, cols=2, subplot_titles=[f'Dataset: {dataset}' for dataset in datasets_names])\n",
    "\n",
    "    for i, dataset in enumerate(datasets_names):\n",
    "        row = i // 2 + 1\n",
    "        col = i % 2 + 1\n",
    "        \n",
    "        max_values = [max(scores_test[dataset][0:j+interval]) for j in range(0, len(scores_test[dataset]), interval)]\n",
    "        fig.add_trace(go.Scatter(x=np.arange(1, len(max_values) + 1)*interval, y=max_values, mode=\"markers+lines\", line=dict(color=color)), row=row, col=col)\n",
    "\n",
    "    fig.update_layout(title_text=f'Stability of {optimization_name} Optimization', showlegend=False)\n",
    "    fig.update_xaxes(title_text='N_iter', row=2, col=1)\n",
    "    fig.update_xaxes(title_text='N_iter', row=2, col=2)\n",
    "    fig.update_yaxes(title_text='Scores', row=1, col=1)\n",
    "    fig.update_yaxes(title_text='Scores', row=2, col=1)\n",
    "    fig.update_yaxes(range = [0, 1])\n",
    "\n",
    "    fig.show()"
   ]
  },
  {
   "attachments": {},
   "cell_type": "markdown",
   "metadata": {
    "datalore": {
     "hide_input_from_viewers": true,
     "hide_output_from_viewers": true,
     "node_id": "IxY8xnTGY2U2xtIwcEALIK",
     "type": "MD"
    }
   },
   "source": [
    "# Searching for optimal parameters"
   ]
  },
  {
   "cell_type": "code",
   "execution_count": 35,
   "metadata": {
    "datalore": {
     "hide_input_from_viewers": true,
     "hide_output_from_viewers": true,
     "node_id": "6md0S5JJIXIVOiLKmpNPQB",
     "type": "CODE"
    }
   },
   "outputs": [],
   "source": [
    "def _get_empty_results_dict() -> Dict[str, Any]:\n",
    "    \"\"\"\n",
    "    results = {\n",
    "        'full_params_history': [...],\n",
    "        'scores_test': {\n",
    "            'iris': [...],\n",
    "            'diabetes': [...],\n",
    "            ...\n",
    "        }\n",
    "        'scores_train': {\n",
    "            'iris': [...],\n",
    "            'diabetes': [...],\n",
    "            ...\n",
    "        },\n",
    "        'best_params': {\n",
    "            'iris': [...],\n",
    "            'diabetes': [...],\n",
    "            ...\n",
    "        },\n",
    "        'best_model': {\n",
    "            'iris': [...],\n",
    "            'diabetes': [...],\n",
    "            ...\n",
    "        },\n",
    "    }\n",
    "    \"\"\"\n",
    "    return {\n",
    "        'full_params_history': [],\n",
    "        'scores_test': {},\n",
    "        'scores_train': {},\n",
    "        'best_params': {},\n",
    "        'best_model': {},\n",
    "    }\n",
    "\n",
    "results_random = {\n",
    "    'KNN': _get_empty_results_dict(),\n",
    "    'XGboost': _get_empty_results_dict(),\n",
    "    'Random Forest': _get_empty_results_dict(),\n",
    "}\n",
    "\n",
    "results_bayes = {\n",
    "    'KNN': _get_empty_results_dict(),\n",
    "    'XGboost': _get_empty_results_dict(),\n",
    "    'Random Forest': _get_empty_results_dict(),\n",
    "}"
   ]
  },
  {
   "cell_type": "code",
   "execution_count": 36,
   "metadata": {
    "datalore": {
     "hide_input_from_viewers": true,
     "hide_output_from_viewers": true,
     "node_id": "BT5YuJpohzRCrNCqM2Y8FK",
     "type": "CODE"
    }
   },
   "outputs": [],
   "source": [
    "def run_random_search(model_name: str, model_class, random_state: Optional[int] = None,\n",
    "                      n_iter: Optional[int] = None, verbose=True):\n",
    "    for dataset_name, dataset in datasets.items():\n",
    "        if verbose:\n",
    "            print(f'Current dataset: {dataset_name}')\n",
    "        params_history, scores_test, train_scores, best_params, best_model = random_search_tuning(\n",
    "            model=model_class(),\n",
    "            params=hyperparameters_random[model_name],\n",
    "            X_train=dataset['X_train'],\n",
    "            y_train=dataset['y_train'],\n",
    "            random_state=random_state,\n",
    "            n_iter=n_iter,\n",
    "        )\n",
    "        results_random[model_name]['full_params_history'].extend(params_history)\n",
    "        results_random[model_name]['scores_test'][dataset_name] = scores_test\n",
    "        results_random[model_name]['scores_train'][dataset_name] = train_scores\n",
    "        results_random[model_name]['best_params'][dataset_name] = best_params\n",
    "        results_random[model_name]['best_model'][dataset_name] = best_model\n",
    "    "
   ]
  },
  {
   "cell_type": "code",
   "execution_count": 37,
   "metadata": {
    "datalore": {
     "hide_input_from_viewers": true,
     "hide_output_from_viewers": true,
     "node_id": "qvdzDgkesoHzXHaNSBmaGW",
     "type": "CODE"
    }
   },
   "outputs": [],
   "source": [
    "def run_bayes_search(model_name: str, model_class, random_state: Optional[int] = None,\n",
    "                     n_iter: Optional[int] = None, verbose=True):\n",
    "    for dataset_name, dataset in datasets.items():\n",
    "        if verbose:\n",
    "            print(f'Current dataset: {dataset_name}')\n",
    "        params_history, scores_test, scores_train, best_params, best_model = bayes_search_tuning(\n",
    "            model=model_class(),\n",
    "            params=hyperparameters_bayes[model_name],\n",
    "            X_train=dataset['X_train'],\n",
    "            y_train=dataset['y_train'],\n",
    "            random_state=random_state,\n",
    "            n_iter=n_iter,\n",
    "        )\n",
    "        results_bayes[model_name]['full_params_history'].extend(params_history)\n",
    "        results_bayes[model_name]['scores_test'][dataset_name] = scores_test\n",
    "        results_bayes[model_name]['scores_train'][dataset_name] = scores_train\n",
    "        results_bayes[model_name]['best_params'][dataset_name] = best_params\n",
    "        results_bayes[model_name]['best_model'][dataset_name] = best_model"
   ]
  },
  {
   "attachments": {},
   "cell_type": "markdown",
   "metadata": {
    "datalore": {
     "hide_input_from_viewers": true,
     "hide_output_from_viewers": true,
     "node_id": "sZTUxobIKVdf0PQx3uAW9a",
     "type": "MD"
    }
   },
   "source": [
    "## KNN"
   ]
  },
  {
   "cell_type": "code",
   "execution_count": 56,
   "metadata": {
    "datalore": {
     "hide_input_from_viewers": true,
     "hide_output_from_viewers": true,
     "node_id": "BTNttZf0JLrkviHdBNrFA9",
     "type": "CODE"
    }
   },
   "outputs": [],
   "source": [
    "run_random_search('KNN', model_class=KNeighborsClassifier, random_state=28, n_iter=20)"
   ]
  },
  {
   "cell_type": "code",
   "execution_count": 59,
   "metadata": {
    "datalore": {
     "hide_input_from_viewers": true,
     "hide_output_from_viewers": true,
     "node_id": "4sxJjhH8MYzeX32Uuu27uN",
     "type": "CODE"
    }
   },
   "outputs": [],
   "source": [
    "run_bayes_search('KNN', model_class=KNeighborsClassifier, random_state=28, n_iter=20)"
   ]
  },
  {
   "attachments": {},
   "cell_type": "markdown",
   "metadata": {
    "datalore": {
     "hide_input_from_viewers": true,
     "hide_output_from_viewers": true,
     "node_id": "pUYqgDNWyQuiraGY5w5wdv",
     "type": "MD"
    }
   },
   "source": [
    "## XGBoost"
   ]
  },
  {
   "cell_type": "code",
   "execution_count": 46,
   "metadata": {
    "datalore": {
     "hide_input_from_viewers": true,
     "hide_output_from_viewers": true,
     "node_id": "daSVswijUzOnaG6H9BngKb",
     "type": "CODE"
    }
   },
   "outputs": [],
   "source": [
    "run_random_search('XGboost', model_class=XGBClassifier, random_state=28, n_iter=150)"
   ]
  },
  {
   "cell_type": "code",
   "execution_count": 47,
   "metadata": {
    "datalore": {
     "hide_input_from_viewers": true,
     "hide_output_from_viewers": true,
     "node_id": "1expNu1PwVijRjavQP9Gg4",
     "type": "CODE"
    }
   },
   "outputs": [],
   "source": [
    "run_bayes_search('XGboost', model_class=XGBClassifier, random_state=28, n_iter=150)"
   ]
  },
  {
   "attachments": {},
   "cell_type": "markdown",
   "metadata": {
    "datalore": {
     "hide_input_from_viewers": true,
     "hide_output_from_viewers": true,
     "node_id": "8YMOaf2iqtFKW935G6ntbJ",
     "type": "MD"
    }
   },
   "source": [
    "## Random Forest"
   ]
  },
  {
   "cell_type": "code",
   "execution_count": 44,
   "metadata": {
    "datalore": {
     "hide_input_from_viewers": true,
     "hide_output_from_viewers": true,
     "node_id": "MSYRa8KOWFhb9TbzYkkM8w",
     "type": "CODE"
    }
   },
   "outputs": [],
   "source": [
    "run_random_search('Random Forest', model_class=RandomForestClassifier, random_state=28, n_iter=150)"
   ]
  },
  {
   "cell_type": "code",
   "execution_count": null,
   "metadata": {
    "datalore": {
     "hide_input_from_viewers": true,
     "hide_output_from_viewers": true,
     "node_id": "snTXBT8IO6zpwHi5dgkTEd",
     "type": "CODE"
    }
   },
   "outputs": [],
   "source": [
    "run_bayes_search('Random Forest', model_class=RandomForestClassifier, random_state=28, n_iter=150)"
   ]
  },
  {
   "attachments": {},
   "cell_type": "markdown",
   "metadata": {
    "datalore": {
     "hide_input_from_viewers": true,
     "hide_output_from_viewers": true,
     "node_id": "VlED5aleCIe3bxePE2zXm9",
     "type": "MD"
    }
   },
   "source": [
    "## Loading results from files"
   ]
  },
  {
   "attachments": {},
   "cell_type": "markdown",
   "metadata": {
    "datalore": {
     "hide_input_from_viewers": true,
     "hide_output_from_viewers": true,
     "node_id": "DZhU8kmOFuN8bEj2i6QeBL",
     "type": "MD"
    }
   },
   "source": [
    "To speed up above computations they were split and conducted separately on two different devices. Their results are loaded and merged below:"
   ]
  },
  {
   "cell_type": "code",
   "execution_count": 38,
   "metadata": {
    "datalore": {
     "hide_input_from_viewers": true,
     "hide_output_from_viewers": true,
     "node_id": "qbCtOnHQn9OEMIy9KU3Laj",
     "type": "CODE"
    }
   },
   "outputs": [],
   "source": [
    "import json\n",
    "\n",
    "with open(f'{base_path}/results_bayes_knn_and_xgboost.json') as file:\n",
    "    file_contents = json.load(file)\n",
    "    results_bayes['KNN'] = file_contents['KNN']\n",
    "    results_bayes['XGboost'] = file_contents['XGboost']\n",
    "with open(f'{base_path}/results_bayes_rf.json') as file:\n",
    "    file_contents = json.load(file)\n",
    "    results_bayes['Random Forest'] = file_contents['Random Forest']\n",
    "\n",
    "with open(f'{base_path}/results_random_KNN.json') as file:\n",
    "    file_contents = json.load(file)\n",
    "    results_random['KNN'] = file_contents['KNN']\n",
    "with open(f'{base_path}/results_random_xgb.json') as file:\n",
    "    file_contents = json.load(file)\n",
    "    results_random['XGboost'] = file_contents['XGboost']\n",
    "with open(f'{base_path}/results_random_rf.json') as file:\n",
    "    file_contents = json.load(file)\n",
    "    results_random['Random Forest'] = file_contents['Random Forest']"
   ]
  },
  {
   "attachments": {},
   "cell_type": "markdown",
   "metadata": {
    "datalore": {
     "hide_input_from_viewers": true,
     "hide_output_from_viewers": true,
     "node_id": "eeSY2Xo02o1tCRXA6WrOoj",
     "type": "MD"
    }
   },
   "source": [
    "# Calculating tunabilities"
   ]
  },
  {
   "attachments": {},
   "cell_type": "markdown",
   "metadata": {
    "datalore": {
     "hide_input_from_viewers": true,
     "hide_output_from_viewers": true,
     "node_id": "WjlROf7fV9C6s9VX6vdyDQ",
     "type": "MD"
    }
   },
   "source": [
    "## Algorithm tunabilites"
   ]
  },
  {
   "attachments": {},
   "cell_type": "markdown",
   "metadata": {
    "datalore": {
     "hide_input_from_viewers": true,
     "hide_output_from_viewers": true,
     "node_id": "YdqiDhn8IKYbuqTpTMTQgC",
     "type": "MD"
    }
   },
   "source": [
    "### KNN: Random Search"
   ]
  },
  {
   "cell_type": "code",
   "execution_count": 48,
   "metadata": {
    "datalore": {
     "hide_input_from_viewers": true,
     "hide_output_from_viewers": true,
     "node_id": "A9pTlB3VoXNEStMzRV9BcJ",
     "type": "CODE"
    }
   },
   "outputs": [],
   "source": [
    "_, knn_random_theta_star = find_optimal_default_conf(\n",
    "    params_hist=results_random['KNN']['full_params_history'],\n",
    "    datasets_=datasets,\n",
    "    model_class=KNeighborsClassifier,\n",
    ")"
   ]
  },
  {
   "cell_type": "code",
   "execution_count": 49,
   "metadata": {
    "datalore": {
     "hide_input_from_viewers": true,
     "hide_output_from_viewers": true,
     "node_id": "kS5hdW2tNy2BwNvzhDLzYC",
     "type": "CODE"
    }
   },
   "outputs": [],
   "source": [
    "knn_random_algo_tunability = measure_tunability_algorithm(knn_random_theta_star, \n",
    "                                results_random['KNN']['best_params'], \n",
    "                                datasets, \n",
    "                                KNeighborsClassifier)"
   ]
  },
  {
   "attachments": {},
   "cell_type": "markdown",
   "metadata": {
    "datalore": {
     "hide_input_from_viewers": true,
     "hide_output_from_viewers": true,
     "node_id": "1fyyurg0Zou3OVFX5JccHd",
     "type": "MD"
    }
   },
   "source": [
    "### KNN: Bayes Search"
   ]
  },
  {
   "cell_type": "code",
   "execution_count": 51,
   "metadata": {
    "datalore": {
     "hide_input_from_viewers": true,
     "hide_output_from_viewers": true,
     "node_id": "oXREzfL62njbhLtihLNz5f",
     "type": "CODE"
    }
   },
   "outputs": [],
   "source": [
    "_, knn_bayes_theta_star = find_optimal_default_conf(\n",
    "    params_hist=results_bayes['KNN']['full_params_history'],\n",
    "    datasets_=datasets,\n",
    "    model_class=KNeighborsClassifier,\n",
    ")"
   ]
  },
  {
   "cell_type": "code",
   "execution_count": 52,
   "metadata": {
    "datalore": {
     "hide_input_from_viewers": true,
     "hide_output_from_viewers": true,
     "node_id": "EeuV9FutmGfwLWFgoD94hu",
     "type": "CODE"
    }
   },
   "outputs": [],
   "source": [
    "knn_bayes_algo_tunability = measure_tunability_algorithm(knn_bayes_theta_star, \n",
    "                                results_bayes['KNN']['best_params'], \n",
    "                                datasets, \n",
    "                                KNeighborsClassifier)"
   ]
  },
  {
   "attachments": {},
   "cell_type": "markdown",
   "metadata": {
    "datalore": {
     "hide_input_from_viewers": true,
     "hide_output_from_viewers": true,
     "node_id": "fMHCrDibHoYyVQu1HKCUWn",
     "type": "MD"
    }
   },
   "source": [
    "### XGBoost: Random Search"
   ]
  },
  {
   "cell_type": "code",
   "execution_count": 54,
   "metadata": {
    "datalore": {
     "hide_input_from_viewers": true,
     "hide_output_from_viewers": true,
     "node_id": "CdVCkrLXHQW6RsFlb2s0hD",
     "type": "CODE"
    }
   },
   "outputs": [],
   "source": [
    "_, xgboost_random_theta_star = find_optimal_default_conf(\n",
    "    params_hist=results_random['XGboost']['full_params_history'],\n",
    "    datasets_=datasets,\n",
    "    model_class=XGBClassifier,\n",
    ")"
   ]
  },
  {
   "cell_type": "code",
   "execution_count": null,
   "metadata": {
    "datalore": {
     "hide_input_from_viewers": true,
     "hide_output_from_viewers": true,
     "node_id": "gihp3QqQnNnwPI1e2VXoLz",
     "type": "CODE"
    }
   },
   "outputs": [],
   "source": [
    "xgboost_random_algo_tunability = measure_tunability_algorithm(\n",
    "    xgboost_random_theta_star, \n",
    "    results_random['XGboost']['best_params'], \n",
    "    datasets, \n",
    "    XGBClassifier,\n",
    ")"
   ]
  },
  {
   "attachments": {},
   "cell_type": "markdown",
   "metadata": {
    "datalore": {
     "hide_input_from_viewers": true,
     "hide_output_from_viewers": true,
     "node_id": "J3ZtPHDQrBwFZCCEzDfMSo",
     "type": "MD"
    }
   },
   "source": [
    "### XGBoost: Bayes Search"
   ]
  },
  {
   "cell_type": "code",
   "execution_count": 55,
   "metadata": {
    "datalore": {
     "hide_input_from_viewers": true,
     "hide_output_from_viewers": true,
     "node_id": "RHY0e680uLMJ39iwrKulRq",
     "type": "CODE"
    }
   },
   "outputs": [],
   "source": [
    "_, xgboost_bayes_theta_star = find_optimal_default_conf(\n",
    "    params_hist=results_bayes['XGboost']['full_params_history'],\n",
    "    datasets_=datasets,\n",
    "    model_class=XGBClassifier,\n",
    ")"
   ]
  },
  {
   "cell_type": "code",
   "execution_count": null,
   "metadata": {
    "datalore": {
     "hide_input_from_viewers": true,
     "hide_output_from_viewers": true,
     "node_id": "U3RExwnjfja8xDcoT0JgGy",
     "type": "CODE"
    }
   },
   "outputs": [],
   "source": [
    "xgboost_bayes_algo_tunability = measure_tunability_algorithm(\n",
    "    xgboost_bayes_theta_star, \n",
    "    results_bayes['XGboost']['best_params'], \n",
    "    datasets, \n",
    "    XGBClassifier,\n",
    ")"
   ]
  },
  {
   "attachments": {},
   "cell_type": "markdown",
   "metadata": {
    "datalore": {
     "hide_input_from_viewers": true,
     "hide_output_from_viewers": true,
     "node_id": "YIzSwN6HzRlMb4vS8moMhp",
     "type": "MD"
    }
   },
   "source": [
    "### Random Forest: Random Search"
   ]
  },
  {
   "cell_type": "code",
   "execution_count": 55,
   "metadata": {
    "datalore": {
     "hide_input_from_viewers": true,
     "hide_output_from_viewers": true,
     "node_id": "R4afGltWiqWiTPIk6N8Ygn",
     "type": "CODE"
    }
   },
   "outputs": [],
   "source": [
    "_, rf_random_theta_star = find_optimal_default_conf(\n",
    "    params_hist=results_random['Random Forest']['full_params_history'],\n",
    "    datasets_=datasets,\n",
    "    model_class=RandomForestClassifier,\n",
    ")"
   ]
  },
  {
   "cell_type": "code",
   "execution_count": null,
   "metadata": {
    "datalore": {
     "hide_input_from_viewers": true,
     "hide_output_from_viewers": true,
     "node_id": "q5tR1QjigxUVYRjUTkIGVh",
     "type": "CODE"
    }
   },
   "outputs": [],
   "source": [
    "rf_random_algo_tunability = measure_tunability_algorithm(rf_random_theta_star, \n",
    "                                results_random['Random Forest']['best_params'], \n",
    "                                datasets, \n",
    "                                RandomForestClassifier)"
   ]
  },
  {
   "attachments": {},
   "cell_type": "markdown",
   "metadata": {
    "datalore": {
     "hide_input_from_viewers": true,
     "hide_output_from_viewers": true,
     "node_id": "FdrmUVqpvQISvz0oanqTXd",
     "type": "MD"
    }
   },
   "source": [
    "### Random Forest: Bayes Search"
   ]
  },
  {
   "cell_type": "code",
   "execution_count": null,
   "metadata": {
    "datalore": {
     "hide_input_from_viewers": true,
     "hide_output_from_viewers": true,
     "node_id": "o0vpe1Wzs9Ra6sHwjK0ZDi",
     "type": "CODE"
    }
   },
   "outputs": [],
   "source": [
    "_, rf_bayes_theta_star = find_optimal_default_conf(\n",
    "    params_hist=results_bayes['Random Forest']['full_params_history'],\n",
    "    datasets_=datasets,\n",
    "    model_class=RandomForestClassifier,\n",
    ")"
   ]
  },
  {
   "cell_type": "code",
   "execution_count": null,
   "metadata": {
    "datalore": {
     "hide_input_from_viewers": true,
     "hide_output_from_viewers": true,
     "node_id": "eS5s0nhT5slHnrTlSgfx7X",
     "type": "CODE"
    }
   },
   "outputs": [],
   "source": [
    "rf_bayes_algo_tunability = measure_tunability_algorithm(rf_bayes_theta_star, \n",
    "                                results_bayes['Random Forest']['best_params'], \n",
    "                                datasets, \n",
    "                                RandomForestClassifier)"
   ]
  },
  {
   "cell_type": "code",
   "execution_count": null,
   "metadata": {
    "datalore": {
     "hide_input_from_viewers": true,
     "hide_output_from_viewers": true,
     "node_id": "ANGaZ7qqTWWMR4rCoWpOMk",
     "type": "CODE"
    }
   },
   "outputs": [],
   "source": [
    "tunability_of_algo_random = {\n",
    "    'KNN': knn_random_algo_tunability,\n",
    "    'XGboost': xgboost_random_algo_tunability,\n",
    "    'Random Forest': rf_random_algo_tunability,\n",
    "}"
   ]
  },
  {
   "cell_type": "code",
   "execution_count": null,
   "metadata": {
    "datalore": {
     "hide_input_from_viewers": true,
     "hide_output_from_viewers": true,
     "node_id": "OYURFfHGxYcPvmPbMlWa5H",
     "type": "CODE"
    }
   },
   "outputs": [],
   "source": [
    "tunability_of_algo_bayes = {\n",
    "    'KNN': knn_bayes_algo_tunability,\n",
    "    'XGboost': xgboost_bayes_algo_tunability,\n",
    "    'Random Forest': rf_bayes_algo_tunability,\n",
    "}"
   ]
  },
  {
   "cell_type": "code",
   "execution_count": null,
   "metadata": {
    "datalore": {
     "hide_input_from_viewers": true,
     "hide_output_from_viewers": true,
     "node_id": "Wr8YGVFvO993qGgibGvraS",
     "type": "CODE"
    }
   },
   "outputs": [],
   "source": [
    "plot_boxplot_algo_tunability(tunability_of_algo_random, \"Random\")"
   ]
  },
  {
   "cell_type": "code",
   "execution_count": null,
   "metadata": {
    "datalore": {
     "hide_input_from_viewers": true,
     "hide_output_from_viewers": true,
     "node_id": "sc6j0SGG9vGPgGHzWkGCqx",
     "type": "CODE"
    }
   },
   "outputs": [],
   "source": [
    "plot_boxplot_algo_tunability(tunability_of_algo_bayes, \"Bayes\")"
   ]
  },
  {
   "attachments": {},
   "cell_type": "markdown",
   "metadata": {
    "datalore": {
     "hide_input_from_viewers": true,
     "hide_output_from_viewers": true,
     "node_id": "PGGYtw9IyCRF9mW6vgvFr6",
     "type": "MD"
    }
   },
   "source": [
    "## Hyperparameter tunabilites"
   ]
  },
  {
   "attachments": {},
   "cell_type": "markdown",
   "metadata": {
    "datalore": {
     "hide_input_from_viewers": true,
     "hide_output_from_viewers": true,
     "node_id": "TC8cSr0rd4ZTVzNgMSfjh9",
     "type": "MD"
    }
   },
   "source": [
    "Above computations have been conducted on another device. \n",
    "\n",
    "Some of their results are loaded below, because they are needed for further computations:"
   ]
  },
  {
   "cell_type": "code",
   "execution_count": 39,
   "metadata": {
    "datalore": {
     "hide_input_from_viewers": true,
     "hide_output_from_viewers": true,
     "node_id": "F2SPzFyfq3plDlcBDpfYf1",
     "type": "CODE"
    }
   },
   "outputs": [],
   "source": [
    "with open(f'{base_path}/thetas_star_random.json') as file:\n",
    "    data = json.load(file)\n",
    "    knn_random_theta_star = data['KNN']\n",
    "    xgboost_random_theta_star = data['XGboost']\n",
    "    rf_random_theta_star = data['Random Forest']"
   ]
  },
  {
   "cell_type": "code",
   "execution_count": 40,
   "metadata": {
    "datalore": {
     "hide_input_from_viewers": true,
     "hide_output_from_viewers": true,
     "node_id": "wJExiRsRsVkvDQoFomxTCD",
     "type": "CODE"
    }
   },
   "outputs": [],
   "source": [
    "with open(f'{base_path}/thetas_star_bayes.json') as file:\n",
    "    data = json.load(file)\n",
    "    knn_bayes_theta_star = data['KNN']\n",
    "    xgboost_bayes_theta_star = data['XGboost']\n",
    "    rf_bayes_theta_star = data['Random Forest']"
   ]
  },
  {
   "attachments": {},
   "cell_type": "markdown",
   "metadata": {
    "datalore": {
     "hide_input_from_viewers": true,
     "hide_output_from_viewers": true,
     "node_id": "lkAHu5znUvnrP9GeVJCirq",
     "type": "MD"
    }
   },
   "source": [
    "### KNN: Random Search"
   ]
  },
  {
   "cell_type": "code",
   "execution_count": 45,
   "metadata": {
    "datalore": {
     "hide_input_from_viewers": true,
     "hide_output_from_viewers": true,
     "node_id": "NAnWQbVaR0Lbtq3A650hPn",
     "type": "CODE"
    }
   },
   "outputs": [
    {
     "data": {
      "text/plain": [
       "{'n_neighbors': array([], dtype=float64)}"
      ]
     },
     "execution_count": 45,
     "metadata": {},
     "output_type": "execute_result"
    }
   ],
   "source": [
    "knn_random_params_tun = {\n",
    "    param: np.array([]) for param in hyperparameters_random['KNN'].keys()\n",
    "}\n",
    "knn_random_params_tun"
   ]
  },
  {
   "cell_type": "code",
   "execution_count": 46,
   "metadata": {
    "datalore": {
     "hide_input_from_viewers": true,
     "hide_output_from_viewers": true,
     "node_id": "rDbgnXRKl2qIVHpTlcmwHa",
     "type": "CODE"
    }
   },
   "outputs": [],
   "source": [
    "for param_i in list(knn_random_params_tun.keys()):\n",
    "    theta_i_stars_per_df = find_optimal_default_conf_param(\n",
    "        param_i_name=param_i,\n",
    "        params_hist=results_random['KNN']['full_params_history'],\n",
    "        theta_star=knn_random_theta_star,\n",
    "        datasets_=datasets,\n",
    "        model_class=KNeighborsClassifier,\n",
    "    )\n",
    "    param_i_tunability = measure_param_tunability(\n",
    "        theta_i_stars_per_df,\n",
    "        theta_star=knn_random_theta_star,\n",
    "        datasets_=datasets,\n",
    "        model_class=KNeighborsClassifier,\n",
    "    )\n",
    "    knn_random_params_tun[param_i] = param_i_tunability"
   ]
  },
  {
   "cell_type": "code",
   "execution_count": 43,
   "metadata": {
    "datalore": {
     "hide_input_from_viewers": true,
     "hide_output_from_viewers": true,
     "node_id": "GNorUM73II0Y24uVeIbNWn",
     "type": "CODE"
    }
   },
   "outputs": [
    {
     "data": {
      "application/vnd.plotly.v1+json": {
       "config": {
        "plotlyServerURL": "https://plot.ly"
       },
       "data": [
        {
         "alignmentgroup": "True",
         "hovertemplate": "Hyperparameter=%{x}<br>Tunability=%{y}<extra></extra>",
         "legendgroup": "",
         "marker": {
          "color": "#636efa"
         },
         "name": "",
         "notched": false,
         "offsetgroup": "",
         "orientation": "v",
         "showlegend": false,
         "type": "box",
         "x": [
          "n_neighbors",
          "n_neighbors",
          "n_neighbors",
          "n_neighbors"
         ],
         "x0": " ",
         "xaxis": "x",
         "y": [
          0.020000000000000018,
          0.013698630136986245,
          0.016949152542372836,
          0.021276595744680882
         ],
         "y0": " ",
         "yaxis": "y"
        }
       ],
       "layout": {
        "boxmode": "group",
        "legend": {
         "tracegroupgap": 0
        },
        "template": {
         "data": {
          "bar": [
           {
            "error_x": {
             "color": "#2a3f5f"
            },
            "error_y": {
             "color": "#2a3f5f"
            },
            "marker": {
             "line": {
              "color": "#E5ECF6",
              "width": 0.5
             },
             "pattern": {
              "fillmode": "overlay",
              "size": 10,
              "solidity": 0.2
             }
            },
            "type": "bar"
           }
          ],
          "barpolar": [
           {
            "marker": {
             "line": {
              "color": "#E5ECF6",
              "width": 0.5
             },
             "pattern": {
              "fillmode": "overlay",
              "size": 10,
              "solidity": 0.2
             }
            },
            "type": "barpolar"
           }
          ],
          "carpet": [
           {
            "aaxis": {
             "endlinecolor": "#2a3f5f",
             "gridcolor": "white",
             "linecolor": "white",
             "minorgridcolor": "white",
             "startlinecolor": "#2a3f5f"
            },
            "baxis": {
             "endlinecolor": "#2a3f5f",
             "gridcolor": "white",
             "linecolor": "white",
             "minorgridcolor": "white",
             "startlinecolor": "#2a3f5f"
            },
            "type": "carpet"
           }
          ],
          "choropleth": [
           {
            "colorbar": {
             "outlinewidth": 0,
             "ticks": ""
            },
            "type": "choropleth"
           }
          ],
          "contour": [
           {
            "colorbar": {
             "outlinewidth": 0,
             "ticks": ""
            },
            "colorscale": [
             [
              0,
              "#0d0887"
             ],
             [
              0.1111111111111111,
              "#46039f"
             ],
             [
              0.2222222222222222,
              "#7201a8"
             ],
             [
              0.3333333333333333,
              "#9c179e"
             ],
             [
              0.4444444444444444,
              "#bd3786"
             ],
             [
              0.5555555555555556,
              "#d8576b"
             ],
             [
              0.6666666666666666,
              "#ed7953"
             ],
             [
              0.7777777777777778,
              "#fb9f3a"
             ],
             [
              0.8888888888888888,
              "#fdca26"
             ],
             [
              1,
              "#f0f921"
             ]
            ],
            "type": "contour"
           }
          ],
          "contourcarpet": [
           {
            "colorbar": {
             "outlinewidth": 0,
             "ticks": ""
            },
            "type": "contourcarpet"
           }
          ],
          "heatmap": [
           {
            "colorbar": {
             "outlinewidth": 0,
             "ticks": ""
            },
            "colorscale": [
             [
              0,
              "#0d0887"
             ],
             [
              0.1111111111111111,
              "#46039f"
             ],
             [
              0.2222222222222222,
              "#7201a8"
             ],
             [
              0.3333333333333333,
              "#9c179e"
             ],
             [
              0.4444444444444444,
              "#bd3786"
             ],
             [
              0.5555555555555556,
              "#d8576b"
             ],
             [
              0.6666666666666666,
              "#ed7953"
             ],
             [
              0.7777777777777778,
              "#fb9f3a"
             ],
             [
              0.8888888888888888,
              "#fdca26"
             ],
             [
              1,
              "#f0f921"
             ]
            ],
            "type": "heatmap"
           }
          ],
          "heatmapgl": [
           {
            "colorbar": {
             "outlinewidth": 0,
             "ticks": ""
            },
            "colorscale": [
             [
              0,
              "#0d0887"
             ],
             [
              0.1111111111111111,
              "#46039f"
             ],
             [
              0.2222222222222222,
              "#7201a8"
             ],
             [
              0.3333333333333333,
              "#9c179e"
             ],
             [
              0.4444444444444444,
              "#bd3786"
             ],
             [
              0.5555555555555556,
              "#d8576b"
             ],
             [
              0.6666666666666666,
              "#ed7953"
             ],
             [
              0.7777777777777778,
              "#fb9f3a"
             ],
             [
              0.8888888888888888,
              "#fdca26"
             ],
             [
              1,
              "#f0f921"
             ]
            ],
            "type": "heatmapgl"
           }
          ],
          "histogram": [
           {
            "marker": {
             "pattern": {
              "fillmode": "overlay",
              "size": 10,
              "solidity": 0.2
             }
            },
            "type": "histogram"
           }
          ],
          "histogram2d": [
           {
            "colorbar": {
             "outlinewidth": 0,
             "ticks": ""
            },
            "colorscale": [
             [
              0,
              "#0d0887"
             ],
             [
              0.1111111111111111,
              "#46039f"
             ],
             [
              0.2222222222222222,
              "#7201a8"
             ],
             [
              0.3333333333333333,
              "#9c179e"
             ],
             [
              0.4444444444444444,
              "#bd3786"
             ],
             [
              0.5555555555555556,
              "#d8576b"
             ],
             [
              0.6666666666666666,
              "#ed7953"
             ],
             [
              0.7777777777777778,
              "#fb9f3a"
             ],
             [
              0.8888888888888888,
              "#fdca26"
             ],
             [
              1,
              "#f0f921"
             ]
            ],
            "type": "histogram2d"
           }
          ],
          "histogram2dcontour": [
           {
            "colorbar": {
             "outlinewidth": 0,
             "ticks": ""
            },
            "colorscale": [
             [
              0,
              "#0d0887"
             ],
             [
              0.1111111111111111,
              "#46039f"
             ],
             [
              0.2222222222222222,
              "#7201a8"
             ],
             [
              0.3333333333333333,
              "#9c179e"
             ],
             [
              0.4444444444444444,
              "#bd3786"
             ],
             [
              0.5555555555555556,
              "#d8576b"
             ],
             [
              0.6666666666666666,
              "#ed7953"
             ],
             [
              0.7777777777777778,
              "#fb9f3a"
             ],
             [
              0.8888888888888888,
              "#fdca26"
             ],
             [
              1,
              "#f0f921"
             ]
            ],
            "type": "histogram2dcontour"
           }
          ],
          "mesh3d": [
           {
            "colorbar": {
             "outlinewidth": 0,
             "ticks": ""
            },
            "type": "mesh3d"
           }
          ],
          "parcoords": [
           {
            "line": {
             "colorbar": {
              "outlinewidth": 0,
              "ticks": ""
             }
            },
            "type": "parcoords"
           }
          ],
          "pie": [
           {
            "automargin": true,
            "type": "pie"
           }
          ],
          "scatter": [
           {
            "fillpattern": {
             "fillmode": "overlay",
             "size": 10,
             "solidity": 0.2
            },
            "type": "scatter"
           }
          ],
          "scatter3d": [
           {
            "line": {
             "colorbar": {
              "outlinewidth": 0,
              "ticks": ""
             }
            },
            "marker": {
             "colorbar": {
              "outlinewidth": 0,
              "ticks": ""
             }
            },
            "type": "scatter3d"
           }
          ],
          "scattercarpet": [
           {
            "marker": {
             "colorbar": {
              "outlinewidth": 0,
              "ticks": ""
             }
            },
            "type": "scattercarpet"
           }
          ],
          "scattergeo": [
           {
            "marker": {
             "colorbar": {
              "outlinewidth": 0,
              "ticks": ""
             }
            },
            "type": "scattergeo"
           }
          ],
          "scattergl": [
           {
            "marker": {
             "colorbar": {
              "outlinewidth": 0,
              "ticks": ""
             }
            },
            "type": "scattergl"
           }
          ],
          "scattermapbox": [
           {
            "marker": {
             "colorbar": {
              "outlinewidth": 0,
              "ticks": ""
             }
            },
            "type": "scattermapbox"
           }
          ],
          "scatterpolar": [
           {
            "marker": {
             "colorbar": {
              "outlinewidth": 0,
              "ticks": ""
             }
            },
            "type": "scatterpolar"
           }
          ],
          "scatterpolargl": [
           {
            "marker": {
             "colorbar": {
              "outlinewidth": 0,
              "ticks": ""
             }
            },
            "type": "scatterpolargl"
           }
          ],
          "scatterternary": [
           {
            "marker": {
             "colorbar": {
              "outlinewidth": 0,
              "ticks": ""
             }
            },
            "type": "scatterternary"
           }
          ],
          "surface": [
           {
            "colorbar": {
             "outlinewidth": 0,
             "ticks": ""
            },
            "colorscale": [
             [
              0,
              "#0d0887"
             ],
             [
              0.1111111111111111,
              "#46039f"
             ],
             [
              0.2222222222222222,
              "#7201a8"
             ],
             [
              0.3333333333333333,
              "#9c179e"
             ],
             [
              0.4444444444444444,
              "#bd3786"
             ],
             [
              0.5555555555555556,
              "#d8576b"
             ],
             [
              0.6666666666666666,
              "#ed7953"
             ],
             [
              0.7777777777777778,
              "#fb9f3a"
             ],
             [
              0.8888888888888888,
              "#fdca26"
             ],
             [
              1,
              "#f0f921"
             ]
            ],
            "type": "surface"
           }
          ],
          "table": [
           {
            "cells": {
             "fill": {
              "color": "#EBF0F8"
             },
             "line": {
              "color": "white"
             }
            },
            "header": {
             "fill": {
              "color": "#C8D4E3"
             },
             "line": {
              "color": "white"
             }
            },
            "type": "table"
           }
          ]
         },
         "layout": {
          "annotationdefaults": {
           "arrowcolor": "#2a3f5f",
           "arrowhead": 0,
           "arrowwidth": 1
          },
          "autotypenumbers": "strict",
          "coloraxis": {
           "colorbar": {
            "outlinewidth": 0,
            "ticks": ""
           }
          },
          "colorscale": {
           "diverging": [
            [
             0,
             "#8e0152"
            ],
            [
             0.1,
             "#c51b7d"
            ],
            [
             0.2,
             "#de77ae"
            ],
            [
             0.3,
             "#f1b6da"
            ],
            [
             0.4,
             "#fde0ef"
            ],
            [
             0.5,
             "#f7f7f7"
            ],
            [
             0.6,
             "#e6f5d0"
            ],
            [
             0.7,
             "#b8e186"
            ],
            [
             0.8,
             "#7fbc41"
            ],
            [
             0.9,
             "#4d9221"
            ],
            [
             1,
             "#276419"
            ]
           ],
           "sequential": [
            [
             0,
             "#0d0887"
            ],
            [
             0.1111111111111111,
             "#46039f"
            ],
            [
             0.2222222222222222,
             "#7201a8"
            ],
            [
             0.3333333333333333,
             "#9c179e"
            ],
            [
             0.4444444444444444,
             "#bd3786"
            ],
            [
             0.5555555555555556,
             "#d8576b"
            ],
            [
             0.6666666666666666,
             "#ed7953"
            ],
            [
             0.7777777777777778,
             "#fb9f3a"
            ],
            [
             0.8888888888888888,
             "#fdca26"
            ],
            [
             1,
             "#f0f921"
            ]
           ],
           "sequentialminus": [
            [
             0,
             "#0d0887"
            ],
            [
             0.1111111111111111,
             "#46039f"
            ],
            [
             0.2222222222222222,
             "#7201a8"
            ],
            [
             0.3333333333333333,
             "#9c179e"
            ],
            [
             0.4444444444444444,
             "#bd3786"
            ],
            [
             0.5555555555555556,
             "#d8576b"
            ],
            [
             0.6666666666666666,
             "#ed7953"
            ],
            [
             0.7777777777777778,
             "#fb9f3a"
            ],
            [
             0.8888888888888888,
             "#fdca26"
            ],
            [
             1,
             "#f0f921"
            ]
           ]
          },
          "colorway": [
           "#636efa",
           "#EF553B",
           "#00cc96",
           "#ab63fa",
           "#FFA15A",
           "#19d3f3",
           "#FF6692",
           "#B6E880",
           "#FF97FF",
           "#FECB52"
          ],
          "font": {
           "color": "#2a3f5f"
          },
          "geo": {
           "bgcolor": "white",
           "lakecolor": "white",
           "landcolor": "#E5ECF6",
           "showlakes": true,
           "showland": true,
           "subunitcolor": "white"
          },
          "hoverlabel": {
           "align": "left"
          },
          "hovermode": "closest",
          "mapbox": {
           "style": "light"
          },
          "paper_bgcolor": "white",
          "plot_bgcolor": "#E5ECF6",
          "polar": {
           "angularaxis": {
            "gridcolor": "white",
            "linecolor": "white",
            "ticks": ""
           },
           "bgcolor": "#E5ECF6",
           "radialaxis": {
            "gridcolor": "white",
            "linecolor": "white",
            "ticks": ""
           }
          },
          "scene": {
           "xaxis": {
            "backgroundcolor": "#E5ECF6",
            "gridcolor": "white",
            "gridwidth": 2,
            "linecolor": "white",
            "showbackground": true,
            "ticks": "",
            "zerolinecolor": "white"
           },
           "yaxis": {
            "backgroundcolor": "#E5ECF6",
            "gridcolor": "white",
            "gridwidth": 2,
            "linecolor": "white",
            "showbackground": true,
            "ticks": "",
            "zerolinecolor": "white"
           },
           "zaxis": {
            "backgroundcolor": "#E5ECF6",
            "gridcolor": "white",
            "gridwidth": 2,
            "linecolor": "white",
            "showbackground": true,
            "ticks": "",
            "zerolinecolor": "white"
           }
          },
          "shapedefaults": {
           "line": {
            "color": "#2a3f5f"
           }
          },
          "ternary": {
           "aaxis": {
            "gridcolor": "white",
            "linecolor": "white",
            "ticks": ""
           },
           "baxis": {
            "gridcolor": "white",
            "linecolor": "white",
            "ticks": ""
           },
           "bgcolor": "#E5ECF6",
           "caxis": {
            "gridcolor": "white",
            "linecolor": "white",
            "ticks": ""
           }
          },
          "title": {
           "x": 0.05
          },
          "xaxis": {
           "automargin": true,
           "gridcolor": "white",
           "linecolor": "white",
           "ticks": "",
           "title": {
            "standoff": 15
           },
           "zerolinecolor": "white",
           "zerolinewidth": 2
          },
          "yaxis": {
           "automargin": true,
           "gridcolor": "white",
           "linecolor": "white",
           "ticks": "",
           "title": {
            "standoff": 15
           },
           "zerolinecolor": "white",
           "zerolinewidth": 2
          }
         }
        },
        "title": {
         "text": "KNN hyperparameters tunability (Random)"
        },
        "xaxis": {
         "anchor": "y",
         "domain": [
          0,
          1
         ],
         "title": {
          "text": "Hyperparameter"
         }
        },
        "yaxis": {
         "anchor": "x",
         "domain": [
          0,
          1
         ],
         "title": {
          "text": "Tunability"
         }
        }
       }
      }
     },
     "metadata": {},
     "output_type": "display_data"
    }
   ],
   "source": [
    "plot_boxplots_param_tunability('KNN', knn_random_params_tun, \"Random\")"
   ]
  },
  {
   "attachments": {},
   "cell_type": "markdown",
   "metadata": {
    "datalore": {
     "hide_input_from_viewers": true,
     "hide_output_from_viewers": true,
     "node_id": "RG2y0HiGTld1o5PXY2NU8W",
     "type": "MD"
    }
   },
   "source": [
    "### KNN: Bayes Search"
   ]
  },
  {
   "cell_type": "code",
   "execution_count": 47,
   "metadata": {
    "datalore": {
     "hide_input_from_viewers": true,
     "hide_output_from_viewers": true,
     "node_id": "2mVeO83TFuzvGuflJtXWPG",
     "type": "CODE"
    }
   },
   "outputs": [
    {
     "data": {
      "text/plain": [
       "{'n_neighbors': array([], dtype=float64)}"
      ]
     },
     "execution_count": 47,
     "metadata": {},
     "output_type": "execute_result"
    }
   ],
   "source": [
    "knn_bayes_params_tun = {\n",
    "    param: np.array([]) for param in hyperparameters_bayes['KNN'].keys()\n",
    "}\n",
    "knn_bayes_params_tun"
   ]
  },
  {
   "cell_type": "code",
   "execution_count": 48,
   "metadata": {
    "datalore": {
     "hide_input_from_viewers": true,
     "hide_output_from_viewers": true,
     "node_id": "8SJ6dS0BgzDv8qtaO6XX7z",
     "type": "CODE"
    }
   },
   "outputs": [],
   "source": [
    "for param_i in list(knn_bayes_params_tun.keys()):\n",
    "    theta_i_stars_per_df = find_optimal_default_conf_param(\n",
    "        param_i_name=param_i,\n",
    "        params_hist=results_bayes['KNN']['full_params_history'],\n",
    "        theta_star=knn_bayes_theta_star,\n",
    "        datasets_=datasets,\n",
    "        model_class=KNeighborsClassifier,\n",
    "    )\n",
    "    param_i_tunability = measure_param_tunability(\n",
    "        theta_i_stars_per_df,\n",
    "        theta_star=knn_bayes_theta_star,\n",
    "        datasets_=datasets,\n",
    "        model_class=KNeighborsClassifier,\n",
    "    )\n",
    "    knn_bayes_params_tun[param_i] = param_i_tunability"
   ]
  },
  {
   "cell_type": "code",
   "execution_count": 47,
   "metadata": {
    "datalore": {
     "hide_input_from_viewers": true,
     "hide_output_from_viewers": true,
     "node_id": "8GIsZXB2D2OXdb7vMoWaYT",
     "type": "CODE"
    }
   },
   "outputs": [
    {
     "data": {
      "application/vnd.plotly.v1+json": {
       "config": {
        "plotlyServerURL": "https://plot.ly"
       },
       "data": [
        {
         "alignmentgroup": "True",
         "hovertemplate": "Hyperparameter=%{x}<br>Tunability=%{y}<extra></extra>",
         "legendgroup": "",
         "marker": {
          "color": "#636efa"
         },
         "name": "",
         "notched": false,
         "offsetgroup": "",
         "orientation": "v",
         "showlegend": false,
         "type": "box",
         "x": [
          "n_neighbors",
          "n_neighbors",
          "n_neighbors",
          "n_neighbors"
         ],
         "x0": " ",
         "xaxis": "x",
         "y": [
          0.020000000000000018,
          0.013698630136986245,
          0.016949152542372836,
          0.021276595744680882
         ],
         "y0": " ",
         "yaxis": "y"
        }
       ],
       "layout": {
        "boxmode": "group",
        "legend": {
         "tracegroupgap": 0
        },
        "template": {
         "data": {
          "bar": [
           {
            "error_x": {
             "color": "#2a3f5f"
            },
            "error_y": {
             "color": "#2a3f5f"
            },
            "marker": {
             "line": {
              "color": "#E5ECF6",
              "width": 0.5
             },
             "pattern": {
              "fillmode": "overlay",
              "size": 10,
              "solidity": 0.2
             }
            },
            "type": "bar"
           }
          ],
          "barpolar": [
           {
            "marker": {
             "line": {
              "color": "#E5ECF6",
              "width": 0.5
             },
             "pattern": {
              "fillmode": "overlay",
              "size": 10,
              "solidity": 0.2
             }
            },
            "type": "barpolar"
           }
          ],
          "carpet": [
           {
            "aaxis": {
             "endlinecolor": "#2a3f5f",
             "gridcolor": "white",
             "linecolor": "white",
             "minorgridcolor": "white",
             "startlinecolor": "#2a3f5f"
            },
            "baxis": {
             "endlinecolor": "#2a3f5f",
             "gridcolor": "white",
             "linecolor": "white",
             "minorgridcolor": "white",
             "startlinecolor": "#2a3f5f"
            },
            "type": "carpet"
           }
          ],
          "choropleth": [
           {
            "colorbar": {
             "outlinewidth": 0,
             "ticks": ""
            },
            "type": "choropleth"
           }
          ],
          "contour": [
           {
            "colorbar": {
             "outlinewidth": 0,
             "ticks": ""
            },
            "colorscale": [
             [
              0,
              "#0d0887"
             ],
             [
              0.1111111111111111,
              "#46039f"
             ],
             [
              0.2222222222222222,
              "#7201a8"
             ],
             [
              0.3333333333333333,
              "#9c179e"
             ],
             [
              0.4444444444444444,
              "#bd3786"
             ],
             [
              0.5555555555555556,
              "#d8576b"
             ],
             [
              0.6666666666666666,
              "#ed7953"
             ],
             [
              0.7777777777777778,
              "#fb9f3a"
             ],
             [
              0.8888888888888888,
              "#fdca26"
             ],
             [
              1,
              "#f0f921"
             ]
            ],
            "type": "contour"
           }
          ],
          "contourcarpet": [
           {
            "colorbar": {
             "outlinewidth": 0,
             "ticks": ""
            },
            "type": "contourcarpet"
           }
          ],
          "heatmap": [
           {
            "colorbar": {
             "outlinewidth": 0,
             "ticks": ""
            },
            "colorscale": [
             [
              0,
              "#0d0887"
             ],
             [
              0.1111111111111111,
              "#46039f"
             ],
             [
              0.2222222222222222,
              "#7201a8"
             ],
             [
              0.3333333333333333,
              "#9c179e"
             ],
             [
              0.4444444444444444,
              "#bd3786"
             ],
             [
              0.5555555555555556,
              "#d8576b"
             ],
             [
              0.6666666666666666,
              "#ed7953"
             ],
             [
              0.7777777777777778,
              "#fb9f3a"
             ],
             [
              0.8888888888888888,
              "#fdca26"
             ],
             [
              1,
              "#f0f921"
             ]
            ],
            "type": "heatmap"
           }
          ],
          "heatmapgl": [
           {
            "colorbar": {
             "outlinewidth": 0,
             "ticks": ""
            },
            "colorscale": [
             [
              0,
              "#0d0887"
             ],
             [
              0.1111111111111111,
              "#46039f"
             ],
             [
              0.2222222222222222,
              "#7201a8"
             ],
             [
              0.3333333333333333,
              "#9c179e"
             ],
             [
              0.4444444444444444,
              "#bd3786"
             ],
             [
              0.5555555555555556,
              "#d8576b"
             ],
             [
              0.6666666666666666,
              "#ed7953"
             ],
             [
              0.7777777777777778,
              "#fb9f3a"
             ],
             [
              0.8888888888888888,
              "#fdca26"
             ],
             [
              1,
              "#f0f921"
             ]
            ],
            "type": "heatmapgl"
           }
          ],
          "histogram": [
           {
            "marker": {
             "pattern": {
              "fillmode": "overlay",
              "size": 10,
              "solidity": 0.2
             }
            },
            "type": "histogram"
           }
          ],
          "histogram2d": [
           {
            "colorbar": {
             "outlinewidth": 0,
             "ticks": ""
            },
            "colorscale": [
             [
              0,
              "#0d0887"
             ],
             [
              0.1111111111111111,
              "#46039f"
             ],
             [
              0.2222222222222222,
              "#7201a8"
             ],
             [
              0.3333333333333333,
              "#9c179e"
             ],
             [
              0.4444444444444444,
              "#bd3786"
             ],
             [
              0.5555555555555556,
              "#d8576b"
             ],
             [
              0.6666666666666666,
              "#ed7953"
             ],
             [
              0.7777777777777778,
              "#fb9f3a"
             ],
             [
              0.8888888888888888,
              "#fdca26"
             ],
             [
              1,
              "#f0f921"
             ]
            ],
            "type": "histogram2d"
           }
          ],
          "histogram2dcontour": [
           {
            "colorbar": {
             "outlinewidth": 0,
             "ticks": ""
            },
            "colorscale": [
             [
              0,
              "#0d0887"
             ],
             [
              0.1111111111111111,
              "#46039f"
             ],
             [
              0.2222222222222222,
              "#7201a8"
             ],
             [
              0.3333333333333333,
              "#9c179e"
             ],
             [
              0.4444444444444444,
              "#bd3786"
             ],
             [
              0.5555555555555556,
              "#d8576b"
             ],
             [
              0.6666666666666666,
              "#ed7953"
             ],
             [
              0.7777777777777778,
              "#fb9f3a"
             ],
             [
              0.8888888888888888,
              "#fdca26"
             ],
             [
              1,
              "#f0f921"
             ]
            ],
            "type": "histogram2dcontour"
           }
          ],
          "mesh3d": [
           {
            "colorbar": {
             "outlinewidth": 0,
             "ticks": ""
            },
            "type": "mesh3d"
           }
          ],
          "parcoords": [
           {
            "line": {
             "colorbar": {
              "outlinewidth": 0,
              "ticks": ""
             }
            },
            "type": "parcoords"
           }
          ],
          "pie": [
           {
            "automargin": true,
            "type": "pie"
           }
          ],
          "scatter": [
           {
            "fillpattern": {
             "fillmode": "overlay",
             "size": 10,
             "solidity": 0.2
            },
            "type": "scatter"
           }
          ],
          "scatter3d": [
           {
            "line": {
             "colorbar": {
              "outlinewidth": 0,
              "ticks": ""
             }
            },
            "marker": {
             "colorbar": {
              "outlinewidth": 0,
              "ticks": ""
             }
            },
            "type": "scatter3d"
           }
          ],
          "scattercarpet": [
           {
            "marker": {
             "colorbar": {
              "outlinewidth": 0,
              "ticks": ""
             }
            },
            "type": "scattercarpet"
           }
          ],
          "scattergeo": [
           {
            "marker": {
             "colorbar": {
              "outlinewidth": 0,
              "ticks": ""
             }
            },
            "type": "scattergeo"
           }
          ],
          "scattergl": [
           {
            "marker": {
             "colorbar": {
              "outlinewidth": 0,
              "ticks": ""
             }
            },
            "type": "scattergl"
           }
          ],
          "scattermapbox": [
           {
            "marker": {
             "colorbar": {
              "outlinewidth": 0,
              "ticks": ""
             }
            },
            "type": "scattermapbox"
           }
          ],
          "scatterpolar": [
           {
            "marker": {
             "colorbar": {
              "outlinewidth": 0,
              "ticks": ""
             }
            },
            "type": "scatterpolar"
           }
          ],
          "scatterpolargl": [
           {
            "marker": {
             "colorbar": {
              "outlinewidth": 0,
              "ticks": ""
             }
            },
            "type": "scatterpolargl"
           }
          ],
          "scatterternary": [
           {
            "marker": {
             "colorbar": {
              "outlinewidth": 0,
              "ticks": ""
             }
            },
            "type": "scatterternary"
           }
          ],
          "surface": [
           {
            "colorbar": {
             "outlinewidth": 0,
             "ticks": ""
            },
            "colorscale": [
             [
              0,
              "#0d0887"
             ],
             [
              0.1111111111111111,
              "#46039f"
             ],
             [
              0.2222222222222222,
              "#7201a8"
             ],
             [
              0.3333333333333333,
              "#9c179e"
             ],
             [
              0.4444444444444444,
              "#bd3786"
             ],
             [
              0.5555555555555556,
              "#d8576b"
             ],
             [
              0.6666666666666666,
              "#ed7953"
             ],
             [
              0.7777777777777778,
              "#fb9f3a"
             ],
             [
              0.8888888888888888,
              "#fdca26"
             ],
             [
              1,
              "#f0f921"
             ]
            ],
            "type": "surface"
           }
          ],
          "table": [
           {
            "cells": {
             "fill": {
              "color": "#EBF0F8"
             },
             "line": {
              "color": "white"
             }
            },
            "header": {
             "fill": {
              "color": "#C8D4E3"
             },
             "line": {
              "color": "white"
             }
            },
            "type": "table"
           }
          ]
         },
         "layout": {
          "annotationdefaults": {
           "arrowcolor": "#2a3f5f",
           "arrowhead": 0,
           "arrowwidth": 1
          },
          "autotypenumbers": "strict",
          "coloraxis": {
           "colorbar": {
            "outlinewidth": 0,
            "ticks": ""
           }
          },
          "colorscale": {
           "diverging": [
            [
             0,
             "#8e0152"
            ],
            [
             0.1,
             "#c51b7d"
            ],
            [
             0.2,
             "#de77ae"
            ],
            [
             0.3,
             "#f1b6da"
            ],
            [
             0.4,
             "#fde0ef"
            ],
            [
             0.5,
             "#f7f7f7"
            ],
            [
             0.6,
             "#e6f5d0"
            ],
            [
             0.7,
             "#b8e186"
            ],
            [
             0.8,
             "#7fbc41"
            ],
            [
             0.9,
             "#4d9221"
            ],
            [
             1,
             "#276419"
            ]
           ],
           "sequential": [
            [
             0,
             "#0d0887"
            ],
            [
             0.1111111111111111,
             "#46039f"
            ],
            [
             0.2222222222222222,
             "#7201a8"
            ],
            [
             0.3333333333333333,
             "#9c179e"
            ],
            [
             0.4444444444444444,
             "#bd3786"
            ],
            [
             0.5555555555555556,
             "#d8576b"
            ],
            [
             0.6666666666666666,
             "#ed7953"
            ],
            [
             0.7777777777777778,
             "#fb9f3a"
            ],
            [
             0.8888888888888888,
             "#fdca26"
            ],
            [
             1,
             "#f0f921"
            ]
           ],
           "sequentialminus": [
            [
             0,
             "#0d0887"
            ],
            [
             0.1111111111111111,
             "#46039f"
            ],
            [
             0.2222222222222222,
             "#7201a8"
            ],
            [
             0.3333333333333333,
             "#9c179e"
            ],
            [
             0.4444444444444444,
             "#bd3786"
            ],
            [
             0.5555555555555556,
             "#d8576b"
            ],
            [
             0.6666666666666666,
             "#ed7953"
            ],
            [
             0.7777777777777778,
             "#fb9f3a"
            ],
            [
             0.8888888888888888,
             "#fdca26"
            ],
            [
             1,
             "#f0f921"
            ]
           ]
          },
          "colorway": [
           "#636efa",
           "#EF553B",
           "#00cc96",
           "#ab63fa",
           "#FFA15A",
           "#19d3f3",
           "#FF6692",
           "#B6E880",
           "#FF97FF",
           "#FECB52"
          ],
          "font": {
           "color": "#2a3f5f"
          },
          "geo": {
           "bgcolor": "white",
           "lakecolor": "white",
           "landcolor": "#E5ECF6",
           "showlakes": true,
           "showland": true,
           "subunitcolor": "white"
          },
          "hoverlabel": {
           "align": "left"
          },
          "hovermode": "closest",
          "mapbox": {
           "style": "light"
          },
          "paper_bgcolor": "white",
          "plot_bgcolor": "#E5ECF6",
          "polar": {
           "angularaxis": {
            "gridcolor": "white",
            "linecolor": "white",
            "ticks": ""
           },
           "bgcolor": "#E5ECF6",
           "radialaxis": {
            "gridcolor": "white",
            "linecolor": "white",
            "ticks": ""
           }
          },
          "scene": {
           "xaxis": {
            "backgroundcolor": "#E5ECF6",
            "gridcolor": "white",
            "gridwidth": 2,
            "linecolor": "white",
            "showbackground": true,
            "ticks": "",
            "zerolinecolor": "white"
           },
           "yaxis": {
            "backgroundcolor": "#E5ECF6",
            "gridcolor": "white",
            "gridwidth": 2,
            "linecolor": "white",
            "showbackground": true,
            "ticks": "",
            "zerolinecolor": "white"
           },
           "zaxis": {
            "backgroundcolor": "#E5ECF6",
            "gridcolor": "white",
            "gridwidth": 2,
            "linecolor": "white",
            "showbackground": true,
            "ticks": "",
            "zerolinecolor": "white"
           }
          },
          "shapedefaults": {
           "line": {
            "color": "#2a3f5f"
           }
          },
          "ternary": {
           "aaxis": {
            "gridcolor": "white",
            "linecolor": "white",
            "ticks": ""
           },
           "baxis": {
            "gridcolor": "white",
            "linecolor": "white",
            "ticks": ""
           },
           "bgcolor": "#E5ECF6",
           "caxis": {
            "gridcolor": "white",
            "linecolor": "white",
            "ticks": ""
           }
          },
          "title": {
           "x": 0.05
          },
          "xaxis": {
           "automargin": true,
           "gridcolor": "white",
           "linecolor": "white",
           "ticks": "",
           "title": {
            "standoff": 15
           },
           "zerolinecolor": "white",
           "zerolinewidth": 2
          },
          "yaxis": {
           "automargin": true,
           "gridcolor": "white",
           "linecolor": "white",
           "ticks": "",
           "title": {
            "standoff": 15
           },
           "zerolinecolor": "white",
           "zerolinewidth": 2
          }
         }
        },
        "title": {
         "text": "KNN hyperparameters tunability (Bayes)"
        },
        "xaxis": {
         "anchor": "y",
         "domain": [
          0,
          1
         ],
         "title": {
          "text": "Hyperparameter"
         }
        },
        "yaxis": {
         "anchor": "x",
         "domain": [
          0,
          1
         ],
         "title": {
          "text": "Tunability"
         }
        }
       }
      }
     },
     "metadata": {},
     "output_type": "display_data"
    }
   ],
   "source": [
    "plot_boxplots_param_tunability('KNN', knn_bayes_params_tun, \"Bayes\")"
   ]
  },
  {
   "attachments": {},
   "cell_type": "markdown",
   "metadata": {
    "datalore": {
     "hide_input_from_viewers": true,
     "hide_output_from_viewers": true,
     "node_id": "noKjzVcyJ3OQ8ZV6kGpVJC",
     "type": "MD"
    }
   },
   "source": [
    "### XGBoost: Random Search"
   ]
  },
  {
   "cell_type": "code",
   "execution_count": 49,
   "metadata": {
    "datalore": {
     "hide_input_from_viewers": true,
     "hide_output_from_viewers": true,
     "node_id": "6kyJCGOpmOkHxcZzc9u8Xe",
     "type": "CODE"
    }
   },
   "outputs": [
    {
     "data": {
      "text/plain": [
       "{'n_estimators': array([], dtype=float64),\n",
       " 'eta': array([], dtype=float64),\n",
       " 'subsample': array([], dtype=float64),\n",
       " 'booster': array([], dtype=float64),\n",
       " 'max_depth': array([], dtype=float64),\n",
       " 'min_child_weight': array([], dtype=float64),\n",
       " 'colsample_bytree': array([], dtype=float64),\n",
       " 'alpha': array([], dtype=float64)}"
      ]
     },
     "execution_count": 49,
     "metadata": {},
     "output_type": "execute_result"
    }
   ],
   "source": [
    "xgboost_random_params_tun = {\n",
    "    param: np.array([]) for param in hyperparameters_random['XGboost'].keys()\n",
    "}\n",
    "xgboost_random_params_tun"
   ]
  },
  {
   "cell_type": "code",
   "execution_count": 50,
   "metadata": {
    "datalore": {
     "hide_input_from_viewers": true,
     "hide_output_from_viewers": true,
     "node_id": "A8vzpfjmyvTMlbqWytjpjy",
     "type": "CODE"
    }
   },
   "outputs": [
    {
     "name": "stdout",
     "output_type": "stream",
     "text": [
      "Current param: n_estimators\n",
      "Current param: eta\n",
      "Current param: subsample\n",
      "Current param: booster\n",
      "Current param: max_depth\n",
      "Current param: min_child_weight\n",
      "Current param: colsample_bytree\n",
      "Current param: alpha\n"
     ]
    }
   ],
   "source": [
    "for param_i in list(xgboost_random_params_tun.keys()):\n",
    "    print(f'Current param: {param_i}')\n",
    "    theta_i_stars_per_df = find_optimal_default_conf_param(\n",
    "        param_i_name=param_i,\n",
    "        params_hist=results_random['XGboost']['full_params_history'],\n",
    "        theta_star=xgboost_random_theta_star,\n",
    "        datasets_=datasets,\n",
    "        model_class=XGBClassifier,\n",
    "    )\n",
    "    param_i_tunability = measure_param_tunability(\n",
    "        theta_i_stars_per_df,\n",
    "        theta_star=xgboost_random_theta_star,\n",
    "        datasets_=datasets,\n",
    "        model_class=XGBClassifier,\n",
    "    )\n",
    "    xgboost_random_params_tun[param_i] = param_i_tunability"
   ]
  },
  {
   "cell_type": "code",
   "execution_count": 50,
   "metadata": {
    "datalore": {
     "hide_input_from_viewers": true,
     "hide_output_from_viewers": true,
     "node_id": "BKZA1hxdyLqMBXBKVaGcG4",
     "type": "CODE"
    }
   },
   "outputs": [
    {
     "data": {
      "application/vnd.plotly.v1+json": {
       "config": {
        "plotlyServerURL": "https://plot.ly"
       },
       "data": [
        {
         "alignmentgroup": "True",
         "hovertemplate": "Hyperparameter=%{x}<br>Tunability=%{y}<extra></extra>",
         "legendgroup": "",
         "marker": {
          "color": "#636efa"
         },
         "name": "",
         "notched": false,
         "offsetgroup": "",
         "orientation": "v",
         "showlegend": false,
         "type": "box",
         "x": [
          "n_estimators",
          "n_estimators",
          "n_estimators",
          "n_estimators",
          "eta",
          "eta",
          "eta",
          "eta",
          "subsample",
          "subsample",
          "subsample",
          "subsample",
          "booster",
          "booster",
          "booster",
          "booster",
          "max_depth",
          "max_depth",
          "max_depth",
          "max_depth",
          "min_child_weight",
          "min_child_weight",
          "min_child_weight",
          "min_child_weight",
          "colsample_bytree",
          "colsample_bytree",
          "colsample_bytree",
          "colsample_bytree",
          "alpha",
          "alpha",
          "alpha",
          "alpha"
         ],
         "x0": " ",
         "xaxis": "x",
         "y": [
          0,
          0,
          0,
          0,
          0,
          0,
          0,
          0,
          0,
          0,
          0,
          0,
          0,
          0,
          0,
          0,
          0,
          0,
          0,
          0,
          0,
          0,
          0,
          0,
          0,
          0,
          0,
          0,
          0,
          0,
          0,
          0
         ],
         "y0": " ",
         "yaxis": "y"
        }
       ],
       "layout": {
        "boxmode": "group",
        "legend": {
         "tracegroupgap": 0
        },
        "template": {
         "data": {
          "bar": [
           {
            "error_x": {
             "color": "#2a3f5f"
            },
            "error_y": {
             "color": "#2a3f5f"
            },
            "marker": {
             "line": {
              "color": "#E5ECF6",
              "width": 0.5
             },
             "pattern": {
              "fillmode": "overlay",
              "size": 10,
              "solidity": 0.2
             }
            },
            "type": "bar"
           }
          ],
          "barpolar": [
           {
            "marker": {
             "line": {
              "color": "#E5ECF6",
              "width": 0.5
             },
             "pattern": {
              "fillmode": "overlay",
              "size": 10,
              "solidity": 0.2
             }
            },
            "type": "barpolar"
           }
          ],
          "carpet": [
           {
            "aaxis": {
             "endlinecolor": "#2a3f5f",
             "gridcolor": "white",
             "linecolor": "white",
             "minorgridcolor": "white",
             "startlinecolor": "#2a3f5f"
            },
            "baxis": {
             "endlinecolor": "#2a3f5f",
             "gridcolor": "white",
             "linecolor": "white",
             "minorgridcolor": "white",
             "startlinecolor": "#2a3f5f"
            },
            "type": "carpet"
           }
          ],
          "choropleth": [
           {
            "colorbar": {
             "outlinewidth": 0,
             "ticks": ""
            },
            "type": "choropleth"
           }
          ],
          "contour": [
           {
            "colorbar": {
             "outlinewidth": 0,
             "ticks": ""
            },
            "colorscale": [
             [
              0,
              "#0d0887"
             ],
             [
              0.1111111111111111,
              "#46039f"
             ],
             [
              0.2222222222222222,
              "#7201a8"
             ],
             [
              0.3333333333333333,
              "#9c179e"
             ],
             [
              0.4444444444444444,
              "#bd3786"
             ],
             [
              0.5555555555555556,
              "#d8576b"
             ],
             [
              0.6666666666666666,
              "#ed7953"
             ],
             [
              0.7777777777777778,
              "#fb9f3a"
             ],
             [
              0.8888888888888888,
              "#fdca26"
             ],
             [
              1,
              "#f0f921"
             ]
            ],
            "type": "contour"
           }
          ],
          "contourcarpet": [
           {
            "colorbar": {
             "outlinewidth": 0,
             "ticks": ""
            },
            "type": "contourcarpet"
           }
          ],
          "heatmap": [
           {
            "colorbar": {
             "outlinewidth": 0,
             "ticks": ""
            },
            "colorscale": [
             [
              0,
              "#0d0887"
             ],
             [
              0.1111111111111111,
              "#46039f"
             ],
             [
              0.2222222222222222,
              "#7201a8"
             ],
             [
              0.3333333333333333,
              "#9c179e"
             ],
             [
              0.4444444444444444,
              "#bd3786"
             ],
             [
              0.5555555555555556,
              "#d8576b"
             ],
             [
              0.6666666666666666,
              "#ed7953"
             ],
             [
              0.7777777777777778,
              "#fb9f3a"
             ],
             [
              0.8888888888888888,
              "#fdca26"
             ],
             [
              1,
              "#f0f921"
             ]
            ],
            "type": "heatmap"
           }
          ],
          "heatmapgl": [
           {
            "colorbar": {
             "outlinewidth": 0,
             "ticks": ""
            },
            "colorscale": [
             [
              0,
              "#0d0887"
             ],
             [
              0.1111111111111111,
              "#46039f"
             ],
             [
              0.2222222222222222,
              "#7201a8"
             ],
             [
              0.3333333333333333,
              "#9c179e"
             ],
             [
              0.4444444444444444,
              "#bd3786"
             ],
             [
              0.5555555555555556,
              "#d8576b"
             ],
             [
              0.6666666666666666,
              "#ed7953"
             ],
             [
              0.7777777777777778,
              "#fb9f3a"
             ],
             [
              0.8888888888888888,
              "#fdca26"
             ],
             [
              1,
              "#f0f921"
             ]
            ],
            "type": "heatmapgl"
           }
          ],
          "histogram": [
           {
            "marker": {
             "pattern": {
              "fillmode": "overlay",
              "size": 10,
              "solidity": 0.2
             }
            },
            "type": "histogram"
           }
          ],
          "histogram2d": [
           {
            "colorbar": {
             "outlinewidth": 0,
             "ticks": ""
            },
            "colorscale": [
             [
              0,
              "#0d0887"
             ],
             [
              0.1111111111111111,
              "#46039f"
             ],
             [
              0.2222222222222222,
              "#7201a8"
             ],
             [
              0.3333333333333333,
              "#9c179e"
             ],
             [
              0.4444444444444444,
              "#bd3786"
             ],
             [
              0.5555555555555556,
              "#d8576b"
             ],
             [
              0.6666666666666666,
              "#ed7953"
             ],
             [
              0.7777777777777778,
              "#fb9f3a"
             ],
             [
              0.8888888888888888,
              "#fdca26"
             ],
             [
              1,
              "#f0f921"
             ]
            ],
            "type": "histogram2d"
           }
          ],
          "histogram2dcontour": [
           {
            "colorbar": {
             "outlinewidth": 0,
             "ticks": ""
            },
            "colorscale": [
             [
              0,
              "#0d0887"
             ],
             [
              0.1111111111111111,
              "#46039f"
             ],
             [
              0.2222222222222222,
              "#7201a8"
             ],
             [
              0.3333333333333333,
              "#9c179e"
             ],
             [
              0.4444444444444444,
              "#bd3786"
             ],
             [
              0.5555555555555556,
              "#d8576b"
             ],
             [
              0.6666666666666666,
              "#ed7953"
             ],
             [
              0.7777777777777778,
              "#fb9f3a"
             ],
             [
              0.8888888888888888,
              "#fdca26"
             ],
             [
              1,
              "#f0f921"
             ]
            ],
            "type": "histogram2dcontour"
           }
          ],
          "mesh3d": [
           {
            "colorbar": {
             "outlinewidth": 0,
             "ticks": ""
            },
            "type": "mesh3d"
           }
          ],
          "parcoords": [
           {
            "line": {
             "colorbar": {
              "outlinewidth": 0,
              "ticks": ""
             }
            },
            "type": "parcoords"
           }
          ],
          "pie": [
           {
            "automargin": true,
            "type": "pie"
           }
          ],
          "scatter": [
           {
            "fillpattern": {
             "fillmode": "overlay",
             "size": 10,
             "solidity": 0.2
            },
            "type": "scatter"
           }
          ],
          "scatter3d": [
           {
            "line": {
             "colorbar": {
              "outlinewidth": 0,
              "ticks": ""
             }
            },
            "marker": {
             "colorbar": {
              "outlinewidth": 0,
              "ticks": ""
             }
            },
            "type": "scatter3d"
           }
          ],
          "scattercarpet": [
           {
            "marker": {
             "colorbar": {
              "outlinewidth": 0,
              "ticks": ""
             }
            },
            "type": "scattercarpet"
           }
          ],
          "scattergeo": [
           {
            "marker": {
             "colorbar": {
              "outlinewidth": 0,
              "ticks": ""
             }
            },
            "type": "scattergeo"
           }
          ],
          "scattergl": [
           {
            "marker": {
             "colorbar": {
              "outlinewidth": 0,
              "ticks": ""
             }
            },
            "type": "scattergl"
           }
          ],
          "scattermapbox": [
           {
            "marker": {
             "colorbar": {
              "outlinewidth": 0,
              "ticks": ""
             }
            },
            "type": "scattermapbox"
           }
          ],
          "scatterpolar": [
           {
            "marker": {
             "colorbar": {
              "outlinewidth": 0,
              "ticks": ""
             }
            },
            "type": "scatterpolar"
           }
          ],
          "scatterpolargl": [
           {
            "marker": {
             "colorbar": {
              "outlinewidth": 0,
              "ticks": ""
             }
            },
            "type": "scatterpolargl"
           }
          ],
          "scatterternary": [
           {
            "marker": {
             "colorbar": {
              "outlinewidth": 0,
              "ticks": ""
             }
            },
            "type": "scatterternary"
           }
          ],
          "surface": [
           {
            "colorbar": {
             "outlinewidth": 0,
             "ticks": ""
            },
            "colorscale": [
             [
              0,
              "#0d0887"
             ],
             [
              0.1111111111111111,
              "#46039f"
             ],
             [
              0.2222222222222222,
              "#7201a8"
             ],
             [
              0.3333333333333333,
              "#9c179e"
             ],
             [
              0.4444444444444444,
              "#bd3786"
             ],
             [
              0.5555555555555556,
              "#d8576b"
             ],
             [
              0.6666666666666666,
              "#ed7953"
             ],
             [
              0.7777777777777778,
              "#fb9f3a"
             ],
             [
              0.8888888888888888,
              "#fdca26"
             ],
             [
              1,
              "#f0f921"
             ]
            ],
            "type": "surface"
           }
          ],
          "table": [
           {
            "cells": {
             "fill": {
              "color": "#EBF0F8"
             },
             "line": {
              "color": "white"
             }
            },
            "header": {
             "fill": {
              "color": "#C8D4E3"
             },
             "line": {
              "color": "white"
             }
            },
            "type": "table"
           }
          ]
         },
         "layout": {
          "annotationdefaults": {
           "arrowcolor": "#2a3f5f",
           "arrowhead": 0,
           "arrowwidth": 1
          },
          "autotypenumbers": "strict",
          "coloraxis": {
           "colorbar": {
            "outlinewidth": 0,
            "ticks": ""
           }
          },
          "colorscale": {
           "diverging": [
            [
             0,
             "#8e0152"
            ],
            [
             0.1,
             "#c51b7d"
            ],
            [
             0.2,
             "#de77ae"
            ],
            [
             0.3,
             "#f1b6da"
            ],
            [
             0.4,
             "#fde0ef"
            ],
            [
             0.5,
             "#f7f7f7"
            ],
            [
             0.6,
             "#e6f5d0"
            ],
            [
             0.7,
             "#b8e186"
            ],
            [
             0.8,
             "#7fbc41"
            ],
            [
             0.9,
             "#4d9221"
            ],
            [
             1,
             "#276419"
            ]
           ],
           "sequential": [
            [
             0,
             "#0d0887"
            ],
            [
             0.1111111111111111,
             "#46039f"
            ],
            [
             0.2222222222222222,
             "#7201a8"
            ],
            [
             0.3333333333333333,
             "#9c179e"
            ],
            [
             0.4444444444444444,
             "#bd3786"
            ],
            [
             0.5555555555555556,
             "#d8576b"
            ],
            [
             0.6666666666666666,
             "#ed7953"
            ],
            [
             0.7777777777777778,
             "#fb9f3a"
            ],
            [
             0.8888888888888888,
             "#fdca26"
            ],
            [
             1,
             "#f0f921"
            ]
           ],
           "sequentialminus": [
            [
             0,
             "#0d0887"
            ],
            [
             0.1111111111111111,
             "#46039f"
            ],
            [
             0.2222222222222222,
             "#7201a8"
            ],
            [
             0.3333333333333333,
             "#9c179e"
            ],
            [
             0.4444444444444444,
             "#bd3786"
            ],
            [
             0.5555555555555556,
             "#d8576b"
            ],
            [
             0.6666666666666666,
             "#ed7953"
            ],
            [
             0.7777777777777778,
             "#fb9f3a"
            ],
            [
             0.8888888888888888,
             "#fdca26"
            ],
            [
             1,
             "#f0f921"
            ]
           ]
          },
          "colorway": [
           "#636efa",
           "#EF553B",
           "#00cc96",
           "#ab63fa",
           "#FFA15A",
           "#19d3f3",
           "#FF6692",
           "#B6E880",
           "#FF97FF",
           "#FECB52"
          ],
          "font": {
           "color": "#2a3f5f"
          },
          "geo": {
           "bgcolor": "white",
           "lakecolor": "white",
           "landcolor": "#E5ECF6",
           "showlakes": true,
           "showland": true,
           "subunitcolor": "white"
          },
          "hoverlabel": {
           "align": "left"
          },
          "hovermode": "closest",
          "mapbox": {
           "style": "light"
          },
          "paper_bgcolor": "white",
          "plot_bgcolor": "#E5ECF6",
          "polar": {
           "angularaxis": {
            "gridcolor": "white",
            "linecolor": "white",
            "ticks": ""
           },
           "bgcolor": "#E5ECF6",
           "radialaxis": {
            "gridcolor": "white",
            "linecolor": "white",
            "ticks": ""
           }
          },
          "scene": {
           "xaxis": {
            "backgroundcolor": "#E5ECF6",
            "gridcolor": "white",
            "gridwidth": 2,
            "linecolor": "white",
            "showbackground": true,
            "ticks": "",
            "zerolinecolor": "white"
           },
           "yaxis": {
            "backgroundcolor": "#E5ECF6",
            "gridcolor": "white",
            "gridwidth": 2,
            "linecolor": "white",
            "showbackground": true,
            "ticks": "",
            "zerolinecolor": "white"
           },
           "zaxis": {
            "backgroundcolor": "#E5ECF6",
            "gridcolor": "white",
            "gridwidth": 2,
            "linecolor": "white",
            "showbackground": true,
            "ticks": "",
            "zerolinecolor": "white"
           }
          },
          "shapedefaults": {
           "line": {
            "color": "#2a3f5f"
           }
          },
          "ternary": {
           "aaxis": {
            "gridcolor": "white",
            "linecolor": "white",
            "ticks": ""
           },
           "baxis": {
            "gridcolor": "white",
            "linecolor": "white",
            "ticks": ""
           },
           "bgcolor": "#E5ECF6",
           "caxis": {
            "gridcolor": "white",
            "linecolor": "white",
            "ticks": ""
           }
          },
          "title": {
           "x": 0.05
          },
          "xaxis": {
           "automargin": true,
           "gridcolor": "white",
           "linecolor": "white",
           "ticks": "",
           "title": {
            "standoff": 15
           },
           "zerolinecolor": "white",
           "zerolinewidth": 2
          },
          "yaxis": {
           "automargin": true,
           "gridcolor": "white",
           "linecolor": "white",
           "ticks": "",
           "title": {
            "standoff": 15
           },
           "zerolinecolor": "white",
           "zerolinewidth": 2
          }
         }
        },
        "title": {
         "text": "XGboost hyperparameters tunability (Random)"
        },
        "xaxis": {
         "anchor": "y",
         "domain": [
          0,
          1
         ],
         "title": {
          "text": "Hyperparameter"
         }
        },
        "yaxis": {
         "anchor": "x",
         "domain": [
          0,
          1
         ],
         "title": {
          "text": "Tunability"
         }
        }
       }
      }
     },
     "metadata": {},
     "output_type": "display_data"
    }
   ],
   "source": [
    "plot_boxplots_param_tunability('XGboost', xgboost_random_params_tun, \"Random\")"
   ]
  },
  {
   "attachments": {},
   "cell_type": "markdown",
   "metadata": {
    "datalore": {
     "hide_input_from_viewers": true,
     "hide_output_from_viewers": true,
     "node_id": "V0SVhKBIMQ1Qgr04t9HyMB",
     "type": "MD"
    }
   },
   "source": [
    "### XGboost: Bayes Search"
   ]
  },
  {
   "cell_type": "code",
   "execution_count": 51,
   "metadata": {
    "datalore": {
     "hide_input_from_viewers": true,
     "hide_output_from_viewers": true,
     "node_id": "lFQVANDBoDToYfuF5eU39c",
     "type": "CODE"
    }
   },
   "outputs": [
    {
     "data": {
      "text/plain": [
       "{'n_estimators': array([], dtype=float64),\n",
       " 'eta': array([], dtype=float64),\n",
       " 'subsample': array([], dtype=float64),\n",
       " 'booster': array([], dtype=float64),\n",
       " 'max_depth': array([], dtype=float64),\n",
       " 'min_child_weight': array([], dtype=float64),\n",
       " 'colsample_bytree': array([], dtype=float64),\n",
       " 'alpha': array([], dtype=float64)}"
      ]
     },
     "execution_count": 51,
     "metadata": {},
     "output_type": "execute_result"
    }
   ],
   "source": [
    "xgboost_bayes_params_tun = {\n",
    "    param: np.array([]) for param in hyperparameters_bayes['XGboost'].keys()\n",
    "}\n",
    "xgboost_bayes_params_tun"
   ]
  },
  {
   "cell_type": "code",
   "execution_count": 52,
   "metadata": {
    "datalore": {
     "hide_input_from_viewers": true,
     "hide_output_from_viewers": true,
     "node_id": "Qnr3kAYfgxk9tlkJsxIXle",
     "type": "CODE"
    }
   },
   "outputs": [
    {
     "name": "stdout",
     "output_type": "stream",
     "text": [
      "Current param: n_estimators\n",
      "Current param: eta\n",
      "Current param: subsample\n",
      "Current param: booster\n",
      "Current param: max_depth\n",
      "Current param: min_child_weight\n",
      "Current param: colsample_bytree\n",
      "Current param: alpha\n"
     ]
    }
   ],
   "source": [
    "for param_i in list(xgboost_bayes_params_tun.keys()):\n",
    "    print(f'Current param: {param_i}')\n",
    "    theta_i_stars_per_df = find_optimal_default_conf_param(\n",
    "        param_i_name=param_i,\n",
    "        params_hist=results_bayes['XGboost']['full_params_history'],\n",
    "        theta_star=xgboost_bayes_theta_star,\n",
    "        datasets_=datasets,\n",
    "        model_class=XGBClassifier,\n",
    "    )\n",
    "    param_i_tunability = measure_param_tunability(\n",
    "        theta_i_stars_per_df,\n",
    "        theta_star=xgboost_bayes_theta_star,\n",
    "        datasets_=datasets,\n",
    "        model_class=XGBClassifier,\n",
    "    )\n",
    "    xgboost_bayes_params_tun[param_i] = param_i_tunability"
   ]
  },
  {
   "cell_type": "code",
   "execution_count": 55,
   "metadata": {
    "datalore": {
     "hide_input_from_viewers": true,
     "hide_output_from_viewers": true,
     "node_id": "tCJ2Dxlx9jE35x0Q17a1J0",
     "type": "CODE"
    }
   },
   "outputs": [
    {
     "data": {
      "application/vnd.plotly.v1+json": {
       "config": {
        "plotlyServerURL": "https://plot.ly"
       },
       "data": [
        {
         "alignmentgroup": "True",
         "hovertemplate": "Hyperparameter=%{x}<br>Tunability=%{y}<extra></extra>",
         "legendgroup": "",
         "marker": {
          "color": "#636efa"
         },
         "name": "",
         "notched": false,
         "offsetgroup": "",
         "orientation": "v",
         "showlegend": false,
         "type": "box",
         "x": [
          "n_estimators",
          "n_estimators",
          "n_estimators",
          "n_estimators",
          "eta",
          "eta",
          "eta",
          "eta",
          "subsample",
          "subsample",
          "subsample",
          "subsample",
          "booster",
          "booster",
          "booster",
          "booster",
          "max_depth",
          "max_depth",
          "max_depth",
          "max_depth",
          "min_child_weight",
          "min_child_weight",
          "min_child_weight",
          "min_child_weight",
          "colsample_bytree",
          "colsample_bytree",
          "colsample_bytree",
          "colsample_bytree",
          "alpha",
          "alpha",
          "alpha",
          "alpha"
         ],
         "x0": " ",
         "xaxis": "x",
         "y": [
          0.020000000000000018,
          0.020547945205479423,
          0,
          0,
          0.020000000000000018,
          0.020547945205479423,
          0,
          0.005319148936170248,
          0.040000000000000036,
          0.03424657534246567,
          0,
          0.005319148936170248,
          0,
          0,
          0,
          0,
          0,
          0,
          0,
          0,
          0.020000000000000018,
          0.020547945205479423,
          0,
          0,
          0,
          0.006849315068493067,
          0,
          0,
          0,
          0,
          0,
          0
         ],
         "y0": " ",
         "yaxis": "y"
        }
       ],
       "layout": {
        "boxmode": "group",
        "legend": {
         "tracegroupgap": 0
        },
        "template": {
         "data": {
          "bar": [
           {
            "error_x": {
             "color": "#2a3f5f"
            },
            "error_y": {
             "color": "#2a3f5f"
            },
            "marker": {
             "line": {
              "color": "#E5ECF6",
              "width": 0.5
             },
             "pattern": {
              "fillmode": "overlay",
              "size": 10,
              "solidity": 0.2
             }
            },
            "type": "bar"
           }
          ],
          "barpolar": [
           {
            "marker": {
             "line": {
              "color": "#E5ECF6",
              "width": 0.5
             },
             "pattern": {
              "fillmode": "overlay",
              "size": 10,
              "solidity": 0.2
             }
            },
            "type": "barpolar"
           }
          ],
          "carpet": [
           {
            "aaxis": {
             "endlinecolor": "#2a3f5f",
             "gridcolor": "white",
             "linecolor": "white",
             "minorgridcolor": "white",
             "startlinecolor": "#2a3f5f"
            },
            "baxis": {
             "endlinecolor": "#2a3f5f",
             "gridcolor": "white",
             "linecolor": "white",
             "minorgridcolor": "white",
             "startlinecolor": "#2a3f5f"
            },
            "type": "carpet"
           }
          ],
          "choropleth": [
           {
            "colorbar": {
             "outlinewidth": 0,
             "ticks": ""
            },
            "type": "choropleth"
           }
          ],
          "contour": [
           {
            "colorbar": {
             "outlinewidth": 0,
             "ticks": ""
            },
            "colorscale": [
             [
              0,
              "#0d0887"
             ],
             [
              0.1111111111111111,
              "#46039f"
             ],
             [
              0.2222222222222222,
              "#7201a8"
             ],
             [
              0.3333333333333333,
              "#9c179e"
             ],
             [
              0.4444444444444444,
              "#bd3786"
             ],
             [
              0.5555555555555556,
              "#d8576b"
             ],
             [
              0.6666666666666666,
              "#ed7953"
             ],
             [
              0.7777777777777778,
              "#fb9f3a"
             ],
             [
              0.8888888888888888,
              "#fdca26"
             ],
             [
              1,
              "#f0f921"
             ]
            ],
            "type": "contour"
           }
          ],
          "contourcarpet": [
           {
            "colorbar": {
             "outlinewidth": 0,
             "ticks": ""
            },
            "type": "contourcarpet"
           }
          ],
          "heatmap": [
           {
            "colorbar": {
             "outlinewidth": 0,
             "ticks": ""
            },
            "colorscale": [
             [
              0,
              "#0d0887"
             ],
             [
              0.1111111111111111,
              "#46039f"
             ],
             [
              0.2222222222222222,
              "#7201a8"
             ],
             [
              0.3333333333333333,
              "#9c179e"
             ],
             [
              0.4444444444444444,
              "#bd3786"
             ],
             [
              0.5555555555555556,
              "#d8576b"
             ],
             [
              0.6666666666666666,
              "#ed7953"
             ],
             [
              0.7777777777777778,
              "#fb9f3a"
             ],
             [
              0.8888888888888888,
              "#fdca26"
             ],
             [
              1,
              "#f0f921"
             ]
            ],
            "type": "heatmap"
           }
          ],
          "heatmapgl": [
           {
            "colorbar": {
             "outlinewidth": 0,
             "ticks": ""
            },
            "colorscale": [
             [
              0,
              "#0d0887"
             ],
             [
              0.1111111111111111,
              "#46039f"
             ],
             [
              0.2222222222222222,
              "#7201a8"
             ],
             [
              0.3333333333333333,
              "#9c179e"
             ],
             [
              0.4444444444444444,
              "#bd3786"
             ],
             [
              0.5555555555555556,
              "#d8576b"
             ],
             [
              0.6666666666666666,
              "#ed7953"
             ],
             [
              0.7777777777777778,
              "#fb9f3a"
             ],
             [
              0.8888888888888888,
              "#fdca26"
             ],
             [
              1,
              "#f0f921"
             ]
            ],
            "type": "heatmapgl"
           }
          ],
          "histogram": [
           {
            "marker": {
             "pattern": {
              "fillmode": "overlay",
              "size": 10,
              "solidity": 0.2
             }
            },
            "type": "histogram"
           }
          ],
          "histogram2d": [
           {
            "colorbar": {
             "outlinewidth": 0,
             "ticks": ""
            },
            "colorscale": [
             [
              0,
              "#0d0887"
             ],
             [
              0.1111111111111111,
              "#46039f"
             ],
             [
              0.2222222222222222,
              "#7201a8"
             ],
             [
              0.3333333333333333,
              "#9c179e"
             ],
             [
              0.4444444444444444,
              "#bd3786"
             ],
             [
              0.5555555555555556,
              "#d8576b"
             ],
             [
              0.6666666666666666,
              "#ed7953"
             ],
             [
              0.7777777777777778,
              "#fb9f3a"
             ],
             [
              0.8888888888888888,
              "#fdca26"
             ],
             [
              1,
              "#f0f921"
             ]
            ],
            "type": "histogram2d"
           }
          ],
          "histogram2dcontour": [
           {
            "colorbar": {
             "outlinewidth": 0,
             "ticks": ""
            },
            "colorscale": [
             [
              0,
              "#0d0887"
             ],
             [
              0.1111111111111111,
              "#46039f"
             ],
             [
              0.2222222222222222,
              "#7201a8"
             ],
             [
              0.3333333333333333,
              "#9c179e"
             ],
             [
              0.4444444444444444,
              "#bd3786"
             ],
             [
              0.5555555555555556,
              "#d8576b"
             ],
             [
              0.6666666666666666,
              "#ed7953"
             ],
             [
              0.7777777777777778,
              "#fb9f3a"
             ],
             [
              0.8888888888888888,
              "#fdca26"
             ],
             [
              1,
              "#f0f921"
             ]
            ],
            "type": "histogram2dcontour"
           }
          ],
          "mesh3d": [
           {
            "colorbar": {
             "outlinewidth": 0,
             "ticks": ""
            },
            "type": "mesh3d"
           }
          ],
          "parcoords": [
           {
            "line": {
             "colorbar": {
              "outlinewidth": 0,
              "ticks": ""
             }
            },
            "type": "parcoords"
           }
          ],
          "pie": [
           {
            "automargin": true,
            "type": "pie"
           }
          ],
          "scatter": [
           {
            "fillpattern": {
             "fillmode": "overlay",
             "size": 10,
             "solidity": 0.2
            },
            "type": "scatter"
           }
          ],
          "scatter3d": [
           {
            "line": {
             "colorbar": {
              "outlinewidth": 0,
              "ticks": ""
             }
            },
            "marker": {
             "colorbar": {
              "outlinewidth": 0,
              "ticks": ""
             }
            },
            "type": "scatter3d"
           }
          ],
          "scattercarpet": [
           {
            "marker": {
             "colorbar": {
              "outlinewidth": 0,
              "ticks": ""
             }
            },
            "type": "scattercarpet"
           }
          ],
          "scattergeo": [
           {
            "marker": {
             "colorbar": {
              "outlinewidth": 0,
              "ticks": ""
             }
            },
            "type": "scattergeo"
           }
          ],
          "scattergl": [
           {
            "marker": {
             "colorbar": {
              "outlinewidth": 0,
              "ticks": ""
             }
            },
            "type": "scattergl"
           }
          ],
          "scattermapbox": [
           {
            "marker": {
             "colorbar": {
              "outlinewidth": 0,
              "ticks": ""
             }
            },
            "type": "scattermapbox"
           }
          ],
          "scatterpolar": [
           {
            "marker": {
             "colorbar": {
              "outlinewidth": 0,
              "ticks": ""
             }
            },
            "type": "scatterpolar"
           }
          ],
          "scatterpolargl": [
           {
            "marker": {
             "colorbar": {
              "outlinewidth": 0,
              "ticks": ""
             }
            },
            "type": "scatterpolargl"
           }
          ],
          "scatterternary": [
           {
            "marker": {
             "colorbar": {
              "outlinewidth": 0,
              "ticks": ""
             }
            },
            "type": "scatterternary"
           }
          ],
          "surface": [
           {
            "colorbar": {
             "outlinewidth": 0,
             "ticks": ""
            },
            "colorscale": [
             [
              0,
              "#0d0887"
             ],
             [
              0.1111111111111111,
              "#46039f"
             ],
             [
              0.2222222222222222,
              "#7201a8"
             ],
             [
              0.3333333333333333,
              "#9c179e"
             ],
             [
              0.4444444444444444,
              "#bd3786"
             ],
             [
              0.5555555555555556,
              "#d8576b"
             ],
             [
              0.6666666666666666,
              "#ed7953"
             ],
             [
              0.7777777777777778,
              "#fb9f3a"
             ],
             [
              0.8888888888888888,
              "#fdca26"
             ],
             [
              1,
              "#f0f921"
             ]
            ],
            "type": "surface"
           }
          ],
          "table": [
           {
            "cells": {
             "fill": {
              "color": "#EBF0F8"
             },
             "line": {
              "color": "white"
             }
            },
            "header": {
             "fill": {
              "color": "#C8D4E3"
             },
             "line": {
              "color": "white"
             }
            },
            "type": "table"
           }
          ]
         },
         "layout": {
          "annotationdefaults": {
           "arrowcolor": "#2a3f5f",
           "arrowhead": 0,
           "arrowwidth": 1
          },
          "autotypenumbers": "strict",
          "coloraxis": {
           "colorbar": {
            "outlinewidth": 0,
            "ticks": ""
           }
          },
          "colorscale": {
           "diverging": [
            [
             0,
             "#8e0152"
            ],
            [
             0.1,
             "#c51b7d"
            ],
            [
             0.2,
             "#de77ae"
            ],
            [
             0.3,
             "#f1b6da"
            ],
            [
             0.4,
             "#fde0ef"
            ],
            [
             0.5,
             "#f7f7f7"
            ],
            [
             0.6,
             "#e6f5d0"
            ],
            [
             0.7,
             "#b8e186"
            ],
            [
             0.8,
             "#7fbc41"
            ],
            [
             0.9,
             "#4d9221"
            ],
            [
             1,
             "#276419"
            ]
           ],
           "sequential": [
            [
             0,
             "#0d0887"
            ],
            [
             0.1111111111111111,
             "#46039f"
            ],
            [
             0.2222222222222222,
             "#7201a8"
            ],
            [
             0.3333333333333333,
             "#9c179e"
            ],
            [
             0.4444444444444444,
             "#bd3786"
            ],
            [
             0.5555555555555556,
             "#d8576b"
            ],
            [
             0.6666666666666666,
             "#ed7953"
            ],
            [
             0.7777777777777778,
             "#fb9f3a"
            ],
            [
             0.8888888888888888,
             "#fdca26"
            ],
            [
             1,
             "#f0f921"
            ]
           ],
           "sequentialminus": [
            [
             0,
             "#0d0887"
            ],
            [
             0.1111111111111111,
             "#46039f"
            ],
            [
             0.2222222222222222,
             "#7201a8"
            ],
            [
             0.3333333333333333,
             "#9c179e"
            ],
            [
             0.4444444444444444,
             "#bd3786"
            ],
            [
             0.5555555555555556,
             "#d8576b"
            ],
            [
             0.6666666666666666,
             "#ed7953"
            ],
            [
             0.7777777777777778,
             "#fb9f3a"
            ],
            [
             0.8888888888888888,
             "#fdca26"
            ],
            [
             1,
             "#f0f921"
            ]
           ]
          },
          "colorway": [
           "#636efa",
           "#EF553B",
           "#00cc96",
           "#ab63fa",
           "#FFA15A",
           "#19d3f3",
           "#FF6692",
           "#B6E880",
           "#FF97FF",
           "#FECB52"
          ],
          "font": {
           "color": "#2a3f5f"
          },
          "geo": {
           "bgcolor": "white",
           "lakecolor": "white",
           "landcolor": "#E5ECF6",
           "showlakes": true,
           "showland": true,
           "subunitcolor": "white"
          },
          "hoverlabel": {
           "align": "left"
          },
          "hovermode": "closest",
          "mapbox": {
           "style": "light"
          },
          "paper_bgcolor": "white",
          "plot_bgcolor": "#E5ECF6",
          "polar": {
           "angularaxis": {
            "gridcolor": "white",
            "linecolor": "white",
            "ticks": ""
           },
           "bgcolor": "#E5ECF6",
           "radialaxis": {
            "gridcolor": "white",
            "linecolor": "white",
            "ticks": ""
           }
          },
          "scene": {
           "xaxis": {
            "backgroundcolor": "#E5ECF6",
            "gridcolor": "white",
            "gridwidth": 2,
            "linecolor": "white",
            "showbackground": true,
            "ticks": "",
            "zerolinecolor": "white"
           },
           "yaxis": {
            "backgroundcolor": "#E5ECF6",
            "gridcolor": "white",
            "gridwidth": 2,
            "linecolor": "white",
            "showbackground": true,
            "ticks": "",
            "zerolinecolor": "white"
           },
           "zaxis": {
            "backgroundcolor": "#E5ECF6",
            "gridcolor": "white",
            "gridwidth": 2,
            "linecolor": "white",
            "showbackground": true,
            "ticks": "",
            "zerolinecolor": "white"
           }
          },
          "shapedefaults": {
           "line": {
            "color": "#2a3f5f"
           }
          },
          "ternary": {
           "aaxis": {
            "gridcolor": "white",
            "linecolor": "white",
            "ticks": ""
           },
           "baxis": {
            "gridcolor": "white",
            "linecolor": "white",
            "ticks": ""
           },
           "bgcolor": "#E5ECF6",
           "caxis": {
            "gridcolor": "white",
            "linecolor": "white",
            "ticks": ""
           }
          },
          "title": {
           "x": 0.05
          },
          "xaxis": {
           "automargin": true,
           "gridcolor": "white",
           "linecolor": "white",
           "ticks": "",
           "title": {
            "standoff": 15
           },
           "zerolinecolor": "white",
           "zerolinewidth": 2
          },
          "yaxis": {
           "automargin": true,
           "gridcolor": "white",
           "linecolor": "white",
           "ticks": "",
           "title": {
            "standoff": 15
           },
           "zerolinecolor": "white",
           "zerolinewidth": 2
          }
         }
        },
        "title": {
         "text": "XGboost hyperparameters tunability (Bayes)"
        },
        "xaxis": {
         "anchor": "y",
         "domain": [
          0,
          1
         ],
         "title": {
          "text": "Hyperparameter"
         }
        },
        "yaxis": {
         "anchor": "x",
         "domain": [
          0,
          1
         ],
         "title": {
          "text": "Tunability"
         }
        }
       }
      }
     },
     "metadata": {},
     "output_type": "display_data"
    }
   ],
   "source": [
    "plot_boxplots_param_tunability('XGboost', xgboost_bayes_params_tun, \"Bayes\")"
   ]
  },
  {
   "attachments": {},
   "cell_type": "markdown",
   "metadata": {
    "datalore": {
     "hide_input_from_viewers": true,
     "hide_output_from_viewers": true,
     "node_id": "tGOHH12U80ho4My90pOD87",
     "type": "MD"
    }
   },
   "source": [
    "### Random Forest: Random Search"
   ]
  },
  {
   "cell_type": "code",
   "execution_count": 53,
   "metadata": {
    "datalore": {
     "hide_input_from_viewers": true,
     "hide_output_from_viewers": true,
     "node_id": "wz2KjVlEL7g4kWzs4Hds3s",
     "type": "CODE"
    }
   },
   "outputs": [
    {
     "data": {
      "text/plain": [
       "{'n_estimators': array([], dtype=float64),\n",
       " 'max_depth': array([], dtype=float64),\n",
       " 'max_features': array([], dtype=float64),\n",
       " 'max_samples': array([], dtype=float64),\n",
       " 'min_samples_leaf': array([], dtype=float64)}"
      ]
     },
     "execution_count": 53,
     "metadata": {},
     "output_type": "execute_result"
    }
   ],
   "source": [
    "rf_random_params_tun = {\n",
    "    param: np.array([]) for param in hyperparameters_random['Random Forest'].keys()\n",
    "}\n",
    "rf_random_params_tun"
   ]
  },
  {
   "cell_type": "code",
   "execution_count": 54,
   "metadata": {
    "datalore": {
     "hide_input_from_viewers": true,
     "hide_output_from_viewers": true,
     "node_id": "6aS4vDajlgVemMzmGXATvC",
     "type": "CODE"
    }
   },
   "outputs": [
    {
     "name": "stdout",
     "output_type": "stream",
     "text": [
      "Current param: n_estimators\n",
      "Current param: max_depth\n",
      "Current param: max_features\n",
      "Current param: max_samples\n",
      "Current param: min_samples_leaf\n"
     ]
    }
   ],
   "source": [
    "for param_i in list(rf_random_params_tun.keys()):\n",
    "    print(f'Current param: {param_i}')\n",
    "    theta_i_stars_per_df = find_optimal_default_conf_param(\n",
    "        param_i_name=param_i,\n",
    "        params_hist=results_random['Random Forest']['full_params_history'],\n",
    "        theta_star=rf_random_theta_star,\n",
    "        datasets_=datasets,\n",
    "        model_class=RandomForestClassifier,\n",
    "    )\n",
    "    param_i_tunability = measure_param_tunability(\n",
    "        theta_i_stars_per_df,\n",
    "        theta_star=rf_random_theta_star,\n",
    "        datasets_=datasets,\n",
    "        model_class=RandomForestClassifier,\n",
    "    )\n",
    "    rf_random_params_tun[param_i] = param_i_tunability"
   ]
  },
  {
   "cell_type": "code",
   "execution_count": 56,
   "metadata": {
    "datalore": {
     "hide_input_from_viewers": true,
     "hide_output_from_viewers": true,
     "node_id": "SgbBuMDdL2uNf3PzPaV3lP",
     "type": "CODE"
    }
   },
   "outputs": [
    {
     "data": {
      "application/vnd.plotly.v1+json": {
       "config": {
        "plotlyServerURL": "https://plot.ly"
       },
       "data": [
        {
         "alignmentgroup": "True",
         "hovertemplate": "Hyperparameter=%{x}<br>Tunability=%{y}<extra></extra>",
         "legendgroup": "",
         "marker": {
          "color": "#636efa"
         },
         "name": "",
         "notched": false,
         "offsetgroup": "",
         "orientation": "v",
         "showlegend": false,
         "type": "box",
         "x": [
          "n_estimators",
          "n_estimators",
          "n_estimators",
          "n_estimators",
          "max_depth",
          "max_depth",
          "max_depth",
          "max_depth",
          "max_features",
          "max_features",
          "max_features",
          "max_features",
          "max_samples",
          "max_samples",
          "max_samples",
          "max_samples",
          "min_samples_leaf",
          "min_samples_leaf",
          "min_samples_leaf",
          "min_samples_leaf"
         ],
         "x0": " ",
         "xaxis": "x",
         "y": [
          -0.020000000000000018,
          -0.006849315068493178,
          0.016949152542372836,
          0,
          0,
          0.013698630136986245,
          0,
          0.005319148936170137,
          0,
          0.013698630136986356,
          0.016949152542372836,
          -0.010638297872340385,
          0.020000000000000018,
          0.020547945205479423,
          0,
          0.005319148936170248,
          0.020000000000000018,
          0.020547945205479423,
          -0.016949152542372947,
          0.005319148936170248
         ],
         "y0": " ",
         "yaxis": "y"
        }
       ],
       "layout": {
        "boxmode": "group",
        "legend": {
         "tracegroupgap": 0
        },
        "template": {
         "data": {
          "bar": [
           {
            "error_x": {
             "color": "#2a3f5f"
            },
            "error_y": {
             "color": "#2a3f5f"
            },
            "marker": {
             "line": {
              "color": "#E5ECF6",
              "width": 0.5
             },
             "pattern": {
              "fillmode": "overlay",
              "size": 10,
              "solidity": 0.2
             }
            },
            "type": "bar"
           }
          ],
          "barpolar": [
           {
            "marker": {
             "line": {
              "color": "#E5ECF6",
              "width": 0.5
             },
             "pattern": {
              "fillmode": "overlay",
              "size": 10,
              "solidity": 0.2
             }
            },
            "type": "barpolar"
           }
          ],
          "carpet": [
           {
            "aaxis": {
             "endlinecolor": "#2a3f5f",
             "gridcolor": "white",
             "linecolor": "white",
             "minorgridcolor": "white",
             "startlinecolor": "#2a3f5f"
            },
            "baxis": {
             "endlinecolor": "#2a3f5f",
             "gridcolor": "white",
             "linecolor": "white",
             "minorgridcolor": "white",
             "startlinecolor": "#2a3f5f"
            },
            "type": "carpet"
           }
          ],
          "choropleth": [
           {
            "colorbar": {
             "outlinewidth": 0,
             "ticks": ""
            },
            "type": "choropleth"
           }
          ],
          "contour": [
           {
            "colorbar": {
             "outlinewidth": 0,
             "ticks": ""
            },
            "colorscale": [
             [
              0,
              "#0d0887"
             ],
             [
              0.1111111111111111,
              "#46039f"
             ],
             [
              0.2222222222222222,
              "#7201a8"
             ],
             [
              0.3333333333333333,
              "#9c179e"
             ],
             [
              0.4444444444444444,
              "#bd3786"
             ],
             [
              0.5555555555555556,
              "#d8576b"
             ],
             [
              0.6666666666666666,
              "#ed7953"
             ],
             [
              0.7777777777777778,
              "#fb9f3a"
             ],
             [
              0.8888888888888888,
              "#fdca26"
             ],
             [
              1,
              "#f0f921"
             ]
            ],
            "type": "contour"
           }
          ],
          "contourcarpet": [
           {
            "colorbar": {
             "outlinewidth": 0,
             "ticks": ""
            },
            "type": "contourcarpet"
           }
          ],
          "heatmap": [
           {
            "colorbar": {
             "outlinewidth": 0,
             "ticks": ""
            },
            "colorscale": [
             [
              0,
              "#0d0887"
             ],
             [
              0.1111111111111111,
              "#46039f"
             ],
             [
              0.2222222222222222,
              "#7201a8"
             ],
             [
              0.3333333333333333,
              "#9c179e"
             ],
             [
              0.4444444444444444,
              "#bd3786"
             ],
             [
              0.5555555555555556,
              "#d8576b"
             ],
             [
              0.6666666666666666,
              "#ed7953"
             ],
             [
              0.7777777777777778,
              "#fb9f3a"
             ],
             [
              0.8888888888888888,
              "#fdca26"
             ],
             [
              1,
              "#f0f921"
             ]
            ],
            "type": "heatmap"
           }
          ],
          "heatmapgl": [
           {
            "colorbar": {
             "outlinewidth": 0,
             "ticks": ""
            },
            "colorscale": [
             [
              0,
              "#0d0887"
             ],
             [
              0.1111111111111111,
              "#46039f"
             ],
             [
              0.2222222222222222,
              "#7201a8"
             ],
             [
              0.3333333333333333,
              "#9c179e"
             ],
             [
              0.4444444444444444,
              "#bd3786"
             ],
             [
              0.5555555555555556,
              "#d8576b"
             ],
             [
              0.6666666666666666,
              "#ed7953"
             ],
             [
              0.7777777777777778,
              "#fb9f3a"
             ],
             [
              0.8888888888888888,
              "#fdca26"
             ],
             [
              1,
              "#f0f921"
             ]
            ],
            "type": "heatmapgl"
           }
          ],
          "histogram": [
           {
            "marker": {
             "pattern": {
              "fillmode": "overlay",
              "size": 10,
              "solidity": 0.2
             }
            },
            "type": "histogram"
           }
          ],
          "histogram2d": [
           {
            "colorbar": {
             "outlinewidth": 0,
             "ticks": ""
            },
            "colorscale": [
             [
              0,
              "#0d0887"
             ],
             [
              0.1111111111111111,
              "#46039f"
             ],
             [
              0.2222222222222222,
              "#7201a8"
             ],
             [
              0.3333333333333333,
              "#9c179e"
             ],
             [
              0.4444444444444444,
              "#bd3786"
             ],
             [
              0.5555555555555556,
              "#d8576b"
             ],
             [
              0.6666666666666666,
              "#ed7953"
             ],
             [
              0.7777777777777778,
              "#fb9f3a"
             ],
             [
              0.8888888888888888,
              "#fdca26"
             ],
             [
              1,
              "#f0f921"
             ]
            ],
            "type": "histogram2d"
           }
          ],
          "histogram2dcontour": [
           {
            "colorbar": {
             "outlinewidth": 0,
             "ticks": ""
            },
            "colorscale": [
             [
              0,
              "#0d0887"
             ],
             [
              0.1111111111111111,
              "#46039f"
             ],
             [
              0.2222222222222222,
              "#7201a8"
             ],
             [
              0.3333333333333333,
              "#9c179e"
             ],
             [
              0.4444444444444444,
              "#bd3786"
             ],
             [
              0.5555555555555556,
              "#d8576b"
             ],
             [
              0.6666666666666666,
              "#ed7953"
             ],
             [
              0.7777777777777778,
              "#fb9f3a"
             ],
             [
              0.8888888888888888,
              "#fdca26"
             ],
             [
              1,
              "#f0f921"
             ]
            ],
            "type": "histogram2dcontour"
           }
          ],
          "mesh3d": [
           {
            "colorbar": {
             "outlinewidth": 0,
             "ticks": ""
            },
            "type": "mesh3d"
           }
          ],
          "parcoords": [
           {
            "line": {
             "colorbar": {
              "outlinewidth": 0,
              "ticks": ""
             }
            },
            "type": "parcoords"
           }
          ],
          "pie": [
           {
            "automargin": true,
            "type": "pie"
           }
          ],
          "scatter": [
           {
            "fillpattern": {
             "fillmode": "overlay",
             "size": 10,
             "solidity": 0.2
            },
            "type": "scatter"
           }
          ],
          "scatter3d": [
           {
            "line": {
             "colorbar": {
              "outlinewidth": 0,
              "ticks": ""
             }
            },
            "marker": {
             "colorbar": {
              "outlinewidth": 0,
              "ticks": ""
             }
            },
            "type": "scatter3d"
           }
          ],
          "scattercarpet": [
           {
            "marker": {
             "colorbar": {
              "outlinewidth": 0,
              "ticks": ""
             }
            },
            "type": "scattercarpet"
           }
          ],
          "scattergeo": [
           {
            "marker": {
             "colorbar": {
              "outlinewidth": 0,
              "ticks": ""
             }
            },
            "type": "scattergeo"
           }
          ],
          "scattergl": [
           {
            "marker": {
             "colorbar": {
              "outlinewidth": 0,
              "ticks": ""
             }
            },
            "type": "scattergl"
           }
          ],
          "scattermapbox": [
           {
            "marker": {
             "colorbar": {
              "outlinewidth": 0,
              "ticks": ""
             }
            },
            "type": "scattermapbox"
           }
          ],
          "scatterpolar": [
           {
            "marker": {
             "colorbar": {
              "outlinewidth": 0,
              "ticks": ""
             }
            },
            "type": "scatterpolar"
           }
          ],
          "scatterpolargl": [
           {
            "marker": {
             "colorbar": {
              "outlinewidth": 0,
              "ticks": ""
             }
            },
            "type": "scatterpolargl"
           }
          ],
          "scatterternary": [
           {
            "marker": {
             "colorbar": {
              "outlinewidth": 0,
              "ticks": ""
             }
            },
            "type": "scatterternary"
           }
          ],
          "surface": [
           {
            "colorbar": {
             "outlinewidth": 0,
             "ticks": ""
            },
            "colorscale": [
             [
              0,
              "#0d0887"
             ],
             [
              0.1111111111111111,
              "#46039f"
             ],
             [
              0.2222222222222222,
              "#7201a8"
             ],
             [
              0.3333333333333333,
              "#9c179e"
             ],
             [
              0.4444444444444444,
              "#bd3786"
             ],
             [
              0.5555555555555556,
              "#d8576b"
             ],
             [
              0.6666666666666666,
              "#ed7953"
             ],
             [
              0.7777777777777778,
              "#fb9f3a"
             ],
             [
              0.8888888888888888,
              "#fdca26"
             ],
             [
              1,
              "#f0f921"
             ]
            ],
            "type": "surface"
           }
          ],
          "table": [
           {
            "cells": {
             "fill": {
              "color": "#EBF0F8"
             },
             "line": {
              "color": "white"
             }
            },
            "header": {
             "fill": {
              "color": "#C8D4E3"
             },
             "line": {
              "color": "white"
             }
            },
            "type": "table"
           }
          ]
         },
         "layout": {
          "annotationdefaults": {
           "arrowcolor": "#2a3f5f",
           "arrowhead": 0,
           "arrowwidth": 1
          },
          "autotypenumbers": "strict",
          "coloraxis": {
           "colorbar": {
            "outlinewidth": 0,
            "ticks": ""
           }
          },
          "colorscale": {
           "diverging": [
            [
             0,
             "#8e0152"
            ],
            [
             0.1,
             "#c51b7d"
            ],
            [
             0.2,
             "#de77ae"
            ],
            [
             0.3,
             "#f1b6da"
            ],
            [
             0.4,
             "#fde0ef"
            ],
            [
             0.5,
             "#f7f7f7"
            ],
            [
             0.6,
             "#e6f5d0"
            ],
            [
             0.7,
             "#b8e186"
            ],
            [
             0.8,
             "#7fbc41"
            ],
            [
             0.9,
             "#4d9221"
            ],
            [
             1,
             "#276419"
            ]
           ],
           "sequential": [
            [
             0,
             "#0d0887"
            ],
            [
             0.1111111111111111,
             "#46039f"
            ],
            [
             0.2222222222222222,
             "#7201a8"
            ],
            [
             0.3333333333333333,
             "#9c179e"
            ],
            [
             0.4444444444444444,
             "#bd3786"
            ],
            [
             0.5555555555555556,
             "#d8576b"
            ],
            [
             0.6666666666666666,
             "#ed7953"
            ],
            [
             0.7777777777777778,
             "#fb9f3a"
            ],
            [
             0.8888888888888888,
             "#fdca26"
            ],
            [
             1,
             "#f0f921"
            ]
           ],
           "sequentialminus": [
            [
             0,
             "#0d0887"
            ],
            [
             0.1111111111111111,
             "#46039f"
            ],
            [
             0.2222222222222222,
             "#7201a8"
            ],
            [
             0.3333333333333333,
             "#9c179e"
            ],
            [
             0.4444444444444444,
             "#bd3786"
            ],
            [
             0.5555555555555556,
             "#d8576b"
            ],
            [
             0.6666666666666666,
             "#ed7953"
            ],
            [
             0.7777777777777778,
             "#fb9f3a"
            ],
            [
             0.8888888888888888,
             "#fdca26"
            ],
            [
             1,
             "#f0f921"
            ]
           ]
          },
          "colorway": [
           "#636efa",
           "#EF553B",
           "#00cc96",
           "#ab63fa",
           "#FFA15A",
           "#19d3f3",
           "#FF6692",
           "#B6E880",
           "#FF97FF",
           "#FECB52"
          ],
          "font": {
           "color": "#2a3f5f"
          },
          "geo": {
           "bgcolor": "white",
           "lakecolor": "white",
           "landcolor": "#E5ECF6",
           "showlakes": true,
           "showland": true,
           "subunitcolor": "white"
          },
          "hoverlabel": {
           "align": "left"
          },
          "hovermode": "closest",
          "mapbox": {
           "style": "light"
          },
          "paper_bgcolor": "white",
          "plot_bgcolor": "#E5ECF6",
          "polar": {
           "angularaxis": {
            "gridcolor": "white",
            "linecolor": "white",
            "ticks": ""
           },
           "bgcolor": "#E5ECF6",
           "radialaxis": {
            "gridcolor": "white",
            "linecolor": "white",
            "ticks": ""
           }
          },
          "scene": {
           "xaxis": {
            "backgroundcolor": "#E5ECF6",
            "gridcolor": "white",
            "gridwidth": 2,
            "linecolor": "white",
            "showbackground": true,
            "ticks": "",
            "zerolinecolor": "white"
           },
           "yaxis": {
            "backgroundcolor": "#E5ECF6",
            "gridcolor": "white",
            "gridwidth": 2,
            "linecolor": "white",
            "showbackground": true,
            "ticks": "",
            "zerolinecolor": "white"
           },
           "zaxis": {
            "backgroundcolor": "#E5ECF6",
            "gridcolor": "white",
            "gridwidth": 2,
            "linecolor": "white",
            "showbackground": true,
            "ticks": "",
            "zerolinecolor": "white"
           }
          },
          "shapedefaults": {
           "line": {
            "color": "#2a3f5f"
           }
          },
          "ternary": {
           "aaxis": {
            "gridcolor": "white",
            "linecolor": "white",
            "ticks": ""
           },
           "baxis": {
            "gridcolor": "white",
            "linecolor": "white",
            "ticks": ""
           },
           "bgcolor": "#E5ECF6",
           "caxis": {
            "gridcolor": "white",
            "linecolor": "white",
            "ticks": ""
           }
          },
          "title": {
           "x": 0.05
          },
          "xaxis": {
           "automargin": true,
           "gridcolor": "white",
           "linecolor": "white",
           "ticks": "",
           "title": {
            "standoff": 15
           },
           "zerolinecolor": "white",
           "zerolinewidth": 2
          },
          "yaxis": {
           "automargin": true,
           "gridcolor": "white",
           "linecolor": "white",
           "ticks": "",
           "title": {
            "standoff": 15
           },
           "zerolinecolor": "white",
           "zerolinewidth": 2
          }
         }
        },
        "title": {
         "text": "Random Forest hyperparameters tunability (Random)"
        },
        "xaxis": {
         "anchor": "y",
         "domain": [
          0,
          1
         ],
         "title": {
          "text": "Hyperparameter"
         }
        },
        "yaxis": {
         "anchor": "x",
         "domain": [
          0,
          1
         ],
         "title": {
          "text": "Tunability"
         }
        }
       }
      }
     },
     "metadata": {},
     "output_type": "display_data"
    }
   ],
   "source": [
    "plot_boxplots_param_tunability('Random Forest', rf_random_params_tun, \"Random\")"
   ]
  },
  {
   "attachments": {},
   "cell_type": "markdown",
   "metadata": {
    "datalore": {
     "hide_input_from_viewers": true,
     "hide_output_from_viewers": true,
     "node_id": "KAVZHGKCbVuVF8iInpVpk9",
     "type": "MD"
    }
   },
   "source": [
    "### Random Forest: Bayes Search"
   ]
  },
  {
   "cell_type": "code",
   "execution_count": 41,
   "metadata": {
    "datalore": {
     "hide_input_from_viewers": true,
     "hide_output_from_viewers": true,
     "node_id": "cCsz0mAmGp5LeuX7xhO6iY",
     "type": "CODE"
    }
   },
   "outputs": [
    {
     "data": {
      "text/plain": [
       "{'n_estimators': array([], dtype=float64),\n",
       " 'max_depth': array([], dtype=float64),\n",
       " 'max_features': array([], dtype=float64),\n",
       " 'max_samples': array([], dtype=float64),\n",
       " 'min_samples_leaf': array([], dtype=float64)}"
      ]
     },
     "execution_count": 41,
     "metadata": {},
     "output_type": "execute_result"
    }
   ],
   "source": [
    "rf_bayes_params_tun = {\n",
    "    param: np.array([]) for param in hyperparameters_bayes['Random Forest'].keys()\n",
    "}\n",
    "rf_bayes_params_tun"
   ]
  },
  {
   "cell_type": "code",
   "execution_count": 42,
   "metadata": {
    "datalore": {
     "hide_input_from_viewers": true,
     "hide_output_from_viewers": true,
     "node_id": "Slbs9qRHlgUt5PyUTBh9jx",
     "type": "CODE"
    }
   },
   "outputs": [
    {
     "name": "stdout",
     "output_type": "stream",
     "text": [
      "Current param: n_estimators\n",
      "Current param: max_depth\n",
      "Current param: max_features\n",
      "Current param: max_samples\n",
      "Current param: min_samples_leaf\n"
     ]
    }
   ],
   "source": [
    "for param_i in list(rf_bayes_params_tun.keys()):\n",
    "    print(f'Current param: {param_i}')\n",
    "    theta_i_stars_per_df = find_optimal_default_conf_param(\n",
    "        param_i_name=param_i,\n",
    "        params_hist=results_bayes['Random Forest']['full_params_history'],\n",
    "        theta_star=rf_bayes_theta_star,\n",
    "        datasets_=datasets,\n",
    "        model_class=RandomForestClassifier,\n",
    "    )\n",
    "    param_i_tunability = measure_param_tunability(\n",
    "        theta_i_stars_per_df,\n",
    "        theta_star=rf_bayes_theta_star,\n",
    "        datasets_=datasets,\n",
    "        model_class=RandomForestClassifier,\n",
    "    )\n",
    "    rf_bayes_params_tun[param_i] = param_i_tunability"
   ]
  },
  {
   "cell_type": "code",
   "execution_count": 43,
   "metadata": {
    "datalore": {
     "hide_input_from_viewers": true,
     "hide_output_from_viewers": true,
     "node_id": "42pkaZ1CvSGfki9fUr1T29",
     "type": "CODE"
    }
   },
   "outputs": [
    {
     "data": {
      "application/vnd.plotly.v1+json": {
       "config": {
        "plotlyServerURL": "https://plot.ly"
       },
       "data": [
        {
         "alignmentgroup": "True",
         "hovertemplate": "Hyperparameter=%{x}<br>Tunability=%{y}<extra></extra>",
         "legendgroup": "",
         "marker": {
          "color": "#636efa"
         },
         "name": "",
         "notched": false,
         "offsetgroup": "",
         "orientation": "v",
         "showlegend": false,
         "type": "box",
         "x": [
          "n_estimators",
          "n_estimators",
          "n_estimators",
          "n_estimators",
          "max_depth",
          "max_depth",
          "max_depth",
          "max_depth",
          "max_features",
          "max_features",
          "max_features",
          "max_features",
          "max_samples",
          "max_samples",
          "max_samples",
          "max_samples",
          "min_samples_leaf",
          "min_samples_leaf",
          "min_samples_leaf",
          "min_samples_leaf"
         ],
         "x0": " ",
         "xaxis": "x",
         "y": [
          0.020000000000000018,
          0.013698630136986245,
          -0.05084745762711873,
          -0.010638297872340385,
          -0.020000000000000018,
          -0.020547945205479423,
          0,
          -0.010638297872340496,
          -0.020000000000000018,
          0,
          0.016949152542372836,
          0.010638297872340496,
          -0.020000000000000018,
          0.0273972602739726,
          0,
          0,
          0,
          0.0273972602739726,
          0,
          -0.005319148936170137
         ],
         "y0": " ",
         "yaxis": "y"
        }
       ],
       "layout": {
        "boxmode": "group",
        "legend": {
         "tracegroupgap": 0
        },
        "template": {
         "data": {
          "bar": [
           {
            "error_x": {
             "color": "#2a3f5f"
            },
            "error_y": {
             "color": "#2a3f5f"
            },
            "marker": {
             "line": {
              "color": "#E5ECF6",
              "width": 0.5
             },
             "pattern": {
              "fillmode": "overlay",
              "size": 10,
              "solidity": 0.2
             }
            },
            "type": "bar"
           }
          ],
          "barpolar": [
           {
            "marker": {
             "line": {
              "color": "#E5ECF6",
              "width": 0.5
             },
             "pattern": {
              "fillmode": "overlay",
              "size": 10,
              "solidity": 0.2
             }
            },
            "type": "barpolar"
           }
          ],
          "carpet": [
           {
            "aaxis": {
             "endlinecolor": "#2a3f5f",
             "gridcolor": "white",
             "linecolor": "white",
             "minorgridcolor": "white",
             "startlinecolor": "#2a3f5f"
            },
            "baxis": {
             "endlinecolor": "#2a3f5f",
             "gridcolor": "white",
             "linecolor": "white",
             "minorgridcolor": "white",
             "startlinecolor": "#2a3f5f"
            },
            "type": "carpet"
           }
          ],
          "choropleth": [
           {
            "colorbar": {
             "outlinewidth": 0,
             "ticks": ""
            },
            "type": "choropleth"
           }
          ],
          "contour": [
           {
            "colorbar": {
             "outlinewidth": 0,
             "ticks": ""
            },
            "colorscale": [
             [
              0,
              "#0d0887"
             ],
             [
              0.1111111111111111,
              "#46039f"
             ],
             [
              0.2222222222222222,
              "#7201a8"
             ],
             [
              0.3333333333333333,
              "#9c179e"
             ],
             [
              0.4444444444444444,
              "#bd3786"
             ],
             [
              0.5555555555555556,
              "#d8576b"
             ],
             [
              0.6666666666666666,
              "#ed7953"
             ],
             [
              0.7777777777777778,
              "#fb9f3a"
             ],
             [
              0.8888888888888888,
              "#fdca26"
             ],
             [
              1,
              "#f0f921"
             ]
            ],
            "type": "contour"
           }
          ],
          "contourcarpet": [
           {
            "colorbar": {
             "outlinewidth": 0,
             "ticks": ""
            },
            "type": "contourcarpet"
           }
          ],
          "heatmap": [
           {
            "colorbar": {
             "outlinewidth": 0,
             "ticks": ""
            },
            "colorscale": [
             [
              0,
              "#0d0887"
             ],
             [
              0.1111111111111111,
              "#46039f"
             ],
             [
              0.2222222222222222,
              "#7201a8"
             ],
             [
              0.3333333333333333,
              "#9c179e"
             ],
             [
              0.4444444444444444,
              "#bd3786"
             ],
             [
              0.5555555555555556,
              "#d8576b"
             ],
             [
              0.6666666666666666,
              "#ed7953"
             ],
             [
              0.7777777777777778,
              "#fb9f3a"
             ],
             [
              0.8888888888888888,
              "#fdca26"
             ],
             [
              1,
              "#f0f921"
             ]
            ],
            "type": "heatmap"
           }
          ],
          "heatmapgl": [
           {
            "colorbar": {
             "outlinewidth": 0,
             "ticks": ""
            },
            "colorscale": [
             [
              0,
              "#0d0887"
             ],
             [
              0.1111111111111111,
              "#46039f"
             ],
             [
              0.2222222222222222,
              "#7201a8"
             ],
             [
              0.3333333333333333,
              "#9c179e"
             ],
             [
              0.4444444444444444,
              "#bd3786"
             ],
             [
              0.5555555555555556,
              "#d8576b"
             ],
             [
              0.6666666666666666,
              "#ed7953"
             ],
             [
              0.7777777777777778,
              "#fb9f3a"
             ],
             [
              0.8888888888888888,
              "#fdca26"
             ],
             [
              1,
              "#f0f921"
             ]
            ],
            "type": "heatmapgl"
           }
          ],
          "histogram": [
           {
            "marker": {
             "pattern": {
              "fillmode": "overlay",
              "size": 10,
              "solidity": 0.2
             }
            },
            "type": "histogram"
           }
          ],
          "histogram2d": [
           {
            "colorbar": {
             "outlinewidth": 0,
             "ticks": ""
            },
            "colorscale": [
             [
              0,
              "#0d0887"
             ],
             [
              0.1111111111111111,
              "#46039f"
             ],
             [
              0.2222222222222222,
              "#7201a8"
             ],
             [
              0.3333333333333333,
              "#9c179e"
             ],
             [
              0.4444444444444444,
              "#bd3786"
             ],
             [
              0.5555555555555556,
              "#d8576b"
             ],
             [
              0.6666666666666666,
              "#ed7953"
             ],
             [
              0.7777777777777778,
              "#fb9f3a"
             ],
             [
              0.8888888888888888,
              "#fdca26"
             ],
             [
              1,
              "#f0f921"
             ]
            ],
            "type": "histogram2d"
           }
          ],
          "histogram2dcontour": [
           {
            "colorbar": {
             "outlinewidth": 0,
             "ticks": ""
            },
            "colorscale": [
             [
              0,
              "#0d0887"
             ],
             [
              0.1111111111111111,
              "#46039f"
             ],
             [
              0.2222222222222222,
              "#7201a8"
             ],
             [
              0.3333333333333333,
              "#9c179e"
             ],
             [
              0.4444444444444444,
              "#bd3786"
             ],
             [
              0.5555555555555556,
              "#d8576b"
             ],
             [
              0.6666666666666666,
              "#ed7953"
             ],
             [
              0.7777777777777778,
              "#fb9f3a"
             ],
             [
              0.8888888888888888,
              "#fdca26"
             ],
             [
              1,
              "#f0f921"
             ]
            ],
            "type": "histogram2dcontour"
           }
          ],
          "mesh3d": [
           {
            "colorbar": {
             "outlinewidth": 0,
             "ticks": ""
            },
            "type": "mesh3d"
           }
          ],
          "parcoords": [
           {
            "line": {
             "colorbar": {
              "outlinewidth": 0,
              "ticks": ""
             }
            },
            "type": "parcoords"
           }
          ],
          "pie": [
           {
            "automargin": true,
            "type": "pie"
           }
          ],
          "scatter": [
           {
            "fillpattern": {
             "fillmode": "overlay",
             "size": 10,
             "solidity": 0.2
            },
            "type": "scatter"
           }
          ],
          "scatter3d": [
           {
            "line": {
             "colorbar": {
              "outlinewidth": 0,
              "ticks": ""
             }
            },
            "marker": {
             "colorbar": {
              "outlinewidth": 0,
              "ticks": ""
             }
            },
            "type": "scatter3d"
           }
          ],
          "scattercarpet": [
           {
            "marker": {
             "colorbar": {
              "outlinewidth": 0,
              "ticks": ""
             }
            },
            "type": "scattercarpet"
           }
          ],
          "scattergeo": [
           {
            "marker": {
             "colorbar": {
              "outlinewidth": 0,
              "ticks": ""
             }
            },
            "type": "scattergeo"
           }
          ],
          "scattergl": [
           {
            "marker": {
             "colorbar": {
              "outlinewidth": 0,
              "ticks": ""
             }
            },
            "type": "scattergl"
           }
          ],
          "scattermapbox": [
           {
            "marker": {
             "colorbar": {
              "outlinewidth": 0,
              "ticks": ""
             }
            },
            "type": "scattermapbox"
           }
          ],
          "scatterpolar": [
           {
            "marker": {
             "colorbar": {
              "outlinewidth": 0,
              "ticks": ""
             }
            },
            "type": "scatterpolar"
           }
          ],
          "scatterpolargl": [
           {
            "marker": {
             "colorbar": {
              "outlinewidth": 0,
              "ticks": ""
             }
            },
            "type": "scatterpolargl"
           }
          ],
          "scatterternary": [
           {
            "marker": {
             "colorbar": {
              "outlinewidth": 0,
              "ticks": ""
             }
            },
            "type": "scatterternary"
           }
          ],
          "surface": [
           {
            "colorbar": {
             "outlinewidth": 0,
             "ticks": ""
            },
            "colorscale": [
             [
              0,
              "#0d0887"
             ],
             [
              0.1111111111111111,
              "#46039f"
             ],
             [
              0.2222222222222222,
              "#7201a8"
             ],
             [
              0.3333333333333333,
              "#9c179e"
             ],
             [
              0.4444444444444444,
              "#bd3786"
             ],
             [
              0.5555555555555556,
              "#d8576b"
             ],
             [
              0.6666666666666666,
              "#ed7953"
             ],
             [
              0.7777777777777778,
              "#fb9f3a"
             ],
             [
              0.8888888888888888,
              "#fdca26"
             ],
             [
              1,
              "#f0f921"
             ]
            ],
            "type": "surface"
           }
          ],
          "table": [
           {
            "cells": {
             "fill": {
              "color": "#EBF0F8"
             },
             "line": {
              "color": "white"
             }
            },
            "header": {
             "fill": {
              "color": "#C8D4E3"
             },
             "line": {
              "color": "white"
             }
            },
            "type": "table"
           }
          ]
         },
         "layout": {
          "annotationdefaults": {
           "arrowcolor": "#2a3f5f",
           "arrowhead": 0,
           "arrowwidth": 1
          },
          "autotypenumbers": "strict",
          "coloraxis": {
           "colorbar": {
            "outlinewidth": 0,
            "ticks": ""
           }
          },
          "colorscale": {
           "diverging": [
            [
             0,
             "#8e0152"
            ],
            [
             0.1,
             "#c51b7d"
            ],
            [
             0.2,
             "#de77ae"
            ],
            [
             0.3,
             "#f1b6da"
            ],
            [
             0.4,
             "#fde0ef"
            ],
            [
             0.5,
             "#f7f7f7"
            ],
            [
             0.6,
             "#e6f5d0"
            ],
            [
             0.7,
             "#b8e186"
            ],
            [
             0.8,
             "#7fbc41"
            ],
            [
             0.9,
             "#4d9221"
            ],
            [
             1,
             "#276419"
            ]
           ],
           "sequential": [
            [
             0,
             "#0d0887"
            ],
            [
             0.1111111111111111,
             "#46039f"
            ],
            [
             0.2222222222222222,
             "#7201a8"
            ],
            [
             0.3333333333333333,
             "#9c179e"
            ],
            [
             0.4444444444444444,
             "#bd3786"
            ],
            [
             0.5555555555555556,
             "#d8576b"
            ],
            [
             0.6666666666666666,
             "#ed7953"
            ],
            [
             0.7777777777777778,
             "#fb9f3a"
            ],
            [
             0.8888888888888888,
             "#fdca26"
            ],
            [
             1,
             "#f0f921"
            ]
           ],
           "sequentialminus": [
            [
             0,
             "#0d0887"
            ],
            [
             0.1111111111111111,
             "#46039f"
            ],
            [
             0.2222222222222222,
             "#7201a8"
            ],
            [
             0.3333333333333333,
             "#9c179e"
            ],
            [
             0.4444444444444444,
             "#bd3786"
            ],
            [
             0.5555555555555556,
             "#d8576b"
            ],
            [
             0.6666666666666666,
             "#ed7953"
            ],
            [
             0.7777777777777778,
             "#fb9f3a"
            ],
            [
             0.8888888888888888,
             "#fdca26"
            ],
            [
             1,
             "#f0f921"
            ]
           ]
          },
          "colorway": [
           "#636efa",
           "#EF553B",
           "#00cc96",
           "#ab63fa",
           "#FFA15A",
           "#19d3f3",
           "#FF6692",
           "#B6E880",
           "#FF97FF",
           "#FECB52"
          ],
          "font": {
           "color": "#2a3f5f"
          },
          "geo": {
           "bgcolor": "white",
           "lakecolor": "white",
           "landcolor": "#E5ECF6",
           "showlakes": true,
           "showland": true,
           "subunitcolor": "white"
          },
          "hoverlabel": {
           "align": "left"
          },
          "hovermode": "closest",
          "mapbox": {
           "style": "light"
          },
          "paper_bgcolor": "white",
          "plot_bgcolor": "#E5ECF6",
          "polar": {
           "angularaxis": {
            "gridcolor": "white",
            "linecolor": "white",
            "ticks": ""
           },
           "bgcolor": "#E5ECF6",
           "radialaxis": {
            "gridcolor": "white",
            "linecolor": "white",
            "ticks": ""
           }
          },
          "scene": {
           "xaxis": {
            "backgroundcolor": "#E5ECF6",
            "gridcolor": "white",
            "gridwidth": 2,
            "linecolor": "white",
            "showbackground": true,
            "ticks": "",
            "zerolinecolor": "white"
           },
           "yaxis": {
            "backgroundcolor": "#E5ECF6",
            "gridcolor": "white",
            "gridwidth": 2,
            "linecolor": "white",
            "showbackground": true,
            "ticks": "",
            "zerolinecolor": "white"
           },
           "zaxis": {
            "backgroundcolor": "#E5ECF6",
            "gridcolor": "white",
            "gridwidth": 2,
            "linecolor": "white",
            "showbackground": true,
            "ticks": "",
            "zerolinecolor": "white"
           }
          },
          "shapedefaults": {
           "line": {
            "color": "#2a3f5f"
           }
          },
          "ternary": {
           "aaxis": {
            "gridcolor": "white",
            "linecolor": "white",
            "ticks": ""
           },
           "baxis": {
            "gridcolor": "white",
            "linecolor": "white",
            "ticks": ""
           },
           "bgcolor": "#E5ECF6",
           "caxis": {
            "gridcolor": "white",
            "linecolor": "white",
            "ticks": ""
           }
          },
          "title": {
           "x": 0.05
          },
          "xaxis": {
           "automargin": true,
           "gridcolor": "white",
           "linecolor": "white",
           "ticks": "",
           "title": {
            "standoff": 15
           },
           "zerolinecolor": "white",
           "zerolinewidth": 2
          },
          "yaxis": {
           "automargin": true,
           "gridcolor": "white",
           "linecolor": "white",
           "ticks": "",
           "title": {
            "standoff": 15
           },
           "zerolinecolor": "white",
           "zerolinewidth": 2
          }
         }
        },
        "title": {
         "text": "Random Forest hyperparameters tunability (Bayes)"
        },
        "xaxis": {
         "anchor": "y",
         "domain": [
          0,
          1
         ],
         "title": {
          "text": "Hyperparameter"
         }
        },
        "yaxis": {
         "anchor": "x",
         "domain": [
          0,
          1
         ],
         "title": {
          "text": "Tunability"
         }
        }
       }
      }
     },
     "metadata": {},
     "output_type": "display_data"
    }
   ],
   "source": [
    "plot_boxplots_param_tunability('Random Forest', rf_bayes_params_tun, \"Bayes\")"
   ]
  },
  {
   "cell_type": "code",
   "execution_count": 56,
   "metadata": {
    "datalore": {
     "hide_input_from_viewers": true,
     "hide_output_from_viewers": true,
     "node_id": "E7xtDLMmxiSwNegZI97w7X",
     "type": "CODE"
    }
   },
   "outputs": [],
   "source": [
    "tunability_of_params_random = {\n",
    "    'KNN': knn_random_params_tun,\n",
    "    'XGboost': xgboost_random_params_tun,\n",
    "    'Random Forest': rf_random_params_tun,\n",
    "}\n",
    "tunability_of_params_bayes = {\n",
    "    'KNN': knn_bayes_params_tun,\n",
    "    'XGboost': xgboost_bayes_params_tun,\n",
    "    'Random Forest': rf_bayes_params_tun,\n",
    "}"
   ]
  },
  {
   "cell_type": "code",
   "execution_count": 60,
   "metadata": {},
   "outputs": [],
   "source": [
    "class NumpyEncoder(json.JSONEncoder):\n",
    "    \"\"\"\n",
    "    https://stackoverflow.com/questions/26646362/numpy-array-is-not-json-serializable\n",
    "    \"\"\"\n",
    "    def default(self, obj):\n",
    "        if isinstance(obj, np.integer):\n",
    "            return int(obj)\n",
    "        elif isinstance(obj, np.floating):\n",
    "            return float(obj)\n",
    "        elif isinstance(obj, np.ndarray):\n",
    "            return obj.tolist()\n",
    "        return json.JSONEncoder.default(self, obj)\n",
    "\n",
    "with open(f'{base_path}/tunability_of_params_random.json', 'w') as file:\n",
    "    json.dump(tunability_of_params_random, file, indent=4, cls=NumpyEncoder)\n",
    "with open(f'{base_path}/tunability_of_params_bayes.json', 'w') as file:\n",
    "    json.dump(tunability_of_params_bayes, file, indent=4, cls=NumpyEncoder)"
   ]
  },
  {
   "attachments": {},
   "cell_type": "markdown",
   "metadata": {
    "datalore": {
     "hide_input_from_viewers": true,
     "hide_output_from_viewers": true,
     "node_id": "0Tpcd7O9F1GNIiVgzsigbn",
     "type": "MD"
    }
   },
   "source": [
    "# Checking stability"
   ]
  },
  {
   "attachments": {},
   "cell_type": "markdown",
   "metadata": {
    "datalore": {
     "hide_input_from_viewers": true,
     "hide_output_from_viewers": true,
     "node_id": "3ynpZFSKOCaZrslx4POlFB",
     "type": "MD"
    }
   },
   "source": [
    "## Random Search"
   ]
  },
  {
   "attachments": {},
   "cell_type": "markdown",
   "metadata": {
    "datalore": {
     "hide_input_from_viewers": true,
     "hide_output_from_viewers": true,
     "node_id": "FDjYDq44dT7RxzQePC5AkI",
     "type": "MD"
    }
   },
   "source": [
    "### KNN"
   ]
  },
  {
   "cell_type": "code",
   "execution_count": 61,
   "metadata": {
    "datalore": {
     "hide_input_from_viewers": true,
     "hide_output_from_viewers": true,
     "node_id": "KwlAxz0Qu7R3eKIpWMiK0b",
     "type": "CODE"
    }
   },
   "outputs": [
    {
     "data": {
      "application/vnd.plotly.v1+json": {
       "config": {
        "plotlyServerURL": "https://plot.ly"
       },
       "data": [
        {
         "line": {
          "color": "red"
         },
         "mode": "markers+lines",
         "type": "scatter",
         "x": [
          4,
          8,
          12,
          16,
          20
         ],
         "xaxis": "x",
         "y": [
          0.9700000000000001,
          0.9800000000000001,
          0.9800000000000001,
          0.9800000000000001,
          0.9800000000000001
         ],
         "yaxis": "y"
        },
        {
         "line": {
          "color": "red"
         },
         "mode": "markers+lines",
         "type": "scatter",
         "x": [
          4,
          8,
          12,
          16,
          20
         ],
         "xaxis": "x2",
         "y": [
          0.712768361581921,
          0.712768361581921,
          0.712768361581921,
          0.7128248587570621,
          0.7129943502824858
         ],
         "yaxis": "y2"
        },
        {
         "line": {
          "color": "red"
         },
         "mode": "markers+lines",
         "type": "scatter",
         "x": [
          4,
          8,
          12,
          16,
          20
         ],
         "xaxis": "x3",
         "y": [
          0.7061594202898551,
          0.7061594202898551,
          0.7061594202898551,
          0.7061594202898551,
          0.7061594202898551
         ],
         "yaxis": "y3"
        },
        {
         "line": {
          "color": "red"
         },
         "mode": "markers+lines",
         "type": "scatter",
         "x": [
          4,
          8,
          12,
          16,
          20
         ],
         "xaxis": "x4",
         "y": [
          0.9291182501708818,
          0.9291182501708818,
          0.9291524265208476,
          0.9317498291182502,
          0.9317498291182502
         ],
         "yaxis": "y4"
        }
       ],
       "layout": {
        "annotations": [
         {
          "font": {
           "size": 16
          },
          "showarrow": false,
          "text": "Dataset: iris",
          "x": 0.225,
          "xanchor": "center",
          "xref": "paper",
          "y": 1,
          "yanchor": "bottom",
          "yref": "paper"
         },
         {
          "font": {
           "size": 16
          },
          "showarrow": false,
          "text": "Dataset: diabetes",
          "x": 0.775,
          "xanchor": "center",
          "xref": "paper",
          "y": 1,
          "yanchor": "bottom",
          "yref": "paper"
         },
         {
          "font": {
           "size": 16
          },
          "showarrow": false,
          "text": "Dataset: wine",
          "x": 0.225,
          "xanchor": "center",
          "xref": "paper",
          "y": 0.375,
          "yanchor": "bottom",
          "yref": "paper"
         },
         {
          "font": {
           "size": 16
          },
          "showarrow": false,
          "text": "Dataset: breast",
          "x": 0.775,
          "xanchor": "center",
          "xref": "paper",
          "y": 0.375,
          "yanchor": "bottom",
          "yref": "paper"
         }
        ],
        "showlegend": false,
        "template": {
         "data": {
          "bar": [
           {
            "error_x": {
             "color": "#2a3f5f"
            },
            "error_y": {
             "color": "#2a3f5f"
            },
            "marker": {
             "line": {
              "color": "#E5ECF6",
              "width": 0.5
             },
             "pattern": {
              "fillmode": "overlay",
              "size": 10,
              "solidity": 0.2
             }
            },
            "type": "bar"
           }
          ],
          "barpolar": [
           {
            "marker": {
             "line": {
              "color": "#E5ECF6",
              "width": 0.5
             },
             "pattern": {
              "fillmode": "overlay",
              "size": 10,
              "solidity": 0.2
             }
            },
            "type": "barpolar"
           }
          ],
          "carpet": [
           {
            "aaxis": {
             "endlinecolor": "#2a3f5f",
             "gridcolor": "white",
             "linecolor": "white",
             "minorgridcolor": "white",
             "startlinecolor": "#2a3f5f"
            },
            "baxis": {
             "endlinecolor": "#2a3f5f",
             "gridcolor": "white",
             "linecolor": "white",
             "minorgridcolor": "white",
             "startlinecolor": "#2a3f5f"
            },
            "type": "carpet"
           }
          ],
          "choropleth": [
           {
            "colorbar": {
             "outlinewidth": 0,
             "ticks": ""
            },
            "type": "choropleth"
           }
          ],
          "contour": [
           {
            "colorbar": {
             "outlinewidth": 0,
             "ticks": ""
            },
            "colorscale": [
             [
              0,
              "#0d0887"
             ],
             [
              0.1111111111111111,
              "#46039f"
             ],
             [
              0.2222222222222222,
              "#7201a8"
             ],
             [
              0.3333333333333333,
              "#9c179e"
             ],
             [
              0.4444444444444444,
              "#bd3786"
             ],
             [
              0.5555555555555556,
              "#d8576b"
             ],
             [
              0.6666666666666666,
              "#ed7953"
             ],
             [
              0.7777777777777778,
              "#fb9f3a"
             ],
             [
              0.8888888888888888,
              "#fdca26"
             ],
             [
              1,
              "#f0f921"
             ]
            ],
            "type": "contour"
           }
          ],
          "contourcarpet": [
           {
            "colorbar": {
             "outlinewidth": 0,
             "ticks": ""
            },
            "type": "contourcarpet"
           }
          ],
          "heatmap": [
           {
            "colorbar": {
             "outlinewidth": 0,
             "ticks": ""
            },
            "colorscale": [
             [
              0,
              "#0d0887"
             ],
             [
              0.1111111111111111,
              "#46039f"
             ],
             [
              0.2222222222222222,
              "#7201a8"
             ],
             [
              0.3333333333333333,
              "#9c179e"
             ],
             [
              0.4444444444444444,
              "#bd3786"
             ],
             [
              0.5555555555555556,
              "#d8576b"
             ],
             [
              0.6666666666666666,
              "#ed7953"
             ],
             [
              0.7777777777777778,
              "#fb9f3a"
             ],
             [
              0.8888888888888888,
              "#fdca26"
             ],
             [
              1,
              "#f0f921"
             ]
            ],
            "type": "heatmap"
           }
          ],
          "heatmapgl": [
           {
            "colorbar": {
             "outlinewidth": 0,
             "ticks": ""
            },
            "colorscale": [
             [
              0,
              "#0d0887"
             ],
             [
              0.1111111111111111,
              "#46039f"
             ],
             [
              0.2222222222222222,
              "#7201a8"
             ],
             [
              0.3333333333333333,
              "#9c179e"
             ],
             [
              0.4444444444444444,
              "#bd3786"
             ],
             [
              0.5555555555555556,
              "#d8576b"
             ],
             [
              0.6666666666666666,
              "#ed7953"
             ],
             [
              0.7777777777777778,
              "#fb9f3a"
             ],
             [
              0.8888888888888888,
              "#fdca26"
             ],
             [
              1,
              "#f0f921"
             ]
            ],
            "type": "heatmapgl"
           }
          ],
          "histogram": [
           {
            "marker": {
             "pattern": {
              "fillmode": "overlay",
              "size": 10,
              "solidity": 0.2
             }
            },
            "type": "histogram"
           }
          ],
          "histogram2d": [
           {
            "colorbar": {
             "outlinewidth": 0,
             "ticks": ""
            },
            "colorscale": [
             [
              0,
              "#0d0887"
             ],
             [
              0.1111111111111111,
              "#46039f"
             ],
             [
              0.2222222222222222,
              "#7201a8"
             ],
             [
              0.3333333333333333,
              "#9c179e"
             ],
             [
              0.4444444444444444,
              "#bd3786"
             ],
             [
              0.5555555555555556,
              "#d8576b"
             ],
             [
              0.6666666666666666,
              "#ed7953"
             ],
             [
              0.7777777777777778,
              "#fb9f3a"
             ],
             [
              0.8888888888888888,
              "#fdca26"
             ],
             [
              1,
              "#f0f921"
             ]
            ],
            "type": "histogram2d"
           }
          ],
          "histogram2dcontour": [
           {
            "colorbar": {
             "outlinewidth": 0,
             "ticks": ""
            },
            "colorscale": [
             [
              0,
              "#0d0887"
             ],
             [
              0.1111111111111111,
              "#46039f"
             ],
             [
              0.2222222222222222,
              "#7201a8"
             ],
             [
              0.3333333333333333,
              "#9c179e"
             ],
             [
              0.4444444444444444,
              "#bd3786"
             ],
             [
              0.5555555555555556,
              "#d8576b"
             ],
             [
              0.6666666666666666,
              "#ed7953"
             ],
             [
              0.7777777777777778,
              "#fb9f3a"
             ],
             [
              0.8888888888888888,
              "#fdca26"
             ],
             [
              1,
              "#f0f921"
             ]
            ],
            "type": "histogram2dcontour"
           }
          ],
          "mesh3d": [
           {
            "colorbar": {
             "outlinewidth": 0,
             "ticks": ""
            },
            "type": "mesh3d"
           }
          ],
          "parcoords": [
           {
            "line": {
             "colorbar": {
              "outlinewidth": 0,
              "ticks": ""
             }
            },
            "type": "parcoords"
           }
          ],
          "pie": [
           {
            "automargin": true,
            "type": "pie"
           }
          ],
          "scatter": [
           {
            "fillpattern": {
             "fillmode": "overlay",
             "size": 10,
             "solidity": 0.2
            },
            "type": "scatter"
           }
          ],
          "scatter3d": [
           {
            "line": {
             "colorbar": {
              "outlinewidth": 0,
              "ticks": ""
             }
            },
            "marker": {
             "colorbar": {
              "outlinewidth": 0,
              "ticks": ""
             }
            },
            "type": "scatter3d"
           }
          ],
          "scattercarpet": [
           {
            "marker": {
             "colorbar": {
              "outlinewidth": 0,
              "ticks": ""
             }
            },
            "type": "scattercarpet"
           }
          ],
          "scattergeo": [
           {
            "marker": {
             "colorbar": {
              "outlinewidth": 0,
              "ticks": ""
             }
            },
            "type": "scattergeo"
           }
          ],
          "scattergl": [
           {
            "marker": {
             "colorbar": {
              "outlinewidth": 0,
              "ticks": ""
             }
            },
            "type": "scattergl"
           }
          ],
          "scattermapbox": [
           {
            "marker": {
             "colorbar": {
              "outlinewidth": 0,
              "ticks": ""
             }
            },
            "type": "scattermapbox"
           }
          ],
          "scatterpolar": [
           {
            "marker": {
             "colorbar": {
              "outlinewidth": 0,
              "ticks": ""
             }
            },
            "type": "scatterpolar"
           }
          ],
          "scatterpolargl": [
           {
            "marker": {
             "colorbar": {
              "outlinewidth": 0,
              "ticks": ""
             }
            },
            "type": "scatterpolargl"
           }
          ],
          "scatterternary": [
           {
            "marker": {
             "colorbar": {
              "outlinewidth": 0,
              "ticks": ""
             }
            },
            "type": "scatterternary"
           }
          ],
          "surface": [
           {
            "colorbar": {
             "outlinewidth": 0,
             "ticks": ""
            },
            "colorscale": [
             [
              0,
              "#0d0887"
             ],
             [
              0.1111111111111111,
              "#46039f"
             ],
             [
              0.2222222222222222,
              "#7201a8"
             ],
             [
              0.3333333333333333,
              "#9c179e"
             ],
             [
              0.4444444444444444,
              "#bd3786"
             ],
             [
              0.5555555555555556,
              "#d8576b"
             ],
             [
              0.6666666666666666,
              "#ed7953"
             ],
             [
              0.7777777777777778,
              "#fb9f3a"
             ],
             [
              0.8888888888888888,
              "#fdca26"
             ],
             [
              1,
              "#f0f921"
             ]
            ],
            "type": "surface"
           }
          ],
          "table": [
           {
            "cells": {
             "fill": {
              "color": "#EBF0F8"
             },
             "line": {
              "color": "white"
             }
            },
            "header": {
             "fill": {
              "color": "#C8D4E3"
             },
             "line": {
              "color": "white"
             }
            },
            "type": "table"
           }
          ]
         },
         "layout": {
          "annotationdefaults": {
           "arrowcolor": "#2a3f5f",
           "arrowhead": 0,
           "arrowwidth": 1
          },
          "autotypenumbers": "strict",
          "coloraxis": {
           "colorbar": {
            "outlinewidth": 0,
            "ticks": ""
           }
          },
          "colorscale": {
           "diverging": [
            [
             0,
             "#8e0152"
            ],
            [
             0.1,
             "#c51b7d"
            ],
            [
             0.2,
             "#de77ae"
            ],
            [
             0.3,
             "#f1b6da"
            ],
            [
             0.4,
             "#fde0ef"
            ],
            [
             0.5,
             "#f7f7f7"
            ],
            [
             0.6,
             "#e6f5d0"
            ],
            [
             0.7,
             "#b8e186"
            ],
            [
             0.8,
             "#7fbc41"
            ],
            [
             0.9,
             "#4d9221"
            ],
            [
             1,
             "#276419"
            ]
           ],
           "sequential": [
            [
             0,
             "#0d0887"
            ],
            [
             0.1111111111111111,
             "#46039f"
            ],
            [
             0.2222222222222222,
             "#7201a8"
            ],
            [
             0.3333333333333333,
             "#9c179e"
            ],
            [
             0.4444444444444444,
             "#bd3786"
            ],
            [
             0.5555555555555556,
             "#d8576b"
            ],
            [
             0.6666666666666666,
             "#ed7953"
            ],
            [
             0.7777777777777778,
             "#fb9f3a"
            ],
            [
             0.8888888888888888,
             "#fdca26"
            ],
            [
             1,
             "#f0f921"
            ]
           ],
           "sequentialminus": [
            [
             0,
             "#0d0887"
            ],
            [
             0.1111111111111111,
             "#46039f"
            ],
            [
             0.2222222222222222,
             "#7201a8"
            ],
            [
             0.3333333333333333,
             "#9c179e"
            ],
            [
             0.4444444444444444,
             "#bd3786"
            ],
            [
             0.5555555555555556,
             "#d8576b"
            ],
            [
             0.6666666666666666,
             "#ed7953"
            ],
            [
             0.7777777777777778,
             "#fb9f3a"
            ],
            [
             0.8888888888888888,
             "#fdca26"
            ],
            [
             1,
             "#f0f921"
            ]
           ]
          },
          "colorway": [
           "#636efa",
           "#EF553B",
           "#00cc96",
           "#ab63fa",
           "#FFA15A",
           "#19d3f3",
           "#FF6692",
           "#B6E880",
           "#FF97FF",
           "#FECB52"
          ],
          "font": {
           "color": "#2a3f5f"
          },
          "geo": {
           "bgcolor": "white",
           "lakecolor": "white",
           "landcolor": "#E5ECF6",
           "showlakes": true,
           "showland": true,
           "subunitcolor": "white"
          },
          "hoverlabel": {
           "align": "left"
          },
          "hovermode": "closest",
          "mapbox": {
           "style": "light"
          },
          "paper_bgcolor": "white",
          "plot_bgcolor": "#E5ECF6",
          "polar": {
           "angularaxis": {
            "gridcolor": "white",
            "linecolor": "white",
            "ticks": ""
           },
           "bgcolor": "#E5ECF6",
           "radialaxis": {
            "gridcolor": "white",
            "linecolor": "white",
            "ticks": ""
           }
          },
          "scene": {
           "xaxis": {
            "backgroundcolor": "#E5ECF6",
            "gridcolor": "white",
            "gridwidth": 2,
            "linecolor": "white",
            "showbackground": true,
            "ticks": "",
            "zerolinecolor": "white"
           },
           "yaxis": {
            "backgroundcolor": "#E5ECF6",
            "gridcolor": "white",
            "gridwidth": 2,
            "linecolor": "white",
            "showbackground": true,
            "ticks": "",
            "zerolinecolor": "white"
           },
           "zaxis": {
            "backgroundcolor": "#E5ECF6",
            "gridcolor": "white",
            "gridwidth": 2,
            "linecolor": "white",
            "showbackground": true,
            "ticks": "",
            "zerolinecolor": "white"
           }
          },
          "shapedefaults": {
           "line": {
            "color": "#2a3f5f"
           }
          },
          "ternary": {
           "aaxis": {
            "gridcolor": "white",
            "linecolor": "white",
            "ticks": ""
           },
           "baxis": {
            "gridcolor": "white",
            "linecolor": "white",
            "ticks": ""
           },
           "bgcolor": "#E5ECF6",
           "caxis": {
            "gridcolor": "white",
            "linecolor": "white",
            "ticks": ""
           }
          },
          "title": {
           "x": 0.05
          },
          "xaxis": {
           "automargin": true,
           "gridcolor": "white",
           "linecolor": "white",
           "ticks": "",
           "title": {
            "standoff": 15
           },
           "zerolinecolor": "white",
           "zerolinewidth": 2
          },
          "yaxis": {
           "automargin": true,
           "gridcolor": "white",
           "linecolor": "white",
           "ticks": "",
           "title": {
            "standoff": 15
           },
           "zerolinecolor": "white",
           "zerolinewidth": 2
          }
         }
        },
        "title": {
         "text": "Stability of Random Optimization"
        },
        "xaxis": {
         "anchor": "y",
         "domain": [
          0,
          0.45
         ]
        },
        "xaxis2": {
         "anchor": "y2",
         "domain": [
          0.55,
          1
         ]
        },
        "xaxis3": {
         "anchor": "y3",
         "domain": [
          0,
          0.45
         ],
         "title": {
          "text": "N_iter"
         }
        },
        "xaxis4": {
         "anchor": "y4",
         "domain": [
          0.55,
          1
         ],
         "title": {
          "text": "N_iter"
         }
        },
        "yaxis": {
         "anchor": "x",
         "domain": [
          0.625,
          1
         ],
         "range": [
          0,
          1
         ],
         "title": {
          "text": "Scores"
         }
        },
        "yaxis2": {
         "anchor": "x2",
         "domain": [
          0.625,
          1
         ],
         "range": [
          0,
          1
         ]
        },
        "yaxis3": {
         "anchor": "x3",
         "domain": [
          0,
          0.375
         ],
         "range": [
          0,
          1
         ],
         "title": {
          "text": "Scores"
         }
        },
        "yaxis4": {
         "anchor": "x4",
         "domain": [
          0,
          0.375
         ],
         "range": [
          0,
          1
         ]
        }
       }
      }
     },
     "metadata": {},
     "output_type": "display_data"
    }
   ],
   "source": [
    "plot_stability(results_random['KNN']['scores_test'], \n",
    "               'Random', interval=4)"
   ]
  },
  {
   "attachments": {},
   "cell_type": "markdown",
   "metadata": {
    "datalore": {
     "hide_input_from_viewers": true,
     "hide_output_from_viewers": true,
     "node_id": "hIUlShBG0zXoKEpz2VDKMW",
     "type": "MD"
    }
   },
   "source": [
    "### XGBoost"
   ]
  },
  {
   "cell_type": "code",
   "execution_count": 62,
   "metadata": {
    "datalore": {
     "hide_input_from_viewers": true,
     "hide_output_from_viewers": true,
     "node_id": "O10lZXorUv0d1N2pD7lNCA",
     "type": "CODE"
    }
   },
   "outputs": [
    {
     "data": {
      "application/vnd.plotly.v1+json": {
       "config": {
        "plotlyServerURL": "https://plot.ly"
       },
       "data": [
        {
         "line": {
          "color": "red"
         },
         "mode": "markers+lines",
         "type": "scatter",
         "x": [
          10,
          20,
          30,
          40,
          50,
          60,
          70,
          80,
          90,
          100,
          110,
          120,
          130,
          140,
          150
         ],
         "xaxis": "x",
         "y": [
          0.3,
          0.3,
          0.3,
          0.3,
          0.3,
          0.3,
          0.3,
          0.3,
          0.3,
          0.3,
          0.3,
          0.3,
          0.3,
          0.3,
          0.3
         ],
         "yaxis": "y"
        },
        {
         "line": {
          "color": "red"
         },
         "mode": "markers+lines",
         "type": "scatter",
         "x": [
          10,
          20,
          30,
          40,
          50,
          60,
          70,
          80,
          90,
          100,
          110,
          120,
          130,
          140,
          150
         ],
         "xaxis": "x2",
         "y": [
          0.5033898305084745,
          0.5033898305084745,
          0.5033898305084745,
          0.5033898305084745,
          0.5033898305084745,
          0.5033898305084745,
          0.5033898305084745,
          0.5033898305084745,
          0.5033898305084745,
          0.5033898305084745,
          0.5033898305084745,
          0.5033898305084745,
          0.5033898305084745,
          0.5033898305084745,
          0.5033898305084745
         ],
         "yaxis": "y2"
        },
        {
         "line": {
          "color": "red"
         },
         "mode": "markers+lines",
         "type": "scatter",
         "x": [
          10,
          20,
          30,
          40,
          50,
          60,
          70,
          80,
          90,
          100,
          110,
          120,
          130,
          140,
          150
         ],
         "xaxis": "x3",
         "y": [
          0.361231884057971,
          0.361231884057971,
          0.361231884057971,
          0.361231884057971,
          0.361231884057971,
          0.361231884057971,
          0.361231884057971,
          0.361231884057971,
          0.361231884057971,
          0.361231884057971,
          0.361231884057971,
          0.361231884057971,
          0.361231884057971,
          0.361231884057971,
          0.361231884057971
         ],
         "yaxis": "y3"
        },
        {
         "line": {
          "color": "red"
         },
         "mode": "markers+lines",
         "type": "scatter",
         "x": [
          10,
          20,
          30,
          40,
          50,
          60,
          70,
          80,
          90,
          100,
          110,
          120,
          130,
          140,
          150
         ],
         "xaxis": "x4",
         "y": [
          0.35956937799043054,
          0.35956937799043054,
          0.35956937799043054,
          0.35956937799043054,
          0.35956937799043054,
          0.35956937799043054,
          0.35956937799043054,
          0.35956937799043054,
          0.35956937799043054,
          0.35956937799043054,
          0.35956937799043054,
          0.35956937799043054,
          0.35956937799043054,
          0.35956937799043054,
          0.35956937799043054
         ],
         "yaxis": "y4"
        }
       ],
       "layout": {
        "annotations": [
         {
          "font": {
           "size": 16
          },
          "showarrow": false,
          "text": "Dataset: iris",
          "x": 0.225,
          "xanchor": "center",
          "xref": "paper",
          "y": 1,
          "yanchor": "bottom",
          "yref": "paper"
         },
         {
          "font": {
           "size": 16
          },
          "showarrow": false,
          "text": "Dataset: diabetes",
          "x": 0.775,
          "xanchor": "center",
          "xref": "paper",
          "y": 1,
          "yanchor": "bottom",
          "yref": "paper"
         },
         {
          "font": {
           "size": 16
          },
          "showarrow": false,
          "text": "Dataset: wine",
          "x": 0.225,
          "xanchor": "center",
          "xref": "paper",
          "y": 0.375,
          "yanchor": "bottom",
          "yref": "paper"
         },
         {
          "font": {
           "size": 16
          },
          "showarrow": false,
          "text": "Dataset: breast",
          "x": 0.775,
          "xanchor": "center",
          "xref": "paper",
          "y": 0.375,
          "yanchor": "bottom",
          "yref": "paper"
         }
        ],
        "showlegend": false,
        "template": {
         "data": {
          "bar": [
           {
            "error_x": {
             "color": "#2a3f5f"
            },
            "error_y": {
             "color": "#2a3f5f"
            },
            "marker": {
             "line": {
              "color": "#E5ECF6",
              "width": 0.5
             },
             "pattern": {
              "fillmode": "overlay",
              "size": 10,
              "solidity": 0.2
             }
            },
            "type": "bar"
           }
          ],
          "barpolar": [
           {
            "marker": {
             "line": {
              "color": "#E5ECF6",
              "width": 0.5
             },
             "pattern": {
              "fillmode": "overlay",
              "size": 10,
              "solidity": 0.2
             }
            },
            "type": "barpolar"
           }
          ],
          "carpet": [
           {
            "aaxis": {
             "endlinecolor": "#2a3f5f",
             "gridcolor": "white",
             "linecolor": "white",
             "minorgridcolor": "white",
             "startlinecolor": "#2a3f5f"
            },
            "baxis": {
             "endlinecolor": "#2a3f5f",
             "gridcolor": "white",
             "linecolor": "white",
             "minorgridcolor": "white",
             "startlinecolor": "#2a3f5f"
            },
            "type": "carpet"
           }
          ],
          "choropleth": [
           {
            "colorbar": {
             "outlinewidth": 0,
             "ticks": ""
            },
            "type": "choropleth"
           }
          ],
          "contour": [
           {
            "colorbar": {
             "outlinewidth": 0,
             "ticks": ""
            },
            "colorscale": [
             [
              0,
              "#0d0887"
             ],
             [
              0.1111111111111111,
              "#46039f"
             ],
             [
              0.2222222222222222,
              "#7201a8"
             ],
             [
              0.3333333333333333,
              "#9c179e"
             ],
             [
              0.4444444444444444,
              "#bd3786"
             ],
             [
              0.5555555555555556,
              "#d8576b"
             ],
             [
              0.6666666666666666,
              "#ed7953"
             ],
             [
              0.7777777777777778,
              "#fb9f3a"
             ],
             [
              0.8888888888888888,
              "#fdca26"
             ],
             [
              1,
              "#f0f921"
             ]
            ],
            "type": "contour"
           }
          ],
          "contourcarpet": [
           {
            "colorbar": {
             "outlinewidth": 0,
             "ticks": ""
            },
            "type": "contourcarpet"
           }
          ],
          "heatmap": [
           {
            "colorbar": {
             "outlinewidth": 0,
             "ticks": ""
            },
            "colorscale": [
             [
              0,
              "#0d0887"
             ],
             [
              0.1111111111111111,
              "#46039f"
             ],
             [
              0.2222222222222222,
              "#7201a8"
             ],
             [
              0.3333333333333333,
              "#9c179e"
             ],
             [
              0.4444444444444444,
              "#bd3786"
             ],
             [
              0.5555555555555556,
              "#d8576b"
             ],
             [
              0.6666666666666666,
              "#ed7953"
             ],
             [
              0.7777777777777778,
              "#fb9f3a"
             ],
             [
              0.8888888888888888,
              "#fdca26"
             ],
             [
              1,
              "#f0f921"
             ]
            ],
            "type": "heatmap"
           }
          ],
          "heatmapgl": [
           {
            "colorbar": {
             "outlinewidth": 0,
             "ticks": ""
            },
            "colorscale": [
             [
              0,
              "#0d0887"
             ],
             [
              0.1111111111111111,
              "#46039f"
             ],
             [
              0.2222222222222222,
              "#7201a8"
             ],
             [
              0.3333333333333333,
              "#9c179e"
             ],
             [
              0.4444444444444444,
              "#bd3786"
             ],
             [
              0.5555555555555556,
              "#d8576b"
             ],
             [
              0.6666666666666666,
              "#ed7953"
             ],
             [
              0.7777777777777778,
              "#fb9f3a"
             ],
             [
              0.8888888888888888,
              "#fdca26"
             ],
             [
              1,
              "#f0f921"
             ]
            ],
            "type": "heatmapgl"
           }
          ],
          "histogram": [
           {
            "marker": {
             "pattern": {
              "fillmode": "overlay",
              "size": 10,
              "solidity": 0.2
             }
            },
            "type": "histogram"
           }
          ],
          "histogram2d": [
           {
            "colorbar": {
             "outlinewidth": 0,
             "ticks": ""
            },
            "colorscale": [
             [
              0,
              "#0d0887"
             ],
             [
              0.1111111111111111,
              "#46039f"
             ],
             [
              0.2222222222222222,
              "#7201a8"
             ],
             [
              0.3333333333333333,
              "#9c179e"
             ],
             [
              0.4444444444444444,
              "#bd3786"
             ],
             [
              0.5555555555555556,
              "#d8576b"
             ],
             [
              0.6666666666666666,
              "#ed7953"
             ],
             [
              0.7777777777777778,
              "#fb9f3a"
             ],
             [
              0.8888888888888888,
              "#fdca26"
             ],
             [
              1,
              "#f0f921"
             ]
            ],
            "type": "histogram2d"
           }
          ],
          "histogram2dcontour": [
           {
            "colorbar": {
             "outlinewidth": 0,
             "ticks": ""
            },
            "colorscale": [
             [
              0,
              "#0d0887"
             ],
             [
              0.1111111111111111,
              "#46039f"
             ],
             [
              0.2222222222222222,
              "#7201a8"
             ],
             [
              0.3333333333333333,
              "#9c179e"
             ],
             [
              0.4444444444444444,
              "#bd3786"
             ],
             [
              0.5555555555555556,
              "#d8576b"
             ],
             [
              0.6666666666666666,
              "#ed7953"
             ],
             [
              0.7777777777777778,
              "#fb9f3a"
             ],
             [
              0.8888888888888888,
              "#fdca26"
             ],
             [
              1,
              "#f0f921"
             ]
            ],
            "type": "histogram2dcontour"
           }
          ],
          "mesh3d": [
           {
            "colorbar": {
             "outlinewidth": 0,
             "ticks": ""
            },
            "type": "mesh3d"
           }
          ],
          "parcoords": [
           {
            "line": {
             "colorbar": {
              "outlinewidth": 0,
              "ticks": ""
             }
            },
            "type": "parcoords"
           }
          ],
          "pie": [
           {
            "automargin": true,
            "type": "pie"
           }
          ],
          "scatter": [
           {
            "fillpattern": {
             "fillmode": "overlay",
             "size": 10,
             "solidity": 0.2
            },
            "type": "scatter"
           }
          ],
          "scatter3d": [
           {
            "line": {
             "colorbar": {
              "outlinewidth": 0,
              "ticks": ""
             }
            },
            "marker": {
             "colorbar": {
              "outlinewidth": 0,
              "ticks": ""
             }
            },
            "type": "scatter3d"
           }
          ],
          "scattercarpet": [
           {
            "marker": {
             "colorbar": {
              "outlinewidth": 0,
              "ticks": ""
             }
            },
            "type": "scattercarpet"
           }
          ],
          "scattergeo": [
           {
            "marker": {
             "colorbar": {
              "outlinewidth": 0,
              "ticks": ""
             }
            },
            "type": "scattergeo"
           }
          ],
          "scattergl": [
           {
            "marker": {
             "colorbar": {
              "outlinewidth": 0,
              "ticks": ""
             }
            },
            "type": "scattergl"
           }
          ],
          "scattermapbox": [
           {
            "marker": {
             "colorbar": {
              "outlinewidth": 0,
              "ticks": ""
             }
            },
            "type": "scattermapbox"
           }
          ],
          "scatterpolar": [
           {
            "marker": {
             "colorbar": {
              "outlinewidth": 0,
              "ticks": ""
             }
            },
            "type": "scatterpolar"
           }
          ],
          "scatterpolargl": [
           {
            "marker": {
             "colorbar": {
              "outlinewidth": 0,
              "ticks": ""
             }
            },
            "type": "scatterpolargl"
           }
          ],
          "scatterternary": [
           {
            "marker": {
             "colorbar": {
              "outlinewidth": 0,
              "ticks": ""
             }
            },
            "type": "scatterternary"
           }
          ],
          "surface": [
           {
            "colorbar": {
             "outlinewidth": 0,
             "ticks": ""
            },
            "colorscale": [
             [
              0,
              "#0d0887"
             ],
             [
              0.1111111111111111,
              "#46039f"
             ],
             [
              0.2222222222222222,
              "#7201a8"
             ],
             [
              0.3333333333333333,
              "#9c179e"
             ],
             [
              0.4444444444444444,
              "#bd3786"
             ],
             [
              0.5555555555555556,
              "#d8576b"
             ],
             [
              0.6666666666666666,
              "#ed7953"
             ],
             [
              0.7777777777777778,
              "#fb9f3a"
             ],
             [
              0.8888888888888888,
              "#fdca26"
             ],
             [
              1,
              "#f0f921"
             ]
            ],
            "type": "surface"
           }
          ],
          "table": [
           {
            "cells": {
             "fill": {
              "color": "#EBF0F8"
             },
             "line": {
              "color": "white"
             }
            },
            "header": {
             "fill": {
              "color": "#C8D4E3"
             },
             "line": {
              "color": "white"
             }
            },
            "type": "table"
           }
          ]
         },
         "layout": {
          "annotationdefaults": {
           "arrowcolor": "#2a3f5f",
           "arrowhead": 0,
           "arrowwidth": 1
          },
          "autotypenumbers": "strict",
          "coloraxis": {
           "colorbar": {
            "outlinewidth": 0,
            "ticks": ""
           }
          },
          "colorscale": {
           "diverging": [
            [
             0,
             "#8e0152"
            ],
            [
             0.1,
             "#c51b7d"
            ],
            [
             0.2,
             "#de77ae"
            ],
            [
             0.3,
             "#f1b6da"
            ],
            [
             0.4,
             "#fde0ef"
            ],
            [
             0.5,
             "#f7f7f7"
            ],
            [
             0.6,
             "#e6f5d0"
            ],
            [
             0.7,
             "#b8e186"
            ],
            [
             0.8,
             "#7fbc41"
            ],
            [
             0.9,
             "#4d9221"
            ],
            [
             1,
             "#276419"
            ]
           ],
           "sequential": [
            [
             0,
             "#0d0887"
            ],
            [
             0.1111111111111111,
             "#46039f"
            ],
            [
             0.2222222222222222,
             "#7201a8"
            ],
            [
             0.3333333333333333,
             "#9c179e"
            ],
            [
             0.4444444444444444,
             "#bd3786"
            ],
            [
             0.5555555555555556,
             "#d8576b"
            ],
            [
             0.6666666666666666,
             "#ed7953"
            ],
            [
             0.7777777777777778,
             "#fb9f3a"
            ],
            [
             0.8888888888888888,
             "#fdca26"
            ],
            [
             1,
             "#f0f921"
            ]
           ],
           "sequentialminus": [
            [
             0,
             "#0d0887"
            ],
            [
             0.1111111111111111,
             "#46039f"
            ],
            [
             0.2222222222222222,
             "#7201a8"
            ],
            [
             0.3333333333333333,
             "#9c179e"
            ],
            [
             0.4444444444444444,
             "#bd3786"
            ],
            [
             0.5555555555555556,
             "#d8576b"
            ],
            [
             0.6666666666666666,
             "#ed7953"
            ],
            [
             0.7777777777777778,
             "#fb9f3a"
            ],
            [
             0.8888888888888888,
             "#fdca26"
            ],
            [
             1,
             "#f0f921"
            ]
           ]
          },
          "colorway": [
           "#636efa",
           "#EF553B",
           "#00cc96",
           "#ab63fa",
           "#FFA15A",
           "#19d3f3",
           "#FF6692",
           "#B6E880",
           "#FF97FF",
           "#FECB52"
          ],
          "font": {
           "color": "#2a3f5f"
          },
          "geo": {
           "bgcolor": "white",
           "lakecolor": "white",
           "landcolor": "#E5ECF6",
           "showlakes": true,
           "showland": true,
           "subunitcolor": "white"
          },
          "hoverlabel": {
           "align": "left"
          },
          "hovermode": "closest",
          "mapbox": {
           "style": "light"
          },
          "paper_bgcolor": "white",
          "plot_bgcolor": "#E5ECF6",
          "polar": {
           "angularaxis": {
            "gridcolor": "white",
            "linecolor": "white",
            "ticks": ""
           },
           "bgcolor": "#E5ECF6",
           "radialaxis": {
            "gridcolor": "white",
            "linecolor": "white",
            "ticks": ""
           }
          },
          "scene": {
           "xaxis": {
            "backgroundcolor": "#E5ECF6",
            "gridcolor": "white",
            "gridwidth": 2,
            "linecolor": "white",
            "showbackground": true,
            "ticks": "",
            "zerolinecolor": "white"
           },
           "yaxis": {
            "backgroundcolor": "#E5ECF6",
            "gridcolor": "white",
            "gridwidth": 2,
            "linecolor": "white",
            "showbackground": true,
            "ticks": "",
            "zerolinecolor": "white"
           },
           "zaxis": {
            "backgroundcolor": "#E5ECF6",
            "gridcolor": "white",
            "gridwidth": 2,
            "linecolor": "white",
            "showbackground": true,
            "ticks": "",
            "zerolinecolor": "white"
           }
          },
          "shapedefaults": {
           "line": {
            "color": "#2a3f5f"
           }
          },
          "ternary": {
           "aaxis": {
            "gridcolor": "white",
            "linecolor": "white",
            "ticks": ""
           },
           "baxis": {
            "gridcolor": "white",
            "linecolor": "white",
            "ticks": ""
           },
           "bgcolor": "#E5ECF6",
           "caxis": {
            "gridcolor": "white",
            "linecolor": "white",
            "ticks": ""
           }
          },
          "title": {
           "x": 0.05
          },
          "xaxis": {
           "automargin": true,
           "gridcolor": "white",
           "linecolor": "white",
           "ticks": "",
           "title": {
            "standoff": 15
           },
           "zerolinecolor": "white",
           "zerolinewidth": 2
          },
          "yaxis": {
           "automargin": true,
           "gridcolor": "white",
           "linecolor": "white",
           "ticks": "",
           "title": {
            "standoff": 15
           },
           "zerolinecolor": "white",
           "zerolinewidth": 2
          }
         }
        },
        "title": {
         "text": "Stability of Random Optimization"
        },
        "xaxis": {
         "anchor": "y",
         "domain": [
          0,
          0.45
         ]
        },
        "xaxis2": {
         "anchor": "y2",
         "domain": [
          0.55,
          1
         ]
        },
        "xaxis3": {
         "anchor": "y3",
         "domain": [
          0,
          0.45
         ],
         "title": {
          "text": "N_iter"
         }
        },
        "xaxis4": {
         "anchor": "y4",
         "domain": [
          0.55,
          1
         ],
         "title": {
          "text": "N_iter"
         }
        },
        "yaxis": {
         "anchor": "x",
         "domain": [
          0.625,
          1
         ],
         "range": [
          0,
          1
         ],
         "title": {
          "text": "Scores"
         }
        },
        "yaxis2": {
         "anchor": "x2",
         "domain": [
          0.625,
          1
         ],
         "range": [
          0,
          1
         ]
        },
        "yaxis3": {
         "anchor": "x3",
         "domain": [
          0,
          0.375
         ],
         "range": [
          0,
          1
         ],
         "title": {
          "text": "Scores"
         }
        },
        "yaxis4": {
         "anchor": "x4",
         "domain": [
          0,
          0.375
         ],
         "range": [
          0,
          1
         ]
        }
       }
      }
     },
     "metadata": {},
     "output_type": "display_data"
    }
   ],
   "source": [
    "plot_stability(results_random['XGboost']['scores_test'], \n",
    "               'Random', interval=10)"
   ]
  },
  {
   "attachments": {},
   "cell_type": "markdown",
   "metadata": {
    "datalore": {
     "hide_input_from_viewers": true,
     "hide_output_from_viewers": true,
     "node_id": "LQM2zIVAYUymk6aAcrnzH1",
     "type": "MD"
    }
   },
   "source": [
    "### RandomForest"
   ]
  },
  {
   "cell_type": "code",
   "execution_count": 63,
   "metadata": {
    "datalore": {
     "hide_input_from_viewers": true,
     "hide_output_from_viewers": true,
     "node_id": "9d1NxvP3jPrHtrY1RnsZ6x",
     "type": "CODE"
    }
   },
   "outputs": [
    {
     "data": {
      "application/vnd.plotly.v1+json": {
       "config": {
        "plotlyServerURL": "https://plot.ly"
       },
       "data": [
        {
         "line": {
          "color": "red"
         },
         "mode": "markers+lines",
         "type": "scatter",
         "x": [
          10,
          20,
          30,
          40,
          50,
          60,
          70,
          80,
          90,
          100,
          110,
          120,
          130,
          140,
          150
         ],
         "xaxis": "x",
         "y": [
          0.9199999999999999,
          0.93,
          0.9400000000000001,
          0.9400000000000001,
          0.9400000000000001,
          0.9400000000000001,
          0.9400000000000001,
          0.9400000000000001,
          0.9400000000000001,
          0.9400000000000001,
          0.9400000000000001,
          0.9400000000000001,
          0.9400000000000001,
          0.9400000000000001,
          0.9400000000000001
         ],
         "yaxis": "y"
        },
        {
         "line": {
          "color": "red"
         },
         "mode": "markers+lines",
         "type": "scatter",
         "x": [
          10,
          20,
          30,
          40,
          50,
          60,
          70,
          80,
          90,
          100,
          110,
          120,
          130,
          140,
          150
         ],
         "xaxis": "x2",
         "y": [
          0.7094915254237287,
          0.7196045197740114,
          0.7262711864406779,
          0.7263841807909605,
          0.7263841807909605,
          0.7263841807909605,
          0.7297175141242938,
          0.7297175141242938,
          0.7297175141242938,
          0.7297175141242938,
          0.7297175141242938,
          0.7297175141242938,
          0.7297175141242938,
          0.7297175141242938,
          0.7297175141242938
         ],
         "yaxis": "y2"
        },
        {
         "line": {
          "color": "red"
         },
         "mode": "markers+lines",
         "type": "scatter",
         "x": [
          10,
          20,
          30,
          40,
          50,
          60,
          70,
          80,
          90,
          100,
          110,
          120,
          130,
          140,
          150
         ],
         "xaxis": "x3",
         "y": [
          0.8898550724637682,
          0.923913043478261,
          0.9572463768115943,
          0.9659420289855072,
          0.9659420289855072,
          0.9659420289855072,
          0.9659420289855072,
          0.9659420289855072,
          0.9659420289855072,
          0.9659420289855072,
          0.9659420289855072,
          0.9659420289855072,
          0.9659420289855072,
          0.9659420289855072,
          0.9659420289855072
         ],
         "yaxis": "y3"
        },
        {
         "line": {
          "color": "red"
         },
         "mode": "markers+lines",
         "type": "scatter",
         "x": [
          10,
          20,
          30,
          40,
          50,
          60,
          70,
          80,
          90,
          100,
          110,
          120,
          130,
          140,
          150
         ],
         "xaxis": "x4",
         "y": [
          0.9159945317840055,
          0.9160287081339714,
          0.9185577580314422,
          0.9185577580314422,
          0.9212576896787423,
          0.9238550922761449,
          0.9238550922761449,
          0.9238550922761449,
          0.9238550922761449,
          0.9238550922761449,
          0.9238550922761449,
          0.9238550922761449,
          0.9238550922761449,
          0.9238550922761449,
          0.9238550922761449
         ],
         "yaxis": "y4"
        }
       ],
       "layout": {
        "annotations": [
         {
          "font": {
           "size": 16
          },
          "showarrow": false,
          "text": "Dataset: iris",
          "x": 0.225,
          "xanchor": "center",
          "xref": "paper",
          "y": 1,
          "yanchor": "bottom",
          "yref": "paper"
         },
         {
          "font": {
           "size": 16
          },
          "showarrow": false,
          "text": "Dataset: diabetes",
          "x": 0.775,
          "xanchor": "center",
          "xref": "paper",
          "y": 1,
          "yanchor": "bottom",
          "yref": "paper"
         },
         {
          "font": {
           "size": 16
          },
          "showarrow": false,
          "text": "Dataset: wine",
          "x": 0.225,
          "xanchor": "center",
          "xref": "paper",
          "y": 0.375,
          "yanchor": "bottom",
          "yref": "paper"
         },
         {
          "font": {
           "size": 16
          },
          "showarrow": false,
          "text": "Dataset: breast",
          "x": 0.775,
          "xanchor": "center",
          "xref": "paper",
          "y": 0.375,
          "yanchor": "bottom",
          "yref": "paper"
         }
        ],
        "showlegend": false,
        "template": {
         "data": {
          "bar": [
           {
            "error_x": {
             "color": "#2a3f5f"
            },
            "error_y": {
             "color": "#2a3f5f"
            },
            "marker": {
             "line": {
              "color": "#E5ECF6",
              "width": 0.5
             },
             "pattern": {
              "fillmode": "overlay",
              "size": 10,
              "solidity": 0.2
             }
            },
            "type": "bar"
           }
          ],
          "barpolar": [
           {
            "marker": {
             "line": {
              "color": "#E5ECF6",
              "width": 0.5
             },
             "pattern": {
              "fillmode": "overlay",
              "size": 10,
              "solidity": 0.2
             }
            },
            "type": "barpolar"
           }
          ],
          "carpet": [
           {
            "aaxis": {
             "endlinecolor": "#2a3f5f",
             "gridcolor": "white",
             "linecolor": "white",
             "minorgridcolor": "white",
             "startlinecolor": "#2a3f5f"
            },
            "baxis": {
             "endlinecolor": "#2a3f5f",
             "gridcolor": "white",
             "linecolor": "white",
             "minorgridcolor": "white",
             "startlinecolor": "#2a3f5f"
            },
            "type": "carpet"
           }
          ],
          "choropleth": [
           {
            "colorbar": {
             "outlinewidth": 0,
             "ticks": ""
            },
            "type": "choropleth"
           }
          ],
          "contour": [
           {
            "colorbar": {
             "outlinewidth": 0,
             "ticks": ""
            },
            "colorscale": [
             [
              0,
              "#0d0887"
             ],
             [
              0.1111111111111111,
              "#46039f"
             ],
             [
              0.2222222222222222,
              "#7201a8"
             ],
             [
              0.3333333333333333,
              "#9c179e"
             ],
             [
              0.4444444444444444,
              "#bd3786"
             ],
             [
              0.5555555555555556,
              "#d8576b"
             ],
             [
              0.6666666666666666,
              "#ed7953"
             ],
             [
              0.7777777777777778,
              "#fb9f3a"
             ],
             [
              0.8888888888888888,
              "#fdca26"
             ],
             [
              1,
              "#f0f921"
             ]
            ],
            "type": "contour"
           }
          ],
          "contourcarpet": [
           {
            "colorbar": {
             "outlinewidth": 0,
             "ticks": ""
            },
            "type": "contourcarpet"
           }
          ],
          "heatmap": [
           {
            "colorbar": {
             "outlinewidth": 0,
             "ticks": ""
            },
            "colorscale": [
             [
              0,
              "#0d0887"
             ],
             [
              0.1111111111111111,
              "#46039f"
             ],
             [
              0.2222222222222222,
              "#7201a8"
             ],
             [
              0.3333333333333333,
              "#9c179e"
             ],
             [
              0.4444444444444444,
              "#bd3786"
             ],
             [
              0.5555555555555556,
              "#d8576b"
             ],
             [
              0.6666666666666666,
              "#ed7953"
             ],
             [
              0.7777777777777778,
              "#fb9f3a"
             ],
             [
              0.8888888888888888,
              "#fdca26"
             ],
             [
              1,
              "#f0f921"
             ]
            ],
            "type": "heatmap"
           }
          ],
          "heatmapgl": [
           {
            "colorbar": {
             "outlinewidth": 0,
             "ticks": ""
            },
            "colorscale": [
             [
              0,
              "#0d0887"
             ],
             [
              0.1111111111111111,
              "#46039f"
             ],
             [
              0.2222222222222222,
              "#7201a8"
             ],
             [
              0.3333333333333333,
              "#9c179e"
             ],
             [
              0.4444444444444444,
              "#bd3786"
             ],
             [
              0.5555555555555556,
              "#d8576b"
             ],
             [
              0.6666666666666666,
              "#ed7953"
             ],
             [
              0.7777777777777778,
              "#fb9f3a"
             ],
             [
              0.8888888888888888,
              "#fdca26"
             ],
             [
              1,
              "#f0f921"
             ]
            ],
            "type": "heatmapgl"
           }
          ],
          "histogram": [
           {
            "marker": {
             "pattern": {
              "fillmode": "overlay",
              "size": 10,
              "solidity": 0.2
             }
            },
            "type": "histogram"
           }
          ],
          "histogram2d": [
           {
            "colorbar": {
             "outlinewidth": 0,
             "ticks": ""
            },
            "colorscale": [
             [
              0,
              "#0d0887"
             ],
             [
              0.1111111111111111,
              "#46039f"
             ],
             [
              0.2222222222222222,
              "#7201a8"
             ],
             [
              0.3333333333333333,
              "#9c179e"
             ],
             [
              0.4444444444444444,
              "#bd3786"
             ],
             [
              0.5555555555555556,
              "#d8576b"
             ],
             [
              0.6666666666666666,
              "#ed7953"
             ],
             [
              0.7777777777777778,
              "#fb9f3a"
             ],
             [
              0.8888888888888888,
              "#fdca26"
             ],
             [
              1,
              "#f0f921"
             ]
            ],
            "type": "histogram2d"
           }
          ],
          "histogram2dcontour": [
           {
            "colorbar": {
             "outlinewidth": 0,
             "ticks": ""
            },
            "colorscale": [
             [
              0,
              "#0d0887"
             ],
             [
              0.1111111111111111,
              "#46039f"
             ],
             [
              0.2222222222222222,
              "#7201a8"
             ],
             [
              0.3333333333333333,
              "#9c179e"
             ],
             [
              0.4444444444444444,
              "#bd3786"
             ],
             [
              0.5555555555555556,
              "#d8576b"
             ],
             [
              0.6666666666666666,
              "#ed7953"
             ],
             [
              0.7777777777777778,
              "#fb9f3a"
             ],
             [
              0.8888888888888888,
              "#fdca26"
             ],
             [
              1,
              "#f0f921"
             ]
            ],
            "type": "histogram2dcontour"
           }
          ],
          "mesh3d": [
           {
            "colorbar": {
             "outlinewidth": 0,
             "ticks": ""
            },
            "type": "mesh3d"
           }
          ],
          "parcoords": [
           {
            "line": {
             "colorbar": {
              "outlinewidth": 0,
              "ticks": ""
             }
            },
            "type": "parcoords"
           }
          ],
          "pie": [
           {
            "automargin": true,
            "type": "pie"
           }
          ],
          "scatter": [
           {
            "fillpattern": {
             "fillmode": "overlay",
             "size": 10,
             "solidity": 0.2
            },
            "type": "scatter"
           }
          ],
          "scatter3d": [
           {
            "line": {
             "colorbar": {
              "outlinewidth": 0,
              "ticks": ""
             }
            },
            "marker": {
             "colorbar": {
              "outlinewidth": 0,
              "ticks": ""
             }
            },
            "type": "scatter3d"
           }
          ],
          "scattercarpet": [
           {
            "marker": {
             "colorbar": {
              "outlinewidth": 0,
              "ticks": ""
             }
            },
            "type": "scattercarpet"
           }
          ],
          "scattergeo": [
           {
            "marker": {
             "colorbar": {
              "outlinewidth": 0,
              "ticks": ""
             }
            },
            "type": "scattergeo"
           }
          ],
          "scattergl": [
           {
            "marker": {
             "colorbar": {
              "outlinewidth": 0,
              "ticks": ""
             }
            },
            "type": "scattergl"
           }
          ],
          "scattermapbox": [
           {
            "marker": {
             "colorbar": {
              "outlinewidth": 0,
              "ticks": ""
             }
            },
            "type": "scattermapbox"
           }
          ],
          "scatterpolar": [
           {
            "marker": {
             "colorbar": {
              "outlinewidth": 0,
              "ticks": ""
             }
            },
            "type": "scatterpolar"
           }
          ],
          "scatterpolargl": [
           {
            "marker": {
             "colorbar": {
              "outlinewidth": 0,
              "ticks": ""
             }
            },
            "type": "scatterpolargl"
           }
          ],
          "scatterternary": [
           {
            "marker": {
             "colorbar": {
              "outlinewidth": 0,
              "ticks": ""
             }
            },
            "type": "scatterternary"
           }
          ],
          "surface": [
           {
            "colorbar": {
             "outlinewidth": 0,
             "ticks": ""
            },
            "colorscale": [
             [
              0,
              "#0d0887"
             ],
             [
              0.1111111111111111,
              "#46039f"
             ],
             [
              0.2222222222222222,
              "#7201a8"
             ],
             [
              0.3333333333333333,
              "#9c179e"
             ],
             [
              0.4444444444444444,
              "#bd3786"
             ],
             [
              0.5555555555555556,
              "#d8576b"
             ],
             [
              0.6666666666666666,
              "#ed7953"
             ],
             [
              0.7777777777777778,
              "#fb9f3a"
             ],
             [
              0.8888888888888888,
              "#fdca26"
             ],
             [
              1,
              "#f0f921"
             ]
            ],
            "type": "surface"
           }
          ],
          "table": [
           {
            "cells": {
             "fill": {
              "color": "#EBF0F8"
             },
             "line": {
              "color": "white"
             }
            },
            "header": {
             "fill": {
              "color": "#C8D4E3"
             },
             "line": {
              "color": "white"
             }
            },
            "type": "table"
           }
          ]
         },
         "layout": {
          "annotationdefaults": {
           "arrowcolor": "#2a3f5f",
           "arrowhead": 0,
           "arrowwidth": 1
          },
          "autotypenumbers": "strict",
          "coloraxis": {
           "colorbar": {
            "outlinewidth": 0,
            "ticks": ""
           }
          },
          "colorscale": {
           "diverging": [
            [
             0,
             "#8e0152"
            ],
            [
             0.1,
             "#c51b7d"
            ],
            [
             0.2,
             "#de77ae"
            ],
            [
             0.3,
             "#f1b6da"
            ],
            [
             0.4,
             "#fde0ef"
            ],
            [
             0.5,
             "#f7f7f7"
            ],
            [
             0.6,
             "#e6f5d0"
            ],
            [
             0.7,
             "#b8e186"
            ],
            [
             0.8,
             "#7fbc41"
            ],
            [
             0.9,
             "#4d9221"
            ],
            [
             1,
             "#276419"
            ]
           ],
           "sequential": [
            [
             0,
             "#0d0887"
            ],
            [
             0.1111111111111111,
             "#46039f"
            ],
            [
             0.2222222222222222,
             "#7201a8"
            ],
            [
             0.3333333333333333,
             "#9c179e"
            ],
            [
             0.4444444444444444,
             "#bd3786"
            ],
            [
             0.5555555555555556,
             "#d8576b"
            ],
            [
             0.6666666666666666,
             "#ed7953"
            ],
            [
             0.7777777777777778,
             "#fb9f3a"
            ],
            [
             0.8888888888888888,
             "#fdca26"
            ],
            [
             1,
             "#f0f921"
            ]
           ],
           "sequentialminus": [
            [
             0,
             "#0d0887"
            ],
            [
             0.1111111111111111,
             "#46039f"
            ],
            [
             0.2222222222222222,
             "#7201a8"
            ],
            [
             0.3333333333333333,
             "#9c179e"
            ],
            [
             0.4444444444444444,
             "#bd3786"
            ],
            [
             0.5555555555555556,
             "#d8576b"
            ],
            [
             0.6666666666666666,
             "#ed7953"
            ],
            [
             0.7777777777777778,
             "#fb9f3a"
            ],
            [
             0.8888888888888888,
             "#fdca26"
            ],
            [
             1,
             "#f0f921"
            ]
           ]
          },
          "colorway": [
           "#636efa",
           "#EF553B",
           "#00cc96",
           "#ab63fa",
           "#FFA15A",
           "#19d3f3",
           "#FF6692",
           "#B6E880",
           "#FF97FF",
           "#FECB52"
          ],
          "font": {
           "color": "#2a3f5f"
          },
          "geo": {
           "bgcolor": "white",
           "lakecolor": "white",
           "landcolor": "#E5ECF6",
           "showlakes": true,
           "showland": true,
           "subunitcolor": "white"
          },
          "hoverlabel": {
           "align": "left"
          },
          "hovermode": "closest",
          "mapbox": {
           "style": "light"
          },
          "paper_bgcolor": "white",
          "plot_bgcolor": "#E5ECF6",
          "polar": {
           "angularaxis": {
            "gridcolor": "white",
            "linecolor": "white",
            "ticks": ""
           },
           "bgcolor": "#E5ECF6",
           "radialaxis": {
            "gridcolor": "white",
            "linecolor": "white",
            "ticks": ""
           }
          },
          "scene": {
           "xaxis": {
            "backgroundcolor": "#E5ECF6",
            "gridcolor": "white",
            "gridwidth": 2,
            "linecolor": "white",
            "showbackground": true,
            "ticks": "",
            "zerolinecolor": "white"
           },
           "yaxis": {
            "backgroundcolor": "#E5ECF6",
            "gridcolor": "white",
            "gridwidth": 2,
            "linecolor": "white",
            "showbackground": true,
            "ticks": "",
            "zerolinecolor": "white"
           },
           "zaxis": {
            "backgroundcolor": "#E5ECF6",
            "gridcolor": "white",
            "gridwidth": 2,
            "linecolor": "white",
            "showbackground": true,
            "ticks": "",
            "zerolinecolor": "white"
           }
          },
          "shapedefaults": {
           "line": {
            "color": "#2a3f5f"
           }
          },
          "ternary": {
           "aaxis": {
            "gridcolor": "white",
            "linecolor": "white",
            "ticks": ""
           },
           "baxis": {
            "gridcolor": "white",
            "linecolor": "white",
            "ticks": ""
           },
           "bgcolor": "#E5ECF6",
           "caxis": {
            "gridcolor": "white",
            "linecolor": "white",
            "ticks": ""
           }
          },
          "title": {
           "x": 0.05
          },
          "xaxis": {
           "automargin": true,
           "gridcolor": "white",
           "linecolor": "white",
           "ticks": "",
           "title": {
            "standoff": 15
           },
           "zerolinecolor": "white",
           "zerolinewidth": 2
          },
          "yaxis": {
           "automargin": true,
           "gridcolor": "white",
           "linecolor": "white",
           "ticks": "",
           "title": {
            "standoff": 15
           },
           "zerolinecolor": "white",
           "zerolinewidth": 2
          }
         }
        },
        "title": {
         "text": "Stability of Random Optimization"
        },
        "xaxis": {
         "anchor": "y",
         "domain": [
          0,
          0.45
         ]
        },
        "xaxis2": {
         "anchor": "y2",
         "domain": [
          0.55,
          1
         ]
        },
        "xaxis3": {
         "anchor": "y3",
         "domain": [
          0,
          0.45
         ],
         "title": {
          "text": "N_iter"
         }
        },
        "xaxis4": {
         "anchor": "y4",
         "domain": [
          0.55,
          1
         ],
         "title": {
          "text": "N_iter"
         }
        },
        "yaxis": {
         "anchor": "x",
         "domain": [
          0.625,
          1
         ],
         "range": [
          0,
          1
         ],
         "title": {
          "text": "Scores"
         }
        },
        "yaxis2": {
         "anchor": "x2",
         "domain": [
          0.625,
          1
         ],
         "range": [
          0,
          1
         ]
        },
        "yaxis3": {
         "anchor": "x3",
         "domain": [
          0,
          0.375
         ],
         "range": [
          0,
          1
         ],
         "title": {
          "text": "Scores"
         }
        },
        "yaxis4": {
         "anchor": "x4",
         "domain": [
          0,
          0.375
         ],
         "range": [
          0,
          1
         ]
        }
       }
      }
     },
     "metadata": {},
     "output_type": "display_data"
    }
   ],
   "source": [
    "plot_stability(results_random['Random Forest']['scores_test'], \n",
    "               'Random', interval=10)"
   ]
  },
  {
   "attachments": {},
   "cell_type": "markdown",
   "metadata": {
    "datalore": {
     "hide_input_from_viewers": true,
     "hide_output_from_viewers": true,
     "node_id": "22R9oScrwDooT8PJvxzd5z",
     "type": "MD"
    }
   },
   "source": [
    "## Bayes Search"
   ]
  },
  {
   "attachments": {},
   "cell_type": "markdown",
   "metadata": {
    "datalore": {
     "hide_input_from_viewers": true,
     "hide_output_from_viewers": true,
     "node_id": "IBpYxiSvN5zU6qReIX1SiW",
     "type": "MD"
    }
   },
   "source": [
    "### KNN"
   ]
  },
  {
   "cell_type": "code",
   "execution_count": 64,
   "metadata": {
    "datalore": {
     "hide_input_from_viewers": true,
     "hide_output_from_viewers": true,
     "node_id": "XD1bKIiJ2kyQil2ZRQ7Q08",
     "type": "CODE"
    }
   },
   "outputs": [
    {
     "data": {
      "application/vnd.plotly.v1+json": {
       "config": {
        "plotlyServerURL": "https://plot.ly"
       },
       "data": [
        {
         "line": {
          "color": "red"
         },
         "mode": "markers+lines",
         "type": "scatter",
         "x": [
          10,
          20
         ],
         "xaxis": "x",
         "y": [
          0.9800000000000001,
          0.9800000000000001
         ],
         "yaxis": "y"
        },
        {
         "line": {
          "color": "red"
         },
         "mode": "markers+lines",
         "type": "scatter",
         "x": [
          10,
          20
         ],
         "xaxis": "x2",
         "y": [
          0.712768361581921,
          0.7129943502824858
         ],
         "yaxis": "y2"
        },
        {
         "line": {
          "color": "red"
         },
         "mode": "markers+lines",
         "type": "scatter",
         "x": [
          10,
          20
         ],
         "xaxis": "x3",
         "y": [
          0.7061594202898551,
          0.7061594202898551
         ],
         "yaxis": "y3"
        },
        {
         "line": {
          "color": "red"
         },
         "mode": "markers+lines",
         "type": "scatter",
         "x": [
          10,
          20
         ],
         "xaxis": "x4",
         "y": [
          0.9291182501708818,
          0.9317498291182502
         ],
         "yaxis": "y4"
        }
       ],
       "layout": {
        "annotations": [
         {
          "font": {
           "size": 16
          },
          "showarrow": false,
          "text": "Dataset: iris",
          "x": 0.225,
          "xanchor": "center",
          "xref": "paper",
          "y": 1,
          "yanchor": "bottom",
          "yref": "paper"
         },
         {
          "font": {
           "size": 16
          },
          "showarrow": false,
          "text": "Dataset: diabetes",
          "x": 0.775,
          "xanchor": "center",
          "xref": "paper",
          "y": 1,
          "yanchor": "bottom",
          "yref": "paper"
         },
         {
          "font": {
           "size": 16
          },
          "showarrow": false,
          "text": "Dataset: wine",
          "x": 0.225,
          "xanchor": "center",
          "xref": "paper",
          "y": 0.375,
          "yanchor": "bottom",
          "yref": "paper"
         },
         {
          "font": {
           "size": 16
          },
          "showarrow": false,
          "text": "Dataset: breast",
          "x": 0.775,
          "xanchor": "center",
          "xref": "paper",
          "y": 0.375,
          "yanchor": "bottom",
          "yref": "paper"
         }
        ],
        "showlegend": false,
        "template": {
         "data": {
          "bar": [
           {
            "error_x": {
             "color": "#2a3f5f"
            },
            "error_y": {
             "color": "#2a3f5f"
            },
            "marker": {
             "line": {
              "color": "#E5ECF6",
              "width": 0.5
             },
             "pattern": {
              "fillmode": "overlay",
              "size": 10,
              "solidity": 0.2
             }
            },
            "type": "bar"
           }
          ],
          "barpolar": [
           {
            "marker": {
             "line": {
              "color": "#E5ECF6",
              "width": 0.5
             },
             "pattern": {
              "fillmode": "overlay",
              "size": 10,
              "solidity": 0.2
             }
            },
            "type": "barpolar"
           }
          ],
          "carpet": [
           {
            "aaxis": {
             "endlinecolor": "#2a3f5f",
             "gridcolor": "white",
             "linecolor": "white",
             "minorgridcolor": "white",
             "startlinecolor": "#2a3f5f"
            },
            "baxis": {
             "endlinecolor": "#2a3f5f",
             "gridcolor": "white",
             "linecolor": "white",
             "minorgridcolor": "white",
             "startlinecolor": "#2a3f5f"
            },
            "type": "carpet"
           }
          ],
          "choropleth": [
           {
            "colorbar": {
             "outlinewidth": 0,
             "ticks": ""
            },
            "type": "choropleth"
           }
          ],
          "contour": [
           {
            "colorbar": {
             "outlinewidth": 0,
             "ticks": ""
            },
            "colorscale": [
             [
              0,
              "#0d0887"
             ],
             [
              0.1111111111111111,
              "#46039f"
             ],
             [
              0.2222222222222222,
              "#7201a8"
             ],
             [
              0.3333333333333333,
              "#9c179e"
             ],
             [
              0.4444444444444444,
              "#bd3786"
             ],
             [
              0.5555555555555556,
              "#d8576b"
             ],
             [
              0.6666666666666666,
              "#ed7953"
             ],
             [
              0.7777777777777778,
              "#fb9f3a"
             ],
             [
              0.8888888888888888,
              "#fdca26"
             ],
             [
              1,
              "#f0f921"
             ]
            ],
            "type": "contour"
           }
          ],
          "contourcarpet": [
           {
            "colorbar": {
             "outlinewidth": 0,
             "ticks": ""
            },
            "type": "contourcarpet"
           }
          ],
          "heatmap": [
           {
            "colorbar": {
             "outlinewidth": 0,
             "ticks": ""
            },
            "colorscale": [
             [
              0,
              "#0d0887"
             ],
             [
              0.1111111111111111,
              "#46039f"
             ],
             [
              0.2222222222222222,
              "#7201a8"
             ],
             [
              0.3333333333333333,
              "#9c179e"
             ],
             [
              0.4444444444444444,
              "#bd3786"
             ],
             [
              0.5555555555555556,
              "#d8576b"
             ],
             [
              0.6666666666666666,
              "#ed7953"
             ],
             [
              0.7777777777777778,
              "#fb9f3a"
             ],
             [
              0.8888888888888888,
              "#fdca26"
             ],
             [
              1,
              "#f0f921"
             ]
            ],
            "type": "heatmap"
           }
          ],
          "heatmapgl": [
           {
            "colorbar": {
             "outlinewidth": 0,
             "ticks": ""
            },
            "colorscale": [
             [
              0,
              "#0d0887"
             ],
             [
              0.1111111111111111,
              "#46039f"
             ],
             [
              0.2222222222222222,
              "#7201a8"
             ],
             [
              0.3333333333333333,
              "#9c179e"
             ],
             [
              0.4444444444444444,
              "#bd3786"
             ],
             [
              0.5555555555555556,
              "#d8576b"
             ],
             [
              0.6666666666666666,
              "#ed7953"
             ],
             [
              0.7777777777777778,
              "#fb9f3a"
             ],
             [
              0.8888888888888888,
              "#fdca26"
             ],
             [
              1,
              "#f0f921"
             ]
            ],
            "type": "heatmapgl"
           }
          ],
          "histogram": [
           {
            "marker": {
             "pattern": {
              "fillmode": "overlay",
              "size": 10,
              "solidity": 0.2
             }
            },
            "type": "histogram"
           }
          ],
          "histogram2d": [
           {
            "colorbar": {
             "outlinewidth": 0,
             "ticks": ""
            },
            "colorscale": [
             [
              0,
              "#0d0887"
             ],
             [
              0.1111111111111111,
              "#46039f"
             ],
             [
              0.2222222222222222,
              "#7201a8"
             ],
             [
              0.3333333333333333,
              "#9c179e"
             ],
             [
              0.4444444444444444,
              "#bd3786"
             ],
             [
              0.5555555555555556,
              "#d8576b"
             ],
             [
              0.6666666666666666,
              "#ed7953"
             ],
             [
              0.7777777777777778,
              "#fb9f3a"
             ],
             [
              0.8888888888888888,
              "#fdca26"
             ],
             [
              1,
              "#f0f921"
             ]
            ],
            "type": "histogram2d"
           }
          ],
          "histogram2dcontour": [
           {
            "colorbar": {
             "outlinewidth": 0,
             "ticks": ""
            },
            "colorscale": [
             [
              0,
              "#0d0887"
             ],
             [
              0.1111111111111111,
              "#46039f"
             ],
             [
              0.2222222222222222,
              "#7201a8"
             ],
             [
              0.3333333333333333,
              "#9c179e"
             ],
             [
              0.4444444444444444,
              "#bd3786"
             ],
             [
              0.5555555555555556,
              "#d8576b"
             ],
             [
              0.6666666666666666,
              "#ed7953"
             ],
             [
              0.7777777777777778,
              "#fb9f3a"
             ],
             [
              0.8888888888888888,
              "#fdca26"
             ],
             [
              1,
              "#f0f921"
             ]
            ],
            "type": "histogram2dcontour"
           }
          ],
          "mesh3d": [
           {
            "colorbar": {
             "outlinewidth": 0,
             "ticks": ""
            },
            "type": "mesh3d"
           }
          ],
          "parcoords": [
           {
            "line": {
             "colorbar": {
              "outlinewidth": 0,
              "ticks": ""
             }
            },
            "type": "parcoords"
           }
          ],
          "pie": [
           {
            "automargin": true,
            "type": "pie"
           }
          ],
          "scatter": [
           {
            "fillpattern": {
             "fillmode": "overlay",
             "size": 10,
             "solidity": 0.2
            },
            "type": "scatter"
           }
          ],
          "scatter3d": [
           {
            "line": {
             "colorbar": {
              "outlinewidth": 0,
              "ticks": ""
             }
            },
            "marker": {
             "colorbar": {
              "outlinewidth": 0,
              "ticks": ""
             }
            },
            "type": "scatter3d"
           }
          ],
          "scattercarpet": [
           {
            "marker": {
             "colorbar": {
              "outlinewidth": 0,
              "ticks": ""
             }
            },
            "type": "scattercarpet"
           }
          ],
          "scattergeo": [
           {
            "marker": {
             "colorbar": {
              "outlinewidth": 0,
              "ticks": ""
             }
            },
            "type": "scattergeo"
           }
          ],
          "scattergl": [
           {
            "marker": {
             "colorbar": {
              "outlinewidth": 0,
              "ticks": ""
             }
            },
            "type": "scattergl"
           }
          ],
          "scattermapbox": [
           {
            "marker": {
             "colorbar": {
              "outlinewidth": 0,
              "ticks": ""
             }
            },
            "type": "scattermapbox"
           }
          ],
          "scatterpolar": [
           {
            "marker": {
             "colorbar": {
              "outlinewidth": 0,
              "ticks": ""
             }
            },
            "type": "scatterpolar"
           }
          ],
          "scatterpolargl": [
           {
            "marker": {
             "colorbar": {
              "outlinewidth": 0,
              "ticks": ""
             }
            },
            "type": "scatterpolargl"
           }
          ],
          "scatterternary": [
           {
            "marker": {
             "colorbar": {
              "outlinewidth": 0,
              "ticks": ""
             }
            },
            "type": "scatterternary"
           }
          ],
          "surface": [
           {
            "colorbar": {
             "outlinewidth": 0,
             "ticks": ""
            },
            "colorscale": [
             [
              0,
              "#0d0887"
             ],
             [
              0.1111111111111111,
              "#46039f"
             ],
             [
              0.2222222222222222,
              "#7201a8"
             ],
             [
              0.3333333333333333,
              "#9c179e"
             ],
             [
              0.4444444444444444,
              "#bd3786"
             ],
             [
              0.5555555555555556,
              "#d8576b"
             ],
             [
              0.6666666666666666,
              "#ed7953"
             ],
             [
              0.7777777777777778,
              "#fb9f3a"
             ],
             [
              0.8888888888888888,
              "#fdca26"
             ],
             [
              1,
              "#f0f921"
             ]
            ],
            "type": "surface"
           }
          ],
          "table": [
           {
            "cells": {
             "fill": {
              "color": "#EBF0F8"
             },
             "line": {
              "color": "white"
             }
            },
            "header": {
             "fill": {
              "color": "#C8D4E3"
             },
             "line": {
              "color": "white"
             }
            },
            "type": "table"
           }
          ]
         },
         "layout": {
          "annotationdefaults": {
           "arrowcolor": "#2a3f5f",
           "arrowhead": 0,
           "arrowwidth": 1
          },
          "autotypenumbers": "strict",
          "coloraxis": {
           "colorbar": {
            "outlinewidth": 0,
            "ticks": ""
           }
          },
          "colorscale": {
           "diverging": [
            [
             0,
             "#8e0152"
            ],
            [
             0.1,
             "#c51b7d"
            ],
            [
             0.2,
             "#de77ae"
            ],
            [
             0.3,
             "#f1b6da"
            ],
            [
             0.4,
             "#fde0ef"
            ],
            [
             0.5,
             "#f7f7f7"
            ],
            [
             0.6,
             "#e6f5d0"
            ],
            [
             0.7,
             "#b8e186"
            ],
            [
             0.8,
             "#7fbc41"
            ],
            [
             0.9,
             "#4d9221"
            ],
            [
             1,
             "#276419"
            ]
           ],
           "sequential": [
            [
             0,
             "#0d0887"
            ],
            [
             0.1111111111111111,
             "#46039f"
            ],
            [
             0.2222222222222222,
             "#7201a8"
            ],
            [
             0.3333333333333333,
             "#9c179e"
            ],
            [
             0.4444444444444444,
             "#bd3786"
            ],
            [
             0.5555555555555556,
             "#d8576b"
            ],
            [
             0.6666666666666666,
             "#ed7953"
            ],
            [
             0.7777777777777778,
             "#fb9f3a"
            ],
            [
             0.8888888888888888,
             "#fdca26"
            ],
            [
             1,
             "#f0f921"
            ]
           ],
           "sequentialminus": [
            [
             0,
             "#0d0887"
            ],
            [
             0.1111111111111111,
             "#46039f"
            ],
            [
             0.2222222222222222,
             "#7201a8"
            ],
            [
             0.3333333333333333,
             "#9c179e"
            ],
            [
             0.4444444444444444,
             "#bd3786"
            ],
            [
             0.5555555555555556,
             "#d8576b"
            ],
            [
             0.6666666666666666,
             "#ed7953"
            ],
            [
             0.7777777777777778,
             "#fb9f3a"
            ],
            [
             0.8888888888888888,
             "#fdca26"
            ],
            [
             1,
             "#f0f921"
            ]
           ]
          },
          "colorway": [
           "#636efa",
           "#EF553B",
           "#00cc96",
           "#ab63fa",
           "#FFA15A",
           "#19d3f3",
           "#FF6692",
           "#B6E880",
           "#FF97FF",
           "#FECB52"
          ],
          "font": {
           "color": "#2a3f5f"
          },
          "geo": {
           "bgcolor": "white",
           "lakecolor": "white",
           "landcolor": "#E5ECF6",
           "showlakes": true,
           "showland": true,
           "subunitcolor": "white"
          },
          "hoverlabel": {
           "align": "left"
          },
          "hovermode": "closest",
          "mapbox": {
           "style": "light"
          },
          "paper_bgcolor": "white",
          "plot_bgcolor": "#E5ECF6",
          "polar": {
           "angularaxis": {
            "gridcolor": "white",
            "linecolor": "white",
            "ticks": ""
           },
           "bgcolor": "#E5ECF6",
           "radialaxis": {
            "gridcolor": "white",
            "linecolor": "white",
            "ticks": ""
           }
          },
          "scene": {
           "xaxis": {
            "backgroundcolor": "#E5ECF6",
            "gridcolor": "white",
            "gridwidth": 2,
            "linecolor": "white",
            "showbackground": true,
            "ticks": "",
            "zerolinecolor": "white"
           },
           "yaxis": {
            "backgroundcolor": "#E5ECF6",
            "gridcolor": "white",
            "gridwidth": 2,
            "linecolor": "white",
            "showbackground": true,
            "ticks": "",
            "zerolinecolor": "white"
           },
           "zaxis": {
            "backgroundcolor": "#E5ECF6",
            "gridcolor": "white",
            "gridwidth": 2,
            "linecolor": "white",
            "showbackground": true,
            "ticks": "",
            "zerolinecolor": "white"
           }
          },
          "shapedefaults": {
           "line": {
            "color": "#2a3f5f"
           }
          },
          "ternary": {
           "aaxis": {
            "gridcolor": "white",
            "linecolor": "white",
            "ticks": ""
           },
           "baxis": {
            "gridcolor": "white",
            "linecolor": "white",
            "ticks": ""
           },
           "bgcolor": "#E5ECF6",
           "caxis": {
            "gridcolor": "white",
            "linecolor": "white",
            "ticks": ""
           }
          },
          "title": {
           "x": 0.05
          },
          "xaxis": {
           "automargin": true,
           "gridcolor": "white",
           "linecolor": "white",
           "ticks": "",
           "title": {
            "standoff": 15
           },
           "zerolinecolor": "white",
           "zerolinewidth": 2
          },
          "yaxis": {
           "automargin": true,
           "gridcolor": "white",
           "linecolor": "white",
           "ticks": "",
           "title": {
            "standoff": 15
           },
           "zerolinecolor": "white",
           "zerolinewidth": 2
          }
         }
        },
        "title": {
         "text": "Stability of Bayesian Optimization"
        },
        "xaxis": {
         "anchor": "y",
         "domain": [
          0,
          0.45
         ]
        },
        "xaxis2": {
         "anchor": "y2",
         "domain": [
          0.55,
          1
         ]
        },
        "xaxis3": {
         "anchor": "y3",
         "domain": [
          0,
          0.45
         ],
         "title": {
          "text": "N_iter"
         }
        },
        "xaxis4": {
         "anchor": "y4",
         "domain": [
          0.55,
          1
         ],
         "title": {
          "text": "N_iter"
         }
        },
        "yaxis": {
         "anchor": "x",
         "domain": [
          0.625,
          1
         ],
         "range": [
          0,
          1
         ],
         "title": {
          "text": "Scores"
         }
        },
        "yaxis2": {
         "anchor": "x2",
         "domain": [
          0.625,
          1
         ],
         "range": [
          0,
          1
         ]
        },
        "yaxis3": {
         "anchor": "x3",
         "domain": [
          0,
          0.375
         ],
         "range": [
          0,
          1
         ],
         "title": {
          "text": "Scores"
         }
        },
        "yaxis4": {
         "anchor": "x4",
         "domain": [
          0,
          0.375
         ],
         "range": [
          0,
          1
         ]
        }
       }
      }
     },
     "metadata": {},
     "output_type": "display_data"
    }
   ],
   "source": [
    "plot_stability(results_bayes['KNN']['scores_test'], \n",
    "               'Bayesian', interval=10)"
   ]
  },
  {
   "attachments": {},
   "cell_type": "markdown",
   "metadata": {
    "datalore": {
     "hide_input_from_viewers": true,
     "hide_output_from_viewers": true,
     "node_id": "p2lQ5oldXcahbyINs9VFhO",
     "type": "MD"
    }
   },
   "source": [
    "### XGBoost"
   ]
  },
  {
   "cell_type": "code",
   "execution_count": 65,
   "metadata": {
    "datalore": {
     "hide_input_from_viewers": true,
     "hide_output_from_viewers": true,
     "node_id": "vrGUUT29BLc7NaVtPYi5my",
     "type": "CODE"
    }
   },
   "outputs": [
    {
     "data": {
      "application/vnd.plotly.v1+json": {
       "config": {
        "plotlyServerURL": "https://plot.ly"
       },
       "data": [
        {
         "line": {
          "color": "red"
         },
         "mode": "markers+lines",
         "type": "scatter",
         "x": [
          10,
          20,
          30,
          40,
          50,
          60,
          70,
          80,
          90,
          100,
          110,
          120,
          130,
          140,
          150
         ],
         "xaxis": "x",
         "y": [
          0.3,
          0.9099999999999999,
          0.9400000000000001,
          0.9400000000000001,
          0.95,
          0.95,
          0.95,
          0.95,
          0.95,
          0.95,
          0.95,
          0.95,
          0.95,
          0.95,
          0.95
         ],
         "yaxis": "y"
        },
        {
         "line": {
          "color": "red"
         },
         "mode": "markers+lines",
         "type": "scatter",
         "x": [
          10,
          20,
          30,
          40,
          50,
          60,
          70,
          80,
          90,
          100,
          110,
          120,
          130,
          140,
          150
         ],
         "xaxis": "x2",
         "y": [
          0.5033898305084745,
          0.658813559322034,
          0.7094915254237287,
          0.7162711864406779,
          0.729774011299435,
          0.729774011299435,
          0.7298870056497175,
          0.74,
          0.74,
          0.7400564971751413,
          0.7400564971751413,
          0.7400564971751413,
          0.7400564971751413,
          0.7400564971751413,
          0.7400564971751413
         ],
         "yaxis": "y2"
        },
        {
         "line": {
          "color": "red"
         },
         "mode": "markers+lines",
         "type": "scatter",
         "x": [
          10,
          20,
          30,
          40,
          50,
          60,
          70,
          80,
          90,
          100,
          110,
          120,
          130,
          140,
          150
         ],
         "xaxis": "x3",
         "y": [
          0.361231884057971,
          0.8652173913043478,
          0.9655797101449275,
          0.9659420289855072,
          0.9659420289855072,
          0.9659420289855072,
          0.9659420289855072,
          0.9659420289855072,
          0.9659420289855072,
          0.9659420289855072,
          0.9659420289855072,
          0.9659420289855072,
          0.9659420289855072,
          0.9659420289855072,
          0.9659420289855072
         ],
         "yaxis": "y3"
        },
        {
         "line": {
          "color": "red"
         },
         "mode": "markers+lines",
         "type": "scatter",
         "x": [
          10,
          20,
          30,
          40,
          50,
          60,
          70,
          80,
          90,
          100,
          110,
          120,
          130,
          140,
          150
         ],
         "xaxis": "x4",
         "y": [
          0.35956937799043054,
          0.9737183868762816,
          0.9737183868762816,
          0.9737183868762816,
          0.9737183868762816,
          0.9737183868762816,
          0.9737183868762816,
          0.9737525632262475,
          0.9737525632262475,
          0.9737525632262475,
          0.9737525632262475,
          0.9737525632262475,
          0.9737525632262475,
          0.9737525632262475,
          0.9737525632262475
         ],
         "yaxis": "y4"
        }
       ],
       "layout": {
        "annotations": [
         {
          "font": {
           "size": 16
          },
          "showarrow": false,
          "text": "Dataset: iris",
          "x": 0.225,
          "xanchor": "center",
          "xref": "paper",
          "y": 1,
          "yanchor": "bottom",
          "yref": "paper"
         },
         {
          "font": {
           "size": 16
          },
          "showarrow": false,
          "text": "Dataset: diabetes",
          "x": 0.775,
          "xanchor": "center",
          "xref": "paper",
          "y": 1,
          "yanchor": "bottom",
          "yref": "paper"
         },
         {
          "font": {
           "size": 16
          },
          "showarrow": false,
          "text": "Dataset: wine",
          "x": 0.225,
          "xanchor": "center",
          "xref": "paper",
          "y": 0.375,
          "yanchor": "bottom",
          "yref": "paper"
         },
         {
          "font": {
           "size": 16
          },
          "showarrow": false,
          "text": "Dataset: breast",
          "x": 0.775,
          "xanchor": "center",
          "xref": "paper",
          "y": 0.375,
          "yanchor": "bottom",
          "yref": "paper"
         }
        ],
        "showlegend": false,
        "template": {
         "data": {
          "bar": [
           {
            "error_x": {
             "color": "#2a3f5f"
            },
            "error_y": {
             "color": "#2a3f5f"
            },
            "marker": {
             "line": {
              "color": "#E5ECF6",
              "width": 0.5
             },
             "pattern": {
              "fillmode": "overlay",
              "size": 10,
              "solidity": 0.2
             }
            },
            "type": "bar"
           }
          ],
          "barpolar": [
           {
            "marker": {
             "line": {
              "color": "#E5ECF6",
              "width": 0.5
             },
             "pattern": {
              "fillmode": "overlay",
              "size": 10,
              "solidity": 0.2
             }
            },
            "type": "barpolar"
           }
          ],
          "carpet": [
           {
            "aaxis": {
             "endlinecolor": "#2a3f5f",
             "gridcolor": "white",
             "linecolor": "white",
             "minorgridcolor": "white",
             "startlinecolor": "#2a3f5f"
            },
            "baxis": {
             "endlinecolor": "#2a3f5f",
             "gridcolor": "white",
             "linecolor": "white",
             "minorgridcolor": "white",
             "startlinecolor": "#2a3f5f"
            },
            "type": "carpet"
           }
          ],
          "choropleth": [
           {
            "colorbar": {
             "outlinewidth": 0,
             "ticks": ""
            },
            "type": "choropleth"
           }
          ],
          "contour": [
           {
            "colorbar": {
             "outlinewidth": 0,
             "ticks": ""
            },
            "colorscale": [
             [
              0,
              "#0d0887"
             ],
             [
              0.1111111111111111,
              "#46039f"
             ],
             [
              0.2222222222222222,
              "#7201a8"
             ],
             [
              0.3333333333333333,
              "#9c179e"
             ],
             [
              0.4444444444444444,
              "#bd3786"
             ],
             [
              0.5555555555555556,
              "#d8576b"
             ],
             [
              0.6666666666666666,
              "#ed7953"
             ],
             [
              0.7777777777777778,
              "#fb9f3a"
             ],
             [
              0.8888888888888888,
              "#fdca26"
             ],
             [
              1,
              "#f0f921"
             ]
            ],
            "type": "contour"
           }
          ],
          "contourcarpet": [
           {
            "colorbar": {
             "outlinewidth": 0,
             "ticks": ""
            },
            "type": "contourcarpet"
           }
          ],
          "heatmap": [
           {
            "colorbar": {
             "outlinewidth": 0,
             "ticks": ""
            },
            "colorscale": [
             [
              0,
              "#0d0887"
             ],
             [
              0.1111111111111111,
              "#46039f"
             ],
             [
              0.2222222222222222,
              "#7201a8"
             ],
             [
              0.3333333333333333,
              "#9c179e"
             ],
             [
              0.4444444444444444,
              "#bd3786"
             ],
             [
              0.5555555555555556,
              "#d8576b"
             ],
             [
              0.6666666666666666,
              "#ed7953"
             ],
             [
              0.7777777777777778,
              "#fb9f3a"
             ],
             [
              0.8888888888888888,
              "#fdca26"
             ],
             [
              1,
              "#f0f921"
             ]
            ],
            "type": "heatmap"
           }
          ],
          "heatmapgl": [
           {
            "colorbar": {
             "outlinewidth": 0,
             "ticks": ""
            },
            "colorscale": [
             [
              0,
              "#0d0887"
             ],
             [
              0.1111111111111111,
              "#46039f"
             ],
             [
              0.2222222222222222,
              "#7201a8"
             ],
             [
              0.3333333333333333,
              "#9c179e"
             ],
             [
              0.4444444444444444,
              "#bd3786"
             ],
             [
              0.5555555555555556,
              "#d8576b"
             ],
             [
              0.6666666666666666,
              "#ed7953"
             ],
             [
              0.7777777777777778,
              "#fb9f3a"
             ],
             [
              0.8888888888888888,
              "#fdca26"
             ],
             [
              1,
              "#f0f921"
             ]
            ],
            "type": "heatmapgl"
           }
          ],
          "histogram": [
           {
            "marker": {
             "pattern": {
              "fillmode": "overlay",
              "size": 10,
              "solidity": 0.2
             }
            },
            "type": "histogram"
           }
          ],
          "histogram2d": [
           {
            "colorbar": {
             "outlinewidth": 0,
             "ticks": ""
            },
            "colorscale": [
             [
              0,
              "#0d0887"
             ],
             [
              0.1111111111111111,
              "#46039f"
             ],
             [
              0.2222222222222222,
              "#7201a8"
             ],
             [
              0.3333333333333333,
              "#9c179e"
             ],
             [
              0.4444444444444444,
              "#bd3786"
             ],
             [
              0.5555555555555556,
              "#d8576b"
             ],
             [
              0.6666666666666666,
              "#ed7953"
             ],
             [
              0.7777777777777778,
              "#fb9f3a"
             ],
             [
              0.8888888888888888,
              "#fdca26"
             ],
             [
              1,
              "#f0f921"
             ]
            ],
            "type": "histogram2d"
           }
          ],
          "histogram2dcontour": [
           {
            "colorbar": {
             "outlinewidth": 0,
             "ticks": ""
            },
            "colorscale": [
             [
              0,
              "#0d0887"
             ],
             [
              0.1111111111111111,
              "#46039f"
             ],
             [
              0.2222222222222222,
              "#7201a8"
             ],
             [
              0.3333333333333333,
              "#9c179e"
             ],
             [
              0.4444444444444444,
              "#bd3786"
             ],
             [
              0.5555555555555556,
              "#d8576b"
             ],
             [
              0.6666666666666666,
              "#ed7953"
             ],
             [
              0.7777777777777778,
              "#fb9f3a"
             ],
             [
              0.8888888888888888,
              "#fdca26"
             ],
             [
              1,
              "#f0f921"
             ]
            ],
            "type": "histogram2dcontour"
           }
          ],
          "mesh3d": [
           {
            "colorbar": {
             "outlinewidth": 0,
             "ticks": ""
            },
            "type": "mesh3d"
           }
          ],
          "parcoords": [
           {
            "line": {
             "colorbar": {
              "outlinewidth": 0,
              "ticks": ""
             }
            },
            "type": "parcoords"
           }
          ],
          "pie": [
           {
            "automargin": true,
            "type": "pie"
           }
          ],
          "scatter": [
           {
            "fillpattern": {
             "fillmode": "overlay",
             "size": 10,
             "solidity": 0.2
            },
            "type": "scatter"
           }
          ],
          "scatter3d": [
           {
            "line": {
             "colorbar": {
              "outlinewidth": 0,
              "ticks": ""
             }
            },
            "marker": {
             "colorbar": {
              "outlinewidth": 0,
              "ticks": ""
             }
            },
            "type": "scatter3d"
           }
          ],
          "scattercarpet": [
           {
            "marker": {
             "colorbar": {
              "outlinewidth": 0,
              "ticks": ""
             }
            },
            "type": "scattercarpet"
           }
          ],
          "scattergeo": [
           {
            "marker": {
             "colorbar": {
              "outlinewidth": 0,
              "ticks": ""
             }
            },
            "type": "scattergeo"
           }
          ],
          "scattergl": [
           {
            "marker": {
             "colorbar": {
              "outlinewidth": 0,
              "ticks": ""
             }
            },
            "type": "scattergl"
           }
          ],
          "scattermapbox": [
           {
            "marker": {
             "colorbar": {
              "outlinewidth": 0,
              "ticks": ""
             }
            },
            "type": "scattermapbox"
           }
          ],
          "scatterpolar": [
           {
            "marker": {
             "colorbar": {
              "outlinewidth": 0,
              "ticks": ""
             }
            },
            "type": "scatterpolar"
           }
          ],
          "scatterpolargl": [
           {
            "marker": {
             "colorbar": {
              "outlinewidth": 0,
              "ticks": ""
             }
            },
            "type": "scatterpolargl"
           }
          ],
          "scatterternary": [
           {
            "marker": {
             "colorbar": {
              "outlinewidth": 0,
              "ticks": ""
             }
            },
            "type": "scatterternary"
           }
          ],
          "surface": [
           {
            "colorbar": {
             "outlinewidth": 0,
             "ticks": ""
            },
            "colorscale": [
             [
              0,
              "#0d0887"
             ],
             [
              0.1111111111111111,
              "#46039f"
             ],
             [
              0.2222222222222222,
              "#7201a8"
             ],
             [
              0.3333333333333333,
              "#9c179e"
             ],
             [
              0.4444444444444444,
              "#bd3786"
             ],
             [
              0.5555555555555556,
              "#d8576b"
             ],
             [
              0.6666666666666666,
              "#ed7953"
             ],
             [
              0.7777777777777778,
              "#fb9f3a"
             ],
             [
              0.8888888888888888,
              "#fdca26"
             ],
             [
              1,
              "#f0f921"
             ]
            ],
            "type": "surface"
           }
          ],
          "table": [
           {
            "cells": {
             "fill": {
              "color": "#EBF0F8"
             },
             "line": {
              "color": "white"
             }
            },
            "header": {
             "fill": {
              "color": "#C8D4E3"
             },
             "line": {
              "color": "white"
             }
            },
            "type": "table"
           }
          ]
         },
         "layout": {
          "annotationdefaults": {
           "arrowcolor": "#2a3f5f",
           "arrowhead": 0,
           "arrowwidth": 1
          },
          "autotypenumbers": "strict",
          "coloraxis": {
           "colorbar": {
            "outlinewidth": 0,
            "ticks": ""
           }
          },
          "colorscale": {
           "diverging": [
            [
             0,
             "#8e0152"
            ],
            [
             0.1,
             "#c51b7d"
            ],
            [
             0.2,
             "#de77ae"
            ],
            [
             0.3,
             "#f1b6da"
            ],
            [
             0.4,
             "#fde0ef"
            ],
            [
             0.5,
             "#f7f7f7"
            ],
            [
             0.6,
             "#e6f5d0"
            ],
            [
             0.7,
             "#b8e186"
            ],
            [
             0.8,
             "#7fbc41"
            ],
            [
             0.9,
             "#4d9221"
            ],
            [
             1,
             "#276419"
            ]
           ],
           "sequential": [
            [
             0,
             "#0d0887"
            ],
            [
             0.1111111111111111,
             "#46039f"
            ],
            [
             0.2222222222222222,
             "#7201a8"
            ],
            [
             0.3333333333333333,
             "#9c179e"
            ],
            [
             0.4444444444444444,
             "#bd3786"
            ],
            [
             0.5555555555555556,
             "#d8576b"
            ],
            [
             0.6666666666666666,
             "#ed7953"
            ],
            [
             0.7777777777777778,
             "#fb9f3a"
            ],
            [
             0.8888888888888888,
             "#fdca26"
            ],
            [
             1,
             "#f0f921"
            ]
           ],
           "sequentialminus": [
            [
             0,
             "#0d0887"
            ],
            [
             0.1111111111111111,
             "#46039f"
            ],
            [
             0.2222222222222222,
             "#7201a8"
            ],
            [
             0.3333333333333333,
             "#9c179e"
            ],
            [
             0.4444444444444444,
             "#bd3786"
            ],
            [
             0.5555555555555556,
             "#d8576b"
            ],
            [
             0.6666666666666666,
             "#ed7953"
            ],
            [
             0.7777777777777778,
             "#fb9f3a"
            ],
            [
             0.8888888888888888,
             "#fdca26"
            ],
            [
             1,
             "#f0f921"
            ]
           ]
          },
          "colorway": [
           "#636efa",
           "#EF553B",
           "#00cc96",
           "#ab63fa",
           "#FFA15A",
           "#19d3f3",
           "#FF6692",
           "#B6E880",
           "#FF97FF",
           "#FECB52"
          ],
          "font": {
           "color": "#2a3f5f"
          },
          "geo": {
           "bgcolor": "white",
           "lakecolor": "white",
           "landcolor": "#E5ECF6",
           "showlakes": true,
           "showland": true,
           "subunitcolor": "white"
          },
          "hoverlabel": {
           "align": "left"
          },
          "hovermode": "closest",
          "mapbox": {
           "style": "light"
          },
          "paper_bgcolor": "white",
          "plot_bgcolor": "#E5ECF6",
          "polar": {
           "angularaxis": {
            "gridcolor": "white",
            "linecolor": "white",
            "ticks": ""
           },
           "bgcolor": "#E5ECF6",
           "radialaxis": {
            "gridcolor": "white",
            "linecolor": "white",
            "ticks": ""
           }
          },
          "scene": {
           "xaxis": {
            "backgroundcolor": "#E5ECF6",
            "gridcolor": "white",
            "gridwidth": 2,
            "linecolor": "white",
            "showbackground": true,
            "ticks": "",
            "zerolinecolor": "white"
           },
           "yaxis": {
            "backgroundcolor": "#E5ECF6",
            "gridcolor": "white",
            "gridwidth": 2,
            "linecolor": "white",
            "showbackground": true,
            "ticks": "",
            "zerolinecolor": "white"
           },
           "zaxis": {
            "backgroundcolor": "#E5ECF6",
            "gridcolor": "white",
            "gridwidth": 2,
            "linecolor": "white",
            "showbackground": true,
            "ticks": "",
            "zerolinecolor": "white"
           }
          },
          "shapedefaults": {
           "line": {
            "color": "#2a3f5f"
           }
          },
          "ternary": {
           "aaxis": {
            "gridcolor": "white",
            "linecolor": "white",
            "ticks": ""
           },
           "baxis": {
            "gridcolor": "white",
            "linecolor": "white",
            "ticks": ""
           },
           "bgcolor": "#E5ECF6",
           "caxis": {
            "gridcolor": "white",
            "linecolor": "white",
            "ticks": ""
           }
          },
          "title": {
           "x": 0.05
          },
          "xaxis": {
           "automargin": true,
           "gridcolor": "white",
           "linecolor": "white",
           "ticks": "",
           "title": {
            "standoff": 15
           },
           "zerolinecolor": "white",
           "zerolinewidth": 2
          },
          "yaxis": {
           "automargin": true,
           "gridcolor": "white",
           "linecolor": "white",
           "ticks": "",
           "title": {
            "standoff": 15
           },
           "zerolinecolor": "white",
           "zerolinewidth": 2
          }
         }
        },
        "title": {
         "text": "Stability of Bayesian Optimization"
        },
        "xaxis": {
         "anchor": "y",
         "domain": [
          0,
          0.45
         ]
        },
        "xaxis2": {
         "anchor": "y2",
         "domain": [
          0.55,
          1
         ]
        },
        "xaxis3": {
         "anchor": "y3",
         "domain": [
          0,
          0.45
         ],
         "title": {
          "text": "N_iter"
         }
        },
        "xaxis4": {
         "anchor": "y4",
         "domain": [
          0.55,
          1
         ],
         "title": {
          "text": "N_iter"
         }
        },
        "yaxis": {
         "anchor": "x",
         "domain": [
          0.625,
          1
         ],
         "range": [
          0,
          1
         ],
         "title": {
          "text": "Scores"
         }
        },
        "yaxis2": {
         "anchor": "x2",
         "domain": [
          0.625,
          1
         ],
         "range": [
          0,
          1
         ]
        },
        "yaxis3": {
         "anchor": "x3",
         "domain": [
          0,
          0.375
         ],
         "range": [
          0,
          1
         ],
         "title": {
          "text": "Scores"
         }
        },
        "yaxis4": {
         "anchor": "x4",
         "domain": [
          0,
          0.375
         ],
         "range": [
          0,
          1
         ]
        }
       }
      }
     },
     "metadata": {},
     "output_type": "display_data"
    }
   ],
   "source": [
    "plot_stability(results_bayes['XGboost']['scores_test'], \n",
    "               'Bayesian', interval=10)"
   ]
  },
  {
   "attachments": {},
   "cell_type": "markdown",
   "metadata": {
    "datalore": {
     "hide_input_from_viewers": true,
     "hide_output_from_viewers": true,
     "node_id": "s44ew4mBC6pEUejDnWz2Ew",
     "type": "MD"
    }
   },
   "source": [
    "### Random Forest"
   ]
  },
  {
   "cell_type": "code",
   "execution_count": 66,
   "metadata": {
    "datalore": {
     "hide_input_from_viewers": true,
     "hide_output_from_viewers": true,
     "node_id": "6was8Qu4XTVJEbBWwRLZmT",
     "type": "CODE"
    }
   },
   "outputs": [
    {
     "data": {
      "application/vnd.plotly.v1+json": {
       "config": {
        "plotlyServerURL": "https://plot.ly"
       },
       "data": [
        {
         "line": {
          "color": "red"
         },
         "mode": "markers+lines",
         "type": "scatter",
         "x": [
          10,
          20,
          30,
          40,
          50,
          60,
          70,
          80,
          90,
          100,
          110,
          120,
          130,
          140,
          150
         ],
         "xaxis": "x",
         "y": [
          0.9400000000000001,
          0.95,
          0.95,
          0.95,
          0.95,
          0.95,
          0.95,
          0.95,
          0.95,
          0.95,
          0.95,
          0.95,
          0.95,
          0.95,
          0.95
         ],
         "yaxis": "y"
        },
        {
         "line": {
          "color": "red"
         },
         "mode": "markers+lines",
         "type": "scatter",
         "x": [
          10,
          20,
          30,
          40,
          50,
          60,
          70,
          80,
          90,
          100,
          110,
          120,
          130,
          140,
          150
         ],
         "xaxis": "x2",
         "y": [
          0.7161581920903954,
          0.7262711864406779,
          0.7296610169491526,
          0.7296610169491526,
          0.7296610169491526,
          0.7296610169491526,
          0.7296610169491526,
          0.7296610169491526,
          0.7296610169491526,
          0.7297175141242938,
          0.7297175141242938,
          0.7297175141242938,
          0.7297175141242938,
          0.7297175141242938,
          0.7297175141242938
         ],
         "yaxis": "y2"
        },
        {
         "line": {
          "color": "red"
         },
         "mode": "markers+lines",
         "type": "scatter",
         "x": [
          10,
          20,
          30,
          40,
          50,
          60,
          70,
          80,
          90,
          100,
          110,
          120,
          130,
          140,
          150
         ],
         "xaxis": "x3",
         "y": [
          0.9572463768115943,
          0.9659420289855072,
          0.9659420289855072,
          0.9742753623188406,
          0.9742753623188406,
          0.9742753623188406,
          0.9742753623188406,
          0.9742753623188406,
          0.9742753623188406,
          0.9742753623188406,
          0.9742753623188406,
          0.9742753623188406,
          0.9742753623188406,
          0.9742753623188406,
          0.9742753623188406
         ],
         "yaxis": "y3"
        },
        {
         "line": {
          "color": "red"
         },
         "mode": "markers+lines",
         "type": "scatter",
         "x": [
          10,
          20,
          30,
          40,
          50,
          60,
          70,
          80,
          90,
          100,
          110,
          120,
          130,
          140,
          150
         ],
         "xaxis": "x4",
         "y": [
          0.9211893369788106,
          0.9211893369788106,
          0.9211893369788106,
          0.9211893369788106,
          0.9211893369788106,
          0.9211893369788106,
          0.9211893369788106,
          0.9211893369788106,
          0.9211893369788106,
          0.9211893369788106,
          0.9211893369788106,
          0.9211893369788106,
          0.9212235133287765,
          0.9212235133287765,
          0.9212235133287765
         ],
         "yaxis": "y4"
        }
       ],
       "layout": {
        "annotations": [
         {
          "font": {
           "size": 16
          },
          "showarrow": false,
          "text": "Dataset: iris",
          "x": 0.225,
          "xanchor": "center",
          "xref": "paper",
          "y": 1,
          "yanchor": "bottom",
          "yref": "paper"
         },
         {
          "font": {
           "size": 16
          },
          "showarrow": false,
          "text": "Dataset: diabetes",
          "x": 0.775,
          "xanchor": "center",
          "xref": "paper",
          "y": 1,
          "yanchor": "bottom",
          "yref": "paper"
         },
         {
          "font": {
           "size": 16
          },
          "showarrow": false,
          "text": "Dataset: wine",
          "x": 0.225,
          "xanchor": "center",
          "xref": "paper",
          "y": 0.375,
          "yanchor": "bottom",
          "yref": "paper"
         },
         {
          "font": {
           "size": 16
          },
          "showarrow": false,
          "text": "Dataset: breast",
          "x": 0.775,
          "xanchor": "center",
          "xref": "paper",
          "y": 0.375,
          "yanchor": "bottom",
          "yref": "paper"
         }
        ],
        "showlegend": false,
        "template": {
         "data": {
          "bar": [
           {
            "error_x": {
             "color": "#2a3f5f"
            },
            "error_y": {
             "color": "#2a3f5f"
            },
            "marker": {
             "line": {
              "color": "#E5ECF6",
              "width": 0.5
             },
             "pattern": {
              "fillmode": "overlay",
              "size": 10,
              "solidity": 0.2
             }
            },
            "type": "bar"
           }
          ],
          "barpolar": [
           {
            "marker": {
             "line": {
              "color": "#E5ECF6",
              "width": 0.5
             },
             "pattern": {
              "fillmode": "overlay",
              "size": 10,
              "solidity": 0.2
             }
            },
            "type": "barpolar"
           }
          ],
          "carpet": [
           {
            "aaxis": {
             "endlinecolor": "#2a3f5f",
             "gridcolor": "white",
             "linecolor": "white",
             "minorgridcolor": "white",
             "startlinecolor": "#2a3f5f"
            },
            "baxis": {
             "endlinecolor": "#2a3f5f",
             "gridcolor": "white",
             "linecolor": "white",
             "minorgridcolor": "white",
             "startlinecolor": "#2a3f5f"
            },
            "type": "carpet"
           }
          ],
          "choropleth": [
           {
            "colorbar": {
             "outlinewidth": 0,
             "ticks": ""
            },
            "type": "choropleth"
           }
          ],
          "contour": [
           {
            "colorbar": {
             "outlinewidth": 0,
             "ticks": ""
            },
            "colorscale": [
             [
              0,
              "#0d0887"
             ],
             [
              0.1111111111111111,
              "#46039f"
             ],
             [
              0.2222222222222222,
              "#7201a8"
             ],
             [
              0.3333333333333333,
              "#9c179e"
             ],
             [
              0.4444444444444444,
              "#bd3786"
             ],
             [
              0.5555555555555556,
              "#d8576b"
             ],
             [
              0.6666666666666666,
              "#ed7953"
             ],
             [
              0.7777777777777778,
              "#fb9f3a"
             ],
             [
              0.8888888888888888,
              "#fdca26"
             ],
             [
              1,
              "#f0f921"
             ]
            ],
            "type": "contour"
           }
          ],
          "contourcarpet": [
           {
            "colorbar": {
             "outlinewidth": 0,
             "ticks": ""
            },
            "type": "contourcarpet"
           }
          ],
          "heatmap": [
           {
            "colorbar": {
             "outlinewidth": 0,
             "ticks": ""
            },
            "colorscale": [
             [
              0,
              "#0d0887"
             ],
             [
              0.1111111111111111,
              "#46039f"
             ],
             [
              0.2222222222222222,
              "#7201a8"
             ],
             [
              0.3333333333333333,
              "#9c179e"
             ],
             [
              0.4444444444444444,
              "#bd3786"
             ],
             [
              0.5555555555555556,
              "#d8576b"
             ],
             [
              0.6666666666666666,
              "#ed7953"
             ],
             [
              0.7777777777777778,
              "#fb9f3a"
             ],
             [
              0.8888888888888888,
              "#fdca26"
             ],
             [
              1,
              "#f0f921"
             ]
            ],
            "type": "heatmap"
           }
          ],
          "heatmapgl": [
           {
            "colorbar": {
             "outlinewidth": 0,
             "ticks": ""
            },
            "colorscale": [
             [
              0,
              "#0d0887"
             ],
             [
              0.1111111111111111,
              "#46039f"
             ],
             [
              0.2222222222222222,
              "#7201a8"
             ],
             [
              0.3333333333333333,
              "#9c179e"
             ],
             [
              0.4444444444444444,
              "#bd3786"
             ],
             [
              0.5555555555555556,
              "#d8576b"
             ],
             [
              0.6666666666666666,
              "#ed7953"
             ],
             [
              0.7777777777777778,
              "#fb9f3a"
             ],
             [
              0.8888888888888888,
              "#fdca26"
             ],
             [
              1,
              "#f0f921"
             ]
            ],
            "type": "heatmapgl"
           }
          ],
          "histogram": [
           {
            "marker": {
             "pattern": {
              "fillmode": "overlay",
              "size": 10,
              "solidity": 0.2
             }
            },
            "type": "histogram"
           }
          ],
          "histogram2d": [
           {
            "colorbar": {
             "outlinewidth": 0,
             "ticks": ""
            },
            "colorscale": [
             [
              0,
              "#0d0887"
             ],
             [
              0.1111111111111111,
              "#46039f"
             ],
             [
              0.2222222222222222,
              "#7201a8"
             ],
             [
              0.3333333333333333,
              "#9c179e"
             ],
             [
              0.4444444444444444,
              "#bd3786"
             ],
             [
              0.5555555555555556,
              "#d8576b"
             ],
             [
              0.6666666666666666,
              "#ed7953"
             ],
             [
              0.7777777777777778,
              "#fb9f3a"
             ],
             [
              0.8888888888888888,
              "#fdca26"
             ],
             [
              1,
              "#f0f921"
             ]
            ],
            "type": "histogram2d"
           }
          ],
          "histogram2dcontour": [
           {
            "colorbar": {
             "outlinewidth": 0,
             "ticks": ""
            },
            "colorscale": [
             [
              0,
              "#0d0887"
             ],
             [
              0.1111111111111111,
              "#46039f"
             ],
             [
              0.2222222222222222,
              "#7201a8"
             ],
             [
              0.3333333333333333,
              "#9c179e"
             ],
             [
              0.4444444444444444,
              "#bd3786"
             ],
             [
              0.5555555555555556,
              "#d8576b"
             ],
             [
              0.6666666666666666,
              "#ed7953"
             ],
             [
              0.7777777777777778,
              "#fb9f3a"
             ],
             [
              0.8888888888888888,
              "#fdca26"
             ],
             [
              1,
              "#f0f921"
             ]
            ],
            "type": "histogram2dcontour"
           }
          ],
          "mesh3d": [
           {
            "colorbar": {
             "outlinewidth": 0,
             "ticks": ""
            },
            "type": "mesh3d"
           }
          ],
          "parcoords": [
           {
            "line": {
             "colorbar": {
              "outlinewidth": 0,
              "ticks": ""
             }
            },
            "type": "parcoords"
           }
          ],
          "pie": [
           {
            "automargin": true,
            "type": "pie"
           }
          ],
          "scatter": [
           {
            "fillpattern": {
             "fillmode": "overlay",
             "size": 10,
             "solidity": 0.2
            },
            "type": "scatter"
           }
          ],
          "scatter3d": [
           {
            "line": {
             "colorbar": {
              "outlinewidth": 0,
              "ticks": ""
             }
            },
            "marker": {
             "colorbar": {
              "outlinewidth": 0,
              "ticks": ""
             }
            },
            "type": "scatter3d"
           }
          ],
          "scattercarpet": [
           {
            "marker": {
             "colorbar": {
              "outlinewidth": 0,
              "ticks": ""
             }
            },
            "type": "scattercarpet"
           }
          ],
          "scattergeo": [
           {
            "marker": {
             "colorbar": {
              "outlinewidth": 0,
              "ticks": ""
             }
            },
            "type": "scattergeo"
           }
          ],
          "scattergl": [
           {
            "marker": {
             "colorbar": {
              "outlinewidth": 0,
              "ticks": ""
             }
            },
            "type": "scattergl"
           }
          ],
          "scattermapbox": [
           {
            "marker": {
             "colorbar": {
              "outlinewidth": 0,
              "ticks": ""
             }
            },
            "type": "scattermapbox"
           }
          ],
          "scatterpolar": [
           {
            "marker": {
             "colorbar": {
              "outlinewidth": 0,
              "ticks": ""
             }
            },
            "type": "scatterpolar"
           }
          ],
          "scatterpolargl": [
           {
            "marker": {
             "colorbar": {
              "outlinewidth": 0,
              "ticks": ""
             }
            },
            "type": "scatterpolargl"
           }
          ],
          "scatterternary": [
           {
            "marker": {
             "colorbar": {
              "outlinewidth": 0,
              "ticks": ""
             }
            },
            "type": "scatterternary"
           }
          ],
          "surface": [
           {
            "colorbar": {
             "outlinewidth": 0,
             "ticks": ""
            },
            "colorscale": [
             [
              0,
              "#0d0887"
             ],
             [
              0.1111111111111111,
              "#46039f"
             ],
             [
              0.2222222222222222,
              "#7201a8"
             ],
             [
              0.3333333333333333,
              "#9c179e"
             ],
             [
              0.4444444444444444,
              "#bd3786"
             ],
             [
              0.5555555555555556,
              "#d8576b"
             ],
             [
              0.6666666666666666,
              "#ed7953"
             ],
             [
              0.7777777777777778,
              "#fb9f3a"
             ],
             [
              0.8888888888888888,
              "#fdca26"
             ],
             [
              1,
              "#f0f921"
             ]
            ],
            "type": "surface"
           }
          ],
          "table": [
           {
            "cells": {
             "fill": {
              "color": "#EBF0F8"
             },
             "line": {
              "color": "white"
             }
            },
            "header": {
             "fill": {
              "color": "#C8D4E3"
             },
             "line": {
              "color": "white"
             }
            },
            "type": "table"
           }
          ]
         },
         "layout": {
          "annotationdefaults": {
           "arrowcolor": "#2a3f5f",
           "arrowhead": 0,
           "arrowwidth": 1
          },
          "autotypenumbers": "strict",
          "coloraxis": {
           "colorbar": {
            "outlinewidth": 0,
            "ticks": ""
           }
          },
          "colorscale": {
           "diverging": [
            [
             0,
             "#8e0152"
            ],
            [
             0.1,
             "#c51b7d"
            ],
            [
             0.2,
             "#de77ae"
            ],
            [
             0.3,
             "#f1b6da"
            ],
            [
             0.4,
             "#fde0ef"
            ],
            [
             0.5,
             "#f7f7f7"
            ],
            [
             0.6,
             "#e6f5d0"
            ],
            [
             0.7,
             "#b8e186"
            ],
            [
             0.8,
             "#7fbc41"
            ],
            [
             0.9,
             "#4d9221"
            ],
            [
             1,
             "#276419"
            ]
           ],
           "sequential": [
            [
             0,
             "#0d0887"
            ],
            [
             0.1111111111111111,
             "#46039f"
            ],
            [
             0.2222222222222222,
             "#7201a8"
            ],
            [
             0.3333333333333333,
             "#9c179e"
            ],
            [
             0.4444444444444444,
             "#bd3786"
            ],
            [
             0.5555555555555556,
             "#d8576b"
            ],
            [
             0.6666666666666666,
             "#ed7953"
            ],
            [
             0.7777777777777778,
             "#fb9f3a"
            ],
            [
             0.8888888888888888,
             "#fdca26"
            ],
            [
             1,
             "#f0f921"
            ]
           ],
           "sequentialminus": [
            [
             0,
             "#0d0887"
            ],
            [
             0.1111111111111111,
             "#46039f"
            ],
            [
             0.2222222222222222,
             "#7201a8"
            ],
            [
             0.3333333333333333,
             "#9c179e"
            ],
            [
             0.4444444444444444,
             "#bd3786"
            ],
            [
             0.5555555555555556,
             "#d8576b"
            ],
            [
             0.6666666666666666,
             "#ed7953"
            ],
            [
             0.7777777777777778,
             "#fb9f3a"
            ],
            [
             0.8888888888888888,
             "#fdca26"
            ],
            [
             1,
             "#f0f921"
            ]
           ]
          },
          "colorway": [
           "#636efa",
           "#EF553B",
           "#00cc96",
           "#ab63fa",
           "#FFA15A",
           "#19d3f3",
           "#FF6692",
           "#B6E880",
           "#FF97FF",
           "#FECB52"
          ],
          "font": {
           "color": "#2a3f5f"
          },
          "geo": {
           "bgcolor": "white",
           "lakecolor": "white",
           "landcolor": "#E5ECF6",
           "showlakes": true,
           "showland": true,
           "subunitcolor": "white"
          },
          "hoverlabel": {
           "align": "left"
          },
          "hovermode": "closest",
          "mapbox": {
           "style": "light"
          },
          "paper_bgcolor": "white",
          "plot_bgcolor": "#E5ECF6",
          "polar": {
           "angularaxis": {
            "gridcolor": "white",
            "linecolor": "white",
            "ticks": ""
           },
           "bgcolor": "#E5ECF6",
           "radialaxis": {
            "gridcolor": "white",
            "linecolor": "white",
            "ticks": ""
           }
          },
          "scene": {
           "xaxis": {
            "backgroundcolor": "#E5ECF6",
            "gridcolor": "white",
            "gridwidth": 2,
            "linecolor": "white",
            "showbackground": true,
            "ticks": "",
            "zerolinecolor": "white"
           },
           "yaxis": {
            "backgroundcolor": "#E5ECF6",
            "gridcolor": "white",
            "gridwidth": 2,
            "linecolor": "white",
            "showbackground": true,
            "ticks": "",
            "zerolinecolor": "white"
           },
           "zaxis": {
            "backgroundcolor": "#E5ECF6",
            "gridcolor": "white",
            "gridwidth": 2,
            "linecolor": "white",
            "showbackground": true,
            "ticks": "",
            "zerolinecolor": "white"
           }
          },
          "shapedefaults": {
           "line": {
            "color": "#2a3f5f"
           }
          },
          "ternary": {
           "aaxis": {
            "gridcolor": "white",
            "linecolor": "white",
            "ticks": ""
           },
           "baxis": {
            "gridcolor": "white",
            "linecolor": "white",
            "ticks": ""
           },
           "bgcolor": "#E5ECF6",
           "caxis": {
            "gridcolor": "white",
            "linecolor": "white",
            "ticks": ""
           }
          },
          "title": {
           "x": 0.05
          },
          "xaxis": {
           "automargin": true,
           "gridcolor": "white",
           "linecolor": "white",
           "ticks": "",
           "title": {
            "standoff": 15
           },
           "zerolinecolor": "white",
           "zerolinewidth": 2
          },
          "yaxis": {
           "automargin": true,
           "gridcolor": "white",
           "linecolor": "white",
           "ticks": "",
           "title": {
            "standoff": 15
           },
           "zerolinecolor": "white",
           "zerolinewidth": 2
          }
         }
        },
        "title": {
         "text": "Stability of Bayesian Optimization"
        },
        "xaxis": {
         "anchor": "y",
         "domain": [
          0,
          0.45
         ]
        },
        "xaxis2": {
         "anchor": "y2",
         "domain": [
          0.55,
          1
         ]
        },
        "xaxis3": {
         "anchor": "y3",
         "domain": [
          0,
          0.45
         ],
         "title": {
          "text": "N_iter"
         }
        },
        "xaxis4": {
         "anchor": "y4",
         "domain": [
          0.55,
          1
         ],
         "title": {
          "text": "N_iter"
         }
        },
        "yaxis": {
         "anchor": "x",
         "domain": [
          0.625,
          1
         ],
         "range": [
          0,
          1
         ],
         "title": {
          "text": "Scores"
         }
        },
        "yaxis2": {
         "anchor": "x2",
         "domain": [
          0.625,
          1
         ],
         "range": [
          0,
          1
         ]
        },
        "yaxis3": {
         "anchor": "x3",
         "domain": [
          0,
          0.375
         ],
         "range": [
          0,
          1
         ],
         "title": {
          "text": "Scores"
         }
        },
        "yaxis4": {
         "anchor": "x4",
         "domain": [
          0,
          0.375
         ],
         "range": [
          0,
          1
         ]
        }
       }
      }
     },
     "metadata": {},
     "output_type": "display_data"
    }
   ],
   "source": [
    "plot_stability(results_bayes['Random Forest']['scores_test'],\n",
    "               'Bayesian', interval=10)"
   ]
  },
  {
   "attachments": {},
   "cell_type": "markdown",
   "metadata": {
    "datalore": {
     "hide_input_from_viewers": true,
     "hide_output_from_viewers": true,
     "node_id": "y937WU6KHMIVtAYolCiwQ7",
     "type": "MD"
    }
   },
   "source": [
    "# Tuning History"
   ]
  },
  {
   "attachments": {},
   "cell_type": "markdown",
   "metadata": {
    "datalore": {
     "hide_input_from_viewers": true,
     "hide_output_from_viewers": true,
     "node_id": "KJtfO7TT8vgi4nbbZFVeNh",
     "type": "MD"
    }
   },
   "source": [
    "## Random Search"
   ]
  },
  {
   "attachments": {},
   "cell_type": "markdown",
   "metadata": {
    "datalore": {
     "hide_input_from_viewers": true,
     "hide_output_from_viewers": true,
     "node_id": "BxHHKDvL15NuQPHSO1zyLQ",
     "type": "MD"
    }
   },
   "source": [
    "### KNN"
   ]
  },
  {
   "cell_type": "code",
   "execution_count": 67,
   "metadata": {
    "datalore": {
     "hide_input_from_viewers": true,
     "hide_output_from_viewers": true,
     "node_id": "nJA7JVZCkuX6L9KhRjUrdi",
     "type": "CODE"
    }
   },
   "outputs": [
    {
     "data": {
      "application/vnd.plotly.v1+json": {
       "config": {
        "plotlyServerURL": "https://plot.ly"
       },
       "data": [
        {
         "line": {
          "color": "blue"
         },
         "mode": "lines",
         "name": "Train Scores",
         "showlegend": true,
         "type": "scatter",
         "x": [
          1,
          2,
          3,
          4,
          5,
          6,
          7,
          8,
          9,
          10,
          11,
          12,
          13,
          14,
          15,
          16,
          17,
          18,
          19,
          20
         ],
         "xaxis": "x",
         "y": [
          0.97,
          0.93,
          0.9800000000000001,
          0.975,
          0.9775,
          0.9675,
          0.9400000000000001,
          0.975,
          0.9400000000000001,
          0.9824999999999999,
          1,
          1,
          1,
          1,
          0.9775,
          0.9775,
          1,
          1,
          1,
          0.9775
         ],
         "yaxis": "y"
        },
        {
         "line": {
          "color": "red"
         },
         "mode": "lines",
         "name": "Test Scores",
         "showlegend": true,
         "type": "scatter",
         "x": [
          1,
          2,
          3,
          4,
          5,
          6,
          7,
          8,
          9,
          10,
          11,
          12,
          13,
          14,
          15,
          16,
          17,
          18,
          19,
          20
         ],
         "xaxis": "x",
         "y": [
          0.9700000000000001,
          0.9199999999999999,
          0.96,
          0.97,
          0.9800000000000001,
          0.95,
          0.9199999999999999,
          0.97,
          0.9199999999999999,
          0.95,
          0.9800000000000001,
          0.9800000000000001,
          0.9800000000000001,
          0.9800000000000001,
          0.9800000000000001,
          0.9800000000000001,
          0.9800000000000001,
          0.9800000000000001,
          0.9800000000000001,
          0.9800000000000001
         ],
         "yaxis": "y"
        },
        {
         "line": {
          "color": "blue"
         },
         "mode": "lines",
         "name": "Train Scores",
         "showlegend": false,
         "type": "scatter",
         "x": [
          1,
          2,
          3,
          4,
          5,
          6,
          7,
          8,
          9,
          10,
          11,
          12,
          13,
          14,
          15,
          16,
          17,
          18,
          19,
          20
         ],
         "xaxis": "x2",
         "y": [
          0.7744940284631339,
          0.724629907745119,
          0.7812450833154545,
          0.7643531431023385,
          0.8099477937495531,
          0.7584531216477151,
          0.7221125652578131,
          0.7643531431023385,
          0.7221125652578131,
          0.7854787956804692,
          0.7575913609382822,
          0.745769863405564,
          0.7314059929914897,
          0.7390080812415075,
          0.7179038832868484,
          0.7280304655653292,
          0.7195773439176143,
          0.750836730315383,
          0.7280161624830152,
          0.7364800114424658
         ],
         "yaxis": "y2"
        },
        {
         "line": {
          "color": "red"
         },
         "mode": "lines",
         "name": "Test Scores",
         "showlegend": false,
         "type": "scatter",
         "x": [
          1,
          2,
          3,
          4,
          5,
          6,
          7,
          8,
          9,
          10,
          11,
          12,
          13,
          14,
          15,
          16,
          17,
          18,
          19,
          20
         ],
         "xaxis": "x2",
         "y": [
          0.712768361581921,
          0.6924858757062148,
          0.6857627118644067,
          0.6960451977401131,
          0.6418079096045197,
          0.706045197740113,
          0.6924858757062148,
          0.6960451977401131,
          0.6924858757062148,
          0.6384180790960452,
          0.709491525423729,
          0.6992655367231638,
          0.6927118644067797,
          0.7128248587570621,
          0.6994350282485876,
          0.7094350282485876,
          0.6993220338983052,
          0.6924858757062147,
          0.6857062146892655,
          0.7129943502824858
         ],
         "yaxis": "y2"
        },
        {
         "line": {
          "color": "blue"
         },
         "mode": "lines",
         "name": "Train Scores",
         "showlegend": false,
         "type": "scatter",
         "x": [
          1,
          2,
          3,
          4,
          5,
          6,
          7,
          8,
          9,
          10,
          11,
          12,
          13,
          14,
          15,
          16,
          17,
          18,
          19,
          20
         ],
         "xaxis": "x3",
         "y": [
          0.7541666666666667,
          0.7289692982456141,
          0.7835745614035088,
          0.7920394736842106,
          0.8297368421052631,
          0.7520833333333333,
          0.7394956140350877,
          0.7920394736842106,
          0.7394956140350877,
          0.857171052631579,
          0.7206140350877194,
          0.7835745614035088,
          0.7835745614035088,
          0.7206140350877194,
          0.7835745614035088,
          0.7835745614035088,
          0.7206140350877194,
          0.7835745614035088,
          0.7835745614035088,
          0.7206140350877194
         ],
         "yaxis": "y3"
        },
        {
         "line": {
          "color": "red"
         },
         "mode": "lines",
         "name": "Test Scores",
         "showlegend": false,
         "type": "scatter",
         "x": [
          1,
          2,
          3,
          4,
          5,
          6,
          7,
          8,
          9,
          10,
          11,
          12,
          13,
          14,
          15,
          16,
          17,
          18,
          19,
          20
         ],
         "xaxis": "x3",
         "y": [
          0.672463768115942,
          0.6554347826086955,
          0.7061594202898551,
          0.6561594202898551,
          0.6634057971014493,
          0.6641304347826088,
          0.6721014492753623,
          0.6561594202898551,
          0.6721014492753623,
          0.6634057971014492,
          0.7054347826086955,
          0.7061594202898551,
          0.7061594202898551,
          0.7054347826086955,
          0.7061594202898551,
          0.7061594202898551,
          0.7054347826086955,
          0.7061594202898551,
          0.7061594202898551,
          0.7054347826086955
         ],
         "yaxis": "y3"
        },
        {
         "line": {
          "color": "blue"
         },
         "mode": "lines",
         "name": "Train Scores",
         "showlegend": false,
         "type": "scatter",
         "x": [
          1,
          2,
          3,
          4,
          5,
          6,
          7,
          8,
          9,
          10,
          11,
          12,
          13,
          14,
          15,
          16,
          17,
          18,
          19,
          20
         ],
         "xaxis": "x4",
         "y": [
          0.9343830888697152,
          0.9081341673856773,
          0.9363546160483175,
          0.9356967213114753,
          0.9461906816220879,
          0.9304465056082829,
          0.9146980155306299,
          0.9356967213114753,
          0.9146980155306299,
          0.9540660051768766,
          0.9317601380500431,
          0.9238848144952545,
          0.9350431406384814,
          0.9304486626402071,
          0.9199460742018981,
          0.9343830888697152,
          0.9343830888697152,
          0.9087877480586712,
          0.9350431406384814,
          0.9330780845556514
         ],
         "yaxis": "y4"
        },
        {
         "line": {
          "color": "red"
         },
         "mode": "lines",
         "name": "Test Scores",
         "showlegend": false,
         "type": "scatter",
         "x": [
          1,
          2,
          3,
          4,
          5,
          6,
          7,
          8,
          9,
          10,
          11,
          12,
          13,
          14,
          15,
          16,
          17,
          18,
          19,
          20
         ],
         "xaxis": "x4",
         "y": [
          0.9291182501708818,
          0.9054682159945318,
          0.9264866712235132,
          0.9238550922761449,
          0.9185919343814082,
          0.9212576896787423,
          0.9054682159945319,
          0.9238550922761449,
          0.9054682159945319,
          0.884483937115516,
          0.9291524265208476,
          0.9160287081339712,
          0.9317498291182502,
          0.9238892686261106,
          0.9159603554340396,
          0.9291182501708818,
          0.9291182501708818,
          0.9106971975393028,
          0.9317498291182502,
          0.9265208475734792
         ],
         "yaxis": "y4"
        }
       ],
       "layout": {
        "annotations": [
         {
          "font": {
           "size": 16
          },
          "showarrow": false,
          "text": "Dataset: iris",
          "x": 0.225,
          "xanchor": "center",
          "xref": "paper",
          "y": 1,
          "yanchor": "bottom",
          "yref": "paper"
         },
         {
          "font": {
           "size": 16
          },
          "showarrow": false,
          "text": "Dataset: diabetes",
          "x": 0.775,
          "xanchor": "center",
          "xref": "paper",
          "y": 1,
          "yanchor": "bottom",
          "yref": "paper"
         },
         {
          "font": {
           "size": 16
          },
          "showarrow": false,
          "text": "Dataset: wine",
          "x": 0.225,
          "xanchor": "center",
          "xref": "paper",
          "y": 0.375,
          "yanchor": "bottom",
          "yref": "paper"
         },
         {
          "font": {
           "size": 16
          },
          "showarrow": false,
          "text": "Dataset: breast",
          "x": 0.775,
          "xanchor": "center",
          "xref": "paper",
          "y": 0.375,
          "yanchor": "bottom",
          "yref": "paper"
         }
        ],
        "template": {
         "data": {
          "bar": [
           {
            "error_x": {
             "color": "#2a3f5f"
            },
            "error_y": {
             "color": "#2a3f5f"
            },
            "marker": {
             "line": {
              "color": "#E5ECF6",
              "width": 0.5
             },
             "pattern": {
              "fillmode": "overlay",
              "size": 10,
              "solidity": 0.2
             }
            },
            "type": "bar"
           }
          ],
          "barpolar": [
           {
            "marker": {
             "line": {
              "color": "#E5ECF6",
              "width": 0.5
             },
             "pattern": {
              "fillmode": "overlay",
              "size": 10,
              "solidity": 0.2
             }
            },
            "type": "barpolar"
           }
          ],
          "carpet": [
           {
            "aaxis": {
             "endlinecolor": "#2a3f5f",
             "gridcolor": "white",
             "linecolor": "white",
             "minorgridcolor": "white",
             "startlinecolor": "#2a3f5f"
            },
            "baxis": {
             "endlinecolor": "#2a3f5f",
             "gridcolor": "white",
             "linecolor": "white",
             "minorgridcolor": "white",
             "startlinecolor": "#2a3f5f"
            },
            "type": "carpet"
           }
          ],
          "choropleth": [
           {
            "colorbar": {
             "outlinewidth": 0,
             "ticks": ""
            },
            "type": "choropleth"
           }
          ],
          "contour": [
           {
            "colorbar": {
             "outlinewidth": 0,
             "ticks": ""
            },
            "colorscale": [
             [
              0,
              "#0d0887"
             ],
             [
              0.1111111111111111,
              "#46039f"
             ],
             [
              0.2222222222222222,
              "#7201a8"
             ],
             [
              0.3333333333333333,
              "#9c179e"
             ],
             [
              0.4444444444444444,
              "#bd3786"
             ],
             [
              0.5555555555555556,
              "#d8576b"
             ],
             [
              0.6666666666666666,
              "#ed7953"
             ],
             [
              0.7777777777777778,
              "#fb9f3a"
             ],
             [
              0.8888888888888888,
              "#fdca26"
             ],
             [
              1,
              "#f0f921"
             ]
            ],
            "type": "contour"
           }
          ],
          "contourcarpet": [
           {
            "colorbar": {
             "outlinewidth": 0,
             "ticks": ""
            },
            "type": "contourcarpet"
           }
          ],
          "heatmap": [
           {
            "colorbar": {
             "outlinewidth": 0,
             "ticks": ""
            },
            "colorscale": [
             [
              0,
              "#0d0887"
             ],
             [
              0.1111111111111111,
              "#46039f"
             ],
             [
              0.2222222222222222,
              "#7201a8"
             ],
             [
              0.3333333333333333,
              "#9c179e"
             ],
             [
              0.4444444444444444,
              "#bd3786"
             ],
             [
              0.5555555555555556,
              "#d8576b"
             ],
             [
              0.6666666666666666,
              "#ed7953"
             ],
             [
              0.7777777777777778,
              "#fb9f3a"
             ],
             [
              0.8888888888888888,
              "#fdca26"
             ],
             [
              1,
              "#f0f921"
             ]
            ],
            "type": "heatmap"
           }
          ],
          "heatmapgl": [
           {
            "colorbar": {
             "outlinewidth": 0,
             "ticks": ""
            },
            "colorscale": [
             [
              0,
              "#0d0887"
             ],
             [
              0.1111111111111111,
              "#46039f"
             ],
             [
              0.2222222222222222,
              "#7201a8"
             ],
             [
              0.3333333333333333,
              "#9c179e"
             ],
             [
              0.4444444444444444,
              "#bd3786"
             ],
             [
              0.5555555555555556,
              "#d8576b"
             ],
             [
              0.6666666666666666,
              "#ed7953"
             ],
             [
              0.7777777777777778,
              "#fb9f3a"
             ],
             [
              0.8888888888888888,
              "#fdca26"
             ],
             [
              1,
              "#f0f921"
             ]
            ],
            "type": "heatmapgl"
           }
          ],
          "histogram": [
           {
            "marker": {
             "pattern": {
              "fillmode": "overlay",
              "size": 10,
              "solidity": 0.2
             }
            },
            "type": "histogram"
           }
          ],
          "histogram2d": [
           {
            "colorbar": {
             "outlinewidth": 0,
             "ticks": ""
            },
            "colorscale": [
             [
              0,
              "#0d0887"
             ],
             [
              0.1111111111111111,
              "#46039f"
             ],
             [
              0.2222222222222222,
              "#7201a8"
             ],
             [
              0.3333333333333333,
              "#9c179e"
             ],
             [
              0.4444444444444444,
              "#bd3786"
             ],
             [
              0.5555555555555556,
              "#d8576b"
             ],
             [
              0.6666666666666666,
              "#ed7953"
             ],
             [
              0.7777777777777778,
              "#fb9f3a"
             ],
             [
              0.8888888888888888,
              "#fdca26"
             ],
             [
              1,
              "#f0f921"
             ]
            ],
            "type": "histogram2d"
           }
          ],
          "histogram2dcontour": [
           {
            "colorbar": {
             "outlinewidth": 0,
             "ticks": ""
            },
            "colorscale": [
             [
              0,
              "#0d0887"
             ],
             [
              0.1111111111111111,
              "#46039f"
             ],
             [
              0.2222222222222222,
              "#7201a8"
             ],
             [
              0.3333333333333333,
              "#9c179e"
             ],
             [
              0.4444444444444444,
              "#bd3786"
             ],
             [
              0.5555555555555556,
              "#d8576b"
             ],
             [
              0.6666666666666666,
              "#ed7953"
             ],
             [
              0.7777777777777778,
              "#fb9f3a"
             ],
             [
              0.8888888888888888,
              "#fdca26"
             ],
             [
              1,
              "#f0f921"
             ]
            ],
            "type": "histogram2dcontour"
           }
          ],
          "mesh3d": [
           {
            "colorbar": {
             "outlinewidth": 0,
             "ticks": ""
            },
            "type": "mesh3d"
           }
          ],
          "parcoords": [
           {
            "line": {
             "colorbar": {
              "outlinewidth": 0,
              "ticks": ""
             }
            },
            "type": "parcoords"
           }
          ],
          "pie": [
           {
            "automargin": true,
            "type": "pie"
           }
          ],
          "scatter": [
           {
            "fillpattern": {
             "fillmode": "overlay",
             "size": 10,
             "solidity": 0.2
            },
            "type": "scatter"
           }
          ],
          "scatter3d": [
           {
            "line": {
             "colorbar": {
              "outlinewidth": 0,
              "ticks": ""
             }
            },
            "marker": {
             "colorbar": {
              "outlinewidth": 0,
              "ticks": ""
             }
            },
            "type": "scatter3d"
           }
          ],
          "scattercarpet": [
           {
            "marker": {
             "colorbar": {
              "outlinewidth": 0,
              "ticks": ""
             }
            },
            "type": "scattercarpet"
           }
          ],
          "scattergeo": [
           {
            "marker": {
             "colorbar": {
              "outlinewidth": 0,
              "ticks": ""
             }
            },
            "type": "scattergeo"
           }
          ],
          "scattergl": [
           {
            "marker": {
             "colorbar": {
              "outlinewidth": 0,
              "ticks": ""
             }
            },
            "type": "scattergl"
           }
          ],
          "scattermapbox": [
           {
            "marker": {
             "colorbar": {
              "outlinewidth": 0,
              "ticks": ""
             }
            },
            "type": "scattermapbox"
           }
          ],
          "scatterpolar": [
           {
            "marker": {
             "colorbar": {
              "outlinewidth": 0,
              "ticks": ""
             }
            },
            "type": "scatterpolar"
           }
          ],
          "scatterpolargl": [
           {
            "marker": {
             "colorbar": {
              "outlinewidth": 0,
              "ticks": ""
             }
            },
            "type": "scatterpolargl"
           }
          ],
          "scatterternary": [
           {
            "marker": {
             "colorbar": {
              "outlinewidth": 0,
              "ticks": ""
             }
            },
            "type": "scatterternary"
           }
          ],
          "surface": [
           {
            "colorbar": {
             "outlinewidth": 0,
             "ticks": ""
            },
            "colorscale": [
             [
              0,
              "#0d0887"
             ],
             [
              0.1111111111111111,
              "#46039f"
             ],
             [
              0.2222222222222222,
              "#7201a8"
             ],
             [
              0.3333333333333333,
              "#9c179e"
             ],
             [
              0.4444444444444444,
              "#bd3786"
             ],
             [
              0.5555555555555556,
              "#d8576b"
             ],
             [
              0.6666666666666666,
              "#ed7953"
             ],
             [
              0.7777777777777778,
              "#fb9f3a"
             ],
             [
              0.8888888888888888,
              "#fdca26"
             ],
             [
              1,
              "#f0f921"
             ]
            ],
            "type": "surface"
           }
          ],
          "table": [
           {
            "cells": {
             "fill": {
              "color": "#EBF0F8"
             },
             "line": {
              "color": "white"
             }
            },
            "header": {
             "fill": {
              "color": "#C8D4E3"
             },
             "line": {
              "color": "white"
             }
            },
            "type": "table"
           }
          ]
         },
         "layout": {
          "annotationdefaults": {
           "arrowcolor": "#2a3f5f",
           "arrowhead": 0,
           "arrowwidth": 1
          },
          "autotypenumbers": "strict",
          "coloraxis": {
           "colorbar": {
            "outlinewidth": 0,
            "ticks": ""
           }
          },
          "colorscale": {
           "diverging": [
            [
             0,
             "#8e0152"
            ],
            [
             0.1,
             "#c51b7d"
            ],
            [
             0.2,
             "#de77ae"
            ],
            [
             0.3,
             "#f1b6da"
            ],
            [
             0.4,
             "#fde0ef"
            ],
            [
             0.5,
             "#f7f7f7"
            ],
            [
             0.6,
             "#e6f5d0"
            ],
            [
             0.7,
             "#b8e186"
            ],
            [
             0.8,
             "#7fbc41"
            ],
            [
             0.9,
             "#4d9221"
            ],
            [
             1,
             "#276419"
            ]
           ],
           "sequential": [
            [
             0,
             "#0d0887"
            ],
            [
             0.1111111111111111,
             "#46039f"
            ],
            [
             0.2222222222222222,
             "#7201a8"
            ],
            [
             0.3333333333333333,
             "#9c179e"
            ],
            [
             0.4444444444444444,
             "#bd3786"
            ],
            [
             0.5555555555555556,
             "#d8576b"
            ],
            [
             0.6666666666666666,
             "#ed7953"
            ],
            [
             0.7777777777777778,
             "#fb9f3a"
            ],
            [
             0.8888888888888888,
             "#fdca26"
            ],
            [
             1,
             "#f0f921"
            ]
           ],
           "sequentialminus": [
            [
             0,
             "#0d0887"
            ],
            [
             0.1111111111111111,
             "#46039f"
            ],
            [
             0.2222222222222222,
             "#7201a8"
            ],
            [
             0.3333333333333333,
             "#9c179e"
            ],
            [
             0.4444444444444444,
             "#bd3786"
            ],
            [
             0.5555555555555556,
             "#d8576b"
            ],
            [
             0.6666666666666666,
             "#ed7953"
            ],
            [
             0.7777777777777778,
             "#fb9f3a"
            ],
            [
             0.8888888888888888,
             "#fdca26"
            ],
            [
             1,
             "#f0f921"
            ]
           ]
          },
          "colorway": [
           "#636efa",
           "#EF553B",
           "#00cc96",
           "#ab63fa",
           "#FFA15A",
           "#19d3f3",
           "#FF6692",
           "#B6E880",
           "#FF97FF",
           "#FECB52"
          ],
          "font": {
           "color": "#2a3f5f"
          },
          "geo": {
           "bgcolor": "white",
           "lakecolor": "white",
           "landcolor": "#E5ECF6",
           "showlakes": true,
           "showland": true,
           "subunitcolor": "white"
          },
          "hoverlabel": {
           "align": "left"
          },
          "hovermode": "closest",
          "mapbox": {
           "style": "light"
          },
          "paper_bgcolor": "white",
          "plot_bgcolor": "#E5ECF6",
          "polar": {
           "angularaxis": {
            "gridcolor": "white",
            "linecolor": "white",
            "ticks": ""
           },
           "bgcolor": "#E5ECF6",
           "radialaxis": {
            "gridcolor": "white",
            "linecolor": "white",
            "ticks": ""
           }
          },
          "scene": {
           "xaxis": {
            "backgroundcolor": "#E5ECF6",
            "gridcolor": "white",
            "gridwidth": 2,
            "linecolor": "white",
            "showbackground": true,
            "ticks": "",
            "zerolinecolor": "white"
           },
           "yaxis": {
            "backgroundcolor": "#E5ECF6",
            "gridcolor": "white",
            "gridwidth": 2,
            "linecolor": "white",
            "showbackground": true,
            "ticks": "",
            "zerolinecolor": "white"
           },
           "zaxis": {
            "backgroundcolor": "#E5ECF6",
            "gridcolor": "white",
            "gridwidth": 2,
            "linecolor": "white",
            "showbackground": true,
            "ticks": "",
            "zerolinecolor": "white"
           }
          },
          "shapedefaults": {
           "line": {
            "color": "#2a3f5f"
           }
          },
          "ternary": {
           "aaxis": {
            "gridcolor": "white",
            "linecolor": "white",
            "ticks": ""
           },
           "baxis": {
            "gridcolor": "white",
            "linecolor": "white",
            "ticks": ""
           },
           "bgcolor": "#E5ECF6",
           "caxis": {
            "gridcolor": "white",
            "linecolor": "white",
            "ticks": ""
           }
          },
          "title": {
           "x": 0.05
          },
          "xaxis": {
           "automargin": true,
           "gridcolor": "white",
           "linecolor": "white",
           "ticks": "",
           "title": {
            "standoff": 15
           },
           "zerolinecolor": "white",
           "zerolinewidth": 2
          },
          "yaxis": {
           "automargin": true,
           "gridcolor": "white",
           "linecolor": "white",
           "ticks": "",
           "title": {
            "standoff": 15
           },
           "zerolinecolor": "white",
           "zerolinewidth": 2
          }
         }
        },
        "title": {
         "text": "Scores for Random Optimization"
        },
        "xaxis": {
         "anchor": "y",
         "domain": [
          0,
          0.45
         ]
        },
        "xaxis2": {
         "anchor": "y2",
         "domain": [
          0.55,
          1
         ]
        },
        "xaxis3": {
         "anchor": "y3",
         "domain": [
          0,
          0.45
         ],
         "title": {
          "text": "Epoch"
         }
        },
        "xaxis4": {
         "anchor": "y4",
         "domain": [
          0.55,
          1
         ],
         "title": {
          "text": "Epoch"
         }
        },
        "yaxis": {
         "anchor": "x",
         "domain": [
          0.625,
          1
         ],
         "range": [
          0,
          1
         ],
         "title": {
          "text": "Scores"
         }
        },
        "yaxis2": {
         "anchor": "x2",
         "domain": [
          0.625,
          1
         ],
         "range": [
          0,
          1
         ]
        },
        "yaxis3": {
         "anchor": "x3",
         "domain": [
          0,
          0.375
         ],
         "range": [
          0,
          1
         ],
         "title": {
          "text": "Scores"
         }
        },
        "yaxis4": {
         "anchor": "x4",
         "domain": [
          0,
          0.375
         ],
         "range": [
          0,
          1
         ]
        }
       }
      }
     },
     "metadata": {},
     "output_type": "display_data"
    }
   ],
   "source": [
    "plot_history(results_random['KNN']['scores_train'],\n",
    "             results_random['KNN']['scores_test'],\n",
    "             'Random')"
   ]
  },
  {
   "attachments": {},
   "cell_type": "markdown",
   "metadata": {
    "datalore": {
     "hide_input_from_viewers": true,
     "hide_output_from_viewers": true,
     "node_id": "xalG5w54opVstB0NOBK1LL",
     "type": "MD"
    }
   },
   "source": [
    "### XGBoost"
   ]
  },
  {
   "cell_type": "code",
   "execution_count": 68,
   "metadata": {
    "datalore": {
     "hide_input_from_viewers": true,
     "hide_output_from_viewers": true,
     "node_id": "exaZ4El3W0uQ6UgQxo6BdM",
     "type": "CODE"
    }
   },
   "outputs": [
    {
     "data": {
      "application/vnd.plotly.v1+json": {
       "config": {
        "plotlyServerURL": "https://plot.ly"
       },
       "data": [
        {
         "line": {
          "color": "blue"
         },
         "mode": "lines",
         "name": "Train Scores",
         "showlegend": true,
         "type": "scatter",
         "x": [
          1,
          2,
          3,
          4,
          5,
          6,
          7,
          8,
          9,
          10,
          11,
          12,
          13,
          14,
          15,
          16,
          17,
          18,
          19,
          20,
          21,
          22,
          23,
          24,
          25,
          26,
          27,
          28,
          29,
          30,
          31,
          32,
          33,
          34,
          35,
          36,
          37,
          38,
          39,
          40,
          41,
          42,
          43,
          44,
          45,
          46,
          47,
          48,
          49,
          50,
          51,
          52,
          53,
          54,
          55,
          56,
          57,
          58,
          59,
          60,
          61,
          62,
          63,
          64,
          65,
          66,
          67,
          68,
          69,
          70,
          71,
          72,
          73,
          74,
          75,
          76,
          77,
          78,
          79,
          80,
          81,
          82,
          83,
          84,
          85,
          86,
          87,
          88,
          89,
          90,
          91,
          92,
          93,
          94,
          95,
          96,
          97,
          98,
          99,
          100,
          101,
          102,
          103,
          104,
          105,
          106,
          107,
          108,
          109,
          110,
          111,
          112,
          113,
          114,
          115,
          116,
          117,
          118,
          119,
          120,
          121,
          122,
          123,
          124,
          125,
          126,
          127,
          128,
          129,
          130,
          131,
          132,
          133,
          134,
          135,
          136,
          137,
          138,
          139,
          140,
          141,
          142,
          143,
          144,
          145,
          146,
          147,
          148,
          149,
          150
         ],
         "xaxis": "x",
         "y": [
          0.3,
          0.3,
          0.3,
          0.3,
          0.3,
          0.3,
          0.3,
          0.3,
          0.3,
          0.3,
          0.3,
          0.3,
          0.3,
          0.3,
          0.3,
          0.3,
          0.3,
          0.3,
          0.3,
          0.3,
          0.3,
          0.3,
          0.3,
          0.3,
          0.3,
          0.3,
          0.3,
          0.3,
          0.3,
          0.3,
          0.3,
          0.3,
          0.3,
          0.3,
          0.3,
          0.3,
          0.3,
          0.3,
          0.3,
          0.3,
          0.3,
          0.3,
          0.3,
          0.3,
          0.3,
          0.3,
          0.3,
          0.3,
          0.3,
          0.3,
          0.3,
          0.3,
          0.3,
          0.3,
          0.3,
          0.3,
          0.3,
          0.3,
          0.3,
          0.3,
          0.3,
          0.3,
          0.3,
          0.3,
          0.3,
          0.3,
          0.3,
          0.3,
          0.3,
          0.3,
          0.3,
          0.3,
          0.3,
          0.3,
          0.3,
          0.3,
          0.3,
          0.3,
          0.3,
          0.3,
          0.3,
          0.3,
          0.3,
          0.3,
          0.3,
          0.3,
          0.3,
          0.3,
          0.3,
          0.3,
          0.3,
          0.3,
          0.3,
          0.3,
          0.3,
          0.3,
          0.3,
          0.3,
          0.3,
          0.3,
          0.3,
          0.3,
          0.3,
          0.3,
          0.3,
          0.3,
          0.3,
          0.3,
          0.3,
          0.3,
          0.3,
          0.3,
          0.3,
          0.3,
          0.3,
          0.3,
          0.3,
          0.3,
          0.3,
          0.3,
          0.3,
          0.3,
          0.3,
          0.3,
          0.3,
          0.3,
          0.3,
          0.3,
          0.3,
          0.3,
          0.3,
          0.3,
          0.3,
          0.3,
          0.3,
          0.3,
          0.3,
          0.3,
          0.3,
          0.3,
          0.3,
          0.3,
          0.3,
          0.3,
          0.3,
          0.3,
          0.3,
          0.3,
          0.3,
          0.3
         ],
         "yaxis": "y"
        },
        {
         "line": {
          "color": "red"
         },
         "mode": "lines",
         "name": "Test Scores",
         "showlegend": true,
         "type": "scatter",
         "x": [
          1,
          2,
          3,
          4,
          5,
          6,
          7,
          8,
          9,
          10,
          11,
          12,
          13,
          14,
          15,
          16,
          17,
          18,
          19,
          20,
          21,
          22,
          23,
          24,
          25,
          26,
          27,
          28,
          29,
          30,
          31,
          32,
          33,
          34,
          35,
          36,
          37,
          38,
          39,
          40,
          41,
          42,
          43,
          44,
          45,
          46,
          47,
          48,
          49,
          50,
          51,
          52,
          53,
          54,
          55,
          56,
          57,
          58,
          59,
          60,
          61,
          62,
          63,
          64,
          65,
          66,
          67,
          68,
          69,
          70,
          71,
          72,
          73,
          74,
          75,
          76,
          77,
          78,
          79,
          80,
          81,
          82,
          83,
          84,
          85,
          86,
          87,
          88,
          89,
          90,
          91,
          92,
          93,
          94,
          95,
          96,
          97,
          98,
          99,
          100,
          101,
          102,
          103,
          104,
          105,
          106,
          107,
          108,
          109,
          110,
          111,
          112,
          113,
          114,
          115,
          116,
          117,
          118,
          119,
          120,
          121,
          122,
          123,
          124,
          125,
          126,
          127,
          128,
          129,
          130,
          131,
          132,
          133,
          134,
          135,
          136,
          137,
          138,
          139,
          140,
          141,
          142,
          143,
          144,
          145,
          146,
          147,
          148,
          149,
          150
         ],
         "xaxis": "x",
         "y": [
          0.3,
          0.3,
          0.3,
          0.3,
          0.3,
          0.3,
          0.3,
          0.3,
          0.3,
          0.3,
          0.3,
          0.3,
          0.3,
          0.3,
          0.3,
          0.3,
          0.3,
          0.3,
          0.3,
          0.3,
          0.3,
          0.3,
          0.3,
          0.3,
          0.3,
          0.3,
          0.3,
          0.3,
          0.3,
          0.3,
          0.3,
          0.3,
          0.3,
          0.3,
          0.3,
          0.3,
          0.3,
          0.3,
          0.3,
          0.3,
          0.3,
          0.3,
          0.3,
          0.3,
          0.3,
          0.3,
          0.3,
          0.3,
          0.3,
          0.3,
          0.3,
          0.3,
          0.3,
          0.3,
          0.3,
          0.3,
          0.3,
          0.3,
          0.3,
          0.3,
          0.3,
          0.3,
          0.3,
          0.3,
          0.3,
          0.3,
          0.3,
          0.3,
          0.3,
          0.3,
          0.3,
          0.3,
          0.3,
          0.3,
          0.3,
          0.3,
          0.3,
          0.3,
          0.3,
          0.3,
          0.3,
          0.3,
          0.3,
          0.3,
          0.3,
          0.3,
          0.3,
          0.3,
          0.3,
          0.3,
          0.3,
          0.3,
          0.3,
          0.3,
          0.3,
          0.3,
          0.3,
          0.3,
          0.3,
          0.3,
          0.3,
          0.3,
          0.3,
          0.3,
          0.3,
          0.3,
          0.3,
          0.3,
          0.3,
          0.3,
          0.3,
          0.3,
          0.3,
          0.3,
          0.3,
          0.3,
          0.3,
          0.3,
          0.3,
          0.3,
          0.3,
          0.3,
          0.3,
          0.3,
          0.3,
          0.3,
          0.3,
          0.3,
          0.3,
          0.3,
          0.3,
          0.3,
          0.3,
          0.3,
          0.3,
          0.3,
          0.3,
          0.3,
          0.3,
          0.3,
          0.3,
          0.3,
          0.3,
          0.3,
          0.3,
          0.3,
          0.3,
          0.3,
          0.3,
          0.3
         ],
         "yaxis": "y"
        },
        {
         "line": {
          "color": "blue"
         },
         "mode": "lines",
         "name": "Train Scores",
         "showlegend": false,
         "type": "scatter",
         "x": [
          1,
          2,
          3,
          4,
          5,
          6,
          7,
          8,
          9,
          10,
          11,
          12,
          13,
          14,
          15,
          16,
          17,
          18,
          19,
          20,
          21,
          22,
          23,
          24,
          25,
          26,
          27,
          28,
          29,
          30,
          31,
          32,
          33,
          34,
          35,
          36,
          37,
          38,
          39,
          40,
          41,
          42,
          43,
          44,
          45,
          46,
          47,
          48,
          49,
          50,
          51,
          52,
          53,
          54,
          55,
          56,
          57,
          58,
          59,
          60,
          61,
          62,
          63,
          64,
          65,
          66,
          67,
          68,
          69,
          70,
          71,
          72,
          73,
          74,
          75,
          76,
          77,
          78,
          79,
          80,
          81,
          82,
          83,
          84,
          85,
          86,
          87,
          88,
          89,
          90,
          91,
          92,
          93,
          94,
          95,
          96,
          97,
          98,
          99,
          100,
          101,
          102,
          103,
          104,
          105,
          106,
          107,
          108,
          109,
          110,
          111,
          112,
          113,
          114,
          115,
          116,
          117,
          118,
          119,
          120,
          121,
          122,
          123,
          124,
          125,
          126,
          127,
          128,
          129,
          130,
          131,
          132,
          133,
          134,
          135,
          136,
          137,
          138,
          139,
          140,
          141,
          142,
          143,
          144,
          145,
          146,
          147,
          148,
          149,
          150
         ],
         "xaxis": "x2",
         "y": [
          0.5033791031967388,
          0.5033791031967388,
          0.5033791031967388,
          0.5033791031967388,
          0.5033791031967388,
          0.5033791031967388,
          0.5033791031967388,
          0.5033791031967388,
          0.5033791031967388,
          0.5033791031967388,
          0.5033791031967388,
          0.5033791031967388,
          0.5033791031967388,
          0.5033791031967388,
          0.5033791031967388,
          0.5033791031967388,
          0.5033791031967388,
          0.5033791031967388,
          0.5033791031967388,
          0.5033791031967388,
          0.5033791031967388,
          0.5033791031967388,
          0.5033791031967388,
          0.5033791031967388,
          0.5033791031967388,
          0.5033791031967388,
          0.5033791031967388,
          0.5033791031967388,
          0.5033791031967388,
          0.5033791031967388,
          0.5033791031967388,
          0.5033791031967388,
          0.5033791031967388,
          0.5033791031967388,
          0.5033791031967388,
          0.5033791031967388,
          0.5033791031967388,
          0.5033791031967388,
          0.5033791031967388,
          0.5033791031967388,
          0.5033791031967388,
          0.5033791031967388,
          0.5033791031967388,
          0.5033791031967388,
          0.5033791031967388,
          0.5033791031967388,
          0.5033791031967388,
          0.5033791031967388,
          0.5033791031967388,
          0.5033791031967388,
          0.5033791031967388,
          0.5033791031967388,
          0.5033791031967388,
          0.5033791031967388,
          0.5033791031967388,
          0.5033791031967388,
          0.5033791031967388,
          0.5033791031967388,
          0.5033791031967388,
          0.5033791031967388,
          0.5033791031967388,
          0.5033791031967388,
          0.5033791031967388,
          0.5033791031967388,
          0.5033791031967388,
          0.5033791031967388,
          0.5033791031967388,
          0.5033791031967388,
          0.5033791031967388,
          0.5033791031967388,
          0.5033791031967388,
          0.5033791031967388,
          0.5033791031967388,
          0.5033791031967388,
          0.5033791031967388,
          0.5033791031967388,
          0.5033791031967388,
          0.5033791031967388,
          0.5033791031967388,
          0.5033791031967388,
          0.5033791031967388,
          0.5033791031967388,
          0.5033791031967388,
          0.5033791031967388,
          0.5033791031967388,
          0.5033791031967388,
          0.5033791031967388,
          0.5033791031967388,
          0.5033791031967388,
          0.5033791031967388,
          0.5033791031967388,
          0.5033791031967388,
          0.5033791031967388,
          0.5033791031967388,
          0.5033791031967388,
          0.5033791031967388,
          0.5033791031967388,
          0.5033791031967388,
          0.5033791031967388,
          0.5033791031967388,
          0.5033791031967388,
          0.5033791031967388,
          0.5033791031967388,
          0.5033791031967388,
          0.5033791031967388,
          0.5033791031967388,
          0.5033791031967388,
          0.5033791031967388,
          0.5033791031967388,
          0.5033791031967388,
          0.5033791031967388,
          0.5033791031967388,
          0.5033791031967388,
          0.5033791031967388,
          0.5033791031967388,
          0.5033791031967388,
          0.5033791031967388,
          0.5033791031967388,
          0.5033791031967388,
          0.5033791031967388,
          0.5033791031967388,
          0.5033791031967388,
          0.5033791031967388,
          0.5033791031967388,
          0.5033791031967388,
          0.5033791031967388,
          0.5033791031967388,
          0.5033791031967388,
          0.5033791031967388,
          0.5033791031967388,
          0.5033791031967388,
          0.5033791031967388,
          0.5033791031967388,
          0.5033791031967388,
          0.5033791031967388,
          0.5033791031967388,
          0.5033791031967388,
          0.5033791031967388,
          0.5033791031967388,
          0.5033791031967388,
          0.5033791031967388,
          0.5033791031967388,
          0.5033791031967388,
          0.5033791031967388,
          0.5033791031967388,
          0.5033791031967388,
          0.5033791031967388,
          0.5033791031967388,
          0.5033791031967388,
          0.5033791031967388
         ],
         "yaxis": "y2"
        },
        {
         "line": {
          "color": "red"
         },
         "mode": "lines",
         "name": "Test Scores",
         "showlegend": false,
         "type": "scatter",
         "x": [
          1,
          2,
          3,
          4,
          5,
          6,
          7,
          8,
          9,
          10,
          11,
          12,
          13,
          14,
          15,
          16,
          17,
          18,
          19,
          20,
          21,
          22,
          23,
          24,
          25,
          26,
          27,
          28,
          29,
          30,
          31,
          32,
          33,
          34,
          35,
          36,
          37,
          38,
          39,
          40,
          41,
          42,
          43,
          44,
          45,
          46,
          47,
          48,
          49,
          50,
          51,
          52,
          53,
          54,
          55,
          56,
          57,
          58,
          59,
          60,
          61,
          62,
          63,
          64,
          65,
          66,
          67,
          68,
          69,
          70,
          71,
          72,
          73,
          74,
          75,
          76,
          77,
          78,
          79,
          80,
          81,
          82,
          83,
          84,
          85,
          86,
          87,
          88,
          89,
          90,
          91,
          92,
          93,
          94,
          95,
          96,
          97,
          98,
          99,
          100,
          101,
          102,
          103,
          104,
          105,
          106,
          107,
          108,
          109,
          110,
          111,
          112,
          113,
          114,
          115,
          116,
          117,
          118,
          119,
          120,
          121,
          122,
          123,
          124,
          125,
          126,
          127,
          128,
          129,
          130,
          131,
          132,
          133,
          134,
          135,
          136,
          137,
          138,
          139,
          140,
          141,
          142,
          143,
          144,
          145,
          146,
          147,
          148,
          149,
          150
         ],
         "xaxis": "x2",
         "y": [
          0.5033898305084745,
          0.5033898305084745,
          0.5033898305084745,
          0.5033898305084745,
          0.5033898305084745,
          0.5033898305084745,
          0.5033898305084745,
          0.5033898305084745,
          0.5033898305084745,
          0.5033898305084745,
          0.5033898305084745,
          0.5033898305084745,
          0.5033898305084745,
          0.5033898305084745,
          0.5033898305084745,
          0.5033898305084745,
          0.5033898305084745,
          0.5033898305084745,
          0.5033898305084745,
          0.5033898305084745,
          0.5033898305084745,
          0.5033898305084745,
          0.5033898305084745,
          0.5033898305084745,
          0.5033898305084745,
          0.5033898305084745,
          0.5033898305084745,
          0.5033898305084745,
          0.5033898305084745,
          0.5033898305084745,
          0.5033898305084745,
          0.5033898305084745,
          0.5033898305084745,
          0.5033898305084745,
          0.5033898305084745,
          0.5033898305084745,
          0.5033898305084745,
          0.5033898305084745,
          0.5033898305084745,
          0.5033898305084745,
          0.5033898305084745,
          0.5033898305084745,
          0.5033898305084745,
          0.5033898305084745,
          0.5033898305084745,
          0.5033898305084745,
          0.5033898305084745,
          0.5033898305084745,
          0.5033898305084745,
          0.5033898305084745,
          0.5033898305084745,
          0.5033898305084745,
          0.5033898305084745,
          0.5033898305084745,
          0.5033898305084745,
          0.5033898305084745,
          0.5033898305084745,
          0.5033898305084745,
          0.5033898305084745,
          0.5033898305084745,
          0.5033898305084745,
          0.5033898305084745,
          0.5033898305084745,
          0.5033898305084745,
          0.5033898305084745,
          0.5033898305084745,
          0.5033898305084745,
          0.5033898305084745,
          0.5033898305084745,
          0.5033898305084745,
          0.5033898305084745,
          0.5033898305084745,
          0.5033898305084745,
          0.5033898305084745,
          0.5033898305084745,
          0.5033898305084745,
          0.5033898305084745,
          0.5033898305084745,
          0.5033898305084745,
          0.5033898305084745,
          0.5033898305084745,
          0.5033898305084745,
          0.5033898305084745,
          0.5033898305084745,
          0.5033898305084745,
          0.5033898305084745,
          0.5033898305084745,
          0.5033898305084745,
          0.5033898305084745,
          0.5033898305084745,
          0.5033898305084745,
          0.5033898305084745,
          0.5033898305084745,
          0.5033898305084745,
          0.5033898305084745,
          0.5033898305084745,
          0.5033898305084745,
          0.5033898305084745,
          0.5033898305084745,
          0.5033898305084745,
          0.5033898305084745,
          0.5033898305084745,
          0.5033898305084745,
          0.5033898305084745,
          0.5033898305084745,
          0.5033898305084745,
          0.5033898305084745,
          0.5033898305084745,
          0.5033898305084745,
          0.5033898305084745,
          0.5033898305084745,
          0.5033898305084745,
          0.5033898305084745,
          0.5033898305084745,
          0.5033898305084745,
          0.5033898305084745,
          0.5033898305084745,
          0.5033898305084745,
          0.5033898305084745,
          0.5033898305084745,
          0.5033898305084745,
          0.5033898305084745,
          0.5033898305084745,
          0.5033898305084745,
          0.5033898305084745,
          0.5033898305084745,
          0.5033898305084745,
          0.5033898305084745,
          0.5033898305084745,
          0.5033898305084745,
          0.5033898305084745,
          0.5033898305084745,
          0.5033898305084745,
          0.5033898305084745,
          0.5033898305084745,
          0.5033898305084745,
          0.5033898305084745,
          0.5033898305084745,
          0.5033898305084745,
          0.5033898305084745,
          0.5033898305084745,
          0.5033898305084745,
          0.5033898305084745,
          0.5033898305084745,
          0.5033898305084745,
          0.5033898305084745,
          0.5033898305084745,
          0.5033898305084745,
          0.5033898305084745,
          0.5033898305084745
         ],
         "yaxis": "y2"
        },
        {
         "line": {
          "color": "blue"
         },
         "mode": "lines",
         "name": "Train Scores",
         "showlegend": false,
         "type": "scatter",
         "x": [
          1,
          2,
          3,
          4,
          5,
          6,
          7,
          8,
          9,
          10,
          11,
          12,
          13,
          14,
          15,
          16,
          17,
          18,
          19,
          20,
          21,
          22,
          23,
          24,
          25,
          26,
          27,
          28,
          29,
          30,
          31,
          32,
          33,
          34,
          35,
          36,
          37,
          38,
          39,
          40,
          41,
          42,
          43,
          44,
          45,
          46,
          47,
          48,
          49,
          50,
          51,
          52,
          53,
          54,
          55,
          56,
          57,
          58,
          59,
          60,
          61,
          62,
          63,
          64,
          65,
          66,
          67,
          68,
          69,
          70,
          71,
          72,
          73,
          74,
          75,
          76,
          77,
          78,
          79,
          80,
          81,
          82,
          83,
          84,
          85,
          86,
          87,
          88,
          89,
          90,
          91,
          92,
          93,
          94,
          95,
          96,
          97,
          98,
          99,
          100,
          101,
          102,
          103,
          104,
          105,
          106,
          107,
          108,
          109,
          110,
          111,
          112,
          113,
          114,
          115,
          116,
          117,
          118,
          119,
          120,
          121,
          122,
          123,
          124,
          125,
          126,
          127,
          128,
          129,
          130,
          131,
          132,
          133,
          134,
          135,
          136,
          137,
          138,
          139,
          140,
          141,
          142,
          143,
          144,
          145,
          146,
          147,
          148,
          149,
          150
         ],
         "xaxis": "x3",
         "y": [
          0.3613377192982456,
          0.3613377192982456,
          0.3613377192982456,
          0.3613377192982456,
          0.3613377192982456,
          0.3613377192982456,
          0.3613377192982456,
          0.3613377192982456,
          0.3613377192982456,
          0.3613377192982456,
          0.3613377192982456,
          0.3613377192982456,
          0.3613377192982456,
          0.3613377192982456,
          0.3613377192982456,
          0.3613377192982456,
          0.3613377192982456,
          0.3613377192982456,
          0.3613377192982456,
          0.3613377192982456,
          0.3613377192982456,
          0.3613377192982456,
          0.3613377192982456,
          0.3613377192982456,
          0.3613377192982456,
          0.3613377192982456,
          0.3613377192982456,
          0.3613377192982456,
          0.3613377192982456,
          0.3613377192982456,
          0.3613377192982456,
          0.3613377192982456,
          0.3613377192982456,
          0.3613377192982456,
          0.3613377192982456,
          0.3613377192982456,
          0.3613377192982456,
          0.3613377192982456,
          0.3613377192982456,
          0.3613377192982456,
          0.3613377192982456,
          0.3613377192982456,
          0.3613377192982456,
          0.3613377192982456,
          0.3613377192982456,
          0.3613377192982456,
          0.3613377192982456,
          0.3613377192982456,
          0.3613377192982456,
          0.3613377192982456,
          0.3613377192982456,
          0.3613377192982456,
          0.3613377192982456,
          0.3613377192982456,
          0.3613377192982456,
          0.3613377192982456,
          0.3613377192982456,
          0.3613377192982456,
          0.3613377192982456,
          0.3613377192982456,
          0.3613377192982456,
          0.3613377192982456,
          0.3613377192982456,
          0.3613377192982456,
          0.3613377192982456,
          0.3613377192982456,
          0.3613377192982456,
          0.3613377192982456,
          0.3613377192982456,
          0.3613377192982456,
          0.3613377192982456,
          0.3613377192982456,
          0.3613377192982456,
          0.3613377192982456,
          0.3613377192982456,
          0.3613377192982456,
          0.3613377192982456,
          0.3613377192982456,
          0.3613377192982456,
          0.3613377192982456,
          0.3613377192982456,
          0.3613377192982456,
          0.3613377192982456,
          0.3613377192982456,
          0.3613377192982456,
          0.3613377192982456,
          0.3613377192982456,
          0.3613377192982456,
          0.3613377192982456,
          0.3613377192982456,
          0.3613377192982456,
          0.3613377192982456,
          0.3613377192982456,
          0.3613377192982456,
          0.3613377192982456,
          0.3613377192982456,
          0.3613377192982456,
          0.3613377192982456,
          0.3613377192982456,
          0.3613377192982456,
          0.3613377192982456,
          0.3613377192982456,
          0.3613377192982456,
          0.3613377192982456,
          0.3613377192982456,
          0.3613377192982456,
          0.3613377192982456,
          0.3613377192982456,
          0.3613377192982456,
          0.3613377192982456,
          0.3613377192982456,
          0.3613377192982456,
          0.3613377192982456,
          0.3613377192982456,
          0.3613377192982456,
          0.3613377192982456,
          0.3613377192982456,
          0.3613377192982456,
          0.3613377192982456,
          0.3613377192982456,
          0.3613377192982456,
          0.3613377192982456,
          0.3613377192982456,
          0.3613377192982456,
          0.3613377192982456,
          0.3613377192982456,
          0.3613377192982456,
          0.3613377192982456,
          0.3613377192982456,
          0.3613377192982456,
          0.3613377192982456,
          0.3613377192982456,
          0.3613377192982456,
          0.3613377192982456,
          0.3613377192982456,
          0.3613377192982456,
          0.3613377192982456,
          0.3613377192982456,
          0.3613377192982456,
          0.3613377192982456,
          0.3613377192982456,
          0.3613377192982456,
          0.3613377192982456,
          0.3613377192982456,
          0.3613377192982456,
          0.3613377192982456,
          0.3613377192982456,
          0.3613377192982456,
          0.3613377192982456,
          0.3613377192982456
         ],
         "yaxis": "y3"
        },
        {
         "line": {
          "color": "red"
         },
         "mode": "lines",
         "name": "Test Scores",
         "showlegend": false,
         "type": "scatter",
         "x": [
          1,
          2,
          3,
          4,
          5,
          6,
          7,
          8,
          9,
          10,
          11,
          12,
          13,
          14,
          15,
          16,
          17,
          18,
          19,
          20,
          21,
          22,
          23,
          24,
          25,
          26,
          27,
          28,
          29,
          30,
          31,
          32,
          33,
          34,
          35,
          36,
          37,
          38,
          39,
          40,
          41,
          42,
          43,
          44,
          45,
          46,
          47,
          48,
          49,
          50,
          51,
          52,
          53,
          54,
          55,
          56,
          57,
          58,
          59,
          60,
          61,
          62,
          63,
          64,
          65,
          66,
          67,
          68,
          69,
          70,
          71,
          72,
          73,
          74,
          75,
          76,
          77,
          78,
          79,
          80,
          81,
          82,
          83,
          84,
          85,
          86,
          87,
          88,
          89,
          90,
          91,
          92,
          93,
          94,
          95,
          96,
          97,
          98,
          99,
          100,
          101,
          102,
          103,
          104,
          105,
          106,
          107,
          108,
          109,
          110,
          111,
          112,
          113,
          114,
          115,
          116,
          117,
          118,
          119,
          120,
          121,
          122,
          123,
          124,
          125,
          126,
          127,
          128,
          129,
          130,
          131,
          132,
          133,
          134,
          135,
          136,
          137,
          138,
          139,
          140,
          141,
          142,
          143,
          144,
          145,
          146,
          147,
          148,
          149,
          150
         ],
         "xaxis": "x3",
         "y": [
          0.361231884057971,
          0.361231884057971,
          0.361231884057971,
          0.361231884057971,
          0.361231884057971,
          0.361231884057971,
          0.361231884057971,
          0.361231884057971,
          0.361231884057971,
          0.361231884057971,
          0.361231884057971,
          0.361231884057971,
          0.361231884057971,
          0.361231884057971,
          0.361231884057971,
          0.361231884057971,
          0.361231884057971,
          0.361231884057971,
          0.361231884057971,
          0.361231884057971,
          0.361231884057971,
          0.361231884057971,
          0.361231884057971,
          0.361231884057971,
          0.361231884057971,
          0.361231884057971,
          0.361231884057971,
          0.361231884057971,
          0.361231884057971,
          0.361231884057971,
          0.361231884057971,
          0.361231884057971,
          0.361231884057971,
          0.361231884057971,
          0.361231884057971,
          0.361231884057971,
          0.361231884057971,
          0.361231884057971,
          0.361231884057971,
          0.361231884057971,
          0.361231884057971,
          0.361231884057971,
          0.361231884057971,
          0.361231884057971,
          0.361231884057971,
          0.361231884057971,
          0.361231884057971,
          0.361231884057971,
          0.361231884057971,
          0.361231884057971,
          0.361231884057971,
          0.361231884057971,
          0.361231884057971,
          0.361231884057971,
          0.361231884057971,
          0.361231884057971,
          0.361231884057971,
          0.361231884057971,
          0.361231884057971,
          0.361231884057971,
          0.361231884057971,
          0.361231884057971,
          0.361231884057971,
          0.361231884057971,
          0.361231884057971,
          0.361231884057971,
          0.361231884057971,
          0.361231884057971,
          0.361231884057971,
          0.361231884057971,
          0.361231884057971,
          0.361231884057971,
          0.361231884057971,
          0.361231884057971,
          0.361231884057971,
          0.361231884057971,
          0.361231884057971,
          0.361231884057971,
          0.361231884057971,
          0.361231884057971,
          0.361231884057971,
          0.361231884057971,
          0.361231884057971,
          0.361231884057971,
          0.361231884057971,
          0.361231884057971,
          0.361231884057971,
          0.361231884057971,
          0.361231884057971,
          0.361231884057971,
          0.361231884057971,
          0.361231884057971,
          0.361231884057971,
          0.361231884057971,
          0.361231884057971,
          0.361231884057971,
          0.361231884057971,
          0.361231884057971,
          0.361231884057971,
          0.361231884057971,
          0.361231884057971,
          0.361231884057971,
          0.361231884057971,
          0.361231884057971,
          0.361231884057971,
          0.361231884057971,
          0.361231884057971,
          0.361231884057971,
          0.361231884057971,
          0.361231884057971,
          0.361231884057971,
          0.361231884057971,
          0.361231884057971,
          0.361231884057971,
          0.361231884057971,
          0.361231884057971,
          0.361231884057971,
          0.361231884057971,
          0.361231884057971,
          0.361231884057971,
          0.361231884057971,
          0.361231884057971,
          0.361231884057971,
          0.361231884057971,
          0.361231884057971,
          0.361231884057971,
          0.361231884057971,
          0.361231884057971,
          0.361231884057971,
          0.361231884057971,
          0.361231884057971,
          0.361231884057971,
          0.361231884057971,
          0.361231884057971,
          0.361231884057971,
          0.361231884057971,
          0.361231884057971,
          0.361231884057971,
          0.361231884057971,
          0.361231884057971,
          0.361231884057971,
          0.361231884057971,
          0.361231884057971,
          0.361231884057971,
          0.361231884057971,
          0.361231884057971,
          0.361231884057971,
          0.361231884057971,
          0.361231884057971,
          0.361231884057971
         ],
         "yaxis": "y3"
        },
        {
         "line": {
          "color": "blue"
         },
         "mode": "lines",
         "name": "Train Scores",
         "showlegend": false,
         "type": "scatter",
         "x": [
          1,
          2,
          3,
          4,
          5,
          6,
          7,
          8,
          9,
          10,
          11,
          12,
          13,
          14,
          15,
          16,
          17,
          18,
          19,
          20,
          21,
          22,
          23,
          24,
          25,
          26,
          27,
          28,
          29,
          30,
          31,
          32,
          33,
          34,
          35,
          36,
          37,
          38,
          39,
          40,
          41,
          42,
          43,
          44,
          45,
          46,
          47,
          48,
          49,
          50,
          51,
          52,
          53,
          54,
          55,
          56,
          57,
          58,
          59,
          60,
          61,
          62,
          63,
          64,
          65,
          66,
          67,
          68,
          69,
          70,
          71,
          72,
          73,
          74,
          75,
          76,
          77,
          78,
          79,
          80,
          81,
          82,
          83,
          84,
          85,
          86,
          87,
          88,
          89,
          90,
          91,
          92,
          93,
          94,
          95,
          96,
          97,
          98,
          99,
          100,
          101,
          102,
          103,
          104,
          105,
          106,
          107,
          108,
          109,
          110,
          111,
          112,
          113,
          114,
          115,
          116,
          117,
          118,
          119,
          120,
          121,
          122,
          123,
          124,
          125,
          126,
          127,
          128,
          129,
          130,
          131,
          132,
          133,
          134,
          135,
          136,
          137,
          138,
          139,
          140,
          141,
          142,
          143,
          144,
          145,
          146,
          147,
          148,
          149,
          150
         ],
         "xaxis": "x4",
         "y": [
          0.35957937877480584,
          0.35957937877480584,
          0.35957937877480584,
          0.35957937877480584,
          0.35957937877480584,
          0.35957937877480584,
          0.35957937877480584,
          0.35957937877480584,
          0.35957937877480584,
          0.35957937877480584,
          0.35957937877480584,
          0.35957937877480584,
          0.35957937877480584,
          0.35957937877480584,
          0.35957937877480584,
          0.35957937877480584,
          0.35957937877480584,
          0.35957937877480584,
          0.35957937877480584,
          0.35957937877480584,
          0.35957937877480584,
          0.35957937877480584,
          0.35957937877480584,
          0.35957937877480584,
          0.35957937877480584,
          0.35957937877480584,
          0.35957937877480584,
          0.35957937877480584,
          0.35957937877480584,
          0.35957937877480584,
          0.35957937877480584,
          0.35957937877480584,
          0.35957937877480584,
          0.35957937877480584,
          0.35957937877480584,
          0.35957937877480584,
          0.35957937877480584,
          0.35957937877480584,
          0.35957937877480584,
          0.35957937877480584,
          0.35957937877480584,
          0.35957937877480584,
          0.35957937877480584,
          0.35957937877480584,
          0.35957937877480584,
          0.35957937877480584,
          0.35957937877480584,
          0.35957937877480584,
          0.35957937877480584,
          0.35957937877480584,
          0.35957937877480584,
          0.35957937877480584,
          0.35957937877480584,
          0.35957937877480584,
          0.35957937877480584,
          0.35957937877480584,
          0.35957937877480584,
          0.35957937877480584,
          0.35957937877480584,
          0.35957937877480584,
          0.35957937877480584,
          0.35957937877480584,
          0.35957937877480584,
          0.35957937877480584,
          0.35957937877480584,
          0.35957937877480584,
          0.35957937877480584,
          0.35957937877480584,
          0.35957937877480584,
          0.35957937877480584,
          0.35957937877480584,
          0.35957937877480584,
          0.35957937877480584,
          0.35957937877480584,
          0.35957937877480584,
          0.35957937877480584,
          0.35957937877480584,
          0.35957937877480584,
          0.35957937877480584,
          0.35957937877480584,
          0.35957937877480584,
          0.35957937877480584,
          0.35957937877480584,
          0.35957937877480584,
          0.35957937877480584,
          0.35957937877480584,
          0.35957937877480584,
          0.35957937877480584,
          0.35957937877480584,
          0.35957937877480584,
          0.35957937877480584,
          0.35957937877480584,
          0.35957937877480584,
          0.35957937877480584,
          0.35957937877480584,
          0.35957937877480584,
          0.35957937877480584,
          0.35957937877480584,
          0.35957937877480584,
          0.35957937877480584,
          0.35957937877480584,
          0.35957937877480584,
          0.35957937877480584,
          0.35957937877480584,
          0.35957937877480584,
          0.35957937877480584,
          0.35957937877480584,
          0.35957937877480584,
          0.35957937877480584,
          0.35957937877480584,
          0.35957937877480584,
          0.35957937877480584,
          0.35957937877480584,
          0.35957937877480584,
          0.35957937877480584,
          0.35957937877480584,
          0.35957937877480584,
          0.35957937877480584,
          0.35957937877480584,
          0.35957937877480584,
          0.35957937877480584,
          0.35957937877480584,
          0.35957937877480584,
          0.35957937877480584,
          0.35957937877480584,
          0.35957937877480584,
          0.35957937877480584,
          0.35957937877480584,
          0.35957937877480584,
          0.35957937877480584,
          0.35957937877480584,
          0.35957937877480584,
          0.35957937877480584,
          0.35957937877480584,
          0.35957937877480584,
          0.35957937877480584,
          0.35957937877480584,
          0.35957937877480584,
          0.35957937877480584,
          0.35957937877480584,
          0.35957937877480584,
          0.35957937877480584,
          0.35957937877480584,
          0.35957937877480584,
          0.35957937877480584,
          0.35957937877480584,
          0.35957937877480584,
          0.35957937877480584,
          0.35957937877480584,
          0.35957937877480584
         ],
         "yaxis": "y4"
        },
        {
         "line": {
          "color": "red"
         },
         "mode": "lines",
         "name": "Test Scores",
         "showlegend": false,
         "type": "scatter",
         "x": [
          1,
          2,
          3,
          4,
          5,
          6,
          7,
          8,
          9,
          10,
          11,
          12,
          13,
          14,
          15,
          16,
          17,
          18,
          19,
          20,
          21,
          22,
          23,
          24,
          25,
          26,
          27,
          28,
          29,
          30,
          31,
          32,
          33,
          34,
          35,
          36,
          37,
          38,
          39,
          40,
          41,
          42,
          43,
          44,
          45,
          46,
          47,
          48,
          49,
          50,
          51,
          52,
          53,
          54,
          55,
          56,
          57,
          58,
          59,
          60,
          61,
          62,
          63,
          64,
          65,
          66,
          67,
          68,
          69,
          70,
          71,
          72,
          73,
          74,
          75,
          76,
          77,
          78,
          79,
          80,
          81,
          82,
          83,
          84,
          85,
          86,
          87,
          88,
          89,
          90,
          91,
          92,
          93,
          94,
          95,
          96,
          97,
          98,
          99,
          100,
          101,
          102,
          103,
          104,
          105,
          106,
          107,
          108,
          109,
          110,
          111,
          112,
          113,
          114,
          115,
          116,
          117,
          118,
          119,
          120,
          121,
          122,
          123,
          124,
          125,
          126,
          127,
          128,
          129,
          130,
          131,
          132,
          133,
          134,
          135,
          136,
          137,
          138,
          139,
          140,
          141,
          142,
          143,
          144,
          145,
          146,
          147,
          148,
          149,
          150
         ],
         "xaxis": "x4",
         "y": [
          0.35956937799043054,
          0.35956937799043054,
          0.35956937799043054,
          0.35956937799043054,
          0.35956937799043054,
          0.35956937799043054,
          0.35956937799043054,
          0.35956937799043054,
          0.35956937799043054,
          0.35956937799043054,
          0.35956937799043054,
          0.35956937799043054,
          0.35956937799043054,
          0.35956937799043054,
          0.35956937799043054,
          0.35956937799043054,
          0.35956937799043054,
          0.35956937799043054,
          0.35956937799043054,
          0.35956937799043054,
          0.35956937799043054,
          0.35956937799043054,
          0.35956937799043054,
          0.35956937799043054,
          0.35956937799043054,
          0.35956937799043054,
          0.35956937799043054,
          0.35956937799043054,
          0.35956937799043054,
          0.35956937799043054,
          0.35956937799043054,
          0.35956937799043054,
          0.35956937799043054,
          0.35956937799043054,
          0.35956937799043054,
          0.35956937799043054,
          0.35956937799043054,
          0.35956937799043054,
          0.35956937799043054,
          0.35956937799043054,
          0.35956937799043054,
          0.35956937799043054,
          0.35956937799043054,
          0.35956937799043054,
          0.35956937799043054,
          0.35956937799043054,
          0.35956937799043054,
          0.35956937799043054,
          0.35956937799043054,
          0.35956937799043054,
          0.35956937799043054,
          0.35956937799043054,
          0.35956937799043054,
          0.35956937799043054,
          0.35956937799043054,
          0.35956937799043054,
          0.35956937799043054,
          0.35956937799043054,
          0.35956937799043054,
          0.35956937799043054,
          0.35956937799043054,
          0.35956937799043054,
          0.35956937799043054,
          0.35956937799043054,
          0.35956937799043054,
          0.35956937799043054,
          0.35956937799043054,
          0.35956937799043054,
          0.35956937799043054,
          0.35956937799043054,
          0.35956937799043054,
          0.35956937799043054,
          0.35956937799043054,
          0.35956937799043054,
          0.35956937799043054,
          0.35956937799043054,
          0.35956937799043054,
          0.35956937799043054,
          0.35956937799043054,
          0.35956937799043054,
          0.35956937799043054,
          0.35956937799043054,
          0.35956937799043054,
          0.35956937799043054,
          0.35956937799043054,
          0.35956937799043054,
          0.35956937799043054,
          0.35956937799043054,
          0.35956937799043054,
          0.35956937799043054,
          0.35956937799043054,
          0.35956937799043054,
          0.35956937799043054,
          0.35956937799043054,
          0.35956937799043054,
          0.35956937799043054,
          0.35956937799043054,
          0.35956937799043054,
          0.35956937799043054,
          0.35956937799043054,
          0.35956937799043054,
          0.35956937799043054,
          0.35956937799043054,
          0.35956937799043054,
          0.35956937799043054,
          0.35956937799043054,
          0.35956937799043054,
          0.35956937799043054,
          0.35956937799043054,
          0.35956937799043054,
          0.35956937799043054,
          0.35956937799043054,
          0.35956937799043054,
          0.35956937799043054,
          0.35956937799043054,
          0.35956937799043054,
          0.35956937799043054,
          0.35956937799043054,
          0.35956937799043054,
          0.35956937799043054,
          0.35956937799043054,
          0.35956937799043054,
          0.35956937799043054,
          0.35956937799043054,
          0.35956937799043054,
          0.35956937799043054,
          0.35956937799043054,
          0.35956937799043054,
          0.35956937799043054,
          0.35956937799043054,
          0.35956937799043054,
          0.35956937799043054,
          0.35956937799043054,
          0.35956937799043054,
          0.35956937799043054,
          0.35956937799043054,
          0.35956937799043054,
          0.35956937799043054,
          0.35956937799043054,
          0.35956937799043054,
          0.35956937799043054,
          0.35956937799043054,
          0.35956937799043054,
          0.35956937799043054,
          0.35956937799043054,
          0.35956937799043054,
          0.35956937799043054,
          0.35956937799043054,
          0.35956937799043054,
          0.35956937799043054
         ],
         "yaxis": "y4"
        }
       ],
       "layout": {
        "annotations": [
         {
          "font": {
           "size": 16
          },
          "showarrow": false,
          "text": "Dataset: iris",
          "x": 0.225,
          "xanchor": "center",
          "xref": "paper",
          "y": 1,
          "yanchor": "bottom",
          "yref": "paper"
         },
         {
          "font": {
           "size": 16
          },
          "showarrow": false,
          "text": "Dataset: diabetes",
          "x": 0.775,
          "xanchor": "center",
          "xref": "paper",
          "y": 1,
          "yanchor": "bottom",
          "yref": "paper"
         },
         {
          "font": {
           "size": 16
          },
          "showarrow": false,
          "text": "Dataset: wine",
          "x": 0.225,
          "xanchor": "center",
          "xref": "paper",
          "y": 0.375,
          "yanchor": "bottom",
          "yref": "paper"
         },
         {
          "font": {
           "size": 16
          },
          "showarrow": false,
          "text": "Dataset: breast",
          "x": 0.775,
          "xanchor": "center",
          "xref": "paper",
          "y": 0.375,
          "yanchor": "bottom",
          "yref": "paper"
         }
        ],
        "template": {
         "data": {
          "bar": [
           {
            "error_x": {
             "color": "#2a3f5f"
            },
            "error_y": {
             "color": "#2a3f5f"
            },
            "marker": {
             "line": {
              "color": "#E5ECF6",
              "width": 0.5
             },
             "pattern": {
              "fillmode": "overlay",
              "size": 10,
              "solidity": 0.2
             }
            },
            "type": "bar"
           }
          ],
          "barpolar": [
           {
            "marker": {
             "line": {
              "color": "#E5ECF6",
              "width": 0.5
             },
             "pattern": {
              "fillmode": "overlay",
              "size": 10,
              "solidity": 0.2
             }
            },
            "type": "barpolar"
           }
          ],
          "carpet": [
           {
            "aaxis": {
             "endlinecolor": "#2a3f5f",
             "gridcolor": "white",
             "linecolor": "white",
             "minorgridcolor": "white",
             "startlinecolor": "#2a3f5f"
            },
            "baxis": {
             "endlinecolor": "#2a3f5f",
             "gridcolor": "white",
             "linecolor": "white",
             "minorgridcolor": "white",
             "startlinecolor": "#2a3f5f"
            },
            "type": "carpet"
           }
          ],
          "choropleth": [
           {
            "colorbar": {
             "outlinewidth": 0,
             "ticks": ""
            },
            "type": "choropleth"
           }
          ],
          "contour": [
           {
            "colorbar": {
             "outlinewidth": 0,
             "ticks": ""
            },
            "colorscale": [
             [
              0,
              "#0d0887"
             ],
             [
              0.1111111111111111,
              "#46039f"
             ],
             [
              0.2222222222222222,
              "#7201a8"
             ],
             [
              0.3333333333333333,
              "#9c179e"
             ],
             [
              0.4444444444444444,
              "#bd3786"
             ],
             [
              0.5555555555555556,
              "#d8576b"
             ],
             [
              0.6666666666666666,
              "#ed7953"
             ],
             [
              0.7777777777777778,
              "#fb9f3a"
             ],
             [
              0.8888888888888888,
              "#fdca26"
             ],
             [
              1,
              "#f0f921"
             ]
            ],
            "type": "contour"
           }
          ],
          "contourcarpet": [
           {
            "colorbar": {
             "outlinewidth": 0,
             "ticks": ""
            },
            "type": "contourcarpet"
           }
          ],
          "heatmap": [
           {
            "colorbar": {
             "outlinewidth": 0,
             "ticks": ""
            },
            "colorscale": [
             [
              0,
              "#0d0887"
             ],
             [
              0.1111111111111111,
              "#46039f"
             ],
             [
              0.2222222222222222,
              "#7201a8"
             ],
             [
              0.3333333333333333,
              "#9c179e"
             ],
             [
              0.4444444444444444,
              "#bd3786"
             ],
             [
              0.5555555555555556,
              "#d8576b"
             ],
             [
              0.6666666666666666,
              "#ed7953"
             ],
             [
              0.7777777777777778,
              "#fb9f3a"
             ],
             [
              0.8888888888888888,
              "#fdca26"
             ],
             [
              1,
              "#f0f921"
             ]
            ],
            "type": "heatmap"
           }
          ],
          "heatmapgl": [
           {
            "colorbar": {
             "outlinewidth": 0,
             "ticks": ""
            },
            "colorscale": [
             [
              0,
              "#0d0887"
             ],
             [
              0.1111111111111111,
              "#46039f"
             ],
             [
              0.2222222222222222,
              "#7201a8"
             ],
             [
              0.3333333333333333,
              "#9c179e"
             ],
             [
              0.4444444444444444,
              "#bd3786"
             ],
             [
              0.5555555555555556,
              "#d8576b"
             ],
             [
              0.6666666666666666,
              "#ed7953"
             ],
             [
              0.7777777777777778,
              "#fb9f3a"
             ],
             [
              0.8888888888888888,
              "#fdca26"
             ],
             [
              1,
              "#f0f921"
             ]
            ],
            "type": "heatmapgl"
           }
          ],
          "histogram": [
           {
            "marker": {
             "pattern": {
              "fillmode": "overlay",
              "size": 10,
              "solidity": 0.2
             }
            },
            "type": "histogram"
           }
          ],
          "histogram2d": [
           {
            "colorbar": {
             "outlinewidth": 0,
             "ticks": ""
            },
            "colorscale": [
             [
              0,
              "#0d0887"
             ],
             [
              0.1111111111111111,
              "#46039f"
             ],
             [
              0.2222222222222222,
              "#7201a8"
             ],
             [
              0.3333333333333333,
              "#9c179e"
             ],
             [
              0.4444444444444444,
              "#bd3786"
             ],
             [
              0.5555555555555556,
              "#d8576b"
             ],
             [
              0.6666666666666666,
              "#ed7953"
             ],
             [
              0.7777777777777778,
              "#fb9f3a"
             ],
             [
              0.8888888888888888,
              "#fdca26"
             ],
             [
              1,
              "#f0f921"
             ]
            ],
            "type": "histogram2d"
           }
          ],
          "histogram2dcontour": [
           {
            "colorbar": {
             "outlinewidth": 0,
             "ticks": ""
            },
            "colorscale": [
             [
              0,
              "#0d0887"
             ],
             [
              0.1111111111111111,
              "#46039f"
             ],
             [
              0.2222222222222222,
              "#7201a8"
             ],
             [
              0.3333333333333333,
              "#9c179e"
             ],
             [
              0.4444444444444444,
              "#bd3786"
             ],
             [
              0.5555555555555556,
              "#d8576b"
             ],
             [
              0.6666666666666666,
              "#ed7953"
             ],
             [
              0.7777777777777778,
              "#fb9f3a"
             ],
             [
              0.8888888888888888,
              "#fdca26"
             ],
             [
              1,
              "#f0f921"
             ]
            ],
            "type": "histogram2dcontour"
           }
          ],
          "mesh3d": [
           {
            "colorbar": {
             "outlinewidth": 0,
             "ticks": ""
            },
            "type": "mesh3d"
           }
          ],
          "parcoords": [
           {
            "line": {
             "colorbar": {
              "outlinewidth": 0,
              "ticks": ""
             }
            },
            "type": "parcoords"
           }
          ],
          "pie": [
           {
            "automargin": true,
            "type": "pie"
           }
          ],
          "scatter": [
           {
            "fillpattern": {
             "fillmode": "overlay",
             "size": 10,
             "solidity": 0.2
            },
            "type": "scatter"
           }
          ],
          "scatter3d": [
           {
            "line": {
             "colorbar": {
              "outlinewidth": 0,
              "ticks": ""
             }
            },
            "marker": {
             "colorbar": {
              "outlinewidth": 0,
              "ticks": ""
             }
            },
            "type": "scatter3d"
           }
          ],
          "scattercarpet": [
           {
            "marker": {
             "colorbar": {
              "outlinewidth": 0,
              "ticks": ""
             }
            },
            "type": "scattercarpet"
           }
          ],
          "scattergeo": [
           {
            "marker": {
             "colorbar": {
              "outlinewidth": 0,
              "ticks": ""
             }
            },
            "type": "scattergeo"
           }
          ],
          "scattergl": [
           {
            "marker": {
             "colorbar": {
              "outlinewidth": 0,
              "ticks": ""
             }
            },
            "type": "scattergl"
           }
          ],
          "scattermapbox": [
           {
            "marker": {
             "colorbar": {
              "outlinewidth": 0,
              "ticks": ""
             }
            },
            "type": "scattermapbox"
           }
          ],
          "scatterpolar": [
           {
            "marker": {
             "colorbar": {
              "outlinewidth": 0,
              "ticks": ""
             }
            },
            "type": "scatterpolar"
           }
          ],
          "scatterpolargl": [
           {
            "marker": {
             "colorbar": {
              "outlinewidth": 0,
              "ticks": ""
             }
            },
            "type": "scatterpolargl"
           }
          ],
          "scatterternary": [
           {
            "marker": {
             "colorbar": {
              "outlinewidth": 0,
              "ticks": ""
             }
            },
            "type": "scatterternary"
           }
          ],
          "surface": [
           {
            "colorbar": {
             "outlinewidth": 0,
             "ticks": ""
            },
            "colorscale": [
             [
              0,
              "#0d0887"
             ],
             [
              0.1111111111111111,
              "#46039f"
             ],
             [
              0.2222222222222222,
              "#7201a8"
             ],
             [
              0.3333333333333333,
              "#9c179e"
             ],
             [
              0.4444444444444444,
              "#bd3786"
             ],
             [
              0.5555555555555556,
              "#d8576b"
             ],
             [
              0.6666666666666666,
              "#ed7953"
             ],
             [
              0.7777777777777778,
              "#fb9f3a"
             ],
             [
              0.8888888888888888,
              "#fdca26"
             ],
             [
              1,
              "#f0f921"
             ]
            ],
            "type": "surface"
           }
          ],
          "table": [
           {
            "cells": {
             "fill": {
              "color": "#EBF0F8"
             },
             "line": {
              "color": "white"
             }
            },
            "header": {
             "fill": {
              "color": "#C8D4E3"
             },
             "line": {
              "color": "white"
             }
            },
            "type": "table"
           }
          ]
         },
         "layout": {
          "annotationdefaults": {
           "arrowcolor": "#2a3f5f",
           "arrowhead": 0,
           "arrowwidth": 1
          },
          "autotypenumbers": "strict",
          "coloraxis": {
           "colorbar": {
            "outlinewidth": 0,
            "ticks": ""
           }
          },
          "colorscale": {
           "diverging": [
            [
             0,
             "#8e0152"
            ],
            [
             0.1,
             "#c51b7d"
            ],
            [
             0.2,
             "#de77ae"
            ],
            [
             0.3,
             "#f1b6da"
            ],
            [
             0.4,
             "#fde0ef"
            ],
            [
             0.5,
             "#f7f7f7"
            ],
            [
             0.6,
             "#e6f5d0"
            ],
            [
             0.7,
             "#b8e186"
            ],
            [
             0.8,
             "#7fbc41"
            ],
            [
             0.9,
             "#4d9221"
            ],
            [
             1,
             "#276419"
            ]
           ],
           "sequential": [
            [
             0,
             "#0d0887"
            ],
            [
             0.1111111111111111,
             "#46039f"
            ],
            [
             0.2222222222222222,
             "#7201a8"
            ],
            [
             0.3333333333333333,
             "#9c179e"
            ],
            [
             0.4444444444444444,
             "#bd3786"
            ],
            [
             0.5555555555555556,
             "#d8576b"
            ],
            [
             0.6666666666666666,
             "#ed7953"
            ],
            [
             0.7777777777777778,
             "#fb9f3a"
            ],
            [
             0.8888888888888888,
             "#fdca26"
            ],
            [
             1,
             "#f0f921"
            ]
           ],
           "sequentialminus": [
            [
             0,
             "#0d0887"
            ],
            [
             0.1111111111111111,
             "#46039f"
            ],
            [
             0.2222222222222222,
             "#7201a8"
            ],
            [
             0.3333333333333333,
             "#9c179e"
            ],
            [
             0.4444444444444444,
             "#bd3786"
            ],
            [
             0.5555555555555556,
             "#d8576b"
            ],
            [
             0.6666666666666666,
             "#ed7953"
            ],
            [
             0.7777777777777778,
             "#fb9f3a"
            ],
            [
             0.8888888888888888,
             "#fdca26"
            ],
            [
             1,
             "#f0f921"
            ]
           ]
          },
          "colorway": [
           "#636efa",
           "#EF553B",
           "#00cc96",
           "#ab63fa",
           "#FFA15A",
           "#19d3f3",
           "#FF6692",
           "#B6E880",
           "#FF97FF",
           "#FECB52"
          ],
          "font": {
           "color": "#2a3f5f"
          },
          "geo": {
           "bgcolor": "white",
           "lakecolor": "white",
           "landcolor": "#E5ECF6",
           "showlakes": true,
           "showland": true,
           "subunitcolor": "white"
          },
          "hoverlabel": {
           "align": "left"
          },
          "hovermode": "closest",
          "mapbox": {
           "style": "light"
          },
          "paper_bgcolor": "white",
          "plot_bgcolor": "#E5ECF6",
          "polar": {
           "angularaxis": {
            "gridcolor": "white",
            "linecolor": "white",
            "ticks": ""
           },
           "bgcolor": "#E5ECF6",
           "radialaxis": {
            "gridcolor": "white",
            "linecolor": "white",
            "ticks": ""
           }
          },
          "scene": {
           "xaxis": {
            "backgroundcolor": "#E5ECF6",
            "gridcolor": "white",
            "gridwidth": 2,
            "linecolor": "white",
            "showbackground": true,
            "ticks": "",
            "zerolinecolor": "white"
           },
           "yaxis": {
            "backgroundcolor": "#E5ECF6",
            "gridcolor": "white",
            "gridwidth": 2,
            "linecolor": "white",
            "showbackground": true,
            "ticks": "",
            "zerolinecolor": "white"
           },
           "zaxis": {
            "backgroundcolor": "#E5ECF6",
            "gridcolor": "white",
            "gridwidth": 2,
            "linecolor": "white",
            "showbackground": true,
            "ticks": "",
            "zerolinecolor": "white"
           }
          },
          "shapedefaults": {
           "line": {
            "color": "#2a3f5f"
           }
          },
          "ternary": {
           "aaxis": {
            "gridcolor": "white",
            "linecolor": "white",
            "ticks": ""
           },
           "baxis": {
            "gridcolor": "white",
            "linecolor": "white",
            "ticks": ""
           },
           "bgcolor": "#E5ECF6",
           "caxis": {
            "gridcolor": "white",
            "linecolor": "white",
            "ticks": ""
           }
          },
          "title": {
           "x": 0.05
          },
          "xaxis": {
           "automargin": true,
           "gridcolor": "white",
           "linecolor": "white",
           "ticks": "",
           "title": {
            "standoff": 15
           },
           "zerolinecolor": "white",
           "zerolinewidth": 2
          },
          "yaxis": {
           "automargin": true,
           "gridcolor": "white",
           "linecolor": "white",
           "ticks": "",
           "title": {
            "standoff": 15
           },
           "zerolinecolor": "white",
           "zerolinewidth": 2
          }
         }
        },
        "title": {
         "text": "Scores for Random Optimization"
        },
        "xaxis": {
         "anchor": "y",
         "domain": [
          0,
          0.45
         ]
        },
        "xaxis2": {
         "anchor": "y2",
         "domain": [
          0.55,
          1
         ]
        },
        "xaxis3": {
         "anchor": "y3",
         "domain": [
          0,
          0.45
         ],
         "title": {
          "text": "Epoch"
         }
        },
        "xaxis4": {
         "anchor": "y4",
         "domain": [
          0.55,
          1
         ],
         "title": {
          "text": "Epoch"
         }
        },
        "yaxis": {
         "anchor": "x",
         "domain": [
          0.625,
          1
         ],
         "range": [
          0,
          1
         ],
         "title": {
          "text": "Scores"
         }
        },
        "yaxis2": {
         "anchor": "x2",
         "domain": [
          0.625,
          1
         ],
         "range": [
          0,
          1
         ]
        },
        "yaxis3": {
         "anchor": "x3",
         "domain": [
          0,
          0.375
         ],
         "range": [
          0,
          1
         ],
         "title": {
          "text": "Scores"
         }
        },
        "yaxis4": {
         "anchor": "x4",
         "domain": [
          0,
          0.375
         ],
         "range": [
          0,
          1
         ]
        }
       }
      }
     },
     "metadata": {},
     "output_type": "display_data"
    }
   ],
   "source": [
    "plot_history(results_random['XGboost']['scores_train'],\n",
    "             results_random['XGboost']['scores_test'],\n",
    "             'Random')"
   ]
  },
  {
   "attachments": {},
   "cell_type": "markdown",
   "metadata": {
    "datalore": {
     "hide_input_from_viewers": true,
     "hide_output_from_viewers": true,
     "node_id": "sfk1DOV2IGJpDEWLx03D7c",
     "type": "MD"
    }
   },
   "source": [
    "### RandomForest"
   ]
  },
  {
   "cell_type": "code",
   "execution_count": 69,
   "metadata": {
    "datalore": {
     "hide_input_from_viewers": true,
     "hide_output_from_viewers": true,
     "node_id": "VPnoo4mFMKEM7mByr8zWEQ",
     "type": "CODE"
    }
   },
   "outputs": [
    {
     "data": {
      "application/vnd.plotly.v1+json": {
       "config": {
        "plotlyServerURL": "https://plot.ly"
       },
       "data": [
        {
         "line": {
          "color": "blue"
         },
         "mode": "lines",
         "name": "Train Scores",
         "showlegend": true,
         "type": "scatter",
         "x": [
          1,
          2,
          3,
          4,
          5,
          6,
          7,
          8,
          9,
          10,
          11,
          12,
          13,
          14,
          15,
          16,
          17,
          18,
          19,
          20,
          21,
          22,
          23,
          24,
          25,
          26,
          27,
          28,
          29,
          30,
          31,
          32,
          33,
          34,
          35,
          36,
          37,
          38,
          39,
          40,
          41,
          42,
          43,
          44,
          45,
          46,
          47,
          48,
          49,
          50,
          51,
          52,
          53,
          54,
          55,
          56,
          57,
          58,
          59,
          60,
          61,
          62,
          63,
          64,
          65,
          66,
          67,
          68,
          69,
          70,
          71,
          72,
          73,
          74,
          75,
          76,
          77,
          78,
          79,
          80,
          81,
          82,
          83,
          84,
          85,
          86,
          87,
          88,
          89,
          90,
          91,
          92,
          93,
          94,
          95,
          96,
          97,
          98,
          99,
          100,
          101,
          102,
          103,
          104,
          105,
          106,
          107,
          108,
          109,
          110,
          111,
          112,
          113,
          114,
          115,
          116,
          117,
          118,
          119,
          120,
          121,
          122,
          123,
          124,
          125,
          126,
          127,
          128,
          129,
          130,
          131,
          132,
          133,
          134,
          135,
          136,
          137,
          138,
          139,
          140,
          141,
          142,
          143,
          144,
          145,
          146,
          147,
          148,
          149,
          150
         ],
         "xaxis": "x",
         "y": [
          0.39,
          0.39,
          0.39,
          0.39,
          0.39,
          0.39,
          0.39,
          0.39,
          0.9574999999999999,
          0.39,
          0.9325000000000001,
          0.39,
          0.39,
          0.39,
          0.39,
          0.39,
          0.39,
          0.9700000000000001,
          0.39,
          0.39,
          0.9625,
          0.9625,
          0.39,
          0.3725,
          0.39,
          0.39,
          0.39,
          0.8400000000000001,
          0.39,
          0.9099999999999999,
          0.39,
          0.8025,
          0.8875,
          0.39,
          0.39,
          0.9525,
          0.9475,
          0.39,
          0.9650000000000001,
          0.39,
          0.39,
          0.39,
          0.39,
          0.39,
          0.39,
          0.96,
          0.8,
          0.39,
          0.39,
          0.39,
          0.96,
          0.39,
          0.39,
          0.835,
          0.39,
          0.39,
          0.39,
          0.39,
          0.39,
          0.9425000000000001,
          0.9350000000000002,
          0.42000000000000004,
          0.8724999999999999,
          0.925,
          0.39,
          0.39,
          0.39,
          0.7975,
          0.39,
          0.39,
          0.39,
          0.8875,
          0.39,
          0.39,
          0.39,
          0.39,
          0.39,
          0.39,
          0.39,
          0.39,
          0.39,
          0.39,
          0.39,
          0.39,
          0.39,
          0.96,
          0.39,
          0.9625,
          0.39,
          0.8550000000000001,
          0.39,
          0.8575000000000002,
          0.39,
          0.8225000000000001,
          0.39,
          0.9525,
          0.9574999999999999,
          0.8550000000000001,
          0.39,
          0.39,
          0.9375,
          0.39,
          0.39,
          0.39,
          0.39,
          0.39,
          0.39,
          0.39,
          0.9324999999999999,
          0.39,
          0.9,
          0.96,
          0.9650000000000001,
          0.39,
          0.39,
          0.39,
          0.39,
          0.39,
          0.39,
          0.39,
          0.39,
          0.82,
          0.39,
          0.39,
          0.39,
          0.9650000000000001,
          0.39,
          0.7649999999999999,
          0.765,
          0.39,
          0.82,
          0.39,
          0.39,
          0.39,
          0.8899999999999999,
          0.5575000000000001,
          0.39,
          0.96,
          0.575,
          0.39,
          0.39,
          0.96,
          0.39,
          0.39,
          0.9550000000000001,
          0.39,
          0.9650000000000001,
          0.39,
          0.39,
          0.905
         ],
         "yaxis": "y"
        },
        {
         "line": {
          "color": "red"
         },
         "mode": "lines",
         "name": "Test Scores",
         "showlegend": true,
         "type": "scatter",
         "x": [
          1,
          2,
          3,
          4,
          5,
          6,
          7,
          8,
          9,
          10,
          11,
          12,
          13,
          14,
          15,
          16,
          17,
          18,
          19,
          20,
          21,
          22,
          23,
          24,
          25,
          26,
          27,
          28,
          29,
          30,
          31,
          32,
          33,
          34,
          35,
          36,
          37,
          38,
          39,
          40,
          41,
          42,
          43,
          44,
          45,
          46,
          47,
          48,
          49,
          50,
          51,
          52,
          53,
          54,
          55,
          56,
          57,
          58,
          59,
          60,
          61,
          62,
          63,
          64,
          65,
          66,
          67,
          68,
          69,
          70,
          71,
          72,
          73,
          74,
          75,
          76,
          77,
          78,
          79,
          80,
          81,
          82,
          83,
          84,
          85,
          86,
          87,
          88,
          89,
          90,
          91,
          92,
          93,
          94,
          95,
          96,
          97,
          98,
          99,
          100,
          101,
          102,
          103,
          104,
          105,
          106,
          107,
          108,
          109,
          110,
          111,
          112,
          113,
          114,
          115,
          116,
          117,
          118,
          119,
          120,
          121,
          122,
          123,
          124,
          125,
          126,
          127,
          128,
          129,
          130,
          131,
          132,
          133,
          134,
          135,
          136,
          137,
          138,
          139,
          140,
          141,
          142,
          143,
          144,
          145,
          146,
          147,
          148,
          149,
          150
         ],
         "xaxis": "x",
         "y": [
          0.38999999999999996,
          0.38999999999999996,
          0.38999999999999996,
          0.38999999999999996,
          0.38999999999999996,
          0.38999999999999996,
          0.38999999999999996,
          0.38999999999999996,
          0.9199999999999999,
          0.38999999999999996,
          0.93,
          0.38999999999999996,
          0.38999999999999996,
          0.38999999999999996,
          0.38999999999999996,
          0.38999999999999996,
          0.38999999999999996,
          0.9199999999999999,
          0.38999999999999996,
          0.38999999999999996,
          0.9199999999999999,
          0.9400000000000001,
          0.38999999999999996,
          0.37,
          0.38999999999999996,
          0.38999999999999996,
          0.38999999999999996,
          0.8099999999999999,
          0.38999999999999996,
          0.9,
          0.38999999999999996,
          0.7700000000000001,
          0.86,
          0.38999999999999996,
          0.38999999999999996,
          0.9199999999999999,
          0.9199999999999999,
          0.38999999999999996,
          0.93,
          0.38999999999999996,
          0.38999999999999996,
          0.38999999999999996,
          0.38999999999999996,
          0.38999999999999996,
          0.38999999999999996,
          0.9199999999999999,
          0.8,
          0.38999999999999996,
          0.38999999999999996,
          0.38999999999999996,
          0.9199999999999999,
          0.38999999999999996,
          0.38999999999999996,
          0.82,
          0.38999999999999996,
          0.38999999999999996,
          0.38999999999999996,
          0.38999999999999996,
          0.38999999999999996,
          0.9400000000000001,
          0.9199999999999999,
          0.42000000000000004,
          0.8699999999999999,
          0.9199999999999999,
          0.38999999999999996,
          0.38999999999999996,
          0.38999999999999996,
          0.8,
          0.38999999999999996,
          0.38999999999999996,
          0.38999999999999996,
          0.8799999999999999,
          0.38999999999999996,
          0.38999999999999996,
          0.38999999999999996,
          0.38999999999999996,
          0.38999999999999996,
          0.38999999999999996,
          0.38999999999999996,
          0.38999999999999996,
          0.38999999999999996,
          0.38999999999999996,
          0.38999999999999996,
          0.38999999999999996,
          0.38999999999999996,
          0.93,
          0.38999999999999996,
          0.93,
          0.38999999999999996,
          0.8600000000000001,
          0.38999999999999996,
          0.82,
          0.38999999999999996,
          0.79,
          0.38999999999999996,
          0.93,
          0.93,
          0.8099999999999999,
          0.38999999999999996,
          0.38999999999999996,
          0.9400000000000001,
          0.38999999999999996,
          0.38999999999999996,
          0.38999999999999996,
          0.38999999999999996,
          0.38999999999999996,
          0.38999999999999996,
          0.38999999999999996,
          0.9099999999999999,
          0.38999999999999996,
          0.9099999999999999,
          0.9199999999999999,
          0.93,
          0.38999999999999996,
          0.38999999999999996,
          0.38999999999999996,
          0.38999999999999996,
          0.38999999999999996,
          0.38999999999999996,
          0.38999999999999996,
          0.38999999999999996,
          0.8400000000000001,
          0.38999999999999996,
          0.38999999999999996,
          0.38999999999999996,
          0.9199999999999999,
          0.38999999999999996,
          0.71,
          0.7699999999999999,
          0.38999999999999996,
          0.79,
          0.38999999999999996,
          0.38999999999999996,
          0.38999999999999996,
          0.9,
          0.51,
          0.38999999999999996,
          0.93,
          0.5900000000000001,
          0.38999999999999996,
          0.38999999999999996,
          0.9400000000000001,
          0.38999999999999996,
          0.38999999999999996,
          0.93,
          0.38999999999999996,
          0.9199999999999999,
          0.38999999999999996,
          0.38999999999999996,
          0.9
         ],
         "yaxis": "y"
        },
        {
         "line": {
          "color": "blue"
         },
         "mode": "lines",
         "name": "Train Scores",
         "showlegend": false,
         "type": "scatter",
         "x": [
          1,
          2,
          3,
          4,
          5,
          6,
          7,
          8,
          9,
          10,
          11,
          12,
          13,
          14,
          15,
          16,
          17,
          18,
          19,
          20,
          21,
          22,
          23,
          24,
          25,
          26,
          27,
          28,
          29,
          30,
          31,
          32,
          33,
          34,
          35,
          36,
          37,
          38,
          39,
          40,
          41,
          42,
          43,
          44,
          45,
          46,
          47,
          48,
          49,
          50,
          51,
          52,
          53,
          54,
          55,
          56,
          57,
          58,
          59,
          60,
          61,
          62,
          63,
          64,
          65,
          66,
          67,
          68,
          69,
          70,
          71,
          72,
          73,
          74,
          75,
          76,
          77,
          78,
          79,
          80,
          81,
          82,
          83,
          84,
          85,
          86,
          87,
          88,
          89,
          90,
          91,
          92,
          93,
          94,
          95,
          96,
          97,
          98,
          99,
          100,
          101,
          102,
          103,
          104,
          105,
          106,
          107,
          108,
          109,
          110,
          111,
          112,
          113,
          114,
          115,
          116,
          117,
          118,
          119,
          120,
          121,
          122,
          123,
          124,
          125,
          126,
          127,
          128,
          129,
          130,
          131,
          132,
          133,
          134,
          135,
          136,
          137,
          138,
          139,
          140,
          141,
          142,
          143,
          144,
          145,
          146,
          147,
          148,
          149,
          150
         ],
         "xaxis": "x2",
         "y": [
          0.5033791031967388,
          0.5033791031967388,
          0.5025352213401988,
          0.5033791031967388,
          0.5033791031967388,
          0.5033791031967388,
          0.5025352213401988,
          0.5033791031967388,
          0.7618250733032969,
          0.5025352213401988,
          0.7508438818565402,
          0.5033791031967388,
          0.5033791031967388,
          0.5033791031967388,
          0.5025352213401988,
          0.5033791031967388,
          0.5025352213401988,
          0.7736501466065937,
          0.5033791031967388,
          0.5016913394836587,
          0.7466173210326825,
          0.7584352427948223,
          0.5033791031967388,
          0.5016841879425016,
          0.5033791031967388,
          0.5016913394836587,
          0.5033791031967388,
          0.7255166988486019,
          0.5033791031967388,
          0.7567617821640564,
          0.5025352213401988,
          0.7077701494672102,
          0.7187477651433885,
          0.5033791031967388,
          0.5033791031967388,
          0.7652041765000357,
          0.761825073303297,
          0.5033791031967388,
          0.7542301365944362,
          0.5033791031967388,
          0.5033791031967388,
          0.5033791031967388,
          0.5025352213401988,
          0.5033791031967388,
          0.5033791031967388,
          0.7618214975327182,
          0.7499964242294215,
          0.6368268611885861,
          0.5033791031967388,
          0.5033791031967388,
          0.7643567188729171,
          0.5033791031967388,
          0.5033791031967388,
          0.7170600014303082,
          0.49999642422942153,
          0.5033791031967388,
          0.5008474576271187,
          0.5025352213401988,
          0.5033791031967388,
          0.7550632911392405,
          0.7660480583565759,
          0.49915969391403847,
          0.7390223843238217,
          0.7516806121719231,
          0.5033791031967388,
          0.5008474576271187,
          0.5033791031967388,
          0.7406994207251663,
          0.5025352213401988,
          0.5025352213401988,
          0.5033791031967388,
          0.745777014946721,
          0.5025352213401988,
          0.5033791031967388,
          0.5025352213401988,
          0.5025352213401988,
          0.5033791031967388,
          0.5025352213401988,
          0.5033791031967388,
          0.5033791031967388,
          0.5008474576271187,
          0.5016913394836587,
          0.5025352213401988,
          0.5033791031967388,
          0.5033791031967388,
          0.7567510548523206,
          0.5033791031967388,
          0.7550668669098191,
          0.5025352213401988,
          0.7322713294715012,
          0.5033791031967388,
          0.7094543374097118,
          0.5033791031967388,
          0.7364835872130444,
          0.5033791031967388,
          0.767735822069656,
          0.7609811914467567,
          0.73562540227419,
          0.5025352213401988,
          0.5025352213401988,
          0.7584316670242437,
          0.5025352213401988,
          0.5025352213401988,
          0.5025352213401988,
          0.5016913394836587,
          0.5033791031967388,
          0.5033791031967388,
          0.5025352213401988,
          0.7584388185654009,
          0.5033791031967388,
          0.7508367303153831,
          0.757602088250018,
          0.7694307373238932,
          0.5033791031967388,
          0.5033791031967388,
          0.5033791031967388,
          0.5008403060859615,
          0.5033791031967388,
          0.5033791031967388,
          0.5033791031967388,
          0.5033791031967388,
          0.7297146535078308,
          0.5008403060859615,
          0.5033791031967388,
          0.5033791031967388,
          0.7685761281556175,
          0.5303833226060216,
          0.7314059929914896,
          0.7508438818565402,
          0.5033791031967388,
          0.7440856754630623,
          0.5033791031967388,
          0.5033791031967388,
          0.5033791031967388,
          0.753379103196739,
          0.7128477436887649,
          0.5033791031967388,
          0.7651934491883001,
          0.7162053922620325,
          0.5033791031967388,
          0.5033791031967388,
          0.7550632911392405,
          0.5008403060859615,
          0.5025352213401988,
          0.7559035972252021,
          0.5033791031967388,
          0.7474612028892226,
          0.5033791031967388,
          0.5025352213401988,
          0.7432382178359437
         ],
         "yaxis": "y2"
        },
        {
         "line": {
          "color": "red"
         },
         "mode": "lines",
         "name": "Test Scores",
         "showlegend": false,
         "type": "scatter",
         "x": [
          1,
          2,
          3,
          4,
          5,
          6,
          7,
          8,
          9,
          10,
          11,
          12,
          13,
          14,
          15,
          16,
          17,
          18,
          19,
          20,
          21,
          22,
          23,
          24,
          25,
          26,
          27,
          28,
          29,
          30,
          31,
          32,
          33,
          34,
          35,
          36,
          37,
          38,
          39,
          40,
          41,
          42,
          43,
          44,
          45,
          46,
          47,
          48,
          49,
          50,
          51,
          52,
          53,
          54,
          55,
          56,
          57,
          58,
          59,
          60,
          61,
          62,
          63,
          64,
          65,
          66,
          67,
          68,
          69,
          70,
          71,
          72,
          73,
          74,
          75,
          76,
          77,
          78,
          79,
          80,
          81,
          82,
          83,
          84,
          85,
          86,
          87,
          88,
          89,
          90,
          91,
          92,
          93,
          94,
          95,
          96,
          97,
          98,
          99,
          100,
          101,
          102,
          103,
          104,
          105,
          106,
          107,
          108,
          109,
          110,
          111,
          112,
          113,
          114,
          115,
          116,
          117,
          118,
          119,
          120,
          121,
          122,
          123,
          124,
          125,
          126,
          127,
          128,
          129,
          130,
          131,
          132,
          133,
          134,
          135,
          136,
          137,
          138,
          139,
          140,
          141,
          142,
          143,
          144,
          145,
          146,
          147,
          148,
          149,
          150
         ],
         "xaxis": "x2",
         "y": [
          0.5033898305084745,
          0.5033898305084745,
          0.5,
          0.5033898305084745,
          0.5033898305084745,
          0.5033898305084745,
          0.5,
          0.5033898305084745,
          0.7094915254237287,
          0.5,
          0.7196045197740114,
          0.5033898305084745,
          0.5033898305084745,
          0.5033898305084745,
          0.5,
          0.5033898305084745,
          0.5,
          0.7128813559322034,
          0.5033898305084745,
          0.4966101694915254,
          0.7127683615819208,
          0.7262711864406779,
          0.5033898305084745,
          0.5033898305084745,
          0.5033898305084745,
          0.4966101694915254,
          0.5033898305084745,
          0.6756497175141243,
          0.5033898305084745,
          0.716271186440678,
          0.5,
          0.706045197740113,
          0.706045197740113,
          0.5033898305084745,
          0.5033898305084745,
          0.7263841807909605,
          0.7263276836158192,
          0.5033898305084745,
          0.7195480225988701,
          0.5033898305084745,
          0.5033898305084745,
          0.5033898305084745,
          0.5,
          0.5033898305084745,
          0.5033898305084745,
          0.6993785310734463,
          0.716271186440678,
          0.6015819209039548,
          0.5033898305084745,
          0.5033898305084745,
          0.712824858757062,
          0.5033898305084745,
          0.5033898305084745,
          0.6993785310734463,
          0.4966101694915254,
          0.5033898305084745,
          0.49322033898305084,
          0.5,
          0.5033898305084745,
          0.7028248587570621,
          0.7297175141242938,
          0.5,
          0.6859322033898305,
          0.682542372881356,
          0.5033898305084745,
          0.49322033898305084,
          0.5033898305084745,
          0.7061016949152542,
          0.5,
          0.5,
          0.5033898305084745,
          0.7162711864406779,
          0.5,
          0.5033898305084745,
          0.5,
          0.5,
          0.5033898305084745,
          0.5,
          0.5033898305084745,
          0.5033898305084745,
          0.49322033898305084,
          0.4966101694915254,
          0.5,
          0.5033898305084745,
          0.5033898305084745,
          0.712824858757062,
          0.5033898305084745,
          0.7229378531073446,
          0.5,
          0.6959887005649718,
          0.5033898305084745,
          0.7026553672316384,
          0.5033898305084745,
          0.7162146892655367,
          0.5033898305084745,
          0.7229943502824858,
          0.712824858757062,
          0.7161581920903954,
          0.5,
          0.5,
          0.6859887005649716,
          0.5,
          0.5,
          0.5,
          0.4966101694915254,
          0.5033898305084745,
          0.5033898305084745,
          0.5,
          0.6994915254237288,
          0.5033898305084745,
          0.6927683615819209,
          0.7027118644067796,
          0.7161581920903954,
          0.5033898305084745,
          0.5033898305084745,
          0.5033898305084745,
          0.5,
          0.5033898305084745,
          0.5033898305084745,
          0.5033898305084745,
          0.5033898305084745,
          0.7094350282485875,
          0.5,
          0.5033898305084745,
          0.5033898305084745,
          0.70954802259887,
          0.5271186440677966,
          0.7229378531073445,
          0.7027683615819209,
          0.5033898305084745,
          0.6926553672316385,
          0.5033898305084745,
          0.5033898305084745,
          0.5033898305084745,
          0.7163276836158191,
          0.7062146892655367,
          0.5033898305084745,
          0.7061016949152542,
          0.6993785310734463,
          0.5033898305084745,
          0.5033898305084745,
          0.7028248587570621,
          0.5,
          0.5,
          0.6927118644067797,
          0.5033898305084745,
          0.6927683615819209,
          0.5033898305084745,
          0.5,
          0.675819209039548
         ],
         "yaxis": "y2"
        },
        {
         "line": {
          "color": "blue"
         },
         "mode": "lines",
         "name": "Train Scores",
         "showlegend": false,
         "type": "scatter",
         "x": [
          1,
          2,
          3,
          4,
          5,
          6,
          7,
          8,
          9,
          10,
          11,
          12,
          13,
          14,
          15,
          16,
          17,
          18,
          19,
          20,
          21,
          22,
          23,
          24,
          25,
          26,
          27,
          28,
          29,
          30,
          31,
          32,
          33,
          34,
          35,
          36,
          37,
          38,
          39,
          40,
          41,
          42,
          43,
          44,
          45,
          46,
          47,
          48,
          49,
          50,
          51,
          52,
          53,
          54,
          55,
          56,
          57,
          58,
          59,
          60,
          61,
          62,
          63,
          64,
          65,
          66,
          67,
          68,
          69,
          70,
          71,
          72,
          73,
          74,
          75,
          76,
          77,
          78,
          79,
          80,
          81,
          82,
          83,
          84,
          85,
          86,
          87,
          88,
          89,
          90,
          91,
          92,
          93,
          94,
          95,
          96,
          97,
          98,
          99,
          100,
          101,
          102,
          103,
          104,
          105,
          106,
          107,
          108,
          109,
          110,
          111,
          112,
          113,
          114,
          115,
          116,
          117,
          118,
          119,
          120,
          121,
          122,
          123,
          124,
          125,
          126,
          127,
          128,
          129,
          130,
          131,
          132,
          133,
          134,
          135,
          136,
          137,
          138,
          139,
          140,
          141,
          142,
          143,
          144,
          145,
          146,
          147,
          148,
          149,
          150
         ],
         "xaxis": "x3",
         "y": [
          0.4201754385964912,
          0.4201754385964912,
          0.4201754385964912,
          0.4201754385964912,
          0.4201754385964912,
          0.4201754385964912,
          0.4201754385964912,
          0.4201754385964912,
          0.9306359649122807,
          0.4201754385964912,
          0.8360964912280702,
          0.4201754385964912,
          0.4201754385964912,
          0.4201754385964912,
          0.4201754385964912,
          0.4201754385964912,
          0.4201754385964912,
          0.9873684210526317,
          0.4201754385964912,
          0.4201754385964912,
          0.991578947368421,
          0.9810526315789474,
          0.4201754385964912,
          0.4201754385964912,
          0.4201754385964912,
          0.4201754385964912,
          0.4201754385964912,
          0.7710307017543859,
          0.4201754385964912,
          0.8004166666666667,
          0.4201754385964912,
          0.7625657894736841,
          0.8193201754385966,
          0.4201754385964912,
          0.4201754385964912,
          0.9285307017543859,
          0.8969736842105263,
          0.4201754385964912,
          0.991578947368421,
          0.4201754385964912,
          0.4201754385964912,
          0.4201754385964912,
          0.4201754385964912,
          0.4201754385964912,
          0.4201754385964912,
          0.9768640350877191,
          0.806688596491228,
          0.5605263157894737,
          0.4201754385964912,
          0.4201754385964912,
          0.983157894736842,
          0.4201754385964912,
          0.4201754385964912,
          0.7962280701754385,
          0.4075438596491228,
          0.4201754385964912,
          0.4201754385964912,
          0.4201754385964912,
          0.4201754385964912,
          0.8675,
          0.8822368421052632,
          0.4201754385964912,
          0.773048245614035,
          0.8423245614035088,
          0.4201754385964912,
          0.4201754385964912,
          0.4201754385964912,
          0.7962938596491228,
          0.4201754385964912,
          0.4201754385964912,
          0.4201754385964912,
          0.8192763157894737,
          0.4201754385964912,
          0.4201754385964912,
          0.4201754385964912,
          0.4201754385964912,
          0.4201754385964912,
          0.4201754385964912,
          0.4201754385964912,
          0.4201754385964912,
          0.4201754385964912,
          0.4201754385964912,
          0.4201754385964912,
          0.4201754385964912,
          0.4201754385964912,
          0.976842105263158,
          0.4201754385964912,
          0.9852631578947368,
          0.4201754385964912,
          0.7752192982456141,
          0.4201754385964912,
          0.7583771929824562,
          0.4201754385964912,
          0.7941228070175439,
          0.4201754385964912,
          0.890657894736842,
          0.9663377192982455,
          0.7646929824561404,
          0.4201754385964912,
          0.4201754385964912,
          0.8717543859649123,
          0.4201754385964912,
          0.4201754385964912,
          0.4201754385964912,
          0.4201754385964912,
          0.4201754385964912,
          0.4201754385964912,
          0.4201754385964912,
          0.8633552631578947,
          0.4201754385964912,
          0.8046491228070176,
          0.9852631578947368,
          0.9894736842105264,
          0.4201754385964912,
          0.4201754385964912,
          0.4201754385964912,
          0.4201754385964912,
          0.4201754385964912,
          0.4201754385964912,
          0.4201754385964912,
          0.4201754385964912,
          0.8003947368421052,
          0.4201754385964912,
          0.4201754385964912,
          0.4201754385964912,
          0.9852631578947368,
          0.4201754385964912,
          0.7626096491228069,
          0.8108991228070176,
          0.4201754385964912,
          0.8025877192982456,
          0.4201754385964912,
          0.4201754385964912,
          0.4201754385964912,
          0.8402631578947368,
          0.6952412280701754,
          0.4201754385964912,
          0.8465789473684211,
          0.7057675438596491,
          0.4201754385964912,
          0.4201754385964912,
          0.8864473684210527,
          0.4201754385964912,
          0.4201754385964912,
          0.8675657894736842,
          0.4201754385964912,
          0.9579166666666665,
          0.4201754385964912,
          0.4201754385964912,
          0.7983114035087719
         ],
         "yaxis": "y3"
        },
        {
         "line": {
          "color": "red"
         },
         "mode": "lines",
         "name": "Test Scores",
         "showlegend": false,
         "type": "scatter",
         "x": [
          1,
          2,
          3,
          4,
          5,
          6,
          7,
          8,
          9,
          10,
          11,
          12,
          13,
          14,
          15,
          16,
          17,
          18,
          19,
          20,
          21,
          22,
          23,
          24,
          25,
          26,
          27,
          28,
          29,
          30,
          31,
          32,
          33,
          34,
          35,
          36,
          37,
          38,
          39,
          40,
          41,
          42,
          43,
          44,
          45,
          46,
          47,
          48,
          49,
          50,
          51,
          52,
          53,
          54,
          55,
          56,
          57,
          58,
          59,
          60,
          61,
          62,
          63,
          64,
          65,
          66,
          67,
          68,
          69,
          70,
          71,
          72,
          73,
          74,
          75,
          76,
          77,
          78,
          79,
          80,
          81,
          82,
          83,
          84,
          85,
          86,
          87,
          88,
          89,
          90,
          91,
          92,
          93,
          94,
          95,
          96,
          97,
          98,
          99,
          100,
          101,
          102,
          103,
          104,
          105,
          106,
          107,
          108,
          109,
          110,
          111,
          112,
          113,
          114,
          115,
          116,
          117,
          118,
          119,
          120,
          121,
          122,
          123,
          124,
          125,
          126,
          127,
          128,
          129,
          130,
          131,
          132,
          133,
          134,
          135,
          136,
          137,
          138,
          139,
          140,
          141,
          142,
          143,
          144,
          145,
          146,
          147,
          148,
          149,
          150
         ],
         "xaxis": "x3",
         "y": [
          0.42028985507246375,
          0.42028985507246375,
          0.42028985507246375,
          0.42028985507246375,
          0.42028985507246375,
          0.42028985507246375,
          0.42028985507246375,
          0.42028985507246375,
          0.8898550724637682,
          0.42028985507246375,
          0.8061594202898551,
          0.42028985507246375,
          0.42028985507246375,
          0.42028985507246375,
          0.42028985507246375,
          0.42028985507246375,
          0.42028985507246375,
          0.923913043478261,
          0.42028985507246375,
          0.42028985507246375,
          0.9572463768115943,
          0.9572463768115943,
          0.42028985507246375,
          0.42028985507246375,
          0.42028985507246375,
          0.42028985507246375,
          0.42028985507246375,
          0.7221014492753624,
          0.42028985507246375,
          0.7641304347826088,
          0.42028985507246375,
          0.7307971014492753,
          0.7902173913043479,
          0.42028985507246375,
          0.42028985507246375,
          0.8565217391304347,
          0.8565217391304347,
          0.42028985507246375,
          0.9659420289855072,
          0.42028985507246375,
          0.42028985507246375,
          0.42028985507246375,
          0.42028985507246375,
          0.42028985507246375,
          0.42028985507246375,
          0.9155797101449276,
          0.747463768115942,
          0.5648550724637682,
          0.42028985507246375,
          0.42028985507246375,
          0.923913043478261,
          0.42028985507246375,
          0.42028985507246375,
          0.7731884057971014,
          0.41195652173913044,
          0.42028985507246375,
          0.42028985507246375,
          0.42028985507246375,
          0.42028985507246375,
          0.8315217391304348,
          0.8315217391304348,
          0.42028985507246375,
          0.713768115942029,
          0.7894927536231883,
          0.42028985507246375,
          0.42028985507246375,
          0.42028985507246375,
          0.730072463768116,
          0.42028985507246375,
          0.42028985507246375,
          0.42028985507246375,
          0.7891304347826087,
          0.42028985507246375,
          0.42028985507246375,
          0.42028985507246375,
          0.42028985507246375,
          0.42028985507246375,
          0.42028985507246375,
          0.42028985507246375,
          0.42028985507246375,
          0.42028985507246375,
          0.42028985507246375,
          0.42028985507246375,
          0.42028985507246375,
          0.42028985507246375,
          0.9239130434782608,
          0.42028985507246375,
          0.9489130434782609,
          0.42028985507246375,
          0.747463768115942,
          0.42028985507246375,
          0.747463768115942,
          0.42028985507246375,
          0.7391304347826086,
          0.42028985507246375,
          0.8565217391304347,
          0.923913043478261,
          0.747463768115942,
          0.42028985507246375,
          0.42028985507246375,
          0.8061594202898551,
          0.42028985507246375,
          0.42028985507246375,
          0.42028985507246375,
          0.42028985507246375,
          0.42028985507246375,
          0.42028985507246375,
          0.42028985507246375,
          0.8061594202898551,
          0.42028985507246375,
          0.7554347826086957,
          0.9405797101449276,
          0.9572463768115943,
          0.42028985507246375,
          0.42028985507246375,
          0.42028985507246375,
          0.42028985507246375,
          0.42028985507246375,
          0.42028985507246375,
          0.42028985507246375,
          0.42028985507246375,
          0.7728260869565219,
          0.42028985507246375,
          0.42028985507246375,
          0.42028985507246375,
          0.923913043478261,
          0.42028985507246375,
          0.722463768115942,
          0.7217391304347827,
          0.42028985507246375,
          0.7471014492753623,
          0.42028985507246375,
          0.42028985507246375,
          0.42028985507246375,
          0.7894927536231883,
          0.6811594202898551,
          0.42028985507246375,
          0.8311594202898551,
          0.6807971014492754,
          0.42028985507246375,
          0.42028985507246375,
          0.8231884057971014,
          0.42028985507246375,
          0.42028985507246375,
          0.8061594202898551,
          0.42028985507246375,
          0.9068840579710145,
          0.42028985507246375,
          0.42028985507246375,
          0.7471014492753623
         ],
         "yaxis": "y3"
        },
        {
         "line": {
          "color": "blue"
         },
         "mode": "lines",
         "name": "Train Scores",
         "showlegend": false,
         "type": "scatter",
         "x": [
          1,
          2,
          3,
          4,
          5,
          6,
          7,
          8,
          9,
          10,
          11,
          12,
          13,
          14,
          15,
          16,
          17,
          18,
          19,
          20,
          21,
          22,
          23,
          24,
          25,
          26,
          27,
          28,
          29,
          30,
          31,
          32,
          33,
          34,
          35,
          36,
          37,
          38,
          39,
          40,
          41,
          42,
          43,
          44,
          45,
          46,
          47,
          48,
          49,
          50,
          51,
          52,
          53,
          54,
          55,
          56,
          57,
          58,
          59,
          60,
          61,
          62,
          63,
          64,
          65,
          66,
          67,
          68,
          69,
          70,
          71,
          72,
          73,
          74,
          75,
          76,
          77,
          78,
          79,
          80,
          81,
          82,
          83,
          84,
          85,
          86,
          87,
          88,
          89,
          90,
          91,
          92,
          93,
          94,
          95,
          96,
          97,
          98,
          99,
          100,
          101,
          102,
          103,
          104,
          105,
          106,
          107,
          108,
          109,
          110,
          111,
          112,
          113,
          114,
          115,
          116,
          117,
          118,
          119,
          120,
          121,
          122,
          123,
          124,
          125,
          126,
          127,
          128,
          129,
          130,
          131,
          132,
          133,
          134,
          135,
          136,
          137,
          138,
          139,
          140,
          141,
          142,
          143,
          144,
          145,
          146,
          147,
          148,
          149,
          150
         ],
         "xaxis": "x4",
         "y": [
          0.6404206212251942,
          0.6404206212251942,
          0.6404206212251942,
          0.6404206212251942,
          0.6404206212251942,
          0.6404206212251942,
          0.6404206212251942,
          0.6404206212251942,
          0.931100086281277,
          0.6404206212251942,
          0.9251984469370147,
          0.6404206212251942,
          0.6404206212251942,
          0.6404206212251942,
          0.6404206212251942,
          0.6404206212251942,
          0.6404206212251942,
          0.9363503019844694,
          0.6404206212251942,
          0.6404206212251942,
          0.9343874029335634,
          0.931100086281277,
          0.6404206212251942,
          0.6404206212251942,
          0.6404206212251942,
          0.6404206212251942,
          0.6404206212251942,
          0.9015811044003451,
          0.6404206212251942,
          0.9284792924935289,
          0.6404206212251942,
          0.9002717860224332,
          0.9107679033649699,
          0.6404206212251942,
          0.6404206212251942,
          0.9324158757549611,
          0.933069456427955,
          0.6404206212251942,
          0.931102243313201,
          0.6404206212251942,
          0.6404206212251942,
          0.6404206212251942,
          0.6404206212251942,
          0.6404206212251942,
          0.6404206212251942,
          0.9343830888697152,
          0.9120750647109578,
          0.6404206212251942,
          0.6404206212251942,
          0.6404206212251942,
          0.9324137187230372,
          0.6404206212251942,
          0.6404206212251942,
          0.9160181190681621,
          0.6404206212251942,
          0.6404206212251942,
          0.6404206212251942,
          0.6404206212251942,
          0.6404206212251942,
          0.9245362381363245,
          0.9343830888697152,
          0.6404206212251942,
          0.9219197584124246,
          0.9291328731665229,
          0.6404206212251942,
          0.6404206212251942,
          0.6404206212251942,
          0.8963244176013804,
          0.6404206212251942,
          0.6404206212251942,
          0.6404206212251942,
          0.916667385677308,
          0.6404206212251942,
          0.6404206212251942,
          0.6404206212251942,
          0.6404206212251942,
          0.6404206212251942,
          0.6404206212251942,
          0.6404206212251942,
          0.6404206212251942,
          0.6404206212251942,
          0.6404206212251942,
          0.6404206212251942,
          0.6404206212251942,
          0.6404206212251942,
          0.9330716134598791,
          0.6404206212251942,
          0.931100086281277,
          0.6404206212251942,
          0.9035461604831753,
          0.6404206212251942,
          0.9127372735116479,
          0.6404206212251942,
          0.898953839516825,
          0.6404206212251942,
          0.9343830888697152,
          0.930442191544435,
          0.9002674719585849,
          0.6404206212251942,
          0.6404206212251942,
          0.933065142364107,
          0.6404206212251942,
          0.6404206212251942,
          0.6404206212251942,
          0.6404206212251942,
          0.6404206212251942,
          0.6404206212251942,
          0.6404206212251942,
          0.9330716134598791,
          0.6404206212251942,
          0.9225754961173426,
          0.9337251941328732,
          0.9317579810181191,
          0.6404206212251942,
          0.6404206212251942,
          0.6404206212251942,
          0.6404206212251942,
          0.6404206212251942,
          0.6404206212251942,
          0.6404206212251942,
          0.6404206212251942,
          0.9094499568593616,
          0.6404206212251942,
          0.6404206212251942,
          0.6404206212251942,
          0.9350409836065573,
          0.6404206212251942,
          0.8910849870578085,
          0.9127372735116481,
          0.6404206212251942,
          0.9133822260569456,
          0.6404206212251942,
          0.6404206212251942,
          0.6404206212251942,
          0.9265120793787748,
          0.6404206212251942,
          0.6404206212251942,
          0.9271613459879207,
          0.6404206212251942,
          0.6404206212251942,
          0.6404206212251942,
          0.9343766177739431,
          0.6404206212251942,
          0.6404206212251942,
          0.9350345125107852,
          0.6404206212251942,
          0.9324158757549611,
          0.6404206212251942,
          0.6404206212251942,
          0.9225754961173426
         ],
         "yaxis": "y4"
        },
        {
         "line": {
          "color": "red"
         },
         "mode": "lines",
         "name": "Test Scores",
         "showlegend": false,
         "type": "scatter",
         "x": [
          1,
          2,
          3,
          4,
          5,
          6,
          7,
          8,
          9,
          10,
          11,
          12,
          13,
          14,
          15,
          16,
          17,
          18,
          19,
          20,
          21,
          22,
          23,
          24,
          25,
          26,
          27,
          28,
          29,
          30,
          31,
          32,
          33,
          34,
          35,
          36,
          37,
          38,
          39,
          40,
          41,
          42,
          43,
          44,
          45,
          46,
          47,
          48,
          49,
          50,
          51,
          52,
          53,
          54,
          55,
          56,
          57,
          58,
          59,
          60,
          61,
          62,
          63,
          64,
          65,
          66,
          67,
          68,
          69,
          70,
          71,
          72,
          73,
          74,
          75,
          76,
          77,
          78,
          79,
          80,
          81,
          82,
          83,
          84,
          85,
          86,
          87,
          88,
          89,
          90,
          91,
          92,
          93,
          94,
          95,
          96,
          97,
          98,
          99,
          100,
          101,
          102,
          103,
          104,
          105,
          106,
          107,
          108,
          109,
          110,
          111,
          112,
          113,
          114,
          115,
          116,
          117,
          118,
          119,
          120,
          121,
          122,
          123,
          124,
          125,
          126,
          127,
          128,
          129,
          130,
          131,
          132,
          133,
          134,
          135,
          136,
          137,
          138,
          139,
          140,
          141,
          142,
          143,
          144,
          145,
          146,
          147,
          148,
          149,
          150
         ],
         "xaxis": "x4",
         "y": [
          0.6404306220095695,
          0.6404306220095695,
          0.6404306220095695,
          0.6404306220095695,
          0.6404306220095695,
          0.6404306220095695,
          0.6404306220095695,
          0.6404306220095695,
          0.9159945317840055,
          0.6404306220095695,
          0.9160287081339714,
          0.6404306220095695,
          0.6404306220095695,
          0.6404306220095695,
          0.6404306220095695,
          0.6404306220095695,
          0.6404306220095695,
          0.9159945317840055,
          0.6404306220095695,
          0.6404306220095695,
          0.9185577580314422,
          0.9159261790840738,
          0.6404306220095695,
          0.6404306220095695,
          0.6404306220095695,
          0.6404306220095695,
          0.6404306220095695,
          0.8898154477101846,
          0.6404306220095695,
          0.9107313738892687,
          0.6404306220095695,
          0.9003417634996582,
          0.8976418318523581,
          0.6404306220095695,
          0.6404306220095695,
          0.9133287764866711,
          0.9133287764866711,
          0.6404306220095695,
          0.9159261790840738,
          0.6404306220095695,
          0.6404306220095695,
          0.6404306220095695,
          0.6404306220095695,
          0.6404306220095695,
          0.6404306220095695,
          0.9212576896787423,
          0.8977101845522899,
          0.6404306220095695,
          0.6404306220095695,
          0.6404306220095695,
          0.9238550922761449,
          0.6404306220095695,
          0.6404306220095695,
          0.8976076555023923,
          0.6404306220095695,
          0.6404306220095695,
          0.6404306220095695,
          0.6404306220095695,
          0.6404306220095695,
          0.9028024606971975,
          0.9159603554340396,
          0.6404306220095695,
          0.9055023923444976,
          0.9054682159945318,
          0.6404306220095695,
          0.6404306220095695,
          0.6404306220095695,
          0.8845522898154478,
          0.6404306220095695,
          0.6404306220095695,
          0.6404306220095695,
          0.9055365686944634,
          0.6404306220095695,
          0.6404306220095695,
          0.6404306220095695,
          0.6404306220095695,
          0.6404306220095695,
          0.6404306220095695,
          0.6404306220095695,
          0.6404306220095695,
          0.6404306220095695,
          0.6404306220095695,
          0.6404306220095695,
          0.6404306220095695,
          0.6404306220095695,
          0.9107313738892687,
          0.6404306220095695,
          0.9185577580314422,
          0.6404306220095695,
          0.9055707450444291,
          0.6404306220095695,
          0.9055365686944634,
          0.6404306220095695,
          0.8898154477101846,
          0.6404306220095695,
          0.9133287764866711,
          0.9159603554340396,
          0.8924470266575529,
          0.6404306220095695,
          0.6404306220095695,
          0.905434039644566,
          0.6404306220095695,
          0.6404306220095695,
          0.6404306220095695,
          0.6404306220095695,
          0.6404306220095695,
          0.6404306220095695,
          0.6404306220095695,
          0.9106971975393028,
          0.6404306220095695,
          0.9002392344497607,
          0.9159603554340396,
          0.9185577580314422,
          0.6404306220095695,
          0.6404306220095695,
          0.6404306220095695,
          0.6404306220095695,
          0.6404306220095695,
          0.6404306220095695,
          0.6404306220095695,
          0.6404306220095695,
          0.9082023239917977,
          0.6404306220095695,
          0.6404306220095695,
          0.6404306220095695,
          0.9186261107313738,
          0.6404306220095695,
          0.8898154477101846,
          0.9029049897470951,
          0.6404306220095695,
          0.9134996582365004,
          0.6404306220095695,
          0.6404306220095695,
          0.6404306220095695,
          0.9107313738892685,
          0.6404306220095695,
          0.6404306220095695,
          0.9107655502392344,
          0.6404306220095695,
          0.6404306220095695,
          0.6404306220095695,
          0.905434039644566,
          0.6404306220095695,
          0.6404306220095695,
          0.9080656185919344,
          0.6404306220095695,
          0.9080656185919344,
          0.6404306220095695,
          0.6404306220095695,
          0.9055023923444976
         ],
         "yaxis": "y4"
        }
       ],
       "layout": {
        "annotations": [
         {
          "font": {
           "size": 16
          },
          "showarrow": false,
          "text": "Dataset: iris",
          "x": 0.225,
          "xanchor": "center",
          "xref": "paper",
          "y": 1,
          "yanchor": "bottom",
          "yref": "paper"
         },
         {
          "font": {
           "size": 16
          },
          "showarrow": false,
          "text": "Dataset: diabetes",
          "x": 0.775,
          "xanchor": "center",
          "xref": "paper",
          "y": 1,
          "yanchor": "bottom",
          "yref": "paper"
         },
         {
          "font": {
           "size": 16
          },
          "showarrow": false,
          "text": "Dataset: wine",
          "x": 0.225,
          "xanchor": "center",
          "xref": "paper",
          "y": 0.375,
          "yanchor": "bottom",
          "yref": "paper"
         },
         {
          "font": {
           "size": 16
          },
          "showarrow": false,
          "text": "Dataset: breast",
          "x": 0.775,
          "xanchor": "center",
          "xref": "paper",
          "y": 0.375,
          "yanchor": "bottom",
          "yref": "paper"
         }
        ],
        "template": {
         "data": {
          "bar": [
           {
            "error_x": {
             "color": "#2a3f5f"
            },
            "error_y": {
             "color": "#2a3f5f"
            },
            "marker": {
             "line": {
              "color": "#E5ECF6",
              "width": 0.5
             },
             "pattern": {
              "fillmode": "overlay",
              "size": 10,
              "solidity": 0.2
             }
            },
            "type": "bar"
           }
          ],
          "barpolar": [
           {
            "marker": {
             "line": {
              "color": "#E5ECF6",
              "width": 0.5
             },
             "pattern": {
              "fillmode": "overlay",
              "size": 10,
              "solidity": 0.2
             }
            },
            "type": "barpolar"
           }
          ],
          "carpet": [
           {
            "aaxis": {
             "endlinecolor": "#2a3f5f",
             "gridcolor": "white",
             "linecolor": "white",
             "minorgridcolor": "white",
             "startlinecolor": "#2a3f5f"
            },
            "baxis": {
             "endlinecolor": "#2a3f5f",
             "gridcolor": "white",
             "linecolor": "white",
             "minorgridcolor": "white",
             "startlinecolor": "#2a3f5f"
            },
            "type": "carpet"
           }
          ],
          "choropleth": [
           {
            "colorbar": {
             "outlinewidth": 0,
             "ticks": ""
            },
            "type": "choropleth"
           }
          ],
          "contour": [
           {
            "colorbar": {
             "outlinewidth": 0,
             "ticks": ""
            },
            "colorscale": [
             [
              0,
              "#0d0887"
             ],
             [
              0.1111111111111111,
              "#46039f"
             ],
             [
              0.2222222222222222,
              "#7201a8"
             ],
             [
              0.3333333333333333,
              "#9c179e"
             ],
             [
              0.4444444444444444,
              "#bd3786"
             ],
             [
              0.5555555555555556,
              "#d8576b"
             ],
             [
              0.6666666666666666,
              "#ed7953"
             ],
             [
              0.7777777777777778,
              "#fb9f3a"
             ],
             [
              0.8888888888888888,
              "#fdca26"
             ],
             [
              1,
              "#f0f921"
             ]
            ],
            "type": "contour"
           }
          ],
          "contourcarpet": [
           {
            "colorbar": {
             "outlinewidth": 0,
             "ticks": ""
            },
            "type": "contourcarpet"
           }
          ],
          "heatmap": [
           {
            "colorbar": {
             "outlinewidth": 0,
             "ticks": ""
            },
            "colorscale": [
             [
              0,
              "#0d0887"
             ],
             [
              0.1111111111111111,
              "#46039f"
             ],
             [
              0.2222222222222222,
              "#7201a8"
             ],
             [
              0.3333333333333333,
              "#9c179e"
             ],
             [
              0.4444444444444444,
              "#bd3786"
             ],
             [
              0.5555555555555556,
              "#d8576b"
             ],
             [
              0.6666666666666666,
              "#ed7953"
             ],
             [
              0.7777777777777778,
              "#fb9f3a"
             ],
             [
              0.8888888888888888,
              "#fdca26"
             ],
             [
              1,
              "#f0f921"
             ]
            ],
            "type": "heatmap"
           }
          ],
          "heatmapgl": [
           {
            "colorbar": {
             "outlinewidth": 0,
             "ticks": ""
            },
            "colorscale": [
             [
              0,
              "#0d0887"
             ],
             [
              0.1111111111111111,
              "#46039f"
             ],
             [
              0.2222222222222222,
              "#7201a8"
             ],
             [
              0.3333333333333333,
              "#9c179e"
             ],
             [
              0.4444444444444444,
              "#bd3786"
             ],
             [
              0.5555555555555556,
              "#d8576b"
             ],
             [
              0.6666666666666666,
              "#ed7953"
             ],
             [
              0.7777777777777778,
              "#fb9f3a"
             ],
             [
              0.8888888888888888,
              "#fdca26"
             ],
             [
              1,
              "#f0f921"
             ]
            ],
            "type": "heatmapgl"
           }
          ],
          "histogram": [
           {
            "marker": {
             "pattern": {
              "fillmode": "overlay",
              "size": 10,
              "solidity": 0.2
             }
            },
            "type": "histogram"
           }
          ],
          "histogram2d": [
           {
            "colorbar": {
             "outlinewidth": 0,
             "ticks": ""
            },
            "colorscale": [
             [
              0,
              "#0d0887"
             ],
             [
              0.1111111111111111,
              "#46039f"
             ],
             [
              0.2222222222222222,
              "#7201a8"
             ],
             [
              0.3333333333333333,
              "#9c179e"
             ],
             [
              0.4444444444444444,
              "#bd3786"
             ],
             [
              0.5555555555555556,
              "#d8576b"
             ],
             [
              0.6666666666666666,
              "#ed7953"
             ],
             [
              0.7777777777777778,
              "#fb9f3a"
             ],
             [
              0.8888888888888888,
              "#fdca26"
             ],
             [
              1,
              "#f0f921"
             ]
            ],
            "type": "histogram2d"
           }
          ],
          "histogram2dcontour": [
           {
            "colorbar": {
             "outlinewidth": 0,
             "ticks": ""
            },
            "colorscale": [
             [
              0,
              "#0d0887"
             ],
             [
              0.1111111111111111,
              "#46039f"
             ],
             [
              0.2222222222222222,
              "#7201a8"
             ],
             [
              0.3333333333333333,
              "#9c179e"
             ],
             [
              0.4444444444444444,
              "#bd3786"
             ],
             [
              0.5555555555555556,
              "#d8576b"
             ],
             [
              0.6666666666666666,
              "#ed7953"
             ],
             [
              0.7777777777777778,
              "#fb9f3a"
             ],
             [
              0.8888888888888888,
              "#fdca26"
             ],
             [
              1,
              "#f0f921"
             ]
            ],
            "type": "histogram2dcontour"
           }
          ],
          "mesh3d": [
           {
            "colorbar": {
             "outlinewidth": 0,
             "ticks": ""
            },
            "type": "mesh3d"
           }
          ],
          "parcoords": [
           {
            "line": {
             "colorbar": {
              "outlinewidth": 0,
              "ticks": ""
             }
            },
            "type": "parcoords"
           }
          ],
          "pie": [
           {
            "automargin": true,
            "type": "pie"
           }
          ],
          "scatter": [
           {
            "fillpattern": {
             "fillmode": "overlay",
             "size": 10,
             "solidity": 0.2
            },
            "type": "scatter"
           }
          ],
          "scatter3d": [
           {
            "line": {
             "colorbar": {
              "outlinewidth": 0,
              "ticks": ""
             }
            },
            "marker": {
             "colorbar": {
              "outlinewidth": 0,
              "ticks": ""
             }
            },
            "type": "scatter3d"
           }
          ],
          "scattercarpet": [
           {
            "marker": {
             "colorbar": {
              "outlinewidth": 0,
              "ticks": ""
             }
            },
            "type": "scattercarpet"
           }
          ],
          "scattergeo": [
           {
            "marker": {
             "colorbar": {
              "outlinewidth": 0,
              "ticks": ""
             }
            },
            "type": "scattergeo"
           }
          ],
          "scattergl": [
           {
            "marker": {
             "colorbar": {
              "outlinewidth": 0,
              "ticks": ""
             }
            },
            "type": "scattergl"
           }
          ],
          "scattermapbox": [
           {
            "marker": {
             "colorbar": {
              "outlinewidth": 0,
              "ticks": ""
             }
            },
            "type": "scattermapbox"
           }
          ],
          "scatterpolar": [
           {
            "marker": {
             "colorbar": {
              "outlinewidth": 0,
              "ticks": ""
             }
            },
            "type": "scatterpolar"
           }
          ],
          "scatterpolargl": [
           {
            "marker": {
             "colorbar": {
              "outlinewidth": 0,
              "ticks": ""
             }
            },
            "type": "scatterpolargl"
           }
          ],
          "scatterternary": [
           {
            "marker": {
             "colorbar": {
              "outlinewidth": 0,
              "ticks": ""
             }
            },
            "type": "scatterternary"
           }
          ],
          "surface": [
           {
            "colorbar": {
             "outlinewidth": 0,
             "ticks": ""
            },
            "colorscale": [
             [
              0,
              "#0d0887"
             ],
             [
              0.1111111111111111,
              "#46039f"
             ],
             [
              0.2222222222222222,
              "#7201a8"
             ],
             [
              0.3333333333333333,
              "#9c179e"
             ],
             [
              0.4444444444444444,
              "#bd3786"
             ],
             [
              0.5555555555555556,
              "#d8576b"
             ],
             [
              0.6666666666666666,
              "#ed7953"
             ],
             [
              0.7777777777777778,
              "#fb9f3a"
             ],
             [
              0.8888888888888888,
              "#fdca26"
             ],
             [
              1,
              "#f0f921"
             ]
            ],
            "type": "surface"
           }
          ],
          "table": [
           {
            "cells": {
             "fill": {
              "color": "#EBF0F8"
             },
             "line": {
              "color": "white"
             }
            },
            "header": {
             "fill": {
              "color": "#C8D4E3"
             },
             "line": {
              "color": "white"
             }
            },
            "type": "table"
           }
          ]
         },
         "layout": {
          "annotationdefaults": {
           "arrowcolor": "#2a3f5f",
           "arrowhead": 0,
           "arrowwidth": 1
          },
          "autotypenumbers": "strict",
          "coloraxis": {
           "colorbar": {
            "outlinewidth": 0,
            "ticks": ""
           }
          },
          "colorscale": {
           "diverging": [
            [
             0,
             "#8e0152"
            ],
            [
             0.1,
             "#c51b7d"
            ],
            [
             0.2,
             "#de77ae"
            ],
            [
             0.3,
             "#f1b6da"
            ],
            [
             0.4,
             "#fde0ef"
            ],
            [
             0.5,
             "#f7f7f7"
            ],
            [
             0.6,
             "#e6f5d0"
            ],
            [
             0.7,
             "#b8e186"
            ],
            [
             0.8,
             "#7fbc41"
            ],
            [
             0.9,
             "#4d9221"
            ],
            [
             1,
             "#276419"
            ]
           ],
           "sequential": [
            [
             0,
             "#0d0887"
            ],
            [
             0.1111111111111111,
             "#46039f"
            ],
            [
             0.2222222222222222,
             "#7201a8"
            ],
            [
             0.3333333333333333,
             "#9c179e"
            ],
            [
             0.4444444444444444,
             "#bd3786"
            ],
            [
             0.5555555555555556,
             "#d8576b"
            ],
            [
             0.6666666666666666,
             "#ed7953"
            ],
            [
             0.7777777777777778,
             "#fb9f3a"
            ],
            [
             0.8888888888888888,
             "#fdca26"
            ],
            [
             1,
             "#f0f921"
            ]
           ],
           "sequentialminus": [
            [
             0,
             "#0d0887"
            ],
            [
             0.1111111111111111,
             "#46039f"
            ],
            [
             0.2222222222222222,
             "#7201a8"
            ],
            [
             0.3333333333333333,
             "#9c179e"
            ],
            [
             0.4444444444444444,
             "#bd3786"
            ],
            [
             0.5555555555555556,
             "#d8576b"
            ],
            [
             0.6666666666666666,
             "#ed7953"
            ],
            [
             0.7777777777777778,
             "#fb9f3a"
            ],
            [
             0.8888888888888888,
             "#fdca26"
            ],
            [
             1,
             "#f0f921"
            ]
           ]
          },
          "colorway": [
           "#636efa",
           "#EF553B",
           "#00cc96",
           "#ab63fa",
           "#FFA15A",
           "#19d3f3",
           "#FF6692",
           "#B6E880",
           "#FF97FF",
           "#FECB52"
          ],
          "font": {
           "color": "#2a3f5f"
          },
          "geo": {
           "bgcolor": "white",
           "lakecolor": "white",
           "landcolor": "#E5ECF6",
           "showlakes": true,
           "showland": true,
           "subunitcolor": "white"
          },
          "hoverlabel": {
           "align": "left"
          },
          "hovermode": "closest",
          "mapbox": {
           "style": "light"
          },
          "paper_bgcolor": "white",
          "plot_bgcolor": "#E5ECF6",
          "polar": {
           "angularaxis": {
            "gridcolor": "white",
            "linecolor": "white",
            "ticks": ""
           },
           "bgcolor": "#E5ECF6",
           "radialaxis": {
            "gridcolor": "white",
            "linecolor": "white",
            "ticks": ""
           }
          },
          "scene": {
           "xaxis": {
            "backgroundcolor": "#E5ECF6",
            "gridcolor": "white",
            "gridwidth": 2,
            "linecolor": "white",
            "showbackground": true,
            "ticks": "",
            "zerolinecolor": "white"
           },
           "yaxis": {
            "backgroundcolor": "#E5ECF6",
            "gridcolor": "white",
            "gridwidth": 2,
            "linecolor": "white",
            "showbackground": true,
            "ticks": "",
            "zerolinecolor": "white"
           },
           "zaxis": {
            "backgroundcolor": "#E5ECF6",
            "gridcolor": "white",
            "gridwidth": 2,
            "linecolor": "white",
            "showbackground": true,
            "ticks": "",
            "zerolinecolor": "white"
           }
          },
          "shapedefaults": {
           "line": {
            "color": "#2a3f5f"
           }
          },
          "ternary": {
           "aaxis": {
            "gridcolor": "white",
            "linecolor": "white",
            "ticks": ""
           },
           "baxis": {
            "gridcolor": "white",
            "linecolor": "white",
            "ticks": ""
           },
           "bgcolor": "#E5ECF6",
           "caxis": {
            "gridcolor": "white",
            "linecolor": "white",
            "ticks": ""
           }
          },
          "title": {
           "x": 0.05
          },
          "xaxis": {
           "automargin": true,
           "gridcolor": "white",
           "linecolor": "white",
           "ticks": "",
           "title": {
            "standoff": 15
           },
           "zerolinecolor": "white",
           "zerolinewidth": 2
          },
          "yaxis": {
           "automargin": true,
           "gridcolor": "white",
           "linecolor": "white",
           "ticks": "",
           "title": {
            "standoff": 15
           },
           "zerolinecolor": "white",
           "zerolinewidth": 2
          }
         }
        },
        "title": {
         "text": "Scores for Random Optimization"
        },
        "xaxis": {
         "anchor": "y",
         "domain": [
          0,
          0.45
         ]
        },
        "xaxis2": {
         "anchor": "y2",
         "domain": [
          0.55,
          1
         ]
        },
        "xaxis3": {
         "anchor": "y3",
         "domain": [
          0,
          0.45
         ],
         "title": {
          "text": "Epoch"
         }
        },
        "xaxis4": {
         "anchor": "y4",
         "domain": [
          0.55,
          1
         ],
         "title": {
          "text": "Epoch"
         }
        },
        "yaxis": {
         "anchor": "x",
         "domain": [
          0.625,
          1
         ],
         "range": [
          0,
          1
         ],
         "title": {
          "text": "Scores"
         }
        },
        "yaxis2": {
         "anchor": "x2",
         "domain": [
          0.625,
          1
         ],
         "range": [
          0,
          1
         ]
        },
        "yaxis3": {
         "anchor": "x3",
         "domain": [
          0,
          0.375
         ],
         "range": [
          0,
          1
         ],
         "title": {
          "text": "Scores"
         }
        },
        "yaxis4": {
         "anchor": "x4",
         "domain": [
          0,
          0.375
         ],
         "range": [
          0,
          1
         ]
        }
       }
      }
     },
     "metadata": {},
     "output_type": "display_data"
    }
   ],
   "source": [
    "plot_history(results_random['Random Forest']['scores_train'], \n",
    "             results_random['Random Forest']['scores_test'],\n",
    "             'Random')"
   ]
  },
  {
   "attachments": {},
   "cell_type": "markdown",
   "metadata": {
    "datalore": {
     "hide_input_from_viewers": true,
     "hide_output_from_viewers": true,
     "node_id": "LmHDTnJV583Ucm5Z7jNs9J",
     "type": "MD"
    }
   },
   "source": [
    "## Bayes Search"
   ]
  },
  {
   "attachments": {},
   "cell_type": "markdown",
   "metadata": {
    "datalore": {
     "hide_input_from_viewers": true,
     "hide_output_from_viewers": true,
     "node_id": "rnLZcbnzl72XuGGVNZNgrh",
     "type": "MD"
    }
   },
   "source": [
    "### KNN"
   ]
  },
  {
   "cell_type": "code",
   "execution_count": 70,
   "metadata": {
    "datalore": {
     "hide_input_from_viewers": true,
     "hide_output_from_viewers": true,
     "node_id": "HYhdcKi4PbDCgDkpfr4PJ9",
     "type": "CODE"
    }
   },
   "outputs": [
    {
     "data": {
      "application/vnd.plotly.v1+json": {
       "config": {
        "plotlyServerURL": "https://plot.ly"
       },
       "data": [
        {
         "line": {
          "color": "blue"
         },
         "mode": "lines",
         "name": "Train Scores",
         "showlegend": true,
         "type": "scatter",
         "x": [
          1,
          2,
          3,
          4,
          5,
          6,
          7,
          8,
          9,
          10,
          11,
          12,
          13,
          14,
          15,
          16,
          17,
          18,
          19,
          20
         ],
         "xaxis": "x",
         "y": [
          0.97,
          0.93,
          0.9800000000000001,
          0.975,
          0.9775,
          0.9675,
          0.9400000000000001,
          0.975,
          0.9400000000000001,
          0.9824999999999999,
          1,
          1,
          1,
          1,
          0.9775,
          0.9775,
          1,
          1,
          1,
          0.9775
         ],
         "yaxis": "y"
        },
        {
         "line": {
          "color": "red"
         },
         "mode": "lines",
         "name": "Test Scores",
         "showlegend": true,
         "type": "scatter",
         "x": [
          1,
          2,
          3,
          4,
          5,
          6,
          7,
          8,
          9,
          10,
          11,
          12,
          13,
          14,
          15,
          16,
          17,
          18,
          19,
          20
         ],
         "xaxis": "x",
         "y": [
          0.9700000000000001,
          0.9199999999999999,
          0.96,
          0.97,
          0.9800000000000001,
          0.95,
          0.9199999999999999,
          0.97,
          0.9199999999999999,
          0.95,
          0.9800000000000001,
          0.9800000000000001,
          0.9800000000000001,
          0.9800000000000001,
          0.9800000000000001,
          0.9800000000000001,
          0.9800000000000001,
          0.9800000000000001,
          0.9800000000000001,
          0.9800000000000001
         ],
         "yaxis": "y"
        },
        {
         "line": {
          "color": "blue"
         },
         "mode": "lines",
         "name": "Train Scores",
         "showlegend": false,
         "type": "scatter",
         "x": [
          1,
          2,
          3,
          4,
          5,
          6,
          7,
          8,
          9,
          10,
          11,
          12,
          13,
          14,
          15,
          16,
          17,
          18,
          19,
          20
         ],
         "xaxis": "x2",
         "y": [
          0.7744940284631339,
          0.724629907745119,
          0.7812450833154545,
          0.7643531431023385,
          0.8099477937495531,
          0.7584531216477151,
          0.7221125652578131,
          0.7643531431023385,
          0.7221125652578131,
          0.7854787956804692,
          0.7575913609382822,
          0.745769863405564,
          0.7314059929914897,
          0.7390080812415075,
          0.7179038832868484,
          0.7280304655653292,
          0.7195773439176143,
          0.750836730315383,
          0.7280161624830152,
          0.7364800114424658
         ],
         "yaxis": "y2"
        },
        {
         "line": {
          "color": "red"
         },
         "mode": "lines",
         "name": "Test Scores",
         "showlegend": false,
         "type": "scatter",
         "x": [
          1,
          2,
          3,
          4,
          5,
          6,
          7,
          8,
          9,
          10,
          11,
          12,
          13,
          14,
          15,
          16,
          17,
          18,
          19,
          20
         ],
         "xaxis": "x2",
         "y": [
          0.712768361581921,
          0.6924858757062148,
          0.6857627118644067,
          0.6960451977401131,
          0.6418079096045197,
          0.706045197740113,
          0.6924858757062148,
          0.6960451977401131,
          0.6924858757062148,
          0.6384180790960452,
          0.709491525423729,
          0.6992655367231638,
          0.6927118644067797,
          0.7128248587570621,
          0.6994350282485876,
          0.7094350282485876,
          0.6993220338983052,
          0.6924858757062147,
          0.6857062146892655,
          0.7129943502824858
         ],
         "yaxis": "y2"
        },
        {
         "line": {
          "color": "blue"
         },
         "mode": "lines",
         "name": "Train Scores",
         "showlegend": false,
         "type": "scatter",
         "x": [
          1,
          2,
          3,
          4,
          5,
          6,
          7,
          8,
          9,
          10,
          11,
          12,
          13,
          14,
          15,
          16,
          17,
          18,
          19,
          20
         ],
         "xaxis": "x3",
         "y": [
          0.7541666666666667,
          0.7289692982456141,
          0.7835745614035088,
          0.7920394736842106,
          0.8297368421052631,
          0.7520833333333333,
          0.7394956140350877,
          0.7920394736842106,
          0.7394956140350877,
          0.857171052631579,
          0.7206140350877194,
          0.7835745614035088,
          0.7835745614035088,
          0.7206140350877194,
          0.7835745614035088,
          0.7835745614035088,
          0.7206140350877194,
          0.7835745614035088,
          0.7835745614035088,
          0.7206140350877194
         ],
         "yaxis": "y3"
        },
        {
         "line": {
          "color": "red"
         },
         "mode": "lines",
         "name": "Test Scores",
         "showlegend": false,
         "type": "scatter",
         "x": [
          1,
          2,
          3,
          4,
          5,
          6,
          7,
          8,
          9,
          10,
          11,
          12,
          13,
          14,
          15,
          16,
          17,
          18,
          19,
          20
         ],
         "xaxis": "x3",
         "y": [
          0.672463768115942,
          0.6554347826086955,
          0.7061594202898551,
          0.6561594202898551,
          0.6634057971014493,
          0.6641304347826088,
          0.6721014492753623,
          0.6561594202898551,
          0.6721014492753623,
          0.6634057971014492,
          0.7054347826086955,
          0.7061594202898551,
          0.7061594202898551,
          0.7054347826086955,
          0.7061594202898551,
          0.7061594202898551,
          0.7054347826086955,
          0.7061594202898551,
          0.7061594202898551,
          0.7054347826086955
         ],
         "yaxis": "y3"
        },
        {
         "line": {
          "color": "blue"
         },
         "mode": "lines",
         "name": "Train Scores",
         "showlegend": false,
         "type": "scatter",
         "x": [
          1,
          2,
          3,
          4,
          5,
          6,
          7,
          8,
          9,
          10,
          11,
          12,
          13,
          14,
          15,
          16,
          17,
          18,
          19,
          20
         ],
         "xaxis": "x4",
         "y": [
          0.9343830888697152,
          0.9081341673856773,
          0.9363546160483175,
          0.9356967213114753,
          0.9461906816220879,
          0.9304465056082829,
          0.9146980155306299,
          0.9356967213114753,
          0.9146980155306299,
          0.9540660051768766,
          0.9317601380500431,
          0.9238848144952545,
          0.9350431406384814,
          0.9304486626402071,
          0.9199460742018981,
          0.9343830888697152,
          0.9343830888697152,
          0.9087877480586712,
          0.9350431406384814,
          0.9330780845556514
         ],
         "yaxis": "y4"
        },
        {
         "line": {
          "color": "red"
         },
         "mode": "lines",
         "name": "Test Scores",
         "showlegend": false,
         "type": "scatter",
         "x": [
          1,
          2,
          3,
          4,
          5,
          6,
          7,
          8,
          9,
          10,
          11,
          12,
          13,
          14,
          15,
          16,
          17,
          18,
          19,
          20
         ],
         "xaxis": "x4",
         "y": [
          0.9291182501708818,
          0.9054682159945318,
          0.9264866712235132,
          0.9238550922761449,
          0.9185919343814082,
          0.9212576896787423,
          0.9054682159945319,
          0.9238550922761449,
          0.9054682159945319,
          0.884483937115516,
          0.9291524265208476,
          0.9160287081339712,
          0.9317498291182502,
          0.9238892686261106,
          0.9159603554340396,
          0.9291182501708818,
          0.9291182501708818,
          0.9106971975393028,
          0.9317498291182502,
          0.9265208475734792
         ],
         "yaxis": "y4"
        }
       ],
       "layout": {
        "annotations": [
         {
          "font": {
           "size": 16
          },
          "showarrow": false,
          "text": "Dataset: iris",
          "x": 0.225,
          "xanchor": "center",
          "xref": "paper",
          "y": 1,
          "yanchor": "bottom",
          "yref": "paper"
         },
         {
          "font": {
           "size": 16
          },
          "showarrow": false,
          "text": "Dataset: diabetes",
          "x": 0.775,
          "xanchor": "center",
          "xref": "paper",
          "y": 1,
          "yanchor": "bottom",
          "yref": "paper"
         },
         {
          "font": {
           "size": 16
          },
          "showarrow": false,
          "text": "Dataset: wine",
          "x": 0.225,
          "xanchor": "center",
          "xref": "paper",
          "y": 0.375,
          "yanchor": "bottom",
          "yref": "paper"
         },
         {
          "font": {
           "size": 16
          },
          "showarrow": false,
          "text": "Dataset: breast",
          "x": 0.775,
          "xanchor": "center",
          "xref": "paper",
          "y": 0.375,
          "yanchor": "bottom",
          "yref": "paper"
         }
        ],
        "template": {
         "data": {
          "bar": [
           {
            "error_x": {
             "color": "#2a3f5f"
            },
            "error_y": {
             "color": "#2a3f5f"
            },
            "marker": {
             "line": {
              "color": "#E5ECF6",
              "width": 0.5
             },
             "pattern": {
              "fillmode": "overlay",
              "size": 10,
              "solidity": 0.2
             }
            },
            "type": "bar"
           }
          ],
          "barpolar": [
           {
            "marker": {
             "line": {
              "color": "#E5ECF6",
              "width": 0.5
             },
             "pattern": {
              "fillmode": "overlay",
              "size": 10,
              "solidity": 0.2
             }
            },
            "type": "barpolar"
           }
          ],
          "carpet": [
           {
            "aaxis": {
             "endlinecolor": "#2a3f5f",
             "gridcolor": "white",
             "linecolor": "white",
             "minorgridcolor": "white",
             "startlinecolor": "#2a3f5f"
            },
            "baxis": {
             "endlinecolor": "#2a3f5f",
             "gridcolor": "white",
             "linecolor": "white",
             "minorgridcolor": "white",
             "startlinecolor": "#2a3f5f"
            },
            "type": "carpet"
           }
          ],
          "choropleth": [
           {
            "colorbar": {
             "outlinewidth": 0,
             "ticks": ""
            },
            "type": "choropleth"
           }
          ],
          "contour": [
           {
            "colorbar": {
             "outlinewidth": 0,
             "ticks": ""
            },
            "colorscale": [
             [
              0,
              "#0d0887"
             ],
             [
              0.1111111111111111,
              "#46039f"
             ],
             [
              0.2222222222222222,
              "#7201a8"
             ],
             [
              0.3333333333333333,
              "#9c179e"
             ],
             [
              0.4444444444444444,
              "#bd3786"
             ],
             [
              0.5555555555555556,
              "#d8576b"
             ],
             [
              0.6666666666666666,
              "#ed7953"
             ],
             [
              0.7777777777777778,
              "#fb9f3a"
             ],
             [
              0.8888888888888888,
              "#fdca26"
             ],
             [
              1,
              "#f0f921"
             ]
            ],
            "type": "contour"
           }
          ],
          "contourcarpet": [
           {
            "colorbar": {
             "outlinewidth": 0,
             "ticks": ""
            },
            "type": "contourcarpet"
           }
          ],
          "heatmap": [
           {
            "colorbar": {
             "outlinewidth": 0,
             "ticks": ""
            },
            "colorscale": [
             [
              0,
              "#0d0887"
             ],
             [
              0.1111111111111111,
              "#46039f"
             ],
             [
              0.2222222222222222,
              "#7201a8"
             ],
             [
              0.3333333333333333,
              "#9c179e"
             ],
             [
              0.4444444444444444,
              "#bd3786"
             ],
             [
              0.5555555555555556,
              "#d8576b"
             ],
             [
              0.6666666666666666,
              "#ed7953"
             ],
             [
              0.7777777777777778,
              "#fb9f3a"
             ],
             [
              0.8888888888888888,
              "#fdca26"
             ],
             [
              1,
              "#f0f921"
             ]
            ],
            "type": "heatmap"
           }
          ],
          "heatmapgl": [
           {
            "colorbar": {
             "outlinewidth": 0,
             "ticks": ""
            },
            "colorscale": [
             [
              0,
              "#0d0887"
             ],
             [
              0.1111111111111111,
              "#46039f"
             ],
             [
              0.2222222222222222,
              "#7201a8"
             ],
             [
              0.3333333333333333,
              "#9c179e"
             ],
             [
              0.4444444444444444,
              "#bd3786"
             ],
             [
              0.5555555555555556,
              "#d8576b"
             ],
             [
              0.6666666666666666,
              "#ed7953"
             ],
             [
              0.7777777777777778,
              "#fb9f3a"
             ],
             [
              0.8888888888888888,
              "#fdca26"
             ],
             [
              1,
              "#f0f921"
             ]
            ],
            "type": "heatmapgl"
           }
          ],
          "histogram": [
           {
            "marker": {
             "pattern": {
              "fillmode": "overlay",
              "size": 10,
              "solidity": 0.2
             }
            },
            "type": "histogram"
           }
          ],
          "histogram2d": [
           {
            "colorbar": {
             "outlinewidth": 0,
             "ticks": ""
            },
            "colorscale": [
             [
              0,
              "#0d0887"
             ],
             [
              0.1111111111111111,
              "#46039f"
             ],
             [
              0.2222222222222222,
              "#7201a8"
             ],
             [
              0.3333333333333333,
              "#9c179e"
             ],
             [
              0.4444444444444444,
              "#bd3786"
             ],
             [
              0.5555555555555556,
              "#d8576b"
             ],
             [
              0.6666666666666666,
              "#ed7953"
             ],
             [
              0.7777777777777778,
              "#fb9f3a"
             ],
             [
              0.8888888888888888,
              "#fdca26"
             ],
             [
              1,
              "#f0f921"
             ]
            ],
            "type": "histogram2d"
           }
          ],
          "histogram2dcontour": [
           {
            "colorbar": {
             "outlinewidth": 0,
             "ticks": ""
            },
            "colorscale": [
             [
              0,
              "#0d0887"
             ],
             [
              0.1111111111111111,
              "#46039f"
             ],
             [
              0.2222222222222222,
              "#7201a8"
             ],
             [
              0.3333333333333333,
              "#9c179e"
             ],
             [
              0.4444444444444444,
              "#bd3786"
             ],
             [
              0.5555555555555556,
              "#d8576b"
             ],
             [
              0.6666666666666666,
              "#ed7953"
             ],
             [
              0.7777777777777778,
              "#fb9f3a"
             ],
             [
              0.8888888888888888,
              "#fdca26"
             ],
             [
              1,
              "#f0f921"
             ]
            ],
            "type": "histogram2dcontour"
           }
          ],
          "mesh3d": [
           {
            "colorbar": {
             "outlinewidth": 0,
             "ticks": ""
            },
            "type": "mesh3d"
           }
          ],
          "parcoords": [
           {
            "line": {
             "colorbar": {
              "outlinewidth": 0,
              "ticks": ""
             }
            },
            "type": "parcoords"
           }
          ],
          "pie": [
           {
            "automargin": true,
            "type": "pie"
           }
          ],
          "scatter": [
           {
            "fillpattern": {
             "fillmode": "overlay",
             "size": 10,
             "solidity": 0.2
            },
            "type": "scatter"
           }
          ],
          "scatter3d": [
           {
            "line": {
             "colorbar": {
              "outlinewidth": 0,
              "ticks": ""
             }
            },
            "marker": {
             "colorbar": {
              "outlinewidth": 0,
              "ticks": ""
             }
            },
            "type": "scatter3d"
           }
          ],
          "scattercarpet": [
           {
            "marker": {
             "colorbar": {
              "outlinewidth": 0,
              "ticks": ""
             }
            },
            "type": "scattercarpet"
           }
          ],
          "scattergeo": [
           {
            "marker": {
             "colorbar": {
              "outlinewidth": 0,
              "ticks": ""
             }
            },
            "type": "scattergeo"
           }
          ],
          "scattergl": [
           {
            "marker": {
             "colorbar": {
              "outlinewidth": 0,
              "ticks": ""
             }
            },
            "type": "scattergl"
           }
          ],
          "scattermapbox": [
           {
            "marker": {
             "colorbar": {
              "outlinewidth": 0,
              "ticks": ""
             }
            },
            "type": "scattermapbox"
           }
          ],
          "scatterpolar": [
           {
            "marker": {
             "colorbar": {
              "outlinewidth": 0,
              "ticks": ""
             }
            },
            "type": "scatterpolar"
           }
          ],
          "scatterpolargl": [
           {
            "marker": {
             "colorbar": {
              "outlinewidth": 0,
              "ticks": ""
             }
            },
            "type": "scatterpolargl"
           }
          ],
          "scatterternary": [
           {
            "marker": {
             "colorbar": {
              "outlinewidth": 0,
              "ticks": ""
             }
            },
            "type": "scatterternary"
           }
          ],
          "surface": [
           {
            "colorbar": {
             "outlinewidth": 0,
             "ticks": ""
            },
            "colorscale": [
             [
              0,
              "#0d0887"
             ],
             [
              0.1111111111111111,
              "#46039f"
             ],
             [
              0.2222222222222222,
              "#7201a8"
             ],
             [
              0.3333333333333333,
              "#9c179e"
             ],
             [
              0.4444444444444444,
              "#bd3786"
             ],
             [
              0.5555555555555556,
              "#d8576b"
             ],
             [
              0.6666666666666666,
              "#ed7953"
             ],
             [
              0.7777777777777778,
              "#fb9f3a"
             ],
             [
              0.8888888888888888,
              "#fdca26"
             ],
             [
              1,
              "#f0f921"
             ]
            ],
            "type": "surface"
           }
          ],
          "table": [
           {
            "cells": {
             "fill": {
              "color": "#EBF0F8"
             },
             "line": {
              "color": "white"
             }
            },
            "header": {
             "fill": {
              "color": "#C8D4E3"
             },
             "line": {
              "color": "white"
             }
            },
            "type": "table"
           }
          ]
         },
         "layout": {
          "annotationdefaults": {
           "arrowcolor": "#2a3f5f",
           "arrowhead": 0,
           "arrowwidth": 1
          },
          "autotypenumbers": "strict",
          "coloraxis": {
           "colorbar": {
            "outlinewidth": 0,
            "ticks": ""
           }
          },
          "colorscale": {
           "diverging": [
            [
             0,
             "#8e0152"
            ],
            [
             0.1,
             "#c51b7d"
            ],
            [
             0.2,
             "#de77ae"
            ],
            [
             0.3,
             "#f1b6da"
            ],
            [
             0.4,
             "#fde0ef"
            ],
            [
             0.5,
             "#f7f7f7"
            ],
            [
             0.6,
             "#e6f5d0"
            ],
            [
             0.7,
             "#b8e186"
            ],
            [
             0.8,
             "#7fbc41"
            ],
            [
             0.9,
             "#4d9221"
            ],
            [
             1,
             "#276419"
            ]
           ],
           "sequential": [
            [
             0,
             "#0d0887"
            ],
            [
             0.1111111111111111,
             "#46039f"
            ],
            [
             0.2222222222222222,
             "#7201a8"
            ],
            [
             0.3333333333333333,
             "#9c179e"
            ],
            [
             0.4444444444444444,
             "#bd3786"
            ],
            [
             0.5555555555555556,
             "#d8576b"
            ],
            [
             0.6666666666666666,
             "#ed7953"
            ],
            [
             0.7777777777777778,
             "#fb9f3a"
            ],
            [
             0.8888888888888888,
             "#fdca26"
            ],
            [
             1,
             "#f0f921"
            ]
           ],
           "sequentialminus": [
            [
             0,
             "#0d0887"
            ],
            [
             0.1111111111111111,
             "#46039f"
            ],
            [
             0.2222222222222222,
             "#7201a8"
            ],
            [
             0.3333333333333333,
             "#9c179e"
            ],
            [
             0.4444444444444444,
             "#bd3786"
            ],
            [
             0.5555555555555556,
             "#d8576b"
            ],
            [
             0.6666666666666666,
             "#ed7953"
            ],
            [
             0.7777777777777778,
             "#fb9f3a"
            ],
            [
             0.8888888888888888,
             "#fdca26"
            ],
            [
             1,
             "#f0f921"
            ]
           ]
          },
          "colorway": [
           "#636efa",
           "#EF553B",
           "#00cc96",
           "#ab63fa",
           "#FFA15A",
           "#19d3f3",
           "#FF6692",
           "#B6E880",
           "#FF97FF",
           "#FECB52"
          ],
          "font": {
           "color": "#2a3f5f"
          },
          "geo": {
           "bgcolor": "white",
           "lakecolor": "white",
           "landcolor": "#E5ECF6",
           "showlakes": true,
           "showland": true,
           "subunitcolor": "white"
          },
          "hoverlabel": {
           "align": "left"
          },
          "hovermode": "closest",
          "mapbox": {
           "style": "light"
          },
          "paper_bgcolor": "white",
          "plot_bgcolor": "#E5ECF6",
          "polar": {
           "angularaxis": {
            "gridcolor": "white",
            "linecolor": "white",
            "ticks": ""
           },
           "bgcolor": "#E5ECF6",
           "radialaxis": {
            "gridcolor": "white",
            "linecolor": "white",
            "ticks": ""
           }
          },
          "scene": {
           "xaxis": {
            "backgroundcolor": "#E5ECF6",
            "gridcolor": "white",
            "gridwidth": 2,
            "linecolor": "white",
            "showbackground": true,
            "ticks": "",
            "zerolinecolor": "white"
           },
           "yaxis": {
            "backgroundcolor": "#E5ECF6",
            "gridcolor": "white",
            "gridwidth": 2,
            "linecolor": "white",
            "showbackground": true,
            "ticks": "",
            "zerolinecolor": "white"
           },
           "zaxis": {
            "backgroundcolor": "#E5ECF6",
            "gridcolor": "white",
            "gridwidth": 2,
            "linecolor": "white",
            "showbackground": true,
            "ticks": "",
            "zerolinecolor": "white"
           }
          },
          "shapedefaults": {
           "line": {
            "color": "#2a3f5f"
           }
          },
          "ternary": {
           "aaxis": {
            "gridcolor": "white",
            "linecolor": "white",
            "ticks": ""
           },
           "baxis": {
            "gridcolor": "white",
            "linecolor": "white",
            "ticks": ""
           },
           "bgcolor": "#E5ECF6",
           "caxis": {
            "gridcolor": "white",
            "linecolor": "white",
            "ticks": ""
           }
          },
          "title": {
           "x": 0.05
          },
          "xaxis": {
           "automargin": true,
           "gridcolor": "white",
           "linecolor": "white",
           "ticks": "",
           "title": {
            "standoff": 15
           },
           "zerolinecolor": "white",
           "zerolinewidth": 2
          },
          "yaxis": {
           "automargin": true,
           "gridcolor": "white",
           "linecolor": "white",
           "ticks": "",
           "title": {
            "standoff": 15
           },
           "zerolinecolor": "white",
           "zerolinewidth": 2
          }
         }
        },
        "title": {
         "text": "Scores for Bayesian Optimization"
        },
        "xaxis": {
         "anchor": "y",
         "domain": [
          0,
          0.45
         ]
        },
        "xaxis2": {
         "anchor": "y2",
         "domain": [
          0.55,
          1
         ]
        },
        "xaxis3": {
         "anchor": "y3",
         "domain": [
          0,
          0.45
         ],
         "title": {
          "text": "Epoch"
         }
        },
        "xaxis4": {
         "anchor": "y4",
         "domain": [
          0.55,
          1
         ],
         "title": {
          "text": "Epoch"
         }
        },
        "yaxis": {
         "anchor": "x",
         "domain": [
          0.625,
          1
         ],
         "range": [
          0,
          1
         ],
         "title": {
          "text": "Scores"
         }
        },
        "yaxis2": {
         "anchor": "x2",
         "domain": [
          0.625,
          1
         ],
         "range": [
          0,
          1
         ]
        },
        "yaxis3": {
         "anchor": "x3",
         "domain": [
          0,
          0.375
         ],
         "range": [
          0,
          1
         ],
         "title": {
          "text": "Scores"
         }
        },
        "yaxis4": {
         "anchor": "x4",
         "domain": [
          0,
          0.375
         ],
         "range": [
          0,
          1
         ]
        }
       }
      }
     },
     "metadata": {},
     "output_type": "display_data"
    }
   ],
   "source": [
    "plot_history(results_bayes['KNN']['scores_train'],\n",
    "             results_bayes['KNN']['scores_test'],\n",
    "             'Bayesian')"
   ]
  },
  {
   "attachments": {},
   "cell_type": "markdown",
   "metadata": {
    "datalore": {
     "hide_input_from_viewers": true,
     "hide_output_from_viewers": true,
     "node_id": "YTzfvHNOzhS4nulDZKMjhg",
     "type": "MD"
    }
   },
   "source": [
    "### XGBoost"
   ]
  },
  {
   "cell_type": "code",
   "execution_count": 71,
   "metadata": {
    "datalore": {
     "hide_input_from_viewers": true,
     "hide_output_from_viewers": true,
     "node_id": "K8webxlBn7lKKW649ccz02",
     "type": "CODE"
    }
   },
   "outputs": [
    {
     "data": {
      "application/vnd.plotly.v1+json": {
       "config": {
        "plotlyServerURL": "https://plot.ly"
       },
       "data": [
        {
         "line": {
          "color": "blue"
         },
         "mode": "lines",
         "name": "Train Scores",
         "showlegend": true,
         "type": "scatter",
         "x": [
          1,
          2,
          3,
          4,
          5,
          6,
          7,
          8,
          9,
          10,
          11,
          12,
          13,
          14,
          15,
          16,
          17,
          18,
          19,
          20,
          21,
          22,
          23,
          24,
          25,
          26,
          27,
          28,
          29,
          30,
          31,
          32,
          33,
          34,
          35,
          36,
          37,
          38,
          39,
          40,
          41,
          42,
          43,
          44,
          45,
          46,
          47,
          48,
          49,
          50,
          51,
          52,
          53,
          54,
          55,
          56,
          57,
          58,
          59,
          60,
          61,
          62,
          63,
          64,
          65,
          66,
          67,
          68,
          69,
          70,
          71,
          72,
          73,
          74,
          75,
          76,
          77,
          78,
          79,
          80,
          81,
          82,
          83,
          84,
          85,
          86,
          87,
          88,
          89,
          90,
          91,
          92,
          93,
          94,
          95,
          96,
          97,
          98,
          99,
          100,
          101,
          102,
          103,
          104,
          105,
          106,
          107,
          108,
          109,
          110,
          111,
          112,
          113,
          114,
          115,
          116,
          117,
          118,
          119,
          120,
          121,
          122,
          123,
          124,
          125,
          126,
          127,
          128,
          129,
          130,
          131,
          132,
          133,
          134,
          135,
          136,
          137,
          138,
          139,
          140,
          141,
          142,
          143,
          144,
          145,
          146,
          147,
          148,
          149,
          150
         ],
         "xaxis": "x",
         "y": [
          0.3,
          0.3,
          0.3,
          0.3,
          0.3,
          0.3,
          0.3,
          0.3,
          0.3,
          0.3,
          0.3,
          0.3,
          0.3,
          0.3,
          0.3,
          0.3,
          0.3,
          0.3,
          0.3,
          0.9674999999999999,
          0.9775,
          0.32999999999999996,
          0.3,
          0.3,
          0.3,
          0.9674999999999999,
          0.3,
          0.99,
          0.3,
          0.3,
          0.9824999999999999,
          0.3,
          0.99,
          0.975,
          0.9974999999999999,
          0.3,
          0.99,
          1,
          0.9875,
          0.99,
          0.99,
          0.975,
          0.99,
          0.99,
          0.9800000000000001,
          0.9949999999999999,
          0.9724999999999999,
          1,
          0.9949999999999999,
          0.3,
          0.3,
          0.99,
          0.9800000000000001,
          0.9825000000000002,
          0.9924999999999999,
          0.9974999999999999,
          0.7549999999999999,
          0.99,
          0.95,
          0.95,
          0.3,
          0.9824999999999999,
          0.3,
          0.3,
          0.3,
          0.9924999999999999,
          0.3,
          0.9650000000000001,
          0.3,
          0.3,
          0.3,
          0.3,
          0.3,
          0.95,
          0.3,
          0.3,
          0.9549999999999998,
          0.3,
          0.3,
          0.3,
          0.3,
          0.3,
          0.3,
          0.3,
          0.3,
          0.3,
          0.3,
          0.975,
          0.3,
          0.3,
          0.3,
          0.3,
          0.3,
          0.3,
          0.3,
          0.3,
          0.3,
          0.9650000000000001,
          0.99,
          0.9875,
          1,
          0.975,
          0.9775,
          0.3,
          0.3,
          0.3,
          0.3,
          0.3,
          0.3,
          0.3,
          0.9875,
          0.3,
          0.3,
          0.3,
          0.3,
          0.3,
          0.99,
          0.3,
          0.9625,
          0.3,
          0.3,
          0.3,
          0.3,
          0.9925,
          0.96,
          0.3,
          0.975,
          0.975,
          0.3,
          0.9674999999999999,
          0.9675,
          0.9724999999999999,
          0.9875,
          0.9649999999999999,
          0.9675,
          0.9925,
          0.9574999999999999,
          0.96,
          0.96,
          0.9524999999999999,
          0.9675,
          0.9574999999999999,
          0.95,
          0.96,
          0.9824999999999999,
          0.95,
          0.9425000000000001,
          0.3,
          0.9325000000000001,
          0.3
         ],
         "yaxis": "y"
        },
        {
         "line": {
          "color": "red"
         },
         "mode": "lines",
         "name": "Test Scores",
         "showlegend": true,
         "type": "scatter",
         "x": [
          1,
          2,
          3,
          4,
          5,
          6,
          7,
          8,
          9,
          10,
          11,
          12,
          13,
          14,
          15,
          16,
          17,
          18,
          19,
          20,
          21,
          22,
          23,
          24,
          25,
          26,
          27,
          28,
          29,
          30,
          31,
          32,
          33,
          34,
          35,
          36,
          37,
          38,
          39,
          40,
          41,
          42,
          43,
          44,
          45,
          46,
          47,
          48,
          49,
          50,
          51,
          52,
          53,
          54,
          55,
          56,
          57,
          58,
          59,
          60,
          61,
          62,
          63,
          64,
          65,
          66,
          67,
          68,
          69,
          70,
          71,
          72,
          73,
          74,
          75,
          76,
          77,
          78,
          79,
          80,
          81,
          82,
          83,
          84,
          85,
          86,
          87,
          88,
          89,
          90,
          91,
          92,
          93,
          94,
          95,
          96,
          97,
          98,
          99,
          100,
          101,
          102,
          103,
          104,
          105,
          106,
          107,
          108,
          109,
          110,
          111,
          112,
          113,
          114,
          115,
          116,
          117,
          118,
          119,
          120,
          121,
          122,
          123,
          124,
          125,
          126,
          127,
          128,
          129,
          130,
          131,
          132,
          133,
          134,
          135,
          136,
          137,
          138,
          139,
          140,
          141,
          142,
          143,
          144,
          145,
          146,
          147,
          148,
          149,
          150
         ],
         "xaxis": "x",
         "y": [
          0.3,
          0.3,
          0.3,
          0.3,
          0.3,
          0.3,
          0.3,
          0.3,
          0.3,
          0.3,
          0.3,
          0.3,
          0.3,
          0.3,
          0.3,
          0.3,
          0.3,
          0.3,
          0.3,
          0.9099999999999999,
          0.9400000000000001,
          0.31,
          0.3,
          0.3,
          0.3,
          0.9099999999999999,
          0.3,
          0.93,
          0.3,
          0.3,
          0.93,
          0.3,
          0.9400000000000001,
          0.9199999999999999,
          0.9299999999999999,
          0.3,
          0.93,
          0.9199999999999999,
          0.93,
          0.9199999999999999,
          0.9400000000000001,
          0.93,
          0.9299999999999999,
          0.9400000000000001,
          0.93,
          0.9199999999999999,
          0.95,
          0.9199999999999999,
          0.9199999999999999,
          0.3,
          0.3,
          0.9099999999999999,
          0.9400000000000001,
          0.93,
          0.9400000000000001,
          0.93,
          0.71,
          0.89,
          0.95,
          0.95,
          0.3,
          0.9199999999999999,
          0.3,
          0.3,
          0.3,
          0.9199999999999999,
          0.3,
          0.9299999999999999,
          0.3,
          0.3,
          0.3,
          0.3,
          0.3,
          0.9399999999999998,
          0.3,
          0.3,
          0.9399999999999998,
          0.3,
          0.3,
          0.3,
          0.3,
          0.3,
          0.3,
          0.3,
          0.3,
          0.3,
          0.3,
          0.93,
          0.3,
          0.3,
          0.3,
          0.3,
          0.3,
          0.3,
          0.3,
          0.3,
          0.3,
          0.93,
          0.9400000000000001,
          0.93,
          0.93,
          0.9400000000000001,
          0.9400000000000001,
          0.3,
          0.3,
          0.3,
          0.3,
          0.3,
          0.3,
          0.3,
          0.93,
          0.3,
          0.3,
          0.3,
          0.3,
          0.3,
          0.9199999999999999,
          0.3,
          0.95,
          0.3,
          0.3,
          0.3,
          0.3,
          0.9199999999999999,
          0.95,
          0.3,
          0.9400000000000001,
          0.9400000000000001,
          0.3,
          0.9400000000000001,
          0.9099999999999999,
          0.9099999999999999,
          0.93,
          0.9400000000000001,
          0.9299999999999999,
          0.93,
          0.9400000000000001,
          0.9299999999999999,
          0.9400000000000001,
          0.9299999999999999,
          0.9299999999999999,
          0.9299999999999999,
          0.9400000000000001,
          0.9400000000000001,
          0.9400000000000001,
          0.95,
          0.9400000000000001,
          0.3,
          0.9299999999999999,
          0.3
         ],
         "yaxis": "y"
        },
        {
         "line": {
          "color": "blue"
         },
         "mode": "lines",
         "name": "Train Scores",
         "showlegend": false,
         "type": "scatter",
         "x": [
          1,
          2,
          3,
          4,
          5,
          6,
          7,
          8,
          9,
          10,
          11,
          12,
          13,
          14,
          15,
          16,
          17,
          18,
          19,
          20,
          21,
          22,
          23,
          24,
          25,
          26,
          27,
          28,
          29,
          30,
          31,
          32,
          33,
          34,
          35,
          36,
          37,
          38,
          39,
          40,
          41,
          42,
          43,
          44,
          45,
          46,
          47,
          48,
          49,
          50,
          51,
          52,
          53,
          54,
          55,
          56,
          57,
          58,
          59,
          60,
          61,
          62,
          63,
          64,
          65,
          66,
          67,
          68,
          69,
          70,
          71,
          72,
          73,
          74,
          75,
          76,
          77,
          78,
          79,
          80,
          81,
          82,
          83,
          84,
          85,
          86,
          87,
          88,
          89,
          90,
          91,
          92,
          93,
          94,
          95,
          96,
          97,
          98,
          99,
          100,
          101,
          102,
          103,
          104,
          105,
          106,
          107,
          108,
          109,
          110,
          111,
          112,
          113,
          114,
          115,
          116,
          117,
          118,
          119,
          120,
          121,
          122,
          123,
          124,
          125,
          126,
          127,
          128,
          129,
          130,
          131,
          132,
          133,
          134,
          135,
          136,
          137,
          138,
          139,
          140,
          141,
          142,
          143,
          144,
          145,
          146,
          147,
          148,
          149,
          150
         ],
         "xaxis": "x2",
         "y": [
          0.5033791031967388,
          0.5033791031967388,
          0.5033791031967388,
          0.5033791031967388,
          0.5033791031967388,
          0.5033791031967388,
          0.5033791031967388,
          0.5033791031967388,
          0.5033791031967388,
          0.5033791031967388,
          0.5033791031967388,
          0.5033791031967388,
          0.5033791031967388,
          0.5033791031967388,
          0.5033791031967388,
          0.5033791031967388,
          0.5033791031967388,
          0.5033791031967388,
          0.5033791031967388,
          0.7272080383322607,
          0.5033791031967388,
          0.5033791031967388,
          0.9966208968032613,
          0.8699420725166274,
          0.6630050775942216,
          0.9974647786598012,
          0.9974647786598012,
          0.9949295573196025,
          0.7272080383322607,
          0.5033791031967388,
          0.9974647786598012,
          0.5033791031967388,
          0.6206786812558106,
          0.9974647786598012,
          1,
          1,
          0.9957770149467212,
          0.9974647786598012,
          0.9062575985124794,
          1,
          0.9881820782378602,
          0.6662483015089752,
          0.9949331330901809,
          0.9619895587499105,
          0.5033791031967388,
          0.5033791031967388,
          0.9983086605163413,
          0.9873346206107417,
          0.9957770149467212,
          0.9949331330901809,
          0.5033791031967388,
          0.9974647786598012,
          0.5194128584710005,
          0.9949331330901809,
          0.972981477508403,
          0.7221447471930201,
          0.9932453693771007,
          0.9974647786598012,
          0.9915576056640205,
          0.9797325323607238,
          0.9763462776228277,
          0.9881749266967033,
          0.9974647786598012,
          0.9873346206107417,
          0.9881820782378602,
          0.9915576056640205,
          0.9924014875205607,
          0.9814167203032254,
          0.6630050775942216,
          0.973818207823786,
          0.9890259600944005,
          0.9907137238074805,
          0.9890223843238217,
          0.9881785024672818,
          0.9873346206107415,
          0.9881749266967033,
          0.5033791031967388,
          0.9915576056640205,
          0.9712794107130087,
          0.9915576056640205,
          0.990710148036902,
          0.9864871629836228,
          0.9873381963813201,
          0.9881820782378602,
          0.672323535721948,
          0.9864907387542015,
          1,
          0.9924014875205607,
          0.9890259600944002,
          0.9839555174140028,
          0.989866266180362,
          0.9932453693771007,
          0.9898698419509404,
          0.9864835872130444,
          0.9898698419509403,
          0.9915576056640205,
          0.9831116355574625,
          0.9805692626761067,
          0.990710148036902,
          0.9915576056640205,
          0.9890259600944005,
          0.9788886505041837,
          0.9856432811270828,
          1,
          1,
          0.9915576056640205,
          0.9873274690695844,
          1,
          0.9881820782378602,
          0.9915576056640205,
          0.9898698419509404,
          0.9822677537009226,
          0.985643281127083,
          0.9831080597868841,
          0.9881820782378602,
          0.9907137238074805,
          0.9932453693771007,
          0.9932453693771007,
          0.9873381963813201,
          0.9839483658728456,
          0.9957770149467212,
          0.9729707501966673,
          0.991554029893442,
          0.9915576056640205,
          0.9915576056640205,
          0.9924014875205606,
          0.9940892512336408,
          0.9898698419509404,
          0.9873310448401631,
          0.9881785024672816,
          0.9881820782378602,
          0.9907137238074805,
          0.989866266180362,
          0.9881785024672816,
          0.9864871629836228,
          0.9915576056640205,
          0.9873381963813201,
          0.9890259600944005,
          0.9915576056640205,
          0.9847922477293857,
          0.9822534506186082,
          0.9873274690695846,
          0.9924014875205607,
          0.9957770149467212,
          0.9848029750411215,
          0.9932453693771007,
          0.988174926696703,
          0.9890259600944002,
          0.9856468568976615,
          1
         ],
         "yaxis": "y2"
        },
        {
         "line": {
          "color": "red"
         },
         "mode": "lines",
         "name": "Test Scores",
         "showlegend": false,
         "type": "scatter",
         "x": [
          1,
          2,
          3,
          4,
          5,
          6,
          7,
          8,
          9,
          10,
          11,
          12,
          13,
          14,
          15,
          16,
          17,
          18,
          19,
          20,
          21,
          22,
          23,
          24,
          25,
          26,
          27,
          28,
          29,
          30,
          31,
          32,
          33,
          34,
          35,
          36,
          37,
          38,
          39,
          40,
          41,
          42,
          43,
          44,
          45,
          46,
          47,
          48,
          49,
          50,
          51,
          52,
          53,
          54,
          55,
          56,
          57,
          58,
          59,
          60,
          61,
          62,
          63,
          64,
          65,
          66,
          67,
          68,
          69,
          70,
          71,
          72,
          73,
          74,
          75,
          76,
          77,
          78,
          79,
          80,
          81,
          82,
          83,
          84,
          85,
          86,
          87,
          88,
          89,
          90,
          91,
          92,
          93,
          94,
          95,
          96,
          97,
          98,
          99,
          100,
          101,
          102,
          103,
          104,
          105,
          106,
          107,
          108,
          109,
          110,
          111,
          112,
          113,
          114,
          115,
          116,
          117,
          118,
          119,
          120,
          121,
          122,
          123,
          124,
          125,
          126,
          127,
          128,
          129,
          130,
          131,
          132,
          133,
          134,
          135,
          136,
          137,
          138,
          139,
          140,
          141,
          142,
          143,
          144,
          145,
          146,
          147,
          148,
          149,
          150
         ],
         "xaxis": "x2",
         "y": [
          0.5033898305084745,
          0.5033898305084745,
          0.5033898305084745,
          0.5033898305084745,
          0.5033898305084745,
          0.5033898305084745,
          0.5033898305084745,
          0.5033898305084745,
          0.5033898305084745,
          0.5033898305084745,
          0.5033898305084745,
          0.5033898305084745,
          0.5033898305084745,
          0.5033898305084745,
          0.5033898305084745,
          0.5033898305084745,
          0.5033898305084745,
          0.5033898305084745,
          0.5033898305084745,
          0.658813559322034,
          0.5033898305084745,
          0.5033898305084745,
          0.7094350282485875,
          0.631638418079096,
          0.6112994350282486,
          0.7094915254237287,
          0.7027118644067796,
          0.6994915254237288,
          0.658813559322034,
          0.5033898305084745,
          0.6992655367231638,
          0.5033898305084745,
          0.6355932203389831,
          0.7094915254237287,
          0.7127118644067796,
          0.7127118644067796,
          0.7162711864406779,
          0.6959887005649718,
          0.7093785310734463,
          0.7092090395480225,
          0.729774011299435,
          0.6694915254237287,
          0.7059322033898304,
          0.7129378531073446,
          0.5033898305084745,
          0.5033898305084745,
          0.6892090395480226,
          0.6927118644067798,
          0.7128813559322034,
          0.7163841807909604,
          0.5033898305084745,
          0.6958757062146892,
          0.5135593220338983,
          0.6993785310734463,
          0.7063276836158192,
          0.682542372881356,
          0.7297175141242936,
          0.699322033898305,
          0.7162711864406779,
          0.7264406779661017,
          0.6959322033898305,
          0.7164406779661017,
          0.7027683615819209,
          0.7096610169491526,
          0.7229378531073446,
          0.7231073446327684,
          0.7131638418079096,
          0.7298870056497175,
          0.6112994350282486,
          0.7163276836158193,
          0.74,
          0.7197175141242937,
          0.7299435028248588,
          0.7097175141242937,
          0.7265536723163841,
          0.7198305084745763,
          0.5033898305084745,
          0.70954802259887,
          0.7129943502824858,
          0.7298870056497175,
          0.7332203389830508,
          0.7197175141242937,
          0.7028248587570621,
          0.7164406779661017,
          0.6722598870056498,
          0.7064406779661018,
          0.7161581920903954,
          0.719774011299435,
          0.7164406779661017,
          0.7197740112994351,
          0.7231638418079096,
          0.7029378531073446,
          0.7366666666666666,
          0.7163841807909604,
          0.7264971751412428,
          0.7163841807909603,
          0.723276836158192,
          0.7128813559322034,
          0.7400564971751413,
          0.6961016949152542,
          0.7094915254237287,
          0.6993785310734464,
          0.7096045197740113,
          0.7296610169491524,
          0.7059322033898304,
          0.7198870056497175,
          0.7063276836158192,
          0.7059887005649716,
          0.7096045197740113,
          0.723276836158192,
          0.7096045197740113,
          0.74,
          0.7333898305084745,
          0.6993785310734464,
          0.7028813559322034,
          0.7096610169491525,
          0.7229943502824858,
          0.7061581920903954,
          0.7130508474576271,
          0.7299435028248588,
          0.7162711864406779,
          0.7028813559322034,
          0.7028248587570622,
          0.7366666666666666,
          0.723050847457627,
          0.7094915254237287,
          0.70954802259887,
          0.7231073446327684,
          0.7231073446327684,
          0.7332768361581921,
          0.7163841807909604,
          0.7265536723163841,
          0.7264971751412429,
          0.7230508474576272,
          0.6995480225988701,
          0.7129943502824859,
          0.7298305084745762,
          0.713050847457627,
          0.7096610169491526,
          0.7231073446327683,
          0.7366101694915254,
          0.7029943502824859,
          0.7061581920903954,
          0.7162711864406779,
          0.7162146892655368,
          0.7096610169491526,
          0.7163276836158192,
          0.7061016949152542,
          0.7029943502824858,
          0.7094350282485875
         ],
         "yaxis": "y2"
        },
        {
         "line": {
          "color": "blue"
         },
         "mode": "lines",
         "name": "Train Scores",
         "showlegend": false,
         "type": "scatter",
         "x": [
          1,
          2,
          3,
          4,
          5,
          6,
          7,
          8,
          9,
          10,
          11,
          12,
          13,
          14,
          15,
          16,
          17,
          18,
          19,
          20,
          21,
          22,
          23,
          24,
          25,
          26,
          27,
          28,
          29,
          30,
          31,
          32,
          33,
          34,
          35,
          36,
          37,
          38,
          39,
          40,
          41,
          42,
          43,
          44,
          45,
          46,
          47,
          48,
          49,
          50,
          51,
          52,
          53,
          54,
          55,
          56,
          57,
          58,
          59,
          60,
          61,
          62,
          63,
          64,
          65,
          66,
          67,
          68,
          69,
          70,
          71,
          72,
          73,
          74,
          75,
          76,
          77,
          78,
          79,
          80,
          81,
          82,
          83,
          84,
          85,
          86,
          87,
          88,
          89,
          90,
          91,
          92,
          93,
          94,
          95,
          96,
          97,
          98,
          99,
          100,
          101,
          102,
          103,
          104,
          105,
          106,
          107,
          108,
          109,
          110,
          111,
          112,
          113,
          114,
          115,
          116,
          117,
          118,
          119,
          120,
          121,
          122,
          123,
          124,
          125,
          126,
          127,
          128,
          129,
          130,
          131,
          132,
          133,
          134,
          135,
          136,
          137,
          138,
          139,
          140,
          141,
          142,
          143,
          144,
          145,
          146,
          147,
          148,
          149,
          150
         ],
         "xaxis": "x3",
         "y": [
          0.3613377192982456,
          0.3613377192982456,
          0.3613377192982456,
          0.3613377192982456,
          0.3613377192982456,
          0.3613377192982456,
          0.3613377192982456,
          0.3613377192982456,
          0.3613377192982456,
          0.3613377192982456,
          0.3613377192982456,
          0.3613377192982456,
          0.3613377192982456,
          0.3613377192982456,
          0.3613377192982456,
          0.3613377192982456,
          0.3613377192982456,
          0.3613377192982456,
          0.3613377192982456,
          0.9391008771929824,
          0.3613377192982456,
          0.3613377192982456,
          0.9978947368421054,
          0.995811403508772,
          0.3613377192982456,
          0.6785526315789474,
          1,
          1,
          1,
          0.3613377192982456,
          0.3613377192982456,
          1,
          0.3613377192982456,
          1,
          1,
          1,
          1,
          1,
          1,
          1,
          1,
          1,
          1,
          1,
          1,
          1,
          1,
          1,
          1,
          1,
          1,
          0.3613377192982456,
          1,
          1,
          1,
          1,
          1,
          1,
          0.9978947368421054,
          1,
          1,
          1,
          1,
          1,
          1,
          1,
          1,
          1,
          1,
          1,
          1,
          1,
          1,
          1,
          0.3613377192982456,
          1,
          1,
          1,
          0.3613377192982456,
          0.3613377192982456,
          0.9853070175438596,
          0.3613377192982456,
          0.3613377192982456,
          0.9895175438596491,
          1,
          1,
          0.968421052631579,
          0.5836842105263158,
          0.9495833333333333,
          0.9894736842105264,
          0.3613377192982456,
          0.3613377192982456,
          0.3613377192982456,
          0.7985526315789474,
          0.9978947368421054,
          0.733157894736842,
          0.6785526315789474,
          0.9495614035087719,
          0.3613377192982456,
          0.3613377192982456,
          0.9474780701754387,
          1,
          0.9852850877192981,
          0.8507894736842104,
          0.8318859649122807,
          1,
          0.3613377192982456,
          1,
          1,
          1,
          0.8323684210526316,
          0.8677850877192983,
          1,
          0.733157894736842,
          0.3613377192982456,
          1,
          0.9789912280701755,
          0.3613377192982456,
          0.3613377192982456,
          0.3613377192982456,
          1,
          0.8572587719298246,
          0.8636403508771929,
          0.3613377192982456,
          1,
          1,
          0.3613377192982456,
          0.3613377192982456,
          1,
          0.3613377192982456,
          0.3613377192982456,
          0.9516666666666668,
          0.3613377192982456,
          0.3613377192982456,
          0.3613377192982456,
          0.3613377192982456,
          0.3613377192982456,
          0.3613377192982456,
          0.3613377192982456,
          0.3613377192982456,
          1,
          1,
          0.8739035087719298,
          1,
          0.3613377192982456,
          0.3613377192982456,
          0.9894736842105264,
          1,
          0.3613377192982456,
          0.3613377192982456
         ],
         "yaxis": "y3"
        },
        {
         "line": {
          "color": "red"
         },
         "mode": "lines",
         "name": "Test Scores",
         "showlegend": false,
         "type": "scatter",
         "x": [
          1,
          2,
          3,
          4,
          5,
          6,
          7,
          8,
          9,
          10,
          11,
          12,
          13,
          14,
          15,
          16,
          17,
          18,
          19,
          20,
          21,
          22,
          23,
          24,
          25,
          26,
          27,
          28,
          29,
          30,
          31,
          32,
          33,
          34,
          35,
          36,
          37,
          38,
          39,
          40,
          41,
          42,
          43,
          44,
          45,
          46,
          47,
          48,
          49,
          50,
          51,
          52,
          53,
          54,
          55,
          56,
          57,
          58,
          59,
          60,
          61,
          62,
          63,
          64,
          65,
          66,
          67,
          68,
          69,
          70,
          71,
          72,
          73,
          74,
          75,
          76,
          77,
          78,
          79,
          80,
          81,
          82,
          83,
          84,
          85,
          86,
          87,
          88,
          89,
          90,
          91,
          92,
          93,
          94,
          95,
          96,
          97,
          98,
          99,
          100,
          101,
          102,
          103,
          104,
          105,
          106,
          107,
          108,
          109,
          110,
          111,
          112,
          113,
          114,
          115,
          116,
          117,
          118,
          119,
          120,
          121,
          122,
          123,
          124,
          125,
          126,
          127,
          128,
          129,
          130,
          131,
          132,
          133,
          134,
          135,
          136,
          137,
          138,
          139,
          140,
          141,
          142,
          143,
          144,
          145,
          146,
          147,
          148,
          149,
          150
         ],
         "xaxis": "x3",
         "y": [
          0.361231884057971,
          0.361231884057971,
          0.361231884057971,
          0.361231884057971,
          0.361231884057971,
          0.361231884057971,
          0.361231884057971,
          0.361231884057971,
          0.361231884057971,
          0.361231884057971,
          0.361231884057971,
          0.361231884057971,
          0.361231884057971,
          0.361231884057971,
          0.361231884057971,
          0.361231884057971,
          0.361231884057971,
          0.361231884057971,
          0.361231884057971,
          0.8652173913043478,
          0.361231884057971,
          0.361231884057971,
          0.9072463768115944,
          0.9152173913043476,
          0.361231884057971,
          0.6974637681159421,
          0.9409420289855073,
          0.9409420289855073,
          0.9655797101449275,
          0.361231884057971,
          0.361231884057971,
          0.9655797101449275,
          0.361231884057971,
          0.9659420289855072,
          0.9242753623188407,
          0.9655797101449275,
          0.9655797101449275,
          0.9655797101449275,
          0.9655797101449275,
          0.9655797101449275,
          0.9655797101449275,
          0.9655797101449275,
          0.9655797101449275,
          0.9655797101449275,
          0.9655797101449275,
          0.9655797101449275,
          0.9655797101449275,
          0.9655797101449275,
          0.9655797101449275,
          0.9655797101449275,
          0.9655797101449275,
          0.361231884057971,
          0.9655797101449275,
          0.9655797101449275,
          0.9655797101449275,
          0.9655797101449275,
          0.9655797101449275,
          0.9655797101449275,
          0.873550724637681,
          0.9655797101449275,
          0.9655797101449275,
          0.9655797101449275,
          0.9655797101449275,
          0.9655797101449275,
          0.9655797101449275,
          0.9655797101449275,
          0.9655797101449275,
          0.9655797101449275,
          0.9655797101449275,
          0.9655797101449275,
          0.9655797101449275,
          0.9655797101449275,
          0.9655797101449275,
          0.9655797101449275,
          0.361231884057971,
          0.9655797101449275,
          0.9655797101449275,
          0.9655797101449275,
          0.361231884057971,
          0.361231884057971,
          0.9322463768115942,
          0.361231884057971,
          0.361231884057971,
          0.9155797101449276,
          0.9409420289855073,
          0.9492753623188406,
          0.8572463768115941,
          0.5634057971014493,
          0.8902173913043478,
          0.923913043478261,
          0.361231884057971,
          0.361231884057971,
          0.361231884057971,
          0.7293478260869566,
          0.9405797101449276,
          0.7050724637681159,
          0.6974637681159421,
          0.9576086956521739,
          0.361231884057971,
          0.361231884057971,
          0.898913043478261,
          0.9659420289855072,
          0.9242753623188404,
          0.8235507246376812,
          0.705072463768116,
          0.9489130434782609,
          0.361231884057971,
          0.9155797101449276,
          0.923913043478261,
          0.9583333333333333,
          0.7543478260869566,
          0.7717391304347827,
          0.9405797101449276,
          0.7050724637681159,
          0.361231884057971,
          0.9322463768115942,
          0.9072463768115944,
          0.361231884057971,
          0.361231884057971,
          0.361231884057971,
          0.9235507246376813,
          0.7713768115942028,
          0.7797101449275362,
          0.361231884057971,
          0.9409420289855073,
          0.9322463768115943,
          0.361231884057971,
          0.361231884057971,
          0.9409420289855073,
          0.361231884057971,
          0.361231884057971,
          0.9322463768115943,
          0.361231884057971,
          0.361231884057971,
          0.361231884057971,
          0.361231884057971,
          0.361231884057971,
          0.361231884057971,
          0.361231884057971,
          0.361231884057971,
          0.9659420289855072,
          0.9572463768115943,
          0.8318840579710145,
          0.9405797101449276,
          0.361231884057971,
          0.361231884057971,
          0.9155797101449276,
          0.9322463768115943,
          0.361231884057971,
          0.361231884057971
         ],
         "yaxis": "y3"
        },
        {
         "line": {
          "color": "blue"
         },
         "mode": "lines",
         "name": "Train Scores",
         "showlegend": false,
         "type": "scatter",
         "x": [
          1,
          2,
          3,
          4,
          5,
          6,
          7,
          8,
          9,
          10,
          11,
          12,
          13,
          14,
          15,
          16,
          17,
          18,
          19,
          20,
          21,
          22,
          23,
          24,
          25,
          26,
          27,
          28,
          29,
          30,
          31,
          32,
          33,
          34,
          35,
          36,
          37,
          38,
          39,
          40,
          41,
          42,
          43,
          44,
          45,
          46,
          47,
          48,
          49,
          50,
          51,
          52,
          53,
          54,
          55,
          56,
          57,
          58,
          59,
          60,
          61,
          62,
          63,
          64,
          65,
          66,
          67,
          68,
          69,
          70,
          71,
          72,
          73,
          74,
          75,
          76,
          77,
          78,
          79,
          80,
          81,
          82,
          83,
          84,
          85,
          86,
          87,
          88,
          89,
          90,
          91,
          92,
          93,
          94,
          95,
          96,
          97,
          98,
          99,
          100,
          101,
          102,
          103,
          104,
          105,
          106,
          107,
          108,
          109,
          110,
          111,
          112,
          113,
          114,
          115,
          116,
          117,
          118,
          119,
          120,
          121,
          122,
          123,
          124,
          125,
          126,
          127,
          128,
          129,
          130,
          131,
          132,
          133,
          134,
          135,
          136,
          137,
          138,
          139,
          140,
          141,
          142,
          143,
          144,
          145,
          146,
          147,
          148,
          149,
          150
         ],
         "xaxis": "x4",
         "y": [
          0.35957937877480584,
          0.35957937877480584,
          0.35957937877480584,
          0.35957937877480584,
          0.35957937877480584,
          0.35957937877480584,
          0.35957937877480584,
          0.35957937877480584,
          0.35957937877480584,
          0.35957937877480584,
          0.35957937877480584,
          0.35957937877480584,
          0.35957937877480584,
          0.35957937877480584,
          0.35957937877480584,
          0.35957937877480584,
          0.35957937877480584,
          0.35957937877480584,
          0.35957937877480584,
          1,
          0.35957937877480584,
          0.35957937877480584,
          0.35957937877480584,
          0.35957937877480584,
          0.6404206212251942,
          0.35957937877480584,
          0.9376380500431406,
          0.35957937877480584,
          0.35957937877480584,
          0.35957937877480584,
          0.8589106988783435,
          1,
          1,
          0.9625927523727352,
          0.9914667817083693,
          0.9048403796376187,
          0.35957937877480584,
          0.9744111302847281,
          0.8529939603106126,
          0.9967169974115617,
          0.9298058671268334,
          0.9993421052631579,
          0.35957937877480584,
          0.35957937877480584,
          0.35957937877480584,
          0.35957937877480584,
          0.9488201035375324,
          0.904225625539258,
          0.9560267471958586,
          0.35957937877480584,
          0.35957937877480584,
          0.985562985332183,
          0.35957937877480584,
          0.9849072476272649,
          0.9908132010353754,
          0.35957937877480584,
          0.35957937877480584,
          0.35957937877480584,
          0.35957937877480584,
          1,
          0.35957937877480584,
          0.9908110440034512,
          0.35957937877480584,
          0.35957937877480584,
          0.9973748921484038,
          0.35957937877480584,
          0.35957937877480584,
          0.9888438308886972,
          0.35957937877480584,
          0.35957937877480584,
          0.9783498705780845,
          0.936997411561691,
          0.9921246764452114,
          1,
          0.35957937877480584,
          0.35957937877480584,
          0.9947476272648835,
          0.9921246764452114,
          0.9980327868852459,
          0.9993421052631579,
          0.9960612597066436,
          0.9980306298533218,
          0.35957937877480584,
          0.9954055220017256,
          0.9980327868852459,
          0.9960612597066436,
          0.9980306298533218,
          0.9960612597066436,
          0.9954076790336497,
          0.9947476272648835,
          0.9934383088869716,
          0.9908110440034512,
          0.9914689387402934,
          0.35957937877480584,
          0.35957937877480584,
          0.35957937877480584,
          0.9921225194132873,
          0.9914689387402934,
          0.9940940465918896,
          0.9914667817083693,
          0.9908110440034512,
          0.35957937877480584,
          0.35957937877480584,
          0.9921246764452114,
          0.35957937877480584,
          0.35957937877480584,
          0.9927825711820535,
          0.9153494391716996,
          1,
          0.35957937877480584,
          0.9940940465918896,
          0.35957937877480584,
          0.35957937877480584,
          0.35957937877480584,
          0.35957937877480584,
          0.9940940465918896,
          0.9921246764452114,
          0.9954055220017256,
          0.9940918895599655,
          0.9934361518550474,
          0.9908132010353754,
          0.35957937877480584,
          0.9921246764452114,
          0.9940940465918896,
          0.9908110440034512,
          0.35957937877480584,
          1,
          0.35957937877480584,
          0.35957937877480584,
          0.35957937877480584,
          0.9947497842968076,
          0.9927804141501294,
          0.35957937877480584,
          0.9954076790336497,
          0.9927782571182053,
          0.35957937877480584,
          0.9888459879206213,
          0.9868766177739431,
          0.9921246764452114,
          0.9927825711820535,
          0.9901596203623815,
          0.9711345987920621,
          0.9927825711820535,
          0.9921246764452114,
          0.9934361518550474,
          0.9895017256255393,
          0.9927804141501294,
          0.9927804141501294,
          0.9927804141501294,
          0.9940940465918896
         ],
         "yaxis": "y4"
        },
        {
         "line": {
          "color": "red"
         },
         "mode": "lines",
         "name": "Test Scores",
         "showlegend": false,
         "type": "scatter",
         "x": [
          1,
          2,
          3,
          4,
          5,
          6,
          7,
          8,
          9,
          10,
          11,
          12,
          13,
          14,
          15,
          16,
          17,
          18,
          19,
          20,
          21,
          22,
          23,
          24,
          25,
          26,
          27,
          28,
          29,
          30,
          31,
          32,
          33,
          34,
          35,
          36,
          37,
          38,
          39,
          40,
          41,
          42,
          43,
          44,
          45,
          46,
          47,
          48,
          49,
          50,
          51,
          52,
          53,
          54,
          55,
          56,
          57,
          58,
          59,
          60,
          61,
          62,
          63,
          64,
          65,
          66,
          67,
          68,
          69,
          70,
          71,
          72,
          73,
          74,
          75,
          76,
          77,
          78,
          79,
          80,
          81,
          82,
          83,
          84,
          85,
          86,
          87,
          88,
          89,
          90,
          91,
          92,
          93,
          94,
          95,
          96,
          97,
          98,
          99,
          100,
          101,
          102,
          103,
          104,
          105,
          106,
          107,
          108,
          109,
          110,
          111,
          112,
          113,
          114,
          115,
          116,
          117,
          118,
          119,
          120,
          121,
          122,
          123,
          124,
          125,
          126,
          127,
          128,
          129,
          130,
          131,
          132,
          133,
          134,
          135,
          136,
          137,
          138,
          139,
          140,
          141,
          142,
          143,
          144,
          145,
          146,
          147,
          148,
          149,
          150
         ],
         "xaxis": "x4",
         "y": [
          0.35956937799043054,
          0.35956937799043054,
          0.35956937799043054,
          0.35956937799043054,
          0.35956937799043054,
          0.35956937799043054,
          0.35956937799043054,
          0.35956937799043054,
          0.35956937799043054,
          0.35956937799043054,
          0.35956937799043054,
          0.35956937799043054,
          0.35956937799043054,
          0.35956937799043054,
          0.35956937799043054,
          0.35956937799043054,
          0.35956937799043054,
          0.35956937799043054,
          0.35956937799043054,
          0.9737183868762816,
          0.35956937799043054,
          0.35956937799043054,
          0.35956937799043054,
          0.35956937799043054,
          0.6404306220095695,
          0.35956937799043054,
          0.9186602870813397,
          0.35956937799043054,
          0.35956937799043054,
          0.35956937799043054,
          0.8635680109364319,
          0.9658236500341765,
          0.9500683526999317,
          0.9369446343130553,
          0.9632262474367739,
          0.8740259740259739,
          0.35956937799043054,
          0.9448735475051263,
          0.8504442925495557,
          0.9632946001367054,
          0.884483937115516,
          0.9606288448393713,
          0.35956937799043054,
          0.35956937799043054,
          0.35956937799043054,
          0.35956937799043054,
          0.9159603554340396,
          0.9001367053998633,
          0.9317156527682844,
          0.35956937799043054,
          0.35956937799043054,
          0.9527341079972658,
          0.35956937799043054,
          0.9500683526999317,
          0.9579972658920027,
          0.35956937799043054,
          0.35956937799043054,
          0.35956937799043054,
          0.35956937799043054,
          0.971120984278879,
          0.35956937799043054,
          0.9684894053315105,
          0.35956937799043054,
          0.35956937799043054,
          0.9580314422419687,
          0.35956937799043054,
          0.35956937799043054,
          0.9579630895420369,
          0.35956937799043054,
          0.35956937799043054,
          0.960628844839371,
          0.9291866028708133,
          0.9632262474367739,
          0.9606288448393713,
          0.35956937799043054,
          0.35956937799043054,
          0.9711551606288449,
          0.971120984278879,
          0.9737525632262475,
          0.9553998632946001,
          0.9685235816814763,
          0.9684894053315107,
          0.35956937799043054,
          0.9632604237867396,
          0.9685577580314423,
          0.9632946001367054,
          0.9658578263841422,
          0.9658920027341079,
          0.9606288448393713,
          0.9606630211893371,
          0.9684894053315105,
          0.9658578263841422,
          0.9711893369788107,
          0.35956937799043054,
          0.35956937799043054,
          0.35956937799043054,
          0.9606971975393028,
          0.9684894053315107,
          0.9606288448393713,
          0.9684894053315107,
          0.9632604237867396,
          0.35956937799043054,
          0.35956937799043054,
          0.9632262474367739,
          0.35956937799043054,
          0.35956937799043054,
          0.9658920027341079,
          0.902904989747095,
          0.9265208475734792,
          0.35956937799043054,
          0.963192071086808,
          0.35956937799043054,
          0.35956937799043054,
          0.35956937799043054,
          0.35956937799043054,
          0.9658578263841422,
          0.9553998632946001,
          0.9684894053315107,
          0.9632262474367739,
          0.9685235816814763,
          0.9605946684894053,
          0.35956937799043054,
          0.9605946684894053,
          0.9658236500341765,
          0.9685235816814766,
          0.35956937799043054,
          0.9579630895420369,
          0.35956937799043054,
          0.35956937799043054,
          0.35956937799043054,
          0.9632262474367739,
          0.9632262474367737,
          0.35956937799043054,
          0.9553315105946686,
          0.963192071086808,
          0.35956937799043054,
          0.9684894053315107,
          0.9632604237867396,
          0.9684552289815448,
          0.9606630211893371,
          0.9737183868762816,
          0.9448051948051948,
          0.9658920027341079,
          0.963192071086808,
          0.9710868079289133,
          0.963192071086808,
          0.9684894053315107,
          0.9684894053315105,
          0.9658578263841422,
          0.9632262474367737
         ],
         "yaxis": "y4"
        }
       ],
       "layout": {
        "annotations": [
         {
          "font": {
           "size": 16
          },
          "showarrow": false,
          "text": "Dataset: iris",
          "x": 0.225,
          "xanchor": "center",
          "xref": "paper",
          "y": 1,
          "yanchor": "bottom",
          "yref": "paper"
         },
         {
          "font": {
           "size": 16
          },
          "showarrow": false,
          "text": "Dataset: diabetes",
          "x": 0.775,
          "xanchor": "center",
          "xref": "paper",
          "y": 1,
          "yanchor": "bottom",
          "yref": "paper"
         },
         {
          "font": {
           "size": 16
          },
          "showarrow": false,
          "text": "Dataset: wine",
          "x": 0.225,
          "xanchor": "center",
          "xref": "paper",
          "y": 0.375,
          "yanchor": "bottom",
          "yref": "paper"
         },
         {
          "font": {
           "size": 16
          },
          "showarrow": false,
          "text": "Dataset: breast",
          "x": 0.775,
          "xanchor": "center",
          "xref": "paper",
          "y": 0.375,
          "yanchor": "bottom",
          "yref": "paper"
         }
        ],
        "template": {
         "data": {
          "bar": [
           {
            "error_x": {
             "color": "#2a3f5f"
            },
            "error_y": {
             "color": "#2a3f5f"
            },
            "marker": {
             "line": {
              "color": "#E5ECF6",
              "width": 0.5
             },
             "pattern": {
              "fillmode": "overlay",
              "size": 10,
              "solidity": 0.2
             }
            },
            "type": "bar"
           }
          ],
          "barpolar": [
           {
            "marker": {
             "line": {
              "color": "#E5ECF6",
              "width": 0.5
             },
             "pattern": {
              "fillmode": "overlay",
              "size": 10,
              "solidity": 0.2
             }
            },
            "type": "barpolar"
           }
          ],
          "carpet": [
           {
            "aaxis": {
             "endlinecolor": "#2a3f5f",
             "gridcolor": "white",
             "linecolor": "white",
             "minorgridcolor": "white",
             "startlinecolor": "#2a3f5f"
            },
            "baxis": {
             "endlinecolor": "#2a3f5f",
             "gridcolor": "white",
             "linecolor": "white",
             "minorgridcolor": "white",
             "startlinecolor": "#2a3f5f"
            },
            "type": "carpet"
           }
          ],
          "choropleth": [
           {
            "colorbar": {
             "outlinewidth": 0,
             "ticks": ""
            },
            "type": "choropleth"
           }
          ],
          "contour": [
           {
            "colorbar": {
             "outlinewidth": 0,
             "ticks": ""
            },
            "colorscale": [
             [
              0,
              "#0d0887"
             ],
             [
              0.1111111111111111,
              "#46039f"
             ],
             [
              0.2222222222222222,
              "#7201a8"
             ],
             [
              0.3333333333333333,
              "#9c179e"
             ],
             [
              0.4444444444444444,
              "#bd3786"
             ],
             [
              0.5555555555555556,
              "#d8576b"
             ],
             [
              0.6666666666666666,
              "#ed7953"
             ],
             [
              0.7777777777777778,
              "#fb9f3a"
             ],
             [
              0.8888888888888888,
              "#fdca26"
             ],
             [
              1,
              "#f0f921"
             ]
            ],
            "type": "contour"
           }
          ],
          "contourcarpet": [
           {
            "colorbar": {
             "outlinewidth": 0,
             "ticks": ""
            },
            "type": "contourcarpet"
           }
          ],
          "heatmap": [
           {
            "colorbar": {
             "outlinewidth": 0,
             "ticks": ""
            },
            "colorscale": [
             [
              0,
              "#0d0887"
             ],
             [
              0.1111111111111111,
              "#46039f"
             ],
             [
              0.2222222222222222,
              "#7201a8"
             ],
             [
              0.3333333333333333,
              "#9c179e"
             ],
             [
              0.4444444444444444,
              "#bd3786"
             ],
             [
              0.5555555555555556,
              "#d8576b"
             ],
             [
              0.6666666666666666,
              "#ed7953"
             ],
             [
              0.7777777777777778,
              "#fb9f3a"
             ],
             [
              0.8888888888888888,
              "#fdca26"
             ],
             [
              1,
              "#f0f921"
             ]
            ],
            "type": "heatmap"
           }
          ],
          "heatmapgl": [
           {
            "colorbar": {
             "outlinewidth": 0,
             "ticks": ""
            },
            "colorscale": [
             [
              0,
              "#0d0887"
             ],
             [
              0.1111111111111111,
              "#46039f"
             ],
             [
              0.2222222222222222,
              "#7201a8"
             ],
             [
              0.3333333333333333,
              "#9c179e"
             ],
             [
              0.4444444444444444,
              "#bd3786"
             ],
             [
              0.5555555555555556,
              "#d8576b"
             ],
             [
              0.6666666666666666,
              "#ed7953"
             ],
             [
              0.7777777777777778,
              "#fb9f3a"
             ],
             [
              0.8888888888888888,
              "#fdca26"
             ],
             [
              1,
              "#f0f921"
             ]
            ],
            "type": "heatmapgl"
           }
          ],
          "histogram": [
           {
            "marker": {
             "pattern": {
              "fillmode": "overlay",
              "size": 10,
              "solidity": 0.2
             }
            },
            "type": "histogram"
           }
          ],
          "histogram2d": [
           {
            "colorbar": {
             "outlinewidth": 0,
             "ticks": ""
            },
            "colorscale": [
             [
              0,
              "#0d0887"
             ],
             [
              0.1111111111111111,
              "#46039f"
             ],
             [
              0.2222222222222222,
              "#7201a8"
             ],
             [
              0.3333333333333333,
              "#9c179e"
             ],
             [
              0.4444444444444444,
              "#bd3786"
             ],
             [
              0.5555555555555556,
              "#d8576b"
             ],
             [
              0.6666666666666666,
              "#ed7953"
             ],
             [
              0.7777777777777778,
              "#fb9f3a"
             ],
             [
              0.8888888888888888,
              "#fdca26"
             ],
             [
              1,
              "#f0f921"
             ]
            ],
            "type": "histogram2d"
           }
          ],
          "histogram2dcontour": [
           {
            "colorbar": {
             "outlinewidth": 0,
             "ticks": ""
            },
            "colorscale": [
             [
              0,
              "#0d0887"
             ],
             [
              0.1111111111111111,
              "#46039f"
             ],
             [
              0.2222222222222222,
              "#7201a8"
             ],
             [
              0.3333333333333333,
              "#9c179e"
             ],
             [
              0.4444444444444444,
              "#bd3786"
             ],
             [
              0.5555555555555556,
              "#d8576b"
             ],
             [
              0.6666666666666666,
              "#ed7953"
             ],
             [
              0.7777777777777778,
              "#fb9f3a"
             ],
             [
              0.8888888888888888,
              "#fdca26"
             ],
             [
              1,
              "#f0f921"
             ]
            ],
            "type": "histogram2dcontour"
           }
          ],
          "mesh3d": [
           {
            "colorbar": {
             "outlinewidth": 0,
             "ticks": ""
            },
            "type": "mesh3d"
           }
          ],
          "parcoords": [
           {
            "line": {
             "colorbar": {
              "outlinewidth": 0,
              "ticks": ""
             }
            },
            "type": "parcoords"
           }
          ],
          "pie": [
           {
            "automargin": true,
            "type": "pie"
           }
          ],
          "scatter": [
           {
            "fillpattern": {
             "fillmode": "overlay",
             "size": 10,
             "solidity": 0.2
            },
            "type": "scatter"
           }
          ],
          "scatter3d": [
           {
            "line": {
             "colorbar": {
              "outlinewidth": 0,
              "ticks": ""
             }
            },
            "marker": {
             "colorbar": {
              "outlinewidth": 0,
              "ticks": ""
             }
            },
            "type": "scatter3d"
           }
          ],
          "scattercarpet": [
           {
            "marker": {
             "colorbar": {
              "outlinewidth": 0,
              "ticks": ""
             }
            },
            "type": "scattercarpet"
           }
          ],
          "scattergeo": [
           {
            "marker": {
             "colorbar": {
              "outlinewidth": 0,
              "ticks": ""
             }
            },
            "type": "scattergeo"
           }
          ],
          "scattergl": [
           {
            "marker": {
             "colorbar": {
              "outlinewidth": 0,
              "ticks": ""
             }
            },
            "type": "scattergl"
           }
          ],
          "scattermapbox": [
           {
            "marker": {
             "colorbar": {
              "outlinewidth": 0,
              "ticks": ""
             }
            },
            "type": "scattermapbox"
           }
          ],
          "scatterpolar": [
           {
            "marker": {
             "colorbar": {
              "outlinewidth": 0,
              "ticks": ""
             }
            },
            "type": "scatterpolar"
           }
          ],
          "scatterpolargl": [
           {
            "marker": {
             "colorbar": {
              "outlinewidth": 0,
              "ticks": ""
             }
            },
            "type": "scatterpolargl"
           }
          ],
          "scatterternary": [
           {
            "marker": {
             "colorbar": {
              "outlinewidth": 0,
              "ticks": ""
             }
            },
            "type": "scatterternary"
           }
          ],
          "surface": [
           {
            "colorbar": {
             "outlinewidth": 0,
             "ticks": ""
            },
            "colorscale": [
             [
              0,
              "#0d0887"
             ],
             [
              0.1111111111111111,
              "#46039f"
             ],
             [
              0.2222222222222222,
              "#7201a8"
             ],
             [
              0.3333333333333333,
              "#9c179e"
             ],
             [
              0.4444444444444444,
              "#bd3786"
             ],
             [
              0.5555555555555556,
              "#d8576b"
             ],
             [
              0.6666666666666666,
              "#ed7953"
             ],
             [
              0.7777777777777778,
              "#fb9f3a"
             ],
             [
              0.8888888888888888,
              "#fdca26"
             ],
             [
              1,
              "#f0f921"
             ]
            ],
            "type": "surface"
           }
          ],
          "table": [
           {
            "cells": {
             "fill": {
              "color": "#EBF0F8"
             },
             "line": {
              "color": "white"
             }
            },
            "header": {
             "fill": {
              "color": "#C8D4E3"
             },
             "line": {
              "color": "white"
             }
            },
            "type": "table"
           }
          ]
         },
         "layout": {
          "annotationdefaults": {
           "arrowcolor": "#2a3f5f",
           "arrowhead": 0,
           "arrowwidth": 1
          },
          "autotypenumbers": "strict",
          "coloraxis": {
           "colorbar": {
            "outlinewidth": 0,
            "ticks": ""
           }
          },
          "colorscale": {
           "diverging": [
            [
             0,
             "#8e0152"
            ],
            [
             0.1,
             "#c51b7d"
            ],
            [
             0.2,
             "#de77ae"
            ],
            [
             0.3,
             "#f1b6da"
            ],
            [
             0.4,
             "#fde0ef"
            ],
            [
             0.5,
             "#f7f7f7"
            ],
            [
             0.6,
             "#e6f5d0"
            ],
            [
             0.7,
             "#b8e186"
            ],
            [
             0.8,
             "#7fbc41"
            ],
            [
             0.9,
             "#4d9221"
            ],
            [
             1,
             "#276419"
            ]
           ],
           "sequential": [
            [
             0,
             "#0d0887"
            ],
            [
             0.1111111111111111,
             "#46039f"
            ],
            [
             0.2222222222222222,
             "#7201a8"
            ],
            [
             0.3333333333333333,
             "#9c179e"
            ],
            [
             0.4444444444444444,
             "#bd3786"
            ],
            [
             0.5555555555555556,
             "#d8576b"
            ],
            [
             0.6666666666666666,
             "#ed7953"
            ],
            [
             0.7777777777777778,
             "#fb9f3a"
            ],
            [
             0.8888888888888888,
             "#fdca26"
            ],
            [
             1,
             "#f0f921"
            ]
           ],
           "sequentialminus": [
            [
             0,
             "#0d0887"
            ],
            [
             0.1111111111111111,
             "#46039f"
            ],
            [
             0.2222222222222222,
             "#7201a8"
            ],
            [
             0.3333333333333333,
             "#9c179e"
            ],
            [
             0.4444444444444444,
             "#bd3786"
            ],
            [
             0.5555555555555556,
             "#d8576b"
            ],
            [
             0.6666666666666666,
             "#ed7953"
            ],
            [
             0.7777777777777778,
             "#fb9f3a"
            ],
            [
             0.8888888888888888,
             "#fdca26"
            ],
            [
             1,
             "#f0f921"
            ]
           ]
          },
          "colorway": [
           "#636efa",
           "#EF553B",
           "#00cc96",
           "#ab63fa",
           "#FFA15A",
           "#19d3f3",
           "#FF6692",
           "#B6E880",
           "#FF97FF",
           "#FECB52"
          ],
          "font": {
           "color": "#2a3f5f"
          },
          "geo": {
           "bgcolor": "white",
           "lakecolor": "white",
           "landcolor": "#E5ECF6",
           "showlakes": true,
           "showland": true,
           "subunitcolor": "white"
          },
          "hoverlabel": {
           "align": "left"
          },
          "hovermode": "closest",
          "mapbox": {
           "style": "light"
          },
          "paper_bgcolor": "white",
          "plot_bgcolor": "#E5ECF6",
          "polar": {
           "angularaxis": {
            "gridcolor": "white",
            "linecolor": "white",
            "ticks": ""
           },
           "bgcolor": "#E5ECF6",
           "radialaxis": {
            "gridcolor": "white",
            "linecolor": "white",
            "ticks": ""
           }
          },
          "scene": {
           "xaxis": {
            "backgroundcolor": "#E5ECF6",
            "gridcolor": "white",
            "gridwidth": 2,
            "linecolor": "white",
            "showbackground": true,
            "ticks": "",
            "zerolinecolor": "white"
           },
           "yaxis": {
            "backgroundcolor": "#E5ECF6",
            "gridcolor": "white",
            "gridwidth": 2,
            "linecolor": "white",
            "showbackground": true,
            "ticks": "",
            "zerolinecolor": "white"
           },
           "zaxis": {
            "backgroundcolor": "#E5ECF6",
            "gridcolor": "white",
            "gridwidth": 2,
            "linecolor": "white",
            "showbackground": true,
            "ticks": "",
            "zerolinecolor": "white"
           }
          },
          "shapedefaults": {
           "line": {
            "color": "#2a3f5f"
           }
          },
          "ternary": {
           "aaxis": {
            "gridcolor": "white",
            "linecolor": "white",
            "ticks": ""
           },
           "baxis": {
            "gridcolor": "white",
            "linecolor": "white",
            "ticks": ""
           },
           "bgcolor": "#E5ECF6",
           "caxis": {
            "gridcolor": "white",
            "linecolor": "white",
            "ticks": ""
           }
          },
          "title": {
           "x": 0.05
          },
          "xaxis": {
           "automargin": true,
           "gridcolor": "white",
           "linecolor": "white",
           "ticks": "",
           "title": {
            "standoff": 15
           },
           "zerolinecolor": "white",
           "zerolinewidth": 2
          },
          "yaxis": {
           "automargin": true,
           "gridcolor": "white",
           "linecolor": "white",
           "ticks": "",
           "title": {
            "standoff": 15
           },
           "zerolinecolor": "white",
           "zerolinewidth": 2
          }
         }
        },
        "title": {
         "text": "Scores for Bayesian Optimization"
        },
        "xaxis": {
         "anchor": "y",
         "domain": [
          0,
          0.45
         ]
        },
        "xaxis2": {
         "anchor": "y2",
         "domain": [
          0.55,
          1
         ]
        },
        "xaxis3": {
         "anchor": "y3",
         "domain": [
          0,
          0.45
         ],
         "title": {
          "text": "Epoch"
         }
        },
        "xaxis4": {
         "anchor": "y4",
         "domain": [
          0.55,
          1
         ],
         "title": {
          "text": "Epoch"
         }
        },
        "yaxis": {
         "anchor": "x",
         "domain": [
          0.625,
          1
         ],
         "range": [
          0,
          1
         ],
         "title": {
          "text": "Scores"
         }
        },
        "yaxis2": {
         "anchor": "x2",
         "domain": [
          0.625,
          1
         ],
         "range": [
          0,
          1
         ]
        },
        "yaxis3": {
         "anchor": "x3",
         "domain": [
          0,
          0.375
         ],
         "range": [
          0,
          1
         ],
         "title": {
          "text": "Scores"
         }
        },
        "yaxis4": {
         "anchor": "x4",
         "domain": [
          0,
          0.375
         ],
         "range": [
          0,
          1
         ]
        }
       }
      }
     },
     "metadata": {},
     "output_type": "display_data"
    }
   ],
   "source": [
    "plot_history(results_bayes['XGboost']['scores_train'],\n",
    "             results_bayes['XGboost']['scores_test'],\n",
    "             'Bayesian')"
   ]
  },
  {
   "attachments": {},
   "cell_type": "markdown",
   "metadata": {
    "datalore": {
     "hide_input_from_viewers": true,
     "hide_output_from_viewers": true,
     "node_id": "C9XSmZuhRDDLSb2oHIk9Hv",
     "type": "MD"
    }
   },
   "source": [
    "### RandomForest"
   ]
  },
  {
   "cell_type": "code",
   "execution_count": 72,
   "metadata": {
    "datalore": {
     "hide_input_from_viewers": true,
     "hide_output_from_viewers": true,
     "node_id": "CbYAoSweFhgXWrxnzOKrk8",
     "type": "CODE"
    }
   },
   "outputs": [
    {
     "data": {
      "application/vnd.plotly.v1+json": {
       "config": {
        "plotlyServerURL": "https://plot.ly"
       },
       "data": [
        {
         "line": {
          "color": "blue"
         },
         "mode": "lines",
         "name": "Train Scores",
         "showlegend": true,
         "type": "scatter",
         "x": [
          1,
          2,
          3,
          4,
          5,
          6,
          7,
          8,
          9,
          10,
          11,
          12,
          13,
          14,
          15,
          16,
          17,
          18,
          19,
          20,
          21,
          22,
          23,
          24,
          25,
          26,
          27,
          28,
          29,
          30,
          31,
          32,
          33,
          34,
          35,
          36,
          37,
          38,
          39,
          40,
          41,
          42,
          43,
          44,
          45,
          46,
          47,
          48,
          49,
          50,
          51,
          52,
          53,
          54,
          55,
          56,
          57,
          58,
          59,
          60,
          61,
          62,
          63,
          64,
          65,
          66,
          67,
          68,
          69,
          70,
          71,
          72,
          73,
          74,
          75,
          76,
          77,
          78,
          79,
          80,
          81,
          82,
          83,
          84,
          85,
          86,
          87,
          88,
          89,
          90,
          91,
          92,
          93,
          94,
          95,
          96,
          97,
          98,
          99,
          100,
          101,
          102,
          103,
          104,
          105,
          106,
          107,
          108,
          109,
          110,
          111,
          112,
          113,
          114,
          115,
          116,
          117,
          118,
          119,
          120,
          121,
          122,
          123,
          124,
          125,
          126,
          127,
          128,
          129,
          130,
          131,
          132,
          133,
          134,
          135,
          136,
          137,
          138,
          139,
          140,
          141,
          142,
          143,
          144,
          145,
          146,
          147,
          148,
          149,
          150
         ],
         "xaxis": "x",
         "y": [
          0.39,
          0.39,
          0.39,
          0.39,
          0.9625,
          0.9125,
          0.9225000000000001,
          0.39,
          0.39,
          0.7550000000000001,
          0.97,
          0.9475,
          0.9674999999999999,
          0.9650000000000001,
          0.9625,
          0.8125,
          0.3,
          0.3,
          0.96,
          0.9625,
          0.5625,
          0.7775000000000001,
          0.9625,
          0.9475,
          0.9549999999999998,
          0.9650000000000001,
          0.8625,
          0.9625,
          0.9524999999999999,
          0.9625,
          0.9574999999999999,
          0.9674999999999999,
          0.9625,
          0.9475,
          0.9625,
          0.9675,
          0.9625,
          0.9574999999999999,
          0.9675,
          0.9650000000000001,
          0.9649999999999999,
          0.96,
          0.39,
          0.9650000000000001,
          0.8325000000000001,
          0.39,
          0.8675,
          0.9625,
          0.3,
          0.9450000000000001,
          0.96,
          0.3,
          0.96,
          0.9625,
          0.9625,
          0.9375,
          0.9650000000000001,
          0.96,
          0.9525,
          0.62,
          0.9625,
          0.9625,
          0.8724999999999999,
          0.9299999999999999,
          0.9574999999999999,
          0.9625,
          0.9625,
          0.945,
          0.9625,
          0.96,
          0.9574999999999999,
          0.9574999999999999,
          0.9574999999999999,
          0.9574999999999999,
          0.9550000000000001,
          0.9675,
          0.96,
          0.9574999999999999,
          0.9625,
          0.9499999999999998,
          0.9625,
          0.9549999999999998,
          0.9700000000000001,
          0.6725,
          0.9625,
          0.9625,
          0.9625,
          0.96,
          0.9625,
          0.9625,
          0.96,
          0.8675,
          0.9674999999999999,
          0.9625,
          0.9625,
          0.96,
          0.9625,
          0.9625,
          0.9200000000000002,
          0.9675,
          0.9700000000000001,
          0.9675,
          0.9625,
          0.9675,
          0.8775000000000001,
          0.9650000000000001,
          0.9649999999999999,
          0.96,
          0.9650000000000001,
          0.96,
          0.96,
          0.9625,
          0.9625,
          0.9625,
          0.9625,
          0.9550000000000001,
          0.9625,
          0.96,
          0.9574999999999999,
          0.9574999999999999,
          0.9650000000000001,
          0.96,
          0.9625,
          0.3,
          0.9574999999999999,
          0.3,
          0.96,
          0.9574999999999999,
          0.9525,
          0.9625,
          0.9625,
          0.9625,
          0.97,
          0.9625,
          0.96,
          0.9675,
          0.96,
          0.39,
          0.96,
          0.9574999999999999,
          0.9650000000000001,
          0.9574999999999999,
          0.9625,
          0.9625,
          0.9625,
          0.96,
          0.96,
          0.9650000000000001,
          0.96,
          0.3525
         ],
         "yaxis": "y"
        },
        {
         "line": {
          "color": "red"
         },
         "mode": "lines",
         "name": "Test Scores",
         "showlegend": true,
         "type": "scatter",
         "x": [
          1,
          2,
          3,
          4,
          5,
          6,
          7,
          8,
          9,
          10,
          11,
          12,
          13,
          14,
          15,
          16,
          17,
          18,
          19,
          20,
          21,
          22,
          23,
          24,
          25,
          26,
          27,
          28,
          29,
          30,
          31,
          32,
          33,
          34,
          35,
          36,
          37,
          38,
          39,
          40,
          41,
          42,
          43,
          44,
          45,
          46,
          47,
          48,
          49,
          50,
          51,
          52,
          53,
          54,
          55,
          56,
          57,
          58,
          59,
          60,
          61,
          62,
          63,
          64,
          65,
          66,
          67,
          68,
          69,
          70,
          71,
          72,
          73,
          74,
          75,
          76,
          77,
          78,
          79,
          80,
          81,
          82,
          83,
          84,
          85,
          86,
          87,
          88,
          89,
          90,
          91,
          92,
          93,
          94,
          95,
          96,
          97,
          98,
          99,
          100,
          101,
          102,
          103,
          104,
          105,
          106,
          107,
          108,
          109,
          110,
          111,
          112,
          113,
          114,
          115,
          116,
          117,
          118,
          119,
          120,
          121,
          122,
          123,
          124,
          125,
          126,
          127,
          128,
          129,
          130,
          131,
          132,
          133,
          134,
          135,
          136,
          137,
          138,
          139,
          140,
          141,
          142,
          143,
          144,
          145,
          146,
          147,
          148,
          149,
          150
         ],
         "xaxis": "x",
         "y": [
          0.38999999999999996,
          0.38999999999999996,
          0.38999999999999996,
          0.38999999999999996,
          0.9400000000000001,
          0.8799999999999999,
          0.89,
          0.38999999999999996,
          0.38999999999999996,
          0.7799999999999999,
          0.93,
          0.9299999999999999,
          0.9199999999999999,
          0.9400000000000001,
          0.9199999999999999,
          0.75,
          0.3,
          0.3,
          0.93,
          0.95,
          0.55,
          0.77,
          0.93,
          0.9400000000000001,
          0.9299999999999999,
          0.93,
          0.8800000000000001,
          0.95,
          0.9199999999999999,
          0.93,
          0.95,
          0.93,
          0.9400000000000001,
          0.9299999999999999,
          0.93,
          0.93,
          0.95,
          0.95,
          0.9199999999999999,
          0.9199999999999999,
          0.9099999999999999,
          0.93,
          0.38999999999999996,
          0.9199999999999999,
          0.82,
          0.38999999999999996,
          0.9099999999999999,
          0.9400000000000001,
          0.3,
          0.9099999999999999,
          0.93,
          0.3,
          0.95,
          0.9400000000000001,
          0.9400000000000001,
          0.9099999999999999,
          0.9199999999999999,
          0.95,
          0.9299999999999999,
          0.59,
          0.95,
          0.95,
          0.8699999999999999,
          0.9200000000000002,
          0.9400000000000001,
          0.9400000000000001,
          0.95,
          0.9199999999999999,
          0.93,
          0.9400000000000001,
          0.9400000000000001,
          0.9400000000000001,
          0.93,
          0.9199999999999999,
          0.9299999999999999,
          0.93,
          0.9199999999999999,
          0.93,
          0.93,
          0.93,
          0.93,
          0.9400000000000001,
          0.9199999999999999,
          0.6399999999999999,
          0.93,
          0.93,
          0.93,
          0.95,
          0.9400000000000001,
          0.9199999999999999,
          0.93,
          0.73,
          0.9199999999999999,
          0.9400000000000001,
          0.93,
          0.95,
          0.93,
          0.95,
          0.9099999999999999,
          0.9199999999999999,
          0.9199999999999999,
          0.93,
          0.9199999999999999,
          0.9199999999999999,
          0.8400000000000001,
          0.9400000000000001,
          0.9400000000000001,
          0.93,
          0.9199999999999999,
          0.93,
          0.93,
          0.9199999999999999,
          0.93,
          0.93,
          0.9199999999999999,
          0.9400000000000001,
          0.9199999999999999,
          0.95,
          0.95,
          0.95,
          0.9199999999999999,
          0.93,
          0.9400000000000001,
          0.3,
          0.9400000000000001,
          0.3,
          0.9400000000000001,
          0.93,
          0.9199999999999999,
          0.93,
          0.9400000000000001,
          0.93,
          0.9199999999999999,
          0.93,
          0.95,
          0.93,
          0.95,
          0.38999999999999996,
          0.95,
          0.9299999999999999,
          0.9199999999999999,
          0.9099999999999999,
          0.93,
          0.9400000000000001,
          0.93,
          0.93,
          0.9400000000000001,
          0.9199999999999999,
          0.9400000000000001,
          0.36
         ],
         "yaxis": "y"
        },
        {
         "line": {
          "color": "blue"
         },
         "mode": "lines",
         "name": "Train Scores",
         "showlegend": false,
         "type": "scatter",
         "x": [
          1,
          2,
          3,
          4,
          5,
          6,
          7,
          8,
          9,
          10,
          11,
          12,
          13,
          14,
          15,
          16,
          17,
          18,
          19,
          20,
          21,
          22,
          23,
          24,
          25,
          26,
          27,
          28,
          29,
          30,
          31,
          32,
          33,
          34,
          35,
          36,
          37,
          38,
          39,
          40,
          41,
          42,
          43,
          44,
          45,
          46,
          47,
          48,
          49,
          50,
          51,
          52,
          53,
          54,
          55,
          56,
          57,
          58,
          59,
          60,
          61,
          62,
          63,
          64,
          65,
          66,
          67,
          68,
          69,
          70,
          71,
          72,
          73,
          74,
          75,
          76,
          77,
          78,
          79,
          80,
          81,
          82,
          83,
          84,
          85,
          86,
          87,
          88,
          89,
          90,
          91,
          92,
          93,
          94,
          95,
          96,
          97,
          98,
          99,
          100,
          101,
          102,
          103,
          104,
          105,
          106,
          107,
          108,
          109,
          110,
          111,
          112,
          113,
          114,
          115,
          116,
          117,
          118,
          119,
          120,
          121,
          122,
          123,
          124,
          125,
          126,
          127,
          128,
          129,
          130,
          131,
          132,
          133,
          134,
          135,
          136,
          137,
          138,
          139,
          140,
          141,
          142,
          143,
          144,
          145,
          146,
          147,
          148,
          149,
          150
         ],
         "xaxis": "x2",
         "y": [
          0.5033791031967388,
          0.5033791031967388,
          0.5033791031967388,
          0.5033791031967388,
          0.7643567188729171,
          0.7415683329757563,
          0.7246620896803261,
          0.5033791031967388,
          0.5033791031967388,
          0.7120002860616463,
          0.5033791031967388,
          0.7288922262747622,
          0.6883572909962097,
          0.7702638918686977,
          0.7559143245369377,
          0.6993277551312308,
          0.7255166988486018,
          0.7423979117499822,
          0.7491525423728814,
          0.7077701494672102,
          0.7702638918686977,
          0.7280447686476437,
          0.5008403060859615,
          0.7246656654509046,
          0.759297003504255,
          0.7668812129013802,
          0.5000035757705785,
          0.7162268468855038,
          0.7601408853607953,
          0.7229743259672459,
          0.7297361081313023,
          0.5033791031967388,
          0.7364907387542015,
          0.6832904240863906,
          0.7246728169920618,
          0.7626689551598369,
          0.5033791031967388,
          0.7567546306228993,
          0.5033791031967388,
          0.7204462561682042,
          0.6200207394693557,
          0.5033791031967388,
          0.7711077737252379,
          0.7694271615533148,
          0.7677393978402346,
          0.7626653793892584,
          0.7660409068154188,
          0.5016913394836587,
          0.718758492455124,
          0.7288922262747622,
          0.7576056640205964,
          0.7609811914467568,
          0.7677322462990774,
          0.7542194092827004,
          0.7533683758850033,
          0.5033791031967388,
          0.7162161195737682,
          0.5033791031967388,
          0.7728062647500537,
          0.7601337338196381,
          0.7153686619466495,
          0.7128620467710791,
          0.7643531431023385,
          0.7635092612457985,
          0.7390188085532432,
          0.7035364371021955,
          0.6849960666523637,
          0.7440820996924837,
          0.7483122362869198,
          0.7550704426803977,
          0.7651970249588785,
          0.7077701494672102,
          0.7432453693771007,
          0.5033791031967388,
          0.7271973110205249,
          0.7466173210326825,
          0.7685797039261961,
          0.7483050847457626,
          0.7086176070943289,
          0.7660516341271544,
          0.7702674676392763,
          0.7635092612457985,
          0.5033791031967388,
          0.7584423943359794,
          0.7213008653364801,
          0.7626618036186799,
          0.7652041765000358,
          0.7179146105985839,
          0.7643531431023385,
          0.7238325109061002,
          0.7643602946434956,
          0.7609811914467567,
          0.7668847886719588,
          0.7322713294715011,
          0.7702781949510118,
          0.7694235857827362,
          0.7660444825859972,
          0.7575985124794393,
          0.7626653793892584,
          0.7651970249588786,
          0.7297289565901451,
          0.7592934277336767,
          0.7592934277336766,
          0.7592934277336766,
          0.7407065722663234,
          0.7474612028892226,
          0.7694235857827361,
          0.6191589787599228,
          0.7643531431023385,
          0.7609811914467567,
          0.7635021097046413,
          0.7601408853607953,
          0.5033791031967388,
          0.7212937137953228,
          0.7533683758850032,
          0.7179074590574268,
          0.5033791031967388,
          0.7516806121719232,
          0.7575949367088608,
          0.7719623828935135,
          0.7119895587499105,
          0.7449295573196024,
          0.7136844740041479,
          0.7719623828935135,
          0.7280483444182221,
          0.7626653793892584,
          0.7297361081313023,
          0.7305764142172639,
          0.7609847672173353,
          0.7263498533934063,
          0.7609811914467567,
          0.7018558249302725,
          0.5033791031967388,
          0.7398662661803618,
          0.7542229850532791,
          0.7618250733032969,
          0.4991525423728813,
          0.7626653793892583,
          0.7609811914467567,
          0.7567617821640564,
          0.7331080597868841,
          0.7609847672173353,
          0.7626725309304154,
          0.7423979117499822,
          0.7364907387542016,
          0.7635164127869556,
          0.763512837016377,
          0.7677358220696561,
          0.7491453908317242,
          0.7533755274261604
         ],
         "yaxis": "y2"
        },
        {
         "line": {
          "color": "red"
         },
         "mode": "lines",
         "name": "Test Scores",
         "showlegend": false,
         "type": "scatter",
         "x": [
          1,
          2,
          3,
          4,
          5,
          6,
          7,
          8,
          9,
          10,
          11,
          12,
          13,
          14,
          15,
          16,
          17,
          18,
          19,
          20,
          21,
          22,
          23,
          24,
          25,
          26,
          27,
          28,
          29,
          30,
          31,
          32,
          33,
          34,
          35,
          36,
          37,
          38,
          39,
          40,
          41,
          42,
          43,
          44,
          45,
          46,
          47,
          48,
          49,
          50,
          51,
          52,
          53,
          54,
          55,
          56,
          57,
          58,
          59,
          60,
          61,
          62,
          63,
          64,
          65,
          66,
          67,
          68,
          69,
          70,
          71,
          72,
          73,
          74,
          75,
          76,
          77,
          78,
          79,
          80,
          81,
          82,
          83,
          84,
          85,
          86,
          87,
          88,
          89,
          90,
          91,
          92,
          93,
          94,
          95,
          96,
          97,
          98,
          99,
          100,
          101,
          102,
          103,
          104,
          105,
          106,
          107,
          108,
          109,
          110,
          111,
          112,
          113,
          114,
          115,
          116,
          117,
          118,
          119,
          120,
          121,
          122,
          123,
          124,
          125,
          126,
          127,
          128,
          129,
          130,
          131,
          132,
          133,
          134,
          135,
          136,
          137,
          138,
          139,
          140,
          141,
          142,
          143,
          144,
          145,
          146,
          147,
          148,
          149,
          150
         ],
         "xaxis": "x2",
         "y": [
          0.5033898305084745,
          0.5033898305084745,
          0.5033898305084745,
          0.5033898305084745,
          0.7161581920903954,
          0.7127683615819208,
          0.7027118644067796,
          0.5033898305084745,
          0.5033898305084745,
          0.706045197740113,
          0.5033898305084745,
          0.7027118644067796,
          0.6216384180790959,
          0.7127683615819209,
          0.7228813559322034,
          0.6992655367231638,
          0.6959322033898305,
          0.7061581920903954,
          0.7262711864406779,
          0.699322033898305,
          0.7127683615819208,
          0.7094915254237287,
          0.5,
          0.6892090395480226,
          0.7296610169491526,
          0.7161016949152542,
          0.5033898305084745,
          0.6959887005649718,
          0.7094915254237287,
          0.6892090395480226,
          0.7061016949152542,
          0.5033898305084745,
          0.7027118644067796,
          0.6250282485875707,
          0.6959887005649718,
          0.712824858757062,
          0.5033898305084745,
          0.7061581920903954,
          0.5033898305084745,
          0.6925423728813559,
          0.6147457627118644,
          0.5033898305084745,
          0.7027683615819209,
          0.712824858757062,
          0.712824858757062,
          0.7194915254237287,
          0.7162711864406779,
          0.4966101694915254,
          0.7027683615819209,
          0.6959322033898305,
          0.7229378531073446,
          0.7061016949152542,
          0.7161581920903954,
          0.6892655367231638,
          0.7162146892655368,
          0.5033898305084745,
          0.6959887005649718,
          0.5033898305084745,
          0.7094350282485875,
          0.712824858757062,
          0.6959887005649718,
          0.6723728813559322,
          0.7162146892655367,
          0.7162711864406779,
          0.7094350282485876,
          0.6687005649717515,
          0.6689830508474575,
          0.6926553672316385,
          0.6892655367231638,
          0.7195480225988701,
          0.712824858757062,
          0.7027118644067796,
          0.7093785310734463,
          0.5033898305084745,
          0.7027118644067796,
          0.6927118644067797,
          0.7196610169491524,
          0.6993785310734463,
          0.6890960451977401,
          0.7162146892655367,
          0.7129378531073446,
          0.7196045197740112,
          0.5033898305084745,
          0.723050847457627,
          0.689322033898305,
          0.7062146892655367,
          0.71954802259887,
          0.7027118644067796,
          0.7229943502824858,
          0.6452542372881356,
          0.712824858757062,
          0.7162146892655367,
          0.7128813559322034,
          0.6959887005649718,
          0.7196045197740112,
          0.7297175141242938,
          0.7263276836158192,
          0.7062146892655367,
          0.7162146892655367,
          0.7263276836158192,
          0.6993785310734463,
          0.7161581920903954,
          0.7196045197740113,
          0.7162146892655367,
          0.7128248587570621,
          0.6961016949152542,
          0.7127683615819208,
          0.6316949152542373,
          0.7162146892655367,
          0.712824858757062,
          0.7127683615819209,
          0.7263276836158192,
          0.5033898305084745,
          0.6757062146892656,
          0.6927118644067797,
          0.6959322033898305,
          0.5033898305084745,
          0.6893785310734463,
          0.6961016949152542,
          0.7161581920903954,
          0.6959322033898305,
          0.6859322033898305,
          0.6891525423728814,
          0.712824858757062,
          0.7162711864406779,
          0.7229943502824858,
          0.7094350282485876,
          0.7027118644067796,
          0.7264406779661018,
          0.7061581920903954,
          0.7229943502824858,
          0.682316384180791,
          0.5033898305084745,
          0.6724293785310734,
          0.7129378531073447,
          0.7229378531073446,
          0.5067796610169492,
          0.7231073446327684,
          0.7297175141242938,
          0.7263841807909606,
          0.716271186440678,
          0.7229943502824858,
          0.7263276836158192,
          0.6825423728813559,
          0.7128813559322034,
          0.7229378531073446,
          0.7162711864406779,
          0.712824858757062,
          0.7162146892655368,
          0.7229943502824858
         ],
         "yaxis": "y2"
        },
        {
         "line": {
          "color": "blue"
         },
         "mode": "lines",
         "name": "Train Scores",
         "showlegend": false,
         "type": "scatter",
         "x": [
          1,
          2,
          3,
          4,
          5,
          6,
          7,
          8,
          9,
          10,
          11,
          12,
          13,
          14,
          15,
          16,
          17,
          18,
          19,
          20,
          21,
          22,
          23,
          24,
          25,
          26,
          27,
          28,
          29,
          30,
          31,
          32,
          33,
          34,
          35,
          36,
          37,
          38,
          39,
          40,
          41,
          42,
          43,
          44,
          45,
          46,
          47,
          48,
          49,
          50,
          51,
          52,
          53,
          54,
          55,
          56,
          57,
          58,
          59,
          60,
          61,
          62,
          63,
          64,
          65,
          66,
          67,
          68,
          69,
          70,
          71,
          72,
          73,
          74,
          75,
          76,
          77,
          78,
          79,
          80,
          81,
          82,
          83,
          84,
          85,
          86,
          87,
          88,
          89,
          90,
          91,
          92,
          93,
          94,
          95,
          96,
          97,
          98,
          99,
          100,
          101,
          102,
          103,
          104,
          105,
          106,
          107,
          108,
          109,
          110,
          111,
          112,
          113,
          114,
          115,
          116,
          117,
          118,
          119,
          120,
          121,
          122,
          123,
          124,
          125,
          126,
          127,
          128,
          129,
          130,
          131,
          132,
          133,
          134,
          135,
          136,
          137,
          138,
          139,
          140,
          141,
          142,
          143,
          144,
          145,
          146,
          147,
          148,
          149,
          150
         ],
         "xaxis": "x3",
         "y": [
          0.4201754385964912,
          0.4201754385964912,
          0.4201754385964912,
          0.4201754385964912,
          0.9852631578947367,
          0.8424122807017544,
          0.7752192982456141,
          0.4201754385964912,
          0.4201754385964912,
          0.75625,
          0.3613377192982456,
          0.9957894736842106,
          0.991578947368421,
          0.9810526315789474,
          0.9873684210526316,
          0.8864912280701753,
          0.7628070175438596,
          0.9810526315789474,
          0.991578947368421,
          0.7545833333333334,
          0.9894736842105264,
          0.983157894736842,
          0.9852631578947368,
          0.976842105263158,
          0.9894736842105264,
          0.9852631578947368,
          0.9852631578947368,
          0.9873684210526317,
          0.983157894736842,
          0.6173684210526316,
          0.991578947368421,
          0.9873684210526316,
          0.983157894736842,
          0.991578947368421,
          0.9894736842105264,
          0.9852631578947368,
          0.9873684210526316,
          0.9894736842105264,
          0.9095175438596492,
          0.9705482456140351,
          0.7605043859649123,
          0.8927631578947368,
          0.9810526315789474,
          0.4201754385964912,
          0.978969298245614,
          0.9873684210526316,
          0.991578947368421,
          0.9873684210526316,
          0.9894736842105264,
          0.983157894736842,
          0.991578947368421,
          0.9894736842105264,
          0.9852631578947368,
          0.9852631578947368,
          0.9873684210526316,
          0.991578947368421,
          0.9747368421052631,
          0.9747807017543859,
          0.9894736842105264,
          0.3613377192982456,
          0.9873684210526316,
          0.991578947368421,
          0.991578947368421,
          0.9894736842105264,
          0.991578947368421,
          0.9894736842105264,
          0.9873684210526316,
          0.9894736842105264,
          0.9852631578947368,
          0.9873684210526316,
          0.991578947368421,
          0.991578947368421,
          0.991578947368421,
          0.9873684210526316,
          0.9873684210526316,
          0.9873684210526316,
          0.9873684210526316,
          0.991578947368421,
          0.9873684210526316,
          0.9852631578947368,
          0.9873684210526316,
          0.991578947368421,
          0.9894736842105264,
          0.9873684210526316,
          0.991578947368421,
          0.9894736842105264,
          0.9894736842105264,
          0.9894736842105264,
          0.991578947368421,
          0.9894736842105264,
          0.991578947368421,
          0.991578947368421,
          0.9873684210526316,
          0.9894736842105264,
          0.9894736842105264,
          0.991578947368421,
          0.9894736842105264,
          0.9873684210526316,
          0.991578947368421,
          0.991578947368421,
          0.991578947368421,
          0.9894736842105264,
          0.9873684210526317,
          0.9873684210526316,
          0.9852631578947368,
          0.9894736842105264,
          0.991578947368421,
          0.9894736842105264,
          0.983157894736842,
          0.991578947368421,
          0.9894736842105264,
          0.991578947368421,
          0.9852631578947368,
          0.991578947368421,
          0.9873684210526316,
          0.991578947368421,
          0.9852631578947368,
          0.9873684210526316,
          0.9894736842105264,
          0.991578947368421,
          0.991578947368421,
          0.991578947368421,
          0.9894736842105264,
          0.9873684210526316,
          0.9894736842105264,
          0.991578947368421,
          0.991578947368421,
          0.9894736842105264,
          0.991578947368421,
          0.991578947368421,
          0.9894736842105264,
          0.991578947368421,
          0.9894736842105264,
          0.9894736842105264,
          0.991578947368421,
          0.991578947368421,
          0.991578947368421,
          0.991578947368421,
          0.991578947368421,
          0.991578947368421,
          0.9894736842105264,
          0.991578947368421,
          0.9873684210526316,
          0.9894736842105264,
          0.991578947368421,
          0.9894736842105264,
          0.9873684210526316,
          0.991578947368421,
          0.991578947368421,
          0.991578947368421
         ],
         "yaxis": "y3"
        },
        {
         "line": {
          "color": "red"
         },
         "mode": "lines",
         "name": "Test Scores",
         "showlegend": false,
         "type": "scatter",
         "x": [
          1,
          2,
          3,
          4,
          5,
          6,
          7,
          8,
          9,
          10,
          11,
          12,
          13,
          14,
          15,
          16,
          17,
          18,
          19,
          20,
          21,
          22,
          23,
          24,
          25,
          26,
          27,
          28,
          29,
          30,
          31,
          32,
          33,
          34,
          35,
          36,
          37,
          38,
          39,
          40,
          41,
          42,
          43,
          44,
          45,
          46,
          47,
          48,
          49,
          50,
          51,
          52,
          53,
          54,
          55,
          56,
          57,
          58,
          59,
          60,
          61,
          62,
          63,
          64,
          65,
          66,
          67,
          68,
          69,
          70,
          71,
          72,
          73,
          74,
          75,
          76,
          77,
          78,
          79,
          80,
          81,
          82,
          83,
          84,
          85,
          86,
          87,
          88,
          89,
          90,
          91,
          92,
          93,
          94,
          95,
          96,
          97,
          98,
          99,
          100,
          101,
          102,
          103,
          104,
          105,
          106,
          107,
          108,
          109,
          110,
          111,
          112,
          113,
          114,
          115,
          116,
          117,
          118,
          119,
          120,
          121,
          122,
          123,
          124,
          125,
          126,
          127,
          128,
          129,
          130,
          131,
          132,
          133,
          134,
          135,
          136,
          137,
          138,
          139,
          140,
          141,
          142,
          143,
          144,
          145,
          146,
          147,
          148,
          149,
          150
         ],
         "xaxis": "x3",
         "y": [
          0.42028985507246375,
          0.42028985507246375,
          0.42028985507246375,
          0.42028985507246375,
          0.9572463768115943,
          0.8148550724637682,
          0.7557971014492754,
          0.42028985507246375,
          0.42028985507246375,
          0.7391304347826086,
          0.361231884057971,
          0.9655797101449275,
          0.9572463768115943,
          0.9572463768115943,
          0.9572463768115943,
          0.8065217391304348,
          0.756159420289855,
          0.9655797101449275,
          0.9659420289855072,
          0.7213768115942029,
          0.9659420289855072,
          0.9655797101449275,
          0.9655797101449275,
          0.9326086956521739,
          0.9659420289855072,
          0.9572463768115943,
          0.9572463768115943,
          0.923913043478261,
          0.9489130434782609,
          0.5634057971014492,
          0.9659420289855072,
          0.9659420289855072,
          0.9572463768115943,
          0.9659420289855072,
          0.9742753623188406,
          0.9655797101449275,
          0.9659420289855072,
          0.9576086956521739,
          0.8481884057971015,
          0.9489130434782609,
          0.6967391304347826,
          0.8481884057971014,
          0.9489130434782609,
          0.42028985507246375,
          0.923913043478261,
          0.9572463768115943,
          0.9572463768115943,
          0.9659420289855072,
          0.9659420289855072,
          0.9155797101449276,
          0.9659420289855072,
          0.9742753623188406,
          0.9739130434782609,
          0.9655797101449275,
          0.9659420289855072,
          0.9659420289855072,
          0.9405797101449276,
          0.9489130434782609,
          0.9659420289855072,
          0.361231884057971,
          0.9659420289855072,
          0.9742753623188406,
          0.9659420289855072,
          0.9659420289855072,
          0.9659420289855072,
          0.9659420289855072,
          0.9659420289855072,
          0.9742753623188406,
          0.9572463768115943,
          0.9659420289855072,
          0.9659420289855072,
          0.9659420289855072,
          0.9659420289855072,
          0.9572463768115943,
          0.9742753623188406,
          0.9659420289855072,
          0.9659420289855072,
          0.9655797101449275,
          0.9742753623188406,
          0.9655797101449275,
          0.9659420289855072,
          0.9659420289855072,
          0.9659420289855072,
          0.9659420289855072,
          0.9659420289855072,
          0.9572463768115943,
          0.9742753623188406,
          0.9572463768115943,
          0.9659420289855072,
          0.9659420289855072,
          0.9742753623188406,
          0.9659420289855072,
          0.9659420289855072,
          0.9659420289855072,
          0.9659420289855072,
          0.9659420289855072,
          0.9659420289855072,
          0.9572463768115943,
          0.9659420289855072,
          0.9659420289855072,
          0.9659420289855072,
          0.9742753623188406,
          0.9742753623188406,
          0.9739130434782609,
          0.9572463768115942,
          0.9572463768115943,
          0.9659420289855072,
          0.9659420289855072,
          0.9655797101449275,
          0.9659420289855072,
          0.9659420289855072,
          0.9659420289855072,
          0.9742753623188406,
          0.9659420289855072,
          0.9659420289855072,
          0.9659420289855072,
          0.9489130434782609,
          0.9659420289855072,
          0.9659420289855072,
          0.9572463768115943,
          0.9659420289855072,
          0.9659420289855072,
          0.9659420289855072,
          0.9742753623188406,
          0.9572463768115943,
          0.9659420289855072,
          0.9659420289855072,
          0.9742753623188406,
          0.9742753623188406,
          0.9572463768115943,
          0.9659420289855072,
          0.9659420289855072,
          0.9655797101449275,
          0.9659420289855072,
          0.9742753623188406,
          0.9659420289855072,
          0.9659420289855072,
          0.9659420289855072,
          0.9659420289855072,
          0.9659420289855072,
          0.9659420289855072,
          0.9659420289855072,
          0.9742753623188406,
          0.9659420289855072,
          0.9659420289855072,
          0.9742753623188406,
          0.9572463768115943,
          0.9659420289855072,
          0.9659420289855072,
          0.9659420289855072
         ],
         "yaxis": "y3"
        },
        {
         "line": {
          "color": "blue"
         },
         "mode": "lines",
         "name": "Train Scores",
         "showlegend": false,
         "type": "scatter",
         "x": [
          1,
          2,
          3,
          4,
          5,
          6,
          7,
          8,
          9,
          10,
          11,
          12,
          13,
          14,
          15,
          16,
          17,
          18,
          19,
          20,
          21,
          22,
          23,
          24,
          25,
          26,
          27,
          28,
          29,
          30,
          31,
          32,
          33,
          34,
          35,
          36,
          37,
          38,
          39,
          40,
          41,
          42,
          43,
          44,
          45,
          46,
          47,
          48,
          49,
          50,
          51,
          52,
          53,
          54,
          55,
          56,
          57,
          58,
          59,
          60,
          61,
          62,
          63,
          64,
          65,
          66,
          67,
          68,
          69,
          70,
          71,
          72,
          73,
          74,
          75,
          76,
          77,
          78,
          79,
          80,
          81,
          82,
          83,
          84,
          85,
          86,
          87,
          88,
          89,
          90,
          91,
          92,
          93,
          94,
          95,
          96,
          97,
          98,
          99,
          100,
          101,
          102,
          103,
          104,
          105,
          106,
          107,
          108,
          109,
          110,
          111,
          112,
          113,
          114,
          115,
          116,
          117,
          118,
          119,
          120,
          121,
          122,
          123,
          124,
          125,
          126,
          127,
          128,
          129,
          130,
          131,
          132,
          133,
          134,
          135,
          136,
          137,
          138,
          139,
          140,
          141,
          142,
          143,
          144,
          145,
          146,
          147,
          148,
          149,
          150
         ],
         "xaxis": "x4",
         "y": [
          0.6404206212251942,
          0.6404206212251942,
          0.6404206212251942,
          0.6404206212251942,
          0.931102243313201,
          0.9166716997411563,
          0.9035396893874029,
          0.6404206212251942,
          0.6404206212251942,
          0.9074827437446074,
          0.35957937877480584,
          0.9284728213977568,
          0.8837855910267471,
          0.9356945642795512,
          0.931757981018119,
          0.6404206212251942,
          0.9245448662640208,
          0.9074762726488352,
          0.8976402070750646,
          0.6404206212251942,
          0.9094477998274375,
          0.9173231233822261,
          0.9133843830888697,
          0.9068313201035376,
          0.9363546160483175,
          0.8156622088006902,
          0.929788610871441,
          0.9363503019844694,
          0.9212597066436583,
          0.9291307161345987,
          0.9258477135461604,
          0.860890854184642,
          0.9337208800690251,
          0.9179788610871441,
          0.9337273511647972,
          0.9376660914581535,
          0.9206018119068162,
          0.9370060396893873,
          0.931100086281277,
          0.6404206212251942,
          0.85696505608283,
          0.9363503019844694,
          0.9009210526315788,
          0.9330716134598791,
          0.9376639344262294,
          0.9343809318377913,
          0.9363503019844694,
          0.9350388265746332,
          0.9219219154443486,
          0.9356924072476274,
          0.9370103537532355,
          0.9304465056082829,
          0.9350409836065573,
          0.9127286453839517,
          0.7571807592752373,
          0.35957937877480584,
          0.9140422778257118,
          0.9120707506471095,
          0.9297821397756687,
          0.9363524590163934,
          0.9350366695427093,
          0.9376660914581535,
          0.914044434857636,
          0.9383218291630715,
          0.9284728213977568,
          0.8602502157031923,
          0.9087942191544434,
          0.9252006039689388,
          0.9356945642795514,
          0.9370103537532355,
          0.9350366695427093,
          0.9356880931837791,
          0.9376639344262294,
          0.9356967213114753,
          0.9350345125107852,
          0.35957937877480584,
          0.9363546160483175,
          0.9350388265746334,
          0.9376660914581535,
          0.9363503019844694,
          0.9271635030198446,
          0.9324137187230372,
          0.9199482312338223,
          0.6404206212251942,
          0.88845340811044,
          0.9376596203623814,
          0.9350409836065573,
          0.9376660914581535,
          0.9356924072476274,
          0.8385828300258844,
          0.6404206212251942,
          0.9350345125107852,
          0.9376660914581535,
          0.9343809318377913,
          0.8917342536669542,
          0.9186367558239862,
          0.9389775668679896,
          0.9343787748058672,
          0.9356945642795514,
          0.8956751509922347,
          0.9278213977566869,
          0.9278192407247626,
          0.9258584987057809,
          0.9370103537532355,
          0.9363503019844694,
          0.9363524590163934,
          0.9297842968075928,
          0.9087942191544434,
          0.9330694564279552,
          0.9370103537532355,
          0.9146937014667819,
          0.9376660914581535,
          0.9271635030198446,
          0.9271635030198446,
          0.9206061259706644,
          0.9074805867126832,
          0.6404206212251942,
          0.9074827437446075,
          0.9068248490077652,
          0.9376639344262294,
          0.9376660914581535,
          0.9258563416738568,
          0.9271613459879205,
          0.9356945642795514,
          0.9343787748058672,
          0.9363503019844694,
          0.9356924072476274,
          0.9245427092320966,
          0.9350345125107852,
          0.9350366695427093,
          0.6404206212251942,
          0.9376660914581535,
          0.9324158757549611,
          0.9376660914581535,
          0.9317579810181191,
          0.9238848144952545,
          0.931757981018119,
          0.8772972389991371,
          0.9356967213114753,
          0.9376660914581535,
          0.9370103537532355,
          0.6404206212251942,
          0.9370081967213114,
          0.9278213977566867,
          0.9363503019844694,
          0.9160138050043141,
          0.9343830888697152,
          0.9356945642795514,
          0.8772972389991371,
          0.931100086281277
         ],
         "yaxis": "y4"
        },
        {
         "line": {
          "color": "red"
         },
         "mode": "lines",
         "name": "Test Scores",
         "showlegend": false,
         "type": "scatter",
         "x": [
          1,
          2,
          3,
          4,
          5,
          6,
          7,
          8,
          9,
          10,
          11,
          12,
          13,
          14,
          15,
          16,
          17,
          18,
          19,
          20,
          21,
          22,
          23,
          24,
          25,
          26,
          27,
          28,
          29,
          30,
          31,
          32,
          33,
          34,
          35,
          36,
          37,
          38,
          39,
          40,
          41,
          42,
          43,
          44,
          45,
          46,
          47,
          48,
          49,
          50,
          51,
          52,
          53,
          54,
          55,
          56,
          57,
          58,
          59,
          60,
          61,
          62,
          63,
          64,
          65,
          66,
          67,
          68,
          69,
          70,
          71,
          72,
          73,
          74,
          75,
          76,
          77,
          78,
          79,
          80,
          81,
          82,
          83,
          84,
          85,
          86,
          87,
          88,
          89,
          90,
          91,
          92,
          93,
          94,
          95,
          96,
          97,
          98,
          99,
          100,
          101,
          102,
          103,
          104,
          105,
          106,
          107,
          108,
          109,
          110,
          111,
          112,
          113,
          114,
          115,
          116,
          117,
          118,
          119,
          120,
          121,
          122,
          123,
          124,
          125,
          126,
          127,
          128,
          129,
          130,
          131,
          132,
          133,
          134,
          135,
          136,
          137,
          138,
          139,
          140,
          141,
          142,
          143,
          144,
          145,
          146,
          147,
          148,
          149,
          150
         ],
         "xaxis": "x4",
         "y": [
          0.6404306220095695,
          0.6404306220095695,
          0.6404306220095695,
          0.6404306220095695,
          0.9211893369788106,
          0.9081681476418317,
          0.8845181134654819,
          0.6404306220095695,
          0.6404306220095695,
          0.8976760082023241,
          0.35956937799043054,
          0.9107655502392344,
          0.8715311004784689,
          0.9133971291866029,
          0.9185577580314422,
          0.6404306220095695,
          0.9159945317840055,
          0.8976076555023924,
          0.8818865345181134,
          0.6404306220095695,
          0.9002392344497607,
          0.8922761449077239,
          0.894941900205058,
          0.8712576896787423,
          0.9186261107313738,
          0.8107313738892685,
          0.9185577580314422,
          0.918591934381408,
          0.9081339712918661,
          0.9002050580997949,
          0.9107313738892685,
          0.8451811346548188,
          0.9133287764866711,
          0.9081339712918661,
          0.9185919343814082,
          0.9159945317840055,
          0.9133971291866029,
          0.9080656185919344,
          0.9133971291866029,
          0.6404306220095695,
          0.8291182501708818,
          0.9159945317840055,
          0.8924128503075872,
          0.9186261107313738,
          0.9159945317840055,
          0.9080656185919344,
          0.9106971975393028,
          0.9159603554340396,
          0.9133971291866029,
          0.9159945317840055,
          0.9159945317840055,
          0.9107313738892685,
          0.9160287081339712,
          0.9002392344497607,
          0.756015037593985,
          0.35956937799043054,
          0.9028708133971293,
          0.9028708133971293,
          0.9107313738892687,
          0.9186261107313738,
          0.9133287764866711,
          0.913362952836637,
          0.8923103212576897,
          0.918591934381408,
          0.9133971291866029,
          0.8634996582365003,
          0.8976076555023924,
          0.9028366370471634,
          0.918591934381408,
          0.9185919343814082,
          0.9133287764866711,
          0.9106971975393028,
          0.9133287764866711,
          0.9186261107313738,
          0.918591934381408,
          0.35956937799043054,
          0.9080656185919344,
          0.913362952836637,
          0.9186261107313738,
          0.913362952836637,
          0.9002392344497607,
          0.9133971291866029,
          0.9081339712918661,
          0.6404306220095695,
          0.8740259740259739,
          0.9080656185919344,
          0.9133287764866711,
          0.9186261107313738,
          0.9159945317840055,
          0.8320232399179768,
          0.6404306220095695,
          0.9080656185919344,
          0.9159945317840055,
          0.913362952836637,
          0.8845181134654819,
          0.9055023923444976,
          0.9186261107313738,
          0.9080656185919344,
          0.918591934381408,
          0.884483937115516,
          0.9133971291866029,
          0.9107655502392344,
          0.913362952836637,
          0.9133287764866711,
          0.9159945317840055,
          0.918591934381408,
          0.9133287764866711,
          0.8976076555023924,
          0.9133287764866711,
          0.913362952836637,
          0.9002392344497607,
          0.9159603554340396,
          0.9159945317840055,
          0.9133287764866711,
          0.9133971291866029,
          0.8976076555023924,
          0.6404306220095695,
          0.894941900205058,
          0.9002392344497607,
          0.918591934381408,
          0.9159945317840055,
          0.9160287081339714,
          0.9054682159945318,
          0.9159945317840055,
          0.918591934381408,
          0.913362952836637,
          0.9159945317840055,
          0.9186602870813397,
          0.9212235133287765,
          0.913362952836637,
          0.6404306220095695,
          0.9186261107313738,
          0.9211893369788106,
          0.9107313738892687,
          0.9212235133287765,
          0.9186602870813397,
          0.9211893369788106,
          0.8740601503759399,
          0.9212235133287765,
          0.9212235133287765,
          0.9106971975393028,
          0.6404306220095695,
          0.918591934381408,
          0.9028366370471634,
          0.9212235133287765,
          0.9055023923444978,
          0.9212235133287765,
          0.9159603554340396,
          0.8740601503759399,
          0.9185919343814082
         ],
         "yaxis": "y4"
        }
       ],
       "layout": {
        "annotations": [
         {
          "font": {
           "size": 16
          },
          "showarrow": false,
          "text": "Dataset: iris",
          "x": 0.225,
          "xanchor": "center",
          "xref": "paper",
          "y": 1,
          "yanchor": "bottom",
          "yref": "paper"
         },
         {
          "font": {
           "size": 16
          },
          "showarrow": false,
          "text": "Dataset: diabetes",
          "x": 0.775,
          "xanchor": "center",
          "xref": "paper",
          "y": 1,
          "yanchor": "bottom",
          "yref": "paper"
         },
         {
          "font": {
           "size": 16
          },
          "showarrow": false,
          "text": "Dataset: wine",
          "x": 0.225,
          "xanchor": "center",
          "xref": "paper",
          "y": 0.375,
          "yanchor": "bottom",
          "yref": "paper"
         },
         {
          "font": {
           "size": 16
          },
          "showarrow": false,
          "text": "Dataset: breast",
          "x": 0.775,
          "xanchor": "center",
          "xref": "paper",
          "y": 0.375,
          "yanchor": "bottom",
          "yref": "paper"
         }
        ],
        "template": {
         "data": {
          "bar": [
           {
            "error_x": {
             "color": "#2a3f5f"
            },
            "error_y": {
             "color": "#2a3f5f"
            },
            "marker": {
             "line": {
              "color": "#E5ECF6",
              "width": 0.5
             },
             "pattern": {
              "fillmode": "overlay",
              "size": 10,
              "solidity": 0.2
             }
            },
            "type": "bar"
           }
          ],
          "barpolar": [
           {
            "marker": {
             "line": {
              "color": "#E5ECF6",
              "width": 0.5
             },
             "pattern": {
              "fillmode": "overlay",
              "size": 10,
              "solidity": 0.2
             }
            },
            "type": "barpolar"
           }
          ],
          "carpet": [
           {
            "aaxis": {
             "endlinecolor": "#2a3f5f",
             "gridcolor": "white",
             "linecolor": "white",
             "minorgridcolor": "white",
             "startlinecolor": "#2a3f5f"
            },
            "baxis": {
             "endlinecolor": "#2a3f5f",
             "gridcolor": "white",
             "linecolor": "white",
             "minorgridcolor": "white",
             "startlinecolor": "#2a3f5f"
            },
            "type": "carpet"
           }
          ],
          "choropleth": [
           {
            "colorbar": {
             "outlinewidth": 0,
             "ticks": ""
            },
            "type": "choropleth"
           }
          ],
          "contour": [
           {
            "colorbar": {
             "outlinewidth": 0,
             "ticks": ""
            },
            "colorscale": [
             [
              0,
              "#0d0887"
             ],
             [
              0.1111111111111111,
              "#46039f"
             ],
             [
              0.2222222222222222,
              "#7201a8"
             ],
             [
              0.3333333333333333,
              "#9c179e"
             ],
             [
              0.4444444444444444,
              "#bd3786"
             ],
             [
              0.5555555555555556,
              "#d8576b"
             ],
             [
              0.6666666666666666,
              "#ed7953"
             ],
             [
              0.7777777777777778,
              "#fb9f3a"
             ],
             [
              0.8888888888888888,
              "#fdca26"
             ],
             [
              1,
              "#f0f921"
             ]
            ],
            "type": "contour"
           }
          ],
          "contourcarpet": [
           {
            "colorbar": {
             "outlinewidth": 0,
             "ticks": ""
            },
            "type": "contourcarpet"
           }
          ],
          "heatmap": [
           {
            "colorbar": {
             "outlinewidth": 0,
             "ticks": ""
            },
            "colorscale": [
             [
              0,
              "#0d0887"
             ],
             [
              0.1111111111111111,
              "#46039f"
             ],
             [
              0.2222222222222222,
              "#7201a8"
             ],
             [
              0.3333333333333333,
              "#9c179e"
             ],
             [
              0.4444444444444444,
              "#bd3786"
             ],
             [
              0.5555555555555556,
              "#d8576b"
             ],
             [
              0.6666666666666666,
              "#ed7953"
             ],
             [
              0.7777777777777778,
              "#fb9f3a"
             ],
             [
              0.8888888888888888,
              "#fdca26"
             ],
             [
              1,
              "#f0f921"
             ]
            ],
            "type": "heatmap"
           }
          ],
          "heatmapgl": [
           {
            "colorbar": {
             "outlinewidth": 0,
             "ticks": ""
            },
            "colorscale": [
             [
              0,
              "#0d0887"
             ],
             [
              0.1111111111111111,
              "#46039f"
             ],
             [
              0.2222222222222222,
              "#7201a8"
             ],
             [
              0.3333333333333333,
              "#9c179e"
             ],
             [
              0.4444444444444444,
              "#bd3786"
             ],
             [
              0.5555555555555556,
              "#d8576b"
             ],
             [
              0.6666666666666666,
              "#ed7953"
             ],
             [
              0.7777777777777778,
              "#fb9f3a"
             ],
             [
              0.8888888888888888,
              "#fdca26"
             ],
             [
              1,
              "#f0f921"
             ]
            ],
            "type": "heatmapgl"
           }
          ],
          "histogram": [
           {
            "marker": {
             "pattern": {
              "fillmode": "overlay",
              "size": 10,
              "solidity": 0.2
             }
            },
            "type": "histogram"
           }
          ],
          "histogram2d": [
           {
            "colorbar": {
             "outlinewidth": 0,
             "ticks": ""
            },
            "colorscale": [
             [
              0,
              "#0d0887"
             ],
             [
              0.1111111111111111,
              "#46039f"
             ],
             [
              0.2222222222222222,
              "#7201a8"
             ],
             [
              0.3333333333333333,
              "#9c179e"
             ],
             [
              0.4444444444444444,
              "#bd3786"
             ],
             [
              0.5555555555555556,
              "#d8576b"
             ],
             [
              0.6666666666666666,
              "#ed7953"
             ],
             [
              0.7777777777777778,
              "#fb9f3a"
             ],
             [
              0.8888888888888888,
              "#fdca26"
             ],
             [
              1,
              "#f0f921"
             ]
            ],
            "type": "histogram2d"
           }
          ],
          "histogram2dcontour": [
           {
            "colorbar": {
             "outlinewidth": 0,
             "ticks": ""
            },
            "colorscale": [
             [
              0,
              "#0d0887"
             ],
             [
              0.1111111111111111,
              "#46039f"
             ],
             [
              0.2222222222222222,
              "#7201a8"
             ],
             [
              0.3333333333333333,
              "#9c179e"
             ],
             [
              0.4444444444444444,
              "#bd3786"
             ],
             [
              0.5555555555555556,
              "#d8576b"
             ],
             [
              0.6666666666666666,
              "#ed7953"
             ],
             [
              0.7777777777777778,
              "#fb9f3a"
             ],
             [
              0.8888888888888888,
              "#fdca26"
             ],
             [
              1,
              "#f0f921"
             ]
            ],
            "type": "histogram2dcontour"
           }
          ],
          "mesh3d": [
           {
            "colorbar": {
             "outlinewidth": 0,
             "ticks": ""
            },
            "type": "mesh3d"
           }
          ],
          "parcoords": [
           {
            "line": {
             "colorbar": {
              "outlinewidth": 0,
              "ticks": ""
             }
            },
            "type": "parcoords"
           }
          ],
          "pie": [
           {
            "automargin": true,
            "type": "pie"
           }
          ],
          "scatter": [
           {
            "fillpattern": {
             "fillmode": "overlay",
             "size": 10,
             "solidity": 0.2
            },
            "type": "scatter"
           }
          ],
          "scatter3d": [
           {
            "line": {
             "colorbar": {
              "outlinewidth": 0,
              "ticks": ""
             }
            },
            "marker": {
             "colorbar": {
              "outlinewidth": 0,
              "ticks": ""
             }
            },
            "type": "scatter3d"
           }
          ],
          "scattercarpet": [
           {
            "marker": {
             "colorbar": {
              "outlinewidth": 0,
              "ticks": ""
             }
            },
            "type": "scattercarpet"
           }
          ],
          "scattergeo": [
           {
            "marker": {
             "colorbar": {
              "outlinewidth": 0,
              "ticks": ""
             }
            },
            "type": "scattergeo"
           }
          ],
          "scattergl": [
           {
            "marker": {
             "colorbar": {
              "outlinewidth": 0,
              "ticks": ""
             }
            },
            "type": "scattergl"
           }
          ],
          "scattermapbox": [
           {
            "marker": {
             "colorbar": {
              "outlinewidth": 0,
              "ticks": ""
             }
            },
            "type": "scattermapbox"
           }
          ],
          "scatterpolar": [
           {
            "marker": {
             "colorbar": {
              "outlinewidth": 0,
              "ticks": ""
             }
            },
            "type": "scatterpolar"
           }
          ],
          "scatterpolargl": [
           {
            "marker": {
             "colorbar": {
              "outlinewidth": 0,
              "ticks": ""
             }
            },
            "type": "scatterpolargl"
           }
          ],
          "scatterternary": [
           {
            "marker": {
             "colorbar": {
              "outlinewidth": 0,
              "ticks": ""
             }
            },
            "type": "scatterternary"
           }
          ],
          "surface": [
           {
            "colorbar": {
             "outlinewidth": 0,
             "ticks": ""
            },
            "colorscale": [
             [
              0,
              "#0d0887"
             ],
             [
              0.1111111111111111,
              "#46039f"
             ],
             [
              0.2222222222222222,
              "#7201a8"
             ],
             [
              0.3333333333333333,
              "#9c179e"
             ],
             [
              0.4444444444444444,
              "#bd3786"
             ],
             [
              0.5555555555555556,
              "#d8576b"
             ],
             [
              0.6666666666666666,
              "#ed7953"
             ],
             [
              0.7777777777777778,
              "#fb9f3a"
             ],
             [
              0.8888888888888888,
              "#fdca26"
             ],
             [
              1,
              "#f0f921"
             ]
            ],
            "type": "surface"
           }
          ],
          "table": [
           {
            "cells": {
             "fill": {
              "color": "#EBF0F8"
             },
             "line": {
              "color": "white"
             }
            },
            "header": {
             "fill": {
              "color": "#C8D4E3"
             },
             "line": {
              "color": "white"
             }
            },
            "type": "table"
           }
          ]
         },
         "layout": {
          "annotationdefaults": {
           "arrowcolor": "#2a3f5f",
           "arrowhead": 0,
           "arrowwidth": 1
          },
          "autotypenumbers": "strict",
          "coloraxis": {
           "colorbar": {
            "outlinewidth": 0,
            "ticks": ""
           }
          },
          "colorscale": {
           "diverging": [
            [
             0,
             "#8e0152"
            ],
            [
             0.1,
             "#c51b7d"
            ],
            [
             0.2,
             "#de77ae"
            ],
            [
             0.3,
             "#f1b6da"
            ],
            [
             0.4,
             "#fde0ef"
            ],
            [
             0.5,
             "#f7f7f7"
            ],
            [
             0.6,
             "#e6f5d0"
            ],
            [
             0.7,
             "#b8e186"
            ],
            [
             0.8,
             "#7fbc41"
            ],
            [
             0.9,
             "#4d9221"
            ],
            [
             1,
             "#276419"
            ]
           ],
           "sequential": [
            [
             0,
             "#0d0887"
            ],
            [
             0.1111111111111111,
             "#46039f"
            ],
            [
             0.2222222222222222,
             "#7201a8"
            ],
            [
             0.3333333333333333,
             "#9c179e"
            ],
            [
             0.4444444444444444,
             "#bd3786"
            ],
            [
             0.5555555555555556,
             "#d8576b"
            ],
            [
             0.6666666666666666,
             "#ed7953"
            ],
            [
             0.7777777777777778,
             "#fb9f3a"
            ],
            [
             0.8888888888888888,
             "#fdca26"
            ],
            [
             1,
             "#f0f921"
            ]
           ],
           "sequentialminus": [
            [
             0,
             "#0d0887"
            ],
            [
             0.1111111111111111,
             "#46039f"
            ],
            [
             0.2222222222222222,
             "#7201a8"
            ],
            [
             0.3333333333333333,
             "#9c179e"
            ],
            [
             0.4444444444444444,
             "#bd3786"
            ],
            [
             0.5555555555555556,
             "#d8576b"
            ],
            [
             0.6666666666666666,
             "#ed7953"
            ],
            [
             0.7777777777777778,
             "#fb9f3a"
            ],
            [
             0.8888888888888888,
             "#fdca26"
            ],
            [
             1,
             "#f0f921"
            ]
           ]
          },
          "colorway": [
           "#636efa",
           "#EF553B",
           "#00cc96",
           "#ab63fa",
           "#FFA15A",
           "#19d3f3",
           "#FF6692",
           "#B6E880",
           "#FF97FF",
           "#FECB52"
          ],
          "font": {
           "color": "#2a3f5f"
          },
          "geo": {
           "bgcolor": "white",
           "lakecolor": "white",
           "landcolor": "#E5ECF6",
           "showlakes": true,
           "showland": true,
           "subunitcolor": "white"
          },
          "hoverlabel": {
           "align": "left"
          },
          "hovermode": "closest",
          "mapbox": {
           "style": "light"
          },
          "paper_bgcolor": "white",
          "plot_bgcolor": "#E5ECF6",
          "polar": {
           "angularaxis": {
            "gridcolor": "white",
            "linecolor": "white",
            "ticks": ""
           },
           "bgcolor": "#E5ECF6",
           "radialaxis": {
            "gridcolor": "white",
            "linecolor": "white",
            "ticks": ""
           }
          },
          "scene": {
           "xaxis": {
            "backgroundcolor": "#E5ECF6",
            "gridcolor": "white",
            "gridwidth": 2,
            "linecolor": "white",
            "showbackground": true,
            "ticks": "",
            "zerolinecolor": "white"
           },
           "yaxis": {
            "backgroundcolor": "#E5ECF6",
            "gridcolor": "white",
            "gridwidth": 2,
            "linecolor": "white",
            "showbackground": true,
            "ticks": "",
            "zerolinecolor": "white"
           },
           "zaxis": {
            "backgroundcolor": "#E5ECF6",
            "gridcolor": "white",
            "gridwidth": 2,
            "linecolor": "white",
            "showbackground": true,
            "ticks": "",
            "zerolinecolor": "white"
           }
          },
          "shapedefaults": {
           "line": {
            "color": "#2a3f5f"
           }
          },
          "ternary": {
           "aaxis": {
            "gridcolor": "white",
            "linecolor": "white",
            "ticks": ""
           },
           "baxis": {
            "gridcolor": "white",
            "linecolor": "white",
            "ticks": ""
           },
           "bgcolor": "#E5ECF6",
           "caxis": {
            "gridcolor": "white",
            "linecolor": "white",
            "ticks": ""
           }
          },
          "title": {
           "x": 0.05
          },
          "xaxis": {
           "automargin": true,
           "gridcolor": "white",
           "linecolor": "white",
           "ticks": "",
           "title": {
            "standoff": 15
           },
           "zerolinecolor": "white",
           "zerolinewidth": 2
          },
          "yaxis": {
           "automargin": true,
           "gridcolor": "white",
           "linecolor": "white",
           "ticks": "",
           "title": {
            "standoff": 15
           },
           "zerolinecolor": "white",
           "zerolinewidth": 2
          }
         }
        },
        "title": {
         "text": "Scores for Bayesian Optimization"
        },
        "xaxis": {
         "anchor": "y",
         "domain": [
          0,
          0.45
         ]
        },
        "xaxis2": {
         "anchor": "y2",
         "domain": [
          0.55,
          1
         ]
        },
        "xaxis3": {
         "anchor": "y3",
         "domain": [
          0,
          0.45
         ],
         "title": {
          "text": "Epoch"
         }
        },
        "xaxis4": {
         "anchor": "y4",
         "domain": [
          0.55,
          1
         ],
         "title": {
          "text": "Epoch"
         }
        },
        "yaxis": {
         "anchor": "x",
         "domain": [
          0.625,
          1
         ],
         "range": [
          0,
          1
         ],
         "title": {
          "text": "Scores"
         }
        },
        "yaxis2": {
         "anchor": "x2",
         "domain": [
          0.625,
          1
         ],
         "range": [
          0,
          1
         ]
        },
        "yaxis3": {
         "anchor": "x3",
         "domain": [
          0,
          0.375
         ],
         "range": [
          0,
          1
         ],
         "title": {
          "text": "Scores"
         }
        },
        "yaxis4": {
         "anchor": "x4",
         "domain": [
          0,
          0.375
         ],
         "range": [
          0,
          1
         ]
        }
       }
      }
     },
     "metadata": {},
     "output_type": "display_data"
    }
   ],
   "source": [
    "plot_history(results_bayes['Random Forest']['scores_train'],\n",
    "             results_bayes['Random Forest']['scores_test'],\n",
    "             'Bayesian')"
   ]
  }
 ],
 "metadata": {
  "datalore": {
   "base_environment": "default",
   "computation_mode": "JUPYTER",
   "package_manager": "pip",
   "packages": [
    {
     "name": "smac",
     "source": "PIP",
     "version": "2.0.2"
    },
    {
     "name": "scikit-optimize",
     "source": "PIP",
     "version": "0.9.0"
    }
   ],
   "report_row_ids": [],
   "version": 3
  },
  "kernelspec": {
   "display_name": "Python 3",
   "language": "python",
   "name": "python3"
  },
  "language_info": {
   "codemirror_mode": {
    "name": "ipython",
    "version": 3
   },
   "file_extension": ".py",
   "mimetype": "text/x-python",
   "name": "python",
   "nbconvert_exporter": "python",
   "pygments_lexer": "ipython3",
   "version": "3.10.11"
  }
 },
 "nbformat": 4,
 "nbformat_minor": 4
}
