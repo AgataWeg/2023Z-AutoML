{
 "cells": [
  {
   "cell_type": "code",
   "execution_count": 1,
   "metadata": {},
   "outputs": [],
   "source": [
    "import numpy as np\n",
    "import pandas as pd"
   ]
  },
  {
   "cell_type": "markdown",
   "metadata": {},
   "source": [
    "### KNN"
   ]
  },
  {
   "cell_type": "markdown",
   "metadata": {},
   "source": [
    "#### RandomSearch"
   ]
  },
  {
   "cell_type": "code",
   "execution_count": 2,
   "metadata": {},
   "outputs": [],
   "source": [
    "knn_score_kddc = np.load('C:/Users/User/Desktop/AutoML/pro1/knn_score_kddc.npy',allow_pickle=True).item()\n",
    "knn_score_santa_nder = np.load('C:/Users/User/Desktop/AutoML/pro1/knn_score_santa_nder.npy',allow_pickle=True).item()\n",
    "knn_score_click = np.load('C:/Users/User/Desktop/AutoML/pro1/knn_score_click.npy',allow_pickle=True).item()\n",
    "knn_score_christine = np.load('C:/Users/User/Desktop/AutoML/pro1/knn_score_christine.npy',allow_pickle=True).item()"
   ]
  },
  {
   "cell_type": "markdown",
   "metadata": {},
   "source": [
    "#### Bayes"
   ]
  },
  {
   "cell_type": "code",
   "execution_count": 3,
   "metadata": {},
   "outputs": [],
   "source": [
    "op_knn_score_christine = np.load('C:/Users/User/Desktop/AutoML/pro1/op_knn_score_christine.npy',allow_pickle=True).item()\n",
    "op_knn_score_click = np.load('C:/Users/User/Desktop/AutoML/pro1/op_knn_score_click.npy',allow_pickle=True).item()\n",
    "op_knn_score_santa_nder = np.load('C:/Users/User/Desktop/AutoML/pro1/op_knn_score_santa_nder.npy',allow_pickle=True).item()\n",
    "op_knn_score_kddc = np.load('C:/Users/User/Desktop/AutoML/pro1/op_knn_score_kddc.npy',allow_pickle=True).item()"
   ]
  },
  {
   "cell_type": "markdown",
   "metadata": {},
   "source": [
    "### Random Forest"
   ]
  },
  {
   "cell_type": "markdown",
   "metadata": {},
   "source": [
    "#### Random Search"
   ]
  },
  {
   "cell_type": "code",
   "execution_count": 4,
   "metadata": {},
   "outputs": [],
   "source": [
    "rf_score_kddc = np.load('C:/Users/User/Desktop/AutoML/pro1/randomforestclassifier_score_kddc.npy',allow_pickle=True).item()\n",
    "rf_score_click = np.load('C:/Users/User/Desktop/AutoML/pro1/randomforestclassifier_score_click.npy',allow_pickle=True).item()\n",
    "rf_score_santa_nder = np.load('C:/Users/User/Desktop/AutoML/pro1/randomforestclassifier_score_santa_nder.npy',allow_pickle=True).item()\n",
    "rf_score_christine = np.load('C:/Users/User/Desktop/AutoML/pro1/randomforestclassifier_score_christine.npy',allow_pickle=True).item()"
   ]
  },
  {
   "cell_type": "markdown",
   "metadata": {},
   "source": [
    "#### Bayes"
   ]
  },
  {
   "cell_type": "code",
   "execution_count": 5,
   "metadata": {},
   "outputs": [],
   "source": [
    "op_rf_score_christine = np.load('C:/Users/User/Desktop/AutoML/pro1/op_rf_score_christine.npy',allow_pickle=True).item()\n",
    "op_rf_score_click = np.load('C:/Users/User/Desktop/AutoML/pro1/op_rf_score_click.npy',allow_pickle=True).item()\n",
    "op_rf_score_santa_nder = np.load('C:/Users/User/Desktop/AutoML/pro1/op_rf_score_santa_nder.npy',allow_pickle=True).item()\n",
    "op_rf_score_kddc = np.load('C:/Users/User/Desktop/AutoML/pro1/op_rf_score_kddc.npy',allow_pickle=True).item()"
   ]
  },
  {
   "cell_type": "markdown",
   "metadata": {},
   "source": [
    "### CatBoost"
   ]
  },
  {
   "cell_type": "markdown",
   "metadata": {},
   "source": [
    "#### Random Search"
   ]
  },
  {
   "cell_type": "code",
   "execution_count": 6,
   "metadata": {},
   "outputs": [],
   "source": [
    "score_catboost_kddc = np.load('C:/Users/User/Desktop/AutoML/pro1/score_catboost_kddc.npy',allow_pickle=True).item()\n",
    "score_catboost_click = np.load('C:/Users/User/Desktop/AutoML/pro1/score_catboost_click.npy',allow_pickle=True).item()\n",
    "score_catboost_santa_nder = np.load('C:/Users/User/Desktop/AutoML/pro1/score_catboost_santa_nder.npy',allow_pickle=True).item()\n",
    "# score_catboost_christine = np.load('C:/Users/User/Desktop/AutoML/pro1/randomforestclassifier_score_christine.npy',allow_pickle=True).item()"
   ]
  },
  {
   "cell_type": "markdown",
   "metadata": {},
   "source": [
    "#### Bayes"
   ]
  },
  {
   "cell_type": "code",
   "execution_count": 7,
   "metadata": {},
   "outputs": [],
   "source": [
    "# bs_cb_results_christine = np.load('C:/Users/User/Desktop/AutoML/pro1/op_rf_score_christine.npy',allow_pickle=True).item()\n",
    "bs_cb_results_click = np.load('C:/Users/User/Desktop/AutoML/pro1/catboostclassifier_score_click_bayes.npy',allow_pickle=True).item()\n",
    "bs_cb_results_santa_nder = np.load('C:/Users/User/Desktop/AutoML/pro1/catboostclassifier_score_santa_nder_bayes.npy',allow_pickle=True).item()\n",
    "bs_cb_results_kddc = np.load('C:/Users/User/Desktop/AutoML/pro1/catboostclassifier_score_kddc_bayes.npy',allow_pickle=True).item()"
   ]
  },
  {
   "cell_type": "markdown",
   "metadata": {},
   "source": [
    "##### Mean values"
   ]
  },
  {
   "cell_type": "code",
   "execution_count": 8,
   "metadata": {},
   "outputs": [],
   "source": [
    "mean_knn_score_kddc = pd.DataFrame(knn_score_kddc)['mean_test_score'].tolist()\n",
    "mean_op_knn_score_kddc = pd.DataFrame(op_knn_score_kddc)['mean_test_score'].tolist()\n",
    "mean_knn_score_santa_nder = pd.DataFrame(knn_score_santa_nder)['mean_test_score'].tolist()\n",
    "mean_op_knn_score_santa_nder = pd.DataFrame(op_knn_score_santa_nder)['mean_test_score'].tolist()\n",
    "mean_knn_score_click = pd.DataFrame(knn_score_click)['mean_test_score'].tolist()\n",
    "mean_op_knn_score_click = pd.DataFrame(op_knn_score_click)['mean_test_score'].tolist()\n",
    "mean_knn_score_christine = pd.DataFrame(knn_score_christine)['mean_test_score'].tolist()\n",
    "mean_op_knn_score_christine = pd.DataFrame(op_knn_score_christine)['mean_test_score'].tolist()\n",
    "mean_rf_score_kddc = pd.DataFrame(rf_score_kddc)['mean_test_score'].tolist()\n",
    "mean_op_rf_score_kddc = pd.DataFrame(op_rf_score_kddc)['mean_test_score'].tolist()\n",
    "mean_rf_score_santa_nder = pd.DataFrame(rf_score_santa_nder)['mean_test_score'].iloc[0:30].tolist()\n",
    "mean_op_rf_score_santa_nder = pd.DataFrame(op_rf_score_santa_nder)['mean_test_score'].tolist()\n",
    "mean_rf_score_click = pd.DataFrame(rf_score_click)['mean_test_score'].tolist()\n",
    "mean_op_rf_score_click = pd.DataFrame(op_rf_score_click)['mean_test_score'].tolist()\n",
    "mean_rf_score_christine = pd.DataFrame(rf_score_christine)['mean_test_score'].iloc[0:30].tolist()\n",
    "mean_op_rf_score_christine = pd.DataFrame(op_rf_score_christine)['mean_test_score'].tolist()\n",
    "mean_score_catboost_kddc = pd.DataFrame(score_catboost_kddc)['mean_test_score'].tolist()\n",
    "mean_obs_cb_results_kddc = pd.DataFrame(bs_cb_results_kddc)['mean_test_score'].tolist()\n",
    "mean_score_santa_nder = pd.DataFrame(score_catboost_santa_nder)['mean_test_score'].tolist()\n",
    "mean_obs_cb_results_santa_nder = pd.DataFrame(bs_cb_results_santa_nder)['mean_test_score'].tolist()\n",
    "mean_score_click = pd.DataFrame(score_catboost_click)['mean_test_score'].tolist()\n",
    "mean_obs_cb_results_click = pd.DataFrame(bs_cb_results_click)['mean_test_score'].tolist()\n",
    "# mean_score_christine = pd.DataFrame(score_catboost_christine)['mean_test_score'].tolist()\n",
    "# mean_obs_cb_results_christine = pd.DataFrame(bs_cb_results_christine)['mean_test_score'].tolist()"
   ]
  },
  {
   "cell_type": "code",
   "execution_count": 10,
   "metadata": {},
   "outputs": [],
   "source": [
    "all_means = [\n",
    "    mean_knn_score_kddc\n",
    "    ,mean_op_knn_score_kddc\n",
    "    ,mean_knn_score_santa_nder\n",
    "    ,mean_op_knn_score_santa_nder\n",
    "    ,mean_knn_score_click\n",
    "    ,mean_op_knn_score_click \n",
    "    ,mean_knn_score_christine\n",
    "    ,mean_op_knn_score_christine\n",
    "    ,mean_rf_score_kddc\n",
    "    ,mean_op_rf_score_kddc\n",
    "    ,mean_rf_score_santa_nder\n",
    "    ,mean_op_rf_score_santa_nder\n",
    "    ,mean_rf_score_click\n",
    "    ,mean_op_rf_score_click\n",
    "    ,mean_rf_score_christine\n",
    "    ,mean_op_rf_score_christine \n",
    "    ,mean_score_catboost_kddc\n",
    "    ,mean_obs_cb_results_kddc\n",
    "    ,mean_score_santa_nder\n",
    "    ,mean_score_click\n",
    "    ,mean_obs_cb_results_click\n",
    "    # ,mean_score_christine\n",
    "    # ,mean_obs_cb_results_christine\n",
    "]\n"
   ]
  },
  {
   "cell_type": "code",
   "execution_count": 64,
   "metadata": {},
   "outputs": [],
   "source": [
    "# Kod do znajdowania min. 3 liczb pod rząd, które różnią się maksymalnie thresholdem"
   ]
  },
  {
   "cell_type": "code",
   "execution_count": 27,
   "metadata": {},
   "outputs": [
    {
     "name": "stdout",
     "output_type": "stream",
     "text": [
      "Różnica już nie jest znacąca dla średnich o numerze 3 od miejsca o numerze 13 do 16.\n",
      "Różnica już nie jest znacąca dla średnich o numerze 4 od miejsca o numerze 0 do 3.\n",
      "Różnica już nie jest znacąca dla średnich o numerze 10 od miejsca o numerze 26 do 29.\n",
      "Różnica już nie jest znacąca dla średnich o numerze 11 od miejsca o numerze 0 do 3.\n",
      "Różnica już nie jest znacąca dla średnich o numerze 12 od miejsca o numerze 0 do 3.\n",
      "Różnica już nie jest znacąca dla średnich o numerze 13 od miejsca o numerze 0 do 3.\n",
      "Różnica już nie jest znacąca dla średnich o numerze 14 od miejsca o numerze 0 do 3.\n",
      "Różnica już nie jest znacąca dla średnich o numerze 15 od miejsca o numerze 0 do 3.\n",
      "Różnica już nie jest znacąca dla średnich o numerze 16 od miejsca o numerze 0 do 3.\n",
      "Różnica już nie jest znacąca dla średnich o numerze 19 od miejsca o numerze 12 do 15.\n",
      "Różnica już nie jest znacąca dla średnich o numerze 20 od miejsca o numerze 12 do 15.\n"
     ]
    }
   ],
   "source": [
    "threshold = 1e-6\n",
    "threshold_times = 3\n",
    "for k, mean_list in enumerate(all_means, 1):\n",
    "    threshold_number = list()\n",
    "    for i in range(1, len(mean_list)):\n",
    "        roznica = abs(mean_list[i] - mean_list[i - 1])\n",
    "        if roznica < threshold:\n",
    "            threshold_number.append(i)\n",
    "            if len(threshold_number) == 2:\n",
    "                if threshold_number[1] - threshold_number[0] != 1:\n",
    "                    threshold_number.pop(0)\n",
    "            if len(threshold_number) == 3:\n",
    "                if threshold_number[2] - threshold_number[1] == 1 & threshold_number[1] - threshold_number[0] == 1:\n",
    "                    print(f\"Różnica już nie jest znacąca dla średnich o numerze {k} od miejsca o numerze {i-3} do {i}.\")\n",
    "                    break\n",
    "                else:\n",
    "                    threshold_number.pop(0)\n",
    "                    threshold_number.pop(0)"
   ]
  },
  {
   "cell_type": "code",
   "execution_count": 31,
   "metadata": {},
   "outputs": [],
   "source": [
    "# k - liczone od 1"
   ]
  },
  {
   "cell_type": "code",
   "execution_count": 33,
   "metadata": {},
   "outputs": [],
   "source": [
    "# Wszystki przypadki powyższe"
   ]
  },
  {
   "cell_type": "code",
   "execution_count": 34,
   "metadata": {},
   "outputs": [
    {
     "data": {
      "text/plain": [
       "[0.901500068186827, 0.901500068186827, 0.901500068186827, 0.901500068186827]"
      ]
     },
     "execution_count": 34,
     "metadata": {},
     "output_type": "execute_result"
    }
   ],
   "source": [
    "# 3\n",
    "mean_knn_score_santa_nder[13:17]"
   ]
  },
  {
   "cell_type": "code",
   "execution_count": 35,
   "metadata": {},
   "outputs": [
    {
     "data": {
      "text/plain": [
       "[0.9004, 0.9004, 0.9004, 0.9004]"
      ]
     },
     "execution_count": 35,
     "metadata": {},
     "output_type": "execute_result"
    }
   ],
   "source": [
    "# 4\n",
    "mean_op_knn_score_santa_nder[0:4]"
   ]
  },
  {
   "cell_type": "code",
   "execution_count": 36,
   "metadata": {},
   "outputs": [
    {
     "data": {
      "text/plain": [
       "[0.7961057883088756,\n",
       " 0.7961057883088756,\n",
       " 0.7961057883088756,\n",
       " 0.7961057883088756]"
      ]
     },
     "execution_count": 36,
     "metadata": {},
     "output_type": "execute_result"
    }
   ],
   "source": [
    "# 10\n",
    "mean_op_rf_score_kddc[26:30]"
   ]
  },
  {
   "cell_type": "code",
   "execution_count": 37,
   "metadata": {},
   "outputs": [
    {
     "data": {
      "text/plain": [
       "[0.8982000777917886,\n",
       " 0.8982000777917886,\n",
       " 0.8982000777917886,\n",
       " 0.8982000777917886]"
      ]
     },
     "execution_count": 37,
     "metadata": {},
     "output_type": "execute_result"
    }
   ],
   "source": [
    "# 11\n",
    "mean_rf_score_santa_nder[0:4]"
   ]
  },
  {
   "cell_type": "code",
   "execution_count": 38,
   "metadata": {},
   "outputs": [
    {
     "data": {
      "text/plain": [
       "[0.8982000777917886,\n",
       " 0.8982000777917886,\n",
       " 0.8982000777917886,\n",
       " 0.8982000777917886]"
      ]
     },
     "execution_count": 38,
     "metadata": {},
     "output_type": "execute_result"
    }
   ],
   "source": [
    "# 12\n",
    "mean_op_rf_score_santa_nder[0:4]"
   ]
  },
  {
   "cell_type": "code",
   "execution_count": 42,
   "metadata": {},
   "outputs": [
    {
     "data": {
      "text/plain": [
       "[0.8315810553653947,\n",
       " 0.8315810553653947,\n",
       " 0.8315810553653947,\n",
       " 0.8315810553653947]"
      ]
     },
     "execution_count": 42,
     "metadata": {},
     "output_type": "execute_result"
    }
   ],
   "source": [
    "# 13\n",
    "mean_rf_score_click[0:4]"
   ]
  },
  {
   "cell_type": "code",
   "execution_count": 43,
   "metadata": {},
   "outputs": [
    {
     "data": {
      "text/plain": [
       "[0.8315810584986145,\n",
       " 0.8315810584986145,\n",
       " 0.8315810584986145,\n",
       " 0.8315810584986145]"
      ]
     },
     "execution_count": 43,
     "metadata": {},
     "output_type": "execute_result"
    }
   ],
   "source": [
    "# 14\n",
    "mean_op_rf_score_click[0:4]"
   ]
  },
  {
   "cell_type": "code",
   "execution_count": 44,
   "metadata": {},
   "outputs": [
    {
     "data": {
      "text/plain": [
       "[0.5, 0.5, 0.5, 0.5]"
      ]
     },
     "execution_count": 44,
     "metadata": {},
     "output_type": "execute_result"
    }
   ],
   "source": [
    "# 15\n",
    "mean_rf_score_christine[0:4]"
   ]
  },
  {
   "cell_type": "code",
   "execution_count": 45,
   "metadata": {},
   "outputs": [
    {
     "data": {
      "text/plain": [
       "[0.5, 0.5, 0.5, 0.5]"
      ]
     },
     "execution_count": 45,
     "metadata": {},
     "output_type": "execute_result"
    }
   ],
   "source": [
    "# 16\n",
    "mean_op_rf_score_christine[0:4]"
   ]
  },
  {
   "cell_type": "code",
   "execution_count": 65,
   "metadata": {},
   "outputs": [],
   "source": [
    "# itd."
   ]
  },
  {
   "cell_type": "code",
   "execution_count": 67,
   "metadata": {},
   "outputs": [],
   "source": [
    "# Po przejrzeniu wyników, zauważono niestabilność i postanowiono dodać nowe warunki.\n",
    "# Teraz dodatkowo, po wykryciu takich trzech różnic, ten trend musi się utrzymać do końca."
   ]
  },
  {
   "cell_type": "code",
   "execution_count": 70,
   "metadata": {},
   "outputs": [],
   "source": [
    "threshold = 1e-6\n",
    "def znajdz_indeks(lista):\n",
    "    for i in range(len(lista) - 1):\n",
    "        if abs(lista[i] - lista[i + 1]) < 1e-6:\n",
    "            j = i + 1\n",
    "            while j < len(lista) - 1 and abs(lista[j] - lista[j + 1]) < threshold:\n",
    "                j += 1\n",
    "            if j - i >= 2:  # Jeśli różnica jest mniejsza niż 1e-6 przez co najmniej 3 wartości\n",
    "                return i\n",
    "    return None\n"
   ]
  },
  {
   "cell_type": "code",
   "execution_count": 71,
   "metadata": {},
   "outputs": [],
   "source": [
    "for mean_list in all_means:\n",
    "    znajdz_indeks(mean_list)"
   ]
  },
  {
   "cell_type": "code",
   "execution_count": 72,
   "metadata": {},
   "outputs": [],
   "source": [
    "# Nie ma takich wyników."
   ]
  },
  {
   "cell_type": "code",
   "execution_count": null,
   "metadata": {},
   "outputs": [],
   "source": []
  }
 ],
 "metadata": {
  "kernelspec": {
   "display_name": "Python 3",
   "language": "python",
   "name": "python3"
  },
  "language_info": {
   "codemirror_mode": {
    "name": "ipython",
    "version": 3
   },
   "file_extension": ".py",
   "mimetype": "text/x-python",
   "name": "python",
   "nbconvert_exporter": "python",
   "pygments_lexer": "ipython3",
   "version": "3.10.13"
  }
 },
 "nbformat": 4,
 "nbformat_minor": 2
}
