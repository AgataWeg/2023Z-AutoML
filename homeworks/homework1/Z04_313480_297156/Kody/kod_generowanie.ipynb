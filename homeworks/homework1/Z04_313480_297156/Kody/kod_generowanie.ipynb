{
  "cells": [
    {
      "cell_type": "code",
      "execution_count": null,
      "metadata": {
        "id": "wN37nMPeUEsx"
      },
      "outputs": [],
      "source": [
        "# OVERLEAF\n",
        "# https://www.overleaf.com/2783679526vchrbtrxmycm#bc3f9d"
      ]
    },
    {
      "cell_type": "code",
      "execution_count": null,
      "metadata": {
        "colab": {
          "base_uri": "https://localhost:8080/"
        },
        "id": "KVQotgvql1GW",
        "outputId": "8630c80a-4332-4c57-e158-2c560c9561b1"
      },
      "outputs": [
        {
          "output_type": "stream",
          "name": "stdout",
          "text": [
            "Collecting scikit-optimize\n",
            "  Downloading scikit_optimize-0.9.0-py2.py3-none-any.whl (100 kB)\n",
            "\u001b[2K     \u001b[90m━━━━━━━━━━━━━━━━━━━━━━━━━━━━━━━━━━━━━━━━\u001b[0m \u001b[32m100.3/100.3 kB\u001b[0m \u001b[31m1.8 MB/s\u001b[0m eta \u001b[36m0:00:00\u001b[0m\n",
            "\u001b[?25hRequirement already satisfied: joblib>=0.11 in /usr/local/lib/python3.10/dist-packages (from scikit-optimize) (1.3.2)\n",
            "Collecting pyaml>=16.9 (from scikit-optimize)\n",
            "  Downloading pyaml-23.9.7-py3-none-any.whl (23 kB)\n",
            "Requirement already satisfied: numpy>=1.13.3 in /usr/local/lib/python3.10/dist-packages (from scikit-optimize) (1.23.5)\n",
            "Requirement already satisfied: scipy>=0.19.1 in /usr/local/lib/python3.10/dist-packages (from scikit-optimize) (1.11.3)\n",
            "Requirement already satisfied: scikit-learn>=0.20.0 in /usr/local/lib/python3.10/dist-packages (from scikit-optimize) (1.2.2)\n",
            "Requirement already satisfied: PyYAML in /usr/local/lib/python3.10/dist-packages (from pyaml>=16.9->scikit-optimize) (6.0.1)\n",
            "Requirement already satisfied: threadpoolctl>=2.0.0 in /usr/local/lib/python3.10/dist-packages (from scikit-learn>=0.20.0->scikit-optimize) (3.2.0)\n",
            "Installing collected packages: pyaml, scikit-optimize\n",
            "Successfully installed pyaml-23.9.7 scikit-optimize-0.9.0\n"
          ]
        }
      ],
      "source": [
        "# !pip install scikit-optimize"
      ]
    },
    {
      "cell_type": "code",
      "execution_count": null,
      "metadata": {
        "id": "G0tXc_sznmrr"
      },
      "outputs": [],
      "source": [
        "import pandas as pd\n",
        "import numpy as np\n",
        "from sklearn.datasets import fetch_openml\n",
        "from skopt import BayesSearchCV\n",
        "from sklearn.model_selection import RandomizedSearchCV\n",
        "from sklearn.ensemble import RandomForestClassifier\n",
        "\n",
        "from sklearn.compose import make_column_transformer, make_column_selector, ColumnTransformer\n",
        "from sklearn.pipeline import Pipeline\n",
        "from sklearn.preprocessing import OneHotEncoder"
      ]
    },
    {
      "cell_type": "code",
      "execution_count": null,
      "metadata": {
        "colab": {
          "base_uri": "https://localhost:8080/"
        },
        "id": "qtTuugXtpsrj",
        "outputId": "6d1eaed2-8691-4bd4-b7f6-d23ba3e063a3"
      },
      "outputs": [
        {
          "output_type": "stream",
          "name": "stderr",
          "text": [
            "/usr/local/lib/python3.10/dist-packages/sklearn/datasets/_openml.py:968: FutureWarning: The default value of `parser` will change from `'liac-arff'` to `'auto'` in 1.4. You can set `parser='auto'` to silence this warning. Therefore, an `ImportError` will be raised from 1.4 if the dataset is dense and pandas is not installed. Note that the pandas parser may return different data types. See the Notes Section in fetch_openml's API doc for details.\n",
            "  warn(\n",
            "/usr/local/lib/python3.10/dist-packages/sklearn/datasets/_openml.py:968: FutureWarning: The default value of `parser` will change from `'liac-arff'` to `'auto'` in 1.4. You can set `parser='auto'` to silence this warning. Therefore, an `ImportError` will be raised from 1.4 if the dataset is dense and pandas is not installed. Note that the pandas parser may return different data types. See the Notes Section in fetch_openml's API doc for details.\n",
            "  warn(\n",
            "/usr/local/lib/python3.10/dist-packages/sklearn/datasets/_openml.py:968: FutureWarning: The default value of `parser` will change from `'liac-arff'` to `'auto'` in 1.4. You can set `parser='auto'` to silence this warning. Therefore, an `ImportError` will be raised from 1.4 if the dataset is dense and pandas is not installed. Note that the pandas parser may return different data types. See the Notes Section in fetch_openml's API doc for details.\n",
            "  warn(\n",
            "/usr/local/lib/python3.10/dist-packages/sklearn/datasets/_openml.py:968: FutureWarning: The default value of `parser` will change from `'liac-arff'` to `'auto'` in 1.4. You can set `parser='auto'` to silence this warning. Therefore, an `ImportError` will be raised from 1.4 if the dataset is dense and pandas is not installed. Note that the pandas parser may return different data types. See the Notes Section in fetch_openml's API doc for details.\n",
            "  warn(\n"
          ]
        }
      ],
      "source": [
        "# Wczytanie wybranych zbiroków\n",
        "christine = fetch_openml(data_id = 41142)\n",
        "kddc = fetch_openml(data_id = 44035)\n",
        "click = fetch_openml(data_id = 1220)\n",
        "santa_nder = fetch_openml(data_id = 45566)"
      ]
    },
    {
      "cell_type": "code",
      "execution_count": null,
      "metadata": {
        "colab": {
          "base_uri": "https://localhost:8080/"
        },
        "id": "KqJRDPCSVVy3",
        "outputId": "b2596d3e-dea3-439a-96dc-4801b7ce3581"
      },
      "outputs": [
        {
          "output_type": "stream",
          "name": "stdout",
          "text": [
            "5418\n",
            "5032\n",
            "39948\n",
            "200000\n"
          ]
        }
      ],
      "source": [
        "# Sprawdzenie liczby wierszy\n",
        "print(len(christine.data))\n",
        "print(len(kddc.data))\n",
        "print(len(click.data))\n",
        "print(len(santa_nder.data))"
      ]
    },
    {
      "cell_type": "code",
      "execution_count": null,
      "metadata": {
        "id": "WFRAWnQw1oKY"
      },
      "outputs": [],
      "source": [
        "# Wylosowanie wierszy, które będą używane do obliczeń w przypadku zbioru santa_nder\n",
        "num_samples = len(santa_nder.data)\n",
        "random_indices = np.random.choice(num_samples, size=10000, replace=False)"
      ]
    },
    {
      "cell_type": "code",
      "execution_count": null,
      "metadata": {
        "id": "t3NFU0yipsoJ"
      },
      "outputs": [],
      "source": [
        "# Wczytanie zmiennych objasńianych i objaśniających\n",
        "christine_X = christine.data\n",
        "christine_y = christine.target\n",
        "kddc_X = kddc.data\n",
        "kddc_y = kddc.target\n",
        "click_X = click.data\n",
        "click_y = click.target\n",
        "santa_nder_X = santa_nder.data.iloc[random_indices]\n",
        "santa_nder_y = santa_nder.target.iloc[random_indices]"
      ]
    },
    {
      "cell_type": "code",
      "source": [
        "# Sprawdzenie typu kolumn zbiorków\n",
        "print(christine_X.dtypes)\n",
        "print(kddc_X.dtypes)\n",
        "print(click_X.dtypes)\n",
        "print(santa_nder_X.dtypes)"
      ],
      "metadata": {
        "colab": {
          "base_uri": "https://localhost:8080/"
        },
        "id": "j71VzHhAmC_V",
        "outputId": "d5bb2d2d-bb60-49c9-b6ae-3f56a21efce3"
      },
      "execution_count": null,
      "outputs": [
        {
          "output_type": "stream",
          "name": "stdout",
          "text": [
            "V1       float64\n",
            "V2       float64\n",
            "V3       float64\n",
            "V4       float64\n",
            "V5       float64\n",
            "          ...   \n",
            "V1632    float64\n",
            "V1633    float64\n",
            "V1634    float64\n",
            "V1635    float64\n",
            "V1636    float64\n",
            "Length: 1636, dtype: object\n",
            "Var6       float64\n",
            "Var13      float64\n",
            "Var21      float64\n",
            "Var22      float64\n",
            "Var24      float64\n",
            "Var25      float64\n",
            "Var28      float64\n",
            "Var35      float64\n",
            "Var38      float64\n",
            "Var57      float64\n",
            "Var65      float64\n",
            "Var73      float64\n",
            "Var74      float64\n",
            "Var76      float64\n",
            "Var78      float64\n",
            "Var81      float64\n",
            "Var83      float64\n",
            "Var85      float64\n",
            "Var109     float64\n",
            "Var112     float64\n",
            "Var113     float64\n",
            "Var119     float64\n",
            "Var123     float64\n",
            "Var125     float64\n",
            "Var126     float64\n",
            "Var132     float64\n",
            "Var133     float64\n",
            "Var134     float64\n",
            "Var140     float64\n",
            "Var144     float64\n",
            "Var149     float64\n",
            "Var153     float64\n",
            "Var160     float64\n",
            "Var163     float64\n",
            "Var196    category\n",
            "Var203    category\n",
            "Var205    category\n",
            "Var207    category\n",
            "Var208    category\n",
            "Var210    category\n",
            "Var211    category\n",
            "Var218    category\n",
            "Var221    category\n",
            "Var223    category\n",
            "Var227    category\n",
            "dtype: object\n",
            "impression        float64\n",
            "ad_id             float64\n",
            "advertiser_id     float64\n",
            "depth             float64\n",
            "position          float64\n",
            "keyword_id        float64\n",
            "title_id          float64\n",
            "description_id    float64\n",
            "user_id           float64\n",
            "dtype: object\n",
            "var_0      float64\n",
            "var_1      float64\n",
            "var_2      float64\n",
            "var_3      float64\n",
            "var_4      float64\n",
            "            ...   \n",
            "var_195    float64\n",
            "var_196    float64\n",
            "var_197    float64\n",
            "var_198    float64\n",
            "var_199    float64\n",
            "Length: 200, dtype: object\n"
          ]
        }
      ]
    },
    {
      "cell_type": "code",
      "execution_count": null,
      "metadata": {
        "colab": {
          "base_uri": "https://localhost:8080/"
        },
        "id": "08tbRsEMdqtQ",
        "outputId": "44e84f55-c4da-429a-d747-6fe99e165ccb"
      },
      "outputs": [
        {
          "output_type": "execute_result",
          "data": {
            "text/plain": [
              "Index(['V73', 'V156', 'V214', 'V239', 'V245', 'V257', 'V262', 'V478', 'V496',\n",
              "       'V546', 'V566', 'V575', 'V584', 'V588', 'V647', 'V685', 'V688', 'V741',\n",
              "       'V780', 'V833', 'V857', 'V935', 'V951', 'V1005', 'V1010', 'V1048',\n",
              "       'V1187', 'V1229', 'V1239', 'V1240', 'V1256', 'V1260', 'V1301', 'V1356',\n",
              "       'V1487', 'V1586', 'V1607'],\n",
              "      dtype='object')"
            ]
          },
          "metadata": {},
          "execution_count": 10
        }
      ],
      "source": [
        "# Sprawdzenie kolumn typu kategorycznego w przypadku zbioru christine\n",
        "categorical_columns_christine = christine_X.select_dtypes(include=['object', 'category']).columns\n",
        "categorical_columns_christine"
      ]
    },
    {
      "cell_type": "code",
      "execution_count": null,
      "metadata": {
        "colab": {
          "base_uri": "https://localhost:8080/"
        },
        "id": "Q83gFu1eYGbG",
        "outputId": "e495b4bf-f61b-4721-b51d-0bb0de6c9b3f"
      },
      "outputs": [
        {
          "output_type": "stream",
          "name": "stdout",
          "text": [
            "        Var6   Var13   Var21   Var22  Var24  Var25   Var28  Var35      Var38  \\\n",
            "0     9723.0   908.0  4568.0  5710.0   54.0  840.0  287.76    0.0  3712122.0   \n",
            "1      840.0  3108.0   212.0   265.0    6.0   88.0  166.56    0.0    15900.0   \n",
            "2      259.0     0.0   128.0   160.0    6.0  128.0  200.00    0.0        0.0   \n",
            "3      630.0   596.0    24.0    30.0    0.0    0.0  186.64    0.0  5485038.0   \n",
            "4      140.0     0.0    64.0    80.0    0.0   24.0  220.08    0.0  4279404.0   \n",
            "...      ...     ...     ...     ...    ...    ...     ...    ...        ...   \n",
            "5027  1729.0  5024.0   176.0   220.0    2.0   32.0  220.08    0.0  9546480.0   \n",
            "5028   749.0   196.0   148.0   185.0    6.0  128.0  166.56    0.0        0.0   \n",
            "5029   511.0   104.0   116.0   145.0    4.0   96.0  167.20    0.0   212952.0   \n",
            "5030  1295.0  1672.0   420.0   525.0    6.0  272.0  210.00   10.0  2131206.0   \n",
            "5031  1694.0   828.0   192.0   240.0    0.0   48.0  220.08    5.0  2691228.0   \n",
            "\n",
            "         Var57  ...  Var223_1  Var223_2  Var223_3  Var223_4  Var227_1  \\\n",
            "0     2.320231  ...         0         0         0         0         0   \n",
            "1     1.325785  ...         0         0         0         0         1   \n",
            "2     6.782952  ...         0         0         0         0         0   \n",
            "3     0.371502  ...         0         0         1         0         0   \n",
            "4     3.092074  ...         0         0         0         0         0   \n",
            "...        ...  ...       ...       ...       ...       ...       ...   \n",
            "5027  3.687460  ...         0         0         1         0         0   \n",
            "5028  3.231575  ...         0         0         0         0         0   \n",
            "5029  0.284555  ...         0         0         0         0         0   \n",
            "5030  3.598804  ...         0         0         0         0         0   \n",
            "5031  1.134800  ...         0         0         0         0         0   \n",
            "\n",
            "      Var227_2  Var227_3  Var227_4  Var227_5  Var227_6  \n",
            "0            1         0         0         0         0  \n",
            "1            0         0         0         0         0  \n",
            "2            1         0         0         0         0  \n",
            "3            1         0         0         0         0  \n",
            "4            1         0         0         0         0  \n",
            "...        ...       ...       ...       ...       ...  \n",
            "5027         0         1         0         0         0  \n",
            "5028         1         0         0         0         0  \n",
            "5029         1         0         0         0         0  \n",
            "5030         1         0         0         0         0  \n",
            "5031         1         0         0         0         0  \n",
            "\n",
            "[5032 rows x 75 columns]\n"
          ]
        }
      ],
      "source": [
        "df = pd.DataFrame(kddc_X)\n",
        "\n",
        "# Oddzielenie kolumn typu 'number' od 'category'\n",
        "numeric_cols = df.select_dtypes(include=['number']).columns\n",
        "categorical_cols = df.select_dtypes(include=['category']).columns\n",
        "\n",
        "# One-hot encode kolumn kategorycznych\n",
        "kddc_X_transform = pd.get_dummies(df, columns=categorical_cols, drop_first=True)\n",
        "\n",
        "# Sprawdzenie zmiennionej macierzy\n",
        "print(kddc_X_transform)"
      ]
    },
    {
      "cell_type": "markdown",
      "metadata": {
        "id": "osMq6ka4GeGN"
      },
      "source": [
        "### Część I - Lasy losowe\n"
      ]
    },
    {
      "cell_type": "code",
      "execution_count": null,
      "metadata": {
        "colab": {
          "base_uri": "https://localhost:8080/"
        },
        "id": "TEyolyBIprVi",
        "outputId": "b4dedfdc-9cd7-4052-c067-3c7c42178107"
      },
      "outputs": [
        {
          "output_type": "stream",
          "name": "stdout",
          "text": [
            "{'n_estimators': [1, 106, 211, 316, 421, 527, 632, 737, 842, 947, 1053, 1158, 1263, 1368, 1473, 1579, 1684, 1789, 1894, 2000], 'max_depth': [1, 3, 5, 7, 9, 11, 13, 15, 17, 19, 21, 23, 25, 27, 30, None], 'min_samples_split': [2, 5, 8, 11, 14, 17, 20, 23, 26, 29, 32, 35, 38, 41, 44, 47, 50, 53, 56, 60], 'min_samples_leaf': [1, 4, 7, 10, 13, 16, 19, 22, 25, 28, 32, 35, 38, 41, 44, 47, 50, 53, 56, 60], 'max_samples': [0.1, 0.2, 0.3, 0.4, 0.5, 0.6, 0.7, 0.8, 0.9, 1], 'ccp_alpha': [0.0, 0.07142857142857142, 0.14285714285714285, 0.21428571428571427, 0.2857142857142857, 0.3571428571428571, 0.42857142857142855, 0.5, 0.5714285714285714, 0.6428571428571428, 0.7142857142857142, 0.7857142857142857, 0.8571428571428571, 0.9285714285714285, 1.0]}\n"
          ]
        }
      ],
      "source": [
        "# Określnie zakresu hiperparametrów dla lasów losowych\n",
        "n_estimators = [int(x) for x in np.linspace(start = 1, stop = 2000, num = 20)]\n",
        "max_depth = [int(x) for x in np.linspace(1, 30, num = 15)]\n",
        "max_depth.append(None)\n",
        "min_samples_split = [int(x) for x in np.linspace(start = 2, stop = 60, num = 20)]\n",
        "min_samples_leaf = [int(x) for x in np.linspace(start = 1, stop = 60, num = 20)]\n",
        "max_samples = [0.1, 0.2, 0.3, 0.4, 0.5, 0.6, 0.7, 0.8, 0.9, 1]\n",
        "ccp_alpha = [float(x) for x in np.linspace(start = 0, stop = 1, num = 15)]\n",
        "\n",
        "# Tworzennie siatki hiperparametrów\n",
        "random_grid = {'n_estimators': n_estimators,\n",
        "               'max_depth': max_depth,\n",
        "               'min_samples_split': min_samples_split,\n",
        "               'min_samples_leaf': min_samples_leaf,\n",
        "               'max_samples':max_samples,\n",
        "               'ccp_alpha':ccp_alpha}\n",
        "\n",
        "print(random_grid)"
      ]
    },
    {
      "cell_type": "markdown",
      "source": [
        "Obliczenia dla Random Search w przypadku lasów losowych"
      ],
      "metadata": {
        "id": "oQr_7YjppyoC"
      }
    },
    {
      "cell_type": "code",
      "execution_count": null,
      "metadata": {
        "id": "3OdTtGVGprJz"
      },
      "outputs": [],
      "source": [
        "rf = RandomForestClassifier()\n",
        "rf_random = RandomizedSearchCV(estimator = rf, param_distributions = random_grid, n_iter = 50, cv = 7, verbose=2, random_state=42, n_jobs = -1)\n",
        "rf_random.fit(click_X, click_y)\n",
        "score_click = rf_random.cv_results_"
      ]
    },
    {
      "cell_type": "code",
      "execution_count": null,
      "metadata": {
        "id": "8I_D-onCVLAM"
      },
      "outputs": [],
      "source": [
        "rf = RandomForestClassifier()\n",
        "rf_random = RandomizedSearchCV(estimator = rf, param_distributions = random_grid, n_iter = 50, cv = 7, verbose=2, random_state=42, n_jobs = -1)\n",
        "rf_random.fit(christine_X, christine_y)\n",
        "score_christine = rf_random.cv_results_"
      ]
    },
    {
      "cell_type": "code",
      "execution_count": null,
      "metadata": {
        "id": "dLqAFkBdXnuZ"
      },
      "outputs": [],
      "source": [
        "rf = RandomForestClassifier()\n",
        "rf_random = RandomizedSearchCV(estimator = rf, param_distributions = random_grid, n_iter = 50, cv = 7, verbose=2, random_state=42, n_jobs = -1)\n",
        "rf_random.fit(santa_nder_X, santa_nder_y)\n",
        "score_santa_nder = rf_random.cv_results_"
      ]
    },
    {
      "cell_type": "code",
      "execution_count": null,
      "metadata": {
        "id": "hvgVkAQJXoZ2"
      },
      "outputs": [],
      "source": [
        "rf = RandomForestClassifier()\n",
        "rf_random = RandomizedSearchCV(estimator = rf, param_distributions = random_grid, n_iter =50, cv = 7, verbose=2, random_state=42, n_jobs = -1)\n",
        "rf_random.fit(kddc_X_transform, kddc_y)\n",
        "score_kddc = rf_random.cv_results_"
      ]
    },
    {
      "cell_type": "code",
      "execution_count": null,
      "metadata": {
        "id": "6yMcNo7xteek"
      },
      "outputs": [],
      "source": [
        "# Zapisywanie wyników\n",
        "np.save('randomforestclassifier_score_click.npy', score_click)\n",
        "np.save('randomforestclassifier_score_christine.npy', score_christine)\n",
        "np.save('randomforestclassifier_score_santa_nder.npy', score_santa_nder)\n",
        "np.save('randomforestclassifier_score_kddc.npy', score_kddc)"
      ]
    },
    {
      "cell_type": "markdown",
      "source": [
        "Obliczenia metodą Bayesowską dla lasów losowych"
      ],
      "metadata": {
        "id": "cNy2CnqsqFTA"
      }
    },
    {
      "cell_type": "code",
      "execution_count": null,
      "metadata": {
        "id": "rExhNIZEsDGp"
      },
      "outputs": [],
      "source": [
        "clf = RandomForestClassifier()\n",
        "opt = BayesSearchCV(clf, random_grid, n_iter=30, cv=3, random_state=42)\n",
        "_ = opt.fit(christine_X, christine_y)\n",
        "ob_rf_results_christine = opt.cv_results_"
      ]
    },
    {
      "cell_type": "code",
      "execution_count": null,
      "metadata": {
        "id": "XKmS0r7ytnFK"
      },
      "outputs": [],
      "source": [
        "clf = RandomForestClassifier()\n",
        "opt = BayesSearchCV(clf, random_grid, n_iter=50, random_state=42)\n",
        "_ = opt.fit(click_X, click_y)\n",
        "ob_rf_results_click = opt.cv_results_\n"
      ]
    },
    {
      "cell_type": "code",
      "execution_count": null,
      "metadata": {
        "id": "IK8VT8_muOJQ"
      },
      "outputs": [],
      "source": [
        "clf = RandomForestClassifier()\n",
        "opt = BayesSearchCV(clf, random_grid, n_iter=30, cv=3, random_state=42)\n",
        "_ = opt.fit(santa_nder_X, santa_nder_y)\n",
        "ob_rf_results_santa_nder = opt.cv_results_"
      ]
    },
    {
      "cell_type": "code",
      "execution_count": null,
      "metadata": {
        "id": "48r-JPMyneIY"
      },
      "outputs": [],
      "source": [
        "clf = RandomForestClassifier()\n",
        "opt = BayesSearchCV(clf, random_grid, n_iter=50, random_state=42)\n",
        "_ = opt.fit(kddc_X_transform, kddc_y)\n",
        "ob_rf_results_kddc = opt.cv_results_"
      ]
    },
    {
      "cell_type": "code",
      "source": [
        "# Zapisywanie wyników\n",
        "np.save('op_rf_score_click.npy', ob_rf_results_click)\n",
        "np.save('op_rf_score_christine.npy', ob_rf_results_christine)\n",
        "np.save('op_rf_score_santa_nder.npy', ob_rf_results_santa_nder)\n",
        "np.save('op_rf_score_kddc.npy', ob_rf_results_kddc)"
      ],
      "metadata": {
        "id": "-1l6CU8or0_D"
      },
      "execution_count": null,
      "outputs": []
    },
    {
      "cell_type": "markdown",
      "metadata": {
        "id": "nxSzicX-Ghu_"
      },
      "source": [
        "### Część II - KNN"
      ]
    },
    {
      "cell_type": "code",
      "execution_count": null,
      "metadata": {
        "id": "0HK91iWZ4ogL"
      },
      "outputs": [],
      "source": [
        "from sklearn.neighbors import KNeighborsClassifier\n",
        "\n",
        "# Określnie zakresu hiperparametrów dla lasów losowych i stworzenie siatki\n",
        "param_grid = {\n",
        "    'n_neighbors': [int(x) for x in np.linspace(start = 1, stop = 30, num = 30)],\n",
        "    'weights': ['uniform', 'distance'],\n",
        "    'p': [1, 2]  # 1 - odległość Manhattan'a, 2 - odległość euklidesowa\n",
        "}"
      ]
    },
    {
      "cell_type": "markdown",
      "source": [
        "Obliczenia dla Random Search w przypadku KNN"
      ],
      "metadata": {
        "id": "VrKw2DOus3rL"
      }
    },
    {
      "cell_type": "code",
      "execution_count": null,
      "metadata": {
        "id": "_U2XAXON4pRO"
      },
      "outputs": [],
      "source": [
        "knn = KNeighborsClassifier()\n",
        "rand_search = RandomizedSearchCV(estimator = knn, param_distributions = param_grid, n_iter = 50, cv = 7, verbose=2, random_state=42, n_jobs = -1)\n",
        "rand_search.fit(click_X, click_y)\n",
        "score_knn_click = rand_search.cv_results_"
      ]
    },
    {
      "cell_type": "code",
      "execution_count": null,
      "metadata": {
        "id": "_P9QwF7E7MTX"
      },
      "outputs": [],
      "source": [
        "knn = KNeighborsClassifier()\n",
        "rand_search = RandomizedSearchCV(estimator = knn, param_distributions = param_grid, n_iter = 50, cv = 7, verbose=2, random_state=42, n_jobs = -1)\n",
        "rand_search.fit(christine_X, christine_y)\n",
        "score_knn_christine = rand_search.cv_results_"
      ]
    },
    {
      "cell_type": "code",
      "execution_count": null,
      "metadata": {
        "id": "ysSfuzKNND5v"
      },
      "outputs": [],
      "source": [
        "knn = KNeighborsClassifier()\n",
        "rand_search = RandomizedSearchCV(estimator = knn, param_distributions = param_grid, n_iter = 50, cv = 7, verbose=2, random_state=42, n_jobs = -1)\n",
        "rand_search.fit(santa_nder_X, santa_nder_y)\n",
        "score_knn_santa_nder = rand_search.cv_results_"
      ]
    },
    {
      "cell_type": "code",
      "execution_count": null,
      "metadata": {
        "id": "c7HSvkXAR5Q2"
      },
      "outputs": [],
      "source": [
        "knn = KNeighborsClassifier()\n",
        "rand_search = RandomizedSearchCV(estimator = knn, param_distributions = param_grid, n_iter = 50, cv = 7, verbose=2, random_state=42, n_jobs = -1)\n",
        "rand_search.fit(kddc_X_transform, kddc_y)\n",
        "score_knn_kddc = rand_search.cv_results_"
      ]
    },
    {
      "cell_type": "code",
      "source": [
        "# Zapisywanie wyników\n",
        "np.save('knn_score_click.npy', score_knn_click)\n",
        "np.save('knn_score_christine.npy', score_knn_christine)\n",
        "np.save('knn_score_santa_nder.npy', score_knn_santa_nder)\n",
        "np.save('knn_score_kddc.npy', score_knn_kddc)"
      ],
      "metadata": {
        "id": "PS8a5lTstuhh"
      },
      "execution_count": null,
      "outputs": []
    },
    {
      "cell_type": "markdown",
      "source": [
        "Obliczenia metodą Bayesowską dla KNN"
      ],
      "metadata": {
        "id": "cCggj5_8sy6d"
      }
    },
    {
      "cell_type": "code",
      "execution_count": null,
      "metadata": {
        "id": "4g6_CVTjN3xY"
      },
      "outputs": [],
      "source": [
        "knn = KNeighborsClassifier()\n",
        "opt_knn_christine = BayesSearchCV(knn, param_grid, n_iter=50, random_state=42)\n",
        "opt_knn_christine.fit(christine_X, christine_y)\n",
        "ob_knn_score_christine = opt_knn_christine.cv_results_"
      ]
    },
    {
      "cell_type": "code",
      "execution_count": null,
      "metadata": {
        "id": "wEIBWwnwN-V4"
      },
      "outputs": [],
      "source": [
        "knn = KNeighborsClassifier()\n",
        "opt_knn_click = BayesSearchCV(knn, param_grid, n_iter=50, random_state=42)\n",
        "opt_knn_click.fit(click_X, click_y)\n",
        "ob_knn_score_click = opt_knn_click.cv_results_"
      ]
    },
    {
      "cell_type": "code",
      "execution_count": null,
      "metadata": {
        "id": "q8lwbfWPN-3B"
      },
      "outputs": [],
      "source": [
        "knn = KNeighborsClassifier()\n",
        "opt_knn_santa_nder = BayesSearchCV(knn, param_grid, n_iter=50, random_state=42)\n",
        "opt_knn_santa_nder.fit(santa_nder_X, santa_nder_y)"
      ]
    },
    {
      "cell_type": "code",
      "execution_count": null,
      "metadata": {
        "id": "UjrjUOdwg7vo"
      },
      "outputs": [],
      "source": [
        "knn = KNeighborsClassifier()\n",
        "opt_knn_kddc = BayesSearchCV(knn, param_grid, n_iter=50, random_state=42)\n",
        "opt_knn_kddc.fit(kddc_X_transform, kddc_y)\n",
        "ob_knn_score_kddc = opt_knn_kddc.cv_results_"
      ]
    },
    {
      "cell_type": "code",
      "execution_count": null,
      "metadata": {
        "id": "ai2RdqKW5_Ed"
      },
      "outputs": [],
      "source": [
        "# Zapisywanie wyników\n",
        "np.save('op_knn_score_click.npy', score_knn_click)\n",
        "np.save('op_knn_score_christine.npy', score_knn_christine)\n",
        "np.save('op_knn_score_santa_nder.npy', score_knn_santa_nder)\n",
        "np.save('op_knn_score_kddc.npy', score_knn_kddc)"
      ]
    },
    {
      "cell_type": "markdown",
      "source": [
        "### Część III - CatBoost"
      ],
      "metadata": {
        "id": "OSoeXN_qxRpT"
      }
    },
    {
      "cell_type": "code",
      "execution_count": null,
      "metadata": {
        "id": "j5WZm9djUnTE",
        "colab": {
          "base_uri": "https://localhost:8080/"
        },
        "outputId": "de3477c7-220f-46ab-cf47-308fa1e6b551"
      },
      "outputs": [
        {
          "output_type": "stream",
          "name": "stdout",
          "text": [
            "Collecting catboost\n",
            "  Downloading catboost-1.2.2-cp310-cp310-manylinux2014_x86_64.whl (98.7 MB)\n",
            "\u001b[2K     \u001b[90m━━━━━━━━━━━━━━━━━━━━━━━━━━━━━━━━━━━━━━━━\u001b[0m \u001b[32m98.7/98.7 MB\u001b[0m \u001b[31m6.5 MB/s\u001b[0m eta \u001b[36m0:00:00\u001b[0m\n",
            "\u001b[?25hRequirement already satisfied: graphviz in /usr/local/lib/python3.10/dist-packages (from catboost) (0.20.1)\n",
            "Requirement already satisfied: matplotlib in /usr/local/lib/python3.10/dist-packages (from catboost) (3.7.1)\n",
            "Requirement already satisfied: numpy>=1.16.0 in /usr/local/lib/python3.10/dist-packages (from catboost) (1.23.5)\n",
            "Requirement already satisfied: pandas>=0.24 in /usr/local/lib/python3.10/dist-packages (from catboost) (1.5.3)\n",
            "Requirement already satisfied: scipy in /usr/local/lib/python3.10/dist-packages (from catboost) (1.11.3)\n",
            "Requirement already satisfied: plotly in /usr/local/lib/python3.10/dist-packages (from catboost) (5.15.0)\n",
            "Requirement already satisfied: six in /usr/local/lib/python3.10/dist-packages (from catboost) (1.16.0)\n",
            "Requirement already satisfied: python-dateutil>=2.8.1 in /usr/local/lib/python3.10/dist-packages (from pandas>=0.24->catboost) (2.8.2)\n",
            "Requirement already satisfied: pytz>=2020.1 in /usr/local/lib/python3.10/dist-packages (from pandas>=0.24->catboost) (2023.3.post1)\n",
            "Requirement already satisfied: contourpy>=1.0.1 in /usr/local/lib/python3.10/dist-packages (from matplotlib->catboost) (1.2.0)\n",
            "Requirement already satisfied: cycler>=0.10 in /usr/local/lib/python3.10/dist-packages (from matplotlib->catboost) (0.12.1)\n",
            "Requirement already satisfied: fonttools>=4.22.0 in /usr/local/lib/python3.10/dist-packages (from matplotlib->catboost) (4.44.3)\n",
            "Requirement already satisfied: kiwisolver>=1.0.1 in /usr/local/lib/python3.10/dist-packages (from matplotlib->catboost) (1.4.5)\n",
            "Requirement already satisfied: packaging>=20.0 in /usr/local/lib/python3.10/dist-packages (from matplotlib->catboost) (23.2)\n",
            "Requirement already satisfied: pillow>=6.2.0 in /usr/local/lib/python3.10/dist-packages (from matplotlib->catboost) (9.4.0)\n",
            "Requirement already satisfied: pyparsing>=2.3.1 in /usr/local/lib/python3.10/dist-packages (from matplotlib->catboost) (3.1.1)\n",
            "Requirement already satisfied: tenacity>=6.2.0 in /usr/local/lib/python3.10/dist-packages (from plotly->catboost) (8.2.3)\n",
            "Installing collected packages: catboost\n",
            "Successfully installed catboost-1.2.2\n"
          ]
        }
      ],
      "source": [
        "# Instalacja pakietu catboost\n",
        "# !pip install catboost"
      ]
    },
    {
      "cell_type": "code",
      "source": [
        "# Wczytanie pakietu i stworzenie modelu BatBoost\n",
        "from catboost import CatBoostClassifier"
      ],
      "metadata": {
        "id": "OSzaTztKyZvN"
      },
      "execution_count": null,
      "outputs": []
    },
    {
      "cell_type": "code",
      "execution_count": null,
      "metadata": {
        "id": "XSu1dFArwoie"
      },
      "outputs": [],
      "source": [
        "# Określenie parametrów i stworzenie siatki\n",
        "param_grid_catboost = {\n",
        "        'iterations': [100, 200, 300],\n",
        "        'learning_rate': [0.01, 0.1, 0.5],\n",
        "        'bagging_temperature': [0.1, 0.5, 1, 1.5],\n",
        "        'depth': [4, 6, 8, 10],\n",
        "        'l2_leaf_reg': [1, 3, 5, 7, 9],\n",
        "        'colsample_bylevel': [0.1, 0.5, 1.0]\n",
        "}"
      ]
    },
    {
      "cell_type": "markdown",
      "source": [
        "Obliczenia dla Random Search w przypadku CatBoost"
      ],
      "metadata": {
        "id": "LurKLD8KylHI"
      }
    },
    {
      "cell_type": "code",
      "execution_count": null,
      "metadata": {
        "id": "-RZVAE1Qybde"
      },
      "outputs": [],
      "source": [
        "# from sklearn.model_selection import GridSearchCV\n",
        "# grid_search = GridSearchCV(estimator = catboost_model, param_grid = param_grid_catboost, cv = 5, scoring = 'accuracy')\n",
        "cb_random = RandomizedSearchCV(estimator = rf, param_distributions = param_grid_catboost, n_iter = 50, cv = 5, verbose=2, random_state=42, n_jobs = -1)"
      ]
    },
    {
      "cell_type": "code",
      "execution_count": null,
      "metadata": {
        "id": "NkpCmaYEy3fO"
      },
      "outputs": [],
      "source": [
        "catboost_model = CatBoostClassifier()\n",
        "cb_random.fit(click_X, click_y)\n",
        "best_model = cb_random.best_estimator_\n",
        "score_catboost_click = cb_random.cv_results_\n",
        "np.save('score_catboost_click.npy', score_catboost_click)"
      ]
    },
    {
      "cell_type": "code",
      "execution_count": null,
      "metadata": {
        "id": "wodRStaC3eub"
      },
      "outputs": [],
      "source": [
        "catboost_model = CatBoostClassifier()\n",
        "cb_random.fit(santa_nder_X, santa_nder_y)\n",
        "best_model = cb_random.best_estimator_\n",
        "score_catboost_santa_nder = cb_random.cv_results_\n",
        "np.save('score_catboost_santa_nder.npy', score_catboost_santa_nder)"
      ]
    },
    {
      "cell_type": "code",
      "execution_count": null,
      "metadata": {
        "id": "WBStHz6k3fLD"
      },
      "outputs": [],
      "source": [
        "catboost_model = CatBoostClassifier()\n",
        "cb_random.fit(kddc_X_transform, kddc_y)\n",
        "best_model = cb_random.best_estimator_\n",
        "score_catboost_kddc = cb_random.cv_results_\n",
        "np.save('score_catboost_kddc.npy', score_catboost_kddc)"
      ]
    },
    {
      "cell_type": "code",
      "execution_count": null,
      "metadata": {
        "id": "6S-WPEIJKTAh"
      },
      "outputs": [],
      "source": [
        "catboost_model = CatBoostClassifier(cat_features=list(categorical_columns_christine))\n",
        "cb_random = GridSearchCV(estimator=catboost_model, param_grid=param_grid_catboost, cv=5, scoring='accuracy')\n",
        "cb_random.fit(christine_X, christine_y)\n",
        "best_model = cb_random.best_estimator_\n",
        "score_catboost_christine = cb_random.cv_results_['mean_test_score']\n",
        "np.save('score_catboost_christine.npy', score_catboost_christine)"
      ]
    },
    {
      "cell_type": "markdown",
      "source": [
        "Obliczenia metodą Bayesowską dla Catboost"
      ],
      "metadata": {
        "id": "BpIYCrpCy_Rk"
      }
    },
    {
      "cell_type": "code",
      "source": [
        "catboost_model = CatBoostClassifier()\n",
        "opt = BayesSearchCV(catboost_model, param_grid_catboost, n_iter=50, random_state=42)\n",
        "_ = opt.fit(click_X, click_y)\n",
        "# Get the best parameters\n",
        "best_params = opt.best_params_\n",
        "print(\"Best Parameters:\", best_params)\n",
        "print(opt.score(click_X, click_y))\n",
        "bs_cb_results_click = opt.cv_results_\n",
        "np.save('bs_cb_results_click.npy', bs_cb_results_click)"
      ],
      "metadata": {
        "id": "y7swVx1KzDnn"
      },
      "execution_count": null,
      "outputs": []
    },
    {
      "cell_type": "code",
      "source": [
        "catboost_model = CatBoostClassifier()\n",
        "opt = BayesSearchCV(catboost_model, param_grid_catboost, n_iter=50, random_state=42)\n",
        "_ = opt.fit(santa_nder_X, santa_nder_y)\n",
        "# Get the best parameters\n",
        "best_params = opt.best_params_\n",
        "print(\"Best Parameters:\", best_params)\n",
        "print(opt.score(santa_nder_X, santa_nder_y))\n",
        "bs_cb_results_santa_nder = opt.cv_results_\n",
        "np.save('bs_cb_results_santa_nder.npy', bs_cb_results_santa_nder)"
      ],
      "metadata": {
        "id": "qJqX9lZZHgmD"
      },
      "execution_count": null,
      "outputs": []
    },
    {
      "cell_type": "code",
      "source": [
        "catboost_model = CatBoostClassifier()\n",
        "opt = BayesSearchCV(catboost_model, param_grid_catboost, n_iter=50, random_state=42)\n",
        "_ = opt.fit(kddc_X_transform, kddc_y)\n",
        "# Get the best parameters\n",
        "best_params = opt.best_params_\n",
        "print(\"Best Parameters:\", best_params)\n",
        "print(opt.score(kddc_X_transform, kddc_y))\n",
        "bs_cb_results_kddc = opt.cv_results_\n",
        "np.save('bs_cb_results_kddc.npy', bs_cb_results_kddc)"
      ],
      "metadata": {
        "id": "oGY68f_jHwNi"
      },
      "execution_count": null,
      "outputs": []
    },
    {
      "cell_type": "code",
      "source": [
        "catboost_model = CatBoostClassifier(cat_features=list(categorical_columns_christine))\n",
        "opt = BayesSearchCV(catboost_model, param_grid_catboost, n_iter=30, random_state=42)\n",
        "_ = opt.fit(christine_X, christine_y)\n",
        "# Get the best parameters\n",
        "best_params = opt.best_params_\n",
        "print(\"Best Parameters:\", best_params)\n",
        "print(opt.score(christine_X, christine_y))\n",
        "bs_cb_results_christine = opt.cv_results_['mean_test_score']\n",
        "np.save('bs_cb_results_christine.npy', bs_cb_results_christine)"
      ],
      "metadata": {
        "id": "FexDHLPrzGtV"
      },
      "execution_count": null,
      "outputs": []
    },
    {
      "cell_type": "code",
      "source": [],
      "metadata": {
        "id": "kxOt8Hy-nX-B"
      },
      "execution_count": null,
      "outputs": []
    }
  ],
  "metadata": {
    "colab": {
      "provenance": []
    },
    "kernelspec": {
      "display_name": "Python 3",
      "name": "python3"
    },
    "language_info": {
      "name": "python"
    }
  },
  "nbformat": 4,
  "nbformat_minor": 0
}