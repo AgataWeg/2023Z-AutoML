{
 "cells": [
  {
   "cell_type": "code",
   "execution_count": 2,
   "metadata": {},
   "outputs": [],
   "source": [
    "import numpy as np\n",
    "import pandas as pd\n",
    "from scipy.stats import wilcoxon"
   ]
  },
  {
   "cell_type": "markdown",
   "metadata": {},
   "source": [
    "### KNN"
   ]
  },
  {
   "cell_type": "markdown",
   "metadata": {},
   "source": [
    "#### RandomSearch"
   ]
  },
  {
   "cell_type": "code",
   "execution_count": 3,
   "metadata": {},
   "outputs": [],
   "source": [
    "knn_score_kddc = np.load('C:/Users/User/Desktop/AutoML/pro1/knn_score_kddc.npy',allow_pickle=True).item()\n",
    "knn_score_santa_nder = np.load('C:/Users/User/Desktop/AutoML/pro1/knn_score_santa_nder.npy',allow_pickle=True).item()\n",
    "knn_score_click = np.load('C:/Users/User/Desktop/AutoML/pro1/knn_score_click.npy',allow_pickle=True).item()\n",
    "knn_score_christine = np.load('C:/Users/User/Desktop/AutoML/pro1/knn_score_christine.npy',allow_pickle=True).item()"
   ]
  },
  {
   "cell_type": "markdown",
   "metadata": {},
   "source": [
    "#### Bayes"
   ]
  },
  {
   "cell_type": "code",
   "execution_count": 4,
   "metadata": {},
   "outputs": [],
   "source": [
    "op_knn_score_christine = np.load('C:/Users/User/Desktop/AutoML/pro1/op_knn_score_christine.npy',allow_pickle=True).item()\n",
    "op_knn_score_click = np.load('C:/Users/User/Desktop/AutoML/pro1/op_knn_score_click.npy',allow_pickle=True).item()\n",
    "op_knn_score_santa_nder = np.load('C:/Users/User/Desktop/AutoML/pro1/op_knn_score_santa_nder.npy',allow_pickle=True).item()\n",
    "op_knn_score_kddc = np.load('C:/Users/User/Desktop/AutoML/pro1/op_knn_score_kddc.npy',allow_pickle=True).item()"
   ]
  },
  {
   "cell_type": "markdown",
   "metadata": {},
   "source": [
    "### Random Forest"
   ]
  },
  {
   "cell_type": "markdown",
   "metadata": {},
   "source": [
    "#### Random Search"
   ]
  },
  {
   "cell_type": "code",
   "execution_count": 5,
   "metadata": {},
   "outputs": [],
   "source": [
    "rf_score_kddc = np.load('C:/Users/User/Desktop/AutoML/pro1/randomforestclassifier_score_kddc.npy',allow_pickle=True).item()\n",
    "rf_score_click = np.load('C:/Users/User/Desktop/AutoML/pro1/randomforestclassifier_score_click.npy',allow_pickle=True).item()\n",
    "rf_score_santa_nder = np.load('C:/Users/User/Desktop/AutoML/pro1/randomforestclassifier_score_santa_nder.npy',allow_pickle=True).item()\n",
    "rf_score_christine = np.load('C:/Users/User/Desktop/AutoML/pro1/randomforestclassifier_score_christine.npy',allow_pickle=True).item()"
   ]
  },
  {
   "cell_type": "markdown",
   "metadata": {},
   "source": [
    "#### Bayes"
   ]
  },
  {
   "cell_type": "code",
   "execution_count": 6,
   "metadata": {},
   "outputs": [],
   "source": [
    "op_rf_score_christine = np.load('C:/Users/User/Desktop/AutoML/pro1/op_rf_score_christine.npy',allow_pickle=True).item()\n",
    "op_rf_score_click = np.load('C:/Users/User/Desktop/AutoML/pro1/op_rf_score_click.npy',allow_pickle=True).item()\n",
    "op_rf_score_santa_nder = np.load('C:/Users/User/Desktop/AutoML/pro1/op_rf_score_santa_nder.npy',allow_pickle=True).item()\n",
    "op_rf_score_kddc = np.load('C:/Users/User/Desktop/AutoML/pro1/op_rf_score_kddc.npy',allow_pickle=True).item()"
   ]
  },
  {
   "cell_type": "markdown",
   "metadata": {},
   "source": [
    "### CatBoost"
   ]
  },
  {
   "cell_type": "markdown",
   "metadata": {},
   "source": [
    "#### RandomSearch"
   ]
  },
  {
   "cell_type": "code",
   "execution_count": 7,
   "metadata": {},
   "outputs": [],
   "source": [
    "score_catboost_kddc = np.load('C:/Users/User/Desktop/AutoML/pro1/score_catboost_kddc.npy',allow_pickle=True).item()\n",
    "score_catboost_click = np.load('C:/Users/User/Desktop/AutoML/pro1/score_catboost_click.npy',allow_pickle=True).item()\n",
    "score_catboost_santa_nder = np.load('C:/Users/User/Desktop/AutoML/pro1/score_catboost_santa_nder.npy',allow_pickle=True).item()\n",
    "# score_catboost_christine = np.load('C:/Users/User/Desktop/AutoML/pro1/randomforestclassifier_score_christine.npy',allow_pickle=True).item()"
   ]
  },
  {
   "cell_type": "markdown",
   "metadata": {},
   "source": [
    "### Bayes"
   ]
  },
  {
   "cell_type": "code",
   "execution_count": 8,
   "metadata": {},
   "outputs": [],
   "source": [
    "# bs_cb_results_christine = np.load('C:/Users/User/Desktop/AutoML/pro1/op_rf_score_christine.npy',allow_pickle=True).item()\n",
    "bs_cb_results_click = np.load('C:/Users/User/Desktop/AutoML/pro1/catboostclassifier_score_click_bayes.npy',allow_pickle=True).item()\n",
    "bs_cb_results_santa_nder = np.load('C:/Users/User/Desktop/AutoML/pro1/catboostclassifier_score_santa_nder_bayes.npy',allow_pickle=True).item()\n",
    "bs_cb_results_kddc = np.load('C:/Users/User/Desktop/AutoML/pro1/catboostclassifier_score_kddc_bayes.npy',allow_pickle=True).item()"
   ]
  },
  {
   "cell_type": "markdown",
   "metadata": {},
   "source": [
    "### Wilcoxon"
   ]
  },
  {
   "cell_type": "code",
   "execution_count": 9,
   "metadata": {},
   "outputs": [],
   "source": [
    "alpha = 0.05"
   ]
  },
  {
   "cell_type": "markdown",
   "metadata": {},
   "source": [
    "#### KNN"
   ]
  },
  {
   "cell_type": "markdown",
   "metadata": {},
   "source": [
    "##### KDDC"
   ]
  },
  {
   "cell_type": "code",
   "execution_count": 10,
   "metadata": {},
   "outputs": [
    {
     "name": "stdout",
     "output_type": "stream",
     "text": [
      "Istnieją istotne różnice między próbkami (p < 0.05), gdzie p = 5.640e-05\n"
     ]
    }
   ],
   "source": [
    "mean_knn_score_kddc = pd.DataFrame(knn_score_kddc)['mean_test_score'].tolist()\n",
    "mean_op_knn_score_kddc = pd.DataFrame(op_knn_score_kddc)['mean_test_score'].tolist()\n",
    "stat_knn_kddc, p_value_knn_kddc = wilcoxon(mean_knn_score_kddc, mean_op_knn_score_kddc)\n",
    "if p_value_knn_kddc < alpha:\n",
    "    print(f\"Istnieją istotne różnice między próbkami (p < 0.05), gdzie p = {f'{p_value_knn_kddc:.3e}'}\")\n",
    "else:\n",
    "    print(f\"Brak istotnych różnic między próbkami (p >= 0.05), gdzie p = {f'{p_value_knn_kddc:.3e}'}\")"
   ]
  },
  {
   "cell_type": "markdown",
   "metadata": {},
   "source": [
    "##### Santander"
   ]
  },
  {
   "cell_type": "code",
   "execution_count": 49,
   "metadata": {},
   "outputs": [
    {
     "name": "stdout",
     "output_type": "stream",
     "text": [
      "Istnieją istotne różnice między próbkami (p < 0.05), gdzie p = 1.105e-03\n"
     ]
    }
   ],
   "source": [
    "mean_knn_score_santa_nder = pd.DataFrame(knn_score_santa_nder)['mean_test_score'].tolist()\n",
    "mean_op_knn_score_santa_nder = pd.DataFrame(op_knn_score_santa_nder)['mean_test_score'].tolist()\n",
    "stat_knn_santa_nder, p_value_knn_santa_nder = wilcoxon(mean_knn_score_santa_nder, mean_op_knn_score_santa_nder)\n",
    "if p_value_knn_santa_nder < alpha:\n",
    "    print(f\"Istnieją istotne różnice między próbkami (p < 0.05), gdzie p = {f'{p_value_knn_santa_nder:.3e}'}\")\n",
    "else:\n",
    "    print(f\"Brak istotnych różnic między próbkami (p >= 0.05), gdzie p = {f'{p_value_knn_santa_nder:.3e}'}\")"
   ]
  },
  {
   "cell_type": "code",
   "execution_count": 13,
   "metadata": {},
   "outputs": [
    {
     "data": {
      "text/plain": [
       "{'mean_fit_time': array([0.02250525, 0.02995058, 0.03593911, 0.03471705, 0.03732797,\n",
       "        0.03408204, 0.0335034 , 0.0371466 , 0.03618486, 0.03484249,\n",
       "        0.04018882, 0.04250251, 0.03934843, 0.03584375, 0.03222833,\n",
       "        0.03679228, 0.03618738, 0.03530417, 0.03435523, 0.03634596,\n",
       "        0.03519882, 0.04079972, 0.04444923, 0.04426473, 0.04282004,\n",
       "        0.0414661 , 0.03337499, 0.047558  , 0.03845351, 0.04144703,\n",
       "        0.03767249, 0.03867657, 0.04461813, 0.03843842, 0.03414318,\n",
       "        0.03593894, 0.03966005, 0.03664783, 0.03462577, 0.03464437,\n",
       "        0.0367324 , 0.03336014, 0.03781053, 0.0407143 , 0.03930814,\n",
       "        0.03714228, 0.03721799, 0.03532631, 0.03714643, 0.03501371]),\n",
       " 'std_fit_time': array([5.00574741e-07, 7.36631697e-03, 2.51620207e-03, 8.80280632e-04,\n",
       "        1.32285596e-03, 2.07867025e-03, 1.81578495e-03, 2.09903205e-03,\n",
       "        4.38849473e-03, 1.88546162e-03, 2.67454874e-03, 4.86336559e-03,\n",
       "        1.67849185e-03, 2.26088562e-03, 8.00785030e-04, 5.32528389e-03,\n",
       "        5.15404749e-03, 2.74904718e-03, 2.62338667e-03, 5.53318030e-03,\n",
       "        4.98527801e-03, 1.03412358e-02, 7.97698043e-03, 5.69926437e-03,\n",
       "        5.39996539e-03, 1.21019611e-02, 9.93169897e-04, 1.47348815e-02,\n",
       "        2.53147625e-03, 6.03135472e-03, 6.83479508e-03, 3.49712891e-03,\n",
       "        7.30835518e-03, 6.37658992e-03, 3.52260829e-03, 1.42650156e-03,\n",
       "        4.11332194e-03, 5.25308644e-03, 1.26768731e-03, 3.12436043e-03,\n",
       "        6.13907958e-03, 1.63859777e-03, 7.05268883e-03, 8.94255257e-03,\n",
       "        5.45965819e-03, 2.54657535e-03, 6.23714668e-03, 2.05261746e-03,\n",
       "        2.57437695e-03, 4.59248333e-03]),\n",
       " 'mean_score_time': array([12.3703993 ,  0.47029536, 12.51085523,  0.5363918 ,  0.61316623,\n",
       "        12.3290941 , 12.50799864,  0.5149576 , 12.8372973 ,  0.54031818,\n",
       "         0.6512429 ,  0.66676736,  0.49069732, 12.29923235, 12.3799291 ,\n",
       "         0.55425113, 12.17971693, 12.13228263, 12.39127091, 12.57090354,\n",
       "        12.58594493, 13.95536378,  0.71606633,  0.88580721,  0.67991342,\n",
       "        13.16413631,  0.53522669,  0.66887157, 12.97825428, 12.66787658,\n",
       "        12.63846043,  0.62859137,  0.65092138, 12.29926048, 12.62452854,\n",
       "         0.61391926,  0.61322539, 12.47078351,  0.58883357, 12.3717182 ,\n",
       "        12.30385705, 12.32401889, 12.48377333, 12.96513762,  0.63093625,\n",
       "        12.28913379, 12.39824888,  0.62192903, 12.59080601,  0.52106374]),\n",
       " 'std_score_time': array([0.91694795, 0.08546646, 0.91001855, 0.01308933, 0.02801023,\n",
       "        0.90826574, 0.88734727, 0.02202802, 0.94630361, 0.01692607,\n",
       "        0.01317936, 0.02405157, 0.02265611, 0.90946092, 0.91994735,\n",
       "        0.01513005, 0.92596194, 0.90033095, 0.81865519, 0.90603119,\n",
       "        0.98412114, 0.88673251, 0.13026729, 0.1188342 , 0.01662181,\n",
       "        1.07675432, 0.01389224, 0.0542002 , 0.85600364, 1.01264618,\n",
       "        0.96674577, 0.01641114, 0.03272642, 0.92209504, 0.84620422,\n",
       "        0.01758262, 0.01595129, 0.95661843, 0.01141392, 0.97760708,\n",
       "        1.02412006, 0.93414046, 0.83217429, 1.06757404, 0.03049876,\n",
       "        0.93513131, 0.73424775, 0.04152026, 1.01805487, 0.02057624]),\n",
       " 'param_weights': masked_array(data=['uniform', 'distance', 'uniform', 'distance',\n",
       "                    'uniform', 'uniform', 'distance', 'uniform', 'uniform',\n",
       "                    'distance', 'uniform', 'uniform', 'distance',\n",
       "                    'uniform', 'distance', 'distance', 'distance',\n",
       "                    'uniform', 'uniform', 'uniform', 'distance',\n",
       "                    'distance', 'distance', 'uniform', 'uniform',\n",
       "                    'uniform', 'distance', 'uniform', 'uniform',\n",
       "                    'distance', 'uniform', 'uniform', 'uniform', 'uniform',\n",
       "                    'uniform', 'uniform', 'uniform', 'distance', 'uniform',\n",
       "                    'distance', 'distance', 'distance', 'distance',\n",
       "                    'uniform', 'uniform', 'distance', 'distance',\n",
       "                    'uniform', 'uniform', 'distance'],\n",
       "              mask=[False, False, False, False, False, False, False, False,\n",
       "                    False, False, False, False, False, False, False, False,\n",
       "                    False, False, False, False, False, False, False, False,\n",
       "                    False, False, False, False, False, False, False, False,\n",
       "                    False, False, False, False, False, False, False, False,\n",
       "                    False, False, False, False, False, False, False, False,\n",
       "                    False, False],\n",
       "        fill_value='?',\n",
       "             dtype=object),\n",
       " 'param_p': masked_array(data=[1, 2, 1, 2, 2, 1, 1, 2, 1, 2, 2, 2, 2, 1, 1, 2, 1, 1,\n",
       "                    1, 1, 1, 1, 2, 2, 2, 1, 2, 2, 1, 1, 1, 2, 2, 1, 1, 2,\n",
       "                    2, 1, 2, 1, 1, 1, 1, 1, 2, 1, 1, 2, 1, 2],\n",
       "              mask=[False, False, False, False, False, False, False, False,\n",
       "                    False, False, False, False, False, False, False, False,\n",
       "                    False, False, False, False, False, False, False, False,\n",
       "                    False, False, False, False, False, False, False, False,\n",
       "                    False, False, False, False, False, False, False, False,\n",
       "                    False, False, False, False, False, False, False, False,\n",
       "                    False, False],\n",
       "        fill_value='?',\n",
       "             dtype=object),\n",
       " 'param_n_neighbors': masked_array(data=[12, 12, 2, 14, 7, 17, 19, 3, 11, 27, 5, 16, 3, 10, 23,\n",
       "                    23, 28, 1, 23, 27, 17, 12, 8, 18, 11, 4, 4, 29, 20, 25,\n",
       "                    7, 20, 6, 25, 15, 28, 8, 14, 30, 3, 9, 7, 18, 8, 25,\n",
       "                    22, 2, 23, 18, 10],\n",
       "              mask=[False, False, False, False, False, False, False, False,\n",
       "                    False, False, False, False, False, False, False, False,\n",
       "                    False, False, False, False, False, False, False, False,\n",
       "                    False, False, False, False, False, False, False, False,\n",
       "                    False, False, False, False, False, False, False, False,\n",
       "                    False, False, False, False, False, False, False, False,\n",
       "                    False, False],\n",
       "        fill_value='?',\n",
       "             dtype=object),\n",
       " 'params': [{'weights': 'uniform', 'p': 1, 'n_neighbors': 12},\n",
       "  {'weights': 'distance', 'p': 2, 'n_neighbors': 12},\n",
       "  {'weights': 'uniform', 'p': 1, 'n_neighbors': 2},\n",
       "  {'weights': 'distance', 'p': 2, 'n_neighbors': 14},\n",
       "  {'weights': 'uniform', 'p': 2, 'n_neighbors': 7},\n",
       "  {'weights': 'uniform', 'p': 1, 'n_neighbors': 17},\n",
       "  {'weights': 'distance', 'p': 1, 'n_neighbors': 19},\n",
       "  {'weights': 'uniform', 'p': 2, 'n_neighbors': 3},\n",
       "  {'weights': 'uniform', 'p': 1, 'n_neighbors': 11},\n",
       "  {'weights': 'distance', 'p': 2, 'n_neighbors': 27},\n",
       "  {'weights': 'uniform', 'p': 2, 'n_neighbors': 5},\n",
       "  {'weights': 'uniform', 'p': 2, 'n_neighbors': 16},\n",
       "  {'weights': 'distance', 'p': 2, 'n_neighbors': 3},\n",
       "  {'weights': 'uniform', 'p': 1, 'n_neighbors': 10},\n",
       "  {'weights': 'distance', 'p': 1, 'n_neighbors': 23},\n",
       "  {'weights': 'distance', 'p': 2, 'n_neighbors': 23},\n",
       "  {'weights': 'distance', 'p': 1, 'n_neighbors': 28},\n",
       "  {'weights': 'uniform', 'p': 1, 'n_neighbors': 1},\n",
       "  {'weights': 'uniform', 'p': 1, 'n_neighbors': 23},\n",
       "  {'weights': 'uniform', 'p': 1, 'n_neighbors': 27},\n",
       "  {'weights': 'distance', 'p': 1, 'n_neighbors': 17},\n",
       "  {'weights': 'distance', 'p': 1, 'n_neighbors': 12},\n",
       "  {'weights': 'distance', 'p': 2, 'n_neighbors': 8},\n",
       "  {'weights': 'uniform', 'p': 2, 'n_neighbors': 18},\n",
       "  {'weights': 'uniform', 'p': 2, 'n_neighbors': 11},\n",
       "  {'weights': 'uniform', 'p': 1, 'n_neighbors': 4},\n",
       "  {'weights': 'distance', 'p': 2, 'n_neighbors': 4},\n",
       "  {'weights': 'uniform', 'p': 2, 'n_neighbors': 29},\n",
       "  {'weights': 'uniform', 'p': 1, 'n_neighbors': 20},\n",
       "  {'weights': 'distance', 'p': 1, 'n_neighbors': 25},\n",
       "  {'weights': 'uniform', 'p': 1, 'n_neighbors': 7},\n",
       "  {'weights': 'uniform', 'p': 2, 'n_neighbors': 20},\n",
       "  {'weights': 'uniform', 'p': 2, 'n_neighbors': 6},\n",
       "  {'weights': 'uniform', 'p': 1, 'n_neighbors': 25},\n",
       "  {'weights': 'uniform', 'p': 1, 'n_neighbors': 15},\n",
       "  {'weights': 'uniform', 'p': 2, 'n_neighbors': 28},\n",
       "  {'weights': 'uniform', 'p': 2, 'n_neighbors': 8},\n",
       "  {'weights': 'distance', 'p': 1, 'n_neighbors': 14},\n",
       "  {'weights': 'uniform', 'p': 2, 'n_neighbors': 30},\n",
       "  {'weights': 'distance', 'p': 1, 'n_neighbors': 3},\n",
       "  {'weights': 'distance', 'p': 1, 'n_neighbors': 9},\n",
       "  {'weights': 'distance', 'p': 1, 'n_neighbors': 7},\n",
       "  {'weights': 'distance', 'p': 1, 'n_neighbors': 18},\n",
       "  {'weights': 'uniform', 'p': 1, 'n_neighbors': 8},\n",
       "  {'weights': 'uniform', 'p': 2, 'n_neighbors': 25},\n",
       "  {'weights': 'distance', 'p': 1, 'n_neighbors': 22},\n",
       "  {'weights': 'distance', 'p': 1, 'n_neighbors': 2},\n",
       "  {'weights': 'uniform', 'p': 2, 'n_neighbors': 23},\n",
       "  {'weights': 'uniform', 'p': 1, 'n_neighbors': 18},\n",
       "  {'weights': 'distance', 'p': 2, 'n_neighbors': 10}],\n",
       " 'split0_test_score': array([0.9013296 , 0.9013296 , 0.89853044, 0.9013296 , 0.90062981,\n",
       "        0.9013296 , 0.9013296 , 0.89083275, 0.9013296 , 0.9013296 ,\n",
       "        0.89993002, 0.9013296 , 0.89083275, 0.9013296 , 0.9013296 ,\n",
       "        0.9013296 , 0.9013296 , 0.86004199, 0.9013296 , 0.9013296 ,\n",
       "        0.9013296 , 0.9013296 , 0.90062981, 0.9013296 , 0.9013296 ,\n",
       "        0.90062981, 0.89293212, 0.9013296 , 0.9013296 , 0.9013296 ,\n",
       "        0.9013296 , 0.9013296 , 0.90062981, 0.9013296 , 0.9013296 ,\n",
       "        0.9013296 , 0.9013296 , 0.9013296 , 0.9013296 , 0.89363191,\n",
       "        0.9013296 , 0.9013296 , 0.9013296 , 0.9013296 , 0.9013296 ,\n",
       "        0.9013296 , 0.86004199, 0.9013296 , 0.9013296 , 0.9013296 ]),\n",
       " 'split1_test_score': array([0.9013296 , 0.9013296 , 0.89923023, 0.9013296 , 0.9013296 ,\n",
       "        0.9013296 , 0.9013296 , 0.8943317 , 0.9013296 , 0.9013296 ,\n",
       "        0.9013296 , 0.9013296 , 0.8943317 , 0.9013296 , 0.9013296 ,\n",
       "        0.9013296 , 0.9013296 , 0.86284115, 0.9013296 , 0.9013296 ,\n",
       "        0.9013296 , 0.9013296 , 0.9013296 , 0.9013296 , 0.9013296 ,\n",
       "        0.9013296 , 0.89573128, 0.9013296 , 0.9013296 , 0.9013296 ,\n",
       "        0.9013296 , 0.9013296 , 0.9013296 , 0.9013296 , 0.9013296 ,\n",
       "        0.9013296 , 0.9013296 , 0.9013296 , 0.9013296 , 0.8943317 ,\n",
       "        0.9013296 , 0.9013296 , 0.9013296 , 0.9013296 , 0.9013296 ,\n",
       "        0.9013296 , 0.86284115, 0.9013296 , 0.9013296 , 0.9013296 ]),\n",
       " 'split2_test_score': array([0.9013296 , 0.9013296 , 0.9013296 , 0.9013296 , 0.90062981,\n",
       "        0.9013296 , 0.9013296 , 0.89573128, 0.9013296 , 0.9013296 ,\n",
       "        0.89923023, 0.9013296 , 0.89573128, 0.9013296 , 0.9013296 ,\n",
       "        0.9013296 , 0.9013296 , 0.86424073, 0.9013296 , 0.9013296 ,\n",
       "        0.9013296 , 0.9013296 , 0.90062981, 0.9013296 , 0.9013296 ,\n",
       "        0.9013296 , 0.89643107, 0.9013296 , 0.9013296 , 0.9013296 ,\n",
       "        0.90062981, 0.9013296 , 0.9013296 , 0.9013296 , 0.9013296 ,\n",
       "        0.9013296 , 0.9013296 , 0.9013296 , 0.9013296 , 0.89853044,\n",
       "        0.9013296 , 0.90062981, 0.9013296 , 0.9013296 , 0.9013296 ,\n",
       "        0.9013296 , 0.86424073, 0.9013296 , 0.9013296 , 0.9013296 ]),\n",
       " 'split3_test_score': array([0.9013296 , 0.9013296 , 0.90062981, 0.9013296 , 0.90062981,\n",
       "        0.9013296 , 0.9013296 , 0.89713086, 0.9013296 , 0.9013296 ,\n",
       "        0.89923023, 0.9013296 , 0.89713086, 0.9013296 , 0.9013296 ,\n",
       "        0.9013296 , 0.9013296 , 0.85654304, 0.9013296 , 0.9013296 ,\n",
       "        0.9013296 , 0.9013296 , 0.90062981, 0.9013296 , 0.9013296 ,\n",
       "        0.90062981, 0.89643107, 0.9013296 , 0.9013296 , 0.9013296 ,\n",
       "        0.9013296 , 0.9013296 , 0.9013296 , 0.9013296 , 0.9013296 ,\n",
       "        0.9013296 , 0.9013296 , 0.9013296 , 0.9013296 , 0.89713086,\n",
       "        0.9013296 , 0.9013296 , 0.9013296 , 0.9013296 , 0.9013296 ,\n",
       "        0.9013296 , 0.85654304, 0.9013296 , 0.9013296 , 0.90062981]),\n",
       " 'split4_test_score': array([0.90196078, 0.90196078, 0.89985994, 0.90196078, 0.90266106,\n",
       "        0.90196078, 0.90196078, 0.8907563 , 0.90196078, 0.90196078,\n",
       "        0.89985994, 0.90196078, 0.8907563 , 0.90196078, 0.90196078,\n",
       "        0.90196078, 0.90196078, 0.87184874, 0.90196078, 0.90196078,\n",
       "        0.90196078, 0.90196078, 0.9012605 , 0.90196078, 0.90196078,\n",
       "        0.90196078, 0.88935574, 0.90196078, 0.90196078, 0.90196078,\n",
       "        0.90196078, 0.90196078, 0.90196078, 0.90196078, 0.90196078,\n",
       "        0.90196078, 0.90196078, 0.90196078, 0.90196078, 0.89845938,\n",
       "        0.90196078, 0.90196078, 0.90196078, 0.90196078, 0.90196078,\n",
       "        0.90196078, 0.87184874, 0.90196078, 0.90196078, 0.90196078]),\n",
       " 'split5_test_score': array([0.90196078, 0.90196078, 0.89985994, 0.90196078, 0.90196078,\n",
       "        0.90196078, 0.90196078, 0.89565826, 0.90196078, 0.90196078,\n",
       "        0.90056022, 0.90196078, 0.89565826, 0.90196078, 0.90196078,\n",
       "        0.90196078, 0.90196078, 0.87184874, 0.90196078, 0.90196078,\n",
       "        0.90196078, 0.90196078, 0.90196078, 0.90196078, 0.90196078,\n",
       "        0.9012605 , 0.89495798, 0.90196078, 0.90196078, 0.90196078,\n",
       "        0.9012605 , 0.90196078, 0.90196078, 0.90196078, 0.90196078,\n",
       "        0.90196078, 0.90196078, 0.9012605 , 0.90196078, 0.89985994,\n",
       "        0.9012605 , 0.9012605 , 0.90196078, 0.9012605 , 0.90196078,\n",
       "        0.90196078, 0.87184874, 0.90196078, 0.90196078, 0.90196078]),\n",
       " 'split6_test_score': array([0.9012605 , 0.9012605 , 0.8942577 , 0.9012605 , 0.9012605 ,\n",
       "        0.9012605 , 0.9012605 , 0.89005602, 0.9012605 , 0.9012605 ,\n",
       "        0.89985994, 0.9012605 , 0.89005602, 0.9012605 , 0.9012605 ,\n",
       "        0.9012605 , 0.9012605 , 0.86694678, 0.9012605 , 0.9012605 ,\n",
       "        0.9012605 , 0.9012605 , 0.9012605 , 0.9012605 , 0.9012605 ,\n",
       "        0.90056022, 0.88935574, 0.9012605 , 0.9012605 , 0.9012605 ,\n",
       "        0.9012605 , 0.9012605 , 0.9012605 , 0.9012605 , 0.9012605 ,\n",
       "        0.9012605 , 0.9012605 , 0.9012605 , 0.9012605 , 0.89005602,\n",
       "        0.9012605 , 0.9012605 , 0.9012605 , 0.9012605 , 0.9012605 ,\n",
       "        0.9012605 , 0.86694678, 0.9012605 , 0.9012605 , 0.9012605 ]),\n",
       " 'mean_test_score': array([0.90150007, 0.90150007, 0.89909967, 0.90150007, 0.9013002 ,\n",
       "        0.90150007, 0.90150007, 0.8934996 , 0.90150007, 0.90150007,\n",
       "        0.90000003, 0.90150007, 0.8934996 , 0.90150007, 0.90150007,\n",
       "        0.90150007, 0.90150007, 0.86490159, 0.90150007, 0.90150007,\n",
       "        0.90150007, 0.90150007, 0.90110012, 0.90150007, 0.90150007,\n",
       "        0.90110005, 0.89359929, 0.90150007, 0.90150007, 0.90150007,\n",
       "        0.90130006, 0.90150007, 0.9014001 , 0.90150007, 0.90150007,\n",
       "        0.90150007, 0.90150007, 0.90140003, 0.90150007, 0.89600004,\n",
       "        0.90140003, 0.90130006, 0.90150007, 0.90140003, 0.90150007,\n",
       "        0.90150007, 0.86490159, 0.90150007, 0.90150007, 0.9014001 ]),\n",
       " 'std_test_score': array([0.00029232, 0.00029232, 0.00214661, 0.00029232, 0.00072101,\n",
       "        0.00029232, 0.00029232, 0.002673  , 0.00029232, 0.00029232,\n",
       "        0.00068774, 0.00029232, 0.002673  , 0.00029232, 0.00029232,\n",
       "        0.00029232, 0.00029232, 0.00533013, 0.00029232, 0.00029232,\n",
       "        0.00029232, 0.00029232, 0.00046421, 0.00029232, 0.00029232,\n",
       "        0.00047894, 0.00290049, 0.00029232, 0.00029232, 0.00029232,\n",
       "        0.00035688, 0.00029232, 0.00042367, 0.00029232, 0.00029232,\n",
       "        0.00029232, 0.00029232, 0.00023091, 0.00029232, 0.00321496,\n",
       "        0.00023091, 0.00035688, 0.00029232, 0.00023091, 0.00029232,\n",
       "        0.00029232, 0.00533013, 0.00029232, 0.00029232, 0.00042367]),\n",
       " 'rank_test_score': array([ 1,  1, 44,  1, 38,  1,  1, 47,  1,  1, 43,  1, 47,  1,  1,  1,  1,\n",
       "        49,  1,  1,  1,  1, 41,  1,  1, 42, 46,  1,  1,  1, 39,  1, 33,  1,\n",
       "         1,  1,  1, 35,  1, 45, 35, 39,  1, 35,  1,  1, 49,  1,  1, 33])}"
      ]
     },
     "execution_count": 13,
     "metadata": {},
     "output_type": "execute_result"
    }
   ],
   "source": [
    "knn_score_santa_nder"
   ]
  },
  {
   "cell_type": "markdown",
   "metadata": {},
   "source": [
    "##### Click"
   ]
  },
  {
   "cell_type": "code",
   "execution_count": 50,
   "metadata": {},
   "outputs": [
    {
     "name": "stdout",
     "output_type": "stream",
     "text": [
      "Istnieją istotne różnice między próbkami (p < 0.05), gdzie p = 2.179e-02\n"
     ]
    }
   ],
   "source": [
    "mean_knn_score_click = pd.DataFrame(knn_score_click)['mean_test_score'].tolist()\n",
    "mean_op_knn_score_click = pd.DataFrame(op_knn_score_click)['mean_test_score'].tolist()\n",
    "stat_knn_click, p_value_knn_click = wilcoxon(mean_knn_score_click, mean_op_knn_score_click)\n",
    "if p_value_knn_click < alpha:\n",
    "    print(f\"Istnieją istotne różnice między próbkami (p < 0.05), gdzie p = {f'{p_value_knn_click:.3e}'}\")\n",
    "else:\n",
    "    print(f\"Brak istotnych różnic między próbkami (p >= 0.05), gdzie p = {f'{p_value_knn_click:.3e}'}\")"
   ]
  },
  {
   "cell_type": "markdown",
   "metadata": {},
   "source": [
    "##### Christine"
   ]
  },
  {
   "cell_type": "code",
   "execution_count": 51,
   "metadata": {},
   "outputs": [
    {
     "name": "stdout",
     "output_type": "stream",
     "text": [
      "Istnieją istotne różnice między próbkami (p < 0.05), gdzie p = 3.369e-02\n"
     ]
    }
   ],
   "source": [
    "mean_knn_score_christine = pd.DataFrame(knn_score_christine)['mean_test_score'].tolist()\n",
    "mean_op_knn_score_christine = pd.DataFrame(op_knn_score_christine)['mean_test_score'].tolist()\n",
    "stat_knn_christine, p_value_knn_christine = wilcoxon(mean_knn_score_christine, mean_op_knn_score_christine)\n",
    "if p_value_knn_christine < alpha:\n",
    "    print(f\"Istnieją istotne różnice między próbkami (p < 0.05), gdzie p = {f'{p_value_knn_christine:.3e}'}\")\n",
    "else:\n",
    "    print(f\"Brak istotnych różnic między próbkami (p >= 0.05), gdzie p = {f'{p_value_knn_christine:.3e}'}\")"
   ]
  },
  {
   "cell_type": "markdown",
   "metadata": {},
   "source": [
    "#### Random Forest"
   ]
  },
  {
   "cell_type": "markdown",
   "metadata": {},
   "source": [
    "##### KDDC"
   ]
  },
  {
   "cell_type": "code",
   "execution_count": 54,
   "metadata": {},
   "outputs": [
    {
     "name": "stdout",
     "output_type": "stream",
     "text": [
      "Istnieją istotne różnice między próbkami (p < 0.05), gdzie p = 2.582e-06\n"
     ]
    }
   ],
   "source": [
    "mean_rf_score_kddc = pd.DataFrame(rf_score_kddc)['mean_test_score'].tolist()\n",
    "mean_op_rf_score_kddc = pd.DataFrame(op_rf_score_kddc)['mean_test_score'].tolist()\n",
    "stat_rf_kddc, p_value_rf_kddc = wilcoxon(mean_rf_score_kddc, mean_op_rf_score_kddc)\n",
    "if p_value_rf_kddc < alpha:\n",
    "    print(f\"Istnieją istotne różnice między próbkami (p < 0.05), gdzie p = {f'{p_value_rf_kddc:.3e}'}\")\n",
    "else:\n",
    "    print(f\"Brak istotnych różnic między próbkami (p >= 0.05), gdzie p = {f'{p_value_rf_kddc:.3e}'}\")"
   ]
  },
  {
   "cell_type": "markdown",
   "metadata": {},
   "source": [
    "##### Santander"
   ]
  },
  {
   "cell_type": "code",
   "execution_count": 65,
   "metadata": {},
   "outputs": [
    {
     "name": "stdout",
     "output_type": "stream",
     "text": [
      "Istnieją istotne różnice między próbkami (p < 0.05), gdzie p = 1.863e-09\n"
     ]
    }
   ],
   "source": [
    "mean_rf_score_santa_nder = pd.DataFrame(rf_score_santa_nder)['mean_test_score'].iloc[0:30].tolist()\n",
    "mean_op_rf_score_santa_nder = pd.DataFrame(op_rf_score_santa_nder)['mean_test_score'].tolist()\n",
    "stat_rf_santa_nder, p_value_rf_santa_nder = wilcoxon(mean_rf_score_santa_nder, mean_op_rf_score_santa_nder)\n",
    "if p_value_rf_santa_nder < alpha:\n",
    "    print(f\"Istnieją istotne różnice między próbkami (p < 0.05), gdzie p = {f'{p_value_rf_santa_nder:.3e}'}\")\n",
    "else:\n",
    "    print(f\"Brak istotnych różnic między próbkami (p >= 0.05), gdzie p = {f'{p_value_rf_santa_nder:.3e}'}\")"
   ]
  },
  {
   "cell_type": "markdown",
   "metadata": {},
   "source": [
    "##### Click"
   ]
  },
  {
   "cell_type": "code",
   "execution_count": 66,
   "metadata": {},
   "outputs": [
    {
     "name": "stdout",
     "output_type": "stream",
     "text": [
      "Istnieją istotne różnice między próbkami (p < 0.05), gdzie p = 1.192e-09\n"
     ]
    }
   ],
   "source": [
    "mean_rf_score_click = pd.DataFrame(rf_score_click)['mean_test_score'].tolist()\n",
    "mean_op_rf_score_click = pd.DataFrame(op_rf_score_click)['mean_test_score'].tolist()\n",
    "stat_rf_click, p_value_rf_click = wilcoxon(mean_rf_score_click, mean_op_rf_score_click)\n",
    "if p_value_rf_click < alpha:\n",
    "    print(f\"Istnieją istotne różnice między próbkami (p < 0.05), gdzie p = {f'{p_value_rf_click:.3e}'}\")\n",
    "else:\n",
    "    print(f\"Brak istotnych różnic między próbkami (p >= 0.05), gdzie p = {f'{p_value_rf_click:.3e}'}\")"
   ]
  },
  {
   "cell_type": "markdown",
   "metadata": {},
   "source": [
    "##### Christine"
   ]
  },
  {
   "cell_type": "code",
   "execution_count": 73,
   "metadata": {},
   "outputs": [
    {
     "name": "stdout",
     "output_type": "stream",
     "text": [
      "Istnieją istotne różnice między próbkami (p < 0.05), gdzie p = 1.474e-03\n"
     ]
    }
   ],
   "source": [
    "mean_rf_score_christine = pd.DataFrame(rf_score_christine)['mean_test_score'].iloc[0:30].tolist()\n",
    "mean_op_rf_score_christine = pd.DataFrame(op_rf_score_christine)['mean_test_score'].tolist()\n",
    "stat_rf_christine, p_value_rf_christine = wilcoxon(mean_rf_score_christine, mean_op_rf_score_christine)\n",
    "if p_value_rf_christine < alpha:\n",
    "    print(f\"Istnieją istotne różnice między próbkami (p < 0.05), gdzie p = {f'{p_value_rf_christine:.3e}'}\")\n",
    "else:\n",
    "    print(f\"Brak istotnych różnic między próbkami (p >= 0.05), gdzie p = {f'{p_value_rf_christine:.3e}'}\")\n"
   ]
  },
  {
   "cell_type": "markdown",
   "metadata": {},
   "source": [
    "#### CatBoost"
   ]
  },
  {
   "cell_type": "markdown",
   "metadata": {},
   "source": [
    "##### KDDC\n",
    "\n"
   ]
  },
  {
   "cell_type": "code",
   "execution_count": 75,
   "metadata": {},
   "outputs": [
    {
     "name": "stdout",
     "output_type": "stream",
     "text": [
      "Istnieją istotne różnice między próbkami (p < 0.05), gdzie p = 2.122e-02\n"
     ]
    }
   ],
   "source": [
    "mean_score_catboost_kddc = pd.DataFrame(score_catboost_kddc)['mean_test_score'].tolist()\n",
    "mean_obs_cb_results_kddc = pd.DataFrame(bs_cb_results_kddc)['mean_test_score'].tolist()\n",
    "stat_catboost_kddc, p_value_catboost_kddc = wilcoxon(mean_score_catboost_kddc, mean_obs_cb_results_kddc)\n",
    "if p_value_catboost_kddc < alpha:\n",
    "    print(f\"Istnieją istotne różnice między próbkami (p < 0.05), gdzie p = {f'{p_value_catboost_kddc:.3e}'}\")\n",
    "else:\n",
    "    print(f\"Brak istotnych różnic między próbkami (p >= 0.05), gdzie p = {f'{p_value_catboost_kddc:.3e}'}\")\n"
   ]
  },
  {
   "cell_type": "markdown",
   "metadata": {},
   "source": [
    "##### Santander\n"
   ]
  },
  {
   "cell_type": "code",
   "execution_count": 76,
   "metadata": {},
   "outputs": [
    {
     "name": "stdout",
     "output_type": "stream",
     "text": [
      "Brak istotnych różnic między próbkami (p >= 0.05), gdzie p = nan\n"
     ]
    }
   ],
   "source": [
    "mean_score_santa_nder = pd.DataFrame(score_catboost_santa_nder)['mean_test_score'].tolist()\n",
    "mean_obs_cb_results_santa_nder = pd.DataFrame(bs_cb_results_santa_nder)['mean_test_score'].tolist()\n",
    "stat_catboost_santa_nder, p_value_catboost_santa_nder = wilcoxon(mean_score_santa_nder, mean_obs_cb_results_santa_nder)\n",
    "if p_value_catboost_santa_nder < alpha:\n",
    "    print(f\"Istnieją istotne różnice między próbkami (p < 0.05), gdzie p = {f'{p_value_catboost_santa_nder:.3e}'}\")\n",
    "else:\n",
    "    print(f\"Brak istotnych różnic między próbkami (p >= 0.05), gdzie p = {f'{p_value_catboost_santa_nder:.3e}'}\")\n"
   ]
  },
  {
   "cell_type": "markdown",
   "metadata": {},
   "source": [
    "##### Click\n"
   ]
  },
  {
   "cell_type": "code",
   "execution_count": 77,
   "metadata": {},
   "outputs": [
    {
     "name": "stdout",
     "output_type": "stream",
     "text": [
      "Brak istotnych różnic między próbkami (p >= 0.05), gdzie p = 1.101e-01\n"
     ]
    }
   ],
   "source": [
    "mean_score_click = pd.DataFrame(score_catboost_click)['mean_test_score'].tolist()\n",
    "mean_obs_cb_results_click = pd.DataFrame(bs_cb_results_click)['mean_test_score'].tolist()\n",
    "stat_catboost_click, p_value_catboost_click = wilcoxon(mean_score_click, mean_obs_cb_results_click)\n",
    "if p_value_catboost_click < alpha:\n",
    "    print(f\"Istnieją istotne różnice między próbkami (p < 0.05), gdzie p = {f'{p_value_catboost_click:.3e}'}\")\n",
    "else:\n",
    "    print(f\"Brak istotnych różnic między próbkami (p >= 0.05), gdzie p = {f'{p_value_catboost_click:.3e}'}\")"
   ]
  },
  {
   "cell_type": "markdown",
   "metadata": {},
   "source": [
    "##### Christine\n"
   ]
  },
  {
   "cell_type": "code",
   "execution_count": 78,
   "metadata": {},
   "outputs": [],
   "source": [
    "# mean_score_christine = pd.DataFrame(score_catboost_christine)['mean_test_score'].tolist()\n",
    "# mean_obs_cb_results_christine = pd.DataFrame(bs_cb_results_christine)['mean_test_score'].tolist()\n",
    "# stat_catboost_christine, p_value_catboost_christine = wilcoxon(mean_score_christine, mean_obs_cb_results_christine)\n",
    "# if p_value_catboost_christine < alpha:\n",
    "#     print(f\"Istnieją istotne różnice między próbkami (p < 0.05), gdzie p = {f'{p_value_catboost_christine:.3e}'}\")\n",
    "# else:\n",
    "#     print(f\"Brak istotnych różnic między próbkami (p >= 0.05), gdzie p = {f'{p_value_catboost_christine:.3e}'}\")"
   ]
  },
  {
   "cell_type": "code",
   "execution_count": null,
   "metadata": {},
   "outputs": [],
   "source": []
  }
 ],
 "metadata": {
  "kernelspec": {
   "display_name": "Python 3",
   "language": "python",
   "name": "python3"
  },
  "language_info": {
   "codemirror_mode": {
    "name": "ipython",
    "version": 3
   },
   "file_extension": ".py",
   "mimetype": "text/x-python",
   "name": "python",
   "nbconvert_exporter": "python",
   "pygments_lexer": "ipython3",
   "version": "3.10.13"
  }
 },
 "nbformat": 4,
 "nbformat_minor": 2
}
