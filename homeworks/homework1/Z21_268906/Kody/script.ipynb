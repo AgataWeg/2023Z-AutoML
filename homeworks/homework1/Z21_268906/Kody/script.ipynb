{
 "cells": [
  {
   "cell_type": "code",
   "execution_count": 1,
   "metadata": {},
   "outputs": [],
   "source": [
    "import openml\n",
    "import pandas as pd\n",
    "import numpy as np\n",
    "import matplotlib.pyplot as plt\n",
    "\n",
    "from sklearn.ensemble import RandomForestClassifier\n",
    "from sklearn.tree import DecisionTreeClassifier\n",
    "from sklearn.compose import ColumnTransformer\n",
    "from sklearn.pipeline import Pipeline\n",
    "from sklearn.preprocessing import OneHotEncoder\n",
    "from sklearn.model_selection import RandomizedSearchCV\n",
    "from skopt import BayesSearchCV\n",
    "from xgboost import XGBClassifier\n",
    "from skopt.space import Real, Categorical, Integer"
   ]
  },
  {
   "cell_type": "markdown",
   "metadata": {},
   "source": [
    "# 1. Przygotowanie danych"
   ]
  },
  {
   "cell_type": "code",
   "execution_count": 249,
   "metadata": {},
   "outputs": [],
   "source": [
    "#datasets\n",
    "1046 #mozilla4\n",
    "1489 #phoneme\n",
    "31 #credit-g\n",
    "1067 #kc1\n",
    "#43890\n",
    "846\n",
    "\n",
    "dataset_ids = [31, 1046, 1067, 1489]\n",
    "N = len(dataset_ids)"
   ]
  },
  {
   "cell_type": "markdown",
   "metadata": {},
   "source": [
    "### Funkcje pomocnicze"
   ]
  },
  {
   "cell_type": "code",
   "execution_count": 584,
   "metadata": {},
   "outputs": [],
   "source": [
    "def fetch_datasets(dataset_ids):\n",
    "    datasets = []\n",
    "    for id in list(dataset_ids):\n",
    "        dataset = openml.datasets.get_dataset(id)\n",
    "        X, y, _, _ = dataset.get_data(target=dataset.default_target_attribute) \n",
    "        datasets.append({\"X\": preprocess_X(X), \"y\": preprocess_y(y)})\n",
    "\n",
    "    return datasets\n",
    "\n",
    "def preprocess_y(y):\n",
    "    if(y.dtype == \"category\"):\n",
    "        return y.cat.codes\n",
    "    if(y.dtype == \"bool\"):\n",
    "        return y.astype(int)\n",
    "    return y\n",
    "\n",
    "def preprocess_X(X):\n",
    "    categorical_columns = X.select_dtypes(include=['category']).columns\n",
    "\n",
    "    preprocessor = ColumnTransformer(\n",
    "        transformers=[\n",
    "            ('cat', OneHotEncoder(), categorical_columns)\n",
    "            #('num', SimpleImputer(strategy='mean'), ['NumericColumn'])  # You can add more numeric columns if needed\n",
    "        ], remainder = \"passthrough\")\n",
    "\n",
    "    # Create a pipeline\n",
    "    pipeline = Pipeline([\n",
    "        ('preprocessor', preprocessor),\n",
    "    ])\n",
    "\n",
    "    # Fit and transform the data\n",
    "    return pipeline.fit_transform(X)\n",
    "\n",
    "def summarise_results(param_grid, search_procedure, N):\n",
    "    df = pd.DataFrame({key: search_procedure[0].cv_results_[key].data for key in [\"param_\" + p for p in param_grid.keys()]})\n",
    "    scores = np.stack([s.cv_results_[\"mean_test_score\"] for s in search_procedure])\n",
    "    df = pd.concat([df, pd.DataFrame(scores.T, columns = [\"auc_\" + str(i+1) for i in range(N)])], axis = 1)\n",
    "    df['auc_avg'] = np.mean(scores, axis = 0)\n",
    "    df.rename(columns={col: col.replace('param_', '') for col in df.columns}, inplace=True)\n",
    "    \n",
    "    return df\n",
    "\n",
    "def best_params(df, n = None):\n",
    "    if n is None:\n",
    "        return df.loc[df['auc_avg'].idxmax()]\n",
    "    else:\n",
    "        return df.loc[df['auc_' + str(n)].idxmax()]\n",
    "    \n",
    "def calculate_tunability(random_search_results, N, best_par = None):\n",
    "\n",
    "    if best_par is None:\n",
    "        best_avg = best_params(random_search_results)\n",
    "    else:\n",
    "        best_avg = best_par\n",
    "\n",
    "    tun = []\n",
    "    for i in range(N):\n",
    "        best_i_random = best_params(random_search_results, i+1)\n",
    "\n",
    "        tun.append(best_i_random[\"auc_\" + str(i+1)] - best_avg[\"auc_\" + str(i+1)])\n",
    "\n",
    "    return np.array(tun)"
   ]
  },
  {
   "cell_type": "markdown",
   "metadata": {},
   "source": [
    "### Wczytanie danych"
   ]
  },
  {
   "cell_type": "code",
   "execution_count": null,
   "metadata": {},
   "outputs": [],
   "source": [
    "data = fetch_datasets(dataset_ids)"
   ]
  },
  {
   "cell_type": "markdown",
   "metadata": {},
   "source": [
    "### Siatka parametrów"
   ]
  },
  {
   "cell_type": "code",
   "execution_count": 147,
   "metadata": {},
   "outputs": [],
   "source": [
    "param_grid_dt_disc = {'criterion': [\"gini\", \"entropy\"],\n",
    "           'splitter': [\"best\", \"random\"],\n",
    "           'max_depth': [None] + list(range(2, 33)),\n",
    "           'min_samples_split': np.logspace(-4, -1, 10),\n",
    "           #'min_samples_leaf': [0.0001, 0.001, 0.002, 0.005, 0.01, 0.02, 0.05, 0.1],\n",
    "           'min_impurity_decrease': np.logspace(-5, -1, 10),\n",
    "           'ccp_alpha': np.logspace(-5, -1, 10)\n",
    "           }\n",
    "\n",
    "param_grid_rf_disc = {'criterion': [\"gini\", \"entropy\", \"log_loss\"],\n",
    "                 \"n_estimators\": list(range(2, 501, 10)),\n",
    "                  'max_depth': list(range(2, 33)),\n",
    "                  'min_samples_split': np.logspace(-4, -1, 10),\n",
    "                  #'min_samples_leaf': [0.0001, 0.001, 0.002, 0.005, 0.01, 0.02, 0.05, 0.1],\n",
    "                  'max_features': ['sqrt', 'log2', None],\n",
    "                  'min_impurity_decrease': np.logspace(-10, -1, 10)\n",
    "           }\n",
    "\n",
    "param_grid_xgb_disc = {\"n_estimators\": list(range(10, 1001, 10)),\n",
    "                  'max_depth': list(range(2, 33)),\n",
    "                  'subsample': np.linspace(0.5, 1, 10),\n",
    "                  'colsample_bytree': np.linspace(0.5, 1, 10),\n",
    "                  'gamma': np.logspace(-1, 0, 11),\n",
    "                   'reg_alpha': np.logspace(-10, 3, 14),\n",
    "                   'reg_lambda': np.logspace(-10, 3, 14)\n",
    "           }\n",
    "\n",
    "param_grid_dt = {'criterion': Categorical([\"gini\", \"entropy\"]),\n",
    "           'splitter': Categorical([\"best\", \"random\"]),\n",
    "           'max_depth': [None] + list(range(2, 33)),\n",
    "           'min_samples_split': Real(0.0001, 0.1, prior = \"log-uniform\"),\n",
    "           'min_impurity_decrease': Real(0.0001, 0.1, prior = \"log-uniform\"),\n",
    "           'ccp_alpha': Real(0.0001, 0.1, prior = \"log-uniform\")\n",
    "           }\n",
    "\n",
    "param_grid_rf = {'criterion': Categorical([\"gini\", \"entropy\", \"log_loss\"]),\n",
    "                 \"n_estimators\": Integer(2, 500),\n",
    "                  'max_depth': Integer(2, 32),\n",
    "                  'min_samples_split': Real(0.0001, 0.1, prior = \"log-uniform\"),\n",
    "                  'max_features': Categorical(['sqrt', 'log2', None]),\n",
    "                  'min_impurity_decrease': Real(1e-10, 1e-1, prior = \"log-uniform\"),\n",
    "           }\n",
    "\n",
    "param_grid_xgb = {\"n_estimators\": Integer(10, 1000),\n",
    "                  'max_depth': Integer(2, 32),\n",
    "                  #'min_child_weight': Real(1, 10),\n",
    "                  'subsample': Real(0.5, 1),\n",
    "                  'colsample_bytree': Real(0.5, 1),\n",
    "                  'gamma': Real(1e-10, 1, prior = \"log-uniform\"),\n",
    "                  'reg_alpha': Real(1e-10, 1e3, prior = \"log-uniform\"),\n",
    "                  'reg_lambda': Real(1e-10, 1e3, prior = \"log-uniform\")\n",
    "           }"
   ]
  },
  {
   "cell_type": "markdown",
   "metadata": {},
   "source": [
    "# 2. Optymalizacja hiperparametrów"
   ]
  },
  {
   "cell_type": "markdown",
   "metadata": {},
   "source": [
    "## 2.1 Przeszukiwanie losowe (RandomizedSearchCV)"
   ]
  },
  {
   "cell_type": "markdown",
   "metadata": {},
   "source": [
    "### DecisionTreeClassifier"
   ]
  },
  {
   "cell_type": "code",
   "execution_count": null,
   "metadata": {},
   "outputs": [],
   "source": [
    "random_search_dt = [RandomizedSearchCV(estimator = DecisionTreeClassifier(random_state=2023),\n",
    "                   param_distributions = param_grid_dt_disc, random_state=2023, scoring = \"roc_auc\",\n",
    "                   cv = 5, n_iter = 250, n_jobs = 20, error_score = \"raise\") for _ in range(len(dataset_ids))]\n",
    "\n",
    "for i in range(len(dataset_ids)):\n",
    "    print(f\"Performing random search on decision tree, dataset {i+1}\")\n",
    "    random_search_dt[i].fit(data[i][\"X\"], data[i][\"y\"])\n"
   ]
  },
  {
   "cell_type": "markdown",
   "metadata": {},
   "source": [
    "### RandomForest"
   ]
  },
  {
   "cell_type": "code",
   "execution_count": null,
   "metadata": {},
   "outputs": [],
   "source": [
    "random_search_rf = [RandomizedSearchCV(estimator = RandomForestClassifier(random_state=2023, n_jobs = 2),\n",
    "                   param_distributions = param_grid_rf_disc, random_state=2023, scoring = \"roc_auc\",\n",
    "                   cv = 5, n_iter = 250, n_jobs = 10, error_score = \"raise\") for _ in range(len(dataset_ids))]\n",
    "\n",
    "for i in range(len(dataset_ids)):\n",
    "    print(f\"Performing random search on RF, dataset {i+1}\")\n",
    "    random_search_rf[i].fit(data[i][\"X\"], data[i][\"y\"])"
   ]
  },
  {
   "cell_type": "markdown",
   "metadata": {},
   "source": [
    "### XGBoost"
   ]
  },
  {
   "cell_type": "code",
   "execution_count": null,
   "metadata": {},
   "outputs": [],
   "source": [
    "random_search_xgb = [RandomizedSearchCV(estimator = XGBClassifier(random_state=2023, learning_rate = 0.05),\n",
    "                   param_distributions = param_grid_xgb_disc, random_state=2023, scoring = \"roc_auc\",\n",
    "                   cv = 5, n_iter = 250, n_jobs = 20, error_score = \"raise\") for _ in range(len(dataset_ids))]\n",
    "\n",
    "for i in range(len(dataset_ids)):\n",
    "    print(f\"Performing random search on XGB, dataset {i+1}\")\n",
    "    random_search_xgb[i].fit(data[i][\"X\"], data[i][\"y\"])"
   ]
  },
  {
   "cell_type": "markdown",
   "metadata": {},
   "source": [
    "### Zapisanie wyników"
   ]
  },
  {
   "cell_type": "code",
   "execution_count": 403,
   "metadata": {},
   "outputs": [],
   "source": [
    "# import pickle\n",
    "\n",
    "# data_to_save = {\n",
    "#     \"random_search_dt\": random_search_dt,\n",
    "#     \"random_search_rf\": random_search_rf,\n",
    "#     \"random_search_xgb\": random_search_xgb\n",
    "# }\n",
    "\n",
    "# file_path = 'random_search_res250_4ds.pkl'\n",
    "# with open(file_path, 'wb') as file:\n",
    "#     pickle.dump(data_to_save, file)\n",
    "\n",
    "dt_df = summarise_results(param_grid_dt, random_search_dt, N)\n",
    "rf_df = summarise_results(param_grid_rf, random_search_rf, N)\n",
    "xgb_df = summarise_results(param_grid_xgb, random_search_xgb, N)"
   ]
  },
  {
   "cell_type": "markdown",
   "metadata": {},
   "source": [
    "## 2.2 Optymalizacja bayesowska (BayesSearchCV)"
   ]
  },
  {
   "cell_type": "markdown",
   "metadata": {},
   "source": [
    "### Decision Tree"
   ]
  },
  {
   "cell_type": "code",
   "execution_count": null,
   "metadata": {},
   "outputs": [],
   "source": [
    "bayes_search_dt = [BayesSearchCV(DecisionTreeClassifier(random_state=2023), \n",
    "                   param_grid_dt, random_state=2023, n_points = 1, scoring = \"roc_auc\",\n",
    "                   cv = 5, n_iter = 250, n_jobs = 5) for _ in range(len(dataset_ids))]\n",
    "\n",
    "for i in range(len(dataset_ids)):\n",
    "    print(f\"Performing bayes search on DT, dataset {i+1}\")\n",
    "    bayes_search_dt[i].fit(data[i][\"X\"], data[i][\"y\"])"
   ]
  },
  {
   "cell_type": "markdown",
   "metadata": {},
   "source": [
    "### RandomForest"
   ]
  },
  {
   "cell_type": "code",
   "execution_count": 227,
   "metadata": {},
   "outputs": [],
   "source": [
    "bayes_search_rf = [BayesSearchCV(RandomForestClassifier(random_state=2023), \n",
    "                   param_grid_rf, random_state=2023, n_points = 1, scoring = \"roc_auc\",\n",
    "                   cv = 5, n_iter = 250, n_jobs = 5) for _ in range(len(dataset_ids))]\n",
    "\n",
    "for i in range(len(dataset_ids)):\n",
    "    print(f\"Performing bayes search on random forest, dataset {i+1}\")\n",
    "    bayes_search_rf[i].fit(data[i][\"X\"], data[i][\"y\"])"
   ]
  },
  {
   "cell_type": "markdown",
   "metadata": {},
   "source": [
    "### XGBoost"
   ]
  },
  {
   "cell_type": "code",
   "execution_count": null,
   "metadata": {},
   "outputs": [],
   "source": [
    "#xgb_classifiers = [XGBClassifier(random_state=2023, learning_rate = 0.05, device = \"gpu\")]*len(dataset_ids)\n",
    "\n",
    "bayes_search_xgb = [BayesSearchCV(XGBClassifier(random_state=2023, learning_rate = 0.05),#, device = \"gpu\"), \n",
    "                   param_grid_xgb, random_state=2023, n_points = 1, scoring = \"roc_auc\",\n",
    "                   cv = 5, n_iter = 250, n_jobs = 5) for _ in range(len(dataset_ids))]\n",
    "\n",
    "for i in range(len(dataset_ids)):\n",
    "    print(f\"Performing bayes search on xgboost, dataset {i+1}\")\n",
    "    bayes_search_xgb[i].fit(data[i][\"X\"], data[i][\"y\"])"
   ]
  },
  {
   "cell_type": "markdown",
   "metadata": {},
   "source": [
    "### Zapisanie wyników"
   ]
  },
  {
   "cell_type": "code",
   "execution_count": 497,
   "metadata": {},
   "outputs": [],
   "source": [
    "dt_df_b = summarise_results(param_grid_dt, bayes_search_dt, N)\n",
    "rf_df_b = summarise_results(param_grid_rf, bayes_search_rf, N)\n",
    "xgb_df_b = summarise_results(param_grid_xgb, bayes_search_xgb, N)"
   ]
  },
  {
   "cell_type": "markdown",
   "metadata": {},
   "source": [
    "## 2.3 Optymalizacja jednowymiarowa (RandomizedSearchCV - de facto GridSearchCV)"
   ]
  },
  {
   "cell_type": "code",
   "execution_count": 440,
   "metadata": {},
   "outputs": [],
   "source": [
    "#Obliczamy optymalne średnie parametry z wyszukiwania losowego\n",
    "best_params_dt = best_params(dt_df).drop(dt_df.filter(like='auc', axis=1).columns)\n",
    "best_params_rf = best_params(rf_df).drop(rf_df.filter(like='auc', axis=1).columns)\n",
    "best_params_xgb = best_params(xgb_df).drop(xgb_df.filter(like='auc', axis=1).columns)\n",
    "\n",
    "oneway_search_dt = dict.fromkeys(param_grid_dt.keys())\n",
    "oneway_search_rf = dict.fromkeys(param_grid_rf.keys())\n",
    "oneway_search_xgb = dict.fromkeys(param_grid_xgb.keys())\n",
    "\n",
    "results_oneway_dt = {}\n",
    "results_oneway_rf = {}\n",
    "results_oneway_xgb = {}"
   ]
  },
  {
   "cell_type": "markdown",
   "metadata": {},
   "source": [
    "### Decision Tree"
   ]
  },
  {
   "cell_type": "code",
   "execution_count": null,
   "metadata": {},
   "outputs": [],
   "source": [
    "for p in param_grid_dt.keys():\n",
    "    this_param = {key: value for key, value in param_grid_dt_disc.items() if key == p}\n",
    "    other_params = {key: value for key, value in best_params_dt.items() if key != p}\n",
    "\n",
    "    print(this_param)\n",
    "    print(other_params)\n",
    "\n",
    "    oneway_search_dt[p] = [RandomizedSearchCV(DecisionTreeClassifier(random_state=2023, **other_params), \n",
    "                    param_distributions = this_param, random_state=2023, scoring = \"roc_auc\",\n",
    "                    cv = 5, n_iter = 50, n_jobs = 20) for _ in range(len(dataset_ids))]\n",
    "    \n",
    "    for i in range(len(dataset_ids)):\n",
    "        print(f\"Performing one-way search on DT, parameter: {p}, dataset {i+1}\")\n",
    "        oneway_search_dt[p][i].fit(data[i][\"X\"], data[i][\"y\"])\n",
    "\n",
    "    results_oneway_dt[p] = summarise_results(this_param, oneway_search_dt[p], N)"
   ]
  },
  {
   "cell_type": "markdown",
   "metadata": {},
   "source": [
    "### RandomForest"
   ]
  },
  {
   "cell_type": "code",
   "execution_count": null,
   "metadata": {},
   "outputs": [],
   "source": [
    "for p in param_grid_rf.keys():\n",
    "    this_param = {key: value for key, value in param_grid_rf_disc.items() if key == p}\n",
    "    other_params = {key: value for key, value in best_params_rf.items() if key != p}\n",
    "\n",
    "    print(this_param)\n",
    "    print(other_params)\n",
    "\n",
    "    oneway_search_rf[p] = [RandomizedSearchCV(RandomForestClassifier(random_state=2023, **other_params), \n",
    "                    param_distributions = this_param, random_state=2023, scoring = \"roc_auc\",\n",
    "                    cv = 5, n_iter = 100, n_jobs = 20) for _ in range(len(dataset_ids))]\n",
    "    \n",
    "    for i in range(len(dataset_ids)):\n",
    "        print(f\"Performing one-way search on RF, parameter: {p}, dataset {i+1}\")\n",
    "        oneway_search_rf[p][i].fit(data[i][\"X\"], data[i][\"y\"])\n",
    "    \n",
    "    results_oneway_rf[p] = summarise_results(this_param, oneway_search_rf[p], N)"
   ]
  },
  {
   "cell_type": "markdown",
   "metadata": {},
   "source": [
    "### XGBoost"
   ]
  },
  {
   "cell_type": "code",
   "execution_count": null,
   "metadata": {},
   "outputs": [],
   "source": [
    "for p in param_grid_xgb.keys():\n",
    "    this_param = {key: value for key, value in param_grid_xgb_disc.items() if key == p}\n",
    "    other_params = {key: value for key, value in best_params_xgb.items() if key != p}\n",
    "\n",
    "    print(this_param)\n",
    "    print(other_params)\n",
    "\n",
    "    oneway_search_xgb[p] = [RandomizedSearchCV(XGBClassifier(random_state=2023, learning_rate = 0.05 , **other_params), \n",
    "                    param_distributions = this_param, random_state=2023, scoring = \"roc_auc\",\n",
    "                    cv = 5, n_iter = 100, n_jobs = 20) for _ in range(len(dataset_ids))]\n",
    "    \n",
    "    for i in range(len(dataset_ids)):\n",
    "        print(f\"Performing one-way search on XGB, parameter: {p}, dataset {i+1}\")\n",
    "        oneway_search_xgb[p][i].fit(data[i][\"X\"], data[i][\"y\"])\n",
    "\n",
    "    results_oneway_xgb[p] = summarise_results(this_param, oneway_search_xgb[p], N)"
   ]
  },
  {
   "cell_type": "markdown",
   "metadata": {},
   "source": [
    "# 3. Analiza"
   ]
  },
  {
   "cell_type": "markdown",
   "metadata": {},
   "source": [
    "## Porównanie metod optymalizacji"
   ]
  },
  {
   "cell_type": "code",
   "execution_count": 476,
   "metadata": {},
   "outputs": [
    {
     "data": {
      "image/png": "[encoded data removed]",
      "text/plain": [
       "<Figure size 1200x800 with 4 Axes>"
      ]
     },
     "metadata": {},
     "output_type": "display_data"
    }
   ],
   "source": [
    "plt.figure(figsize=(12, 8), dpi = 100)\n",
    "\n",
    "for i in range(N):\n",
    "    results_dt_random = random_search_dt[i].cv_results_['mean_test_score']\n",
    "    results_rf_random = random_search_rf[i].cv_results_['mean_test_score']\n",
    "    results_xgb_random = random_search_xgb[i].cv_results_['mean_test_score']\n",
    "\n",
    "    results_dt = bayes_search_dt[i].cv_results_['mean_test_score']\n",
    "    results_rf = bayes_search_rf[i].cv_results_['mean_test_score']\n",
    "    results_xgb = bayes_search_xgb[i].cv_results_['mean_test_score']\n",
    "\n",
    "    # Extract relevant information\n",
    "    iterations = range(1, len(results_dt) + 1)\n",
    "\n",
    "    # Plot the convergence\n",
    "\n",
    "    plt.subplot(2, 2, i+1)\n",
    "    \n",
    "    plt.plot(iterations, np.maximum.accumulate(results_dt), linestyle='-', color = 'b', label = \"DT bayes\")\n",
    "    plt.plot(iterations, np.maximum.accumulate(results_rf), linestyle='-', color = 'g', label = \"RF bayes\")\n",
    "    plt.plot(iterations, np.maximum.accumulate(results_xgb), linestyle='-', color = 'm', label = \"XGB bayes\")\n",
    "\n",
    "    plt.plot(iterations, np.maximum.accumulate(results_dt_random), linestyle='--', color = 'b', label = \"DT random\")\n",
    "    plt.plot(iterations, np.maximum.accumulate(results_rf_random), linestyle='--', color = 'g', label = \"RF random\")\n",
    "    plt.plot(iterations, np.maximum.accumulate(results_xgb_random), linestyle='--', color = 'm', label = \"XGB random\")\n",
    "\n",
    "    plt.legend(ncol = 2)\n",
    "    plt.title('Dataset ' + str(i+1))\n",
    "    plt.xlabel('Iteration')\n",
    "    plt.ylabel('Mean Test AUC')\n",
    "\n",
    "    if i == 1:\n",
    "        y_bottom = 0.9\n",
    "    elif i == 2:\n",
    "        y_bottom = 0.7\n",
    "    elif i == 3:\n",
    "        y_bottom = 0.8\n",
    "    else:\n",
    "        y_bottom = 0.65\n",
    "\n",
    "    plt.ylim(bottom = y_bottom)\n",
    "    plt.tight_layout()\n",
    "    plt.grid(True)\n",
    "\n",
    "plt.suptitle('Wyniki BayesSearchCV vs RandomizedSearchCV', fontsize=20)\n",
    "plt.tight_layout()\n",
    "plt.show()"
   ]
  },
  {
   "cell_type": "markdown",
   "metadata": {},
   "source": [
    "## Dostrajalność algorytmów"
   ]
  },
  {
   "cell_type": "markdown",
   "metadata": {},
   "source": [
    "Dostrajalność algorytmów ogółem"
   ]
  },
  {
   "cell_type": "code",
   "execution_count": 586,
   "metadata": {},
   "outputs": [
    {
     "name": "stdout",
     "output_type": "stream",
     "text": [
      "DT: 0.01866\n",
      "RF: 0.0092323\n",
      "XGB: 0.0098488\n"
     ]
    }
   ],
   "source": [
    "tunability_dt = np.mean(calculate_tunability(dt_df, N))\n",
    "tunability_rf = np.mean(calculate_tunability(rf_df, N))\n",
    "tunability_xgb = np.mean(calculate_tunability(xgb_df, N))\n",
    "\n",
    "print(f\"DT: {tunability_dt:.5f}\")\n",
    "print(f\"RF: {tunability_rf:.5}\")\n",
    "print(f\"XGB: {tunability_xgb:.5}\")"
   ]
  },
  {
   "cell_type": "code",
   "execution_count": 587,
   "metadata": {},
   "outputs": [
    {
     "name": "stdout",
     "output_type": "stream",
     "text": [
      "DT: 0.00861\n",
      "RF: 0.0017998\n",
      "XGB: 0.0037967\n"
     ]
    }
   ],
   "source": [
    "tunability_dt_g = np.mean(calculate_tunability(dt_df_b, N))\n",
    "tunability_rf_g = np.mean(calculate_tunability(rf_df_b, N))\n",
    "tunability_xgb_g = np.mean(calculate_tunability(xgb_df_b, N))\n",
    "\n",
    "print(f\"DT: {tunability_dt_g:.5f}\")\n",
    "print(f\"RF: {tunability_rf_g:.5}\")\n",
    "print(f\"XGB: {tunability_xgb_g:.5}\")"
   ]
  },
  {
   "cell_type": "markdown",
   "metadata": {},
   "source": [
    "Dostrajalność pojedynczych parametrów"
   ]
  },
  {
   "cell_type": "code",
   "execution_count": 585,
   "metadata": {},
   "outputs": [
    {
     "data": {
      "text/html": [
       "<div>\n",
       "<style scoped>\n",
       "    .dataframe tbody tr th:only-of-type {\n",
       "        vertical-align: middle;\n",
       "    }\n",
       "\n",
       "    .dataframe tbody tr th {\n",
       "        vertical-align: top;\n",
       "    }\n",
       "\n",
       "    .dataframe thead th {\n",
       "        text-align: right;\n",
       "    }\n",
       "</style>\n",
       "<table border=\"1\" class=\"dataframe\">\n",
       "  <thead>\n",
       "    <tr style=\"text-align: right;\">\n",
       "      <th></th>\n",
       "      <th>criterion</th>\n",
       "      <th>splitter</th>\n",
       "      <th>max_depth</th>\n",
       "      <th>min_samples_split</th>\n",
       "      <th>min_impurity_decrease</th>\n",
       "      <th>ccp_alpha</th>\n",
       "    </tr>\n",
       "  </thead>\n",
       "  <tbody>\n",
       "    <tr>\n",
       "      <th>tunability</th>\n",
       "      <td>0.001065</td>\n",
       "      <td>0.003026</td>\n",
       "      <td>0.002727</td>\n",
       "      <td>0.002045</td>\n",
       "      <td>0.001372</td>\n",
       "      <td>0.003749</td>\n",
       "    </tr>\n",
       "  </tbody>\n",
       "</table>\n",
       "</div>"
      ],
      "text/plain": [
       "            criterion  splitter  max_depth  min_samples_split  \\\n",
       "tunability   0.001065  0.003026   0.002727           0.002045   \n",
       "\n",
       "            min_impurity_decrease  ccp_alpha  \n",
       "tunability               0.001372   0.003749  "
      ]
     },
     "execution_count": 585,
     "metadata": {},
     "output_type": "execute_result"
    }
   ],
   "source": [
    "tunability_dt_single = {}\n",
    "tunability_rf_single = {}\n",
    "tunability_xgb_single = {}\n",
    "\n",
    "for p in param_grid_dt.keys():\n",
    "    tunability_dt_single[p] = np.mean(calculate_tunability(results_oneway_dt[p], N, best_par = best_params(dt_df)))\n",
    "\n",
    "for p in param_grid_rf.keys():\n",
    "    tunability_rf_single[p] = np.mean(calculate_tunability(results_oneway_rf[p], N, best_par = best_params(rf_df)))\n",
    "\n",
    "for p in param_grid_xgb.keys():\n",
    "    tunability_xgb_single[p] = np.mean(calculate_tunability(results_oneway_xgb[p], N, best_par = best_params(xgb_df)))\n",
    "\n",
    "pd.DataFrame(pd.DataFrame(tunability_dt_single, index = [\"tunability\"]))"
   ]
  },
  {
   "cell_type": "code",
   "execution_count": 523,
   "metadata": {},
   "outputs": [
    {
     "data": {
      "text/html": [
       "<div>\n",
       "<style scoped>\n",
       "    .dataframe tbody tr th:only-of-type {\n",
       "        vertical-align: middle;\n",
       "    }\n",
       "\n",
       "    .dataframe tbody tr th {\n",
       "        vertical-align: top;\n",
       "    }\n",
       "\n",
       "    .dataframe thead th {\n",
       "        text-align: right;\n",
       "    }\n",
       "</style>\n",
       "<table border=\"1\" class=\"dataframe\">\n",
       "  <thead>\n",
       "    <tr style=\"text-align: right;\">\n",
       "      <th></th>\n",
       "      <th>criterion</th>\n",
       "      <th>n_estimators</th>\n",
       "      <th>max_depth</th>\n",
       "      <th>min_samples_split</th>\n",
       "      <th>max_features</th>\n",
       "      <th>min_impurity_decrease</th>\n",
       "    </tr>\n",
       "  </thead>\n",
       "  <tbody>\n",
       "    <tr>\n",
       "      <th>tunability</th>\n",
       "      <td>0.0</td>\n",
       "      <td>0.000657</td>\n",
       "      <td>0.007535</td>\n",
       "      <td>0.006305</td>\n",
       "      <td>0.0</td>\n",
       "      <td>0.007586</td>\n",
       "    </tr>\n",
       "  </tbody>\n",
       "</table>\n",
       "</div>"
      ],
      "text/plain": [
       "            criterion  n_estimators  max_depth  min_samples_split  \\\n",
       "tunability        0.0      0.000657   0.007535           0.006305   \n",
       "\n",
       "            max_features  min_impurity_decrease  \n",
       "tunability           0.0               0.007586  "
      ]
     },
     "execution_count": 523,
     "metadata": {},
     "output_type": "execute_result"
    }
   ],
   "source": [
    "pd.DataFrame(pd.DataFrame(tunability_rf_single, index = [\"tunability\"]))"
   ]
  },
  {
   "cell_type": "code",
   "execution_count": 524,
   "metadata": {},
   "outputs": [
    {
     "data": {
      "text/html": [
       "<div>\n",
       "<style scoped>\n",
       "    .dataframe tbody tr th:only-of-type {\n",
       "        vertical-align: middle;\n",
       "    }\n",
       "\n",
       "    .dataframe tbody tr th {\n",
       "        vertical-align: top;\n",
       "    }\n",
       "\n",
       "    .dataframe thead th {\n",
       "        text-align: right;\n",
       "    }\n",
       "</style>\n",
       "<table border=\"1\" class=\"dataframe\">\n",
       "  <thead>\n",
       "    <tr style=\"text-align: right;\">\n",
       "      <th></th>\n",
       "      <th>n_estimators</th>\n",
       "      <th>max_depth</th>\n",
       "      <th>subsample</th>\n",
       "      <th>colsample_bytree</th>\n",
       "      <th>gamma</th>\n",
       "      <th>reg_alpha</th>\n",
       "      <th>reg_lambda</th>\n",
       "    </tr>\n",
       "  </thead>\n",
       "  <tbody>\n",
       "    <tr>\n",
       "      <th>tunability</th>\n",
       "      <td>0.000627</td>\n",
       "      <td>0.003684</td>\n",
       "      <td>0.001263</td>\n",
       "      <td>0.003004</td>\n",
       "      <td>0.001881</td>\n",
       "      <td>0.007291</td>\n",
       "      <td>0.005931</td>\n",
       "    </tr>\n",
       "  </tbody>\n",
       "</table>\n",
       "</div>"
      ],
      "text/plain": [
       "            n_estimators  max_depth  subsample  colsample_bytree     gamma  \\\n",
       "tunability      0.000627   0.003684   0.001263          0.003004  0.001881   \n",
       "\n",
       "            reg_alpha  reg_lambda  \n",
       "tunability   0.007291    0.005931  "
      ]
     },
     "execution_count": 524,
     "metadata": {},
     "output_type": "execute_result"
    }
   ],
   "source": [
    "pd.DataFrame(pd.DataFrame(tunability_xgb_single, index = [\"tunability\"]))"
   ]
  },
  {
   "cell_type": "markdown",
   "metadata": {},
   "source": [
    "Wykresy"
   ]
  },
  {
   "cell_type": "code",
   "execution_count": null,
   "metadata": {},
   "outputs": [],
   "source": [
    "var = \"criterion\"\n",
    "plt.boxplot([dt_df[dt_df[var] == 'entropy']['auc_avg'], dt_df[dt_df[var] == 'gini']['auc_avg']],\n",
    "            labels=['entropy', \"gini\"])\n",
    "\n",
    "# Add labels and title\n",
    "plt.xlabel(var)\n",
    "plt.ylabel('AUC')\n",
    "plt.title(\"DT: \" + str(var))"
   ]
  },
  {
   "cell_type": "code",
   "execution_count": 568,
   "metadata": {},
   "outputs": [
    {
     "data": {
      "image/png": "[encoded data removed]",
      "text/plain": [
       "<Figure size 800x600 with 4 Axes>"
      ]
     },
     "metadata": {},
     "output_type": "display_data"
    }
   ],
   "source": [
    "plt.figure(figsize=(8, 6), dpi = 100)\n",
    "\n",
    "for i in range(4):\n",
    "    plt.subplot(2, 2, i+1)\n",
    "    plt.hist(bayes_search_dt[i].cv_results_[\"mean_test_score\"], color = \"b\", bins = 20, alpha = 0.5, label = \"DT\")\n",
    "    plt.hist(bayes_search_rf[i].cv_results_[\"mean_test_score\"], color = \"g\", bins = 20, alpha = 0.5, label = \"RF\")\n",
    "    plt.hist(bayes_search_xgb[i].cv_results_[\"mean_test_score\"], color = \"m\", bins = 30, alpha = 0.5, label = \"XGB\")\n",
    "    plt.legend()\n",
    "    plt.title(f\"Dataset {i+1}\")"
   ]
  },
  {
   "cell_type": "code",
   "execution_count": null,
   "metadata": {},
   "outputs": [],
   "source": [
    "var = \"colsample_bytree\"\n",
    "plt.scatter(xgb_df[var], xgb_df[\"auc_avg\"], alpha = 0.5, color = \"m\")\n",
    "plt.xscale('log')\n",
    "\n",
    "plt.xlabel(var)\n",
    "plt.ylabel('AUC')\n",
    "plt.title(\"XGB: \" + str(var))\n",
    "\n",
    "plt.show()\n"
   ]
  },
  {
   "cell_type": "code",
   "execution_count": 588,
   "metadata": {},
   "outputs": [],
   "source": [
    "import pickle\n",
    "data_to_save = {\n",
    "    \"dane_dt_random\": dt_df,\n",
    "    \"dane_df_random\": rf_df,\n",
    "    \"dane_xgb_random\": xgb_df,\n",
    "    \"dane_dt_bayes\": dt_df_b,\n",
    "    \"dane_df_bayes\": rf_df_b,\n",
    "    \"dane_xgb_bayes\": xgb_df_b,\n",
    "    \"dane_dt_pojedyncze\": results_oneway_dt,\n",
    "    \"dane_rf_pojedyncze\": results_oneway_rf,\n",
    "    \"dane_xgb_pojedyncze\": results_oneway_xgb\n",
    "}\n",
    "\n",
    "file_path = 'wyniki.pkl'\n",
    "with open(file_path, 'wb') as file:\n",
    "    pickle.dump(data_to_save, file)"
   ]
  },
  {
   "cell_type": "code",
   "execution_count": 591,
   "metadata": {},
   "outputs": [
    {
     "data": {
      "text/html": [
       "<div>\n",
       "<style scoped>\n",
       "    .dataframe tbody tr th:only-of-type {\n",
       "        vertical-align: middle;\n",
       "    }\n",
       "\n",
       "    .dataframe tbody tr th {\n",
       "        vertical-align: top;\n",
       "    }\n",
       "\n",
       "    .dataframe thead th {\n",
       "        text-align: right;\n",
       "    }\n",
       "</style>\n",
       "<table border=\"1\" class=\"dataframe\">\n",
       "  <thead>\n",
       "    <tr style=\"text-align: right;\">\n",
       "      <th></th>\n",
       "      <th>criterion</th>\n",
       "      <th>splitter</th>\n",
       "      <th>max_depth</th>\n",
       "      <th>min_samples_split</th>\n",
       "      <th>min_impurity_decrease</th>\n",
       "      <th>ccp_alpha</th>\n",
       "      <th>auc_1</th>\n",
       "      <th>auc_2</th>\n",
       "      <th>auc_3</th>\n",
       "      <th>auc_4</th>\n",
       "      <th>auc_avg</th>\n",
       "    </tr>\n",
       "  </thead>\n",
       "  <tbody>\n",
       "    <tr>\n",
       "      <th>0</th>\n",
       "      <td>gini</td>\n",
       "      <td>random</td>\n",
       "      <td>23</td>\n",
       "      <td>0.1</td>\n",
       "      <td>0.000028</td>\n",
       "      <td>0.1</td>\n",
       "      <td>0.500000</td>\n",
       "      <td>0.852984</td>\n",
       "      <td>0.500000</td>\n",
       "      <td>0.500000</td>\n",
       "      <td>0.588246</td>\n",
       "    </tr>\n",
       "    <tr>\n",
       "      <th>1</th>\n",
       "      <td>entropy</td>\n",
       "      <td>random</td>\n",
       "      <td>15</td>\n",
       "      <td>0.0001</td>\n",
       "      <td>0.000077</td>\n",
       "      <td>0.000028</td>\n",
       "      <td>0.615274</td>\n",
       "      <td>0.849113</td>\n",
       "      <td>0.590371</td>\n",
       "      <td>0.853493</td>\n",
       "      <td>0.727063</td>\n",
       "    </tr>\n",
       "    <tr>\n",
       "      <th>2</th>\n",
       "      <td>entropy</td>\n",
       "      <td>best</td>\n",
       "      <td>14</td>\n",
       "      <td>0.1</td>\n",
       "      <td>0.012915</td>\n",
       "      <td>0.000215</td>\n",
       "      <td>0.707595</td>\n",
       "      <td>0.918006</td>\n",
       "      <td>0.755359</td>\n",
       "      <td>0.814657</td>\n",
       "      <td>0.798904</td>\n",
       "    </tr>\n",
       "    <tr>\n",
       "      <th>3</th>\n",
       "      <td>gini</td>\n",
       "      <td>random</td>\n",
       "      <td>4</td>\n",
       "      <td>0.021544</td>\n",
       "      <td>0.000599</td>\n",
       "      <td>0.000599</td>\n",
       "      <td>0.702952</td>\n",
       "      <td>0.901370</td>\n",
       "      <td>0.767830</td>\n",
       "      <td>0.826591</td>\n",
       "      <td>0.799686</td>\n",
       "    </tr>\n",
       "    <tr>\n",
       "      <th>4</th>\n",
       "      <td>gini</td>\n",
       "      <td>random</td>\n",
       "      <td>3</td>\n",
       "      <td>0.046416</td>\n",
       "      <td>0.00001</td>\n",
       "      <td>0.000215</td>\n",
       "      <td>0.694143</td>\n",
       "      <td>0.891682</td>\n",
       "      <td>0.770386</td>\n",
       "      <td>0.791996</td>\n",
       "      <td>0.787052</td>\n",
       "    </tr>\n",
       "    <tr>\n",
       "      <th>...</th>\n",
       "      <td>...</td>\n",
       "      <td>...</td>\n",
       "      <td>...</td>\n",
       "      <td>...</td>\n",
       "      <td>...</td>\n",
       "      <td>...</td>\n",
       "      <td>...</td>\n",
       "      <td>...</td>\n",
       "      <td>...</td>\n",
       "      <td>...</td>\n",
       "      <td>...</td>\n",
       "    </tr>\n",
       "    <tr>\n",
       "      <th>245</th>\n",
       "      <td>gini</td>\n",
       "      <td>random</td>\n",
       "      <td>21</td>\n",
       "      <td>0.001</td>\n",
       "      <td>0.035938</td>\n",
       "      <td>0.000215</td>\n",
       "      <td>0.671905</td>\n",
       "      <td>0.852984</td>\n",
       "      <td>0.500000</td>\n",
       "      <td>0.713400</td>\n",
       "      <td>0.684572</td>\n",
       "    </tr>\n",
       "    <tr>\n",
       "      <th>246</th>\n",
       "      <td>gini</td>\n",
       "      <td>random</td>\n",
       "      <td>17</td>\n",
       "      <td>0.002154</td>\n",
       "      <td>0.001668</td>\n",
       "      <td>0.000028</td>\n",
       "      <td>0.663369</td>\n",
       "      <td>0.905764</td>\n",
       "      <td>0.760070</td>\n",
       "      <td>0.821465</td>\n",
       "      <td>0.787667</td>\n",
       "    </tr>\n",
       "    <tr>\n",
       "      <th>247</th>\n",
       "      <td>entropy</td>\n",
       "      <td>random</td>\n",
       "      <td>10</td>\n",
       "      <td>0.046416</td>\n",
       "      <td>0.004642</td>\n",
       "      <td>0.000599</td>\n",
       "      <td>0.700607</td>\n",
       "      <td>0.910049</td>\n",
       "      <td>0.766130</td>\n",
       "      <td>0.808621</td>\n",
       "      <td>0.796352</td>\n",
       "    </tr>\n",
       "    <tr>\n",
       "      <th>248</th>\n",
       "      <td>entropy</td>\n",
       "      <td>best</td>\n",
       "      <td>5</td>\n",
       "      <td>0.046416</td>\n",
       "      <td>0.1</td>\n",
       "      <td>0.001668</td>\n",
       "      <td>0.500000</td>\n",
       "      <td>0.900254</td>\n",
       "      <td>0.531687</td>\n",
       "      <td>0.743264</td>\n",
       "      <td>0.668802</td>\n",
       "    </tr>\n",
       "    <tr>\n",
       "      <th>249</th>\n",
       "      <td>entropy</td>\n",
       "      <td>best</td>\n",
       "      <td>9</td>\n",
       "      <td>0.0001</td>\n",
       "      <td>0.000077</td>\n",
       "      <td>0.000077</td>\n",
       "      <td>0.700857</td>\n",
       "      <td>0.879271</td>\n",
       "      <td>0.659193</td>\n",
       "      <td>0.897168</td>\n",
       "      <td>0.784122</td>\n",
       "    </tr>\n",
       "  </tbody>\n",
       "</table>\n",
       "<p>250 rows × 11 columns</p>\n",
       "</div>"
      ],
      "text/plain": [
       "    criterion splitter max_depth min_samples_split min_impurity_decrease  \\\n",
       "0        gini   random        23               0.1              0.000028   \n",
       "1     entropy   random        15            0.0001              0.000077   \n",
       "2     entropy     best        14               0.1              0.012915   \n",
       "3        gini   random         4          0.021544              0.000599   \n",
       "4        gini   random         3          0.046416               0.00001   \n",
       "..        ...      ...       ...               ...                   ...   \n",
       "245      gini   random        21             0.001              0.035938   \n",
       "246      gini   random        17          0.002154              0.001668   \n",
       "247   entropy   random        10          0.046416              0.004642   \n",
       "248   entropy     best         5          0.046416                   0.1   \n",
       "249   entropy     best         9            0.0001              0.000077   \n",
       "\n",
       "    ccp_alpha     auc_1     auc_2     auc_3     auc_4   auc_avg  \n",
       "0         0.1  0.500000  0.852984  0.500000  0.500000  0.588246  \n",
       "1    0.000028  0.615274  0.849113  0.590371  0.853493  0.727063  \n",
       "2    0.000215  0.707595  0.918006  0.755359  0.814657  0.798904  \n",
       "3    0.000599  0.702952  0.901370  0.767830  0.826591  0.799686  \n",
       "4    0.000215  0.694143  0.891682  0.770386  0.791996  0.787052  \n",
       "..        ...       ...       ...       ...       ...       ...  \n",
       "245  0.000215  0.671905  0.852984  0.500000  0.713400  0.684572  \n",
       "246  0.000028  0.663369  0.905764  0.760070  0.821465  0.787667  \n",
       "247  0.000599  0.700607  0.910049  0.766130  0.808621  0.796352  \n",
       "248  0.001668  0.500000  0.900254  0.531687  0.743264  0.668802  \n",
       "249  0.000077  0.700857  0.879271  0.659193  0.897168  0.784122  \n",
       "\n",
       "[250 rows x 11 columns]"
      ]
     },
     "execution_count": 591,
     "metadata": {},
     "output_type": "execute_result"
    }
   ],
   "source": [
    "dt_df"
   ]
  }
 ],
 "metadata": {
  "kernelspec": {
   "display_name": "AutoML_HW1",
   "language": "python",
   "name": "python3"
  },
  "language_info": {
   "codemirror_mode": {
    "name": "ipython",
    "version": 3
   },
   "file_extension": ".py",
   "mimetype": "text/x-python",
   "name": "python",
   "nbconvert_exporter": "python",
   "pygments_lexer": "ipython3",
   "version": "3.9.13"
  }
 },
 "nbformat": 4,
 "nbformat_minor": 2
}
