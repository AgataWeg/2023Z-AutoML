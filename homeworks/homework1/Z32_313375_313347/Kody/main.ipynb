{
  "cells": [
    {
      "cell_type": "markdown",
      "metadata": {},
      "source": [
        "## Imports"
      ]
    },
    {
      "cell_type": "code",
      "execution_count": 1,
      "metadata": {
        "id": "aViZD5l4WqYC"
      },
      "outputs": [],
      "source": [
        "#Import the Libraries\n",
        "from scipy.io import arff\n",
        "import pandas as pd\n",
        "import numpy as np\n",
        "import matplotlib.pyplot as plt\n",
        "import random\n",
        "import pickle\n",
        "import math\n",
        "from sklearn.model_selection import KFold\n",
        "from sklearn import metrics\n",
        "from sklearn.tree import DecisionTreeClassifier\n",
        "from sklearn.neighbors import KNeighborsClassifier\n",
        "from sklearn.ensemble import RandomForestClassifier\n",
        "from sklearn.model_selection import train_test_split\n",
        "from sklearn.compose import make_column_transformer, make_column_selector, ColumnTransformer\n",
        "from sklearn.pipeline import Pipeline\n",
        "from sklearn.impute import SimpleImputer\n",
        "from sklearn.preprocessing import OneHotEncoder, MinMaxScaler\n",
        "from sklearn.model_selection import cross_val_score\n",
        "from scipy.stats import uniform\n",
        "from skopt import BayesSearchCV\n",
        "from skopt.space import Real\n",
        "from scipy.stats import uniform\n",
        "\n",
        "np.int = np.int64 #needed for scikit-optimize to work properly"
      ]
    },
    {
      "cell_type": "code",
      "execution_count": 114,
      "metadata": {},
      "outputs": [],
      "source": [
        "def calc_tunability(best_values, default_values):\n",
        "  sum = 0\n",
        "  i = 0\n",
        "  for key in best_values:\n",
        "    sum += best_values[key] - default_values[key]\n",
        "    i += 1\n",
        "  return sum / i"
      ]
    },
    {
      "cell_type": "markdown",
      "metadata": {},
      "source": [
        "## Loading data"
      ]
    },
    {
      "cell_type": "code",
      "execution_count": 85,
      "metadata": {
        "id": "tEwCatK8Z3Bc"
      },
      "outputs": [],
      "source": [
        "data = arff.loadarff('Data/php9xWOpn.arff')\n",
        "df_1 = pd.DataFrame(data[0])\n",
        "df_1 = df_1.rename(columns = {'Class':'class'})"
      ]
    },
    {
      "cell_type": "code",
      "execution_count": 86,
      "metadata": {
        "id": "YXWbfz0vaIsy"
      },
      "outputs": [],
      "source": [
        "data = arff.loadarff('Data/dataset_50_tic-tac-toe.arff')\n",
        "df_2 = pd.DataFrame(data[0])\n",
        "df_2 = df_2.rename(columns = {'Class':'class'})"
      ]
    },
    {
      "cell_type": "code",
      "execution_count": 87,
      "metadata": {
        "id": "J7uhOlM8bOYn"
      },
      "outputs": [],
      "source": [
        "data = arff.loadarff('Data/dataset_31_credit-g.arff')\n",
        "df_credit = pd.DataFrame(data[0])"
      ]
    },
    {
      "cell_type": "code",
      "execution_count": 88,
      "metadata": {
        "id": "u13sXt4abNG5"
      },
      "outputs": [],
      "source": [
        "data = arff.loadarff('Data/dataset_37_diabetes.arff')\n",
        "df_diabetes = pd.DataFrame(data[0])"
      ]
    },
    {
      "cell_type": "markdown",
      "metadata": {},
      "source": [
        "## Decision Tree Classifier"
      ]
    },
    {
      "cell_type": "markdown",
      "metadata": {},
      "source": [
        "### Random search"
      ]
    },
    {
      "cell_type": "code",
      "execution_count": null,
      "metadata": {
        "id": "U7rDgL1oiQ43"
      },
      "outputs": [],
      "source": [
        "df_params = pd.DataFrame(columns = ['ccp_alpha', 'max_depth', 'min_samples_leaf', 'min_samples_split', 'df1', 'df2', 'df3', 'df4' ])\n",
        "\n",
        "for i in range(1000):\n",
        "  params = {\"ccp_alpha\" : random.random(), \"max_depth\" : random.randint(1,30), \"min_samples_leaf\": random.randint(1, 60), \"min_samples_split\": random.randint(2, 60) }\n",
        "  estimator = DecisionTreeClassifier(ccp_alpha = params.get(\"ccp_alpha\"), max_depth = params.get('max_depth'), min_samples_leaf=params.get(\"min_samples_leaf\"), min_samples_split = params.get(\"min_samples_split\"))\n",
        "  mean_accuracies = []\n",
        "  for i, dataset in enumerate([df_1, df_2, df_credit, df_diabetes]):\n",
        "    y = dataset['class']\n",
        "    X = dataset.drop('class', axis=1)\n",
        "\n",
        "    X_train, X_test, y_train, y_test = train_test_split(X, y, test_size = 0.2)\n",
        "\n",
        "    # To compare with random search\n",
        "    num_pipeline = Pipeline(steps=[\n",
        "    ('impute', SimpleImputer(strategy='mean')),\n",
        "    ('scale', MinMaxScaler())])\n",
        "\n",
        "    cat_pipeline = Pipeline(steps=[\n",
        "        ('impute', SimpleImputer(strategy='most_frequent')),\n",
        "        ('one-hot', OneHotEncoder(handle_unknown='ignore', sparse=False))\n",
        "    ])\n",
        "\n",
        "    col_trans = ColumnTransformer(transformers=[\n",
        "    ('num_pipeline', num_pipeline, make_column_selector( dtype_include= np.number)),\n",
        "    ('cat_pipeline', cat_pipeline,make_column_selector( dtype_include= np.object_))\n",
        "    ],\n",
        "    remainder='drop',\n",
        "    n_jobs=-1)\n",
        "\n",
        "    X_trans = col_trans.fit_transform(X_train)\n",
        "    X_test_trains = col_trans.transform(X_test)\n",
        "    if y_train.dtype in ['category', 'object']:\n",
        "      df_dict={}\n",
        "      for j, e in enumerate(sorted(y_train.unique())):\n",
        "        df_dict[e] = j\n",
        "      y_trans = y_train.map(lambda s: df_dict.get(s) if s in df_dict else s)\n",
        "      y_test_trans = y_test.map(lambda s: df_dict.get(s) if s in df_dict else s)\n",
        "    else:\n",
        "      y_trans = y_train\n",
        "      y_test_trans = y_test\n",
        "\n",
        "    kf = KFold(n_splits=10)\n",
        "    accuracy = 0\n",
        "    for train_index, test_index in kf.split(X_trans):\n",
        "      y_train, y_test = np.take(y_trans, train_index), np.take(y_trans, test_index)\n",
        "      X_train, X_test = X_trans[train_index, :], X_trans[test_index, :]\n",
        "      estimator.fit(X_train, y_train)\n",
        "      y_pred = estimator.predict(X_test)\n",
        "      accuracy += metrics.accuracy_score(y_test, y_pred)\n",
        "    mean_accuracy = accuracy/10\n",
        "    mean_accuracies.append(mean_accuracy)\n",
        "  params['df1'] = mean_accuracies[0]\n",
        "  params['df2'] = mean_accuracies[1]\n",
        "  params['df3'] = mean_accuracies[2]\n",
        "  params['df4'] = mean_accuracies[3]\n",
        "\n",
        "  row = pd.DataFrame([params])\n",
        "  df_params = pd.concat([df_params, row], ignore_index=True)\n",
        "  df_params['mean_score'] = (df_params['df1'] + df_params['df2'] + df_params['df3'] + df_params['df4']) / 4"
      ]
    },
    {
      "cell_type": "code",
      "execution_count": null,
      "metadata": {
        "id": "bf48OUxlOVyf"
      },
      "outputs": [],
      "source": [
        "df_params.to_csv('/content/Zdrive/MyDrive/AutoML/params_dtc.csv', sep=',', index=False, encoding='utf-8')"
      ]
    },
    {
      "cell_type": "code",
      "execution_count": 84,
      "metadata": {
        "colab": {
          "base_uri": "https://localhost:8080/",
          "height": 206
        },
        "id": "Fp3AFo-_yGN6",
        "outputId": "117216eb-535f-40eb-d502-c869de229c5a"
      },
      "outputs": [],
      "source": [
        "df_params = pd.read_csv('params_dtc.csv')"
      ]
    },
    {
      "cell_type": "code",
      "execution_count": 8,
      "metadata": {
        "id": "pD2-8K_Pes12"
      },
      "outputs": [],
      "source": [
        "best_params_dtc = {\n",
        "    'ccp_alpha' : float(df_params.loc[df_params.mean_score == max(df_params.mean_score)]['ccp_alpha']),\n",
        "    'max_depth' : int(df_params.loc[df_params.mean_score == max(df_params.mean_score)]['max_depth']),\n",
        "    'min_samples_leaf' : int(df_params.loc[df_params.mean_score == max(df_params.mean_score)]['min_samples_leaf']),\n",
        "    'min_samples_split' : int(df_params.loc[df_params.mean_score == max(df_params.mean_score)]['min_samples_split']),\n",
        "}"
      ]
    },
    {
      "cell_type": "code",
      "execution_count": 10,
      "metadata": {
        "id": "QLXaaNRcwkfY"
      },
      "outputs": [],
      "source": [
        "mean_score = float(df_params.loc[df_params.mean_score == max(df_params.mean_score)]['mean_score'])"
      ]
    },
    {
      "cell_type": "markdown",
      "metadata": {},
      "source": [
        "### Bayesian search"
      ]
    },
    {
      "cell_type": "code",
      "execution_count": 83,
      "metadata": {
        "id": "eypmNMVmVLzc"
      },
      "outputs": [
        {
          "name": "stderr",
          "output_type": "stream",
          "text": [
            "c:\\Users\\kaspr\\AppData\\Local\\Programs\\Python\\Python311\\Lib\\site-packages\\skopt\\optimizer\\optimizer.py:449: UserWarning: The objective has been evaluated at this point before.\n",
            "  warnings.warn(\"The objective has been evaluated \"\n",
            "c:\\Users\\kaspr\\AppData\\Local\\Programs\\Python\\Python311\\Lib\\site-packages\\skopt\\optimizer\\optimizer.py:449: UserWarning: The objective has been evaluated at this point before.\n",
            "  warnings.warn(\"The objective has been evaluated \"\n",
            "c:\\Users\\kaspr\\AppData\\Local\\Programs\\Python\\Python311\\Lib\\site-packages\\skopt\\optimizer\\optimizer.py:449: UserWarning: The objective has been evaluated at this point before.\n",
            "  warnings.warn(\"The objective has been evaluated \"\n",
            "c:\\Users\\kaspr\\AppData\\Local\\Programs\\Python\\Python311\\Lib\\site-packages\\skopt\\optimizer\\optimizer.py:449: UserWarning: The objective has been evaluated at this point before.\n",
            "  warnings.warn(\"The objective has been evaluated \"\n",
            "c:\\Users\\kaspr\\AppData\\Local\\Programs\\Python\\Python311\\Lib\\site-packages\\skopt\\optimizer\\optimizer.py:449: UserWarning: The objective has been evaluated at this point before.\n",
            "  warnings.warn(\"The objective has been evaluated \"\n",
            "c:\\Users\\kaspr\\AppData\\Local\\Programs\\Python\\Python311\\Lib\\site-packages\\skopt\\optimizer\\optimizer.py:449: UserWarning: The objective has been evaluated at this point before.\n",
            "  warnings.warn(\"The objective has been evaluated \"\n",
            "c:\\Users\\kaspr\\AppData\\Local\\Programs\\Python\\Python311\\Lib\\site-packages\\skopt\\optimizer\\optimizer.py:449: UserWarning: The objective has been evaluated at this point before.\n",
            "  warnings.warn(\"The objective has been evaluated \"\n",
            "c:\\Users\\kaspr\\AppData\\Local\\Programs\\Python\\Python311\\Lib\\site-packages\\skopt\\optimizer\\optimizer.py:449: UserWarning: The objective has been evaluated at this point before.\n",
            "  warnings.warn(\"The objective has been evaluated \"\n",
            "c:\\Users\\kaspr\\AppData\\Local\\Programs\\Python\\Python311\\Lib\\site-packages\\skopt\\optimizer\\optimizer.py:449: UserWarning: The objective has been evaluated at this point before.\n",
            "  warnings.warn(\"The objective has been evaluated \"\n",
            "c:\\Users\\kaspr\\AppData\\Local\\Programs\\Python\\Python311\\Lib\\site-packages\\skopt\\optimizer\\optimizer.py:449: UserWarning: The objective has been evaluated at this point before.\n",
            "  warnings.warn(\"The objective has been evaluated \"\n",
            "c:\\Users\\kaspr\\AppData\\Local\\Programs\\Python\\Python311\\Lib\\site-packages\\skopt\\optimizer\\optimizer.py:449: UserWarning: The objective has been evaluated at this point before.\n",
            "  warnings.warn(\"The objective has been evaluated \"\n",
            "c:\\Users\\kaspr\\AppData\\Local\\Programs\\Python\\Python311\\Lib\\site-packages\\skopt\\optimizer\\optimizer.py:449: UserWarning: The objective has been evaluated at this point before.\n",
            "  warnings.warn(\"The objective has been evaluated \"\n",
            "c:\\Users\\kaspr\\AppData\\Local\\Programs\\Python\\Python311\\Lib\\site-packages\\skopt\\optimizer\\optimizer.py:449: UserWarning: The objective has been evaluated at this point before.\n",
            "  warnings.warn(\"The objective has been evaluated \"\n",
            "c:\\Users\\kaspr\\AppData\\Local\\Programs\\Python\\Python311\\Lib\\site-packages\\skopt\\optimizer\\optimizer.py:449: UserWarning: The objective has been evaluated at this point before.\n",
            "  warnings.warn(\"The objective has been evaluated \"\n",
            "c:\\Users\\kaspr\\AppData\\Local\\Programs\\Python\\Python311\\Lib\\site-packages\\skopt\\optimizer\\optimizer.py:449: UserWarning: The objective has been evaluated at this point before.\n",
            "  warnings.warn(\"The objective has been evaluated \"\n",
            "c:\\Users\\kaspr\\AppData\\Local\\Programs\\Python\\Python311\\Lib\\site-packages\\skopt\\optimizer\\optimizer.py:449: UserWarning: The objective has been evaluated at this point before.\n",
            "  warnings.warn(\"The objective has been evaluated \"\n",
            "c:\\Users\\kaspr\\AppData\\Local\\Programs\\Python\\Python311\\Lib\\site-packages\\skopt\\optimizer\\optimizer.py:449: UserWarning: The objective has been evaluated at this point before.\n",
            "  warnings.warn(\"The objective has been evaluated \"\n",
            "c:\\Users\\kaspr\\AppData\\Local\\Programs\\Python\\Python311\\Lib\\site-packages\\skopt\\optimizer\\optimizer.py:449: UserWarning: The objective has been evaluated at this point before.\n",
            "  warnings.warn(\"The objective has been evaluated \"\n",
            "c:\\Users\\kaspr\\AppData\\Local\\Programs\\Python\\Python311\\Lib\\site-packages\\skopt\\optimizer\\optimizer.py:449: UserWarning: The objective has been evaluated at this point before.\n",
            "  warnings.warn(\"The objective has been evaluated \"\n",
            "c:\\Users\\kaspr\\AppData\\Local\\Programs\\Python\\Python311\\Lib\\site-packages\\skopt\\optimizer\\optimizer.py:449: UserWarning: The objective has been evaluated at this point before.\n",
            "  warnings.warn(\"The objective has been evaluated \"\n",
            "c:\\Users\\kaspr\\AppData\\Local\\Programs\\Python\\Python311\\Lib\\site-packages\\skopt\\optimizer\\optimizer.py:449: UserWarning: The objective has been evaluated at this point before.\n",
            "  warnings.warn(\"The objective has been evaluated \"\n",
            "c:\\Users\\kaspr\\AppData\\Local\\Programs\\Python\\Python311\\Lib\\site-packages\\skopt\\optimizer\\optimizer.py:449: UserWarning: The objective has been evaluated at this point before.\n",
            "  warnings.warn(\"The objective has been evaluated \"\n"
          ]
        }
      ],
      "source": [
        "bayes_opt = pd.DataFrame(columns = ['ccp_alpha', 'max_depth', 'min_samples_leaf', 'min_samples_split', 'df', 'best_score'])\n",
        "bayes_optimizer = {}\n",
        "df_names = {1:'df_1', 2:'df_2', 3:'df_credit', 4:'df_diabetes'}\n",
        "for i, dataset in enumerate([df_1, df_2, df_credit, df_diabetes]):\n",
        "  y = dataset['class']\n",
        "  X = dataset.drop('class', axis=1)\n",
        "\n",
        "  X_train, X_test, y_train, y_test = train_test_split(X, y,test_size=0.2)\n",
        "\n",
        "  # To compare with random search\n",
        "  num_pipeline = Pipeline(steps=[\n",
        "  ('impute', SimpleImputer(strategy='mean')),\n",
        "  ('scale',MinMaxScaler())])\n",
        "\n",
        "  cat_pipeline = Pipeline(steps=[\n",
        "      ('impute', SimpleImputer(strategy='most_frequent')),\n",
        "      ('one-hot',OneHotEncoder(handle_unknown='ignore', sparse=False))\n",
        "  ])\n",
        "\n",
        "  col_trans = ColumnTransformer(transformers=[\n",
        "  ('num_pipeline',num_pipeline, make_column_selector( dtype_include= np.number)),\n",
        "  ('cat_pipeline',cat_pipeline,make_column_selector( dtype_include= np.object_))\n",
        "  ],\n",
        "  remainder='drop',\n",
        "  n_jobs=-1)\n",
        "\n",
        "  X_trans = col_trans.fit_transform(X_train)\n",
        "  X_test_trans = col_trans.transform(X_test)\n",
        "  # for column in dataset.select_dtypes(include=['category', 'object']):\n",
        "  if y_train.dtype in ['category', 'object']:\n",
        "    df_dict={}\n",
        "    for j, e in enumerate(sorted(y_train.unique())):\n",
        "      df_dict[e] = j\n",
        "    y_trans = y_train.map(lambda s: df_dict.get(s) if s in df_dict else s)\n",
        "    y_test_trans = y_test.map(lambda s: df_dict.get(s) if s in df_dict else s)\n",
        "  else:\n",
        "    y_trans = y_train\n",
        "    y_test_trans = y_test\n",
        "\n",
        "  opt = BayesSearchCV(\n",
        "    DecisionTreeClassifier(),\n",
        "    {\n",
        "        'ccp_alpha': Real(0, 1),\n",
        "        'max_depth': (1, 30),\n",
        "        'min_samples_leaf': (1, 60),\n",
        "        'min_samples_split': (2, 60)\n",
        "    },\n",
        "    n_iter=50,\n",
        "    cv=5\n",
        "  )\n",
        "  opt.fit(X_trans, y_trans)\n",
        "  bayes_optimizer[f'df{i+1}'] = np.maximum.accumulate(opt.cv_results_['mean_test_score'])\n",
        "  row = opt._optim_results[0].get('x')\n",
        "  row.append(df_names[i+1])\n",
        "  row.append(opt.best_score_)\n",
        "  row = pd.DataFrame(row).transpose()\n",
        "  row.columns = ['ccp_alpha', 'max_depth', 'min_samples_leaf', 'min_samples_split', 'df', 'best_score']\n",
        "  bayes_opt = pd.concat([bayes_opt, row], ignore_index=True)"
      ]
    },
    {
      "cell_type": "code",
      "execution_count": 89,
      "metadata": {},
      "outputs": [],
      "source": [
        "# bayes_opt.to_csv('bayes_opt_dtc.csv', index=False)\n",
        "# with open('bayes_optimizer_dtc.pkl', 'wb') as fp:\n",
        "#     pickle.dump(bayes_optimizer, fp)"
      ]
    },
    {
      "cell_type": "code",
      "execution_count": 68,
      "metadata": {},
      "outputs": [],
      "source": [
        "df_params = pd.read_csv('params_dtc.csv')\n",
        "bayes_opt = pd.read_csv('bayes_opt_dtc.csv')\n",
        "with open('bayes_optimizer_dtc.pkl', 'rb') as fp:\n",
        "    bayes_optimizer_dtc = pickle.load(fp)"
      ]
    },
    {
      "cell_type": "code",
      "execution_count": 71,
      "metadata": {
        "colab": {
          "base_uri": "https://localhost:8080/",
          "height": 524
        },
        "id": "WjKfXxcuqGWs",
        "outputId": "8bf127ea-68a3-4d09-d429-d84fb6070ed9"
      },
      "outputs": [
        {
          "name": "stdout",
          "output_type": "stream",
          "text": [
            "Random search accuracy = 1.00\n",
            "Bayesian optimization accuracy = 1.00\n"
          ]
        },
        {
          "data": {
            "text/plain": [
              "<matplotlib.legend.Legend at 0x1ed2270a790>"
            ]
          },
          "execution_count": 71,
          "metadata": {},
          "output_type": "execute_result"
        },
        {
          "data": {
            "image/png": "[encoded data removed]",
            "text/plain": [
              "<Figure size 640x480 with 1 Axes>"
            ]
          },
          "metadata": {},
          "output_type": "display_data"
        }
      ],
      "source": [
        "y_rs = np.maximum.accumulate(df_params['df1']).ravel()\n",
        "y_bo = bayes_optimizer_dtc.get('df1')\n",
        "print(f'Random search accuracy = {y_rs[-1]:.2f}')\n",
        "print(f'Bayesian optimization accuracy = {y_bo[-1]:.2f}')\n",
        "\n",
        "plt.plot(y_rs, 'ro-', label='Random search')\n",
        "plt.plot(y_bo, 'bo-', label='Bayesian optimization')\n",
        "plt.xlabel('Iteration')\n",
        "plt.ylabel('Accuracy')\n",
        "plt.title('Decision tree, dataset df1')\n",
        "plt.legend()"
      ]
    },
    {
      "cell_type": "code",
      "execution_count": 72,
      "metadata": {},
      "outputs": [
        {
          "name": "stdout",
          "output_type": "stream",
          "text": [
            "Random search accuracy = 0.89\n",
            "Bayesian optimization accuracy = 0.95\n"
          ]
        },
        {
          "data": {
            "text/plain": [
              "<matplotlib.legend.Legend at 0x1ed226de2d0>"
            ]
          },
          "execution_count": 72,
          "metadata": {},
          "output_type": "execute_result"
        },
        {
          "data": {
            "image/png": "[encoded data removed]",
            "text/plain": [
              "<Figure size 640x480 with 1 Axes>"
            ]
          },
          "metadata": {},
          "output_type": "display_data"
        }
      ],
      "source": [
        "y_rs = np.maximum.accumulate(df_params['df2']).ravel()\n",
        "y_bo = bayes_optimizer_dtc.get('df2')\n",
        "print(f'Random search accuracy = {y_rs[-1]:.2f}')\n",
        "print(f'Bayesian optimization accuracy = {y_bo[-1]:.2f}')\n",
        "\n",
        "plt.plot(y_rs, 'ro-', label='Random search')\n",
        "plt.plot(y_bo, 'bo-', label='Bayesian optimization')\n",
        "plt.xlabel('Iteration')\n",
        "plt.ylabel('Accuracy')\n",
        "plt.title('Decision tree, dataset df2')\n",
        "plt.legend()"
      ]
    },
    {
      "cell_type": "code",
      "execution_count": 74,
      "metadata": {},
      "outputs": [
        {
          "name": "stdout",
          "output_type": "stream",
          "text": [
            "Random search accuracy = 0.72\n",
            "Bayesian optimization accuracy = 0.72\n"
          ]
        },
        {
          "data": {
            "text/plain": [
              "<matplotlib.legend.Legend at 0x1ed22512c10>"
            ]
          },
          "execution_count": 74,
          "metadata": {},
          "output_type": "execute_result"
        },
        {
          "data": {
            "image/png": "[encoded data removed]",
            "text/plain": [
              "<Figure size 640x480 with 1 Axes>"
            ]
          },
          "metadata": {},
          "output_type": "display_data"
        }
      ],
      "source": [
        "y_rs = np.maximum.accumulate(df_params['df3']).ravel()\n",
        "y_bo = bayes_optimizer_dtc.get('df3')\n",
        "print(f'Random search accuracy = {y_rs[-1]:.2f}')\n",
        "print(f'Bayesian optimization accuracy = {y_bo[-1]:.2f}')\n",
        "\n",
        "plt.plot(y_rs, 'ro-', label='Random search')\n",
        "plt.plot(y_bo, 'bo-', label='Bayesian optimization')\n",
        "plt.xlabel('Iteration')\n",
        "plt.ylabel('Accuracy')\n",
        "plt.title('Decision tree, dataset df_credit')\n",
        "plt.legend()"
      ]
    },
    {
      "cell_type": "code",
      "execution_count": 75,
      "metadata": {
        "colab": {
          "base_uri": "https://localhost:8080/",
          "height": 523
        },
        "id": "RDyFlEc519M5",
        "outputId": "3601e50a-1313-4d64-802b-4b3e990669fe"
      },
      "outputs": [
        {
          "name": "stdout",
          "output_type": "stream",
          "text": [
            "Random search accuracy = 0.77\n",
            "Bayesian optimization accuracy = 0.75\n"
          ]
        },
        {
          "data": {
            "text/plain": [
              "<matplotlib.legend.Legend at 0x1ed22a25850>"
            ]
          },
          "execution_count": 75,
          "metadata": {},
          "output_type": "execute_result"
        },
        {
          "data": {
            "image/png": "[encoded data removed]",
            "text/plain": [
              "<Figure size 640x480 with 1 Axes>"
            ]
          },
          "metadata": {},
          "output_type": "display_data"
        }
      ],
      "source": [
        "y_rs = np.maximum.accumulate(df_params['df4']).ravel()\n",
        "y_bo = bayes_optimizer_dtc.get('df4')\n",
        "print(f'Random search accuracy = {y_rs[-1]:.2f}')\n",
        "print(f'Bayesian optimization accuracy = {y_bo[-1]:.2f}')\n",
        "\n",
        "plt.plot(y_rs, 'ro-', label='Random search')\n",
        "plt.plot(y_bo, 'bo-', label='Bayesian optimization')\n",
        "plt.xlabel('Iteration')\n",
        "plt.ylabel('Accuracy')\n",
        "plt.title('Decision tree, dataset df_diabetes')\n",
        "plt.legend()"
      ]
    },
    {
      "cell_type": "markdown",
      "metadata": {},
      "source": [
        "### Tunability calculation"
      ]
    },
    {
      "cell_type": "markdown",
      "metadata": {},
      "source": [
        "#### Random search section"
      ]
    },
    {
      "cell_type": "code",
      "execution_count": null,
      "metadata": {
        "id": "YZcX5WlIukWe"
      },
      "outputs": [],
      "source": [
        "df_params_ccp_alpha = pd.DataFrame(columns = ['ccp_alpha', 'max_depth', 'min_samples_leaf', 'min_samples_split', 'df1', 'df2', 'df3', 'df4' ])\n",
        "for i in range(1000):\n",
        "  params_ccp_alpha = {\"ccp_alpha\" : random.random(), \"max_depth\" : best_params_dtc.get('max_depth'), \"min_samples_leaf\": best_params_dtc.get('min_samples_leaf'), \"min_samples_split\": best_params_dtc.get('min_samples_split')}\n",
        "  estimator = DecisionTreeClassifier(ccp_alpha = params_ccp_alpha.get('ccp_alpha'), max_depth = params_ccp_alpha.get('max_depth'), min_samples_leaf=params_ccp_alpha.get(\"min_samples_leaf\"), min_samples_split = params_ccp_alpha.get(\"min_samples_split\"))\n",
        "  mean_accuracies = []\n",
        "  for i, dataset in enumerate([df_1, df_2, df_credit, df_diabetes]):\n",
        "    y = dataset['class']\n",
        "    X = dataset.drop('class', axis=1)\n",
        "\n",
        "    X_train, X_test, y_train, y_test = train_test_split(X, y,test_size=0.2)\n",
        "\n",
        "    # To compare with random search\n",
        "    num_pipeline = Pipeline(steps=[\n",
        "    ('impute', SimpleImputer(strategy='mean')),\n",
        "    ('scale',MinMaxScaler())])\n",
        "\n",
        "    cat_pipeline = Pipeline(steps=[\n",
        "        ('impute', SimpleImputer(strategy='most_frequent')),\n",
        "        ('one-hot',OneHotEncoder(handle_unknown='ignore', sparse=False))\n",
        "    ])\n",
        "\n",
        "    col_trans = ColumnTransformer(transformers=[\n",
        "    ('num_pipeline',num_pipeline, make_column_selector( dtype_include= np.number)),\n",
        "    ('cat_pipeline',cat_pipeline,make_column_selector( dtype_include= np.object_))\n",
        "    ],\n",
        "    remainder='drop',\n",
        "    n_jobs=-1)\n",
        "\n",
        "    X_trans = col_trans.fit_transform(X_train)\n",
        "    X_test_trains = col_trans.transform(X_test)\n",
        "    # print(pd.DataFrame(X_trans).head())\n",
        "    # for column in dataset.select_dtypes(include=['category', 'object']):\n",
        "    if y_train.dtype in ['category', 'object']:\n",
        "      df_dict={}\n",
        "      for j, e in enumerate(sorted(y_train.unique())):\n",
        "        df_dict[e] = j\n",
        "      y_trans = y_train.map(lambda s: df_dict.get(s) if s in df_dict else s)\n",
        "      y_test_trans = y_test.map(lambda s: df_dict.get(s) if s in df_dict else s)\n",
        "      # print('Mapped: ', y_trans.shape)\n",
        "    else:\n",
        "      y_trans = y_train\n",
        "      y_test_trans = y_test\n",
        "      # print('not mapped: ', y_trans.dtype)\n",
        "\n",
        "    kf = KFold(n_splits=10)\n",
        "    accuracy = 0\n",
        "    for train_index, test_index in kf.split(X_trans):\n",
        "      y_train, y_test = np.take(y_trans, train_index), np.take(y_trans, test_index)\n",
        "      X_train, X_test = X_trans[train_index, :], X_trans[test_index, :]\n",
        "      estimator.fit(X_train, y_train)\n",
        "      y_pred = estimator.predict(X_test)\n",
        "      # print(\"Accuracy:\",metrics.accuracy_score(y_test, y_pred))\n",
        "      accuracy += metrics.accuracy_score(y_test, y_pred)\n",
        "    mean_accuracy = accuracy/10\n",
        "    mean_accuracies.append(mean_accuracy)\n",
        "  params_ccp_alpha['df1'] = mean_accuracies[0]\n",
        "  params_ccp_alpha['df2'] = mean_accuracies[1]\n",
        "  params_ccp_alpha['df3'] = mean_accuracies[2]\n",
        "  params_ccp_alpha['df4'] = mean_accuracies[3]\n",
        "\n",
        "  row = pd.DataFrame([params_ccp_alpha])\n",
        "  # print(params)\n",
        "  df_params_ccp_alpha = pd.concat([df_params_ccp_alpha, row], ignore_index=True)"
      ]
    },
    {
      "cell_type": "code",
      "execution_count": null,
      "metadata": {
        "id": "zN2FL8C77_ar"
      },
      "outputs": [],
      "source": [
        "df_params_ccp_alpha['ccp_alpha_tunability'] = (df_params_ccp_alpha['df1'] + df_params_ccp_alpha['df2'] + df_params_ccp_alpha['df3'] + df_params_ccp_alpha['df4']) / 4"
      ]
    },
    {
      "cell_type": "code",
      "execution_count": null,
      "metadata": {
        "colab": {
          "base_uri": "https://localhost:8080/",
          "height": 447
        },
        "id": "_uA5-YicAEXZ",
        "outputId": "4c7bafab-367a-4438-c420-fb96fd8be2d8"
      },
      "outputs": [
        {
          "data": {
            "text/plain": [
              "<Axes: >"
            ]
          },
          "execution_count": 88,
          "metadata": {},
          "output_type": "execute_result"
        },
        {
          "data": {
            "image/png": "[encoded data removed]",
            "text/plain": [
              "<Figure size 640x480 with 1 Axes>"
            ]
          },
          "metadata": {},
          "output_type": "display_data"
        }
      ],
      "source": [
        "df_params_ccp_alpha.boxplot(column=['ccp_alpha_tunability'])"
      ]
    },
    {
      "cell_type": "code",
      "execution_count": null,
      "metadata": {
        "id": "RbhygHDPAan-"
      },
      "outputs": [],
      "source": [
        "df_params_max_depth = pd.DataFrame(columns = ['ccp_alpha', 'max_depth', 'min_samples_leaf', 'min_samples_split', 'df1', 'df2', 'df3', 'df4' ])\n",
        "for i in range(1000):\n",
        "  params_max_depth = {\"ccp_alpha\" : best_params_dtc.get('ccp_alpha'), \"max_depth\" : random.randint(1,30), \"min_samples_leaf\": best_params_dtc.get('min_samples_leaf'), \"min_samples_split\": best_params_dtc.get('min_samples_split')}\n",
        "  estimator = DecisionTreeClassifier(ccp_alpha = params_max_depth.get('ccp_alpha'), max_depth = params_max_depth.get('max_depth'), min_samples_leaf=params_max_depth.get(\"min_samples_leaf\"), min_samples_split = params_max_depth.get(\"min_samples_split\"))\n",
        "  mean_accuracies = []\n",
        "  for i, dataset in enumerate([df_1, df_2, df_credit, df_diabetes]):\n",
        "    y = dataset['class']\n",
        "    X = dataset.drop('class', axis=1)\n",
        "\n",
        "    X_train, X_test, y_train, y_test = train_test_split(X, y,test_size=0.2)\n",
        "\n",
        "    # To compare with random search\n",
        "    num_pipeline = Pipeline(steps=[\n",
        "    ('impute', SimpleImputer(strategy='mean')),\n",
        "    ('scale',MinMaxScaler())])\n",
        "\n",
        "    cat_pipeline = Pipeline(steps=[\n",
        "        ('impute', SimpleImputer(strategy='most_frequent')),\n",
        "        ('one-hot',OneHotEncoder(handle_unknown='ignore', sparse=False))\n",
        "    ])\n",
        "\n",
        "    col_trans = ColumnTransformer(transformers=[\n",
        "    ('num_pipeline',num_pipeline, make_column_selector( dtype_include= np.number)),\n",
        "    ('cat_pipeline',cat_pipeline,make_column_selector( dtype_include= np.object_))\n",
        "    ],\n",
        "    remainder='drop',\n",
        "    n_jobs=-1)\n",
        "\n",
        "    X_trans = col_trans.fit_transform(X_train)\n",
        "    X_test_trains = col_trans.transform(X_test)\n",
        "    # print(pd.DataFrame(X_trans).head())\n",
        "    # for column in dataset.select_dtypes(include=['category', 'object']):\n",
        "    if y_train.dtype in ['category', 'object']:\n",
        "      df_dict={}\n",
        "      for j, e in enumerate(sorted(y_train.unique())):\n",
        "        df_dict[e] = j\n",
        "      y_trans = y_train.map(lambda s: df_dict.get(s) if s in df_dict else s)\n",
        "      y_test_trans = y_test.map(lambda s: df_dict.get(s) if s in df_dict else s)\n",
        "      # print('Mapped: ', y_trans.shape)\n",
        "    else:\n",
        "      y_trans = y_train\n",
        "      y_test_trans = y_test\n",
        "      # print('not mapped: ', y_trans.dtype)\n",
        "\n",
        "    kf = KFold(n_splits=10)\n",
        "    accuracy = 0\n",
        "    for train_index, test_index in kf.split(X_trans):\n",
        "      y_train, y_test = np.take(y_trans, train_index), np.take(y_trans, test_index)\n",
        "      X_train, X_test = X_trans[train_index, :], X_trans[test_index, :]\n",
        "      estimator.fit(X_train, y_train)\n",
        "      y_pred = estimator.predict(X_test)\n",
        "      # print(\"Accuracy:\",metrics.accuracy_score(y_test, y_pred))\n",
        "      accuracy += metrics.accuracy_score(y_test, y_pred)\n",
        "    mean_accuracy = accuracy/10\n",
        "    mean_accuracies.append(mean_accuracy)\n",
        "  params_max_depth['df1'] = mean_accuracies[0]\n",
        "  params_max_depth['df2'] = mean_accuracies[1]\n",
        "  params_max_depth['df3'] = mean_accuracies[2]\n",
        "  params_max_depth['df4'] = mean_accuracies[3]\n",
        "\n",
        "  row = pd.DataFrame([params_max_depth])\n",
        "  # print(params)\n",
        "  df_params_max_depth = pd.concat([df_params_max_depth, row], ignore_index=True)"
      ]
    },
    {
      "cell_type": "code",
      "execution_count": null,
      "metadata": {
        "id": "waw5pDyOCFVY"
      },
      "outputs": [],
      "source": [
        "df_params_max_depth['max_depth_tunability'] = (df_params_max_depth['df1'] + df_params_max_depth['df2'] + df_params_max_depth['df3'] + df_params_max_depth['df4']) / 4"
      ]
    },
    {
      "cell_type": "code",
      "execution_count": null,
      "metadata": {
        "colab": {
          "base_uri": "https://localhost:8080/",
          "height": 447
        },
        "id": "dc7l1GmLCO_q",
        "outputId": "49116f9c-2a91-47a5-8968-45e674dfe41f"
      },
      "outputs": [
        {
          "data": {
            "text/plain": [
              "<Axes: >"
            ]
          },
          "execution_count": 96,
          "metadata": {},
          "output_type": "execute_result"
        },
        {
          "data": {
            "image/png": "[encoded data removed]",
            "text/plain": [
              "<Figure size 640x480 with 1 Axes>"
            ]
          },
          "metadata": {},
          "output_type": "display_data"
        }
      ],
      "source": [
        "df_params_max_depth.boxplot(column=['max_depth_tunability'])"
      ]
    },
    {
      "cell_type": "code",
      "execution_count": null,
      "metadata": {
        "id": "paOyu2p0CUsw"
      },
      "outputs": [],
      "source": [
        "df_params_min_samples_leaf = pd.DataFrame(columns = ['ccp_alpha', 'max_depth', 'min_samples_leaf', 'min_samples_split', 'df1', 'df2', 'df3', 'df4' ])\n",
        "for i in range(1000):\n",
        "  params_min_samples_leaf = {\"ccp_alpha\" : best_params_dtc.get('ccp_alpha'), \"max_depth\" : best_params_dtc.get('max_depth'), \"min_samples_leaf\": random.randint(1, 60), \"min_samples_split\": best_params_dtc.get('min_samples_split')}\n",
        "  estimator = DecisionTreeClassifier(ccp_alpha = params_min_samples_leaf.get('ccp_alpha'), max_depth = params_min_samples_leaf.get('max_depth'), min_samples_leaf=params_min_samples_leaf.get(\"min_samples_leaf\"), min_samples_split = params_min_samples_leaf.get(\"min_samples_split\"))\n",
        "  mean_accuracies = []\n",
        "  for i, dataset in enumerate([df_1, df_2, df_credit, df_diabetes]):\n",
        "    y = dataset['class']\n",
        "    X = dataset.drop('class', axis=1)\n",
        "\n",
        "    X_train, X_test, y_train, y_test = train_test_split(X, y,test_size=0.2)\n",
        "\n",
        "    # To compare with random search\n",
        "    num_pipeline = Pipeline(steps=[\n",
        "    ('impute', SimpleImputer(strategy='mean')),\n",
        "    ('scale',MinMaxScaler())])\n",
        "\n",
        "    cat_pipeline = Pipeline(steps=[\n",
        "        ('impute', SimpleImputer(strategy='most_frequent')),\n",
        "        ('one-hot',OneHotEncoder(handle_unknown='ignore', sparse=False))\n",
        "    ])\n",
        "\n",
        "    col_trans = ColumnTransformer(transformers=[\n",
        "    ('num_pipeline',num_pipeline, make_column_selector( dtype_include= np.number)),\n",
        "    ('cat_pipeline',cat_pipeline,make_column_selector( dtype_include= np.object_))\n",
        "    ],\n",
        "    remainder='drop',\n",
        "    n_jobs=-1)\n",
        "\n",
        "    X_trans = col_trans.fit_transform(X_train)\n",
        "    X_test_trains = col_trans.transform(X_test)\n",
        "    # print(pd.DataFrame(X_trans).head())\n",
        "    # for column in dataset.select_dtypes(include=['category', 'object']):\n",
        "    if y_train.dtype in ['category', 'object']:\n",
        "      df_dict={}\n",
        "      for j, e in enumerate(sorted(y_train.unique())):\n",
        "        df_dict[e] = j\n",
        "      y_trans = y_train.map(lambda s: df_dict.get(s) if s in df_dict else s)\n",
        "      y_test_trans = y_test.map(lambda s: df_dict.get(s) if s in df_dict else s)\n",
        "      # print('Mapped: ', y_trans.shape)\n",
        "    else:\n",
        "      y_trans = y_train\n",
        "      y_test_trans = y_test\n",
        "      # print('not mapped: ', y_trans.dtype)\n",
        "\n",
        "    kf = KFold(n_splits=10)\n",
        "    accuracy = 0\n",
        "    for train_index, test_index in kf.split(X_trans):\n",
        "      y_train, y_test = np.take(y_trans, train_index), np.take(y_trans, test_index)\n",
        "      X_train, X_test = X_trans[train_index, :], X_trans[test_index, :]\n",
        "      estimator.fit(X_train, y_train)\n",
        "      y_pred = estimator.predict(X_test)\n",
        "      # print(\"Accuracy:\",metrics.accuracy_score(y_test, y_pred))\n",
        "      accuracy += metrics.accuracy_score(y_test, y_pred)\n",
        "    mean_accuracy = accuracy/10\n",
        "    mean_accuracies.append(mean_accuracy)\n",
        "  params_min_samples_leaf['df1'] = mean_accuracies[0]\n",
        "  params_min_samples_leaf['df2'] = mean_accuracies[1]\n",
        "  params_min_samples_leaf['df3'] = mean_accuracies[2]\n",
        "  params_min_samples_leaf['df4'] = mean_accuracies[3]\n",
        "\n",
        "  row = pd.DataFrame([params_min_samples_leaf])\n",
        "  # print(params)\n",
        "  df_params_min_samples_leaf = pd.concat([df_params_min_samples_leaf, row], ignore_index=True)"
      ]
    },
    {
      "cell_type": "code",
      "execution_count": null,
      "metadata": {
        "colab": {
          "base_uri": "https://localhost:8080/",
          "height": 447
        },
        "id": "Q0XshT2YCvpg",
        "outputId": "f3411683-1f9f-4492-d7f5-7f5b893c1e2e"
      },
      "outputs": [
        {
          "data": {
            "text/plain": [
              "<Axes: >"
            ]
          },
          "execution_count": 99,
          "metadata": {},
          "output_type": "execute_result"
        },
        {
          "data": {
            "image/png": "[encoded data removed]",
            "text/plain": [
              "<Figure size 640x480 with 1 Axes>"
            ]
          },
          "metadata": {},
          "output_type": "display_data"
        }
      ],
      "source": [
        "df_params_min_samples_leaf['min_samples_leaf_tunability'] = (df_params_min_samples_leaf['df1'] + df_params_min_samples_leaf['df2'] + df_params_min_samples_leaf['df3'] + df_params_min_samples_leaf['df4']) / 4\n",
        "df_params_min_samples_leaf.boxplot(column=['min_samples_leaf_tunability'])"
      ]
    },
    {
      "cell_type": "code",
      "execution_count": null,
      "metadata": {
        "id": "QHQkqR7TC3wo"
      },
      "outputs": [],
      "source": [
        "df_params_min_samples_split = pd.DataFrame(columns = ['ccp_alpha', 'max_depth', 'min_samples_leaf', 'min_samples_split', 'df1', 'df2', 'df3', 'df4' ])\n",
        "for i in range(1000):\n",
        "  params_min_samples_split = {\"ccp_alpha\" : best_params_dtc.get('ccp_alpha'), \"max_depth\" : best_params_dtc.get('max_depth'), \"min_samples_leaf\": best_params_dtc.get('min_samples_leaf'), \"min_samples_split\": random.randint(2, 60)}\n",
        "  estimator = DecisionTreeClassifier(ccp_alpha = params_min_samples_split.get('ccp_alpha'), max_depth = params_min_samples_split.get('max_depth'), min_samples_leaf=params_min_samples_split.get(\"min_samples_leaf\"), min_samples_split = params_min_samples_split.get(\"min_samples_split\"))\n",
        "  mean_accuracies = []\n",
        "  for i, dataset in enumerate([df_1, df_2, df_credit, df_diabetes]):\n",
        "    y = dataset['class']\n",
        "    X = dataset.drop('class', axis=1)\n",
        "\n",
        "    X_train, X_test, y_train, y_test = train_test_split(X, y,test_size=0.2)\n",
        "\n",
        "    # To compare with random search\n",
        "    num_pipeline = Pipeline(steps=[\n",
        "    ('impute', SimpleImputer(strategy='mean')),\n",
        "    ('scale',MinMaxScaler())])\n",
        "\n",
        "    cat_pipeline = Pipeline(steps=[\n",
        "        ('impute', SimpleImputer(strategy='most_frequent')),\n",
        "        ('one-hot',OneHotEncoder(handle_unknown='ignore', sparse=False))\n",
        "    ])\n",
        "\n",
        "    col_trans = ColumnTransformer(transformers=[\n",
        "    ('num_pipeline',num_pipeline, make_column_selector( dtype_include= np.number)),\n",
        "    ('cat_pipeline',cat_pipeline,make_column_selector( dtype_include= np.object_))\n",
        "    ],\n",
        "    remainder='drop',\n",
        "    n_jobs=-1)\n",
        "\n",
        "    X_trans = col_trans.fit_transform(X_train)\n",
        "    X_test_trains = col_trans.transform(X_test)\n",
        "    # print(pd.DataFrame(X_trans).head())\n",
        "    # for column in dataset.select_dtypes(include=['category', 'object']):\n",
        "    if y_train.dtype in ['category', 'object']:\n",
        "      df_dict={}\n",
        "      for j, e in enumerate(sorted(y_train.unique())):\n",
        "        df_dict[e] = j\n",
        "      y_trans = y_train.map(lambda s: df_dict.get(s) if s in df_dict else s)\n",
        "      y_test_trans = y_test.map(lambda s: df_dict.get(s) if s in df_dict else s)\n",
        "      # print('Mapped: ', y_trans.shape)\n",
        "    else:\n",
        "      y_trans = y_train\n",
        "      y_test_trans = y_test\n",
        "      # print('not mapped: ', y_trans.dtype)\n",
        "\n",
        "    kf = KFold(n_splits=10)\n",
        "    accuracy = 0\n",
        "    for train_index, test_index in kf.split(X_trans):\n",
        "      y_train, y_test = np.take(y_trans, train_index), np.take(y_trans, test_index)\n",
        "      X_train, X_test = X_trans[train_index, :], X_trans[test_index, :]\n",
        "      estimator.fit(X_train, y_train)\n",
        "      y_pred = estimator.predict(X_test)\n",
        "      # print(\"Accuracy:\",metrics.accuracy_score(y_test, y_pred))\n",
        "      accuracy += metrics.accuracy_score(y_test, y_pred)\n",
        "    mean_accuracy = accuracy/10\n",
        "    mean_accuracies.append(mean_accuracy)\n",
        "  params_min_samples_split['df1'] = mean_accuracies[0]\n",
        "  params_min_samples_split['df2'] = mean_accuracies[1]\n",
        "  params_min_samples_split['df3'] = mean_accuracies[2]\n",
        "  params_min_samples_split['df4'] = mean_accuracies[3]\n",
        "\n",
        "  row = pd.DataFrame([params_min_samples_split])\n",
        "  # print(params)\n",
        "  df_params_min_samples_split = pd.concat([df_params_min_samples_split, row], ignore_index=True)"
      ]
    },
    {
      "cell_type": "code",
      "execution_count": null,
      "metadata": {
        "colab": {
          "base_uri": "https://localhost:8080/",
          "height": 447
        },
        "id": "v-PnyazGDikJ",
        "outputId": "463d7ef2-e98b-459e-c3a5-4360f55fa472"
      },
      "outputs": [
        {
          "data": {
            "text/plain": [
              "<Axes: >"
            ]
          },
          "execution_count": 101,
          "metadata": {},
          "output_type": "execute_result"
        },
        {
          "data": {
            "image/png": "[encoded data removed]",
            "text/plain": [
              "<Figure size 640x480 with 1 Axes>"
            ]
          },
          "metadata": {},
          "output_type": "display_data"
        }
      ],
      "source": [
        "df_params_min_samples_split['min_samples_split_tunability'] = (df_params_min_samples_split['df1'] + df_params_min_samples_split['df2'] + df_params_min_samples_split['df3'] + df_params_min_samples_split['df4']) / 4\n",
        "df_params_min_samples_split.boxplot(column=['min_samples_split_tunability'])"
      ]
    },
    {
      "cell_type": "code",
      "execution_count": 212,
      "metadata": {},
      "outputs": [
        {
          "data": {
            "image/png": "[encoded data removed]",
            "text/plain": [
              "<Figure size 640x480 with 1 Axes>"
            ]
          },
          "metadata": {},
          "output_type": "display_data"
        }
      ],
      "source": [
        "plt.boxplot([df_params_ccp_alpha['ccp_alpha_tunability'],\n",
        "             df_params_max_depth['max_depth_tunability'],\n",
        "             df_params_min_samples_leaf['min_samples_leaf_tunability'], \n",
        "             df_params_min_samples_split['min_samples_split_tunability']],\n",
        "             labels=['ccp_alpha', 'max_depth', 'min_samples_leaf', 'min_samples_split'],\n",
        "             autorange=True)\n",
        "plt.xticks(rotation = 10)\n",
        "plt.title('Tunability hiperparametrów w drzewie decyzyjnym (random search)')\n",
        "plt.show()"
      ]
    },
    {
      "cell_type": "code",
      "execution_count": null,
      "metadata": {
        "id": "p5kS3T8dEnuR"
      },
      "outputs": [],
      "source": [
        "# df_params_ccp_alpha.to_csv('/content/Zdrive/MyDrive/AutoML/ccp_alpha.csv')\n",
        "# df_params_max_depth.to_csv('/content/Zdrive/MyDrive/AutoML/max_depth.csv')\n",
        "# df_params_min_samples_leaf.to_csv('/content/Zdrive/MyDrive/AutoML/min_samples_leaf.csv')\n",
        "# df_params_min_samples_split.to_csv('/content/Zdrive/MyDrive/AutoML/min_samples_split.csv')"
      ]
    },
    {
      "cell_type": "markdown",
      "metadata": {},
      "source": [
        "#### Bayesian search section"
      ]
    },
    {
      "cell_type": "code",
      "execution_count": 91,
      "metadata": {},
      "outputs": [
        {
          "data": {
            "text/html": [
              "<div>\n",
              "<style scoped>\n",
              "    .dataframe tbody tr th:only-of-type {\n",
              "        vertical-align: middle;\n",
              "    }\n",
              "\n",
              "    .dataframe tbody tr th {\n",
              "        vertical-align: top;\n",
              "    }\n",
              "\n",
              "    .dataframe thead th {\n",
              "        text-align: right;\n",
              "    }\n",
              "</style>\n",
              "<table border=\"1\" class=\"dataframe\">\n",
              "  <thead>\n",
              "    <tr style=\"text-align: right;\">\n",
              "      <th></th>\n",
              "      <th>ccp_alpha</th>\n",
              "      <th>max_depth</th>\n",
              "      <th>min_samples_leaf</th>\n",
              "      <th>min_samples_split</th>\n",
              "      <th>df</th>\n",
              "      <th>best_score</th>\n",
              "    </tr>\n",
              "  </thead>\n",
              "  <tbody>\n",
              "    <tr>\n",
              "      <th>0</th>\n",
              "      <td>0.000291</td>\n",
              "      <td>29</td>\n",
              "      <td>8</td>\n",
              "      <td>2</td>\n",
              "      <td>df_1</td>\n",
              "      <td>1.0</td>\n",
              "    </tr>\n",
              "    <tr>\n",
              "      <th>1</th>\n",
              "      <td>0.0</td>\n",
              "      <td>30</td>\n",
              "      <td>1</td>\n",
              "      <td>2</td>\n",
              "      <td>df_2</td>\n",
              "      <td>0.942577</td>\n",
              "    </tr>\n",
              "    <tr>\n",
              "      <th>2</th>\n",
              "      <td>0.010235</td>\n",
              "      <td>2</td>\n",
              "      <td>2</td>\n",
              "      <td>6</td>\n",
              "      <td>df_credit</td>\n",
              "      <td>0.73</td>\n",
              "    </tr>\n",
              "    <tr>\n",
              "      <th>3</th>\n",
              "      <td>0.0</td>\n",
              "      <td>25</td>\n",
              "      <td>32</td>\n",
              "      <td>60</td>\n",
              "      <td>df_diabetes</td>\n",
              "      <td>0.770292</td>\n",
              "    </tr>\n",
              "  </tbody>\n",
              "</table>\n",
              "</div>"
            ],
            "text/plain": [
              "  ccp_alpha max_depth min_samples_leaf min_samples_split           df  \\\n",
              "0  0.000291        29                8                 2         df_1   \n",
              "1       0.0        30                1                 2         df_2   \n",
              "2  0.010235         2                2                 6    df_credit   \n",
              "3       0.0        25               32                60  df_diabetes   \n",
              "\n",
              "  best_score  \n",
              "0        1.0  \n",
              "1   0.942577  \n",
              "2       0.73  \n",
              "3   0.770292  "
            ]
          },
          "execution_count": 91,
          "metadata": {},
          "output_type": "execute_result"
        }
      ],
      "source": [
        "bayes_opt"
      ]
    },
    {
      "cell_type": "code",
      "execution_count": 98,
      "metadata": {},
      "outputs": [
        {
          "data": {
            "text/plain": [
              "29"
            ]
          },
          "execution_count": 98,
          "metadata": {},
          "output_type": "execute_result"
        }
      ],
      "source": [
        "bayes_opt[bayes_opt['df'] == df_names[1]]['max_depth'][0]"
      ]
    },
    {
      "cell_type": "code",
      "execution_count": 102,
      "metadata": {},
      "outputs": [],
      "source": [
        "df_params_ccp_alpha_bo = pd.DataFrame(columns = ['ccp_alpha', 'max_depth', 'min_samples_leaf', 'min_samples_split', 'df1', 'df2', 'df3', 'df4' ])\n",
        "for i in range(200):\n",
        "\n",
        "  mean_accuracies = []\n",
        "  df_names = {1:'df_1', 2:'df_2', 3:'df_credit', 4:'df_diabetes'}\n",
        "  for i, dataset in enumerate([df_1, df_2, df_credit, df_diabetes]):\n",
        "    params_ccp_alpha_bo = {\"ccp_alpha\" : random.random(), \n",
        "                        \"max_depth\" : bayes_opt[bayes_opt['df'] == df_names[i+1]]['max_depth'][i], \n",
        "                        \"min_samples_leaf\": bayes_opt[bayes_opt['df'] == df_names[i+1]]['min_samples_leaf'][i], \n",
        "                        \"min_samples_split\": bayes_opt[bayes_opt['df'] == df_names[i+1]]['min_samples_split'][i]}\n",
        "    estimator = DecisionTreeClassifier(ccp_alpha = params_ccp_alpha_bo.get('ccp_alpha'), \n",
        "                                       max_depth = params_ccp_alpha_bo.get('max_depth'), \n",
        "                                       min_samples_leaf=params_ccp_alpha_bo.get(\"min_samples_leaf\"), \n",
        "                                       min_samples_split = params_ccp_alpha_bo.get(\"min_samples_split\"))\n",
        "\n",
        "    y = dataset['class']\n",
        "    X = dataset.drop('class', axis=1)\n",
        "\n",
        "    X_train, X_test, y_train, y_test = train_test_split(X, y,test_size=0.2)\n",
        "\n",
        "    num_pipeline = Pipeline(steps=[\n",
        "    ('impute', SimpleImputer(strategy='mean')),\n",
        "    ('scale',MinMaxScaler())])\n",
        "\n",
        "    cat_pipeline = Pipeline(steps=[\n",
        "        ('impute', SimpleImputer(strategy='most_frequent')),\n",
        "        ('one-hot',OneHotEncoder(handle_unknown='ignore', sparse=False))\n",
        "    ])\n",
        "\n",
        "    col_trans = ColumnTransformer(transformers=[\n",
        "    ('num_pipeline',num_pipeline, make_column_selector( dtype_include= np.number)),\n",
        "    ('cat_pipeline',cat_pipeline,make_column_selector( dtype_include= np.object_))\n",
        "    ],\n",
        "    remainder='drop',\n",
        "    n_jobs=-1)\n",
        "\n",
        "    X_trans = col_trans.fit_transform(X_train)\n",
        "    X_test_trains = col_trans.transform(X_test)\n",
        "    if y_train.dtype in ['category', 'object']:\n",
        "      df_dict={}\n",
        "      for j, e in enumerate(sorted(y_train.unique())):\n",
        "        df_dict[e] = j\n",
        "      y_trans = y_train.map(lambda s: df_dict.get(s) if s in df_dict else s)\n",
        "      y_test_trans = y_test.map(lambda s: df_dict.get(s) if s in df_dict else s)\n",
        "    else:\n",
        "      y_trans = y_train\n",
        "      y_test_trans = y_test\n",
        "\n",
        "    kf = KFold(n_splits=10)\n",
        "    accuracy = 0\n",
        "    for train_index, test_index in kf.split(X_trans):\n",
        "      y_train, y_test = np.take(y_trans, train_index), np.take(y_trans, test_index)\n",
        "      X_train, X_test = X_trans[train_index, :], X_trans[test_index, :]\n",
        "      estimator.fit(X_train, y_train)\n",
        "      y_pred = estimator.predict(X_test)\n",
        "      accuracy += metrics.accuracy_score(y_test, y_pred)\n",
        "    mean_accuracy = accuracy/10\n",
        "    mean_accuracies.append(mean_accuracy)\n",
        "  params_ccp_alpha_bo['df1'] = mean_accuracies[0]\n",
        "  params_ccp_alpha_bo['df2'] = mean_accuracies[1]\n",
        "  params_ccp_alpha_bo['df3'] = mean_accuracies[2]\n",
        "  params_ccp_alpha_bo['df4'] = mean_accuracies[3]\n",
        "\n",
        "  row = pd.DataFrame([params_ccp_alpha_bo])\n",
        "  df_params_ccp_alpha_bo = pd.concat([df_params_ccp_alpha_bo, row], ignore_index=True)"
      ]
    },
    {
      "cell_type": "code",
      "execution_count": 105,
      "metadata": {},
      "outputs": [],
      "source": [
        "df_params_max_depth_bo = pd.DataFrame(columns = ['ccp_alpha', 'max_depth', 'min_samples_leaf', 'min_samples_split', 'df1', 'df2', 'df3', 'df4' ])\n",
        "for i in range(200):\n",
        "\n",
        "  mean_accuracies = []\n",
        "  df_names = {1:'df_1', 2:'df_2', 3:'df_credit', 4:'df_diabetes'}\n",
        "  for i, dataset in enumerate([df_1, df_2, df_credit, df_diabetes]):\n",
        "    params_max_depth_bo = {\"ccp_alpha\" : bayes_opt[bayes_opt['df'] == df_names[i+1]]['ccp_alpha'][i], \n",
        "                        \"max_depth\" : random.randint(1, 30), \n",
        "                        \"min_samples_leaf\": bayes_opt[bayes_opt['df'] == df_names[i+1]]['min_samples_leaf'][i], \n",
        "                        \"min_samples_split\": bayes_opt[bayes_opt['df'] == df_names[i+1]]['min_samples_split'][i]}\n",
        "    estimator = DecisionTreeClassifier(ccp_alpha = params_max_depth_bo.get('ccp_alpha'), \n",
        "                                       max_depth = params_max_depth_bo.get('max_depth'), \n",
        "                                       min_samples_leaf=params_max_depth_bo.get(\"min_samples_leaf\"), \n",
        "                                       min_samples_split = params_max_depth_bo.get(\"min_samples_split\"))\n",
        "\n",
        "    y = dataset['class']\n",
        "    X = dataset.drop('class', axis=1)\n",
        "\n",
        "    X_train, X_test, y_train, y_test = train_test_split(X, y,test_size=0.2)\n",
        "\n",
        "    num_pipeline = Pipeline(steps=[\n",
        "    ('impute', SimpleImputer(strategy='mean')),\n",
        "    ('scale',MinMaxScaler())])\n",
        "\n",
        "    cat_pipeline = Pipeline(steps=[\n",
        "        ('impute', SimpleImputer(strategy='most_frequent')),\n",
        "        ('one-hot',OneHotEncoder(handle_unknown='ignore', sparse=False))\n",
        "    ])\n",
        "\n",
        "    col_trans = ColumnTransformer(transformers=[\n",
        "    ('num_pipeline',num_pipeline, make_column_selector( dtype_include= np.number)),\n",
        "    ('cat_pipeline',cat_pipeline,make_column_selector( dtype_include= np.object_))\n",
        "    ],\n",
        "    remainder='drop',\n",
        "    n_jobs=-1)\n",
        "\n",
        "    X_trans = col_trans.fit_transform(X_train)\n",
        "    X_test_trains = col_trans.transform(X_test)\n",
        "    if y_train.dtype in ['category', 'object']:\n",
        "      df_dict={}\n",
        "      for j, e in enumerate(sorted(y_train.unique())):\n",
        "        df_dict[e] = j\n",
        "      y_trans = y_train.map(lambda s: df_dict.get(s) if s in df_dict else s)\n",
        "      y_test_trans = y_test.map(lambda s: df_dict.get(s) if s in df_dict else s)\n",
        "    else:\n",
        "      y_trans = y_train\n",
        "      y_test_trans = y_test\n",
        "\n",
        "    kf = KFold(n_splits=10)\n",
        "    accuracy = 0\n",
        "    for train_index, test_index in kf.split(X_trans):\n",
        "      y_train, y_test = np.take(y_trans, train_index), np.take(y_trans, test_index)\n",
        "      X_train, X_test = X_trans[train_index, :], X_trans[test_index, :]\n",
        "      estimator.fit(X_train, y_train)\n",
        "      y_pred = estimator.predict(X_test)\n",
        "      accuracy += metrics.accuracy_score(y_test, y_pred)\n",
        "    mean_accuracy = accuracy/10\n",
        "    mean_accuracies.append(mean_accuracy)\n",
        "  params_max_depth_bo['df1'] = mean_accuracies[0]\n",
        "  params_max_depth_bo['df2'] = mean_accuracies[1]\n",
        "  params_max_depth_bo['df3'] = mean_accuracies[2]\n",
        "  params_max_depth_bo['df4'] = mean_accuracies[3]\n",
        "\n",
        "  row = pd.DataFrame([params_max_depth_bo])\n",
        "  df_params_max_depth_bo = pd.concat([df_params_max_depth_bo, row], ignore_index=True)"
      ]
    },
    {
      "cell_type": "code",
      "execution_count": 106,
      "metadata": {},
      "outputs": [],
      "source": [
        "df_params_min_samples_leaf_bo = pd.DataFrame(columns = ['ccp_alpha', 'max_depth', 'min_samples_leaf', 'min_samples_split', 'df1', 'df2', 'df3', 'df4' ])\n",
        "for i in range(200):\n",
        "\n",
        "  mean_accuracies = []\n",
        "  df_names = {1:'df_1', 2:'df_2', 3:'df_credit', 4:'df_diabetes'}\n",
        "  for i, dataset in enumerate([df_1, df_2, df_credit, df_diabetes]):\n",
        "    params_min_samples_leaf_bo = {\n",
        "                        \"ccp_alpha\" : bayes_opt[bayes_opt['df'] == df_names[i+1]]['ccp_alpha'][i], \n",
        "                        \"max_depth\" : bayes_opt[bayes_opt['df'] == df_names[i+1]]['max_depth'][i], \n",
        "                        \"min_samples_leaf\": random.randint(1, 60),\n",
        "                        \"min_samples_split\": bayes_opt[bayes_opt['df'] == df_names[i+1]]['min_samples_split'][i]}\n",
        "    estimator = DecisionTreeClassifier(ccp_alpha = params_min_samples_leaf_bo.get('ccp_alpha'), \n",
        "                                       max_depth = params_min_samples_leaf_bo.get('max_depth'), \n",
        "                                       min_samples_leaf=params_min_samples_leaf_bo.get(\"min_samples_leaf\"), \n",
        "                                       min_samples_split = params_min_samples_leaf_bo.get(\"min_samples_split\"))\n",
        "\n",
        "    y = dataset['class']\n",
        "    X = dataset.drop('class', axis=1)\n",
        "\n",
        "    X_train, X_test, y_train, y_test = train_test_split(X, y,test_size=0.2)\n",
        "\n",
        "    num_pipeline = Pipeline(steps=[\n",
        "    ('impute', SimpleImputer(strategy='mean')),\n",
        "    ('scale',MinMaxScaler())])\n",
        "\n",
        "    cat_pipeline = Pipeline(steps=[\n",
        "        ('impute', SimpleImputer(strategy='most_frequent')),\n",
        "        ('one-hot',OneHotEncoder(handle_unknown='ignore', sparse=False))\n",
        "    ])\n",
        "\n",
        "    col_trans = ColumnTransformer(transformers=[\n",
        "    ('num_pipeline',num_pipeline, make_column_selector( dtype_include= np.number)),\n",
        "    ('cat_pipeline',cat_pipeline,make_column_selector( dtype_include= np.object_))\n",
        "    ],\n",
        "    remainder='drop',\n",
        "    n_jobs=-1)\n",
        "\n",
        "    X_trans = col_trans.fit_transform(X_train)\n",
        "    X_test_trains = col_trans.transform(X_test)\n",
        "    if y_train.dtype in ['category', 'object']:\n",
        "      df_dict={}\n",
        "      for j, e in enumerate(sorted(y_train.unique())):\n",
        "        df_dict[e] = j\n",
        "      y_trans = y_train.map(lambda s: df_dict.get(s) if s in df_dict else s)\n",
        "      y_test_trans = y_test.map(lambda s: df_dict.get(s) if s in df_dict else s)\n",
        "    else:\n",
        "      y_trans = y_train\n",
        "      y_test_trans = y_test\n",
        "\n",
        "    kf = KFold(n_splits=10)\n",
        "    accuracy = 0\n",
        "    for train_index, test_index in kf.split(X_trans):\n",
        "      y_train, y_test = np.take(y_trans, train_index), np.take(y_trans, test_index)\n",
        "      X_train, X_test = X_trans[train_index, :], X_trans[test_index, :]\n",
        "      estimator.fit(X_train, y_train)\n",
        "      y_pred = estimator.predict(X_test)\n",
        "      accuracy += metrics.accuracy_score(y_test, y_pred)\n",
        "    mean_accuracy = accuracy/10\n",
        "    mean_accuracies.append(mean_accuracy)\n",
        "  params_min_samples_leaf_bo['df1'] = mean_accuracies[0]\n",
        "  params_min_samples_leaf_bo['df2'] = mean_accuracies[1]\n",
        "  params_min_samples_leaf_bo['df3'] = mean_accuracies[2]\n",
        "  params_min_samples_leaf_bo['df4'] = mean_accuracies[3]\n",
        "\n",
        "  row = pd.DataFrame([params_min_samples_leaf_bo])\n",
        "  df_params_min_samples_leaf_bo = pd.concat([df_params_min_samples_leaf_bo, row], ignore_index=True)"
      ]
    },
    {
      "cell_type": "code",
      "execution_count": 107,
      "metadata": {},
      "outputs": [],
      "source": [
        "df_params_min_samples_split_bo = pd.DataFrame(columns = ['ccp_alpha', 'max_depth', 'min_samples_leaf', 'min_samples_split', 'df1', 'df2', 'df3', 'df4' ])\n",
        "for i in range(200):\n",
        "\n",
        "  mean_accuracies = []\n",
        "  df_names = {1:'df_1', 2:'df_2', 3:'df_credit', 4:'df_diabetes'}\n",
        "  for i, dataset in enumerate([df_1, df_2, df_credit, df_diabetes]):\n",
        "    params_min_samples_split_bo = {\n",
        "                        \"ccp_alpha\" : bayes_opt[bayes_opt['df'] == df_names[i+1]]['ccp_alpha'][i], \n",
        "                        \"max_depth\" : bayes_opt[bayes_opt['df'] == df_names[i+1]]['max_depth'][i], \n",
        "                        \"min_samples_leaf\": bayes_opt[bayes_opt['df'] == df_names[i+1]]['min_samples_leaf'][i],\n",
        "                        \"min_samples_split\": random.randint(2, 60)}\n",
        "    estimator = DecisionTreeClassifier(ccp_alpha = params_min_samples_split_bo.get('ccp_alpha'), \n",
        "                                       max_depth = params_min_samples_split_bo.get('max_depth'), \n",
        "                                       min_samples_leaf=params_min_samples_split_bo.get(\"min_samples_leaf\"), \n",
        "                                       min_samples_split = params_min_samples_split_bo.get(\"min_samples_split\"))\n",
        "\n",
        "    y = dataset['class']\n",
        "    X = dataset.drop('class', axis=1)\n",
        "\n",
        "    X_train, X_test, y_train, y_test = train_test_split(X, y,test_size=0.2)\n",
        "\n",
        "    num_pipeline = Pipeline(steps=[\n",
        "    ('impute', SimpleImputer(strategy='mean')),\n",
        "    ('scale',MinMaxScaler())])\n",
        "\n",
        "    cat_pipeline = Pipeline(steps=[\n",
        "        ('impute', SimpleImputer(strategy='most_frequent')),\n",
        "        ('one-hot',OneHotEncoder(handle_unknown='ignore', sparse=False))\n",
        "    ])\n",
        "\n",
        "    col_trans = ColumnTransformer(transformers=[\n",
        "    ('num_pipeline',num_pipeline, make_column_selector( dtype_include= np.number)),\n",
        "    ('cat_pipeline',cat_pipeline,make_column_selector( dtype_include= np.object_))\n",
        "    ],\n",
        "    remainder='drop',\n",
        "    n_jobs=-1)\n",
        "\n",
        "    X_trans = col_trans.fit_transform(X_train)\n",
        "    X_test_trains = col_trans.transform(X_test)\n",
        "    if y_train.dtype in ['category', 'object']:\n",
        "      df_dict={}\n",
        "      for j, e in enumerate(sorted(y_train.unique())):\n",
        "        df_dict[e] = j\n",
        "      y_trans = y_train.map(lambda s: df_dict.get(s) if s in df_dict else s)\n",
        "      y_test_trans = y_test.map(lambda s: df_dict.get(s) if s in df_dict else s)\n",
        "    else:\n",
        "      y_trans = y_train\n",
        "      y_test_trans = y_test\n",
        "\n",
        "    kf = KFold(n_splits=10)\n",
        "    accuracy = 0\n",
        "    for train_index, test_index in kf.split(X_trans):\n",
        "      y_train, y_test = np.take(y_trans, train_index), np.take(y_trans, test_index)\n",
        "      X_train, X_test = X_trans[train_index, :], X_trans[test_index, :]\n",
        "      estimator.fit(X_train, y_train)\n",
        "      y_pred = estimator.predict(X_test)\n",
        "      accuracy += metrics.accuracy_score(y_test, y_pred)\n",
        "    mean_accuracy = accuracy/10\n",
        "    mean_accuracies.append(mean_accuracy)\n",
        "  params_min_samples_split_bo['df1'] = mean_accuracies[0]\n",
        "  params_min_samples_split_bo['df2'] = mean_accuracies[1]\n",
        "  params_min_samples_split_bo['df3'] = mean_accuracies[2]\n",
        "  params_min_samples_split_bo['df4'] = mean_accuracies[3]\n",
        "\n",
        "  row = pd.DataFrame([params_min_samples_split_bo])\n",
        "  df_params_min_samples_split_bo = pd.concat([df_params_min_samples_split_bo, row], ignore_index=True)"
      ]
    },
    {
      "cell_type": "code",
      "execution_count": 219,
      "metadata": {},
      "outputs": [],
      "source": [
        "df_params_ccp_alpha_bo['mean_score'] = df_params_ccp_alpha_bo.apply(lambda x: (x['df1'] + x['df2'] + x['df3'] + x['df4']) / 4, axis=1)\n",
        "df_params_max_depth_bo['mean_score'] = df_params_max_depth_bo.apply(lambda x: (x['df1'] + x['df2'] + x['df3'] + x['df4']) / 4, axis=1)\n",
        "df_params_min_samples_leaf_bo['mean_score'] = df_params_min_samples_leaf_bo.apply(lambda x: (x['df1'] + x['df2'] + x['df3'] + x['df4']) / 4, axis=1)\n",
        "df_params_min_samples_split_bo['mean_score'] = df_params_min_samples_split_bo.apply(lambda x: (x['df1'] + x['df2'] + x['df3'] + x['df4']) / 4, axis=1)"
      ]
    },
    {
      "cell_type": "code",
      "execution_count": 221,
      "metadata": {},
      "outputs": [
        {
          "data": {
            "image/png": "[encoded data removed]",
            "text/plain": [
              "<Figure size 640x480 with 1 Axes>"
            ]
          },
          "metadata": {},
          "output_type": "display_data"
        }
      ],
      "source": [
        "plt.boxplot([df_params_ccp_alpha_bo['mean_score'],\n",
        "             df_params_max_depth_bo['mean_score'],\n",
        "             df_params_min_samples_leaf_bo['mean_score'], \n",
        "             df_params_min_samples_split_bo['mean_score']],\n",
        "             labels=['ccp_alpha', 'max_depth', 'min_samples_leaf', 'min_samples_split'],\n",
        "             autorange=True)\n",
        "plt.xticks(rotation = 10)\n",
        "plt.title('Tunability hiperparametrów w drzewie decyzyjnym (bayesian optimization)')\n",
        "plt.show()"
      ]
    },
    {
      "cell_type": "markdown",
      "metadata": {},
      "source": [
        "#### Calculating tunability"
      ]
    },
    {
      "cell_type": "markdown",
      "metadata": {},
      "source": [
        "##### Random search"
      ]
    },
    {
      "cell_type": "code",
      "execution_count": 109,
      "metadata": {
        "id": "OfGTGfPsfzoQ"
      },
      "outputs": [],
      "source": [
        "best_params = {\n",
        "    'ccp_alpha' : float(df_params.loc[df_params.mean_score == max(df_params.mean_score)]['ccp_alpha']),\n",
        "    'max_depth' : int(df_params.loc[df_params.mean_score == max(df_params.mean_score)]['max_depth']),\n",
        "    'min_samples_leaf' : int(df_params.loc[df_params.mean_score == max(df_params.mean_score)]['min_samples_leaf']),\n",
        "    'min_samples_split' : int(df_params.loc[df_params.mean_score == max(df_params.mean_score)]['min_samples_split']),\n",
        "    'mean_score' : float(df_params.loc[df_params.mean_score == max(df_params.mean_score)]['mean_score']),\n",
        "}"
      ]
    },
    {
      "cell_type": "code",
      "execution_count": 111,
      "metadata": {
        "id": "CRgJswCWgZlQ"
      },
      "outputs": [],
      "source": [
        "df_params_ccp_alpha = pd.read_csv('ccp_alpha.csv').drop(columns=['Unnamed: 0'])\n",
        "df_params_max_depth = pd.read_csv('max_depth.csv').drop(columns=['Unnamed: 0'])\n",
        "df_params_min_samples_leaf = pd.read_csv('min_samples_leaf.csv').drop(columns=['Unnamed: 0'])\n",
        "df_params_min_samples_split = pd.read_csv('min_samples_split.csv').drop(columns=['Unnamed: 0'])"
      ]
    },
    {
      "cell_type": "code",
      "execution_count": 112,
      "metadata": {
        "id": "FZiGPELygc7-"
      },
      "outputs": [],
      "source": [
        "best_scores_default = {\n",
        "    'df1' : float(max(df_params.loc[df_params.mean_score == max(df_params.mean_score)]['df1'])),\n",
        "    'df2' : float(df_params.loc[df_params.mean_score == max(df_params.mean_score)]['df2']),\n",
        "    'df3' : float(df_params.loc[df_params.mean_score == max(df_params.mean_score)]['df3']),\n",
        "    'df4' : float(df_params.loc[df_params.mean_score == max(df_params.mean_score)]['df4']),\n",
        "}"
      ]
    },
    {
      "cell_type": "code",
      "execution_count": 113,
      "metadata": {
        "id": "6iSegvLQhexJ"
      },
      "outputs": [],
      "source": [
        "best_scores_ccp_alpha = {\n",
        "    'df1' : float(max(df_params_ccp_alpha.loc[df_params_ccp_alpha.df1 == max(df_params_ccp_alpha.df1)]['df1'])),\n",
        "    'df2' : float(df_params_ccp_alpha.loc[df_params_ccp_alpha.df2 == max(df_params_ccp_alpha.df2)]['df2']),\n",
        "    'df3' : float(df_params_ccp_alpha.loc[df_params_ccp_alpha.df3 == max(df_params_ccp_alpha.df3)]['df3']),\n",
        "    'df4' : float(df_params_ccp_alpha.loc[df_params_ccp_alpha.df4 == max(df_params_ccp_alpha.df4)]['df4']),\n",
        "}\n",
        "\n",
        "best_scores_max_depth = {\n",
        "    'df1' : float(max(df_params_max_depth.loc[df_params_max_depth.df1 == max(df_params_max_depth.df1)]['df1'])),\n",
        "    'df2' : float(df_params_max_depth.loc[df_params_max_depth.df2 == max(df_params_max_depth.df2)]['df2']),\n",
        "    'df3' : float(df_params_max_depth.loc[df_params_max_depth.df3 == max(df_params_max_depth.df3)]['df3']),\n",
        "    'df4' : float(df_params_max_depth.loc[df_params_max_depth.df4 == max(df_params_max_depth.df4)]['df4']),\n",
        "}\n",
        "\n",
        "best_scores_min_samples_leaf = {\n",
        "    'df1' : float(max(df_params_min_samples_leaf.loc[df_params_min_samples_leaf.df1 == max(df_params_min_samples_leaf.df1)]['df1'])),\n",
        "    'df2' : float(df_params_min_samples_leaf.loc[df_params_min_samples_leaf.df2 == max(df_params_min_samples_leaf.df2)]['df2']),\n",
        "    'df3' : float(df_params_min_samples_leaf.loc[df_params_min_samples_leaf.df3 == max(df_params_min_samples_leaf.df3)]['df3']),\n",
        "    'df4' : float(df_params_min_samples_leaf.loc[df_params_min_samples_leaf.df4 == max(df_params_min_samples_leaf.df4)]['df4']),\n",
        "}\n",
        "\n",
        "best_scores_min_samples_split = {\n",
        "    'df1' : float(max(df_params_min_samples_split.loc[df_params_min_samples_split.df1 == max(df_params_min_samples_split.df1)]['df1'])),\n",
        "    'df2' : float(df_params_min_samples_split.loc[df_params_min_samples_split.df2 == max(df_params_min_samples_split.df2)]['df2']),\n",
        "    'df3' : float(df_params_min_samples_split.loc[df_params_min_samples_split.df3 == max(df_params_min_samples_split.df3)]['df3']),\n",
        "    'df4' : float(df_params_min_samples_split.loc[df_params_min_samples_split.df4 == max(df_params_min_samples_split.df4)]['df4']),\n",
        "}"
      ]
    },
    {
      "cell_type": "code",
      "execution_count": 139,
      "metadata": {},
      "outputs": [
        {
          "data": {
            "text/plain": [
              "0.01781676153872011"
            ]
          },
          "execution_count": 139,
          "metadata": {},
          "output_type": "execute_result"
        }
      ],
      "source": [
        "calc_tunability(best_scores_ccp_alpha, best_scores_default)"
      ]
    },
    {
      "cell_type": "code",
      "execution_count": 140,
      "metadata": {},
      "outputs": [
        {
          "data": {
            "text/plain": [
              "0.03225794681465932"
            ]
          },
          "execution_count": 140,
          "metadata": {},
          "output_type": "execute_result"
        }
      ],
      "source": [
        "calc_tunability(best_scores_max_depth, best_scores_default)"
      ]
    },
    {
      "cell_type": "code",
      "execution_count": 141,
      "metadata": {},
      "outputs": [
        {
          "data": {
            "text/plain": [
              "0.0452065204445419"
            ]
          },
          "execution_count": 141,
          "metadata": {},
          "output_type": "execute_result"
        }
      ],
      "source": [
        "calc_tunability(best_scores_min_samples_leaf, best_scores_default)"
      ]
    },
    {
      "cell_type": "code",
      "execution_count": 142,
      "metadata": {},
      "outputs": [
        {
          "data": {
            "text/plain": [
              "0.0281622648274934"
            ]
          },
          "execution_count": 142,
          "metadata": {},
          "output_type": "execute_result"
        }
      ],
      "source": [
        "calc_tunability(best_scores_min_samples_split, best_scores_default)"
      ]
    },
    {
      "cell_type": "markdown",
      "metadata": {},
      "source": [
        "##### Bayesian optimisation"
      ]
    },
    {
      "cell_type": "code",
      "execution_count": 115,
      "metadata": {},
      "outputs": [
        {
          "data": {
            "text/html": [
              "<div>\n",
              "<style scoped>\n",
              "    .dataframe tbody tr th:only-of-type {\n",
              "        vertical-align: middle;\n",
              "    }\n",
              "\n",
              "    .dataframe tbody tr th {\n",
              "        vertical-align: top;\n",
              "    }\n",
              "\n",
              "    .dataframe thead th {\n",
              "        text-align: right;\n",
              "    }\n",
              "</style>\n",
              "<table border=\"1\" class=\"dataframe\">\n",
              "  <thead>\n",
              "    <tr style=\"text-align: right;\">\n",
              "      <th></th>\n",
              "      <th>ccp_alpha</th>\n",
              "      <th>max_depth</th>\n",
              "      <th>min_samples_leaf</th>\n",
              "      <th>min_samples_split</th>\n",
              "      <th>df</th>\n",
              "      <th>best_score</th>\n",
              "    </tr>\n",
              "  </thead>\n",
              "  <tbody>\n",
              "    <tr>\n",
              "      <th>0</th>\n",
              "      <td>0.000291</td>\n",
              "      <td>29</td>\n",
              "      <td>8</td>\n",
              "      <td>2</td>\n",
              "      <td>df_1</td>\n",
              "      <td>1.0</td>\n",
              "    </tr>\n",
              "    <tr>\n",
              "      <th>1</th>\n",
              "      <td>0.0</td>\n",
              "      <td>30</td>\n",
              "      <td>1</td>\n",
              "      <td>2</td>\n",
              "      <td>df_2</td>\n",
              "      <td>0.942577</td>\n",
              "    </tr>\n",
              "    <tr>\n",
              "      <th>2</th>\n",
              "      <td>0.010235</td>\n",
              "      <td>2</td>\n",
              "      <td>2</td>\n",
              "      <td>6</td>\n",
              "      <td>df_credit</td>\n",
              "      <td>0.73</td>\n",
              "    </tr>\n",
              "    <tr>\n",
              "      <th>3</th>\n",
              "      <td>0.0</td>\n",
              "      <td>25</td>\n",
              "      <td>32</td>\n",
              "      <td>60</td>\n",
              "      <td>df_diabetes</td>\n",
              "      <td>0.770292</td>\n",
              "    </tr>\n",
              "  </tbody>\n",
              "</table>\n",
              "</div>"
            ],
            "text/plain": [
              "  ccp_alpha max_depth min_samples_leaf min_samples_split           df  \\\n",
              "0  0.000291        29                8                 2         df_1   \n",
              "1       0.0        30                1                 2         df_2   \n",
              "2  0.010235         2                2                 6    df_credit   \n",
              "3       0.0        25               32                60  df_diabetes   \n",
              "\n",
              "  best_score  \n",
              "0        1.0  \n",
              "1   0.942577  \n",
              "2       0.73  \n",
              "3   0.770292  "
            ]
          },
          "execution_count": 115,
          "metadata": {},
          "output_type": "execute_result"
        }
      ],
      "source": [
        "bayes_opt"
      ]
    },
    {
      "cell_type": "code",
      "execution_count": 144,
      "metadata": {},
      "outputs": [],
      "source": [
        "best_scores_bo = {\n",
        "    'df1' : float(bayes_opt.loc[bayes_opt.df == 'df_1']['best_score']),\n",
        "    'df2' : float(bayes_opt.loc[bayes_opt.df == 'df_2']['best_score']),\n",
        "    'df3' : float(bayes_opt.loc[bayes_opt.df == 'df_credit']['best_score']),\n",
        "    'df4' : float(bayes_opt.loc[bayes_opt.df == 'df_diabetes']['best_score']),\n",
        "}"
      ]
    },
    {
      "cell_type": "code",
      "execution_count": 145,
      "metadata": {},
      "outputs": [],
      "source": [
        "best_scores_ccp_alpha_bo = {\n",
        "    'df1' : float(max(df_params_ccp_alpha_bo.loc[df_params_ccp_alpha_bo.df1 == max(df_params_ccp_alpha_bo.df1)]['df1'])),\n",
        "    'df2' : float(df_params_ccp_alpha_bo.loc[df_params_ccp_alpha_bo.df2 == max(df_params_ccp_alpha_bo.df2)]['df2']),\n",
        "    'df3' : float(max(df_params_ccp_alpha_bo.loc[df_params_ccp_alpha_bo.df3 == max(df_params_ccp_alpha_bo.df3)]['df3'])),\n",
        "    'df4' : float(df_params_ccp_alpha_bo.loc[df_params_ccp_alpha_bo.df4 == max(df_params_ccp_alpha_bo.df4)]['df4']),\n",
        "}\n",
        "\n",
        "best_scores_max_depth_bo = {\n",
        "    'df1' : float(max(df_params_max_depth_bo.loc[df_params_max_depth_bo.df1 == max(df_params_max_depth_bo.df1)]['df1'])),\n",
        "    'df2' : float(df_params_max_depth_bo.loc[df_params_max_depth_bo.df2 == max(df_params_max_depth_bo.df2)]['df2']),\n",
        "    'df3' : float(df_params_max_depth_bo.loc[df_params_max_depth_bo.df3 == max(df_params_max_depth_bo.df3)]['df3']),\n",
        "    'df4' : float(max(df_params_max_depth_bo.loc[df_params_max_depth_bo.df4 == max(df_params_max_depth_bo.df4)]['df4'])),\n",
        "}\n",
        "\n",
        "best_scores_min_samples_leaf_bo = {\n",
        "    'df1' : float(max(df_params_min_samples_leaf_bo.loc[df_params_min_samples_leaf_bo.df1 == max(df_params_min_samples_leaf_bo.df1)]['df1'])),\n",
        "    'df2' : float(df_params_min_samples_leaf_bo.loc[df_params_min_samples_leaf_bo.df2 == max(df_params_min_samples_leaf_bo.df2)]['df2']),\n",
        "    'df3' : float(df_params_min_samples_leaf_bo.loc[df_params_min_samples_leaf_bo.df3 == max(df_params_min_samples_leaf_bo.df3)]['df3']),\n",
        "    'df4' : float(max(df_params_min_samples_leaf_bo.loc[df_params_min_samples_leaf_bo.df4 == max(df_params_min_samples_leaf_bo.df4)]['df4'])),\n",
        "}\n",
        "\n",
        "best_scores_min_samples_split_bo = {\n",
        "    'df1' : float(max(df_params_min_samples_split_bo.loc[df_params_min_samples_split_bo.df1 == max(df_params_min_samples_split_bo.df1)]['df1'])),\n",
        "    'df2' : float(df_params_min_samples_split_bo.loc[df_params_min_samples_split_bo.df2 == max(df_params_min_samples_split_bo.df2)]['df2']),\n",
        "    'df3' : float(df_params_min_samples_split_bo.loc[df_params_min_samples_split_bo.df3 == max(df_params_min_samples_split_bo.df3)]['df3']),\n",
        "    'df4' : float(df_params_min_samples_split_bo.loc[df_params_min_samples_split_bo.df4 == max(df_params_min_samples_split_bo.df4)]['df4']),\n",
        "}"
      ]
    },
    {
      "cell_type": "code",
      "execution_count": 146,
      "metadata": {
        "colab": {
          "base_uri": "https://localhost:8080/"
        },
        "id": "UhdVk5RRi4Kx",
        "outputId": "19653394-7e14-415d-9df4-d4111e0d0341"
      },
      "outputs": [
        {
          "data": {
            "text/plain": [
              "-0.013723899906350284"
            ]
          },
          "execution_count": 146,
          "metadata": {},
          "output_type": "execute_result"
        }
      ],
      "source": [
        "calc_tunability(best_scores_ccp_alpha_bo, best_scores_bo)"
      ]
    },
    {
      "cell_type": "code",
      "execution_count": 148,
      "metadata": {},
      "outputs": [
        {
          "data": {
            "text/plain": [
              "0.01054362509696613"
            ]
          },
          "execution_count": 148,
          "metadata": {},
          "output_type": "execute_result"
        }
      ],
      "source": [
        "calc_tunability(best_scores_max_depth_bo, best_scores_bo)"
      ]
    },
    {
      "cell_type": "code",
      "execution_count": 149,
      "metadata": {},
      "outputs": [
        {
          "data": {
            "text/plain": [
              "0.00634915057325719"
            ]
          },
          "execution_count": 149,
          "metadata": {},
          "output_type": "execute_result"
        }
      ],
      "source": [
        "calc_tunability(best_scores_min_samples_leaf_bo, best_scores_bo)"
      ]
    },
    {
      "cell_type": "code",
      "execution_count": 150,
      "metadata": {},
      "outputs": [
        {
          "data": {
            "text/plain": [
              "0.00679373534325628"
            ]
          },
          "execution_count": 150,
          "metadata": {},
          "output_type": "execute_result"
        }
      ],
      "source": [
        "calc_tunability(best_scores_min_samples_split_bo, best_scores_bo)"
      ]
    },
    {
      "cell_type": "markdown",
      "metadata": {
        "id": "5UUHmzp9j_JC"
      },
      "source": [
        "## K-nearest Neighbors"
      ]
    },
    {
      "cell_type": "markdown",
      "metadata": {},
      "source": [
        "### Random search"
      ]
    },
    {
      "cell_type": "code",
      "execution_count": 90,
      "metadata": {
        "id": "67vczpkumFSa"
      },
      "outputs": [],
      "source": [
        "df_params_knn = pd.DataFrame(columns = ['n_neighbors', 'df1', 'df2', 'df3', 'df4' ])\n",
        "for j in range(30):\n",
        "  params = {'n_neighbors': j + 1}\n",
        "  estimator = KNeighborsClassifier(n_neighbors = params.get('n_neighbors'))\n",
        "  mean_accuracies = []\n",
        "  for i, dataset in enumerate([df_1, df_2, df_credit, df_diabetes]):\n",
        "    y = dataset['class']\n",
        "    X = dataset.drop('class', axis=1)\n",
        "\n",
        "    X_train, X_test, y_train, y_test = train_test_split(X, y, test_size = 0.2)\n",
        "\n",
        "    num_pipeline = Pipeline(steps=[\n",
        "    ('impute', SimpleImputer(strategy='mean')),\n",
        "    ('scale',MinMaxScaler())])\n",
        "\n",
        "    cat_pipeline = Pipeline(steps=[\n",
        "        ('impute', SimpleImputer(strategy='most_frequent')),\n",
        "        ('one-hot',OneHotEncoder(handle_unknown='ignore', sparse=False))\n",
        "    ])\n",
        "\n",
        "    col_trans = ColumnTransformer(transformers=[\n",
        "    ('num_pipeline',num_pipeline, make_column_selector( dtype_include= np.number)),\n",
        "    ('cat_pipeline',cat_pipeline,make_column_selector( dtype_include= np.object_))\n",
        "    ],\n",
        "    remainder='drop',\n",
        "    n_jobs=-1)\n",
        "\n",
        "    X_trans = col_trans.fit_transform(X_train)\n",
        "    X_test_trains = col_trans.transform(X_test)\n",
        "    if y_train.dtype in ['category', 'object']:\n",
        "      df_dict={}\n",
        "      for j, e in enumerate(sorted(y_train.unique())):\n",
        "        df_dict[e] = j\n",
        "      y_trans = y_train.map(lambda s: df_dict.get(s) if s in df_dict else s)\n",
        "      y_test_trans = y_test.map(lambda s: df_dict.get(s) if s in df_dict else s)\n",
        "    else:\n",
        "      y_trans = y_train\n",
        "      y_test_trans = y_test\n",
        "\n",
        "    kf = KFold(n_splits=10)\n",
        "    accuracy = 0\n",
        "    for train_index, test_index in kf.split(X_trans):\n",
        "      y_train, y_test = np.take(y_trans, train_index), np.take(y_trans, test_index)\n",
        "      X_train, X_test = X_trans[train_index, :], X_trans[test_index, :]\n",
        "      estimator.fit(X_train, y_train)\n",
        "      y_pred = estimator.predict(X_test)\n",
        "      accuracy += metrics.accuracy_score(y_test, y_pred)\n",
        "    mean_accuracy = accuracy/10\n",
        "    mean_accuracies.append(mean_accuracy)\n",
        "  params['df1'] = mean_accuracies[0]\n",
        "  params['df2'] = mean_accuracies[1]\n",
        "  params['df3'] = mean_accuracies[2]\n",
        "  params['df4'] = mean_accuracies[3]\n",
        "\n",
        "  row = pd.DataFrame([params])\n",
        "  df_params_knn = pd.concat([df_params_knn, row], ignore_index=True)\n",
        "df_params_knn['mean_score'] = (df_params_knn['df1'] + df_params_knn['df2'] + df_params_knn['df3'] + df_params_knn['df4']) / 4"
      ]
    },
    {
      "cell_type": "code",
      "execution_count": 91,
      "metadata": {},
      "outputs": [],
      "source": [
        "# df_params_knn.to_csv('df_params_knn.csv', index=False)"
      ]
    },
    {
      "cell_type": "code",
      "execution_count": 93,
      "metadata": {},
      "outputs": [],
      "source": [
        "df_params_knn = pd.read_csv('df_params_knn.csv')"
      ]
    },
    {
      "cell_type": "code",
      "execution_count": 236,
      "metadata": {},
      "outputs": [
        {
          "data": {
            "image/png": "[encoded data removed]",
            "text/plain": [
              "<Figure size 640x480 with 1 Axes>"
            ]
          },
          "metadata": {},
          "output_type": "display_data"
        }
      ],
      "source": [
        "plt.boxplot([df_params_knn['df1'],\n",
        "             df_params_knn['df2'],\n",
        "             df_params_knn['df3'], \n",
        "             df_params_knn['df4']],\n",
        "             labels=['df1', 'df2', 'df_credit', 'df_diabetes'],\n",
        "             autorange=True)\n",
        "plt.xticks(rotation = 10)\n",
        "plt.title('Tunability parametru k w KNN w zależności od zbioru danych (random search)')\n",
        "plt.show()"
      ]
    },
    {
      "cell_type": "code",
      "execution_count": 235,
      "metadata": {},
      "outputs": [
        {
          "data": {
            "text/html": [
              "<div>\n",
              "<style scoped>\n",
              "    .dataframe tbody tr th:only-of-type {\n",
              "        vertical-align: middle;\n",
              "    }\n",
              "\n",
              "    .dataframe tbody tr th {\n",
              "        vertical-align: top;\n",
              "    }\n",
              "\n",
              "    .dataframe thead th {\n",
              "        text-align: right;\n",
              "    }\n",
              "</style>\n",
              "<table border=\"1\" class=\"dataframe\">\n",
              "  <thead>\n",
              "    <tr style=\"text-align: right;\">\n",
              "      <th></th>\n",
              "      <th>n_neighbors</th>\n",
              "      <th>df1</th>\n",
              "      <th>df2</th>\n",
              "      <th>df3</th>\n",
              "      <th>df4</th>\n",
              "      <th>mean_score</th>\n",
              "    </tr>\n",
              "  </thead>\n",
              "  <tbody>\n",
              "    <tr>\n",
              "      <th>0</th>\n",
              "      <td>1</td>\n",
              "      <td>0.994843</td>\n",
              "      <td>0.814713</td>\n",
              "      <td>0.71500</td>\n",
              "      <td>0.688710</td>\n",
              "      <td>0.803316</td>\n",
              "    </tr>\n",
              "    <tr>\n",
              "      <th>1</th>\n",
              "      <td>2</td>\n",
              "      <td>0.997423</td>\n",
              "      <td>0.796377</td>\n",
              "      <td>0.62875</td>\n",
              "      <td>0.726309</td>\n",
              "      <td>0.787215</td>\n",
              "    </tr>\n",
              "    <tr>\n",
              "      <th>2</th>\n",
              "      <td>3</td>\n",
              "      <td>0.996133</td>\n",
              "      <td>0.889064</td>\n",
              "      <td>0.70125</td>\n",
              "      <td>0.713406</td>\n",
              "      <td>0.824963</td>\n",
              "    </tr>\n",
              "    <tr>\n",
              "      <th>3</th>\n",
              "      <td>4</td>\n",
              "      <td>0.994206</td>\n",
              "      <td>0.916473</td>\n",
              "      <td>0.67375</td>\n",
              "      <td>0.745981</td>\n",
              "      <td>0.832602</td>\n",
              "    </tr>\n",
              "    <tr>\n",
              "      <th>4</th>\n",
              "      <td>5</td>\n",
              "      <td>0.994847</td>\n",
              "      <td>0.925615</td>\n",
              "      <td>0.71875</td>\n",
              "      <td>0.733157</td>\n",
              "      <td>0.843092</td>\n",
              "    </tr>\n",
              "    <tr>\n",
              "      <th>5</th>\n",
              "      <td>6</td>\n",
              "      <td>0.992920</td>\n",
              "      <td>0.937406</td>\n",
              "      <td>0.70250</td>\n",
              "      <td>0.744209</td>\n",
              "      <td>0.844259</td>\n",
              "    </tr>\n",
              "    <tr>\n",
              "      <th>6</th>\n",
              "      <td>7</td>\n",
              "      <td>0.992903</td>\n",
              "      <td>0.953008</td>\n",
              "      <td>0.72250</td>\n",
              "      <td>0.729640</td>\n",
              "      <td>0.849513</td>\n",
              "    </tr>\n",
              "    <tr>\n",
              "      <th>7</th>\n",
              "      <td>8</td>\n",
              "      <td>0.994847</td>\n",
              "      <td>0.971292</td>\n",
              "      <td>0.72000</td>\n",
              "      <td>0.710074</td>\n",
              "      <td>0.849053</td>\n",
              "    </tr>\n",
              "    <tr>\n",
              "      <th>8</th>\n",
              "      <td>9</td>\n",
              "      <td>0.990972</td>\n",
              "      <td>0.964679</td>\n",
              "      <td>0.71625</td>\n",
              "      <td>0.732946</td>\n",
              "      <td>0.851212</td>\n",
              "    </tr>\n",
              "    <tr>\n",
              "      <th>9</th>\n",
              "      <td>10</td>\n",
              "      <td>0.987122</td>\n",
              "      <td>0.975154</td>\n",
              "      <td>0.71625</td>\n",
              "      <td>0.729561</td>\n",
              "      <td>0.852022</td>\n",
              "    </tr>\n",
              "    <tr>\n",
              "      <th>10</th>\n",
              "      <td>11</td>\n",
              "      <td>0.987783</td>\n",
              "      <td>0.967259</td>\n",
              "      <td>0.70125</td>\n",
              "      <td>0.731068</td>\n",
              "      <td>0.846840</td>\n",
              "    </tr>\n",
              "    <tr>\n",
              "      <th>11</th>\n",
              "      <td>12</td>\n",
              "      <td>0.989686</td>\n",
              "      <td>0.972573</td>\n",
              "      <td>0.74625</td>\n",
              "      <td>0.736171</td>\n",
              "      <td>0.861170</td>\n",
              "    </tr>\n",
              "    <tr>\n",
              "      <th>12</th>\n",
              "      <td>13</td>\n",
              "      <td>0.980674</td>\n",
              "      <td>0.972642</td>\n",
              "      <td>0.73375</td>\n",
              "      <td>0.750687</td>\n",
              "      <td>0.859438</td>\n",
              "    </tr>\n",
              "    <tr>\n",
              "      <th>13</th>\n",
              "      <td>14</td>\n",
              "      <td>0.986476</td>\n",
              "      <td>0.976470</td>\n",
              "      <td>0.72875</td>\n",
              "      <td>0.749127</td>\n",
              "      <td>0.860206</td>\n",
              "    </tr>\n",
              "    <tr>\n",
              "      <th>14</th>\n",
              "      <td>15</td>\n",
              "      <td>0.978114</td>\n",
              "      <td>0.968677</td>\n",
              "      <td>0.71875</td>\n",
              "      <td>0.734479</td>\n",
              "      <td>0.850005</td>\n",
              "    </tr>\n",
              "    <tr>\n",
              "      <th>15</th>\n",
              "      <td>16</td>\n",
              "      <td>0.977440</td>\n",
              "      <td>0.983014</td>\n",
              "      <td>0.74250</td>\n",
              "      <td>0.742755</td>\n",
              "      <td>0.861427</td>\n",
              "    </tr>\n",
              "    <tr>\n",
              "      <th>16</th>\n",
              "      <td>17</td>\n",
              "      <td>0.975546</td>\n",
              "      <td>0.937355</td>\n",
              "      <td>0.73500</td>\n",
              "      <td>0.750793</td>\n",
              "      <td>0.849673</td>\n",
              "    </tr>\n",
              "    <tr>\n",
              "      <th>17</th>\n",
              "      <td>18</td>\n",
              "      <td>0.978734</td>\n",
              "      <td>0.958219</td>\n",
              "      <td>0.73375</td>\n",
              "      <td>0.737864</td>\n",
              "      <td>0.852142</td>\n",
              "    </tr>\n",
              "    <tr>\n",
              "      <th>18</th>\n",
              "      <td>19</td>\n",
              "      <td>0.979400</td>\n",
              "      <td>0.915226</td>\n",
              "      <td>0.73500</td>\n",
              "      <td>0.734558</td>\n",
              "      <td>0.841046</td>\n",
              "    </tr>\n",
              "    <tr>\n",
              "      <th>19</th>\n",
              "      <td>20</td>\n",
              "      <td>0.979367</td>\n",
              "      <td>0.929340</td>\n",
              "      <td>0.74500</td>\n",
              "      <td>0.731200</td>\n",
              "      <td>0.846227</td>\n",
              "    </tr>\n",
              "    <tr>\n",
              "      <th>20</th>\n",
              "      <td>21</td>\n",
              "      <td>0.975509</td>\n",
              "      <td>0.875974</td>\n",
              "      <td>0.73250</td>\n",
              "      <td>0.719778</td>\n",
              "      <td>0.825940</td>\n",
              "    </tr>\n",
              "    <tr>\n",
              "      <th>21</th>\n",
              "      <td>22</td>\n",
              "      <td>0.972953</td>\n",
              "      <td>0.911261</td>\n",
              "      <td>0.71000</td>\n",
              "      <td>0.742808</td>\n",
              "      <td>0.834255</td>\n",
              "    </tr>\n",
              "    <tr>\n",
              "      <th>22</th>\n",
              "      <td>23</td>\n",
              "      <td>0.976791</td>\n",
              "      <td>0.878674</td>\n",
              "      <td>0.71000</td>\n",
              "      <td>0.760656</td>\n",
              "      <td>0.831530</td>\n",
              "    </tr>\n",
              "    <tr>\n",
              "      <th>23</th>\n",
              "      <td>24</td>\n",
              "      <td>0.974227</td>\n",
              "      <td>0.881152</td>\n",
              "      <td>0.73875</td>\n",
              "      <td>0.731015</td>\n",
              "      <td>0.831286</td>\n",
              "    </tr>\n",
              "    <tr>\n",
              "      <th>24</th>\n",
              "      <td>25</td>\n",
              "      <td>0.975529</td>\n",
              "      <td>0.852495</td>\n",
              "      <td>0.72625</td>\n",
              "      <td>0.726309</td>\n",
              "      <td>0.820146</td>\n",
              "    </tr>\n",
              "    <tr>\n",
              "      <th>25</th>\n",
              "      <td>26</td>\n",
              "      <td>0.978093</td>\n",
              "      <td>0.874727</td>\n",
              "      <td>0.72000</td>\n",
              "      <td>0.739424</td>\n",
              "      <td>0.828061</td>\n",
              "    </tr>\n",
              "    <tr>\n",
              "      <th>26</th>\n",
              "      <td>27</td>\n",
              "      <td>0.971013</td>\n",
              "      <td>0.821121</td>\n",
              "      <td>0.72250</td>\n",
              "      <td>0.731306</td>\n",
              "      <td>0.811485</td>\n",
              "    </tr>\n",
              "    <tr>\n",
              "      <th>27</th>\n",
              "      <td>28</td>\n",
              "      <td>0.977457</td>\n",
              "      <td>0.844634</td>\n",
              "      <td>0.73875</td>\n",
              "      <td>0.718324</td>\n",
              "      <td>0.819791</td>\n",
              "    </tr>\n",
              "    <tr>\n",
              "      <th>28</th>\n",
              "      <td>29</td>\n",
              "      <td>0.971009</td>\n",
              "      <td>0.813260</td>\n",
              "      <td>0.72375</td>\n",
              "      <td>0.726626</td>\n",
              "      <td>0.808661</td>\n",
              "    </tr>\n",
              "    <tr>\n",
              "      <th>29</th>\n",
              "      <td>30</td>\n",
              "      <td>0.971001</td>\n",
              "      <td>0.818489</td>\n",
              "      <td>0.74250</td>\n",
              "      <td>0.742649</td>\n",
              "      <td>0.818660</td>\n",
              "    </tr>\n",
              "  </tbody>\n",
              "</table>\n",
              "</div>"
            ],
            "text/plain": [
              "    n_neighbors       df1       df2      df3       df4  mean_score\n",
              "0             1  0.994843  0.814713  0.71500  0.688710    0.803316\n",
              "1             2  0.997423  0.796377  0.62875  0.726309    0.787215\n",
              "2             3  0.996133  0.889064  0.70125  0.713406    0.824963\n",
              "3             4  0.994206  0.916473  0.67375  0.745981    0.832602\n",
              "4             5  0.994847  0.925615  0.71875  0.733157    0.843092\n",
              "5             6  0.992920  0.937406  0.70250  0.744209    0.844259\n",
              "6             7  0.992903  0.953008  0.72250  0.729640    0.849513\n",
              "7             8  0.994847  0.971292  0.72000  0.710074    0.849053\n",
              "8             9  0.990972  0.964679  0.71625  0.732946    0.851212\n",
              "9            10  0.987122  0.975154  0.71625  0.729561    0.852022\n",
              "10           11  0.987783  0.967259  0.70125  0.731068    0.846840\n",
              "11           12  0.989686  0.972573  0.74625  0.736171    0.861170\n",
              "12           13  0.980674  0.972642  0.73375  0.750687    0.859438\n",
              "13           14  0.986476  0.976470  0.72875  0.749127    0.860206\n",
              "14           15  0.978114  0.968677  0.71875  0.734479    0.850005\n",
              "15           16  0.977440  0.983014  0.74250  0.742755    0.861427\n",
              "16           17  0.975546  0.937355  0.73500  0.750793    0.849673\n",
              "17           18  0.978734  0.958219  0.73375  0.737864    0.852142\n",
              "18           19  0.979400  0.915226  0.73500  0.734558    0.841046\n",
              "19           20  0.979367  0.929340  0.74500  0.731200    0.846227\n",
              "20           21  0.975509  0.875974  0.73250  0.719778    0.825940\n",
              "21           22  0.972953  0.911261  0.71000  0.742808    0.834255\n",
              "22           23  0.976791  0.878674  0.71000  0.760656    0.831530\n",
              "23           24  0.974227  0.881152  0.73875  0.731015    0.831286\n",
              "24           25  0.975529  0.852495  0.72625  0.726309    0.820146\n",
              "25           26  0.978093  0.874727  0.72000  0.739424    0.828061\n",
              "26           27  0.971013  0.821121  0.72250  0.731306    0.811485\n",
              "27           28  0.977457  0.844634  0.73875  0.718324    0.819791\n",
              "28           29  0.971009  0.813260  0.72375  0.726626    0.808661\n",
              "29           30  0.971001  0.818489  0.74250  0.742649    0.818660"
            ]
          },
          "execution_count": 235,
          "metadata": {},
          "output_type": "execute_result"
        }
      ],
      "source": [
        "df_params_knn"
      ]
    },
    {
      "cell_type": "markdown",
      "metadata": {},
      "source": [
        "### Bayesian optimization"
      ]
    },
    {
      "cell_type": "code",
      "execution_count": 224,
      "metadata": {},
      "outputs": [
        {
          "name": "stderr",
          "output_type": "stream",
          "text": [
            "c:\\Users\\kaspr\\AppData\\Local\\Programs\\Python\\Python311\\Lib\\site-packages\\skopt\\optimizer\\optimizer.py:449: UserWarning: The objective has been evaluated at this point before.\n",
            "  warnings.warn(\"The objective has been evaluated \"\n",
            "c:\\Users\\kaspr\\AppData\\Local\\Programs\\Python\\Python311\\Lib\\site-packages\\skopt\\optimizer\\optimizer.py:449: UserWarning: The objective has been evaluated at this point before.\n",
            "  warnings.warn(\"The objective has been evaluated \"\n",
            "c:\\Users\\kaspr\\AppData\\Local\\Programs\\Python\\Python311\\Lib\\site-packages\\skopt\\optimizer\\optimizer.py:449: UserWarning: The objective has been evaluated at this point before.\n",
            "  warnings.warn(\"The objective has been evaluated \"\n",
            "c:\\Users\\kaspr\\AppData\\Local\\Programs\\Python\\Python311\\Lib\\site-packages\\skopt\\optimizer\\optimizer.py:449: UserWarning: The objective has been evaluated at this point before.\n",
            "  warnings.warn(\"The objective has been evaluated \"\n",
            "c:\\Users\\kaspr\\AppData\\Local\\Programs\\Python\\Python311\\Lib\\site-packages\\skopt\\optimizer\\optimizer.py:449: UserWarning: The objective has been evaluated at this point before.\n",
            "  warnings.warn(\"The objective has been evaluated \"\n",
            "c:\\Users\\kaspr\\AppData\\Local\\Programs\\Python\\Python311\\Lib\\site-packages\\skopt\\optimizer\\optimizer.py:449: UserWarning: The objective has been evaluated at this point before.\n",
            "  warnings.warn(\"The objective has been evaluated \"\n",
            "c:\\Users\\kaspr\\AppData\\Local\\Programs\\Python\\Python311\\Lib\\site-packages\\skopt\\optimizer\\optimizer.py:449: UserWarning: The objective has been evaluated at this point before.\n",
            "  warnings.warn(\"The objective has been evaluated \"\n",
            "c:\\Users\\kaspr\\AppData\\Local\\Programs\\Python\\Python311\\Lib\\site-packages\\skopt\\optimizer\\optimizer.py:449: UserWarning: The objective has been evaluated at this point before.\n",
            "  warnings.warn(\"The objective has been evaluated \"\n",
            "c:\\Users\\kaspr\\AppData\\Local\\Programs\\Python\\Python311\\Lib\\site-packages\\skopt\\optimizer\\optimizer.py:449: UserWarning: The objective has been evaluated at this point before.\n",
            "  warnings.warn(\"The objective has been evaluated \"\n",
            "c:\\Users\\kaspr\\AppData\\Local\\Programs\\Python\\Python311\\Lib\\site-packages\\skopt\\optimizer\\optimizer.py:449: UserWarning: The objective has been evaluated at this point before.\n",
            "  warnings.warn(\"The objective has been evaluated \"\n",
            "c:\\Users\\kaspr\\AppData\\Local\\Programs\\Python\\Python311\\Lib\\site-packages\\skopt\\optimizer\\optimizer.py:449: UserWarning: The objective has been evaluated at this point before.\n",
            "  warnings.warn(\"The objective has been evaluated \"\n",
            "c:\\Users\\kaspr\\AppData\\Local\\Programs\\Python\\Python311\\Lib\\site-packages\\skopt\\optimizer\\optimizer.py:449: UserWarning: The objective has been evaluated at this point before.\n",
            "  warnings.warn(\"The objective has been evaluated \"\n",
            "c:\\Users\\kaspr\\AppData\\Local\\Programs\\Python\\Python311\\Lib\\site-packages\\skopt\\optimizer\\optimizer.py:449: UserWarning: The objective has been evaluated at this point before.\n",
            "  warnings.warn(\"The objective has been evaluated \"\n",
            "c:\\Users\\kaspr\\AppData\\Local\\Programs\\Python\\Python311\\Lib\\site-packages\\skopt\\optimizer\\optimizer.py:449: UserWarning: The objective has been evaluated at this point before.\n",
            "  warnings.warn(\"The objective has been evaluated \"\n",
            "c:\\Users\\kaspr\\AppData\\Local\\Programs\\Python\\Python311\\Lib\\site-packages\\skopt\\optimizer\\optimizer.py:449: UserWarning: The objective has been evaluated at this point before.\n",
            "  warnings.warn(\"The objective has been evaluated \"\n",
            "c:\\Users\\kaspr\\AppData\\Local\\Programs\\Python\\Python311\\Lib\\site-packages\\skopt\\optimizer\\optimizer.py:449: UserWarning: The objective has been evaluated at this point before.\n",
            "  warnings.warn(\"The objective has been evaluated \"\n",
            "c:\\Users\\kaspr\\AppData\\Local\\Programs\\Python\\Python311\\Lib\\site-packages\\skopt\\optimizer\\optimizer.py:449: UserWarning: The objective has been evaluated at this point before.\n",
            "  warnings.warn(\"The objective has been evaluated \"\n",
            "c:\\Users\\kaspr\\AppData\\Local\\Programs\\Python\\Python311\\Lib\\site-packages\\skopt\\optimizer\\optimizer.py:449: UserWarning: The objective has been evaluated at this point before.\n",
            "  warnings.warn(\"The objective has been evaluated \"\n",
            "c:\\Users\\kaspr\\AppData\\Local\\Programs\\Python\\Python311\\Lib\\site-packages\\skopt\\optimizer\\optimizer.py:449: UserWarning: The objective has been evaluated at this point before.\n",
            "  warnings.warn(\"The objective has been evaluated \"\n",
            "c:\\Users\\kaspr\\AppData\\Local\\Programs\\Python\\Python311\\Lib\\site-packages\\skopt\\optimizer\\optimizer.py:449: UserWarning: The objective has been evaluated at this point before.\n",
            "  warnings.warn(\"The objective has been evaluated \"\n",
            "c:\\Users\\kaspr\\AppData\\Local\\Programs\\Python\\Python311\\Lib\\site-packages\\skopt\\optimizer\\optimizer.py:449: UserWarning: The objective has been evaluated at this point before.\n",
            "  warnings.warn(\"The objective has been evaluated \"\n",
            "c:\\Users\\kaspr\\AppData\\Local\\Programs\\Python\\Python311\\Lib\\site-packages\\skopt\\optimizer\\optimizer.py:449: UserWarning: The objective has been evaluated at this point before.\n",
            "  warnings.warn(\"The objective has been evaluated \"\n",
            "c:\\Users\\kaspr\\AppData\\Local\\Programs\\Python\\Python311\\Lib\\site-packages\\skopt\\optimizer\\optimizer.py:449: UserWarning: The objective has been evaluated at this point before.\n",
            "  warnings.warn(\"The objective has been evaluated \"\n",
            "c:\\Users\\kaspr\\AppData\\Local\\Programs\\Python\\Python311\\Lib\\site-packages\\skopt\\optimizer\\optimizer.py:449: UserWarning: The objective has been evaluated at this point before.\n",
            "  warnings.warn(\"The objective has been evaluated \"\n",
            "c:\\Users\\kaspr\\AppData\\Local\\Programs\\Python\\Python311\\Lib\\site-packages\\skopt\\optimizer\\optimizer.py:449: UserWarning: The objective has been evaluated at this point before.\n",
            "  warnings.warn(\"The objective has been evaluated \"\n",
            "c:\\Users\\kaspr\\AppData\\Local\\Programs\\Python\\Python311\\Lib\\site-packages\\skopt\\optimizer\\optimizer.py:449: UserWarning: The objective has been evaluated at this point before.\n",
            "  warnings.warn(\"The objective has been evaluated \"\n",
            "c:\\Users\\kaspr\\AppData\\Local\\Programs\\Python\\Python311\\Lib\\site-packages\\skopt\\optimizer\\optimizer.py:449: UserWarning: The objective has been evaluated at this point before.\n",
            "  warnings.warn(\"The objective has been evaluated \"\n",
            "c:\\Users\\kaspr\\AppData\\Local\\Programs\\Python\\Python311\\Lib\\site-packages\\skopt\\optimizer\\optimizer.py:449: UserWarning: The objective has been evaluated at this point before.\n",
            "  warnings.warn(\"The objective has been evaluated \"\n",
            "c:\\Users\\kaspr\\AppData\\Local\\Programs\\Python\\Python311\\Lib\\site-packages\\skopt\\optimizer\\optimizer.py:449: UserWarning: The objective has been evaluated at this point before.\n",
            "  warnings.warn(\"The objective has been evaluated \"\n",
            "c:\\Users\\kaspr\\AppData\\Local\\Programs\\Python\\Python311\\Lib\\site-packages\\skopt\\optimizer\\optimizer.py:449: UserWarning: The objective has been evaluated at this point before.\n",
            "  warnings.warn(\"The objective has been evaluated \"\n",
            "c:\\Users\\kaspr\\AppData\\Local\\Programs\\Python\\Python311\\Lib\\site-packages\\skopt\\optimizer\\optimizer.py:449: UserWarning: The objective has been evaluated at this point before.\n",
            "  warnings.warn(\"The objective has been evaluated \"\n",
            "c:\\Users\\kaspr\\AppData\\Local\\Programs\\Python\\Python311\\Lib\\site-packages\\skopt\\optimizer\\optimizer.py:449: UserWarning: The objective has been evaluated at this point before.\n",
            "  warnings.warn(\"The objective has been evaluated \"\n",
            "c:\\Users\\kaspr\\AppData\\Local\\Programs\\Python\\Python311\\Lib\\site-packages\\skopt\\optimizer\\optimizer.py:449: UserWarning: The objective has been evaluated at this point before.\n",
            "  warnings.warn(\"The objective has been evaluated \"\n",
            "c:\\Users\\kaspr\\AppData\\Local\\Programs\\Python\\Python311\\Lib\\site-packages\\skopt\\optimizer\\optimizer.py:449: UserWarning: The objective has been evaluated at this point before.\n",
            "  warnings.warn(\"The objective has been evaluated \"\n",
            "c:\\Users\\kaspr\\AppData\\Local\\Programs\\Python\\Python311\\Lib\\site-packages\\skopt\\optimizer\\optimizer.py:449: UserWarning: The objective has been evaluated at this point before.\n",
            "  warnings.warn(\"The objective has been evaluated \"\n",
            "c:\\Users\\kaspr\\AppData\\Local\\Programs\\Python\\Python311\\Lib\\site-packages\\skopt\\optimizer\\optimizer.py:449: UserWarning: The objective has been evaluated at this point before.\n",
            "  warnings.warn(\"The objective has been evaluated \"\n",
            "c:\\Users\\kaspr\\AppData\\Local\\Programs\\Python\\Python311\\Lib\\site-packages\\skopt\\optimizer\\optimizer.py:449: UserWarning: The objective has been evaluated at this point before.\n",
            "  warnings.warn(\"The objective has been evaluated \"\n",
            "c:\\Users\\kaspr\\AppData\\Local\\Programs\\Python\\Python311\\Lib\\site-packages\\skopt\\optimizer\\optimizer.py:449: UserWarning: The objective has been evaluated at this point before.\n",
            "  warnings.warn(\"The objective has been evaluated \"\n",
            "c:\\Users\\kaspr\\AppData\\Local\\Programs\\Python\\Python311\\Lib\\site-packages\\skopt\\optimizer\\optimizer.py:449: UserWarning: The objective has been evaluated at this point before.\n",
            "  warnings.warn(\"The objective has been evaluated \"\n",
            "c:\\Users\\kaspr\\AppData\\Local\\Programs\\Python\\Python311\\Lib\\site-packages\\skopt\\optimizer\\optimizer.py:449: UserWarning: The objective has been evaluated at this point before.\n",
            "  warnings.warn(\"The objective has been evaluated \"\n",
            "c:\\Users\\kaspr\\AppData\\Local\\Programs\\Python\\Python311\\Lib\\site-packages\\skopt\\optimizer\\optimizer.py:449: UserWarning: The objective has been evaluated at this point before.\n",
            "  warnings.warn(\"The objective has been evaluated \"\n",
            "c:\\Users\\kaspr\\AppData\\Local\\Programs\\Python\\Python311\\Lib\\site-packages\\skopt\\optimizer\\optimizer.py:449: UserWarning: The objective has been evaluated at this point before.\n",
            "  warnings.warn(\"The objective has been evaluated \"\n",
            "c:\\Users\\kaspr\\AppData\\Local\\Programs\\Python\\Python311\\Lib\\site-packages\\skopt\\optimizer\\optimizer.py:449: UserWarning: The objective has been evaluated at this point before.\n",
            "  warnings.warn(\"The objective has been evaluated \"\n",
            "c:\\Users\\kaspr\\AppData\\Local\\Programs\\Python\\Python311\\Lib\\site-packages\\skopt\\optimizer\\optimizer.py:449: UserWarning: The objective has been evaluated at this point before.\n",
            "  warnings.warn(\"The objective has been evaluated \"\n",
            "c:\\Users\\kaspr\\AppData\\Local\\Programs\\Python\\Python311\\Lib\\site-packages\\skopt\\optimizer\\optimizer.py:449: UserWarning: The objective has been evaluated at this point before.\n",
            "  warnings.warn(\"The objective has been evaluated \"\n",
            "c:\\Users\\kaspr\\AppData\\Local\\Programs\\Python\\Python311\\Lib\\site-packages\\skopt\\optimizer\\optimizer.py:449: UserWarning: The objective has been evaluated at this point before.\n",
            "  warnings.warn(\"The objective has been evaluated \"\n",
            "c:\\Users\\kaspr\\AppData\\Local\\Programs\\Python\\Python311\\Lib\\site-packages\\skopt\\optimizer\\optimizer.py:449: UserWarning: The objective has been evaluated at this point before.\n",
            "  warnings.warn(\"The objective has been evaluated \"\n",
            "c:\\Users\\kaspr\\AppData\\Local\\Programs\\Python\\Python311\\Lib\\site-packages\\skopt\\optimizer\\optimizer.py:449: UserWarning: The objective has been evaluated at this point before.\n",
            "  warnings.warn(\"The objective has been evaluated \"\n",
            "c:\\Users\\kaspr\\AppData\\Local\\Programs\\Python\\Python311\\Lib\\site-packages\\skopt\\optimizer\\optimizer.py:449: UserWarning: The objective has been evaluated at this point before.\n",
            "  warnings.warn(\"The objective has been evaluated \"\n",
            "c:\\Users\\kaspr\\AppData\\Local\\Programs\\Python\\Python311\\Lib\\site-packages\\skopt\\optimizer\\optimizer.py:449: UserWarning: The objective has been evaluated at this point before.\n",
            "  warnings.warn(\"The objective has been evaluated \"\n",
            "c:\\Users\\kaspr\\AppData\\Local\\Programs\\Python\\Python311\\Lib\\site-packages\\skopt\\optimizer\\optimizer.py:449: UserWarning: The objective has been evaluated at this point before.\n",
            "  warnings.warn(\"The objective has been evaluated \"\n",
            "c:\\Users\\kaspr\\AppData\\Local\\Programs\\Python\\Python311\\Lib\\site-packages\\skopt\\optimizer\\optimizer.py:449: UserWarning: The objective has been evaluated at this point before.\n",
            "  warnings.warn(\"The objective has been evaluated \"\n",
            "c:\\Users\\kaspr\\AppData\\Local\\Programs\\Python\\Python311\\Lib\\site-packages\\skopt\\optimizer\\optimizer.py:449: UserWarning: The objective has been evaluated at this point before.\n",
            "  warnings.warn(\"The objective has been evaluated \"\n",
            "c:\\Users\\kaspr\\AppData\\Local\\Programs\\Python\\Python311\\Lib\\site-packages\\skopt\\optimizer\\optimizer.py:449: UserWarning: The objective has been evaluated at this point before.\n",
            "  warnings.warn(\"The objective has been evaluated \"\n",
            "c:\\Users\\kaspr\\AppData\\Local\\Programs\\Python\\Python311\\Lib\\site-packages\\skopt\\optimizer\\optimizer.py:449: UserWarning: The objective has been evaluated at this point before.\n",
            "  warnings.warn(\"The objective has been evaluated \"\n",
            "c:\\Users\\kaspr\\AppData\\Local\\Programs\\Python\\Python311\\Lib\\site-packages\\skopt\\optimizer\\optimizer.py:449: UserWarning: The objective has been evaluated at this point before.\n",
            "  warnings.warn(\"The objective has been evaluated \"\n",
            "c:\\Users\\kaspr\\AppData\\Local\\Programs\\Python\\Python311\\Lib\\site-packages\\skopt\\optimizer\\optimizer.py:449: UserWarning: The objective has been evaluated at this point before.\n",
            "  warnings.warn(\"The objective has been evaluated \"\n",
            "c:\\Users\\kaspr\\AppData\\Local\\Programs\\Python\\Python311\\Lib\\site-packages\\skopt\\optimizer\\optimizer.py:449: UserWarning: The objective has been evaluated at this point before.\n",
            "  warnings.warn(\"The objective has been evaluated \"\n",
            "c:\\Users\\kaspr\\AppData\\Local\\Programs\\Python\\Python311\\Lib\\site-packages\\skopt\\optimizer\\optimizer.py:449: UserWarning: The objective has been evaluated at this point before.\n",
            "  warnings.warn(\"The objective has been evaluated \"\n",
            "c:\\Users\\kaspr\\AppData\\Local\\Programs\\Python\\Python311\\Lib\\site-packages\\skopt\\optimizer\\optimizer.py:449: UserWarning: The objective has been evaluated at this point before.\n",
            "  warnings.warn(\"The objective has been evaluated \"\n",
            "c:\\Users\\kaspr\\AppData\\Local\\Programs\\Python\\Python311\\Lib\\site-packages\\skopt\\optimizer\\optimizer.py:449: UserWarning: The objective has been evaluated at this point before.\n",
            "  warnings.warn(\"The objective has been evaluated \"\n",
            "c:\\Users\\kaspr\\AppData\\Local\\Programs\\Python\\Python311\\Lib\\site-packages\\skopt\\optimizer\\optimizer.py:449: UserWarning: The objective has been evaluated at this point before.\n",
            "  warnings.warn(\"The objective has been evaluated \"\n",
            "c:\\Users\\kaspr\\AppData\\Local\\Programs\\Python\\Python311\\Lib\\site-packages\\skopt\\optimizer\\optimizer.py:449: UserWarning: The objective has been evaluated at this point before.\n",
            "  warnings.warn(\"The objective has been evaluated \"\n",
            "c:\\Users\\kaspr\\AppData\\Local\\Programs\\Python\\Python311\\Lib\\site-packages\\skopt\\optimizer\\optimizer.py:449: UserWarning: The objective has been evaluated at this point before.\n",
            "  warnings.warn(\"The objective has been evaluated \"\n",
            "c:\\Users\\kaspr\\AppData\\Local\\Programs\\Python\\Python311\\Lib\\site-packages\\skopt\\optimizer\\optimizer.py:449: UserWarning: The objective has been evaluated at this point before.\n",
            "  warnings.warn(\"The objective has been evaluated \"\n",
            "c:\\Users\\kaspr\\AppData\\Local\\Programs\\Python\\Python311\\Lib\\site-packages\\skopt\\optimizer\\optimizer.py:449: UserWarning: The objective has been evaluated at this point before.\n",
            "  warnings.warn(\"The objective has been evaluated \"\n",
            "c:\\Users\\kaspr\\AppData\\Local\\Programs\\Python\\Python311\\Lib\\site-packages\\skopt\\optimizer\\optimizer.py:449: UserWarning: The objective has been evaluated at this point before.\n",
            "  warnings.warn(\"The objective has been evaluated \"\n",
            "c:\\Users\\kaspr\\AppData\\Local\\Programs\\Python\\Python311\\Lib\\site-packages\\skopt\\optimizer\\optimizer.py:449: UserWarning: The objective has been evaluated at this point before.\n",
            "  warnings.warn(\"The objective has been evaluated \"\n",
            "c:\\Users\\kaspr\\AppData\\Local\\Programs\\Python\\Python311\\Lib\\site-packages\\skopt\\optimizer\\optimizer.py:449: UserWarning: The objective has been evaluated at this point before.\n",
            "  warnings.warn(\"The objective has been evaluated \"\n",
            "c:\\Users\\kaspr\\AppData\\Local\\Programs\\Python\\Python311\\Lib\\site-packages\\skopt\\optimizer\\optimizer.py:449: UserWarning: The objective has been evaluated at this point before.\n",
            "  warnings.warn(\"The objective has been evaluated \"\n",
            "c:\\Users\\kaspr\\AppData\\Local\\Programs\\Python\\Python311\\Lib\\site-packages\\skopt\\optimizer\\optimizer.py:449: UserWarning: The objective has been evaluated at this point before.\n",
            "  warnings.warn(\"The objective has been evaluated \"\n",
            "c:\\Users\\kaspr\\AppData\\Local\\Programs\\Python\\Python311\\Lib\\site-packages\\skopt\\optimizer\\optimizer.py:449: UserWarning: The objective has been evaluated at this point before.\n",
            "  warnings.warn(\"The objective has been evaluated \"\n",
            "c:\\Users\\kaspr\\AppData\\Local\\Programs\\Python\\Python311\\Lib\\site-packages\\skopt\\optimizer\\optimizer.py:449: UserWarning: The objective has been evaluated at this point before.\n",
            "  warnings.warn(\"The objective has been evaluated \"\n",
            "c:\\Users\\kaspr\\AppData\\Local\\Programs\\Python\\Python311\\Lib\\site-packages\\skopt\\optimizer\\optimizer.py:449: UserWarning: The objective has been evaluated at this point before.\n",
            "  warnings.warn(\"The objective has been evaluated \"\n",
            "c:\\Users\\kaspr\\AppData\\Local\\Programs\\Python\\Python311\\Lib\\site-packages\\skopt\\optimizer\\optimizer.py:449: UserWarning: The objective has been evaluated at this point before.\n",
            "  warnings.warn(\"The objective has been evaluated \"\n",
            "c:\\Users\\kaspr\\AppData\\Local\\Programs\\Python\\Python311\\Lib\\site-packages\\skopt\\optimizer\\optimizer.py:449: UserWarning: The objective has been evaluated at this point before.\n",
            "  warnings.warn(\"The objective has been evaluated \"\n"
          ]
        }
      ],
      "source": [
        "bayes_opt_knn = pd.DataFrame(columns = ['n_neighbors', 'df', 'best_score'])\n",
        "bayes_optimizer_knn = {}\n",
        "df_names = {1:'df_1', 2:'df_2', 3:'df_credit', 4:'df_diabetes'}\n",
        "for i, dataset in enumerate([df_1, df_2, df_credit, df_diabetes]):\n",
        "  y = dataset['class']\n",
        "  X = dataset.drop('class', axis=1)\n",
        "\n",
        "  X_train, X_test, y_train, y_test = train_test_split(X, y,test_size=0.2)\n",
        "\n",
        "  # To compare with random search\n",
        "  num_pipeline = Pipeline(steps=[\n",
        "  ('impute', SimpleImputer(strategy='mean')),\n",
        "  ('scale',MinMaxScaler())])\n",
        "\n",
        "  cat_pipeline = Pipeline(steps=[\n",
        "      ('impute', SimpleImputer(strategy='most_frequent')),\n",
        "      ('one-hot',OneHotEncoder(handle_unknown='ignore', sparse=False))\n",
        "  ])\n",
        "\n",
        "  col_trans = ColumnTransformer(transformers=[\n",
        "  ('num_pipeline',num_pipeline, make_column_selector( dtype_include= np.number)),\n",
        "  ('cat_pipeline',cat_pipeline,make_column_selector( dtype_include= np.object_))\n",
        "  ],\n",
        "  remainder='drop',\n",
        "  n_jobs=-1)\n",
        "\n",
        "  X_trans = col_trans.fit_transform(X_train)\n",
        "  X_test_trans = col_trans.transform(X_test)\n",
        "  # for column in dataset.select_dtypes(include=['category', 'object']):\n",
        "  if y_train.dtype in ['category', 'object']:\n",
        "    df_dict={}\n",
        "    for j, e in enumerate(sorted(y_train.unique())):\n",
        "      df_dict[e] = j\n",
        "    y_trans = y_train.map(lambda s: df_dict.get(s) if s in df_dict else s)\n",
        "    y_test_trans = y_test.map(lambda s: df_dict.get(s) if s in df_dict else s)\n",
        "  else:\n",
        "    y_trans = y_train\n",
        "    y_test_trans = y_test\n",
        "\n",
        "  opt = BayesSearchCV(\n",
        "    KNeighborsClassifier(),\n",
        "    {\n",
        "        'n_neighbors': (1, 50)\n",
        "    },\n",
        "    n_iter=50,\n",
        "    cv=5\n",
        "  )\n",
        "  opt.fit(X_trans, y_trans)\n",
        "  bayes_optimizer_knn[f'df{i+1}'] = np.maximum.accumulate(opt.cv_results_['mean_test_score'])\n",
        "  row = opt._optim_results[0].get('x')\n",
        "  row.append(df_names[i+1])\n",
        "  row.append(opt.best_score_)\n",
        "  row = pd.DataFrame(row).transpose()\n",
        "  row.columns = ['n_neighbors', 'df', 'best_score']\n",
        "  bayes_opt_knn = pd.concat([bayes_opt_knn, row], ignore_index=True)"
      ]
    },
    {
      "cell_type": "code",
      "execution_count": 148,
      "metadata": {},
      "outputs": [],
      "source": [
        "with open('bayes_optimizer_knn.pkl', 'wb') as fp:\n",
        "    pickle.dump(bayes_optimizer_knn, fp)"
      ]
    },
    {
      "cell_type": "code",
      "execution_count": 164,
      "metadata": {},
      "outputs": [],
      "source": [
        "with open('bayes_optimizer_knn.pkl', 'rb') as fp:\n",
        "    bayes_optimizer_knn = pickle.load(fp)\n",
        "df_params_knn = pd.read_csv('df_params_knn.csv')"
      ]
    },
    {
      "cell_type": "code",
      "execution_count": 225,
      "metadata": {},
      "outputs": [],
      "source": [
        "bayes_opt_knn.to_csv('bayes_opt_knn.csv', index=False)"
      ]
    },
    {
      "cell_type": "code",
      "execution_count": 234,
      "metadata": {},
      "outputs": [
        {
          "data": {
            "image/png": "[encoded data removed]",
            "text/plain": [
              "<Figure size 640x480 with 1 Axes>"
            ]
          },
          "metadata": {},
          "output_type": "display_data"
        }
      ],
      "source": [
        "plt.boxplot([bayes_optimizer_knn['df1'],\n",
        "             bayes_optimizer_knn['df2'],\n",
        "             bayes_optimizer_knn['df3'], \n",
        "             bayes_optimizer_knn['df4']],\n",
        "             labels=['df1', 'df2', 'df_credit', 'df_diabetes'],\n",
        "             autorange=True)\n",
        "plt.xticks(rotation = 10)\n",
        "plt.title('Tunability parametru k w KNN w zależności od zbioru danych (bayesian optimization)')\n",
        "plt.show()"
      ]
    },
    {
      "cell_type": "code",
      "execution_count": 166,
      "metadata": {
        "colab": {
          "base_uri": "https://localhost:8080/",
          "height": 175
        },
        "id": "L1U0wWEhsCbe",
        "outputId": "72a5ac92-a160-494d-a299-5e59331c5262"
      },
      "outputs": [
        {
          "name": "stdout",
          "output_type": "stream",
          "text": [
            "Random search accuracy = 1.00\n",
            "Bayesian optimization accuracy = 1.00\n"
          ]
        },
        {
          "data": {
            "text/plain": [
              "<matplotlib.legend.Legend at 0x1ed271f2a50>"
            ]
          },
          "execution_count": 166,
          "metadata": {},
          "output_type": "execute_result"
        },
        {
          "data": {
            "image/png": "[encoded data removed]",
            "text/plain": [
              "<Figure size 640x480 with 1 Axes>"
            ]
          },
          "metadata": {},
          "output_type": "display_data"
        }
      ],
      "source": [
        "y_rs = np.maximum.accumulate(df_params_knn['df1']).ravel()\n",
        "y_bo = bayes_optimizer_knn.get('df1')\n",
        "print(f'Random search accuracy = {y_rs[-1]:.2f}')\n",
        "print(f'Bayesian optimization accuracy = {y_bo[-1]:.2f}')\n",
        "\n",
        "plt.plot(y_rs, 'ro-', label='Random search')\n",
        "plt.plot(y_bo, 'bo-', label='Bayesian optimization')\n",
        "plt.xlabel('Iteration')\n",
        "plt.ylabel('Accuracy')\n",
        "# plt.ylim(-5000, -3000)\n",
        "plt.title('K-nearest neighbors, dataset df1')\n",
        "plt.legend()"
      ]
    },
    {
      "cell_type": "code",
      "execution_count": 167,
      "metadata": {},
      "outputs": [
        {
          "name": "stdout",
          "output_type": "stream",
          "text": [
            "Random search accuracy = 0.98\n",
            "Bayesian optimization accuracy = 0.98\n"
          ]
        },
        {
          "data": {
            "text/plain": [
              "<matplotlib.legend.Legend at 0x1ed271d9b90>"
            ]
          },
          "execution_count": 167,
          "metadata": {},
          "output_type": "execute_result"
        },
        {
          "data": {
            "image/png": "[encoded data removed]",
            "text/plain": [
              "<Figure size 640x480 with 1 Axes>"
            ]
          },
          "metadata": {},
          "output_type": "display_data"
        }
      ],
      "source": [
        "y_rs = np.maximum.accumulate(df_params_knn['df2']).ravel()\n",
        "y_bo = bayes_optimizer_knn.get('df2')\n",
        "print(f'Random search accuracy = {y_rs[-1]:.2f}')\n",
        "print(f'Bayesian optimization accuracy = {y_bo[-1]:.2f}')\n",
        "\n",
        "plt.plot(y_rs, 'ro-', label='Random search')\n",
        "plt.plot(y_bo, 'bo-', label='Bayesian optimization')\n",
        "plt.xlabel('Iteration')\n",
        "plt.ylabel('Accuracy')\n",
        "# plt.ylim(-5000, -3000)\n",
        "plt.title('K-nearest neighbors, dataset df2')\n",
        "plt.legend()"
      ]
    },
    {
      "cell_type": "code",
      "execution_count": 168,
      "metadata": {},
      "outputs": [
        {
          "name": "stdout",
          "output_type": "stream",
          "text": [
            "Random search accuracy = 0.75\n",
            "Bayesian optimization accuracy = 0.72\n"
          ]
        },
        {
          "data": {
            "text/plain": [
              "<matplotlib.legend.Legend at 0x1ed27542a50>"
            ]
          },
          "execution_count": 168,
          "metadata": {},
          "output_type": "execute_result"
        },
        {
          "data": {
            "image/png": "[encoded data removed]",
            "text/plain": [
              "<Figure size 640x480 with 1 Axes>"
            ]
          },
          "metadata": {},
          "output_type": "display_data"
        }
      ],
      "source": [
        "y_rs = np.maximum.accumulate(df_params_knn['df3']).ravel()\n",
        "y_bo = bayes_optimizer_knn.get('df3')\n",
        "print(f'Random search accuracy = {y_rs[-1]:.2f}')\n",
        "print(f'Bayesian optimization accuracy = {y_bo[-1]:.2f}')\n",
        "\n",
        "plt.plot(y_rs, 'ro-', label='Random search')\n",
        "plt.plot(y_bo, 'bo-', label='Bayesian optimization')\n",
        "plt.xlabel('Iteration')\n",
        "plt.ylabel('Accuracy')\n",
        "# plt.ylim(-5000, -3000)\n",
        "plt.title('K-nearest neighbors, dataset df_credit')\n",
        "plt.legend()"
      ]
    },
    {
      "cell_type": "code",
      "execution_count": 169,
      "metadata": {},
      "outputs": [
        {
          "name": "stdout",
          "output_type": "stream",
          "text": [
            "Random search accuracy = 0.76\n",
            "Bayesian optimization accuracy = 0.78\n"
          ]
        },
        {
          "data": {
            "text/plain": [
              "<matplotlib.legend.Legend at 0x1ed275aaa50>"
            ]
          },
          "execution_count": 169,
          "metadata": {},
          "output_type": "execute_result"
        },
        {
          "data": {
            "image/png": "[encoded data removed]",
            "text/plain": [
              "<Figure size 640x480 with 1 Axes>"
            ]
          },
          "metadata": {},
          "output_type": "display_data"
        }
      ],
      "source": [
        "y_rs = np.maximum.accumulate(df_params_knn['df4']).ravel()\n",
        "y_bo = bayes_optimizer_knn.get('df4')\n",
        "print(f'Random search accuracy = {y_rs[-1]:.2f}')\n",
        "print(f'Bayesian optimization accuracy = {y_bo[-1]:.2f}')\n",
        "\n",
        "plt.plot(y_rs, 'ro-', label='Random search')\n",
        "plt.plot(y_bo, 'bo-', label='Bayesian optimization')\n",
        "plt.xlabel('Iteration')\n",
        "plt.ylabel('Accuracy')\n",
        "# plt.ylim(-5000, -3000)\n",
        "plt.title('K-nearest neighbors, dataset df_diabetes')\n",
        "plt.legend()"
      ]
    },
    {
      "cell_type": "markdown",
      "metadata": {},
      "source": [
        "### Tunability calculation"
      ]
    },
    {
      "cell_type": "code",
      "execution_count": 171,
      "metadata": {
        "id": "i-HyFKG7sfrX"
      },
      "outputs": [],
      "source": [
        "best_scores_n_neigbors = {\n",
        "    'df1' : float(max(df_params_knn.loc[df_params_knn.df1 == max(df_params_knn.df1)]['df1'])),\n",
        "    'df2' : float(df_params_knn.loc[df_params_knn.df2 == max(df_params_knn.df2)]['df2']),\n",
        "    'df3' : float(df_params_knn.loc[df_params_knn.df3 == max(df_params_knn.df3)]['df3']),\n",
        "    'df4' : float(df_params_knn.loc[df_params_knn.df4 == max(df_params_knn.df4)]['df4']),\n",
        "}"
      ]
    },
    {
      "cell_type": "code",
      "execution_count": 172,
      "metadata": {
        "id": "93TlmXO1s0E2"
      },
      "outputs": [],
      "source": [
        "best_scores_default_knn = {\n",
        "    'df1' : float(max(df_params_knn.loc[df_params_knn.mean_score == max(df_params_knn.mean_score)]['df1'])),\n",
        "    'df2' : float(df_params_knn.loc[df_params_knn.mean_score == max(df_params_knn.mean_score)]['df2']),\n",
        "    'df3' : float(df_params_knn.loc[df_params_knn.mean_score == max(df_params_knn.mean_score)]['df3']),\n",
        "    'df4' : float(df_params_knn.loc[df_params_knn.mean_score == max(df_params_knn.mean_score)]['df4']),\n",
        "}"
      ]
    },
    {
      "cell_type": "code",
      "execution_count": 173,
      "metadata": {
        "id": "vZJNTfe9tV5L"
      },
      "outputs": [],
      "source": [
        "scores_knn_bo = {\n",
        "    'df1' : bayes_optimizer_knn.get('df1')[-1],\n",
        "    'df2' : bayes_optimizer_knn.get('df2')[-1],\n",
        "    'df3' : bayes_optimizer_knn.get('df3')[-1],\n",
        "    'df4' : bayes_optimizer_knn.get('df4')[-1],\n",
        "}"
      ]
    },
    {
      "cell_type": "code",
      "execution_count": 174,
      "metadata": {
        "colab": {
          "base_uri": "https://localhost:8080/"
        },
        "id": "8gW0m3Czs6v9",
        "outputId": "f5f06584-7d7a-4de1-a450-d51f9c1b38e3"
      },
      "outputs": [
        {
          "data": {
            "text/plain": [
              "0.010408509776403813"
            ]
          },
          "execution_count": 174,
          "metadata": {},
          "output_type": "execute_result"
        }
      ],
      "source": [
        "calc_tunability(best_scores_n_neigbors, best_scores_default_knn)"
      ]
    },
    {
      "cell_type": "code",
      "execution_count": 175,
      "metadata": {
        "colab": {
          "base_uri": "https://localhost:8080/"
        },
        "id": "UZU-ZUdguElO",
        "outputId": "15dbca5d-ecff-4970-a739-4264ec09c1bf"
      },
      "outputs": [
        {
          "data": {
            "text/plain": [
              "0.0032262368821645016"
            ]
          },
          "execution_count": 175,
          "metadata": {},
          "output_type": "execute_result"
        }
      ],
      "source": [
        "calc_tunability(best_scores_n_neigbors, scores_knn_bo)"
      ]
    },
    {
      "cell_type": "markdown",
      "metadata": {
        "id": "Ax6JtWWw9kjd"
      },
      "source": [
        "## Random forest"
      ]
    },
    {
      "cell_type": "markdown",
      "metadata": {},
      "source": [
        "### Random search"
      ]
    },
    {
      "cell_type": "code",
      "execution_count": 9,
      "metadata": {
        "colab": {
          "base_uri": "https://localhost:8080/",
          "height": 807
        },
        "id": "B93-y8K69utt",
        "outputId": "a01b2990-4d3d-4243-8a85-4b6273202001"
      },
      "outputs": [],
      "source": [
        "df_params_rf = pd.DataFrame(columns = ['n_estimators', 'min_samples_leaf', 'min_samples_split', 'df1', 'df2', 'df3', 'df4' ])\n",
        "for i in range(100): #this algorithm has been running substantially slower than the previous once, hence fewer iterations\n",
        "  params_rf = {\"n_estimators\" : random.randint(1, 2000), \"min_samples_leaf\": random.random(), \"min_samples_split\": random.random()}\n",
        "  iter_params = [params_rf.get('n_estimators'), params_rf.get(\"min_samples_leaf\"), params_rf.get(\"min_samples_split\")]\n",
        "\n",
        "  num_pipeline = Pipeline(steps=[\n",
        "    ('impute', SimpleImputer(strategy='mean')),\n",
        "    ('scale', MinMaxScaler())])\n",
        "\n",
        "  cat_pipeline = Pipeline(steps=[\n",
        "      ('impute', SimpleImputer(strategy='most_frequent')),\n",
        "      ('one-hot',OneHotEncoder(handle_unknown='ignore', sparse=False))\n",
        "  ])\n",
        "\n",
        "  col_trans = ColumnTransformer(transformers=[\n",
        "  ('num_pipeline',num_pipeline, make_column_selector( dtype_include= np.number)),\n",
        "  ('cat_pipeline',cat_pipeline,make_column_selector( dtype_include= np.object_))\n",
        "  ],\n",
        "  remainder='drop',\n",
        "  n_jobs=-1)\n",
        "\n",
        "  mean_accuracies = []\n",
        "  for i, dataset in enumerate([df_1, df_2, df_credit, df_diabetes]):\n",
        "    estimator = RandomForestClassifier(n_estimators = iter_params[0],\n",
        "                                       min_samples_leaf = math.ceil(iter_params[1] * len(dataset.columns)),\n",
        "                                       min_samples_split = math.ceil(len(dataset) ** iter_params[2]))\n",
        "    y = dataset['class']\n",
        "    X = dataset.drop('class', axis=1)\n",
        "\n",
        "    X_train, X_test, y_train, y_test = train_test_split(X, y,test_size=0.2)\n",
        "\n",
        "    X_trans = col_trans.fit_transform(X_train)\n",
        "    X_test_trains = col_trans.transform(X_test)\n",
        "    if y_train.dtype in ['category', 'object']:\n",
        "      df_dict={}\n",
        "      for j, e in enumerate(sorted(y_train.unique())):\n",
        "        df_dict[e] = j\n",
        "      y_trans = y_train.map(lambda s: df_dict.get(s) if s in df_dict else s)\n",
        "      y_test_trans = y_test.map(lambda s: df_dict.get(s) if s in df_dict else s)\n",
        "    else:\n",
        "      y_trans = y_train\n",
        "      y_test_trans = y_test\n",
        "\n",
        "    kf = KFold(n_splits=5)\n",
        "    accuracy = 0\n",
        "    for train_index, test_index in kf.split(X_trans):\n",
        "      y_train, y_test = np.take(y_trans, train_index), np.take(y_trans, test_index)\n",
        "      X_train, X_test = X_trans[train_index, :], X_trans[test_index, :]\n",
        "      estimator.fit(X_train, y_train)\n",
        "      y_pred = estimator.predict(X_test)\n",
        "      accuracy += metrics.accuracy_score(y_test, y_pred)\n",
        "    mean_accuracy = accuracy/10\n",
        "    mean_accuracies.append(mean_accuracy)\n",
        "  params_rf['df1'] = mean_accuracies[0]\n",
        "  params_rf['df2'] = mean_accuracies[1]\n",
        "  params_rf['df3'] = mean_accuracies[2]\n",
        "  params_rf['df4'] = mean_accuracies[3]\n",
        "\n",
        "  row = pd.DataFrame([params_rf])\n",
        "  df_params_rf = pd.concat([df_params_rf, row], ignore_index=True)\n",
        "  df_params_rf['mean_score'] = (df_params_rf['df1'] + df_params_rf['df2'] + df_params_rf['df3'] + df_params_rf['df4']) / 4"
      ]
    },
    {
      "cell_type": "code",
      "execution_count": 21,
      "metadata": {},
      "outputs": [],
      "source": [
        "# df_params_rf.to_csv('df_params_rf.csv', index=False)"
      ]
    },
    {
      "cell_type": "code",
      "execution_count": 176,
      "metadata": {},
      "outputs": [
        {
          "data": {
            "text/html": [
              "<div>\n",
              "<style scoped>\n",
              "    .dataframe tbody tr th:only-of-type {\n",
              "        vertical-align: middle;\n",
              "    }\n",
              "\n",
              "    .dataframe tbody tr th {\n",
              "        vertical-align: top;\n",
              "    }\n",
              "\n",
              "    .dataframe thead th {\n",
              "        text-align: right;\n",
              "    }\n",
              "</style>\n",
              "<table border=\"1\" class=\"dataframe\">\n",
              "  <thead>\n",
              "    <tr style=\"text-align: right;\">\n",
              "      <th></th>\n",
              "      <th>n_estimators</th>\n",
              "      <th>min_samples_leaf</th>\n",
              "      <th>min_samples_split</th>\n",
              "      <th>df1</th>\n",
              "      <th>df2</th>\n",
              "      <th>df3</th>\n",
              "      <th>df4</th>\n",
              "      <th>mean_score</th>\n",
              "    </tr>\n",
              "  </thead>\n",
              "  <tbody>\n",
              "    <tr>\n",
              "      <th>0</th>\n",
              "      <td>325</td>\n",
              "      <td>0.349490</td>\n",
              "      <td>0.709213</td>\n",
              "      <td>0.478091</td>\n",
              "      <td>0.349890</td>\n",
              "      <td>0.356250</td>\n",
              "      <td>0.382734</td>\n",
              "      <td>0.391741</td>\n",
              "    </tr>\n",
              "    <tr>\n",
              "      <th>1</th>\n",
              "      <td>704</td>\n",
              "      <td>0.524101</td>\n",
              "      <td>0.153882</td>\n",
              "      <td>0.482934</td>\n",
              "      <td>0.435354</td>\n",
              "      <td>0.361250</td>\n",
              "      <td>0.383600</td>\n",
              "      <td>0.415784</td>\n",
              "    </tr>\n",
              "    <tr>\n",
              "      <th>2</th>\n",
              "      <td>649</td>\n",
              "      <td>0.477846</td>\n",
              "      <td>0.209593</td>\n",
              "      <td>0.487114</td>\n",
              "      <td>0.446460</td>\n",
              "      <td>0.364375</td>\n",
              "      <td>0.380268</td>\n",
              "      <td>0.419554</td>\n",
              "    </tr>\n",
              "    <tr>\n",
              "      <th>3</th>\n",
              "      <td>648</td>\n",
              "      <td>0.729253</td>\n",
              "      <td>0.814727</td>\n",
              "      <td>0.411710</td>\n",
              "      <td>0.329632</td>\n",
              "      <td>0.355625</td>\n",
              "      <td>0.359110</td>\n",
              "      <td>0.364019</td>\n",
              "    </tr>\n",
              "    <tr>\n",
              "      <th>4</th>\n",
              "      <td>1567</td>\n",
              "      <td>0.216428</td>\n",
              "      <td>0.158566</td>\n",
              "      <td>0.491623</td>\n",
              "      <td>0.470626</td>\n",
              "      <td>0.370000</td>\n",
              "      <td>0.381934</td>\n",
              "      <td>0.428546</td>\n",
              "    </tr>\n",
              "    <tr>\n",
              "      <th>...</th>\n",
              "      <td>...</td>\n",
              "      <td>...</td>\n",
              "      <td>...</td>\n",
              "      <td>...</td>\n",
              "      <td>...</td>\n",
              "      <td>...</td>\n",
              "      <td>...</td>\n",
              "      <td>...</td>\n",
              "    </tr>\n",
              "    <tr>\n",
              "      <th>95</th>\n",
              "      <td>1427</td>\n",
              "      <td>0.825726</td>\n",
              "      <td>0.521177</td>\n",
              "      <td>0.475513</td>\n",
              "      <td>0.393591</td>\n",
              "      <td>0.358750</td>\n",
              "      <td>0.382727</td>\n",
              "      <td>0.402645</td>\n",
              "    </tr>\n",
              "    <tr>\n",
              "      <th>96</th>\n",
              "      <td>200</td>\n",
              "      <td>0.079005</td>\n",
              "      <td>0.368893</td>\n",
              "      <td>0.493879</td>\n",
              "      <td>0.441291</td>\n",
              "      <td>0.379375</td>\n",
              "      <td>0.381114</td>\n",
              "      <td>0.423915</td>\n",
              "    </tr>\n",
              "    <tr>\n",
              "      <th>97</th>\n",
              "      <td>729</td>\n",
              "      <td>0.045423</td>\n",
              "      <td>0.064423</td>\n",
              "      <td>0.493232</td>\n",
              "      <td>0.489555</td>\n",
              "      <td>0.375000</td>\n",
              "      <td>0.381134</td>\n",
              "      <td>0.434730</td>\n",
              "    </tr>\n",
              "    <tr>\n",
              "      <th>98</th>\n",
              "      <td>800</td>\n",
              "      <td>0.146226</td>\n",
              "      <td>0.526119</td>\n",
              "      <td>0.491622</td>\n",
              "      <td>0.392271</td>\n",
              "      <td>0.368125</td>\n",
              "      <td>0.384380</td>\n",
              "      <td>0.409100</td>\n",
              "    </tr>\n",
              "    <tr>\n",
              "      <th>99</th>\n",
              "      <td>961</td>\n",
              "      <td>0.021235</td>\n",
              "      <td>0.506131</td>\n",
              "      <td>0.494523</td>\n",
              "      <td>0.405339</td>\n",
              "      <td>0.368125</td>\n",
              "      <td>0.385986</td>\n",
              "      <td>0.413493</td>\n",
              "    </tr>\n",
              "  </tbody>\n",
              "</table>\n",
              "<p>100 rows × 8 columns</p>\n",
              "</div>"
            ],
            "text/plain": [
              "    n_estimators  min_samples_leaf  min_samples_split       df1       df2  \\\n",
              "0            325          0.349490           0.709213  0.478091  0.349890   \n",
              "1            704          0.524101           0.153882  0.482934  0.435354   \n",
              "2            649          0.477846           0.209593  0.487114  0.446460   \n",
              "3            648          0.729253           0.814727  0.411710  0.329632   \n",
              "4           1567          0.216428           0.158566  0.491623  0.470626   \n",
              "..           ...               ...                ...       ...       ...   \n",
              "95          1427          0.825726           0.521177  0.475513  0.393591   \n",
              "96           200          0.079005           0.368893  0.493879  0.441291   \n",
              "97           729          0.045423           0.064423  0.493232  0.489555   \n",
              "98           800          0.146226           0.526119  0.491622  0.392271   \n",
              "99           961          0.021235           0.506131  0.494523  0.405339   \n",
              "\n",
              "         df3       df4  mean_score  \n",
              "0   0.356250  0.382734    0.391741  \n",
              "1   0.361250  0.383600    0.415784  \n",
              "2   0.364375  0.380268    0.419554  \n",
              "3   0.355625  0.359110    0.364019  \n",
              "4   0.370000  0.381934    0.428546  \n",
              "..       ...       ...         ...  \n",
              "95  0.358750  0.382727    0.402645  \n",
              "96  0.379375  0.381114    0.423915  \n",
              "97  0.375000  0.381134    0.434730  \n",
              "98  0.368125  0.384380    0.409100  \n",
              "99  0.368125  0.385986    0.413493  \n",
              "\n",
              "[100 rows x 8 columns]"
            ]
          },
          "execution_count": 176,
          "metadata": {},
          "output_type": "execute_result"
        }
      ],
      "source": [
        "df_params_rf = pd.read_csv('df_params_rf.csv')"
      ]
    },
    {
      "cell_type": "code",
      "execution_count": 177,
      "metadata": {},
      "outputs": [],
      "source": [
        "best_params_rf = {\n",
        "    'n_estimators' : float(df_params_rf.loc[df_params_rf.mean_score == max(df_params_rf.mean_score)]['n_estimators']),\n",
        "    'min_samples_leaf' : float(df_params_rf.loc[df_params_rf.mean_score == max(df_params_rf.mean_score)]['min_samples_leaf']),\n",
        "    'min_samples_split' : float(df_params_rf.loc[df_params_rf.mean_score == max(df_params_rf.mean_score)]['min_samples_split']),\n",
        "    'mean_score' : float(df_params_rf.loc[df_params_rf.mean_score == max(df_params_rf.mean_score)]['mean_score']),\n",
        "}"
      ]
    },
    {
      "cell_type": "code",
      "execution_count": 178,
      "metadata": {},
      "outputs": [
        {
          "data": {
            "text/plain": [
              "{'n_estimators': 729.0,\n",
              " 'min_samples_leaf': 0.045422561458058675,\n",
              " 'min_samples_split': 0.06442274276569449,\n",
              " 'mean_score': 0.43473036471992454}"
            ]
          },
          "execution_count": 178,
          "metadata": {},
          "output_type": "execute_result"
        }
      ],
      "source": [
        "best_params_rf"
      ]
    },
    {
      "cell_type": "markdown",
      "metadata": {},
      "source": [
        "### Bayesian optimization"
      ]
    },
    {
      "cell_type": "code",
      "execution_count": 48,
      "metadata": {},
      "outputs": [
        {
          "name": "stderr",
          "output_type": "stream",
          "text": [
            "c:\\Users\\kaspr\\AppData\\Local\\Programs\\Python\\Python311\\Lib\\site-packages\\skopt\\optimizer\\optimizer.py:449: UserWarning: The objective has been evaluated at this point before.\n",
            "  warnings.warn(\"The objective has been evaluated \"\n",
            "c:\\Users\\kaspr\\AppData\\Local\\Programs\\Python\\Python311\\Lib\\site-packages\\skopt\\optimizer\\optimizer.py:449: UserWarning: The objective has been evaluated at this point before.\n",
            "  warnings.warn(\"The objective has been evaluated \"\n",
            "c:\\Users\\kaspr\\AppData\\Local\\Programs\\Python\\Python311\\Lib\\site-packages\\skopt\\optimizer\\optimizer.py:449: UserWarning: The objective has been evaluated at this point before.\n",
            "  warnings.warn(\"The objective has been evaluated \"\n",
            "c:\\Users\\kaspr\\AppData\\Local\\Programs\\Python\\Python311\\Lib\\site-packages\\skopt\\optimizer\\optimizer.py:449: UserWarning: The objective has been evaluated at this point before.\n",
            "  warnings.warn(\"The objective has been evaluated \"\n",
            "c:\\Users\\kaspr\\AppData\\Local\\Programs\\Python\\Python311\\Lib\\site-packages\\skopt\\optimizer\\optimizer.py:449: UserWarning: The objective has been evaluated at this point before.\n",
            "  warnings.warn(\"The objective has been evaluated \"\n",
            "c:\\Users\\kaspr\\AppData\\Local\\Programs\\Python\\Python311\\Lib\\site-packages\\skopt\\optimizer\\optimizer.py:449: UserWarning: The objective has been evaluated at this point before.\n",
            "  warnings.warn(\"The objective has been evaluated \"\n",
            "c:\\Users\\kaspr\\AppData\\Local\\Programs\\Python\\Python311\\Lib\\site-packages\\skopt\\optimizer\\optimizer.py:449: UserWarning: The objective has been evaluated at this point before.\n",
            "  warnings.warn(\"The objective has been evaluated \"\n",
            "c:\\Users\\kaspr\\AppData\\Local\\Programs\\Python\\Python311\\Lib\\site-packages\\skopt\\optimizer\\optimizer.py:449: UserWarning: The objective has been evaluated at this point before.\n",
            "  warnings.warn(\"The objective has been evaluated \"\n",
            "c:\\Users\\kaspr\\AppData\\Local\\Programs\\Python\\Python311\\Lib\\site-packages\\skopt\\optimizer\\optimizer.py:449: UserWarning: The objective has been evaluated at this point before.\n",
            "  warnings.warn(\"The objective has been evaluated \"\n",
            "c:\\Users\\kaspr\\AppData\\Local\\Programs\\Python\\Python311\\Lib\\site-packages\\skopt\\optimizer\\optimizer.py:449: UserWarning: The objective has been evaluated at this point before.\n",
            "  warnings.warn(\"The objective has been evaluated \"\n",
            "c:\\Users\\kaspr\\AppData\\Local\\Programs\\Python\\Python311\\Lib\\site-packages\\skopt\\optimizer\\optimizer.py:449: UserWarning: The objective has been evaluated at this point before.\n",
            "  warnings.warn(\"The objective has been evaluated \"\n",
            "c:\\Users\\kaspr\\AppData\\Local\\Programs\\Python\\Python311\\Lib\\site-packages\\skopt\\optimizer\\optimizer.py:449: UserWarning: The objective has been evaluated at this point before.\n",
            "  warnings.warn(\"The objective has been evaluated \"\n",
            "c:\\Users\\kaspr\\AppData\\Local\\Programs\\Python\\Python311\\Lib\\site-packages\\skopt\\optimizer\\optimizer.py:449: UserWarning: The objective has been evaluated at this point before.\n",
            "  warnings.warn(\"The objective has been evaluated \"\n",
            "c:\\Users\\kaspr\\AppData\\Local\\Programs\\Python\\Python311\\Lib\\site-packages\\skopt\\optimizer\\optimizer.py:449: UserWarning: The objective has been evaluated at this point before.\n",
            "  warnings.warn(\"The objective has been evaluated \"\n",
            "c:\\Users\\kaspr\\AppData\\Local\\Programs\\Python\\Python311\\Lib\\site-packages\\skopt\\optimizer\\optimizer.py:449: UserWarning: The objective has been evaluated at this point before.\n",
            "  warnings.warn(\"The objective has been evaluated \"\n",
            "c:\\Users\\kaspr\\AppData\\Local\\Programs\\Python\\Python311\\Lib\\site-packages\\skopt\\optimizer\\optimizer.py:449: UserWarning: The objective has been evaluated at this point before.\n",
            "  warnings.warn(\"The objective has been evaluated \"\n",
            "c:\\Users\\kaspr\\AppData\\Local\\Programs\\Python\\Python311\\Lib\\site-packages\\skopt\\optimizer\\optimizer.py:449: UserWarning: The objective has been evaluated at this point before.\n",
            "  warnings.warn(\"The objective has been evaluated \"\n",
            "c:\\Users\\kaspr\\AppData\\Local\\Programs\\Python\\Python311\\Lib\\site-packages\\skopt\\optimizer\\optimizer.py:449: UserWarning: The objective has been evaluated at this point before.\n",
            "  warnings.warn(\"The objective has been evaluated \"\n",
            "c:\\Users\\kaspr\\AppData\\Local\\Programs\\Python\\Python311\\Lib\\site-packages\\skopt\\optimizer\\optimizer.py:449: UserWarning: The objective has been evaluated at this point before.\n",
            "  warnings.warn(\"The objective has been evaluated \"\n",
            "c:\\Users\\kaspr\\AppData\\Local\\Programs\\Python\\Python311\\Lib\\site-packages\\skopt\\optimizer\\optimizer.py:449: UserWarning: The objective has been evaluated at this point before.\n",
            "  warnings.warn(\"The objective has been evaluated \"\n",
            "c:\\Users\\kaspr\\AppData\\Local\\Programs\\Python\\Python311\\Lib\\site-packages\\skopt\\optimizer\\optimizer.py:449: UserWarning: The objective has been evaluated at this point before.\n",
            "  warnings.warn(\"The objective has been evaluated \"\n",
            "c:\\Users\\kaspr\\AppData\\Local\\Programs\\Python\\Python311\\Lib\\site-packages\\skopt\\optimizer\\optimizer.py:449: UserWarning: The objective has been evaluated at this point before.\n",
            "  warnings.warn(\"The objective has been evaluated \"\n",
            "c:\\Users\\kaspr\\AppData\\Local\\Programs\\Python\\Python311\\Lib\\site-packages\\skopt\\optimizer\\optimizer.py:449: UserWarning: The objective has been evaluated at this point before.\n",
            "  warnings.warn(\"The objective has been evaluated \"\n",
            "c:\\Users\\kaspr\\AppData\\Local\\Programs\\Python\\Python311\\Lib\\site-packages\\skopt\\optimizer\\optimizer.py:449: UserWarning: The objective has been evaluated at this point before.\n",
            "  warnings.warn(\"The objective has been evaluated \"\n",
            "c:\\Users\\kaspr\\AppData\\Local\\Programs\\Python\\Python311\\Lib\\site-packages\\skopt\\optimizer\\optimizer.py:449: UserWarning: The objective has been evaluated at this point before.\n",
            "  warnings.warn(\"The objective has been evaluated \"\n",
            "c:\\Users\\kaspr\\AppData\\Local\\Programs\\Python\\Python311\\Lib\\site-packages\\skopt\\optimizer\\optimizer.py:449: UserWarning: The objective has been evaluated at this point before.\n",
            "  warnings.warn(\"The objective has been evaluated \"\n",
            "c:\\Users\\kaspr\\AppData\\Local\\Programs\\Python\\Python311\\Lib\\site-packages\\skopt\\optimizer\\optimizer.py:449: UserWarning: The objective has been evaluated at this point before.\n",
            "  warnings.warn(\"The objective has been evaluated \"\n",
            "c:\\Users\\kaspr\\AppData\\Local\\Programs\\Python\\Python311\\Lib\\site-packages\\skopt\\optimizer\\optimizer.py:449: UserWarning: The objective has been evaluated at this point before.\n",
            "  warnings.warn(\"The objective has been evaluated \"\n",
            "c:\\Users\\kaspr\\AppData\\Local\\Programs\\Python\\Python311\\Lib\\site-packages\\skopt\\optimizer\\optimizer.py:449: UserWarning: The objective has been evaluated at this point before.\n",
            "  warnings.warn(\"The objective has been evaluated \"\n",
            "c:\\Users\\kaspr\\AppData\\Local\\Programs\\Python\\Python311\\Lib\\site-packages\\skopt\\optimizer\\optimizer.py:449: UserWarning: The objective has been evaluated at this point before.\n",
            "  warnings.warn(\"The objective has been evaluated \"\n",
            "c:\\Users\\kaspr\\AppData\\Local\\Programs\\Python\\Python311\\Lib\\site-packages\\skopt\\optimizer\\optimizer.py:449: UserWarning: The objective has been evaluated at this point before.\n",
            "  warnings.warn(\"The objective has been evaluated \"\n",
            "c:\\Users\\kaspr\\AppData\\Local\\Programs\\Python\\Python311\\Lib\\site-packages\\skopt\\optimizer\\optimizer.py:449: UserWarning: The objective has been evaluated at this point before.\n",
            "  warnings.warn(\"The objective has been evaluated \"\n",
            "c:\\Users\\kaspr\\AppData\\Local\\Programs\\Python\\Python311\\Lib\\site-packages\\skopt\\optimizer\\optimizer.py:449: UserWarning: The objective has been evaluated at this point before.\n",
            "  warnings.warn(\"The objective has been evaluated \"\n",
            "c:\\Users\\kaspr\\AppData\\Local\\Programs\\Python\\Python311\\Lib\\site-packages\\skopt\\optimizer\\optimizer.py:449: UserWarning: The objective has been evaluated at this point before.\n",
            "  warnings.warn(\"The objective has been evaluated \"\n",
            "c:\\Users\\kaspr\\AppData\\Local\\Programs\\Python\\Python311\\Lib\\site-packages\\skopt\\optimizer\\optimizer.py:449: UserWarning: The objective has been evaluated at this point before.\n",
            "  warnings.warn(\"The objective has been evaluated \"\n",
            "c:\\Users\\kaspr\\AppData\\Local\\Programs\\Python\\Python311\\Lib\\site-packages\\skopt\\optimizer\\optimizer.py:449: UserWarning: The objective has been evaluated at this point before.\n",
            "  warnings.warn(\"The objective has been evaluated \"\n",
            "c:\\Users\\kaspr\\AppData\\Local\\Programs\\Python\\Python311\\Lib\\site-packages\\skopt\\optimizer\\optimizer.py:449: UserWarning: The objective has been evaluated at this point before.\n",
            "  warnings.warn(\"The objective has been evaluated \"\n",
            "c:\\Users\\kaspr\\AppData\\Local\\Programs\\Python\\Python311\\Lib\\site-packages\\skopt\\optimizer\\optimizer.py:449: UserWarning: The objective has been evaluated at this point before.\n",
            "  warnings.warn(\"The objective has been evaluated \"\n"
          ]
        }
      ],
      "source": [
        "bayes_opt_rf = pd.DataFrame(columns = ['n_estimators', 'min_samples_leaf', 'min_samples_split', 'df', 'best_score'])\n",
        "bayes_optimizer_rf = {}\n",
        "df_names = {1:'df_1', 2:'df_2', 3:'df_credit', 4:'df_diabetes'}\n",
        "for i, dataset in enumerate([df_1, df_2, df_credit, df_diabetes]):\n",
        "  y = dataset['class']\n",
        "  X = dataset.drop('class', axis=1)\n",
        "\n",
        "  X_train, X_test, y_train, y_test = train_test_split(X, y,test_size=0.2)\n",
        "\n",
        "  # To compare with random search\n",
        "  num_pipeline = Pipeline(steps=[\n",
        "  ('impute', SimpleImputer(strategy='mean')),\n",
        "  ('scale',MinMaxScaler())])\n",
        "\n",
        "  cat_pipeline = Pipeline(steps=[\n",
        "      ('impute', SimpleImputer(strategy='most_frequent')),\n",
        "      ('one-hot',OneHotEncoder(handle_unknown='ignore', sparse=False))\n",
        "  ])\n",
        "\n",
        "  col_trans = ColumnTransformer(transformers=[\n",
        "  ('num_pipeline',num_pipeline, make_column_selector( dtype_include= np.number)),\n",
        "  ('cat_pipeline',cat_pipeline,make_column_selector( dtype_include= np.object_))\n",
        "  ],\n",
        "  remainder='drop',\n",
        "  n_jobs=-1)\n",
        "\n",
        "  X_trans = col_trans.fit_transform(X_train)\n",
        "  X_test_trans = col_trans.transform(X_test)\n",
        "  # for column in dataset.select_dtypes(include=['category', 'object']):\n",
        "  if y_train.dtype in ['category', 'object']:\n",
        "    df_dict={}\n",
        "    for j, e in enumerate(sorted(y_train.unique())):\n",
        "      df_dict[e] = j\n",
        "    y_trans = y_train.map(lambda s: df_dict.get(s) if s in df_dict else s)\n",
        "    y_test_trans = y_test.map(lambda s: df_dict.get(s) if s in df_dict else s)\n",
        "  else:\n",
        "    y_trans = y_train\n",
        "    y_test_trans = y_test\n",
        "\n",
        "  n = len(dataset)\n",
        "  p = len(dataset.columns)\n",
        "\n",
        "  opt = BayesSearchCV(\n",
        "    RandomForestClassifier(),\n",
        "    {\n",
        "        'n_estimators': (1, 50),\n",
        "        'min_samples_leaf': (1, p),\n",
        "        'min_samples_split': (2, n)\n",
        "    },\n",
        "    n_iter=50,\n",
        "    cv=5\n",
        "  )\n",
        "  opt.fit(X_trans, y_trans)\n",
        "  bayes_optimizer_rf[f'df{i+1}'] = np.maximum.accumulate(opt.cv_results_['mean_test_score'])\n",
        "  row = opt._optim_results[0].get('x')\n",
        "  row.append(df_names[i+1])\n",
        "  row.append(opt.best_score_)\n",
        "  row = pd.DataFrame(row).transpose()\n",
        "  row.columns = ['n_estimators', 'min_samples_leaf', 'min_samples_split', 'df', 'best_score']\n",
        "  bayes_opt_rf = pd.concat([bayes_opt_rf, row], ignore_index=True)"
      ]
    },
    {
      "cell_type": "markdown",
      "metadata": {},
      "source": [
        "### Tunability calculation"
      ]
    },
    {
      "cell_type": "markdown",
      "metadata": {},
      "source": [
        "#### Random search"
      ]
    },
    {
      "cell_type": "code",
      "execution_count": 24,
      "metadata": {},
      "outputs": [],
      "source": [
        "df_params_rf_n_est = pd.DataFrame(columns = ['n_estimators', 'min_samples_leaf', 'min_samples_split', 'df1', 'df2', 'df3', 'df4' ])\n",
        "for i in range(50):\n",
        "  params_rf_n_est = {\"n_estimators\" : random.randint(1, 2000), \"min_samples_leaf\": best_params_rf.get('min_samples_leaf'), \"min_samples_split\": best_params_rf.get('min_samples_split')}\n",
        "  iter_params = [params_rf_n_est.get('n_estimators'), params_rf_n_est.get(\"min_samples_leaf\"), params_rf_n_est.get(\"min_samples_split\")]\n",
        "\n",
        "  num_pipeline = Pipeline(steps=[\n",
        "    ('impute', SimpleImputer(strategy='mean')),\n",
        "    ('scale', MinMaxScaler())])\n",
        "\n",
        "  cat_pipeline = Pipeline(steps=[\n",
        "      ('impute', SimpleImputer(strategy='most_frequent')),\n",
        "      ('one-hot',OneHotEncoder(handle_unknown='ignore', sparse=False))\n",
        "  ])\n",
        "\n",
        "  col_trans = ColumnTransformer(transformers=[\n",
        "  ('num_pipeline',num_pipeline, make_column_selector( dtype_include= np.number)),\n",
        "  ('cat_pipeline',cat_pipeline,make_column_selector( dtype_include= np.object_))\n",
        "  ],\n",
        "  remainder='drop',\n",
        "  n_jobs=-1)\n",
        "\n",
        "  mean_accuracies = []\n",
        "  for i, dataset in enumerate([df_1, df_2, df_credit, df_diabetes]):\n",
        "    estimator = RandomForestClassifier(n_estimators = iter_params[0],\n",
        "                                       min_samples_leaf = math.ceil(iter_params[1] * len(dataset.columns)),\n",
        "                                       min_samples_split = math.ceil(len(dataset) ** iter_params[2]))\n",
        "    y = dataset['class']\n",
        "    X = dataset.drop('class', axis=1)\n",
        "\n",
        "    X_train, X_test, y_train, y_test = train_test_split(X, y,test_size=0.2)\n",
        "\n",
        "    X_trans = col_trans.fit_transform(X_train)\n",
        "    X_test_trains = col_trans.transform(X_test)\n",
        "    if y_train.dtype in ['category', 'object']:\n",
        "      df_dict={}\n",
        "      for j, e in enumerate(sorted(y_train.unique())):\n",
        "        df_dict[e] = j\n",
        "      y_trans = y_train.map(lambda s: df_dict.get(s) if s in df_dict else s)\n",
        "      y_test_trans = y_test.map(lambda s: df_dict.get(s) if s in df_dict else s)\n",
        "    else:\n",
        "      y_trans = y_train\n",
        "      y_test_trans = y_test\n",
        "    kf = KFold(n_splits=5)\n",
        "    accuracy = 0\n",
        "    for train_index, test_index in kf.split(X_trans):\n",
        "      y_train, y_test = np.take(y_trans, train_index), np.take(y_trans, test_index)\n",
        "      X_train, X_test = X_trans[train_index, :], X_trans[test_index, :]\n",
        "      estimator.fit(X_train, y_train)\n",
        "      y_pred = estimator.predict(X_test)\n",
        "      accuracy += metrics.accuracy_score(y_test, y_pred)\n",
        "    mean_accuracy = accuracy/10\n",
        "    mean_accuracies.append(mean_accuracy)\n",
        "  params_rf_n_est['df1'] = mean_accuracies[0]\n",
        "  params_rf_n_est['df2'] = mean_accuracies[1]\n",
        "  params_rf_n_est['df3'] = mean_accuracies[2]\n",
        "  params_rf_n_est['df4'] = mean_accuracies[3]\n",
        "\n",
        "  row = pd.DataFrame([params_rf_n_est])\n",
        "  df_params_rf_n_est = pd.concat([df_params_rf_n_est, row], ignore_index=True)\n",
        "  df_params_rf_n_est['mean_score'] = (df_params_rf_n_est['df1'] + df_params_rf_n_est['df2'] + df_params_rf_n_est['df3'] + df_params_rf_n_est['df4']) / 4"
      ]
    },
    {
      "cell_type": "code",
      "execution_count": 25,
      "metadata": {},
      "outputs": [],
      "source": [
        "# df_params_rf_n_est.to_csv('df_params_rf_n_est.csv')"
      ]
    },
    {
      "cell_type": "code",
      "execution_count": 39,
      "metadata": {},
      "outputs": [],
      "source": [
        "df_params_rf_msl = pd.DataFrame(columns = ['n_estimators', 'min_samples_leaf', 'min_samples_split', 'df1', 'df2', 'df3', 'df4' ])\n",
        "for i in range(50):\n",
        "  params_rf_msl = {\"n_estimators\" : best_params_rf.get('n_estimators'), \"min_samples_leaf\": random.random(), \"min_samples_split\": best_params_rf.get('min_samples_split')}\n",
        "  iter_params = [params_rf_msl.get('n_estimators'), params_rf_msl.get('min_samples_leaf'), params_rf_msl.get(\"min_samples_split\")]\n",
        "  num_pipeline = Pipeline(steps=[\n",
        "    ('impute', SimpleImputer(strategy='mean')),\n",
        "    ('scale', MinMaxScaler())])\n",
        "\n",
        "  cat_pipeline = Pipeline(steps=[\n",
        "      ('impute', SimpleImputer(strategy='most_frequent')),\n",
        "      ('one-hot',OneHotEncoder(handle_unknown='ignore', sparse=False))\n",
        "  ])\n",
        "\n",
        "  col_trans = ColumnTransformer(transformers=[\n",
        "  ('num_pipeline',num_pipeline, make_column_selector( dtype_include= np.number)),\n",
        "  ('cat_pipeline',cat_pipeline,make_column_selector( dtype_include= np.object_))\n",
        "  ],\n",
        "  remainder='drop',\n",
        "  n_jobs=-1)\n",
        "\n",
        "  mean_accuracies = []\n",
        "  for i, dataset in enumerate([df_1, df_2, df_credit, df_diabetes]):\n",
        "    estimator = RandomForestClassifier(n_estimators = int(iter_params[0]),\n",
        "                                       min_samples_leaf = math.ceil(iter_params[1] * len(dataset.columns)),\n",
        "                                       min_samples_split = math.ceil(len(dataset) ** iter_params[2]))\n",
        "    y = dataset['class']\n",
        "    X = dataset.drop('class', axis=1)\n",
        "\n",
        "    X_train, X_test, y_train, y_test = train_test_split(X, y,test_size=0.2)\n",
        "\n",
        "    X_trans = col_trans.fit_transform(X_train)\n",
        "    X_test_trains = col_trans.transform(X_test)\n",
        "    if y_train.dtype in ['category', 'object']:\n",
        "      df_dict={}\n",
        "      for j, e in enumerate(sorted(y_train.unique())):\n",
        "        df_dict[e] = j\n",
        "      y_trans = y_train.map(lambda s: df_dict.get(s) if s in df_dict else s)\n",
        "      y_test_trans = y_test.map(lambda s: df_dict.get(s) if s in df_dict else s)\n",
        "    else:\n",
        "      y_trans = y_train\n",
        "      y_test_trans = y_test\n",
        "\n",
        "    kf = KFold(n_splits=5)\n",
        "    accuracy = 0\n",
        "    for train_index, test_index in kf.split(X_trans):\n",
        "      y_train, y_test = np.take(y_trans, train_index), np.take(y_trans, test_index)\n",
        "      X_train, X_test = X_trans[train_index, :], X_trans[test_index, :]\n",
        "      estimator.fit(X_train, y_train)\n",
        "      y_pred = estimator.predict(X_test)\n",
        "      accuracy += metrics.accuracy_score(y_test, y_pred)\n",
        "    mean_accuracy = accuracy/10\n",
        "    mean_accuracies.append(mean_accuracy)\n",
        "  params_rf_msl['df1'] = mean_accuracies[0]\n",
        "  params_rf_msl['df2'] = mean_accuracies[1]\n",
        "  params_rf_msl['df3'] = mean_accuracies[2]\n",
        "  params_rf_msl['df4'] = mean_accuracies[3]\n",
        "\n",
        "  row = pd.DataFrame([params_rf_msl])\n",
        "  df_params_rf_msl = pd.concat([df_params_rf_msl, row], ignore_index=True)\n",
        "  df_params_rf_msl['mean_score'] = (df_params_rf_msl['df1'] + df_params_rf_msl['df2'] + df_params_rf_msl['df3'] + df_params_rf_msl['df4']) / 4"
      ]
    },
    {
      "cell_type": "code",
      "execution_count": 40,
      "metadata": {},
      "outputs": [],
      "source": [
        "# df_params_rf_msl.to_csv('df_params_rf_msl.csv')"
      ]
    },
    {
      "cell_type": "code",
      "execution_count": 42,
      "metadata": {},
      "outputs": [],
      "source": [
        "df_params_rf_mss = pd.DataFrame(columns = ['n_estimators', 'min_samples_leaf', 'min_samples_split', 'df1', 'df2', 'df3', 'df4' ])\n",
        "for i in range(50):\n",
        "  params_rf_mss = {\"n_estimators\" : best_params_rf.get('n_estimators'), \"min_samples_leaf\": best_params_rf.get('min_samples_leaf'), \"min_samples_split\": random.random()}\n",
        "  iter_params = [params_rf_mss.get('n_estimators'), params_rf_mss.get(\"min_samples_leaf\"), params_rf_mss.get(\"min_samples_split\")]\n",
        "\n",
        "  num_pipeline = Pipeline(steps=[\n",
        "    ('impute', SimpleImputer(strategy='mean')),\n",
        "    ('scale', MinMaxScaler())])\n",
        "\n",
        "  cat_pipeline = Pipeline(steps=[\n",
        "      ('impute', SimpleImputer(strategy='most_frequent')),\n",
        "      ('one-hot',OneHotEncoder(handle_unknown='ignore', sparse=False))\n",
        "  ])\n",
        "\n",
        "  col_trans = ColumnTransformer(transformers=[\n",
        "  ('num_pipeline',num_pipeline, make_column_selector( dtype_include= np.number)),\n",
        "  ('cat_pipeline',cat_pipeline,make_column_selector( dtype_include= np.object_))\n",
        "  ],\n",
        "  remainder='drop',\n",
        "  n_jobs=-1)\n",
        "\n",
        "  mean_accuracies = []\n",
        "  for i, dataset in enumerate([df_1, df_2, df_credit, df_diabetes]):\n",
        "    estimator = RandomForestClassifier(n_estimators = int(iter_params[0]),\n",
        "                                       min_samples_leaf = math.ceil(iter_params[1] * len(dataset.columns)),\n",
        "                                       min_samples_split = math.ceil(len(dataset) ** iter_params[2]))\n",
        "    y = dataset['class']\n",
        "    X = dataset.drop('class', axis=1)\n",
        "\n",
        "    X_train, X_test, y_train, y_test = train_test_split(X, y,test_size=0.2)\n",
        "\n",
        "    X_trans = col_trans.fit_transform(X_train)\n",
        "    X_test_trains = col_trans.transform(X_test)\n",
        "    if y_train.dtype in ['category', 'object']:\n",
        "      df_dict={}\n",
        "      for j, e in enumerate(sorted(y_train.unique())):\n",
        "        df_dict[e] = j\n",
        "      y_trans = y_train.map(lambda s: df_dict.get(s) if s in df_dict else s)\n",
        "      y_test_trans = y_test.map(lambda s: df_dict.get(s) if s in df_dict else s)\n",
        "    else:\n",
        "      y_trans = y_train\n",
        "      y_test_trans = y_test\n",
        "    kf = KFold(n_splits=5)\n",
        "    accuracy = 0\n",
        "    for train_index, test_index in kf.split(X_trans):\n",
        "      y_train, y_test = np.take(y_trans, train_index), np.take(y_trans, test_index)\n",
        "      X_train, X_test = X_trans[train_index, :], X_trans[test_index, :]\n",
        "      estimator.fit(X_train, y_train)\n",
        "      y_pred = estimator.predict(X_test)\n",
        "      accuracy += metrics.accuracy_score(y_test, y_pred)\n",
        "    mean_accuracy = accuracy/10\n",
        "    mean_accuracies.append(mean_accuracy)\n",
        "  params_rf_mss['df1'] = mean_accuracies[0]\n",
        "  params_rf_mss['df2'] = mean_accuracies[1]\n",
        "  params_rf_mss['df3'] = mean_accuracies[2]\n",
        "  params_rf_mss['df4'] = mean_accuracies[3]\n",
        "\n",
        "  row = pd.DataFrame([params_rf_mss])\n",
        "  df_params_rf_mss = pd.concat([df_params_rf_mss, row], ignore_index=True)\n",
        "  df_params_rf_mss['mean_score'] = (df_params_rf_mss['df1'] + df_params_rf_mss['df2'] + df_params_rf_mss['df3'] + df_params_rf_mss['df4']) / 4"
      ]
    },
    {
      "cell_type": "code",
      "execution_count": 43,
      "metadata": {},
      "outputs": [],
      "source": [
        "# df_params_rf_mss.to_csv('df_params_rf_mss.csv')"
      ]
    },
    {
      "cell_type": "code",
      "execution_count": 49,
      "metadata": {
        "colab": {
          "base_uri": "https://localhost:8080/",
          "height": 175
        },
        "id": "4jHqeow7Vex4",
        "outputId": "57c293d7-d9d7-4532-8ef7-6b83dc53d7b8"
      },
      "outputs": [],
      "source": [
        "# bayes_opt_rf.to_csv('bayes_opt_rf.csv', index=False)"
      ]
    },
    {
      "cell_type": "code",
      "execution_count": 50,
      "metadata": {},
      "outputs": [],
      "source": [
        "# with open('bayes_optimizer_rf.pkl', 'wb') as fp:\n",
        "#     pickle.dump(bayes_optimizer_rf, fp)"
      ]
    },
    {
      "cell_type": "code",
      "execution_count": 179,
      "metadata": {},
      "outputs": [],
      "source": [
        "with open('bayes_optimizer_rf.pkl', 'rb') as fp:\n",
        "    bayes_optimizer_rf = pickle.load(fp)"
      ]
    },
    {
      "cell_type": "code",
      "execution_count": 186,
      "metadata": {},
      "outputs": [
        {
          "data": {
            "text/html": [
              "<div>\n",
              "<style scoped>\n",
              "    .dataframe tbody tr th:only-of-type {\n",
              "        vertical-align: middle;\n",
              "    }\n",
              "\n",
              "    .dataframe tbody tr th {\n",
              "        vertical-align: top;\n",
              "    }\n",
              "\n",
              "    .dataframe thead th {\n",
              "        text-align: right;\n",
              "    }\n",
              "</style>\n",
              "<table border=\"1\" class=\"dataframe\">\n",
              "  <thead>\n",
              "    <tr style=\"text-align: right;\">\n",
              "      <th></th>\n",
              "      <th>n_estimators</th>\n",
              "      <th>min_samples_leaf</th>\n",
              "      <th>min_samples_split</th>\n",
              "      <th>df</th>\n",
              "      <th>best_score</th>\n",
              "    </tr>\n",
              "  </thead>\n",
              "  <tbody>\n",
              "    <tr>\n",
              "      <th>0</th>\n",
              "      <td>1</td>\n",
              "      <td>2</td>\n",
              "      <td>50</td>\n",
              "      <td>df_1</td>\n",
              "      <td>0.994847</td>\n",
              "    </tr>\n",
              "    <tr>\n",
              "      <th>1</th>\n",
              "      <td>1</td>\n",
              "      <td>2</td>\n",
              "      <td>50</td>\n",
              "      <td>df_2</td>\n",
              "      <td>0.980418</td>\n",
              "    </tr>\n",
              "    <tr>\n",
              "      <th>2</th>\n",
              "      <td>3</td>\n",
              "      <td>2</td>\n",
              "      <td>50</td>\n",
              "      <td>df_credit</td>\n",
              "      <td>0.75125</td>\n",
              "    </tr>\n",
              "    <tr>\n",
              "      <th>3</th>\n",
              "      <td>9</td>\n",
              "      <td>66</td>\n",
              "      <td>40</td>\n",
              "      <td>df_diabetes</td>\n",
              "      <td>0.780128</td>\n",
              "    </tr>\n",
              "  </tbody>\n",
              "</table>\n",
              "</div>"
            ],
            "text/plain": [
              "  n_estimators min_samples_leaf min_samples_split           df best_score\n",
              "0            1                2                50         df_1   0.994847\n",
              "1            1                2                50         df_2   0.980418\n",
              "2            3                2                50    df_credit    0.75125\n",
              "3            9               66                40  df_diabetes   0.780128"
            ]
          },
          "execution_count": 186,
          "metadata": {},
          "output_type": "execute_result"
        }
      ],
      "source": [
        "bayes_opt_rf"
      ]
    },
    {
      "cell_type": "markdown",
      "metadata": {},
      "source": [
        "#### Bayesian optimization"
      ]
    },
    {
      "cell_type": "code",
      "execution_count": 195,
      "metadata": {},
      "outputs": [
        {
          "data": {
            "text/plain": [
              "2"
            ]
          },
          "execution_count": 195,
          "metadata": {},
          "output_type": "execute_result"
        }
      ],
      "source": [
        "bayes_opt_rf[bayes_opt_rf['df'] == df_names[1]]['min_samples_leaf'][0]"
      ]
    },
    {
      "cell_type": "code",
      "execution_count": 198,
      "metadata": {},
      "outputs": [],
      "source": [
        "df_params_rf_n_est_bo = pd.DataFrame(columns = ['n_estimators', 'min_samples_leaf', 'min_samples_split', 'df1', 'df2', 'df3', 'df4' ])\n",
        "df_names = {1:'df_1', 2:'df_2', 3:'df_credit', 4:'df_diabetes'}\n",
        "for n in range(30):\n",
        "  num_pipeline = Pipeline(steps=[\n",
        "    ('impute', SimpleImputer(strategy='mean')),\n",
        "    ('scale', MinMaxScaler())])\n",
        "\n",
        "  cat_pipeline = Pipeline(steps=[\n",
        "      ('impute', SimpleImputer(strategy='most_frequent')),\n",
        "      ('one-hot', OneHotEncoder(handle_unknown='ignore', sparse=False))\n",
        "  ])\n",
        "\n",
        "  col_trans = ColumnTransformer(transformers=[\n",
        "  ('num_pipeline', num_pipeline, make_column_selector( dtype_include= np.number)),\n",
        "  ('cat_pipeline', cat_pipeline,make_column_selector( dtype_include= np.object_))\n",
        "  ],\n",
        "  remainder='drop',\n",
        "  n_jobs=-1)\n",
        "\n",
        "  mean_accuracies = []\n",
        "  for i, dataset in enumerate([df_1, df_2, df_credit, df_diabetes]):\n",
        "    params_rf_n_est_bo = {\"n_estimators\" : random.randint(1, 2000), \n",
        "                          \"min_samples_leaf\": bayes_opt_rf[bayes_opt_rf['df'] == df_names[i+1]]['min_samples_leaf'][i], \n",
        "                          \"min_samples_split\": bayes_opt_rf[bayes_opt_rf['df'] == df_names[i+1]]['min_samples_split'][i]}\n",
        "    iter_params = [params_rf_n_est_bo.get('n_estimators'), \n",
        "                  params_rf_n_est_bo.get(\"min_samples_leaf\"), \n",
        "                  params_rf_n_est_bo.get(\"min_samples_split\")]\n",
        "\n",
        "    estimator = RandomForestClassifier(n_estimators = iter_params[0],\n",
        "                                       min_samples_leaf = iter_params[1],\n",
        "                                       min_samples_split = iter_params[2])\n",
        "    y = dataset['class']\n",
        "    X = dataset.drop('class', axis=1)\n",
        "\n",
        "    X_train, X_test, y_train, y_test = train_test_split(X, y,test_size=0.2)\n",
        "\n",
        "    X_trans = col_trans.fit_transform(X_train)\n",
        "    X_test_trains = col_trans.transform(X_test)\n",
        "    if y_train.dtype in ['category', 'object']:\n",
        "      df_dict={}\n",
        "      for j, e in enumerate(sorted(y_train.unique())):\n",
        "        df_dict[e] = j\n",
        "      y_trans = y_train.map(lambda s: df_dict.get(s) if s in df_dict else s)\n",
        "      y_test_trans = y_test.map(lambda s: df_dict.get(s) if s in df_dict else s)\n",
        "    else:\n",
        "      y_trans = y_train\n",
        "      y_test_trans = y_test\n",
        "    kf = KFold(n_splits=5)\n",
        "    accuracy = 0\n",
        "    for train_index, test_index in kf.split(X_trans):\n",
        "      y_train, y_test = np.take(y_trans, train_index), np.take(y_trans, test_index)\n",
        "      X_train, X_test = X_trans[train_index, :], X_trans[test_index, :]\n",
        "      estimator.fit(X_train, y_train)\n",
        "      y_pred = estimator.predict(X_test)\n",
        "      accuracy += metrics.accuracy_score(y_test, y_pred)\n",
        "    mean_accuracy = accuracy/10\n",
        "    mean_accuracies.append(mean_accuracy)\n",
        "  params_rf_n_est_bo['df1'] = mean_accuracies[0]\n",
        "  params_rf_n_est_bo['df2'] = mean_accuracies[1]\n",
        "  params_rf_n_est_bo['df3'] = mean_accuracies[2]\n",
        "  params_rf_n_est_bo['df4'] = mean_accuracies[3]\n",
        "\n",
        "  row = pd.DataFrame([params_rf_n_est_bo])\n",
        "  df_params_rf_n_est_bo = pd.concat([df_params_rf_n_est_bo, row], ignore_index=True)\n",
        "  df_params_rf_n_est_bo['mean_score'] = (df_params_rf_n_est_bo['df1'] + df_params_rf_n_est_bo['df2'] + df_params_rf_n_est_bo['df3'] + df_params_rf_n_est_bo['df4']) / 4"
      ]
    },
    {
      "cell_type": "code",
      "execution_count": 199,
      "metadata": {},
      "outputs": [],
      "source": [
        "df_params_rf_msl_bo = pd.DataFrame(columns = ['n_estimators', 'min_samples_leaf', 'min_samples_split', 'df1', 'df2', 'df3', 'df4' ])\n",
        "df_names = {1:'df_1', 2:'df_2', 3:'df_credit', 4:'df_diabetes'}\n",
        "for n in range(30):\n",
        "  num_pipeline = Pipeline(steps=[\n",
        "    ('impute', SimpleImputer(strategy='mean')),\n",
        "    ('scale', MinMaxScaler())])\n",
        "\n",
        "  cat_pipeline = Pipeline(steps=[\n",
        "      ('impute', SimpleImputer(strategy='most_frequent')),\n",
        "      ('one-hot', OneHotEncoder(handle_unknown='ignore', sparse=False))\n",
        "  ])\n",
        "\n",
        "  col_trans = ColumnTransformer(transformers=[\n",
        "  ('num_pipeline', num_pipeline, make_column_selector( dtype_include= np.number)),\n",
        "  ('cat_pipeline', cat_pipeline,make_column_selector( dtype_include= np.object_))\n",
        "  ],\n",
        "  remainder='drop',\n",
        "  n_jobs=-1)\n",
        "\n",
        "  mean_accuracies = []\n",
        "  for i, dataset in enumerate([df_1, df_2, df_credit, df_diabetes]):\n",
        "    params_rf_msl_bo = {\"n_estimators\" : bayes_opt_rf[bayes_opt_rf['df'] == df_names[i+1]]['n_estimators'][i], \n",
        "                          \"min_samples_leaf\": random.randint(1, len(dataset.columns)), \n",
        "                          \"min_samples_split\": bayes_opt_rf[bayes_opt_rf['df'] == df_names[i+1]]['min_samples_split'][i]}\n",
        "    iter_params = [params_rf_msl_bo.get('n_estimators'), \n",
        "                  params_rf_msl_bo.get(\"min_samples_leaf\"), \n",
        "                  params_rf_msl_bo.get(\"min_samples_split\")]\n",
        "\n",
        "    estimator = RandomForestClassifier(n_estimators = iter_params[0],\n",
        "                                       min_samples_leaf = iter_params[1],\n",
        "                                       min_samples_split = iter_params[2])\n",
        "    y = dataset['class']\n",
        "    X = dataset.drop('class', axis=1)\n",
        "\n",
        "    X_train, X_test, y_train, y_test = train_test_split(X, y,test_size=0.2)\n",
        "\n",
        "    X_trans = col_trans.fit_transform(X_train)\n",
        "    X_test_trains = col_trans.transform(X_test)\n",
        "    if y_train.dtype in ['category', 'object']:\n",
        "      df_dict={}\n",
        "      for j, e in enumerate(sorted(y_train.unique())):\n",
        "        df_dict[e] = j\n",
        "      y_trans = y_train.map(lambda s: df_dict.get(s) if s in df_dict else s)\n",
        "      y_test_trans = y_test.map(lambda s: df_dict.get(s) if s in df_dict else s)\n",
        "    else:\n",
        "      y_trans = y_train\n",
        "      y_test_trans = y_test\n",
        "    kf = KFold(n_splits=5)\n",
        "    accuracy = 0\n",
        "    for train_index, test_index in kf.split(X_trans):\n",
        "      y_train, y_test = np.take(y_trans, train_index), np.take(y_trans, test_index)\n",
        "      X_train, X_test = X_trans[train_index, :], X_trans[test_index, :]\n",
        "      estimator.fit(X_train, y_train)\n",
        "      y_pred = estimator.predict(X_test)\n",
        "      accuracy += metrics.accuracy_score(y_test, y_pred)\n",
        "    mean_accuracy = accuracy/10\n",
        "    mean_accuracies.append(mean_accuracy)\n",
        "  params_rf_msl_bo['df1'] = mean_accuracies[0]\n",
        "  params_rf_msl_bo['df2'] = mean_accuracies[1]\n",
        "  params_rf_msl_bo['df3'] = mean_accuracies[2]\n",
        "  params_rf_msl_bo['df4'] = mean_accuracies[3]\n",
        "\n",
        "  row = pd.DataFrame([params_rf_msl_bo])\n",
        "  df_params_rf_msl_bo = pd.concat([df_params_rf_msl_bo, row], ignore_index=True)\n",
        "  df_params_rf_msl_bo['mean_score'] = (df_params_rf_msl_bo['df1'] + df_params_rf_msl_bo['df2'] + df_params_rf_msl_bo['df3'] + df_params_rf_msl_bo['df4']) / 4"
      ]
    },
    {
      "cell_type": "code",
      "execution_count": 200,
      "metadata": {},
      "outputs": [],
      "source": [
        "df_params_rf_mss_bo = pd.DataFrame(columns = ['n_estimators', 'min_samples_leaf', 'min_samples_split', 'df1', 'df2', 'df3', 'df4' ])\n",
        "df_names = {1:'df_1', 2:'df_2', 3:'df_credit', 4:'df_diabetes'}\n",
        "for n in range(30):\n",
        "  num_pipeline = Pipeline(steps=[\n",
        "    ('impute', SimpleImputer(strategy='mean')),\n",
        "    ('scale', MinMaxScaler())])\n",
        "\n",
        "  cat_pipeline = Pipeline(steps=[\n",
        "      ('impute', SimpleImputer(strategy='most_frequent')),\n",
        "      ('one-hot', OneHotEncoder(handle_unknown='ignore', sparse=False))\n",
        "  ])\n",
        "\n",
        "  col_trans = ColumnTransformer(transformers=[\n",
        "  ('num_pipeline', num_pipeline, make_column_selector( dtype_include= np.number)),\n",
        "  ('cat_pipeline', cat_pipeline,make_column_selector( dtype_include= np.object_))\n",
        "  ],\n",
        "  remainder='drop',\n",
        "  n_jobs=-1)\n",
        "\n",
        "  mean_accuracies = []\n",
        "  for i, dataset in enumerate([df_1, df_2, df_credit, df_diabetes]):\n",
        "    params_rf_mss_bo = {\"n_estimators\" : bayes_opt_rf[bayes_opt_rf['df'] == df_names[i+1]]['n_estimators'][i], \n",
        "                          \"min_samples_leaf\": bayes_opt_rf[bayes_opt_rf['df'] == df_names[i+1]]['min_samples_leaf'][i], \n",
        "                          \"min_samples_split\": random.randint(2, len(dataset))}\n",
        "    iter_params = [params_rf_mss_bo.get('n_estimators'), \n",
        "                  params_rf_mss_bo.get(\"min_samples_leaf\"), \n",
        "                  params_rf_mss_bo.get(\"min_samples_split\")]\n",
        "\n",
        "    estimator = RandomForestClassifier(n_estimators = iter_params[0],\n",
        "                                       min_samples_leaf = iter_params[1],\n",
        "                                       min_samples_split = iter_params[2])\n",
        "    y = dataset['class']\n",
        "    X = dataset.drop('class', axis=1)\n",
        "\n",
        "    X_train, X_test, y_train, y_test = train_test_split(X, y,test_size=0.2)\n",
        "\n",
        "    X_trans = col_trans.fit_transform(X_train)\n",
        "    X_test_trains = col_trans.transform(X_test)\n",
        "    if y_train.dtype in ['category', 'object']:\n",
        "      df_dict={}\n",
        "      for j, e in enumerate(sorted(y_train.unique())):\n",
        "        df_dict[e] = j\n",
        "      y_trans = y_train.map(lambda s: df_dict.get(s) if s in df_dict else s)\n",
        "      y_test_trans = y_test.map(lambda s: df_dict.get(s) if s in df_dict else s)\n",
        "    else:\n",
        "      y_trans = y_train\n",
        "      y_test_trans = y_test\n",
        "    kf = KFold(n_splits=5)\n",
        "    accuracy = 0\n",
        "    for train_index, test_index in kf.split(X_trans):\n",
        "      y_train, y_test = np.take(y_trans, train_index), np.take(y_trans, test_index)\n",
        "      X_train, X_test = X_trans[train_index, :], X_trans[test_index, :]\n",
        "      estimator.fit(X_train, y_train)\n",
        "      y_pred = estimator.predict(X_test)\n",
        "      accuracy += metrics.accuracy_score(y_test, y_pred)\n",
        "    mean_accuracy = accuracy/10\n",
        "    mean_accuracies.append(mean_accuracy)\n",
        "  params_rf_mss_bo['df1'] = mean_accuracies[0]\n",
        "  params_rf_mss_bo['df2'] = mean_accuracies[1]\n",
        "  params_rf_mss_bo['df3'] = mean_accuracies[2]\n",
        "  params_rf_mss_bo['df4'] = mean_accuracies[3]\n",
        "\n",
        "  row = pd.DataFrame([params_rf_mss_bo])\n",
        "  df_params_rf_mss_bo = pd.concat([df_params_rf_mss_bo, row], ignore_index=True)\n",
        "  df_params_rf_mss_bo['mean_score'] = (df_params_rf_mss_bo['df1'] + df_params_rf_mss_bo['df2'] + df_params_rf_mss_bo['df3'] + df_params_rf_mss_bo['df4']) / 4"
      ]
    },
    {
      "cell_type": "code",
      "execution_count": 181,
      "metadata": {},
      "outputs": [
        {
          "name": "stdout",
          "output_type": "stream",
          "text": [
            "Random search accuracy = 0.50\n",
            "Bayesian optimization accuracy = 0.99\n"
          ]
        },
        {
          "data": {
            "text/plain": [
              "<matplotlib.legend.Legend at 0x1ed27912c10>"
            ]
          },
          "execution_count": 181,
          "metadata": {},
          "output_type": "execute_result"
        },
        {
          "data": {
            "image/png": "[encoded data removed]",
            "text/plain": [
              "<Figure size 640x480 with 1 Axes>"
            ]
          },
          "metadata": {},
          "output_type": "display_data"
        }
      ],
      "source": [
        "y_rs = np.maximum.accumulate(df_params_rf['df1']).ravel()\n",
        "y_bo = bayes_optimizer_rf.get('df1')\n",
        "print(f'Random search accuracy = {y_rs[-1]:.2f}')\n",
        "print(f'Bayesian optimization accuracy = {y_bo[-1]:.2f}')\n",
        "\n",
        "plt.plot(y_rs, 'ro-', label='Random search')\n",
        "plt.plot(y_bo, 'bo-', label='Bayesian optimization')\n",
        "plt.xlabel('Iteration')\n",
        "plt.ylabel('Accuracy')\n",
        "# plt.ylim(-5000, -3000)\n",
        "plt.title('Random forest, dataset df_1')\n",
        "plt.legend()"
      ]
    },
    {
      "cell_type": "code",
      "execution_count": 182,
      "metadata": {},
      "outputs": [
        {
          "name": "stdout",
          "output_type": "stream",
          "text": [
            "Random search accuracy = 0.49\n",
            "Bayesian optimization accuracy = 0.98\n"
          ]
        },
        {
          "data": {
            "text/plain": [
              "<matplotlib.legend.Legend at 0x1ed27bde2d0>"
            ]
          },
          "execution_count": 182,
          "metadata": {},
          "output_type": "execute_result"
        },
        {
          "data": {
            "image/png": "[encoded data removed]",
            "text/plain": [
              "<Figure size 640x480 with 1 Axes>"
            ]
          },
          "metadata": {},
          "output_type": "display_data"
        }
      ],
      "source": [
        "y_rs = np.maximum.accumulate(df_params_rf['df2']).ravel()\n",
        "y_bo = bayes_optimizer_rf.get('df2')\n",
        "print(f'Random search accuracy = {y_rs[-1]:.2f}')\n",
        "print(f'Bayesian optimization accuracy = {y_bo[-1]:.2f}')\n",
        "\n",
        "plt.plot(y_rs, 'ro-', label='Random search')\n",
        "plt.plot(y_bo, 'bo-', label='Bayesian optimization')\n",
        "plt.xlabel('Iteration')\n",
        "plt.ylabel('Accuracy')\n",
        "# plt.ylim(-5000, -3000)\n",
        "plt.title('Random forest, dataset df_2')\n",
        "plt.legend()"
      ]
    },
    {
      "cell_type": "code",
      "execution_count": 183,
      "metadata": {},
      "outputs": [
        {
          "name": "stdout",
          "output_type": "stream",
          "text": [
            "Random search accuracy = 0.38\n",
            "Bayesian optimization accuracy = 0.75\n"
          ]
        },
        {
          "data": {
            "text/plain": [
              "<matplotlib.legend.Legend at 0x1ed27c55850>"
            ]
          },
          "execution_count": 183,
          "metadata": {},
          "output_type": "execute_result"
        },
        {
          "data": {
            "image/png": "[encoded data removed]",
            "text/plain": [
              "<Figure size 640x480 with 1 Axes>"
            ]
          },
          "metadata": {},
          "output_type": "display_data"
        }
      ],
      "source": [
        "y_rs = np.maximum.accumulate(df_params_rf['df3']).ravel()\n",
        "y_bo = bayes_optimizer_rf.get('df3')\n",
        "print(f'Random search accuracy = {y_rs[-1]:.2f}')\n",
        "print(f'Bayesian optimization accuracy = {y_bo[-1]:.2f}')\n",
        "\n",
        "plt.plot(y_rs, 'ro-', label='Random search')\n",
        "plt.plot(y_bo, 'bo-', label='Bayesian optimization')\n",
        "plt.xlabel('Iteration')\n",
        "plt.ylabel('Accuracy')\n",
        "# plt.ylim(-5000, -3000)\n",
        "plt.title('Random forest, dataset df_credit')\n",
        "plt.legend()"
      ]
    },
    {
      "cell_type": "code",
      "execution_count": 184,
      "metadata": {},
      "outputs": [
        {
          "name": "stdout",
          "output_type": "stream",
          "text": [
            "Random search accuracy = 0.40\n",
            "Bayesian optimization accuracy = 0.78\n"
          ]
        },
        {
          "data": {
            "text/plain": [
              "<matplotlib.legend.Legend at 0x1ed27e6aa50>"
            ]
          },
          "execution_count": 184,
          "metadata": {},
          "output_type": "execute_result"
        },
        {
          "data": {
            "image/png": "[encoded data removed]",
            "text/plain": [
              "<Figure size 640x480 with 1 Axes>"
            ]
          },
          "metadata": {},
          "output_type": "display_data"
        }
      ],
      "source": [
        "y_rs = np.maximum.accumulate(df_params_rf['df4']).ravel()\n",
        "y_bo = bayes_optimizer_rf.get('df4')\n",
        "print(f'Random search accuracy = {y_rs[-1]:.2f}')\n",
        "print(f'Bayesian optimization accuracy = {y_bo[-1]:.2f}')\n",
        "\n",
        "plt.plot(y_rs, 'ro-', label='Random search')\n",
        "plt.plot(y_bo, 'bo-', label='Bayesian optimization')\n",
        "plt.xlabel('Iteration')\n",
        "plt.ylabel('Accuracy')\n",
        "# plt.ylim(-5000, -3000)\n",
        "plt.title('Random forest, dataset df_diabetes')\n",
        "plt.legend()"
      ]
    },
    {
      "cell_type": "markdown",
      "metadata": {},
      "source": [
        "#### Calculating tunability"
      ]
    },
    {
      "cell_type": "markdown",
      "metadata": {},
      "source": [
        "##### Random search"
      ]
    },
    {
      "cell_type": "code",
      "execution_count": 58,
      "metadata": {},
      "outputs": [],
      "source": [
        "best_scores_default_rf = {\n",
        "    'df1' : float(max(df_params_rf.loc[df_params_rf.mean_score == max(df_params_rf.mean_score)]['df1'])),\n",
        "    'df2' : float(df_params_rf.loc[df_params_rf.mean_score == max(df_params_rf.mean_score)]['df2']),\n",
        "    'df3' : float(df_params_rf.loc[df_params_rf.mean_score == max(df_params_rf.mean_score)]['df3']),\n",
        "    'df4' : float(df_params_rf.loc[df_params_rf.mean_score == max(df_params_rf.mean_score)]['df4']),\n",
        "}"
      ]
    },
    {
      "cell_type": "code",
      "execution_count": 61,
      "metadata": {},
      "outputs": [],
      "source": [
        "best_scores_rf_n_estimators = {\n",
        "    'df1' : float(max(df_params_rf_n_est.loc[df_params_rf_n_est.df1 == max(df_params_rf_n_est.df1)]['df1'])),\n",
        "    'df2' : float(df_params_rf_n_est.loc[df_params_rf_n_est.df2 == max(df_params_rf_n_est.df2)]['df2']),\n",
        "    'df3' : float(df_params_rf_n_est.loc[df_params_rf_n_est.df3 == max(df_params_rf_n_est.df3)]['df3']),\n",
        "    'df4' : float(df_params_rf_n_est.loc[df_params_rf_n_est.df4 == max(df_params_rf_n_est.df4)]['df4']),\n",
        "}\n",
        "\n",
        "best_scores_rf_min_samples_leaf = {\n",
        "    'df1' : float(max(df_params_rf_msl.loc[df_params_rf_msl.df1 == max(df_params_rf_msl.df1)]['df1'])),\n",
        "    'df2' : float(df_params_rf_msl.loc[df_params_rf_msl.df2 == max(df_params_rf_msl.df2)]['df2']),\n",
        "    'df3' : float(df_params_rf_msl.loc[df_params_rf_msl.df3 == max(df_params_rf_msl.df3)]['df3']),\n",
        "    'df4' : float(df_params_rf_msl.loc[df_params_rf_msl.df4 == max(df_params_rf_msl.df4)]['df4']),\n",
        "}\n",
        "\n",
        "best_scores_rf_min_samples_split = {\n",
        "    'df1' : float(max(df_params_rf_mss.loc[df_params_rf_mss.df1 == max(df_params_rf_mss.df1)]['df1'])),\n",
        "    'df2' : float(df_params_rf_mss.loc[df_params_rf_mss.df2 == max(df_params_rf_mss.df2)]['df2']),\n",
        "    'df3' : float(df_params_rf_mss.loc[df_params_rf_mss.df3 == max(df_params_rf_mss.df3)]['df3']),\n",
        "    'df4' : float(df_params_rf_mss.loc[df_params_rf_mss.df4 == max(df_params_rf_mss.df4)]['df4']),\n",
        "}"
      ]
    },
    {
      "cell_type": "code",
      "execution_count": 59,
      "metadata": {},
      "outputs": [],
      "source": [
        "scores_bo_rf = {\n",
        "    'df1' : bayes_optimizer_rf.get('df1')[-1],\n",
        "    'df2' : bayes_optimizer_rf.get('df2')[-1],\n",
        "    'df3' : bayes_optimizer_rf.get('df3')[-1],\n",
        "    'df4' : bayes_optimizer_rf.get('df4')[-1],\n",
        "}"
      ]
    },
    {
      "cell_type": "code",
      "execution_count": 239,
      "metadata": {},
      "outputs": [
        {
          "data": {
            "text/html": [
              "<div>\n",
              "<style scoped>\n",
              "    .dataframe tbody tr th:only-of-type {\n",
              "        vertical-align: middle;\n",
              "    }\n",
              "\n",
              "    .dataframe tbody tr th {\n",
              "        vertical-align: top;\n",
              "    }\n",
              "\n",
              "    .dataframe thead th {\n",
              "        text-align: right;\n",
              "    }\n",
              "</style>\n",
              "<table border=\"1\" class=\"dataframe\">\n",
              "  <thead>\n",
              "    <tr style=\"text-align: right;\">\n",
              "      <th></th>\n",
              "      <th>n_estimators</th>\n",
              "      <th>min_samples_leaf</th>\n",
              "      <th>min_samples_split</th>\n",
              "      <th>df1</th>\n",
              "      <th>df2</th>\n",
              "      <th>df3</th>\n",
              "      <th>df4</th>\n",
              "      <th>mean_score</th>\n",
              "    </tr>\n",
              "  </thead>\n",
              "  <tbody>\n",
              "    <tr>\n",
              "      <th>0</th>\n",
              "      <td>1785</td>\n",
              "      <td>66</td>\n",
              "      <td>40</td>\n",
              "      <td>0.493558</td>\n",
              "      <td>0.387743</td>\n",
              "      <td>0.369375</td>\n",
              "      <td>0.370518</td>\n",
              "      <td>0.405299</td>\n",
              "    </tr>\n",
              "    <tr>\n",
              "      <th>1</th>\n",
              "      <td>1984</td>\n",
              "      <td>66</td>\n",
              "      <td>40</td>\n",
              "      <td>0.493880</td>\n",
              "      <td>0.394916</td>\n",
              "      <td>0.366875</td>\n",
              "      <td>0.359123</td>\n",
              "      <td>0.403698</td>\n",
              "    </tr>\n",
              "    <tr>\n",
              "      <th>2</th>\n",
              "      <td>1753</td>\n",
              "      <td>66</td>\n",
              "      <td>40</td>\n",
              "      <td>0.492908</td>\n",
              "      <td>0.383821</td>\n",
              "      <td>0.368125</td>\n",
              "      <td>0.368879</td>\n",
              "      <td>0.403433</td>\n",
              "    </tr>\n",
              "    <tr>\n",
              "      <th>3</th>\n",
              "      <td>259</td>\n",
              "      <td>66</td>\n",
              "      <td>40</td>\n",
              "      <td>0.494202</td>\n",
              "      <td>0.389691</td>\n",
              "      <td>0.358125</td>\n",
              "      <td>0.373764</td>\n",
              "      <td>0.403945</td>\n",
              "    </tr>\n",
              "    <tr>\n",
              "      <th>4</th>\n",
              "      <td>571</td>\n",
              "      <td>66</td>\n",
              "      <td>40</td>\n",
              "      <td>0.493235</td>\n",
              "      <td>0.392276</td>\n",
              "      <td>0.365000</td>\n",
              "      <td>0.368093</td>\n",
              "      <td>0.404651</td>\n",
              "    </tr>\n",
              "  </tbody>\n",
              "</table>\n",
              "</div>"
            ],
            "text/plain": [
              "  n_estimators min_samples_leaf min_samples_split       df1       df2  \\\n",
              "0         1785               66                40  0.493558  0.387743   \n",
              "1         1984               66                40  0.493880  0.394916   \n",
              "2         1753               66                40  0.492908  0.383821   \n",
              "3          259               66                40  0.494202  0.389691   \n",
              "4          571               66                40  0.493235  0.392276   \n",
              "\n",
              "        df3       df4  mean_score  \n",
              "0  0.369375  0.370518    0.405299  \n",
              "1  0.366875  0.359123    0.403698  \n",
              "2  0.368125  0.368879    0.403433  \n",
              "3  0.358125  0.373764    0.403945  \n",
              "4  0.365000  0.368093    0.404651  "
            ]
          },
          "execution_count": 239,
          "metadata": {},
          "output_type": "execute_result"
        }
      ],
      "source": [
        "df_params_rf_n_est_bo.head(5)"
      ]
    },
    {
      "cell_type": "code",
      "execution_count": 251,
      "metadata": {},
      "outputs": [],
      "source": [
        "best_score_bo_n_est = {\n",
        "    'df1': df_params_rf_n_est_bo[df_params_rf_n_est_bo['df1'] == max(df_params_rf_n_est_bo['df1'])]['df1'].values[0],\n",
        "    'df2': df_params_rf_n_est_bo[df_params_rf_n_est_bo['df2'] == max(df_params_rf_n_est_bo['df2'])]['df2'].values[0],\n",
        "    'df3': df_params_rf_n_est_bo[df_params_rf_n_est_bo['df3'] == max(df_params_rf_n_est_bo['df3'])]['df3'].values[0],\n",
        "    'df4': df_params_rf_n_est_bo[df_params_rf_n_est_bo['df4'] == max(df_params_rf_n_est_bo['df4'])]['df4'].values[0],\n",
        "}"
      ]
    },
    {
      "cell_type": "code",
      "execution_count": 255,
      "metadata": {},
      "outputs": [],
      "source": [
        "best_score_bo_min_samples_leaf = {\n",
        "    'df1': df_params_rf_msl_bo[df_params_rf_msl_bo['df1'] == max(df_params_rf_msl_bo['df1'])]['df1'].values[0],\n",
        "    'df2': df_params_rf_msl_bo[df_params_rf_msl_bo['df2'] == max(df_params_rf_msl_bo['df2'])]['df2'].values[0],\n",
        "    'df3': df_params_rf_msl_bo[df_params_rf_msl_bo['df3'] == max(df_params_rf_msl_bo['df3'])]['df3'].values[0],\n",
        "    'df4': df_params_rf_msl_bo[df_params_rf_msl_bo['df4'] == max(df_params_rf_msl_bo['df4'])]['df4'].values[0],\n",
        "}"
      ]
    },
    {
      "cell_type": "code",
      "execution_count": 256,
      "metadata": {},
      "outputs": [],
      "source": [
        "best_score_bo_min_samples_split = {\n",
        "    'df1': df_params_rf_mss_bo[df_params_rf_mss_bo['df1'] == max(df_params_rf_mss_bo['df1'])]['df1'].values[0],\n",
        "    'df2': df_params_rf_mss_bo[df_params_rf_mss_bo['df2'] == max(df_params_rf_mss_bo['df2'])]['df2'].values[0],\n",
        "    'df3': df_params_rf_mss_bo[df_params_rf_mss_bo['df3'] == max(df_params_rf_mss_bo['df3'])]['df3'].values[0],\n",
        "    'df4': df_params_rf_mss_bo[df_params_rf_mss_bo['df4'] == max(df_params_rf_mss_bo['df4'])]['df4'].values[0],\n",
        "}"
      ]
    },
    {
      "cell_type": "code",
      "execution_count": 62,
      "metadata": {},
      "outputs": [
        {
          "data": {
            "text/plain": [
              "0.009325525912549537"
            ]
          },
          "execution_count": 62,
          "metadata": {},
          "output_type": "execute_result"
        }
      ],
      "source": [
        "calc_tunability(best_scores_rf_n_estimators, best_scores_default_rf)"
      ]
    },
    {
      "cell_type": "code",
      "execution_count": 63,
      "metadata": {},
      "outputs": [
        {
          "data": {
            "text/plain": [
              "0.006817214334802299"
            ]
          },
          "execution_count": 63,
          "metadata": {},
          "output_type": "execute_result"
        }
      ],
      "source": [
        "calc_tunability(best_scores_rf_min_samples_leaf, best_scores_default_rf)"
      ]
    },
    {
      "cell_type": "code",
      "execution_count": 64,
      "metadata": {},
      "outputs": [
        {
          "data": {
            "text/plain": [
              "0.007173714493650729"
            ]
          },
          "execution_count": 64,
          "metadata": {},
          "output_type": "execute_result"
        }
      ],
      "source": [
        "calc_tunability(best_scores_rf_min_samples_split, best_scores_default_rf)"
      ]
    },
    {
      "cell_type": "code",
      "execution_count": 254,
      "metadata": {},
      "outputs": [
        {
          "data": {
            "text/plain": [
              "-0.4659667170716429"
            ]
          },
          "execution_count": 254,
          "metadata": {},
          "output_type": "execute_result"
        }
      ],
      "source": [
        "calc_tunability(best_score_bo_n_est, scores_bo_rf)"
      ]
    },
    {
      "cell_type": "code",
      "execution_count": 257,
      "metadata": {},
      "outputs": [
        {
          "data": {
            "text/plain": [
              "-0.4826682684169246"
            ]
          },
          "execution_count": 257,
          "metadata": {},
          "output_type": "execute_result"
        }
      ],
      "source": [
        "calc_tunability(best_score_bo_min_samples_leaf, scores_bo_rf)"
      ]
    },
    {
      "cell_type": "code",
      "execution_count": 258,
      "metadata": {},
      "outputs": [
        {
          "data": {
            "text/plain": [
              "-0.4868478629421145"
            ]
          },
          "execution_count": 258,
          "metadata": {},
          "output_type": "execute_result"
        }
      ],
      "source": [
        "calc_tunability(best_score_bo_min_samples_split, scores_bo_rf)"
      ]
    },
    {
      "cell_type": "code",
      "execution_count": 264,
      "metadata": {},
      "outputs": [
        {
          "data": {
            "image/png": "[encoded data removed]",
            "text/plain": [
              "<Figure size 640x480 with 1 Axes>"
            ]
          },
          "metadata": {},
          "output_type": "display_data"
        }
      ],
      "source": [
        "plt.boxplot([df_params_rf_n_est['mean_score'],\n",
        "             df_params_rf_msl['mean_score'],\n",
        "             df_params_rf_mss['mean_score']],\n",
        "             labels=['n_estimators', 'min_samples_leaf', 'min_samples_split'],\n",
        "             autorange=True)\n",
        "plt.xticks(rotation = 10)\n",
        "plt.title('Tunability hiperparametrów w lesie losowym (random search)')\n",
        "plt.show()"
      ]
    },
    {
      "cell_type": "code",
      "execution_count": 263,
      "metadata": {},
      "outputs": [
        {
          "data": {
            "image/png": "[encoded data removed]",
            "text/plain": [
              "<Figure size 640x480 with 1 Axes>"
            ]
          },
          "metadata": {},
          "output_type": "display_data"
        }
      ],
      "source": [
        "plt.boxplot([df_params_rf_n_est_bo['mean_score'],\n",
        "             df_params_rf_msl_bo['mean_score'],\n",
        "             df_params_rf_mss_bo['mean_score']],\n",
        "             labels=['n_estimators', 'min_samples_leaf', 'min_samples_split'],\n",
        "             autorange=True)\n",
        "plt.xticks(rotation = 10)\n",
        "plt.title('Tunability hiperparametrów w lesie losowym (bayesian optimizer)')\n",
        "plt.show()"
      ]
    }
  ],
  "metadata": {
    "colab": {
      "provenance": []
    },
    "kernelspec": {
      "display_name": "Python 3",
      "name": "python3"
    },
    "language_info": {
      "codemirror_mode": {
        "name": "ipython",
        "version": 3
      },
      "file_extension": ".py",
      "mimetype": "text/x-python",
      "name": "python",
      "nbconvert_exporter": "python",
      "pygments_lexer": "ipython3",
      "version": "3.11.2"
    }
  },
  "nbformat": 4,
  "nbformat_minor": 0
}
