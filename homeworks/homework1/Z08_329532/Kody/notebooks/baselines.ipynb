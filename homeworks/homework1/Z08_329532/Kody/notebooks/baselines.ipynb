{
 "cells": [
  {
   "cell_type": "code",
   "execution_count": 3,
   "metadata": {},
   "outputs": [],
   "source": [
    "import autorootcwd"
   ]
  },
  {
   "cell_type": "code",
   "execution_count": 4,
   "metadata": {},
   "outputs": [],
   "source": [
    "# Import necessary libraries\n",
    "import numpy as np\n",
    "import pandas as pd\n",
    "from sklearn.datasets import load_iris, load_digits, load_wine, load_breast_cancer\n",
    "from sklearn.model_selection import RandomizedSearchCV\n",
    "from sklearn.ensemble import RandomForestClassifier\n",
    "from sklearn.neighbors import KNeighborsClassifier\n",
    "from xgboost import XGBClassifier\n",
    "\n",
    "# Load Datasets\n",
    "datasets = {\n",
    "    'iris': load_iris(return_X_y=True),\n",
    "    'digits': load_digits(return_X_y=True),\n",
    "    'wine': load_wine(return_X_y=True),\n",
    "    'breast_cancer': load_breast_cancer(return_X_y=True)\n",
    "}\n",
    "\n",
    "# Define models with default hyperparameters\n",
    "models = {\n",
    "    'KNN': {\n",
    "        'model': KNeighborsClassifier(),\n",
    "        'params': {}\n",
    "    },\n",
    "    'RandomForest': {\n",
    "        'model': RandomForestClassifier(),\n",
    "        'params': {}\n",
    "    },\n",
    "    'XGBoost': {\n",
    "        'model': XGBClassifier(),\n",
    "        'params': {}\n",
    "    }\n",
    "}\n",
    "\n",
    "# Compute results for default hyperparameters\n",
    "results = []\n",
    "for dataset_name, data in datasets.items():\n",
    "    X, y = data\n",
    "    for algorithm_name, algo in models.items():\n",
    "        clf = RandomizedSearchCV(algo['model'], algo['params'], n_iter=1, cv=5, random_state=42, scoring='accuracy')\n",
    "        clf.fit(X, y)\n",
    "        best_result = {\n",
    "            'dataset': dataset_name,\n",
    "            'model': algorithm_name,\n",
    "            'score': round(clf.best_score_, 4),\n",
    "            'hyperparameters': clf.best_params_\n",
    "        }\n",
    "        results.append(best_result)\n",
    "\n",
    "# Convert the results to a DataFrame\n",
    "df_results = pd.DataFrame(results)\n",
    "\n",
    "# Save results to a csv file\n",
    "df_results.to_csv('Wyniki/baselines.csv', index=False)\n"
   ]
  },
  {
   "cell_type": "code",
   "execution_count": null,
   "metadata": {},
   "outputs": [],
   "source": []
  }
 ],
 "metadata": {
  "kernelspec": {
   "display_name": "automl",
   "language": "python",
   "name": "python3"
  },
  "language_info": {
   "codemirror_mode": {
    "name": "ipython",
    "version": 3
   },
   "file_extension": ".py",
   "mimetype": "text/x-python",
   "name": "python",
   "nbconvert_exporter": "python",
   "pygments_lexer": "ipython3",
   "version": "3.9.18"
  }
 },
 "nbformat": 4,
 "nbformat_minor": 2
}
